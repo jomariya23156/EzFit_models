{
 "cells": [
  {
   "cell_type": "code",
   "execution_count": 1,
   "id": "cddd11f1",
   "metadata": {
    "ExecuteTime": {
     "end_time": "2022-04-07T07:07:44.523935Z",
     "start_time": "2022-04-07T07:07:43.362220Z"
    }
   },
   "outputs": [],
   "source": [
    "import mediapipe as mp\n",
    "import cv2\n",
    "import numpy as np\n",
    "import pandas as pd\n",
    "import csv\n",
    "import os\n",
    "import pickle\n",
    "from pathlib import Path\n",
    "from tqdm import tqdm\n",
    "from PIL import ImageOps, Image"
   ]
  },
  {
   "cell_type": "code",
   "execution_count": 11,
   "id": "bedc2231",
   "metadata": {
    "ExecuteTime": {
     "end_time": "2022-04-07T07:07:44.538935Z",
     "start_time": "2022-04-07T07:07:44.525937Z"
    }
   },
   "outputs": [],
   "source": [
    "mp_drawing = mp.solutions.drawing_utils\n",
    "mp_holistic = mp.solutions.holistic\n",
    "mp_pose = mp.solutions.pose"
   ]
  },
  {
   "cell_type": "code",
   "execution_count": 82,
   "id": "33c3dc0a-f851-43ba-ae83-44cd67d36e88",
   "metadata": {},
   "outputs": [],
   "source": [
    "EXERCISE = 'half-burpee'\n",
    "FROM_CLASS = 'in'\n",
    "seq_len = 16\n",
    "seq_shape = [seq_len, 99]"
   ]
  },
  {
   "cell_type": "markdown",
   "id": "4987ddbf",
   "metadata": {},
   "source": [
    "## Old way\n",
    "Seq level"
   ]
  },
  {
   "cell_type": "code",
   "execution_count": 30,
   "id": "68a7d7d6-c617-4274-a1e3-6648ca12320f",
   "metadata": {},
   "outputs": [],
   "source": [
    "# target_seq = 3106\n",
    "# target_vid = 216"
   ]
  },
  {
   "cell_type": "code",
   "execution_count": 31,
   "id": "779d63f8",
   "metadata": {
    "ExecuteTime": {
     "end_time": "2022-04-07T07:07:44.570937Z",
     "start_time": "2022-04-07T07:07:44.541937Z"
    },
    "scrolled": true,
    "tags": []
   },
   "outputs": [],
   "source": [
    "# image_dirs = ['/home/u6188041/jom/Dataset/EzFit_dataset/images/pushup/pushup-up']\n",
    "# accepted_exts = ('.jpg', '.jpeg','.png')\n",
    "# all_file_paths = []\n",
    "# for image_dir in image_dirs:\n",
    "#     for path, subdir, files in os.walk(image_dir):\n",
    "#         # for file in sorted(files, key=lambda x: int(x.split('_')[0])):\n",
    "#         for file in files:\n",
    "#             if file.lower().endswith(accepted_exts):\n",
    "#                 full_path = os.path.join(path, file)\n",
    "#                 print(full_path)\n",
    "#                 all_file_paths.append(full_path)"
   ]
  },
  {
   "cell_type": "code",
   "execution_count": 6,
   "id": "ed1a619a-094d-430d-9822-6c106439f45c",
   "metadata": {},
   "outputs": [],
   "source": [
    "# import random"
   ]
  },
  {
   "cell_type": "code",
   "execution_count": 7,
   "id": "46781c28-8d90-4a8d-ab80-d57580683130",
   "metadata": {},
   "outputs": [],
   "source": [
    "# random.shuffle(all_file_paths)"
   ]
  },
  {
   "cell_type": "code",
   "execution_count": 8,
   "id": "0a72ce19",
   "metadata": {
    "ExecuteTime": {
     "end_time": "2022-04-07T07:07:44.831937Z",
     "start_time": "2022-04-07T07:07:44.817938Z"
    }
   },
   "outputs": [],
   "source": [
    "# len(all_file_paths)"
   ]
  },
  {
   "cell_type": "markdown",
   "id": "1047eeec",
   "metadata": {},
   "source": [
    "## Extract keypoints from path"
   ]
  },
  {
   "cell_type": "code",
   "execution_count": 9,
   "id": "07b20bb4",
   "metadata": {
    "ExecuteTime": {
     "end_time": "2022-04-07T07:09:29.775989Z",
     "start_time": "2022-04-07T07:07:52.371487Z"
    },
    "tags": []
   },
   "outputs": [],
   "source": [
    "# SEQ_LEN = 8\n",
    "# data = []\n",
    "# names = []\n",
    "# error_files = []\n",
    "# for image_path in tqdm(all_file_paths):\n",
    "#     image = cv2.imread(image_path)\n",
    "#     name_with_ext = image_path.split(os.path.sep)[-1]\n",
    "#     name = name_with_ext[:name_with_ext.rfind('.')]\n",
    "#     with mp_pose.Pose(min_detection_confidence = 0.5, min_tracking_confidence = 0.5) as pose:\n",
    "#         with mp_pose.Pose(min_detection_confidence = 0.5, min_tracking_confidence = 0.5) as pose2:\n",
    "#             results = pose.process(image)\n",
    "\n",
    "#             try:\n",
    "#                 pose_coor = results.pose_landmarks.landmark\n",
    "#                 # no need z here\n",
    "#                 body_kps = np.array([[landmark.x, landmark.y, landmark.visibility] for landmark in pose_coor]).flatten()\n",
    "#                 stacked_kps = np.tile(body_kps, (SEQ_LEN, 1))\n",
    "#                 data.append(stacked_kps)\n",
    "#                 names.append(name)\n",
    "\n",
    "#             except:\n",
    "#                 error_files.append(image_path)\n",
    "                \n",
    "#             # augment flip horizontal\n",
    "#             flipped_image = np.flip(image, axis=1)   \n",
    "#             aug_results = pose2.process(flipped_image)\n",
    "            \n",
    "#             try:\n",
    "#                 pose_coor = aug_results.pose_landmarks.landmark\n",
    "#                 # no need z here\n",
    "#                 body_kps = np.array([[landmark.x, landmark.y, landmark.visibility] for landmark in pose_coor]).flatten()\n",
    "#                 stacked_kps = np.tile(body_kps, (SEQ_LEN, 1))\n",
    "#                 data.append(stacked_kps)\n",
    "#                 names.append(name+'_aug')\n",
    "\n",
    "#             except:\n",
    "#                 error_files.append(image_path+'_aug')"
   ]
  },
  {
   "cell_type": "code",
   "execution_count": 10,
   "id": "d892a918",
   "metadata": {
    "ExecuteTime": {
     "end_time": "2022-04-07T07:09:29.791990Z",
     "start_time": "2022-04-07T07:09:29.777990Z"
    },
    "scrolled": true,
    "tags": []
   },
   "outputs": [],
   "source": [
    "# error_files"
   ]
  },
  {
   "cell_type": "code",
   "execution_count": 11,
   "id": "0390a5fb",
   "metadata": {
    "ExecuteTime": {
     "end_time": "2022-04-07T07:09:29.807990Z",
     "start_time": "2022-04-07T07:09:29.793989Z"
    }
   },
   "outputs": [],
   "source": [
    "# data = np.array(data)\n",
    "# data.shape"
   ]
  },
  {
   "cell_type": "code",
   "execution_count": 12,
   "id": "56e986b1-9004-4343-81e2-fff80515903b",
   "metadata": {},
   "outputs": [],
   "source": [
    "# og_len = len(names)\n",
    "# og_len"
   ]
  },
  {
   "cell_type": "code",
   "execution_count": 13,
   "id": "ab34e79e",
   "metadata": {
    "ExecuteTime": {
     "end_time": "2022-04-07T07:09:44.125723Z",
     "start_time": "2022-04-07T07:09:44.114712Z"
    }
   },
   "outputs": [],
   "source": [
    "# target_seq / og_len"
   ]
  },
  {
   "cell_type": "code",
   "execution_count": 14,
   "id": "7108d9db",
   "metadata": {
    "ExecuteTime": {
     "end_time": "2022-04-07T07:09:56.842501Z",
     "start_time": "2022-04-07T07:09:56.831503Z"
    }
   },
   "outputs": [],
   "source": [
    "# # stack data more\n",
    "# STACK_MORE = 4\n",
    "# stacked_names = names*STACK_MORE\n",
    "# stacked_data = np.tile(data, (STACK_MORE, 1, 1))\n",
    "# stacked_data.shape"
   ]
  },
  {
   "cell_type": "code",
   "execution_count": 15,
   "id": "92f2eb85-52e9-4f43-8561-161efe91f42a",
   "metadata": {
    "tags": []
   },
   "outputs": [],
   "source": [
    "# stacked_names"
   ]
  },
  {
   "cell_type": "code",
   "execution_count": 16,
   "id": "0b6d1d95",
   "metadata": {
    "ExecuteTime": {
     "end_time": "2022-04-07T07:10:04.836818Z",
     "start_time": "2022-04-07T07:10:04.826818Z"
    },
    "scrolled": true,
    "tags": []
   },
   "outputs": [],
   "source": [
    "# stacked_data = stacked_data.reshape((-1, 8, 99))\n",
    "# stacked_data"
   ]
  },
  {
   "cell_type": "code",
   "execution_count": 17,
   "id": "18bb6ca9",
   "metadata": {
    "ExecuteTime": {
     "end_time": "2022-04-07T07:10:07.829609Z",
     "start_time": "2022-04-07T07:10:07.819574Z"
    }
   },
   "outputs": [],
   "source": [
    "# stacked_data.shape"
   ]
  },
  {
   "cell_type": "code",
   "execution_count": 18,
   "id": "80f69225",
   "metadata": {
    "ExecuteTime": {
     "end_time": "2022-04-07T07:10:48.629346Z",
     "start_time": "2022-04-07T07:10:48.612345Z"
    }
   },
   "outputs": [],
   "source": [
    "# np.min(stacked_data), np.mean(stacked_data),np.max(stacked_data)"
   ]
  },
  {
   "cell_type": "markdown",
   "id": "ae9483cd-ef6d-4e81-96ab-cf551551d3e5",
   "metadata": {},
   "source": [
    "# New way"
   ]
  },
  {
   "cell_type": "code",
   "execution_count": 83,
   "id": "9d0a8786-1f5c-4cf4-b244-0bb67fb1ec84",
   "metadata": {},
   "outputs": [],
   "source": [
    "# get all paths and count\n",
    "main_dir = Path(f'/home/u6188041/jom/Dataset/EzFit_dataset/keypoints_seq/len_{seq_len}/{EXERCISE}/{EXERCISE}-{FROM_CLASS}')\n",
    "accepted_exts = ('.npy')\n",
    "all_file_paths = []\n",
    "for path, subdir, files in os.walk(main_dir):\n",
    "    for file in files:\n",
    "        if file.lower().endswith(accepted_exts):\n",
    "            full_path = os.path.join(path, file)\n",
    "            all_file_paths.append(full_path)"
   ]
  },
  {
   "cell_type": "code",
   "execution_count": 84,
   "id": "017cc139-6399-47f6-89b5-293b60825071",
   "metadata": {},
   "outputs": [
    {
     "data": {
      "text/plain": [
       "625"
      ]
     },
     "execution_count": 84,
     "metadata": {},
     "output_type": "execute_result"
    }
   ],
   "source": [
    "amt = len(all_file_paths)\n",
    "# amt = stacked_data.shape[0]\n",
    "amt"
   ]
  },
  {
   "cell_type": "code",
   "execution_count": 85,
   "id": "b8237c99",
   "metadata": {
    "ExecuteTime": {
     "end_time": "2022-04-07T07:10:49.060970Z",
     "start_time": "2022-04-07T07:10:49.006910Z"
    }
   },
   "outputs": [
    {
     "data": {
      "text/plain": [
       "(625, 16, 99)"
      ]
     },
     "execution_count": 85,
     "metadata": {},
     "output_type": "execute_result"
    }
   ],
   "source": [
    "np.random.seed(42)\n",
    "noise = np.random.normal(scale=0.01, size=[amt]+seq_shape)\n",
    "noise.shape"
   ]
  },
  {
   "cell_type": "code",
   "execution_count": 86,
   "id": "2f0738f5",
   "metadata": {
    "ExecuteTime": {
     "end_time": "2022-04-07T07:10:58.501316Z",
     "start_time": "2022-04-07T07:10:58.483285Z"
    }
   },
   "outputs": [
    {
     "data": {
      "text/plain": [
       "(-0.04829436008511157, -1.5499738110986524e-05, 0.04678949100376724)"
      ]
     },
     "execution_count": 86,
     "metadata": {},
     "output_type": "execute_result"
    }
   ],
   "source": [
    "noise.min(), noise.mean(), noise.max()"
   ]
  },
  {
   "cell_type": "code",
   "execution_count": 44,
   "id": "a8154a1f",
   "metadata": {
    "ExecuteTime": {
     "end_time": "2022-04-07T07:10:58.702542Z",
     "start_time": "2022-04-07T07:10:58.683543Z"
    }
   },
   "outputs": [],
   "source": [
    "## OLD\n",
    "# noisy_stacked_data = stacked_data + noise"
   ]
  },
  {
   "cell_type": "code",
   "execution_count": 24,
   "id": "4a2cfd66",
   "metadata": {
    "ExecuteTime": {
     "end_time": "2022-04-07T07:10:58.936544Z",
     "start_time": "2022-04-07T07:10:58.918571Z"
    }
   },
   "outputs": [],
   "source": [
    "# noisy_stacked_data.min(), noisy_stacked_data.mean(),noisy_stacked_data.max()"
   ]
  },
  {
   "cell_type": "code",
   "execution_count": 25,
   "id": "076bccd7",
   "metadata": {
    "ExecuteTime": {
     "end_time": "2022-04-07T07:11:31.138045Z",
     "start_time": "2022-04-07T07:11:31.128072Z"
    }
   },
   "outputs": [],
   "source": [
    "# np.save('saved_data/new_pushup_idle_class_len_8', noisy_stacked_data)"
   ]
  },
  {
   "cell_type": "code",
   "execution_count": 26,
   "id": "1f46dedc-6f09-4162-983b-65ca2aa22a86",
   "metadata": {
    "tags": []
   },
   "outputs": [],
   "source": [
    "# test\n",
    "# subfiles = sorted(os.listdir(main_dir/'28_3'), key=lambda x: int(x[:x.rfind('.')].split('_')[-1]))\n",
    "# subfiles"
   ]
  },
  {
   "cell_type": "code",
   "execution_count": 87,
   "id": "be050998-9236-40be-a23f-dff3ff79f1fe",
   "metadata": {
    "collapsed": true,
    "jupyter": {
     "outputs_hidden": true
    },
    "tags": []
   },
   "outputs": [
    {
     "name": "stderr",
     "output_type": "stream",
     "text": [
      "100%|███████████████████████████████████████████████████████████████████████████████| 112/112 [00:00<00:00, 1152.08it/s]"
     ]
    },
    {
     "name": "stdout",
     "output_type": "stream",
     "text": [
      "[IGNORED] Empty dir: 19_2\n",
      "[IGNORED] Empty dir: 98_2\n",
      "[IGNORED] Empty dir: 38_2\n",
      "[IGNORED] Empty dir: 100_4\n",
      "[IGNORED] Empty dir: 21_2\n",
      "[IGNORED] Empty dir: 74_2\n",
      "[IGNORED] Empty dir: 17_2\n",
      "[IGNORED] Empty dir: 10_2\n",
      "[IGNORED] Empty dir: 4_2\n",
      "[IGNORED] Empty dir: 26_2\n",
      "[IGNORED] Empty dir: 89_2\n",
      "[IGNORED] Empty dir: 53_2\n",
      "[IGNORED] Empty dir: 65_2\n",
      "[IGNORED] Empty dir: 30_2\n",
      "[IGNORED] Empty dir: 103_2\n",
      "[IGNORED] Empty dir: 68_2\n",
      "[IGNORED] Empty dir: 66_2\n",
      "[IGNORED] Empty dir: 11_2\n",
      "[IGNORED] Empty dir: 101_4\n",
      "[IGNORED] Empty dir: 111_2\n",
      "[IGNORED] Empty dir: 77_2\n",
      "[IGNORED] Empty dir: 14_2\n",
      "[IGNORED] Empty dir: 101_2\n",
      "[IGNORED] Empty dir: 12_2\n",
      "[IGNORED] Empty dir: 23_2\n",
      "[IGNORED] Empty dir: 95_2\n",
      "[IGNORED] Empty dir: 61_2\n",
      "[IGNORED] Empty dir: 29_2\n",
      "[IGNORED] Empty dir: 10_4\n",
      "[IGNORED] Empty dir: 64_2\n",
      "[IGNORED] Empty dir: 87_4\n",
      "[IGNORED] Empty dir: 83_2\n",
      "[IGNORED] Empty dir: 31_4\n",
      "[IGNORED] Empty dir: 62_2\n",
      "[IGNORED] Empty dir: 113_2\n",
      "[IGNORED] Empty dir: 20_2\n",
      "[IGNORED] Empty dir: 70_2\n",
      "[IGNORED] Empty dir: 25_2\n",
      "[IGNORED] Empty dir: 48_2\n",
      "[IGNORED] Empty dir: 55_2\n",
      "[IGNORED] Empty dir: 10_6\n",
      "[IGNORED] Empty dir: 51_2\n",
      "[IGNORED] Empty dir: 18_2\n",
      "[IGNORED] Empty dir: 75_2\n",
      "[IGNORED] Empty dir: 106_2\n",
      "[IGNORED] Empty dir: 84_2\n",
      "[IGNORED] Empty dir: 73_2\n",
      "[IGNORED] Empty dir: 63_2\n",
      "[IGNORED] Empty dir: 107_2\n",
      "[IGNORED] Empty dir: 92_2\n",
      "[IGNORED] Empty dir: 102_2\n",
      "[IGNORED] Empty dir: 87_2\n",
      "[IGNORED] Empty dir: 37_2\n",
      "[IGNORED] Empty dir: 31_2\n",
      "[IGNORED] Empty dir: 8_2\n",
      "[IGNORED] Empty dir: 100_2\n",
      "[IGNORED] Empty dir: 40_2\n",
      "[IGNORED] Empty dir: 94_2\n",
      "[IGNORED] Empty dir: 57_2\n"
     ]
    },
    {
     "name": "stderr",
     "output_type": "stream",
     "text": [
      "\n"
     ]
    }
   ],
   "source": [
    "# Split Video based\n",
    "running_number = 0\n",
    "base_outdir = Path(f'/home/u6188041/jom/Dataset/EzFit_dataset/keypoints_seq/len_{seq_len}/{EXERCISE}/idle')\n",
    "for vid_name in tqdm(os.listdir(main_dir)):\n",
    "    # format of file .npy will be like 1_2_1.npy\n",
    "    subfiles = sorted(os.listdir(main_dir/vid_name), key=lambda x: int(x[:x.rfind('.')].split('_')[-1]))\n",
    "    number = len(subfiles)\n",
    "    try:\n",
    "        first = subfiles[0]\n",
    "    except:\n",
    "        print('[IGNORED] Empty dir:', vid_name)\n",
    "        continue\n",
    "    arr_first = np.load(main_dir/vid_name/first)[0]\n",
    "    arr_first = np.expand_dims(arr_first, axis=0)\n",
    "    arr_first = np.tile(arr_first, (seq_len, 1))\n",
    "    stacked_arr = np.tile(arr_first, (number, 1, 1))\n",
    "    assert stacked_arr.shape == tuple([number]+seq_shape), 'Invalid stacked shape'\n",
    "    save_dir = base_outdir / vid_name\n",
    "    save_dir.mkdir(parents=True, exist_ok=True)\n",
    "    for seq_num in range(number):\n",
    "        noisy_arr = stacked_arr[seq_num,:] + noise[running_number,:]\n",
    "        np.save(save_dir / (vid_name+'_'+str(seq_num)), noisy_arr)\n",
    "        running_number += 1"
   ]
  },
  {
   "cell_type": "code",
   "execution_count": 88,
   "id": "5f8b25d4-6ae8-45a3-9e27-d360aa49adf4",
   "metadata": {},
   "outputs": [
    {
     "data": {
      "text/plain": [
       "625"
      ]
     },
     "execution_count": 88,
     "metadata": {},
     "output_type": "execute_result"
    }
   ],
   "source": [
    "running_number"
   ]
  },
  {
   "cell_type": "markdown",
   "id": "f55feb50-2bab-4c1b-8864-7b6c3f676c4c",
   "metadata": {},
   "source": [
    "# BELOW IS OLD (DECPRECATED)"
   ]
  },
  {
   "cell_type": "markdown",
   "id": "44022a2d",
   "metadata": {
    "jp-MarkdownHeadingCollapsed": true,
    "tags": []
   },
   "source": [
    "# Save to .npy files"
   ]
  },
  {
   "cell_type": "code",
   "execution_count": 27,
   "id": "8502ea93",
   "metadata": {
    "ExecuteTime": {
     "end_time": "2022-04-07T07:11:31.907353Z",
     "start_time": "2022-04-07T07:11:31.886352Z"
    }
   },
   "outputs": [
    {
     "data": {
      "text/plain": [
       "(3220, 8, 99)"
      ]
     },
     "execution_count": 27,
     "metadata": {},
     "output_type": "execute_result"
    }
   ],
   "source": [
    "idle_data = np.load('saved_data/new_pushup_idle_class_len_8.npy')\n",
    "idle_data.shape"
   ]
  },
  {
   "cell_type": "code",
   "execution_count": 28,
   "id": "5a6b437d",
   "metadata": {
    "ExecuteTime": {
     "end_time": "2022-04-07T07:11:32.590114Z",
     "start_time": "2022-04-07T07:11:32.571115Z"
    }
   },
   "outputs": [
    {
     "data": {
      "text/plain": [
       "(8, 99)"
      ]
     },
     "execution_count": 28,
     "metadata": {},
     "output_type": "execute_result"
    }
   ],
   "source": [
    "idle_data[0,:].shape"
   ]
  },
  {
   "cell_type": "code",
   "execution_count": 29,
   "id": "a8dbf30e-e79e-4e2f-9751-5369b356917a",
   "metadata": {},
   "outputs": [
    {
     "data": {
      "text/plain": [
       "14.907407407407407"
      ]
     },
     "execution_count": 29,
     "metadata": {},
     "output_type": "execute_result"
    }
   ],
   "source": [
    "# result number to the next cell\n",
    "idle_data.shape[0] / target_vid"
   ]
  },
  {
   "cell_type": "code",
   "execution_count": 30,
   "id": "148a6ebc-3b5f-405e-b6fd-deea9cee4b06",
   "metadata": {},
   "outputs": [
    {
     "data": {
      "text/plain": [
       "214.66666666666666"
      ]
     },
     "execution_count": 30,
     "metadata": {},
     "output_type": "execute_result"
    }
   ],
   "source": [
    "# result number to the next cell\n",
    "idle_data.shape[0] / 15"
   ]
  },
  {
   "cell_type": "code",
   "execution_count": 31,
   "id": "3ba16525-9375-4058-b942-4e3509cc352d",
   "metadata": {},
   "outputs": [],
   "source": [
    "arr_split = np.array_split(idle_data, 215)"
   ]
  },
  {
   "cell_type": "code",
   "execution_count": 32,
   "id": "89ae36fb-c92d-48d4-a828-d5aad347c8bf",
   "metadata": {},
   "outputs": [
    {
     "data": {
      "text/plain": [
       "(215, (15, 8, 99))"
      ]
     },
     "execution_count": 32,
     "metadata": {},
     "output_type": "execute_result"
    }
   ],
   "source": [
    "len(arr_split), arr_split[0].shape"
   ]
  },
  {
   "cell_type": "markdown",
   "id": "295f58d9-49a7-4992-af45-398bc26c2ec8",
   "metadata": {
    "tags": []
   },
   "source": [
    "## Split vid level saving\n",
    "Just same amount of folder"
   ]
  },
  {
   "cell_type": "code",
   "execution_count": 33,
   "id": "920285eb-e1be-46ac-b507-bcdda22cefad",
   "metadata": {
    "tags": []
   },
   "outputs": [
    {
     "name": "stderr",
     "output_type": "stream",
     "text": [
      "215it [00:00, 489.16it/s]\n"
     ]
    }
   ],
   "source": [
    "# split vid level\n",
    "running_idx = 0\n",
    "r = 1\n",
    "per_dir = 15\n",
    "save_dir = Path('/home/u6188041/jom/Dataset/EzFit_dataset/keypoints_seq/len_8/pushup/idle')\n",
    "for out_idx, arr in tqdm(enumerate(arr_split)):\n",
    "    base_dir = save_dir / f'idle_{out_idx}'\n",
    "    if not base_dir.exists():\n",
    "        base_dir.mkdir(parents=True)\n",
    "    for i in range(arr.shape[0]):\n",
    "        save_name = base_dir / (stacked_names[running_idx] + f'_r{r}_{i}')\n",
    "        selected = arr[i,:]\n",
    "        np.save(save_name, selected)\n",
    "        running_idx += 1\n",
    "        if running_idx != 0 and running_idx % og_len == 0:\n",
    "            r += 1"
   ]
  },
  {
   "cell_type": "markdown",
   "id": "8dd3ffbf-b2d3-4b7c-87cc-0089a44efd76",
   "metadata": {
    "tags": []
   },
   "source": [
    "## Seq level saving"
   ]
  },
  {
   "cell_type": "code",
   "execution_count": 20,
   "id": "46ef5dda",
   "metadata": {
    "ExecuteTime": {
     "end_time": "2022-04-07T07:11:52.607166Z",
     "start_time": "2022-04-07T07:11:49.367504Z"
    }
   },
   "outputs": [
    {
     "name": "stderr",
     "output_type": "stream",
     "text": [
      "100%|█████████████████████████████████████████████████████████████████████████████| 1422/1422 [00:03<00:00, 440.29it/s]\n"
     ]
    }
   ],
   "source": [
    "# seq level\n",
    "save_dir = Path('D:/EzFit_dataset/keypoints_seq/len_8/half-burpee/idle')\n",
    "for idx in tqdm(range(idle_data.shape[0])):\n",
    "    base_dir = save_dir / str(idx)\n",
    "    if not base_dir.exists():\n",
    "        base_dir.mkdir(parents=True)\n",
    "    selected = idle_data[idx,:]\n",
    "    np.save(base_dir / f'idle_{idx}', selected)"
   ]
  },
  {
   "cell_type": "code",
   "execution_count": null,
   "id": "6ed1d502",
   "metadata": {},
   "outputs": [],
   "source": []
  }
 ],
 "metadata": {
  "kernelspec": {
   "display_name": "ezfit_tf2",
   "language": "python",
   "name": "ezfit_tf2"
  },
  "language_info": {
   "codemirror_mode": {
    "name": "ipython",
    "version": 3
   },
   "file_extension": ".py",
   "mimetype": "text/x-python",
   "name": "python",
   "nbconvert_exporter": "python",
   "pygments_lexer": "ipython3",
   "version": "3.9.4"
  }
 },
 "nbformat": 4,
 "nbformat_minor": 5
}
