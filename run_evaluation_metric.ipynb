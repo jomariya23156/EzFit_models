{
 "cells": [
  {
   "cell_type": "code",
   "execution_count": 1,
   "id": "d5e4ed93-543c-4a81-a88e-c51efce3c498",
   "metadata": {},
   "outputs": [
    {
     "name": "stderr",
     "output_type": "stream",
     "text": [
      "2022-06-14 14:22:05.666281: I tensorflow/stream_executor/platform/default/dso_loader.cc:53] Successfully opened dynamic library libcudart.so.11.0\n"
     ]
    }
   ],
   "source": [
    "import tensorflow as tf\n",
    "import numpy as np\n",
    "import pandas as pd\n",
    "import cv2\n",
    "import os\n",
    "import mediapipe as mp\n",
    "import pickle\n",
    "\n",
    "from collections import deque, Counter\n",
    "from tensorflow.keras.models import load_model"
   ]
  },
  {
   "cell_type": "markdown",
   "id": "088e3ca6-86d4-47a0-8589-17caa693b56b",
   "metadata": {},
   "source": [
    "## Metrics"
   ]
  },
  {
   "cell_type": "markdown",
   "id": "7bd0ebca-4f3c-476f-b074-31b6d127eb37",
   "metadata": {},
   "source": [
    "from: https://www.mdpi.com/2414-4088/5/9/55\n",
    "section 4.3.2 repetition counting  \n",
    "*OBO is\n",
    "above 99%, denoting that almost all the test samples are within +-1 of groundtruth.*"
   ]
  },
  {
   "cell_type": "code",
   "execution_count": 2,
   "id": "35047136-19e4-47be-ae76-6b5386fdda73",
   "metadata": {},
   "outputs": [],
   "source": [
    "def OBO(y_pred: int, y_true: int) -> int:\n",
    "    return int(y_pred >= y_true-1 and y_pred <= y_true+1)"
   ]
  },
  {
   "cell_type": "code",
   "execution_count": 3,
   "id": "583266da-3281-42c3-aa1e-d1fe2ef2cd9b",
   "metadata": {},
   "outputs": [
    {
     "data": {
      "text/plain": [
       "1"
      ]
     },
     "execution_count": 3,
     "metadata": {},
     "output_type": "execute_result"
    }
   ],
   "source": [
    "OBO(9,10)"
   ]
  },
  {
   "cell_type": "markdown",
   "id": "52364383-3a9f-4567-8ac4-1c3fe55982b0",
   "metadata": {},
   "source": [
    "## Custom Objects for ViViT"
   ]
  },
  {
   "cell_type": "code",
   "execution_count": 4,
   "id": "9cda96e1-0aff-45b9-a657-347468df833e",
   "metadata": {},
   "outputs": [],
   "source": [
    "from tensorflow.keras import layers"
   ]
  },
  {
   "cell_type": "code",
   "execution_count": 5,
   "id": "2107262c-8b56-4e61-9780-75591e3fe3db",
   "metadata": {},
   "outputs": [],
   "source": [
    "class PositionalEncoder(layers.Layer):\n",
    "    def __init__(self, embed_dim, **kwargs):\n",
    "        super().__init__(**kwargs)\n",
    "        self.embed_dim = embed_dim\n",
    "        \n",
    "    def build(self, input_shape):\n",
    "        _, num_tokens, _ = input_shape\n",
    "        self.position_embedding = layers.Embedding(\n",
    "            input_dim=num_tokens, output_dim=self.embed_dim\n",
    "        )\n",
    "        self.positions = tf.range(start=0, limit=num_tokens, delta=1)\n",
    "        \n",
    "    def call(self, encoded_tokens):\n",
    "        # Encode the positions and add it to the encoded tokens\n",
    "        encoded_positions = self.position_embedding(self.positions)\n",
    "        encoded_tokens = encoded_tokens + encoded_positions\n",
    "        return encoded_tokens\n",
    "    \n",
    "    def get_config(self):\n",
    "        config = super().get_config()\n",
    "        config.update({\n",
    "            'embed_dim': self.embed_dim,\n",
    "        })\n",
    "        return config"
   ]
  },
  {
   "cell_type": "code",
   "execution_count": 6,
   "id": "9fb3854c-8c7a-4ab9-83ea-db197ad49826",
   "metadata": {},
   "outputs": [],
   "source": [
    "class TubeletEmbedding(layers.Layer):\n",
    "    def __init__(self, embed_dim, patch_size, **kwargs):\n",
    "        super().__init__(**kwargs)\n",
    "        self.embed_dim = embed_dim\n",
    "        self.patch_size = patch_size\n",
    "        self.projection = layers.Conv3D(\n",
    "            filters=embed_dim,\n",
    "            kernel_size=patch_size,\n",
    "            strides=patch_size,\n",
    "            padding='VALID'\n",
    "        )\n",
    "        self.flatten = layers.Reshape(target_shape=(-1, embed_dim))\n",
    "        \n",
    "    def call(self, videos):\n",
    "        projected_patches = self.projection(videos)\n",
    "        flattened_patches = self.flatten(projected_patches)\n",
    "        return flattened_patches\n",
    "    \n",
    "    def get_config(self):\n",
    "        config = super().get_config()\n",
    "        config.update({\n",
    "            'embed_dim': self.embed_dim,\n",
    "            'patch_size': self.patch_size,\n",
    "        })\n",
    "        return config"
   ]
  },
  {
   "cell_type": "markdown",
   "id": "851d63af-3ad9-4e11-bef6-b358a3f73127",
   "metadata": {},
   "source": [
    "# Classification"
   ]
  },
  {
   "cell_type": "code",
   "execution_count": 91,
   "id": "f1c60eb3-1d67-449b-b1f1-97393719184a",
   "metadata": {},
   "outputs": [],
   "source": [
    "# config\n",
    "ROUND_MAPPING = {\n",
    "    'pushup': 8,\n",
    "    'squat': 6,\n",
    "    'jumping-jack': 4,\n",
    "    'leg-raise': 3,\n",
    "    'half-burpee': 3,\n",
    "}\n",
    "EXERCISE = 'half-burpee'\n",
    "DS_TYPE = 'keypoints_seq'\n",
    "SEQ_LEN = 8\n",
    "# test_walk_dir = f'/data1-6tb/jom/Dataset/EzFit_dataset/test/{DS_TYPE}/len_{SEQ_LEN}/{EXERCISE}'\n",
    "label_file = f'/data1-6tb/jom/Dataset/EzFit_dataset/labels/test/{DS_TYPE}/len_{SEQ_LEN}/{EXERCISE}_full_cls_label.csv'\n",
    "output_dir = f'/data1-6tb/jom/Dataset/EzFit_dataset/outputs/test/{DS_TYPE}/len_{SEQ_LEN}'\n",
    "ds_base_dir = f'/data1-6tb/jom/Dataset/EzFit_dataset/test'"
   ]
  },
  {
   "cell_type": "code",
   "execution_count": 92,
   "id": "9d044cb0-9330-4428-b44e-c4db980708f2",
   "metadata": {},
   "outputs": [],
   "source": [
    "# model related\n",
    "BENCHMARK = True\n",
    "MODEL_TYPE = 'kps_seq'\n",
    "\n",
    "r = ROUND_MAPPING[EXERCISE]\n",
    "if BENCHMARK:\n",
    "    r = 'BM'\n",
    "\n",
    "model_path = f'/data1-6tb/jom/EzFit_models/saved_models/len_{SEQ_LEN}/round_{r}/{EXERCISE}/{EXERCISE}_{MODEL_TYPE}.h5'\n",
    "if MODEL_TYPE == 'kps_single':\n",
    "    le_path = f'/data1-6tb/jom/EzFit_models/saved_pickles/len_{SEQ_LEN}/round_{r}/{EXERCISE}/{EXERCISE}_{MODEL_TYPE}_lb.pickle'\n",
    "else:\n",
    "    le_path = f'/data1-6tb/jom/EzFit_models/saved_pickles/len_{SEQ_LEN}/round_{r}/{EXERCISE}/{EXERCISE}_{MODEL_TYPE}_le.pickle'\n",
    "\n",
    "if MODEL_TYPE == 'ViViT':\n",
    "    custom_objects = {\"TubeletEmbedding\": TubeletEmbedding, \n",
    "                      \"PositionalEncoder\": PositionalEncoder}\n",
    "else:\n",
    "    custom_objects = {}"
   ]
  },
  {
   "cell_type": "code",
   "execution_count": 93,
   "id": "e93cff0e-0741-479d-b7ad-62a0963e5937",
   "metadata": {
    "tags": []
   },
   "outputs": [
    {
     "name": "stdout",
     "output_type": "stream",
     "text": [
      "WARNING:tensorflow:Layer lstm will not use cuDNN kernels since it doesn't meet the criteria. It will use a generic GPU kernel as fallback when running on GPU.\n"
     ]
    }
   ],
   "source": [
    "# load model and le\n",
    "loaded_model = load_model(model_path, custom_objects=custom_objects)\n",
    "with open(le_path, 'rb') as file:\n",
    "    loaded_le = pickle.load(file)"
   ]
  },
  {
   "cell_type": "code",
   "execution_count": 94,
   "id": "e1cd34c5-b4cc-4bfe-9086-ea3671c4d757",
   "metadata": {},
   "outputs": [
    {
     "data": {
      "text/html": [
       "<div>\n",
       "<style scoped>\n",
       "    .dataframe tbody tr th:only-of-type {\n",
       "        vertical-align: middle;\n",
       "    }\n",
       "\n",
       "    .dataframe tbody tr th {\n",
       "        vertical-align: top;\n",
       "    }\n",
       "\n",
       "    .dataframe thead th {\n",
       "        text-align: right;\n",
       "    }\n",
       "</style>\n",
       "<table border=\"1\" class=\"dataframe\">\n",
       "  <thead>\n",
       "    <tr style=\"text-align: right;\">\n",
       "      <th></th>\n",
       "      <th>path</th>\n",
       "      <th>class</th>\n",
       "      <th>3-classes-view</th>\n",
       "      <th>5-classes-view</th>\n",
       "      <th>position</th>\n",
       "      <th>distance</th>\n",
       "    </tr>\n",
       "  </thead>\n",
       "  <tbody>\n",
       "    <tr>\n",
       "      <th>0</th>\n",
       "      <td>keypoints_seq/len_8/half-burpee/half-burpee-in...</td>\n",
       "      <td>half-burpee-in</td>\n",
       "      <td>side</td>\n",
       "      <td>side</td>\n",
       "      <td>center</td>\n",
       "      <td>fit</td>\n",
       "    </tr>\n",
       "    <tr>\n",
       "      <th>1</th>\n",
       "      <td>keypoints_seq/len_8/half-burpee/half-burpee-in...</td>\n",
       "      <td>half-burpee-in</td>\n",
       "      <td>side</td>\n",
       "      <td>side</td>\n",
       "      <td>center</td>\n",
       "      <td>fit</td>\n",
       "    </tr>\n",
       "    <tr>\n",
       "      <th>2</th>\n",
       "      <td>keypoints_seq/len_8/half-burpee/half-burpee-in...</td>\n",
       "      <td>half-burpee-in</td>\n",
       "      <td>side</td>\n",
       "      <td>side</td>\n",
       "      <td>center</td>\n",
       "      <td>fit</td>\n",
       "    </tr>\n",
       "    <tr>\n",
       "      <th>3</th>\n",
       "      <td>keypoints_seq/len_8/half-burpee/half-burpee-in...</td>\n",
       "      <td>half-burpee-in</td>\n",
       "      <td>side</td>\n",
       "      <td>side</td>\n",
       "      <td>center</td>\n",
       "      <td>fit</td>\n",
       "    </tr>\n",
       "    <tr>\n",
       "      <th>4</th>\n",
       "      <td>keypoints_seq/len_8/half-burpee/half-burpee-in...</td>\n",
       "      <td>half-burpee-in</td>\n",
       "      <td>side</td>\n",
       "      <td>side</td>\n",
       "      <td>center</td>\n",
       "      <td>fit</td>\n",
       "    </tr>\n",
       "    <tr>\n",
       "      <th>...</th>\n",
       "      <td>...</td>\n",
       "      <td>...</td>\n",
       "      <td>...</td>\n",
       "      <td>...</td>\n",
       "      <td>...</td>\n",
       "      <td>...</td>\n",
       "    </tr>\n",
       "    <tr>\n",
       "      <th>2699</th>\n",
       "      <td>keypoints_seq/len_8/half-burpee/others/half-bu...</td>\n",
       "      <td>others</td>\n",
       "      <td>side</td>\n",
       "      <td>side</td>\n",
       "      <td>center</td>\n",
       "      <td>far</td>\n",
       "    </tr>\n",
       "    <tr>\n",
       "      <th>2700</th>\n",
       "      <td>keypoints_seq/len_8/half-burpee/others/half-bu...</td>\n",
       "      <td>others</td>\n",
       "      <td>side</td>\n",
       "      <td>side</td>\n",
       "      <td>center</td>\n",
       "      <td>far</td>\n",
       "    </tr>\n",
       "    <tr>\n",
       "      <th>2701</th>\n",
       "      <td>keypoints_seq/len_8/half-burpee/others/half-bu...</td>\n",
       "      <td>others</td>\n",
       "      <td>side</td>\n",
       "      <td>side</td>\n",
       "      <td>center</td>\n",
       "      <td>far</td>\n",
       "    </tr>\n",
       "    <tr>\n",
       "      <th>2702</th>\n",
       "      <td>keypoints_seq/len_8/half-burpee/others/half-bu...</td>\n",
       "      <td>others</td>\n",
       "      <td>side</td>\n",
       "      <td>side</td>\n",
       "      <td>center</td>\n",
       "      <td>far</td>\n",
       "    </tr>\n",
       "    <tr>\n",
       "      <th>2703</th>\n",
       "      <td>keypoints_seq/len_8/half-burpee/others/half-bu...</td>\n",
       "      <td>others</td>\n",
       "      <td>side</td>\n",
       "      <td>side</td>\n",
       "      <td>center</td>\n",
       "      <td>far</td>\n",
       "    </tr>\n",
       "  </tbody>\n",
       "</table>\n",
       "<p>2704 rows × 6 columns</p>\n",
       "</div>"
      ],
      "text/plain": [
       "                                                   path           class  \\\n",
       "0     keypoints_seq/len_8/half-burpee/half-burpee-in...  half-burpee-in   \n",
       "1     keypoints_seq/len_8/half-burpee/half-burpee-in...  half-burpee-in   \n",
       "2     keypoints_seq/len_8/half-burpee/half-burpee-in...  half-burpee-in   \n",
       "3     keypoints_seq/len_8/half-burpee/half-burpee-in...  half-burpee-in   \n",
       "4     keypoints_seq/len_8/half-burpee/half-burpee-in...  half-burpee-in   \n",
       "...                                                 ...             ...   \n",
       "2699  keypoints_seq/len_8/half-burpee/others/half-bu...          others   \n",
       "2700  keypoints_seq/len_8/half-burpee/others/half-bu...          others   \n",
       "2701  keypoints_seq/len_8/half-burpee/others/half-bu...          others   \n",
       "2702  keypoints_seq/len_8/half-burpee/others/half-bu...          others   \n",
       "2703  keypoints_seq/len_8/half-burpee/others/half-bu...          others   \n",
       "\n",
       "     3-classes-view 5-classes-view position distance  \n",
       "0              side           side   center      fit  \n",
       "1              side           side   center      fit  \n",
       "2              side           side   center      fit  \n",
       "3              side           side   center      fit  \n",
       "4              side           side   center      fit  \n",
       "...             ...            ...      ...      ...  \n",
       "2699           side           side   center      far  \n",
       "2700           side           side   center      far  \n",
       "2701           side           side   center      far  \n",
       "2702           side           side   center      far  \n",
       "2703           side           side   center      far  \n",
       "\n",
       "[2704 rows x 6 columns]"
      ]
     },
     "execution_count": 94,
     "metadata": {},
     "output_type": "execute_result"
    }
   ],
   "source": [
    "label_df = pd.read_csv(label_file)\n",
    "label_df"
   ]
  },
  {
   "cell_type": "code",
   "execution_count": 95,
   "id": "50a58624-f97d-40bb-afec-ff4fce75a343",
   "metadata": {},
   "outputs": [
    {
     "data": {
      "text/plain": [
       "(2704, 8, 99)"
      ]
     },
     "execution_count": 95,
     "metadata": {},
     "output_type": "execute_result"
    }
   ],
   "source": [
    "test_arr = []\n",
    "for idx, row in label_df.iterrows():\n",
    "    abs_path = os.path.join(ds_base_dir, row[0])\n",
    "    arr = np.load(abs_path)\n",
    "    if MODEL_TYPE == 'kps_stacked':\n",
    "        arr = arr.flatten()\n",
    "    test_arr.append(arr)\n",
    "test_arr = np.array(test_arr)\n",
    "test_arr.shape"
   ]
  },
  {
   "cell_type": "code",
   "execution_count": 96,
   "id": "8e0aa028-f068-4a28-9738-c2c6d694a036",
   "metadata": {},
   "outputs": [
    {
     "data": {
      "text/plain": [
       "array(['half-burpee-in', 'half-burpee-in', 'half-burpee-in', ...,\n",
       "       'half-burpee-out', 'half-burpee-out', 'half-burpee-out'],\n",
       "      dtype='<U15')"
      ]
     },
     "execution_count": 96,
     "metadata": {},
     "output_type": "execute_result"
    }
   ],
   "source": [
    "raw_pred = loaded_model.predict(test_arr)\n",
    "pred = np.argmax(raw_pred, axis=1)\n",
    "txt_pred = loaded_le.inverse_transform(pred)\n",
    "txt_pred"
   ]
  },
  {
   "cell_type": "code",
   "execution_count": 97,
   "id": "9d145afc-2646-4c3c-869b-84bf3aa67b4f",
   "metadata": {},
   "outputs": [],
   "source": [
    "from sklearn.metrics import accuracy_score"
   ]
  },
  {
   "cell_type": "code",
   "execution_count": 98,
   "id": "6f861b4f-561b-4ce5-9a4d-8d0cc6a9acf9",
   "metadata": {},
   "outputs": [
    {
     "data": {
      "text/plain": [
       "0.46412721893491127"
      ]
     },
     "execution_count": 98,
     "metadata": {},
     "output_type": "execute_result"
    }
   ],
   "source": [
    "# take a peek at test acc\n",
    "accuracy_score(list(label_df['class']), txt_pred)"
   ]
  },
  {
   "cell_type": "code",
   "execution_count": 99,
   "id": "32ca3b44-df41-4805-bd99-2c795c7c3f11",
   "metadata": {},
   "outputs": [
    {
     "data": {
      "text/html": [
       "<div>\n",
       "<style scoped>\n",
       "    .dataframe tbody tr th:only-of-type {\n",
       "        vertical-align: middle;\n",
       "    }\n",
       "\n",
       "    .dataframe tbody tr th {\n",
       "        vertical-align: top;\n",
       "    }\n",
       "\n",
       "    .dataframe thead th {\n",
       "        text-align: right;\n",
       "    }\n",
       "</style>\n",
       "<table border=\"1\" class=\"dataframe\">\n",
       "  <thead>\n",
       "    <tr style=\"text-align: right;\">\n",
       "      <th></th>\n",
       "      <th>path</th>\n",
       "      <th>class</th>\n",
       "      <th>3-classes-view</th>\n",
       "      <th>5-classes-view</th>\n",
       "      <th>position</th>\n",
       "      <th>distance</th>\n",
       "      <th>predicted</th>\n",
       "    </tr>\n",
       "  </thead>\n",
       "  <tbody>\n",
       "    <tr>\n",
       "      <th>0</th>\n",
       "      <td>keypoints_seq/len_8/half-burpee/half-burpee-in...</td>\n",
       "      <td>half-burpee-in</td>\n",
       "      <td>side</td>\n",
       "      <td>side</td>\n",
       "      <td>center</td>\n",
       "      <td>fit</td>\n",
       "      <td>half-burpee-in</td>\n",
       "    </tr>\n",
       "    <tr>\n",
       "      <th>1</th>\n",
       "      <td>keypoints_seq/len_8/half-burpee/half-burpee-in...</td>\n",
       "      <td>half-burpee-in</td>\n",
       "      <td>side</td>\n",
       "      <td>side</td>\n",
       "      <td>center</td>\n",
       "      <td>fit</td>\n",
       "      <td>half-burpee-in</td>\n",
       "    </tr>\n",
       "    <tr>\n",
       "      <th>2</th>\n",
       "      <td>keypoints_seq/len_8/half-burpee/half-burpee-in...</td>\n",
       "      <td>half-burpee-in</td>\n",
       "      <td>side</td>\n",
       "      <td>side</td>\n",
       "      <td>center</td>\n",
       "      <td>fit</td>\n",
       "      <td>half-burpee-in</td>\n",
       "    </tr>\n",
       "    <tr>\n",
       "      <th>3</th>\n",
       "      <td>keypoints_seq/len_8/half-burpee/half-burpee-in...</td>\n",
       "      <td>half-burpee-in</td>\n",
       "      <td>side</td>\n",
       "      <td>side</td>\n",
       "      <td>center</td>\n",
       "      <td>fit</td>\n",
       "      <td>half-burpee-in</td>\n",
       "    </tr>\n",
       "    <tr>\n",
       "      <th>4</th>\n",
       "      <td>keypoints_seq/len_8/half-burpee/half-burpee-in...</td>\n",
       "      <td>half-burpee-in</td>\n",
       "      <td>side</td>\n",
       "      <td>side</td>\n",
       "      <td>center</td>\n",
       "      <td>fit</td>\n",
       "      <td>half-burpee-in</td>\n",
       "    </tr>\n",
       "    <tr>\n",
       "      <th>...</th>\n",
       "      <td>...</td>\n",
       "      <td>...</td>\n",
       "      <td>...</td>\n",
       "      <td>...</td>\n",
       "      <td>...</td>\n",
       "      <td>...</td>\n",
       "      <td>...</td>\n",
       "    </tr>\n",
       "    <tr>\n",
       "      <th>2699</th>\n",
       "      <td>keypoints_seq/len_8/half-burpee/others/half-bu...</td>\n",
       "      <td>others</td>\n",
       "      <td>side</td>\n",
       "      <td>side</td>\n",
       "      <td>center</td>\n",
       "      <td>far</td>\n",
       "      <td>half-burpee-out</td>\n",
       "    </tr>\n",
       "    <tr>\n",
       "      <th>2700</th>\n",
       "      <td>keypoints_seq/len_8/half-burpee/others/half-bu...</td>\n",
       "      <td>others</td>\n",
       "      <td>side</td>\n",
       "      <td>side</td>\n",
       "      <td>center</td>\n",
       "      <td>far</td>\n",
       "      <td>half-burpee-out</td>\n",
       "    </tr>\n",
       "    <tr>\n",
       "      <th>2701</th>\n",
       "      <td>keypoints_seq/len_8/half-burpee/others/half-bu...</td>\n",
       "      <td>others</td>\n",
       "      <td>side</td>\n",
       "      <td>side</td>\n",
       "      <td>center</td>\n",
       "      <td>far</td>\n",
       "      <td>half-burpee-out</td>\n",
       "    </tr>\n",
       "    <tr>\n",
       "      <th>2702</th>\n",
       "      <td>keypoints_seq/len_8/half-burpee/others/half-bu...</td>\n",
       "      <td>others</td>\n",
       "      <td>side</td>\n",
       "      <td>side</td>\n",
       "      <td>center</td>\n",
       "      <td>far</td>\n",
       "      <td>half-burpee-out</td>\n",
       "    </tr>\n",
       "    <tr>\n",
       "      <th>2703</th>\n",
       "      <td>keypoints_seq/len_8/half-burpee/others/half-bu...</td>\n",
       "      <td>others</td>\n",
       "      <td>side</td>\n",
       "      <td>side</td>\n",
       "      <td>center</td>\n",
       "      <td>far</td>\n",
       "      <td>half-burpee-out</td>\n",
       "    </tr>\n",
       "  </tbody>\n",
       "</table>\n",
       "<p>2704 rows × 7 columns</p>\n",
       "</div>"
      ],
      "text/plain": [
       "                                                   path           class  \\\n",
       "0     keypoints_seq/len_8/half-burpee/half-burpee-in...  half-burpee-in   \n",
       "1     keypoints_seq/len_8/half-burpee/half-burpee-in...  half-burpee-in   \n",
       "2     keypoints_seq/len_8/half-burpee/half-burpee-in...  half-burpee-in   \n",
       "3     keypoints_seq/len_8/half-burpee/half-burpee-in...  half-burpee-in   \n",
       "4     keypoints_seq/len_8/half-burpee/half-burpee-in...  half-burpee-in   \n",
       "...                                                 ...             ...   \n",
       "2699  keypoints_seq/len_8/half-burpee/others/half-bu...          others   \n",
       "2700  keypoints_seq/len_8/half-burpee/others/half-bu...          others   \n",
       "2701  keypoints_seq/len_8/half-burpee/others/half-bu...          others   \n",
       "2702  keypoints_seq/len_8/half-burpee/others/half-bu...          others   \n",
       "2703  keypoints_seq/len_8/half-burpee/others/half-bu...          others   \n",
       "\n",
       "     3-classes-view 5-classes-view position distance        predicted  \n",
       "0              side           side   center      fit   half-burpee-in  \n",
       "1              side           side   center      fit   half-burpee-in  \n",
       "2              side           side   center      fit   half-burpee-in  \n",
       "3              side           side   center      fit   half-burpee-in  \n",
       "4              side           side   center      fit   half-burpee-in  \n",
       "...             ...            ...      ...      ...              ...  \n",
       "2699           side           side   center      far  half-burpee-out  \n",
       "2700           side           side   center      far  half-burpee-out  \n",
       "2701           side           side   center      far  half-burpee-out  \n",
       "2702           side           side   center      far  half-burpee-out  \n",
       "2703           side           side   center      far  half-burpee-out  \n",
       "\n",
       "[2704 rows x 7 columns]"
      ]
     },
     "execution_count": 99,
     "metadata": {},
     "output_type": "execute_result"
    }
   ],
   "source": [
    "final_df = label_df.copy()\n",
    "final_df['predicted'] = txt_pred\n",
    "final_df"
   ]
  },
  {
   "cell_type": "code",
   "execution_count": 100,
   "id": "f8c85331-3b35-4630-860d-bf718986773f",
   "metadata": {},
   "outputs": [
    {
     "data": {
      "text/plain": [
       "array(['half-burpee-in', 'half-burpee-out', 'idle', 'others'],\n",
       "      dtype=object)"
      ]
     },
     "execution_count": 100,
     "metadata": {},
     "output_type": "execute_result"
    }
   ],
   "source": [
    "final_df['class'].unique()"
   ]
  },
  {
   "cell_type": "code",
   "execution_count": 101,
   "id": "cf5aed0a-0c31-4373-a7cf-2ecdfacb6f2e",
   "metadata": {},
   "outputs": [
    {
     "data": {
      "text/plain": [
       "array(['half-burpee-in', 'half-burpee-out'], dtype=object)"
      ]
     },
     "execution_count": 101,
     "metadata": {},
     "output_type": "execute_result"
    }
   ],
   "source": [
    "final_df['predicted'].unique()"
   ]
  },
  {
   "cell_type": "code",
   "execution_count": 102,
   "id": "5a0ce851-8d16-4974-9b0a-52f2522f8670",
   "metadata": {},
   "outputs": [],
   "source": [
    "if BENCHMARK:\n",
    "    output_file = os.path.join(output_dir, f'{MODEL_TYPE}_{EXERCISE}_BM.csv')\n",
    "else:\n",
    "    output_file = os.path.join(output_dir, f'{MODEL_TYPE}_{EXERCISE}.csv')\n",
    "final_df.to_csv(output_file, index=False)"
   ]
  },
  {
   "cell_type": "markdown",
   "id": "effcc351-a878-4c2d-a479-48a5fcf6fabe",
   "metadata": {},
   "source": [
    "---"
   ]
  },
  {
   "cell_type": "markdown",
   "id": "2d0c112e-f33f-4a96-bcb3-f4982cec5441",
   "metadata": {},
   "source": [
    "# Rep Counting"
   ]
  },
  {
   "cell_type": "markdown",
   "id": "71c235ff-3849-4a48-a078-a6b6a87a199b",
   "metadata": {},
   "source": [
    "## Config"
   ]
  },
  {
   "cell_type": "code",
   "execution_count": 7,
   "id": "5bc77399-dbc0-4dd4-8823-fddbfb6cd18a",
   "metadata": {},
   "outputs": [],
   "source": [
    "COUNTING_ORDER = {\n",
    "    'pushup': {\n",
    "        'cur_class': 'pushup-up',\n",
    "        'prev_class': 'pushup-down'\n",
    "    },\n",
    "    'squat': {\n",
    "        'cur_class': 'squat-up',\n",
    "        'prev_class': 'squat-down'\n",
    "    },\n",
    "    'jumping-jack': {\n",
    "        'cur_class': 'jumping-jack-down',\n",
    "        'prev_class': 'jumping-jack-up'\n",
    "    },\n",
    "    'leg-raise': {\n",
    "        'cur_class': 'leg-raise-down',\n",
    "        'prev_class': 'leg-raise-up'\n",
    "    },\n",
    "    'half-burpee': {\n",
    "        'cur_class': 'half-burpee-out',\n",
    "        'prev_class': 'half-burpee-in'\n",
    "    },\n",
    "}"
   ]
  },
  {
   "cell_type": "code",
   "execution_count": 13,
   "id": "5629033c-43fe-4024-9f0e-ad92c5d9b629",
   "metadata": {
    "tags": []
   },
   "outputs": [],
   "source": [
    "# model and counting\n",
    "# EXERCISE = 'pushup'\n",
    "# CUR_CLASS = 'up'\n",
    "# PREV_CLASS = 'down'\n",
    "\n",
    "MODEL_TYPE = 'kps_seq'\n",
    "POST = 'hard_vote'\n",
    "# POST = 'None'\n",
    "WINDOW_SIZE = 15 # window size for hard voting\n",
    "BEST = False\n",
    "ROUND_MAPPING = {\n",
    "    'pushup': 8,\n",
    "    'squat': 6,\n",
    "    'jumping-jack': 4,\n",
    "    'leg-raise': 3,\n",
    "    'half-burpee': 3,\n",
    "}\n",
    "SEQ_LEN = 8\n",
    "BENCHMARK = True\n",
    "\n",
    "# input videos\n",
    "DS_NAME = 'UCF_dataset'\n",
    "DS_BASE_DIR = f'/data1-6tb/jom/EzFit_models/evaluation_videos/{DS_NAME}'\n",
    "VID_DIR = os.path.join(DS_BASE_DIR, 'videos')\n",
    "OUT_DIR = os.path.join(DS_BASE_DIR, 'outputs')\n",
    "GT_CSV = os.path.join(DS_BASE_DIR, 'labels/full_UCF_rep_gt.csv')\n",
    "\n",
    "if MODEL_TYPE == 'ViViT':\n",
    "    custom_objects = {\"TubeletEmbedding\": TubeletEmbedding, \n",
    "                      \"PositionalEncoder\": PositionalEncoder}\n",
    "else:\n",
    "    custom_objects = {}"
   ]
  },
  {
   "cell_type": "markdown",
   "id": "25788a28-cb13-4acd-b928-4d2bf1a4333e",
   "metadata": {},
   "source": [
    "## Run inference"
   ]
  },
  {
   "cell_type": "code",
   "execution_count": 14,
   "id": "c4caef01-3f6b-494f-8aca-c18b2abb7ed3",
   "metadata": {},
   "outputs": [],
   "source": [
    "mp_pose = mp.solutions.pose\n",
    "mp_holistic = mp.solutions.holistic\n",
    "mp_drawing = mp.solutions.drawing_utils"
   ]
  },
  {
   "cell_type": "code",
   "execution_count": 15,
   "id": "a244e71e-cca1-4c36-87c6-b2e643760db9",
   "metadata": {
    "tags": []
   },
   "outputs": [
    {
     "data": {
      "text/html": [
       "<div>\n",
       "<style scoped>\n",
       "    .dataframe tbody tr th:only-of-type {\n",
       "        vertical-align: middle;\n",
       "    }\n",
       "\n",
       "    .dataframe tbody tr th {\n",
       "        vertical-align: top;\n",
       "    }\n",
       "\n",
       "    .dataframe thead th {\n",
       "        text-align: right;\n",
       "    }\n",
       "</style>\n",
       "<table border=\"1\" class=\"dataframe\">\n",
       "  <thead>\n",
       "    <tr style=\"text-align: right;\">\n",
       "      <th></th>\n",
       "      <th>file_name</th>\n",
       "      <th>rep</th>\n",
       "      <th>3-classes-view</th>\n",
       "      <th>5-classes-view</th>\n",
       "      <th>sure</th>\n",
       "      <th>position</th>\n",
       "      <th>distance</th>\n",
       "      <th>gender</th>\n",
       "      <th>indoor/outdoor</th>\n",
       "      <th>special_case</th>\n",
       "      <th>exercise</th>\n",
       "    </tr>\n",
       "  </thead>\n",
       "  <tbody>\n",
       "    <tr>\n",
       "      <th>0</th>\n",
       "      <td>v_JumpingJack_g01_c01.avi</td>\n",
       "      <td>3</td>\n",
       "      <td>front</td>\n",
       "      <td>front</td>\n",
       "      <td>yes</td>\n",
       "      <td>center</td>\n",
       "      <td>fit</td>\n",
       "      <td>female</td>\n",
       "      <td>indoor</td>\n",
       "      <td>NaN</td>\n",
       "      <td>jumping-jack</td>\n",
       "    </tr>\n",
       "    <tr>\n",
       "      <th>1</th>\n",
       "      <td>v_JumpingJack_g01_c02.avi</td>\n",
       "      <td>3</td>\n",
       "      <td>front</td>\n",
       "      <td>front</td>\n",
       "      <td>yes</td>\n",
       "      <td>center</td>\n",
       "      <td>fit</td>\n",
       "      <td>female</td>\n",
       "      <td>indoor</td>\n",
       "      <td>NaN</td>\n",
       "      <td>jumping-jack</td>\n",
       "    </tr>\n",
       "    <tr>\n",
       "      <th>2</th>\n",
       "      <td>v_JumpingJack_g01_c03.avi</td>\n",
       "      <td>3</td>\n",
       "      <td>front</td>\n",
       "      <td>front</td>\n",
       "      <td>yes</td>\n",
       "      <td>center</td>\n",
       "      <td>fit</td>\n",
       "      <td>female</td>\n",
       "      <td>indoor</td>\n",
       "      <td>NaN</td>\n",
       "      <td>jumping-jack</td>\n",
       "    </tr>\n",
       "    <tr>\n",
       "      <th>3</th>\n",
       "      <td>v_JumpingJack_g01_c04.avi</td>\n",
       "      <td>3</td>\n",
       "      <td>front</td>\n",
       "      <td>front</td>\n",
       "      <td>yes</td>\n",
       "      <td>center</td>\n",
       "      <td>fit</td>\n",
       "      <td>female</td>\n",
       "      <td>indoor</td>\n",
       "      <td>NaN</td>\n",
       "      <td>jumping-jack</td>\n",
       "    </tr>\n",
       "    <tr>\n",
       "      <th>4</th>\n",
       "      <td>v_JumpingJack_g01_c05.avi</td>\n",
       "      <td>3</td>\n",
       "      <td>front</td>\n",
       "      <td>front</td>\n",
       "      <td>yes</td>\n",
       "      <td>center</td>\n",
       "      <td>fit</td>\n",
       "      <td>female</td>\n",
       "      <td>indoor</td>\n",
       "      <td>NaN</td>\n",
       "      <td>jumping-jack</td>\n",
       "    </tr>\n",
       "    <tr>\n",
       "      <th>...</th>\n",
       "      <td>...</td>\n",
       "      <td>...</td>\n",
       "      <td>...</td>\n",
       "      <td>...</td>\n",
       "      <td>...</td>\n",
       "      <td>...</td>\n",
       "      <td>...</td>\n",
       "      <td>...</td>\n",
       "      <td>...</td>\n",
       "      <td>...</td>\n",
       "      <td>...</td>\n",
       "    </tr>\n",
       "    <tr>\n",
       "      <th>331</th>\n",
       "      <td>v_BodyWeightSquats_g25_c03.avi</td>\n",
       "      <td>1</td>\n",
       "      <td>side</td>\n",
       "      <td>side</td>\n",
       "      <td>yes</td>\n",
       "      <td>center</td>\n",
       "      <td>fit</td>\n",
       "      <td>male</td>\n",
       "      <td>indoor</td>\n",
       "      <td>NaN</td>\n",
       "      <td>squat</td>\n",
       "    </tr>\n",
       "    <tr>\n",
       "      <th>332</th>\n",
       "      <td>v_BodyWeightSquats_g25_c04.avi</td>\n",
       "      <td>1</td>\n",
       "      <td>side</td>\n",
       "      <td>side</td>\n",
       "      <td>yes</td>\n",
       "      <td>center</td>\n",
       "      <td>fit</td>\n",
       "      <td>male</td>\n",
       "      <td>indoor</td>\n",
       "      <td>NaN</td>\n",
       "      <td>squat</td>\n",
       "    </tr>\n",
       "    <tr>\n",
       "      <th>333</th>\n",
       "      <td>v_BodyWeightSquats_g25_c05.avi</td>\n",
       "      <td>1</td>\n",
       "      <td>side</td>\n",
       "      <td>side</td>\n",
       "      <td>yes</td>\n",
       "      <td>center</td>\n",
       "      <td>fit</td>\n",
       "      <td>male</td>\n",
       "      <td>indoor</td>\n",
       "      <td>NaN</td>\n",
       "      <td>squat</td>\n",
       "    </tr>\n",
       "    <tr>\n",
       "      <th>334</th>\n",
       "      <td>v_BodyWeightSquats_g25_c06.avi</td>\n",
       "      <td>1</td>\n",
       "      <td>side</td>\n",
       "      <td>side</td>\n",
       "      <td>yes</td>\n",
       "      <td>center</td>\n",
       "      <td>fit</td>\n",
       "      <td>male</td>\n",
       "      <td>indoor</td>\n",
       "      <td>NaN</td>\n",
       "      <td>squat</td>\n",
       "    </tr>\n",
       "    <tr>\n",
       "      <th>335</th>\n",
       "      <td>v_BodyWeightSquats_g25_c07.avi</td>\n",
       "      <td>1</td>\n",
       "      <td>side</td>\n",
       "      <td>side</td>\n",
       "      <td>yes</td>\n",
       "      <td>center</td>\n",
       "      <td>fit</td>\n",
       "      <td>male</td>\n",
       "      <td>indoor</td>\n",
       "      <td>NaN</td>\n",
       "      <td>squat</td>\n",
       "    </tr>\n",
       "  </tbody>\n",
       "</table>\n",
       "<p>336 rows × 11 columns</p>\n",
       "</div>"
      ],
      "text/plain": [
       "                          file_name  rep 3-classes-view 5-classes-view sure  \\\n",
       "0         v_JumpingJack_g01_c01.avi    3          front          front  yes   \n",
       "1         v_JumpingJack_g01_c02.avi    3          front          front  yes   \n",
       "2         v_JumpingJack_g01_c03.avi    3          front          front  yes   \n",
       "3         v_JumpingJack_g01_c04.avi    3          front          front  yes   \n",
       "4         v_JumpingJack_g01_c05.avi    3          front          front  yes   \n",
       "..                              ...  ...            ...            ...  ...   \n",
       "331  v_BodyWeightSquats_g25_c03.avi    1           side           side  yes   \n",
       "332  v_BodyWeightSquats_g25_c04.avi    1           side           side  yes   \n",
       "333  v_BodyWeightSquats_g25_c05.avi    1           side           side  yes   \n",
       "334  v_BodyWeightSquats_g25_c06.avi    1           side           side  yes   \n",
       "335  v_BodyWeightSquats_g25_c07.avi    1           side           side  yes   \n",
       "\n",
       "    position distance  gender indoor/outdoor special_case      exercise  \n",
       "0     center      fit  female         indoor          NaN  jumping-jack  \n",
       "1     center      fit  female         indoor          NaN  jumping-jack  \n",
       "2     center      fit  female         indoor          NaN  jumping-jack  \n",
       "3     center      fit  female         indoor          NaN  jumping-jack  \n",
       "4     center      fit  female         indoor          NaN  jumping-jack  \n",
       "..       ...      ...     ...            ...          ...           ...  \n",
       "331   center      fit    male         indoor          NaN         squat  \n",
       "332   center      fit    male         indoor          NaN         squat  \n",
       "333   center      fit    male         indoor          NaN         squat  \n",
       "334   center      fit    male         indoor          NaN         squat  \n",
       "335   center      fit    male         indoor          NaN         squat  \n",
       "\n",
       "[336 rows x 11 columns]"
      ]
     },
     "execution_count": 15,
     "metadata": {},
     "output_type": "execute_result"
    }
   ],
   "source": [
    "df = pd.read_csv(GT_CSV)\n",
    "df"
   ]
  },
  {
   "cell_type": "code",
   "execution_count": 16,
   "id": "08416f41-758b-4ee5-be03-ddacc7cae20f",
   "metadata": {
    "collapsed": true,
    "jupyter": {
     "outputs_hidden": true
    },
    "tags": []
   },
   "outputs": [
    {
     "name": "stdout",
     "output_type": "stream",
     "text": [
      "WARNING:tensorflow:Layer lstm_1 will not use cuDNN kernels since it doesn't meet the criteria. It will use a generic GPU kernel as fallback when running on GPU.\n"
     ]
    },
    {
     "name": "stderr",
     "output_type": "stream",
     "text": [
      "INFO: Replacing 223 node(s) with delegate (TfLiteXNNPackDelegate) node, yielding 6 partitions.\n",
      "INFO: Replacing 318 node(s) with delegate (TfLiteXNNPackDelegate) node, yielding 1 partitions.\n"
     ]
    },
    {
     "name": "stdout",
     "output_type": "stream",
     "text": [
      "v_JumpingJack_g01_c01.avi: 3 from 3\n"
     ]
    },
    {
     "name": "stderr",
     "output_type": "stream",
     "text": [
      "INFO: Replacing 223 node(s) with delegate (TfLiteXNNPackDelegate) node, yielding 6 partitions.\n",
      "INFO: Replacing 318 node(s) with delegate (TfLiteXNNPackDelegate) node, yielding 1 partitions.\n"
     ]
    },
    {
     "name": "stdout",
     "output_type": "stream",
     "text": [
      "v_JumpingJack_g01_c02.avi: 3 from 3\n"
     ]
    },
    {
     "name": "stderr",
     "output_type": "stream",
     "text": [
      "INFO: Replacing 223 node(s) with delegate (TfLiteXNNPackDelegate) node, yielding 6 partitions.\n",
      "INFO: Replacing 318 node(s) with delegate (TfLiteXNNPackDelegate) node, yielding 1 partitions.\n"
     ]
    },
    {
     "name": "stdout",
     "output_type": "stream",
     "text": [
      "v_JumpingJack_g01_c03.avi: 3 from 3\n"
     ]
    },
    {
     "name": "stderr",
     "output_type": "stream",
     "text": [
      "INFO: Replacing 223 node(s) with delegate (TfLiteXNNPackDelegate) node, yielding 6 partitions.\n",
      "INFO: Replacing 318 node(s) with delegate (TfLiteXNNPackDelegate) node, yielding 1 partitions.\n"
     ]
    },
    {
     "name": "stdout",
     "output_type": "stream",
     "text": [
      "v_JumpingJack_g01_c04.avi: 3 from 3\n"
     ]
    },
    {
     "name": "stderr",
     "output_type": "stream",
     "text": [
      "INFO: Replacing 223 node(s) with delegate (TfLiteXNNPackDelegate) node, yielding 6 partitions.\n",
      "INFO: Replacing 318 node(s) with delegate (TfLiteXNNPackDelegate) node, yielding 1 partitions.\n"
     ]
    },
    {
     "name": "stdout",
     "output_type": "stream",
     "text": [
      "v_JumpingJack_g01_c05.avi: 3 from 3\n"
     ]
    },
    {
     "name": "stderr",
     "output_type": "stream",
     "text": [
      "INFO: Replacing 223 node(s) with delegate (TfLiteXNNPackDelegate) node, yielding 6 partitions.\n",
      "INFO: Replacing 318 node(s) with delegate (TfLiteXNNPackDelegate) node, yielding 1 partitions.\n"
     ]
    },
    {
     "name": "stdout",
     "output_type": "stream",
     "text": [
      "v_JumpingJack_g01_c06.avi: 3 from 3\n"
     ]
    },
    {
     "name": "stderr",
     "output_type": "stream",
     "text": [
      "INFO: Replacing 223 node(s) with delegate (TfLiteXNNPackDelegate) node, yielding 6 partitions.\n",
      "INFO: Replacing 318 node(s) with delegate (TfLiteXNNPackDelegate) node, yielding 1 partitions.\n"
     ]
    },
    {
     "name": "stdout",
     "output_type": "stream",
     "text": [
      "v_JumpingJack_g02_c01.avi: 2 from 2\n"
     ]
    },
    {
     "name": "stderr",
     "output_type": "stream",
     "text": [
      "INFO: Replacing 223 node(s) with delegate (TfLiteXNNPackDelegate) node, yielding 6 partitions.\n",
      "INFO: Replacing 318 node(s) with delegate (TfLiteXNNPackDelegate) node, yielding 1 partitions.\n"
     ]
    },
    {
     "name": "stdout",
     "output_type": "stream",
     "text": [
      "v_JumpingJack_g02_c02.avi: 2 from 2\n"
     ]
    },
    {
     "name": "stderr",
     "output_type": "stream",
     "text": [
      "INFO: Replacing 223 node(s) with delegate (TfLiteXNNPackDelegate) node, yielding 6 partitions.\n",
      "INFO: Replacing 318 node(s) with delegate (TfLiteXNNPackDelegate) node, yielding 1 partitions.\n"
     ]
    },
    {
     "name": "stdout",
     "output_type": "stream",
     "text": [
      "v_JumpingJack_g02_c03.avi: 3 from 2\n"
     ]
    },
    {
     "name": "stderr",
     "output_type": "stream",
     "text": [
      "INFO: Replacing 223 node(s) with delegate (TfLiteXNNPackDelegate) node, yielding 6 partitions.\n",
      "INFO: Replacing 318 node(s) with delegate (TfLiteXNNPackDelegate) node, yielding 1 partitions.\n"
     ]
    },
    {
     "name": "stdout",
     "output_type": "stream",
     "text": [
      "v_JumpingJack_g02_c04.avi: 3 from 2\n"
     ]
    },
    {
     "name": "stderr",
     "output_type": "stream",
     "text": [
      "INFO: Replacing 223 node(s) with delegate (TfLiteXNNPackDelegate) node, yielding 6 partitions.\n",
      "INFO: Replacing 318 node(s) with delegate (TfLiteXNNPackDelegate) node, yielding 1 partitions.\n"
     ]
    },
    {
     "name": "stdout",
     "output_type": "stream",
     "text": [
      "v_JumpingJack_g03_c01.avi: 2 from 2\n"
     ]
    },
    {
     "name": "stderr",
     "output_type": "stream",
     "text": [
      "INFO: Replacing 223 node(s) with delegate (TfLiteXNNPackDelegate) node, yielding 6 partitions.\n",
      "INFO: Replacing 318 node(s) with delegate (TfLiteXNNPackDelegate) node, yielding 1 partitions.\n"
     ]
    },
    {
     "name": "stdout",
     "output_type": "stream",
     "text": [
      "v_JumpingJack_g03_c02.avi: 3 from 3\n"
     ]
    },
    {
     "name": "stderr",
     "output_type": "stream",
     "text": [
      "INFO: Replacing 223 node(s) with delegate (TfLiteXNNPackDelegate) node, yielding 6 partitions.\n",
      "INFO: Replacing 318 node(s) with delegate (TfLiteXNNPackDelegate) node, yielding 1 partitions.\n"
     ]
    },
    {
     "name": "stdout",
     "output_type": "stream",
     "text": [
      "v_JumpingJack_g03_c03.avi: 3 from 3\n"
     ]
    },
    {
     "name": "stderr",
     "output_type": "stream",
     "text": [
      "INFO: Replacing 223 node(s) with delegate (TfLiteXNNPackDelegate) node, yielding 6 partitions.\n",
      "INFO: Replacing 318 node(s) with delegate (TfLiteXNNPackDelegate) node, yielding 1 partitions.\n"
     ]
    },
    {
     "name": "stdout",
     "output_type": "stream",
     "text": [
      "v_JumpingJack_g03_c04.avi: 3 from 3\n",
      "[INFO] error in jumping-jack: 'NoneType' object has no attribute 'landmark'\n"
     ]
    },
    {
     "name": "stderr",
     "output_type": "stream",
     "text": [
      "INFO: Replacing 223 node(s) with delegate (TfLiteXNNPackDelegate) node, yielding 6 partitions.\n",
      "INFO: Replacing 318 node(s) with delegate (TfLiteXNNPackDelegate) node, yielding 1 partitions.\n"
     ]
    },
    {
     "name": "stdout",
     "output_type": "stream",
     "text": [
      "v_JumpingJack_g04_c01.avi: 1 from 2\n",
      "[INFO] error in jumping-jack: 'NoneType' object has no attribute 'landmark'\n",
      "[INFO] error in jumping-jack: 'NoneType' object has no attribute 'landmark'\n"
     ]
    },
    {
     "name": "stderr",
     "output_type": "stream",
     "text": [
      "INFO: Replacing 223 node(s) with delegate (TfLiteXNNPackDelegate) node, yielding 6 partitions.\n",
      "INFO: Replacing 318 node(s) with delegate (TfLiteXNNPackDelegate) node, yielding 1 partitions.\n"
     ]
    },
    {
     "name": "stdout",
     "output_type": "stream",
     "text": [
      "[INFO] error in jumping-jack: 'NoneType' object has no attribute 'landmark'\n",
      "[INFO] error in jumping-jack: 'NoneType' object has no attribute 'landmark'\n",
      "v_JumpingJack_g04_c02.avi: 3 from 3\n"
     ]
    },
    {
     "name": "stderr",
     "output_type": "stream",
     "text": [
      "INFO: Replacing 223 node(s) with delegate (TfLiteXNNPackDelegate) node, yielding 6 partitions.\n",
      "INFO: Replacing 318 node(s) with delegate (TfLiteXNNPackDelegate) node, yielding 1 partitions.\n"
     ]
    },
    {
     "name": "stdout",
     "output_type": "stream",
     "text": [
      "v_JumpingJack_g04_c03.avi: 3 from 3\n"
     ]
    },
    {
     "name": "stderr",
     "output_type": "stream",
     "text": [
      "INFO: Replacing 223 node(s) with delegate (TfLiteXNNPackDelegate) node, yielding 6 partitions.\n",
      "INFO: Replacing 318 node(s) with delegate (TfLiteXNNPackDelegate) node, yielding 1 partitions.\n"
     ]
    },
    {
     "name": "stdout",
     "output_type": "stream",
     "text": [
      "v_JumpingJack_g04_c04.avi: 3 from 3\n"
     ]
    },
    {
     "name": "stderr",
     "output_type": "stream",
     "text": [
      "INFO: Replacing 223 node(s) with delegate (TfLiteXNNPackDelegate) node, yielding 6 partitions.\n",
      "INFO: Replacing 318 node(s) with delegate (TfLiteXNNPackDelegate) node, yielding 1 partitions.\n"
     ]
    },
    {
     "name": "stdout",
     "output_type": "stream",
     "text": [
      "v_JumpingJack_g05_c01.avi: 3 from 3\n"
     ]
    },
    {
     "name": "stderr",
     "output_type": "stream",
     "text": [
      "INFO: Replacing 223 node(s) with delegate (TfLiteXNNPackDelegate) node, yielding 6 partitions.\n",
      "INFO: Replacing 318 node(s) with delegate (TfLiteXNNPackDelegate) node, yielding 1 partitions.\n"
     ]
    },
    {
     "name": "stdout",
     "output_type": "stream",
     "text": [
      "v_JumpingJack_g05_c02.avi: 3 from 3\n"
     ]
    },
    {
     "name": "stderr",
     "output_type": "stream",
     "text": [
      "INFO: Replacing 223 node(s) with delegate (TfLiteXNNPackDelegate) node, yielding 6 partitions.\n",
      "INFO: Replacing 318 node(s) with delegate (TfLiteXNNPackDelegate) node, yielding 1 partitions.\n"
     ]
    },
    {
     "name": "stdout",
     "output_type": "stream",
     "text": [
      "v_JumpingJack_g05_c03.avi: 3 from 3\n",
      "[INFO] error in jumping-jack: 'NoneType' object has no attribute 'landmark'\n",
      "[INFO] error in jumping-jack: 'NoneType' object has no attribute 'landmark'\n"
     ]
    },
    {
     "name": "stderr",
     "output_type": "stream",
     "text": [
      "INFO: Replacing 223 node(s) with delegate (TfLiteXNNPackDelegate) node, yielding 6 partitions.\n",
      "INFO: Replacing 318 node(s) with delegate (TfLiteXNNPackDelegate) node, yielding 1 partitions.\n"
     ]
    },
    {
     "name": "stdout",
     "output_type": "stream",
     "text": [
      "v_JumpingJack_g05_c04.avi: 3 from 3\n"
     ]
    },
    {
     "name": "stderr",
     "output_type": "stream",
     "text": [
      "INFO: Replacing 223 node(s) with delegate (TfLiteXNNPackDelegate) node, yielding 6 partitions.\n",
      "INFO: Replacing 318 node(s) with delegate (TfLiteXNNPackDelegate) node, yielding 1 partitions.\n"
     ]
    },
    {
     "name": "stdout",
     "output_type": "stream",
     "text": [
      "v_JumpingJack_g05_c05.avi: 3 from 3\n",
      "[INFO] error in jumping-jack: 'NoneType' object has no attribute 'landmark'\n",
      "[INFO] error in jumping-jack: 'NoneType' object has no attribute 'landmark'\n"
     ]
    },
    {
     "name": "stderr",
     "output_type": "stream",
     "text": [
      "INFO: Replacing 223 node(s) with delegate (TfLiteXNNPackDelegate) node, yielding 6 partitions.\n",
      "INFO: Replacing 318 node(s) with delegate (TfLiteXNNPackDelegate) node, yielding 1 partitions.\n"
     ]
    },
    {
     "name": "stdout",
     "output_type": "stream",
     "text": [
      "v_JumpingJack_g05_c06.avi: 3 from 3\n"
     ]
    },
    {
     "name": "stderr",
     "output_type": "stream",
     "text": [
      "INFO: Replacing 223 node(s) with delegate (TfLiteXNNPackDelegate) node, yielding 6 partitions.\n",
      "INFO: Replacing 318 node(s) with delegate (TfLiteXNNPackDelegate) node, yielding 1 partitions.\n"
     ]
    },
    {
     "name": "stdout",
     "output_type": "stream",
     "text": [
      "v_JumpingJack_g06_c01.avi: 0 from 3\n"
     ]
    },
    {
     "name": "stderr",
     "output_type": "stream",
     "text": [
      "INFO: Replacing 223 node(s) with delegate (TfLiteXNNPackDelegate) node, yielding 6 partitions.\n",
      "INFO: Replacing 318 node(s) with delegate (TfLiteXNNPackDelegate) node, yielding 1 partitions.\n"
     ]
    },
    {
     "name": "stdout",
     "output_type": "stream",
     "text": [
      "v_JumpingJack_g06_c02.avi: 0 from 3\n"
     ]
    },
    {
     "name": "stderr",
     "output_type": "stream",
     "text": [
      "INFO: Replacing 223 node(s) with delegate (TfLiteXNNPackDelegate) node, yielding 6 partitions.\n",
      "INFO: Replacing 318 node(s) with delegate (TfLiteXNNPackDelegate) node, yielding 1 partitions.\n"
     ]
    },
    {
     "name": "stdout",
     "output_type": "stream",
     "text": [
      "v_JumpingJack_g06_c03.avi: 3 from 3\n"
     ]
    },
    {
     "name": "stderr",
     "output_type": "stream",
     "text": [
      "INFO: Replacing 223 node(s) with delegate (TfLiteXNNPackDelegate) node, yielding 6 partitions.\n",
      "INFO: Replacing 318 node(s) with delegate (TfLiteXNNPackDelegate) node, yielding 1 partitions.\n"
     ]
    },
    {
     "name": "stdout",
     "output_type": "stream",
     "text": [
      "v_JumpingJack_g06_c04.avi: 0 from 3\n"
     ]
    },
    {
     "name": "stderr",
     "output_type": "stream",
     "text": [
      "INFO: Replacing 223 node(s) with delegate (TfLiteXNNPackDelegate) node, yielding 6 partitions.\n",
      "INFO: Replacing 318 node(s) with delegate (TfLiteXNNPackDelegate) node, yielding 1 partitions.\n"
     ]
    },
    {
     "name": "stdout",
     "output_type": "stream",
     "text": [
      "v_JumpingJack_g06_c05.avi: 0 from 3\n"
     ]
    },
    {
     "name": "stderr",
     "output_type": "stream",
     "text": [
      "INFO: Replacing 223 node(s) with delegate (TfLiteXNNPackDelegate) node, yielding 6 partitions.\n",
      "INFO: Replacing 318 node(s) with delegate (TfLiteXNNPackDelegate) node, yielding 1 partitions.\n"
     ]
    },
    {
     "name": "stdout",
     "output_type": "stream",
     "text": [
      "v_JumpingJack_g06_c06.avi: 0 from 3\n"
     ]
    },
    {
     "name": "stderr",
     "output_type": "stream",
     "text": [
      "INFO: Replacing 223 node(s) with delegate (TfLiteXNNPackDelegate) node, yielding 6 partitions.\n",
      "INFO: Replacing 318 node(s) with delegate (TfLiteXNNPackDelegate) node, yielding 1 partitions.\n"
     ]
    },
    {
     "name": "stdout",
     "output_type": "stream",
     "text": [
      "v_JumpingJack_g06_c07.avi: 0 from 3\n"
     ]
    },
    {
     "name": "stderr",
     "output_type": "stream",
     "text": [
      "INFO: Replacing 223 node(s) with delegate (TfLiteXNNPackDelegate) node, yielding 6 partitions.\n",
      "INFO: Replacing 318 node(s) with delegate (TfLiteXNNPackDelegate) node, yielding 1 partitions.\n"
     ]
    },
    {
     "name": "stdout",
     "output_type": "stream",
     "text": [
      "v_JumpingJack_g07_c01.avi: 3 from 3\n"
     ]
    },
    {
     "name": "stderr",
     "output_type": "stream",
     "text": [
      "INFO: Replacing 223 node(s) with delegate (TfLiteXNNPackDelegate) node, yielding 6 partitions.\n",
      "INFO: Replacing 318 node(s) with delegate (TfLiteXNNPackDelegate) node, yielding 1 partitions.\n"
     ]
    },
    {
     "name": "stdout",
     "output_type": "stream",
     "text": [
      "v_JumpingJack_g07_c02.avi: 3 from 3\n"
     ]
    },
    {
     "name": "stderr",
     "output_type": "stream",
     "text": [
      "INFO: Replacing 223 node(s) with delegate (TfLiteXNNPackDelegate) node, yielding 6 partitions.\n",
      "INFO: Replacing 318 node(s) with delegate (TfLiteXNNPackDelegate) node, yielding 1 partitions.\n"
     ]
    },
    {
     "name": "stdout",
     "output_type": "stream",
     "text": [
      "v_JumpingJack_g07_c03.avi: 3 from 3\n"
     ]
    },
    {
     "name": "stderr",
     "output_type": "stream",
     "text": [
      "INFO: Replacing 223 node(s) with delegate (TfLiteXNNPackDelegate) node, yielding 6 partitions.\n",
      "INFO: Replacing 318 node(s) with delegate (TfLiteXNNPackDelegate) node, yielding 1 partitions.\n"
     ]
    },
    {
     "name": "stdout",
     "output_type": "stream",
     "text": [
      "v_JumpingJack_g07_c04.avi: 3 from 3\n"
     ]
    },
    {
     "name": "stderr",
     "output_type": "stream",
     "text": [
      "INFO: Replacing 223 node(s) with delegate (TfLiteXNNPackDelegate) node, yielding 6 partitions.\n",
      "INFO: Replacing 318 node(s) with delegate (TfLiteXNNPackDelegate) node, yielding 1 partitions.\n"
     ]
    },
    {
     "name": "stdout",
     "output_type": "stream",
     "text": [
      "v_JumpingJack_g07_c05.avi: 3 from 3\n"
     ]
    },
    {
     "name": "stderr",
     "output_type": "stream",
     "text": [
      "INFO: Replacing 223 node(s) with delegate (TfLiteXNNPackDelegate) node, yielding 6 partitions.\n",
      "INFO: Replacing 318 node(s) with delegate (TfLiteXNNPackDelegate) node, yielding 1 partitions.\n"
     ]
    },
    {
     "name": "stdout",
     "output_type": "stream",
     "text": [
      "v_JumpingJack_g08_c01.avi: 0 from 3\n"
     ]
    },
    {
     "name": "stderr",
     "output_type": "stream",
     "text": [
      "INFO: Replacing 223 node(s) with delegate (TfLiteXNNPackDelegate) node, yielding 6 partitions.\n",
      "INFO: Replacing 318 node(s) with delegate (TfLiteXNNPackDelegate) node, yielding 1 partitions.\n"
     ]
    },
    {
     "name": "stdout",
     "output_type": "stream",
     "text": [
      "v_JumpingJack_g08_c02.avi: 0 from 3\n"
     ]
    },
    {
     "name": "stderr",
     "output_type": "stream",
     "text": [
      "INFO: Replacing 223 node(s) with delegate (TfLiteXNNPackDelegate) node, yielding 6 partitions.\n",
      "INFO: Replacing 318 node(s) with delegate (TfLiteXNNPackDelegate) node, yielding 1 partitions.\n"
     ]
    },
    {
     "name": "stdout",
     "output_type": "stream",
     "text": [
      "v_JumpingJack_g08_c03.avi: 0 from 3\n"
     ]
    },
    {
     "name": "stderr",
     "output_type": "stream",
     "text": [
      "INFO: Replacing 223 node(s) with delegate (TfLiteXNNPackDelegate) node, yielding 6 partitions.\n",
      "INFO: Replacing 318 node(s) with delegate (TfLiteXNNPackDelegate) node, yielding 1 partitions.\n"
     ]
    },
    {
     "name": "stdout",
     "output_type": "stream",
     "text": [
      "v_JumpingJack_g08_c04.avi: 0 from 3\n"
     ]
    },
    {
     "name": "stderr",
     "output_type": "stream",
     "text": [
      "INFO: Replacing 223 node(s) with delegate (TfLiteXNNPackDelegate) node, yielding 6 partitions.\n",
      "INFO: Replacing 318 node(s) with delegate (TfLiteXNNPackDelegate) node, yielding 1 partitions.\n"
     ]
    },
    {
     "name": "stdout",
     "output_type": "stream",
     "text": [
      "v_JumpingJack_g09_c01.avi: 3 from 3\n"
     ]
    },
    {
     "name": "stderr",
     "output_type": "stream",
     "text": [
      "INFO: Replacing 223 node(s) with delegate (TfLiteXNNPackDelegate) node, yielding 6 partitions.\n",
      "INFO: Replacing 318 node(s) with delegate (TfLiteXNNPackDelegate) node, yielding 1 partitions.\n"
     ]
    },
    {
     "name": "stdout",
     "output_type": "stream",
     "text": [
      "v_JumpingJack_g09_c02.avi: 3 from 3\n"
     ]
    },
    {
     "name": "stderr",
     "output_type": "stream",
     "text": [
      "INFO: Replacing 223 node(s) with delegate (TfLiteXNNPackDelegate) node, yielding 6 partitions.\n",
      "INFO: Replacing 318 node(s) with delegate (TfLiteXNNPackDelegate) node, yielding 1 partitions.\n"
     ]
    },
    {
     "name": "stdout",
     "output_type": "stream",
     "text": [
      "v_JumpingJack_g09_c03.avi: 3 from 3\n"
     ]
    },
    {
     "name": "stderr",
     "output_type": "stream",
     "text": [
      "INFO: Replacing 223 node(s) with delegate (TfLiteXNNPackDelegate) node, yielding 6 partitions.\n",
      "INFO: Replacing 318 node(s) with delegate (TfLiteXNNPackDelegate) node, yielding 1 partitions.\n"
     ]
    },
    {
     "name": "stdout",
     "output_type": "stream",
     "text": [
      "v_JumpingJack_g09_c04.avi: 3 from 3\n"
     ]
    },
    {
     "name": "stderr",
     "output_type": "stream",
     "text": [
      "INFO: Replacing 223 node(s) with delegate (TfLiteXNNPackDelegate) node, yielding 6 partitions.\n",
      "INFO: Replacing 318 node(s) with delegate (TfLiteXNNPackDelegate) node, yielding 1 partitions.\n"
     ]
    },
    {
     "name": "stdout",
     "output_type": "stream",
     "text": [
      "v_JumpingJack_g09_c05.avi: 3 from 3\n"
     ]
    },
    {
     "name": "stderr",
     "output_type": "stream",
     "text": [
      "INFO: Replacing 223 node(s) with delegate (TfLiteXNNPackDelegate) node, yielding 6 partitions.\n",
      "INFO: Replacing 318 node(s) with delegate (TfLiteXNNPackDelegate) node, yielding 1 partitions.\n"
     ]
    },
    {
     "name": "stdout",
     "output_type": "stream",
     "text": [
      "v_JumpingJack_g09_c06.avi: 3 from 3\n"
     ]
    },
    {
     "name": "stderr",
     "output_type": "stream",
     "text": [
      "INFO: Replacing 223 node(s) with delegate (TfLiteXNNPackDelegate) node, yielding 6 partitions.\n",
      "INFO: Replacing 318 node(s) with delegate (TfLiteXNNPackDelegate) node, yielding 1 partitions.\n"
     ]
    },
    {
     "name": "stdout",
     "output_type": "stream",
     "text": [
      "v_JumpingJack_g09_c07.avi: 3 from 3\n"
     ]
    },
    {
     "name": "stderr",
     "output_type": "stream",
     "text": [
      "INFO: Replacing 223 node(s) with delegate (TfLiteXNNPackDelegate) node, yielding 6 partitions.\n",
      "INFO: Replacing 318 node(s) with delegate (TfLiteXNNPackDelegate) node, yielding 1 partitions.\n"
     ]
    },
    {
     "name": "stdout",
     "output_type": "stream",
     "text": [
      "v_JumpingJack_g10_c01.avi: 2 from 3\n"
     ]
    },
    {
     "name": "stderr",
     "output_type": "stream",
     "text": [
      "INFO: Replacing 223 node(s) with delegate (TfLiteXNNPackDelegate) node, yielding 6 partitions.\n",
      "INFO: Replacing 318 node(s) with delegate (TfLiteXNNPackDelegate) node, yielding 1 partitions.\n"
     ]
    },
    {
     "name": "stdout",
     "output_type": "stream",
     "text": [
      "v_JumpingJack_g10_c02.avi: 3 from 3\n"
     ]
    },
    {
     "name": "stderr",
     "output_type": "stream",
     "text": [
      "INFO: Replacing 223 node(s) with delegate (TfLiteXNNPackDelegate) node, yielding 6 partitions.\n",
      "INFO: Replacing 318 node(s) with delegate (TfLiteXNNPackDelegate) node, yielding 1 partitions.\n"
     ]
    },
    {
     "name": "stdout",
     "output_type": "stream",
     "text": [
      "v_JumpingJack_g10_c03.avi: 2 from 3\n"
     ]
    },
    {
     "name": "stderr",
     "output_type": "stream",
     "text": [
      "INFO: Replacing 223 node(s) with delegate (TfLiteXNNPackDelegate) node, yielding 6 partitions.\n",
      "INFO: Replacing 318 node(s) with delegate (TfLiteXNNPackDelegate) node, yielding 1 partitions.\n"
     ]
    },
    {
     "name": "stdout",
     "output_type": "stream",
     "text": [
      "v_JumpingJack_g10_c04.avi: 3 from 3\n"
     ]
    },
    {
     "name": "stderr",
     "output_type": "stream",
     "text": [
      "INFO: Replacing 223 node(s) with delegate (TfLiteXNNPackDelegate) node, yielding 6 partitions.\n",
      "INFO: Replacing 318 node(s) with delegate (TfLiteXNNPackDelegate) node, yielding 1 partitions.\n"
     ]
    },
    {
     "name": "stdout",
     "output_type": "stream",
     "text": [
      "v_JumpingJack_g10_c05.avi: 2 from 3\n"
     ]
    },
    {
     "name": "stderr",
     "output_type": "stream",
     "text": [
      "INFO: Replacing 223 node(s) with delegate (TfLiteXNNPackDelegate) node, yielding 6 partitions.\n",
      "INFO: Replacing 318 node(s) with delegate (TfLiteXNNPackDelegate) node, yielding 1 partitions.\n"
     ]
    },
    {
     "name": "stdout",
     "output_type": "stream",
     "text": [
      "v_JumpingJack_g10_c06.avi: 3 from 3\n"
     ]
    },
    {
     "name": "stderr",
     "output_type": "stream",
     "text": [
      "INFO: Replacing 223 node(s) with delegate (TfLiteXNNPackDelegate) node, yielding 6 partitions.\n",
      "INFO: Replacing 318 node(s) with delegate (TfLiteXNNPackDelegate) node, yielding 1 partitions.\n"
     ]
    },
    {
     "name": "stdout",
     "output_type": "stream",
     "text": [
      "[INFO] error in jumping-jack: 'NoneType' object has no attribute 'landmark'\n",
      "[INFO] error in jumping-jack: 'NoneType' object has no attribute 'landmark'\n",
      "[INFO] error in jumping-jack: 'NoneType' object has no attribute 'landmark'\n",
      "[INFO] error in jumping-jack: 'NoneType' object has no attribute 'landmark'\n",
      "[INFO] error in jumping-jack: 'NoneType' object has no attribute 'landmark'\n",
      "[INFO] error in jumping-jack: 'NoneType' object has no attribute 'landmark'\n",
      "[INFO] error in jumping-jack: 'NoneType' object has no attribute 'landmark'\n",
      "[INFO] error in jumping-jack: 'NoneType' object has no attribute 'landmark'\n",
      "[INFO] error in jumping-jack: 'NoneType' object has no attribute 'landmark'\n",
      "[INFO] error in jumping-jack: 'NoneType' object has no attribute 'landmark'\n",
      "v_JumpingJack_g11_c01.avi: 1 from 3\n"
     ]
    },
    {
     "name": "stderr",
     "output_type": "stream",
     "text": [
      "INFO: Replacing 223 node(s) with delegate (TfLiteXNNPackDelegate) node, yielding 6 partitions.\n",
      "INFO: Replacing 318 node(s) with delegate (TfLiteXNNPackDelegate) node, yielding 1 partitions.\n"
     ]
    },
    {
     "name": "stdout",
     "output_type": "stream",
     "text": [
      "[INFO] error in jumping-jack: 'NoneType' object has no attribute 'landmark'\n",
      "[INFO] error in jumping-jack: 'NoneType' object has no attribute 'landmark'\n",
      "[INFO] error in jumping-jack: 'NoneType' object has no attribute 'landmark'\n",
      "[INFO] error in jumping-jack: 'NoneType' object has no attribute 'landmark'\n",
      "[INFO] error in jumping-jack: 'NoneType' object has no attribute 'landmark'\n",
      "[INFO] error in jumping-jack: 'NoneType' object has no attribute 'landmark'\n",
      "[INFO] error in jumping-jack: 'NoneType' object has no attribute 'landmark'\n",
      "[INFO] error in jumping-jack: 'NoneType' object has no attribute 'landmark'\n",
      "[INFO] error in jumping-jack: 'NoneType' object has no attribute 'landmark'\n",
      "[INFO] error in jumping-jack: 'NoneType' object has no attribute 'landmark'\n",
      "[INFO] error in jumping-jack: 'NoneType' object has no attribute 'landmark'\n",
      "v_JumpingJack_g11_c02.avi: 2 from 3\n"
     ]
    },
    {
     "name": "stderr",
     "output_type": "stream",
     "text": [
      "INFO: Replacing 223 node(s) with delegate (TfLiteXNNPackDelegate) node, yielding 6 partitions.\n",
      "INFO: Replacing 318 node(s) with delegate (TfLiteXNNPackDelegate) node, yielding 1 partitions.\n"
     ]
    },
    {
     "name": "stdout",
     "output_type": "stream",
     "text": [
      "[INFO] error in jumping-jack: 'NoneType' object has no attribute 'landmark'\n",
      "[INFO] error in jumping-jack: 'NoneType' object has no attribute 'landmark'\n",
      "v_JumpingJack_g11_c03.avi: 1 from 3\n"
     ]
    },
    {
     "name": "stderr",
     "output_type": "stream",
     "text": [
      "INFO: Replacing 223 node(s) with delegate (TfLiteXNNPackDelegate) node, yielding 6 partitions.\n",
      "INFO: Replacing 318 node(s) with delegate (TfLiteXNNPackDelegate) node, yielding 1 partitions.\n"
     ]
    },
    {
     "name": "stdout",
     "output_type": "stream",
     "text": [
      "v_JumpingJack_g11_c04.avi: 1 from 3\n"
     ]
    },
    {
     "name": "stderr",
     "output_type": "stream",
     "text": [
      "INFO: Replacing 223 node(s) with delegate (TfLiteXNNPackDelegate) node, yielding 6 partitions.\n",
      "INFO: Replacing 318 node(s) with delegate (TfLiteXNNPackDelegate) node, yielding 1 partitions.\n"
     ]
    },
    {
     "name": "stdout",
     "output_type": "stream",
     "text": [
      "v_JumpingJack_g12_c01.avi: 3 from 3\n"
     ]
    },
    {
     "name": "stderr",
     "output_type": "stream",
     "text": [
      "INFO: Replacing 223 node(s) with delegate (TfLiteXNNPackDelegate) node, yielding 6 partitions.\n",
      "INFO: Replacing 318 node(s) with delegate (TfLiteXNNPackDelegate) node, yielding 1 partitions.\n"
     ]
    },
    {
     "name": "stdout",
     "output_type": "stream",
     "text": [
      "v_JumpingJack_g12_c02.avi: 3 from 3\n"
     ]
    },
    {
     "name": "stderr",
     "output_type": "stream",
     "text": [
      "INFO: Replacing 223 node(s) with delegate (TfLiteXNNPackDelegate) node, yielding 6 partitions.\n",
      "INFO: Replacing 318 node(s) with delegate (TfLiteXNNPackDelegate) node, yielding 1 partitions.\n"
     ]
    },
    {
     "name": "stdout",
     "output_type": "stream",
     "text": [
      "v_JumpingJack_g12_c03.avi: 3 from 3\n"
     ]
    },
    {
     "name": "stderr",
     "output_type": "stream",
     "text": [
      "INFO: Replacing 223 node(s) with delegate (TfLiteXNNPackDelegate) node, yielding 6 partitions.\n",
      "INFO: Replacing 318 node(s) with delegate (TfLiteXNNPackDelegate) node, yielding 1 partitions.\n"
     ]
    },
    {
     "name": "stdout",
     "output_type": "stream",
     "text": [
      "v_JumpingJack_g12_c04.avi: 3 from 3\n"
     ]
    },
    {
     "name": "stderr",
     "output_type": "stream",
     "text": [
      "INFO: Replacing 223 node(s) with delegate (TfLiteXNNPackDelegate) node, yielding 6 partitions.\n",
      "INFO: Replacing 318 node(s) with delegate (TfLiteXNNPackDelegate) node, yielding 1 partitions.\n"
     ]
    },
    {
     "name": "stdout",
     "output_type": "stream",
     "text": [
      "v_JumpingJack_g13_c01.avi: 3 from 3\n"
     ]
    },
    {
     "name": "stderr",
     "output_type": "stream",
     "text": [
      "INFO: Replacing 223 node(s) with delegate (TfLiteXNNPackDelegate) node, yielding 6 partitions.\n",
      "INFO: Replacing 318 node(s) with delegate (TfLiteXNNPackDelegate) node, yielding 1 partitions.\n"
     ]
    },
    {
     "name": "stdout",
     "output_type": "stream",
     "text": [
      "v_JumpingJack_g13_c02.avi: 3 from 3\n"
     ]
    },
    {
     "name": "stderr",
     "output_type": "stream",
     "text": [
      "INFO: Replacing 223 node(s) with delegate (TfLiteXNNPackDelegate) node, yielding 6 partitions.\n",
      "INFO: Replacing 318 node(s) with delegate (TfLiteXNNPackDelegate) node, yielding 1 partitions.\n"
     ]
    },
    {
     "name": "stdout",
     "output_type": "stream",
     "text": [
      "v_JumpingJack_g13_c03.avi: 3 from 3\n"
     ]
    },
    {
     "name": "stderr",
     "output_type": "stream",
     "text": [
      "INFO: Replacing 223 node(s) with delegate (TfLiteXNNPackDelegate) node, yielding 6 partitions.\n",
      "INFO: Replacing 318 node(s) with delegate (TfLiteXNNPackDelegate) node, yielding 1 partitions.\n"
     ]
    },
    {
     "name": "stdout",
     "output_type": "stream",
     "text": [
      "v_JumpingJack_g13_c04.avi: 3 from 3\n"
     ]
    },
    {
     "name": "stderr",
     "output_type": "stream",
     "text": [
      "INFO: Replacing 223 node(s) with delegate (TfLiteXNNPackDelegate) node, yielding 6 partitions.\n",
      "INFO: Replacing 318 node(s) with delegate (TfLiteXNNPackDelegate) node, yielding 1 partitions.\n"
     ]
    },
    {
     "name": "stdout",
     "output_type": "stream",
     "text": [
      "v_JumpingJack_g13_c05.avi: 3 from 3\n"
     ]
    },
    {
     "name": "stderr",
     "output_type": "stream",
     "text": [
      "INFO: Replacing 223 node(s) with delegate (TfLiteXNNPackDelegate) node, yielding 6 partitions.\n",
      "INFO: Replacing 318 node(s) with delegate (TfLiteXNNPackDelegate) node, yielding 1 partitions.\n"
     ]
    },
    {
     "name": "stdout",
     "output_type": "stream",
     "text": [
      "v_JumpingJack_g13_c06.avi: 2 from 2\n"
     ]
    },
    {
     "name": "stderr",
     "output_type": "stream",
     "text": [
      "INFO: Replacing 223 node(s) with delegate (TfLiteXNNPackDelegate) node, yielding 6 partitions.\n",
      "INFO: Replacing 318 node(s) with delegate (TfLiteXNNPackDelegate) node, yielding 1 partitions.\n"
     ]
    },
    {
     "name": "stdout",
     "output_type": "stream",
     "text": [
      "v_JumpingJack_g13_c07.avi: 3 from 3\n"
     ]
    },
    {
     "name": "stderr",
     "output_type": "stream",
     "text": [
      "INFO: Replacing 223 node(s) with delegate (TfLiteXNNPackDelegate) node, yielding 6 partitions.\n",
      "INFO: Replacing 318 node(s) with delegate (TfLiteXNNPackDelegate) node, yielding 1 partitions.\n"
     ]
    },
    {
     "name": "stdout",
     "output_type": "stream",
     "text": [
      "v_JumpingJack_g14_c01.avi: 3 from 3\n"
     ]
    },
    {
     "name": "stderr",
     "output_type": "stream",
     "text": [
      "INFO: Replacing 223 node(s) with delegate (TfLiteXNNPackDelegate) node, yielding 6 partitions.\n",
      "INFO: Replacing 318 node(s) with delegate (TfLiteXNNPackDelegate) node, yielding 1 partitions.\n"
     ]
    },
    {
     "name": "stdout",
     "output_type": "stream",
     "text": [
      "v_JumpingJack_g14_c02.avi: 2 from 2\n"
     ]
    },
    {
     "name": "stderr",
     "output_type": "stream",
     "text": [
      "INFO: Replacing 223 node(s) with delegate (TfLiteXNNPackDelegate) node, yielding 6 partitions.\n",
      "INFO: Replacing 318 node(s) with delegate (TfLiteXNNPackDelegate) node, yielding 1 partitions.\n"
     ]
    },
    {
     "name": "stdout",
     "output_type": "stream",
     "text": [
      "v_JumpingJack_g14_c03.avi: 2 from 2\n"
     ]
    },
    {
     "name": "stderr",
     "output_type": "stream",
     "text": [
      "INFO: Replacing 223 node(s) with delegate (TfLiteXNNPackDelegate) node, yielding 6 partitions.\n",
      "INFO: Replacing 318 node(s) with delegate (TfLiteXNNPackDelegate) node, yielding 1 partitions.\n"
     ]
    },
    {
     "name": "stdout",
     "output_type": "stream",
     "text": [
      "v_JumpingJack_g14_c04.avi: 2 from 2\n"
     ]
    },
    {
     "name": "stderr",
     "output_type": "stream",
     "text": [
      "INFO: Replacing 223 node(s) with delegate (TfLiteXNNPackDelegate) node, yielding 6 partitions.\n",
      "INFO: Replacing 318 node(s) with delegate (TfLiteXNNPackDelegate) node, yielding 1 partitions.\n"
     ]
    },
    {
     "name": "stdout",
     "output_type": "stream",
     "text": [
      "v_JumpingJack_g15_c01.avi: 3 from 3\n"
     ]
    },
    {
     "name": "stderr",
     "output_type": "stream",
     "text": [
      "INFO: Replacing 223 node(s) with delegate (TfLiteXNNPackDelegate) node, yielding 6 partitions.\n",
      "INFO: Replacing 318 node(s) with delegate (TfLiteXNNPackDelegate) node, yielding 1 partitions.\n"
     ]
    },
    {
     "name": "stdout",
     "output_type": "stream",
     "text": [
      "v_JumpingJack_g15_c02.avi: 2 from 2\n"
     ]
    },
    {
     "name": "stderr",
     "output_type": "stream",
     "text": [
      "INFO: Replacing 223 node(s) with delegate (TfLiteXNNPackDelegate) node, yielding 6 partitions.\n",
      "INFO: Replacing 318 node(s) with delegate (TfLiteXNNPackDelegate) node, yielding 1 partitions.\n"
     ]
    },
    {
     "name": "stdout",
     "output_type": "stream",
     "text": [
      "v_JumpingJack_g15_c03.avi: 3 from 3\n"
     ]
    },
    {
     "name": "stderr",
     "output_type": "stream",
     "text": [
      "INFO: Replacing 223 node(s) with delegate (TfLiteXNNPackDelegate) node, yielding 6 partitions.\n",
      "INFO: Replacing 318 node(s) with delegate (TfLiteXNNPackDelegate) node, yielding 1 partitions.\n"
     ]
    },
    {
     "name": "stdout",
     "output_type": "stream",
     "text": [
      "v_JumpingJack_g15_c04.avi: 3 from 3\n"
     ]
    },
    {
     "name": "stderr",
     "output_type": "stream",
     "text": [
      "INFO: Replacing 223 node(s) with delegate (TfLiteXNNPackDelegate) node, yielding 6 partitions.\n",
      "INFO: Replacing 318 node(s) with delegate (TfLiteXNNPackDelegate) node, yielding 1 partitions.\n"
     ]
    },
    {
     "name": "stdout",
     "output_type": "stream",
     "text": [
      "v_JumpingJack_g16_c01.avi: 2 from 2\n"
     ]
    },
    {
     "name": "stderr",
     "output_type": "stream",
     "text": [
      "INFO: Replacing 223 node(s) with delegate (TfLiteXNNPackDelegate) node, yielding 6 partitions.\n",
      "INFO: Replacing 318 node(s) with delegate (TfLiteXNNPackDelegate) node, yielding 1 partitions.\n"
     ]
    },
    {
     "name": "stdout",
     "output_type": "stream",
     "text": [
      "v_JumpingJack_g16_c02.avi: 2 from 2\n"
     ]
    },
    {
     "name": "stderr",
     "output_type": "stream",
     "text": [
      "INFO: Replacing 223 node(s) with delegate (TfLiteXNNPackDelegate) node, yielding 6 partitions.\n",
      "INFO: Replacing 318 node(s) with delegate (TfLiteXNNPackDelegate) node, yielding 1 partitions.\n"
     ]
    },
    {
     "name": "stdout",
     "output_type": "stream",
     "text": [
      "v_JumpingJack_g16_c03.avi: 2 from 2\n"
     ]
    },
    {
     "name": "stderr",
     "output_type": "stream",
     "text": [
      "INFO: Replacing 223 node(s) with delegate (TfLiteXNNPackDelegate) node, yielding 6 partitions.\n",
      "INFO: Replacing 318 node(s) with delegate (TfLiteXNNPackDelegate) node, yielding 1 partitions.\n"
     ]
    },
    {
     "name": "stdout",
     "output_type": "stream",
     "text": [
      "v_JumpingJack_g16_c04.avi: 2 from 2\n"
     ]
    },
    {
     "name": "stderr",
     "output_type": "stream",
     "text": [
      "INFO: Replacing 223 node(s) with delegate (TfLiteXNNPackDelegate) node, yielding 6 partitions.\n",
      "INFO: Replacing 318 node(s) with delegate (TfLiteXNNPackDelegate) node, yielding 1 partitions.\n"
     ]
    },
    {
     "name": "stdout",
     "output_type": "stream",
     "text": [
      "v_JumpingJack_g17_c01.avi: 3 from 3\n"
     ]
    },
    {
     "name": "stderr",
     "output_type": "stream",
     "text": [
      "INFO: Replacing 223 node(s) with delegate (TfLiteXNNPackDelegate) node, yielding 6 partitions.\n",
      "INFO: Replacing 318 node(s) with delegate (TfLiteXNNPackDelegate) node, yielding 1 partitions.\n"
     ]
    },
    {
     "name": "stdout",
     "output_type": "stream",
     "text": [
      "v_JumpingJack_g17_c02.avi: 3 from 3\n"
     ]
    },
    {
     "name": "stderr",
     "output_type": "stream",
     "text": [
      "INFO: Replacing 223 node(s) with delegate (TfLiteXNNPackDelegate) node, yielding 6 partitions.\n",
      "INFO: Replacing 318 node(s) with delegate (TfLiteXNNPackDelegate) node, yielding 1 partitions.\n"
     ]
    },
    {
     "name": "stdout",
     "output_type": "stream",
     "text": [
      "v_JumpingJack_g17_c03.avi: 3 from 3\n"
     ]
    },
    {
     "name": "stderr",
     "output_type": "stream",
     "text": [
      "INFO: Replacing 223 node(s) with delegate (TfLiteXNNPackDelegate) node, yielding 6 partitions.\n",
      "INFO: Replacing 318 node(s) with delegate (TfLiteXNNPackDelegate) node, yielding 1 partitions.\n"
     ]
    },
    {
     "name": "stdout",
     "output_type": "stream",
     "text": [
      "v_JumpingJack_g17_c04.avi: 3 from 3\n"
     ]
    },
    {
     "name": "stderr",
     "output_type": "stream",
     "text": [
      "INFO: Replacing 223 node(s) with delegate (TfLiteXNNPackDelegate) node, yielding 6 partitions.\n",
      "INFO: Replacing 318 node(s) with delegate (TfLiteXNNPackDelegate) node, yielding 1 partitions.\n"
     ]
    },
    {
     "name": "stdout",
     "output_type": "stream",
     "text": [
      "v_JumpingJack_g18_c01.avi: 3 from 3\n"
     ]
    },
    {
     "name": "stderr",
     "output_type": "stream",
     "text": [
      "INFO: Replacing 223 node(s) with delegate (TfLiteXNNPackDelegate) node, yielding 6 partitions.\n",
      "INFO: Replacing 318 node(s) with delegate (TfLiteXNNPackDelegate) node, yielding 1 partitions.\n"
     ]
    },
    {
     "name": "stdout",
     "output_type": "stream",
     "text": [
      "v_JumpingJack_g18_c02.avi: 2 from 2\n"
     ]
    },
    {
     "name": "stderr",
     "output_type": "stream",
     "text": [
      "INFO: Replacing 223 node(s) with delegate (TfLiteXNNPackDelegate) node, yielding 6 partitions.\n",
      "INFO: Replacing 318 node(s) with delegate (TfLiteXNNPackDelegate) node, yielding 1 partitions.\n"
     ]
    },
    {
     "name": "stdout",
     "output_type": "stream",
     "text": [
      "v_JumpingJack_g18_c03.avi: 3 from 3\n"
     ]
    },
    {
     "name": "stderr",
     "output_type": "stream",
     "text": [
      "INFO: Replacing 223 node(s) with delegate (TfLiteXNNPackDelegate) node, yielding 6 partitions.\n",
      "INFO: Replacing 318 node(s) with delegate (TfLiteXNNPackDelegate) node, yielding 1 partitions.\n"
     ]
    },
    {
     "name": "stdout",
     "output_type": "stream",
     "text": [
      "v_JumpingJack_g18_c04.avi: 3 from 3\n"
     ]
    },
    {
     "name": "stderr",
     "output_type": "stream",
     "text": [
      "INFO: Replacing 223 node(s) with delegate (TfLiteXNNPackDelegate) node, yielding 6 partitions.\n",
      "INFO: Replacing 318 node(s) with delegate (TfLiteXNNPackDelegate) node, yielding 1 partitions.\n"
     ]
    },
    {
     "name": "stdout",
     "output_type": "stream",
     "text": [
      "v_JumpingJack_g19_c01.avi: 3 from 3\n"
     ]
    },
    {
     "name": "stderr",
     "output_type": "stream",
     "text": [
      "INFO: Replacing 223 node(s) with delegate (TfLiteXNNPackDelegate) node, yielding 6 partitions.\n",
      "INFO: Replacing 318 node(s) with delegate (TfLiteXNNPackDelegate) node, yielding 1 partitions.\n"
     ]
    },
    {
     "name": "stdout",
     "output_type": "stream",
     "text": [
      "v_JumpingJack_g19_c02.avi: 3 from 3\n"
     ]
    },
    {
     "name": "stderr",
     "output_type": "stream",
     "text": [
      "INFO: Replacing 223 node(s) with delegate (TfLiteXNNPackDelegate) node, yielding 6 partitions.\n",
      "INFO: Replacing 318 node(s) with delegate (TfLiteXNNPackDelegate) node, yielding 1 partitions.\n"
     ]
    },
    {
     "name": "stdout",
     "output_type": "stream",
     "text": [
      "v_JumpingJack_g19_c03.avi: 3 from 3\n"
     ]
    },
    {
     "name": "stderr",
     "output_type": "stream",
     "text": [
      "INFO: Replacing 223 node(s) with delegate (TfLiteXNNPackDelegate) node, yielding 6 partitions.\n",
      "INFO: Replacing 318 node(s) with delegate (TfLiteXNNPackDelegate) node, yielding 1 partitions.\n"
     ]
    },
    {
     "name": "stdout",
     "output_type": "stream",
     "text": [
      "v_JumpingJack_g19_c04.avi: 3 from 3\n"
     ]
    },
    {
     "name": "stderr",
     "output_type": "stream",
     "text": [
      "INFO: Replacing 223 node(s) with delegate (TfLiteXNNPackDelegate) node, yielding 6 partitions.\n",
      "INFO: Replacing 318 node(s) with delegate (TfLiteXNNPackDelegate) node, yielding 1 partitions.\n"
     ]
    },
    {
     "name": "stdout",
     "output_type": "stream",
     "text": [
      "v_JumpingJack_g19_c05.avi: 3 from 3\n"
     ]
    },
    {
     "name": "stderr",
     "output_type": "stream",
     "text": [
      "INFO: Replacing 223 node(s) with delegate (TfLiteXNNPackDelegate) node, yielding 6 partitions.\n",
      "INFO: Replacing 318 node(s) with delegate (TfLiteXNNPackDelegate) node, yielding 1 partitions.\n"
     ]
    },
    {
     "name": "stdout",
     "output_type": "stream",
     "text": [
      "v_JumpingJack_g19_c06.avi: 2 from 3\n"
     ]
    },
    {
     "name": "stderr",
     "output_type": "stream",
     "text": [
      "INFO: Replacing 223 node(s) with delegate (TfLiteXNNPackDelegate) node, yielding 6 partitions.\n",
      "INFO: Replacing 318 node(s) with delegate (TfLiteXNNPackDelegate) node, yielding 1 partitions.\n"
     ]
    },
    {
     "name": "stdout",
     "output_type": "stream",
     "text": [
      "v_JumpingJack_g19_c07.avi: 3 from 3\n"
     ]
    },
    {
     "name": "stderr",
     "output_type": "stream",
     "text": [
      "INFO: Replacing 223 node(s) with delegate (TfLiteXNNPackDelegate) node, yielding 6 partitions.\n",
      "INFO: Replacing 318 node(s) with delegate (TfLiteXNNPackDelegate) node, yielding 1 partitions.\n"
     ]
    },
    {
     "name": "stdout",
     "output_type": "stream",
     "text": [
      "v_JumpingJack_g20_c01.avi: 3 from 3\n"
     ]
    },
    {
     "name": "stderr",
     "output_type": "stream",
     "text": [
      "INFO: Replacing 223 node(s) with delegate (TfLiteXNNPackDelegate) node, yielding 6 partitions.\n",
      "INFO: Replacing 318 node(s) with delegate (TfLiteXNNPackDelegate) node, yielding 1 partitions.\n"
     ]
    },
    {
     "name": "stdout",
     "output_type": "stream",
     "text": [
      "v_JumpingJack_g20_c02.avi: 3 from 3\n"
     ]
    },
    {
     "name": "stderr",
     "output_type": "stream",
     "text": [
      "INFO: Replacing 223 node(s) with delegate (TfLiteXNNPackDelegate) node, yielding 6 partitions.\n",
      "INFO: Replacing 318 node(s) with delegate (TfLiteXNNPackDelegate) node, yielding 1 partitions.\n"
     ]
    },
    {
     "name": "stdout",
     "output_type": "stream",
     "text": [
      "v_JumpingJack_g20_c03.avi: 3 from 3\n"
     ]
    },
    {
     "name": "stderr",
     "output_type": "stream",
     "text": [
      "INFO: Replacing 223 node(s) with delegate (TfLiteXNNPackDelegate) node, yielding 6 partitions.\n",
      "INFO: Replacing 318 node(s) with delegate (TfLiteXNNPackDelegate) node, yielding 1 partitions.\n"
     ]
    },
    {
     "name": "stdout",
     "output_type": "stream",
     "text": [
      "v_JumpingJack_g20_c04.avi: 2 from 2\n"
     ]
    },
    {
     "name": "stderr",
     "output_type": "stream",
     "text": [
      "INFO: Replacing 223 node(s) with delegate (TfLiteXNNPackDelegate) node, yielding 6 partitions.\n",
      "INFO: Replacing 318 node(s) with delegate (TfLiteXNNPackDelegate) node, yielding 1 partitions.\n"
     ]
    },
    {
     "name": "stdout",
     "output_type": "stream",
     "text": [
      "v_JumpingJack_g21_c01.avi: 3 from 3\n"
     ]
    },
    {
     "name": "stderr",
     "output_type": "stream",
     "text": [
      "INFO: Replacing 223 node(s) with delegate (TfLiteXNNPackDelegate) node, yielding 6 partitions.\n",
      "INFO: Replacing 318 node(s) with delegate (TfLiteXNNPackDelegate) node, yielding 1 partitions.\n"
     ]
    },
    {
     "name": "stdout",
     "output_type": "stream",
     "text": [
      "v_JumpingJack_g21_c02.avi: 3 from 3\n"
     ]
    },
    {
     "name": "stderr",
     "output_type": "stream",
     "text": [
      "INFO: Replacing 223 node(s) with delegate (TfLiteXNNPackDelegate) node, yielding 6 partitions.\n",
      "INFO: Replacing 318 node(s) with delegate (TfLiteXNNPackDelegate) node, yielding 1 partitions.\n"
     ]
    },
    {
     "name": "stdout",
     "output_type": "stream",
     "text": [
      "v_JumpingJack_g21_c03.avi: 3 from 3\n"
     ]
    },
    {
     "name": "stderr",
     "output_type": "stream",
     "text": [
      "INFO: Replacing 223 node(s) with delegate (TfLiteXNNPackDelegate) node, yielding 6 partitions.\n",
      "INFO: Replacing 318 node(s) with delegate (TfLiteXNNPackDelegate) node, yielding 1 partitions.\n"
     ]
    },
    {
     "name": "stdout",
     "output_type": "stream",
     "text": [
      "v_JumpingJack_g21_c04.avi: 3 from 3\n"
     ]
    },
    {
     "name": "stderr",
     "output_type": "stream",
     "text": [
      "INFO: Replacing 223 node(s) with delegate (TfLiteXNNPackDelegate) node, yielding 6 partitions.\n",
      "INFO: Replacing 318 node(s) with delegate (TfLiteXNNPackDelegate) node, yielding 1 partitions.\n"
     ]
    },
    {
     "name": "stdout",
     "output_type": "stream",
     "text": [
      "v_JumpingJack_g22_c01.avi: 3 from 3\n"
     ]
    },
    {
     "name": "stderr",
     "output_type": "stream",
     "text": [
      "INFO: Replacing 223 node(s) with delegate (TfLiteXNNPackDelegate) node, yielding 6 partitions.\n",
      "INFO: Replacing 318 node(s) with delegate (TfLiteXNNPackDelegate) node, yielding 1 partitions.\n"
     ]
    },
    {
     "name": "stdout",
     "output_type": "stream",
     "text": [
      "v_JumpingJack_g22_c02.avi: 2 from 2\n"
     ]
    },
    {
     "name": "stderr",
     "output_type": "stream",
     "text": [
      "INFO: Replacing 223 node(s) with delegate (TfLiteXNNPackDelegate) node, yielding 6 partitions.\n",
      "INFO: Replacing 318 node(s) with delegate (TfLiteXNNPackDelegate) node, yielding 1 partitions.\n"
     ]
    },
    {
     "name": "stdout",
     "output_type": "stream",
     "text": [
      "v_JumpingJack_g22_c03.avi: 3 from 3\n"
     ]
    },
    {
     "name": "stderr",
     "output_type": "stream",
     "text": [
      "INFO: Replacing 223 node(s) with delegate (TfLiteXNNPackDelegate) node, yielding 6 partitions.\n",
      "INFO: Replacing 318 node(s) with delegate (TfLiteXNNPackDelegate) node, yielding 1 partitions.\n"
     ]
    },
    {
     "name": "stdout",
     "output_type": "stream",
     "text": [
      "v_JumpingJack_g22_c04.avi: 2 from 2\n"
     ]
    },
    {
     "name": "stderr",
     "output_type": "stream",
     "text": [
      "INFO: Replacing 223 node(s) with delegate (TfLiteXNNPackDelegate) node, yielding 6 partitions.\n",
      "INFO: Replacing 318 node(s) with delegate (TfLiteXNNPackDelegate) node, yielding 1 partitions.\n"
     ]
    },
    {
     "name": "stdout",
     "output_type": "stream",
     "text": [
      "v_JumpingJack_g23_c01.avi: 3 from 3\n"
     ]
    },
    {
     "name": "stderr",
     "output_type": "stream",
     "text": [
      "INFO: Replacing 223 node(s) with delegate (TfLiteXNNPackDelegate) node, yielding 6 partitions.\n",
      "INFO: Replacing 318 node(s) with delegate (TfLiteXNNPackDelegate) node, yielding 1 partitions.\n"
     ]
    },
    {
     "name": "stdout",
     "output_type": "stream",
     "text": [
      "v_JumpingJack_g23_c02.avi: 3 from 3\n",
      "[INFO] error in jumping-jack: 'NoneType' object has no attribute 'landmark'\n",
      "[INFO] error in jumping-jack: 'NoneType' object has no attribute 'landmark'\n",
      "[INFO] error in jumping-jack: 'NoneType' object has no attribute 'landmark'\n",
      "[INFO] error in jumping-jack: 'NoneType' object has no attribute 'landmark'\n"
     ]
    },
    {
     "name": "stderr",
     "output_type": "stream",
     "text": [
      "INFO: Replacing 223 node(s) with delegate (TfLiteXNNPackDelegate) node, yielding 6 partitions.\n",
      "INFO: Replacing 318 node(s) with delegate (TfLiteXNNPackDelegate) node, yielding 1 partitions.\n"
     ]
    },
    {
     "name": "stdout",
     "output_type": "stream",
     "text": [
      "[INFO] error in jumping-jack: 'NoneType' object has no attribute 'landmark'\n",
      "[INFO] error in jumping-jack: 'NoneType' object has no attribute 'landmark'\n",
      "[INFO] error in jumping-jack: 'NoneType' object has no attribute 'landmark'\n",
      "[INFO] error in jumping-jack: 'NoneType' object has no attribute 'landmark'\n",
      "v_JumpingJack_g23_c03.avi: 3 from 3\n"
     ]
    },
    {
     "name": "stderr",
     "output_type": "stream",
     "text": [
      "INFO: Replacing 223 node(s) with delegate (TfLiteXNNPackDelegate) node, yielding 6 partitions.\n",
      "INFO: Replacing 318 node(s) with delegate (TfLiteXNNPackDelegate) node, yielding 1 partitions.\n"
     ]
    },
    {
     "name": "stdout",
     "output_type": "stream",
     "text": [
      "[INFO] error in jumping-jack: 'NoneType' object has no attribute 'landmark'\n",
      "v_JumpingJack_g23_c04.avi: 2 from 2\n"
     ]
    },
    {
     "name": "stderr",
     "output_type": "stream",
     "text": [
      "INFO: Replacing 223 node(s) with delegate (TfLiteXNNPackDelegate) node, yielding 6 partitions.\n",
      "INFO: Replacing 318 node(s) with delegate (TfLiteXNNPackDelegate) node, yielding 1 partitions.\n"
     ]
    },
    {
     "name": "stdout",
     "output_type": "stream",
     "text": [
      "v_JumpingJack_g24_c01.avi: 2 from 2\n"
     ]
    },
    {
     "name": "stderr",
     "output_type": "stream",
     "text": [
      "INFO: Replacing 223 node(s) with delegate (TfLiteXNNPackDelegate) node, yielding 6 partitions.\n",
      "INFO: Replacing 318 node(s) with delegate (TfLiteXNNPackDelegate) node, yielding 1 partitions.\n"
     ]
    },
    {
     "name": "stdout",
     "output_type": "stream",
     "text": [
      "v_JumpingJack_g24_c02.avi: 2 from 2\n"
     ]
    },
    {
     "name": "stderr",
     "output_type": "stream",
     "text": [
      "INFO: Replacing 223 node(s) with delegate (TfLiteXNNPackDelegate) node, yielding 6 partitions.\n",
      "INFO: Replacing 318 node(s) with delegate (TfLiteXNNPackDelegate) node, yielding 1 partitions.\n"
     ]
    },
    {
     "name": "stdout",
     "output_type": "stream",
     "text": [
      "v_JumpingJack_g24_c03.avi: 2 from 2\n"
     ]
    },
    {
     "name": "stderr",
     "output_type": "stream",
     "text": [
      "INFO: Replacing 223 node(s) with delegate (TfLiteXNNPackDelegate) node, yielding 6 partitions.\n",
      "INFO: Replacing 318 node(s) with delegate (TfLiteXNNPackDelegate) node, yielding 1 partitions.\n"
     ]
    },
    {
     "name": "stdout",
     "output_type": "stream",
     "text": [
      "v_JumpingJack_g24_c04.avi: 2 from 2\n"
     ]
    },
    {
     "name": "stderr",
     "output_type": "stream",
     "text": [
      "INFO: Replacing 223 node(s) with delegate (TfLiteXNNPackDelegate) node, yielding 6 partitions.\n",
      "INFO: Replacing 318 node(s) with delegate (TfLiteXNNPackDelegate) node, yielding 1 partitions.\n"
     ]
    },
    {
     "name": "stdout",
     "output_type": "stream",
     "text": [
      "v_JumpingJack_g25_c01.avi: 3 from 3\n"
     ]
    },
    {
     "name": "stderr",
     "output_type": "stream",
     "text": [
      "INFO: Replacing 223 node(s) with delegate (TfLiteXNNPackDelegate) node, yielding 6 partitions.\n",
      "INFO: Replacing 318 node(s) with delegate (TfLiteXNNPackDelegate) node, yielding 1 partitions.\n"
     ]
    },
    {
     "name": "stdout",
     "output_type": "stream",
     "text": [
      "v_JumpingJack_g25_c02.avi: 3 from 3\n"
     ]
    },
    {
     "name": "stderr",
     "output_type": "stream",
     "text": [
      "INFO: Replacing 223 node(s) with delegate (TfLiteXNNPackDelegate) node, yielding 6 partitions.\n",
      "INFO: Replacing 318 node(s) with delegate (TfLiteXNNPackDelegate) node, yielding 1 partitions.\n"
     ]
    },
    {
     "name": "stdout",
     "output_type": "stream",
     "text": [
      "v_JumpingJack_g25_c03.avi: 3 from 3\n"
     ]
    },
    {
     "name": "stderr",
     "output_type": "stream",
     "text": [
      "INFO: Replacing 223 node(s) with delegate (TfLiteXNNPackDelegate) node, yielding 6 partitions.\n",
      "INFO: Replacing 318 node(s) with delegate (TfLiteXNNPackDelegate) node, yielding 1 partitions.\n"
     ]
    },
    {
     "name": "stdout",
     "output_type": "stream",
     "text": [
      "v_JumpingJack_g25_c04.avi: 3 from 3\n"
     ]
    },
    {
     "name": "stderr",
     "output_type": "stream",
     "text": [
      "INFO: Replacing 223 node(s) with delegate (TfLiteXNNPackDelegate) node, yielding 6 partitions.\n",
      "INFO: Replacing 318 node(s) with delegate (TfLiteXNNPackDelegate) node, yielding 1 partitions.\n"
     ]
    },
    {
     "name": "stdout",
     "output_type": "stream",
     "text": [
      "v_JumpingJack_g25_c05.avi: 3 from 3\n"
     ]
    },
    {
     "name": "stderr",
     "output_type": "stream",
     "text": [
      "INFO: Replacing 223 node(s) with delegate (TfLiteXNNPackDelegate) node, yielding 6 partitions.\n",
      "INFO: Replacing 318 node(s) with delegate (TfLiteXNNPackDelegate) node, yielding 1 partitions.\n"
     ]
    },
    {
     "name": "stdout",
     "output_type": "stream",
     "text": [
      "v_JumpingJack_g25_c06.avi: 3 from 3\n"
     ]
    },
    {
     "name": "stderr",
     "output_type": "stream",
     "text": [
      "INFO: Replacing 223 node(s) with delegate (TfLiteXNNPackDelegate) node, yielding 6 partitions.\n",
      "INFO: Replacing 318 node(s) with delegate (TfLiteXNNPackDelegate) node, yielding 1 partitions.\n"
     ]
    },
    {
     "name": "stdout",
     "output_type": "stream",
     "text": [
      "v_JumpingJack_g25_c07.avi: 3 from 3\n",
      "WARNING:tensorflow:Layer lstm will not use cuDNN kernels since it doesn't meet the criteria. It will use a generic GPU kernel as fallback when running on GPU.\n"
     ]
    },
    {
     "name": "stderr",
     "output_type": "stream",
     "text": [
      "INFO: Replacing 223 node(s) with delegate (TfLiteXNNPackDelegate) node, yielding 6 partitions.\n",
      "INFO: Replacing 318 node(s) with delegate (TfLiteXNNPackDelegate) node, yielding 1 partitions.\n"
     ]
    },
    {
     "name": "stdout",
     "output_type": "stream",
     "text": [
      "v_PushUps_g01_c01.avi: 2 from 2\n"
     ]
    },
    {
     "name": "stderr",
     "output_type": "stream",
     "text": [
      "INFO: Replacing 223 node(s) with delegate (TfLiteXNNPackDelegate) node, yielding 6 partitions.\n",
      "INFO: Replacing 318 node(s) with delegate (TfLiteXNNPackDelegate) node, yielding 1 partitions.\n"
     ]
    },
    {
     "name": "stdout",
     "output_type": "stream",
     "text": [
      "v_PushUps_g01_c02.avi: 2 from 2\n"
     ]
    },
    {
     "name": "stderr",
     "output_type": "stream",
     "text": [
      "INFO: Replacing 223 node(s) with delegate (TfLiteXNNPackDelegate) node, yielding 6 partitions.\n",
      "INFO: Replacing 318 node(s) with delegate (TfLiteXNNPackDelegate) node, yielding 1 partitions.\n"
     ]
    },
    {
     "name": "stdout",
     "output_type": "stream",
     "text": [
      "v_PushUps_g01_c03.avi: 2 from 2\n"
     ]
    },
    {
     "name": "stderr",
     "output_type": "stream",
     "text": [
      "INFO: Replacing 223 node(s) with delegate (TfLiteXNNPackDelegate) node, yielding 6 partitions.\n",
      "INFO: Replacing 318 node(s) with delegate (TfLiteXNNPackDelegate) node, yielding 1 partitions.\n"
     ]
    },
    {
     "name": "stdout",
     "output_type": "stream",
     "text": [
      "[INFO] error in pushup: 'NoneType' object has no attribute 'landmark'\n",
      "[INFO] error in pushup: 'NoneType' object has no attribute 'landmark'\n",
      "[INFO] error in pushup: 'NoneType' object has no attribute 'landmark'\n",
      "[INFO] error in pushup: 'NoneType' object has no attribute 'landmark'\n",
      "[INFO] error in pushup: 'NoneType' object has no attribute 'landmark'\n",
      "[INFO] error in pushup: 'NoneType' object has no attribute 'landmark'\n",
      "[INFO] error in pushup: 'NoneType' object has no attribute 'landmark'\n",
      "[INFO] error in pushup: 'NoneType' object has no attribute 'landmark'\n",
      "v_PushUps_g01_c04.avi: 2 from 2\n"
     ]
    },
    {
     "name": "stderr",
     "output_type": "stream",
     "text": [
      "INFO: Replacing 223 node(s) with delegate (TfLiteXNNPackDelegate) node, yielding 6 partitions.\n",
      "INFO: Replacing 318 node(s) with delegate (TfLiteXNNPackDelegate) node, yielding 1 partitions.\n"
     ]
    },
    {
     "name": "stdout",
     "output_type": "stream",
     "text": [
      "v_PushUps_g01_c05.avi: 2 from 2\n"
     ]
    },
    {
     "name": "stderr",
     "output_type": "stream",
     "text": [
      "INFO: Replacing 223 node(s) with delegate (TfLiteXNNPackDelegate) node, yielding 6 partitions.\n",
      "INFO: Replacing 318 node(s) with delegate (TfLiteXNNPackDelegate) node, yielding 1 partitions.\n"
     ]
    },
    {
     "name": "stdout",
     "output_type": "stream",
     "text": [
      "v_PushUps_g02_c01.avi: 2 from 2\n"
     ]
    },
    {
     "name": "stderr",
     "output_type": "stream",
     "text": [
      "INFO: Replacing 223 node(s) with delegate (TfLiteXNNPackDelegate) node, yielding 6 partitions.\n",
      "INFO: Replacing 318 node(s) with delegate (TfLiteXNNPackDelegate) node, yielding 1 partitions.\n"
     ]
    },
    {
     "name": "stdout",
     "output_type": "stream",
     "text": [
      "v_PushUps_g02_c02.avi: 2 from 2\n"
     ]
    },
    {
     "name": "stderr",
     "output_type": "stream",
     "text": [
      "INFO: Replacing 223 node(s) with delegate (TfLiteXNNPackDelegate) node, yielding 6 partitions.\n",
      "INFO: Replacing 318 node(s) with delegate (TfLiteXNNPackDelegate) node, yielding 1 partitions.\n"
     ]
    },
    {
     "name": "stdout",
     "output_type": "stream",
     "text": [
      "v_PushUps_g02_c03.avi: 2 from 2\n"
     ]
    },
    {
     "name": "stderr",
     "output_type": "stream",
     "text": [
      "INFO: Replacing 223 node(s) with delegate (TfLiteXNNPackDelegate) node, yielding 6 partitions.\n",
      "INFO: Replacing 318 node(s) with delegate (TfLiteXNNPackDelegate) node, yielding 1 partitions.\n"
     ]
    },
    {
     "name": "stdout",
     "output_type": "stream",
     "text": [
      "v_PushUps_g02_c04.avi: 2 from 2\n"
     ]
    },
    {
     "name": "stderr",
     "output_type": "stream",
     "text": [
      "INFO: Replacing 223 node(s) with delegate (TfLiteXNNPackDelegate) node, yielding 6 partitions.\n",
      "INFO: Replacing 318 node(s) with delegate (TfLiteXNNPackDelegate) node, yielding 1 partitions.\n"
     ]
    },
    {
     "name": "stdout",
     "output_type": "stream",
     "text": [
      "v_PushUps_g03_c01.avi: 1 from 1\n"
     ]
    },
    {
     "name": "stderr",
     "output_type": "stream",
     "text": [
      "INFO: Replacing 223 node(s) with delegate (TfLiteXNNPackDelegate) node, yielding 6 partitions.\n",
      "INFO: Replacing 318 node(s) with delegate (TfLiteXNNPackDelegate) node, yielding 1 partitions.\n"
     ]
    },
    {
     "name": "stdout",
     "output_type": "stream",
     "text": [
      "v_PushUps_g03_c02.avi: 1 from 1\n"
     ]
    },
    {
     "name": "stderr",
     "output_type": "stream",
     "text": [
      "INFO: Replacing 223 node(s) with delegate (TfLiteXNNPackDelegate) node, yielding 6 partitions.\n",
      "INFO: Replacing 318 node(s) with delegate (TfLiteXNNPackDelegate) node, yielding 1 partitions.\n"
     ]
    },
    {
     "name": "stdout",
     "output_type": "stream",
     "text": [
      "v_PushUps_g03_c03.avi: 1 from 1\n"
     ]
    },
    {
     "name": "stderr",
     "output_type": "stream",
     "text": [
      "INFO: Replacing 223 node(s) with delegate (TfLiteXNNPackDelegate) node, yielding 6 partitions.\n",
      "INFO: Replacing 318 node(s) with delegate (TfLiteXNNPackDelegate) node, yielding 1 partitions.\n"
     ]
    },
    {
     "name": "stdout",
     "output_type": "stream",
     "text": [
      "v_PushUps_g03_c04.avi: 1 from 1\n"
     ]
    },
    {
     "name": "stderr",
     "output_type": "stream",
     "text": [
      "INFO: Replacing 223 node(s) with delegate (TfLiteXNNPackDelegate) node, yielding 6 partitions.\n",
      "INFO: Replacing 318 node(s) with delegate (TfLiteXNNPackDelegate) node, yielding 1 partitions.\n"
     ]
    },
    {
     "name": "stdout",
     "output_type": "stream",
     "text": [
      "v_PushUps_g04_c01.avi: 1 from 1\n"
     ]
    },
    {
     "name": "stderr",
     "output_type": "stream",
     "text": [
      "INFO: Replacing 223 node(s) with delegate (TfLiteXNNPackDelegate) node, yielding 6 partitions.\n",
      "INFO: Replacing 318 node(s) with delegate (TfLiteXNNPackDelegate) node, yielding 1 partitions.\n"
     ]
    },
    {
     "name": "stdout",
     "output_type": "stream",
     "text": [
      "v_PushUps_g04_c02.avi: 1 from 1\n"
     ]
    },
    {
     "name": "stderr",
     "output_type": "stream",
     "text": [
      "INFO: Replacing 223 node(s) with delegate (TfLiteXNNPackDelegate) node, yielding 6 partitions.\n",
      "INFO: Replacing 318 node(s) with delegate (TfLiteXNNPackDelegate) node, yielding 1 partitions.\n"
     ]
    },
    {
     "name": "stdout",
     "output_type": "stream",
     "text": [
      "v_PushUps_g04_c03.avi: 1 from 1\n"
     ]
    },
    {
     "name": "stderr",
     "output_type": "stream",
     "text": [
      "INFO: Replacing 223 node(s) with delegate (TfLiteXNNPackDelegate) node, yielding 6 partitions.\n",
      "INFO: Replacing 318 node(s) with delegate (TfLiteXNNPackDelegate) node, yielding 1 partitions.\n"
     ]
    },
    {
     "name": "stdout",
     "output_type": "stream",
     "text": [
      "v_PushUps_g04_c04.avi: 1 from 1\n"
     ]
    },
    {
     "name": "stderr",
     "output_type": "stream",
     "text": [
      "INFO: Replacing 223 node(s) with delegate (TfLiteXNNPackDelegate) node, yielding 6 partitions.\n",
      "INFO: Replacing 318 node(s) with delegate (TfLiteXNNPackDelegate) node, yielding 1 partitions.\n"
     ]
    },
    {
     "name": "stdout",
     "output_type": "stream",
     "text": [
      "v_PushUps_g04_c05.avi: 1 from 1\n",
      "[INFO] error in pushup: 'NoneType' object has no attribute 'landmark'\n",
      "[INFO] error in pushup: 'NoneType' object has no attribute 'landmark'\n",
      "[INFO] error in pushup: 'NoneType' object has no attribute 'landmark'\n"
     ]
    },
    {
     "name": "stderr",
     "output_type": "stream",
     "text": [
      "INFO: Replacing 223 node(s) with delegate (TfLiteXNNPackDelegate) node, yielding 6 partitions.\n",
      "INFO: Replacing 318 node(s) with delegate (TfLiteXNNPackDelegate) node, yielding 1 partitions.\n"
     ]
    },
    {
     "name": "stdout",
     "output_type": "stream",
     "text": [
      "v_PushUps_g05_c01.avi: 6 from 7\n"
     ]
    },
    {
     "name": "stderr",
     "output_type": "stream",
     "text": [
      "INFO: Replacing 223 node(s) with delegate (TfLiteXNNPackDelegate) node, yielding 6 partitions.\n",
      "INFO: Replacing 318 node(s) with delegate (TfLiteXNNPackDelegate) node, yielding 1 partitions.\n"
     ]
    },
    {
     "name": "stdout",
     "output_type": "stream",
     "text": [
      "v_PushUps_g05_c02.avi: 7 from 7\n",
      "[INFO] error in pushup: 'NoneType' object has no attribute 'landmark'\n",
      "[INFO] error in pushup: 'NoneType' object has no attribute 'landmark'\n",
      "[INFO] error in pushup: 'NoneType' object has no attribute 'landmark'\n",
      "[INFO] error in pushup: 'NoneType' object has no attribute 'landmark'\n",
      "[INFO] error in pushup: 'NoneType' object has no attribute 'landmark'\n"
     ]
    },
    {
     "name": "stderr",
     "output_type": "stream",
     "text": [
      "INFO: Replacing 223 node(s) with delegate (TfLiteXNNPackDelegate) node, yielding 6 partitions.\n",
      "INFO: Replacing 318 node(s) with delegate (TfLiteXNNPackDelegate) node, yielding 1 partitions.\n"
     ]
    },
    {
     "name": "stdout",
     "output_type": "stream",
     "text": [
      "[INFO] error in pushup: 'NoneType' object has no attribute 'landmark'\n",
      "v_PushUps_g05_c03.avi: 6 from 8\n"
     ]
    },
    {
     "name": "stderr",
     "output_type": "stream",
     "text": [
      "INFO: Replacing 223 node(s) with delegate (TfLiteXNNPackDelegate) node, yielding 6 partitions.\n",
      "INFO: Replacing 318 node(s) with delegate (TfLiteXNNPackDelegate) node, yielding 1 partitions.\n"
     ]
    },
    {
     "name": "stdout",
     "output_type": "stream",
     "text": [
      "v_PushUps_g05_c04.avi: 7 from 8\n",
      "[INFO] error in pushup: 'NoneType' object has no attribute 'landmark'\n",
      "[INFO] error in pushup: 'NoneType' object has no attribute 'landmark'\n",
      "[INFO] error in pushup: 'NoneType' object has no attribute 'landmark'\n"
     ]
    },
    {
     "name": "stderr",
     "output_type": "stream",
     "text": [
      "INFO: Replacing 223 node(s) with delegate (TfLiteXNNPackDelegate) node, yielding 6 partitions.\n",
      "INFO: Replacing 318 node(s) with delegate (TfLiteXNNPackDelegate) node, yielding 1 partitions.\n"
     ]
    },
    {
     "name": "stdout",
     "output_type": "stream",
     "text": [
      "[INFO] error in pushup: 'NoneType' object has no attribute 'landmark'\n",
      "[INFO] error in pushup: 'NoneType' object has no attribute 'landmark'\n",
      "[INFO] error in pushup: 'NoneType' object has no attribute 'landmark'\n",
      "[INFO] error in pushup: 'NoneType' object has no attribute 'landmark'\n",
      "[INFO] error in pushup: 'NoneType' object has no attribute 'landmark'\n",
      "[INFO] error in pushup: 'NoneType' object has no attribute 'landmark'\n",
      "[INFO] error in pushup: 'NoneType' object has no attribute 'landmark'\n",
      "[INFO] error in pushup: 'NoneType' object has no attribute 'landmark'\n",
      "[INFO] error in pushup: 'NoneType' object has no attribute 'landmark'\n",
      "[INFO] error in pushup: 'NoneType' object has no attribute 'landmark'\n",
      "[INFO] error in pushup: 'NoneType' object has no attribute 'landmark'\n",
      "[INFO] error in pushup: 'NoneType' object has no attribute 'landmark'\n",
      "[INFO] error in pushup: 'NoneType' object has no attribute 'landmark'\n",
      "[INFO] error in pushup: 'NoneType' object has no attribute 'landmark'\n",
      "[INFO] error in pushup: 'NoneType' object has no attribute 'landmark'\n",
      "[INFO] error in pushup: 'NoneType' object has no attribute 'landmark'\n",
      "[INFO] error in pushup: 'NoneType' object has no attribute 'landmark'\n",
      "[INFO] error in pushup: 'NoneType' object has no attribute 'landmark'\n",
      "[INFO] error in pushup: 'NoneType' object has no attribute 'landmark'\n",
      "[INFO] error in pushup: 'NoneType' object has no attribute 'landmark'\n",
      "[INFO] error in pushup: 'NoneType' object has no attribute 'landmark'\n",
      "[INFO] error in pushup: 'NoneType' object has no attribute 'landmark'\n",
      "[INFO] error in pushup: 'NoneType' object has no attribute 'landmark'\n",
      "[INFO] error in pushup: 'NoneType' object has no attribute 'landmark'\n",
      "[INFO] error in pushup: 'NoneType' object has no attribute 'landmark'\n",
      "[INFO] error in pushup: 'NoneType' object has no attribute 'landmark'\n",
      "[INFO] error in pushup: 'NoneType' object has no attribute 'landmark'\n",
      "[INFO] error in pushup: 'NoneType' object has no attribute 'landmark'\n",
      "[INFO] error in pushup: 'NoneType' object has no attribute 'landmark'\n",
      "[INFO] error in pushup: 'NoneType' object has no attribute 'landmark'\n",
      "[INFO] error in pushup: 'NoneType' object has no attribute 'landmark'\n",
      "[INFO] error in pushup: 'NoneType' object has no attribute 'landmark'\n",
      "[INFO] error in pushup: 'NoneType' object has no attribute 'landmark'\n",
      "[INFO] error in pushup: 'NoneType' object has no attribute 'landmark'\n",
      "[INFO] error in pushup: 'NoneType' object has no attribute 'landmark'\n",
      "[INFO] error in pushup: 'NoneType' object has no attribute 'landmark'\n",
      "[INFO] error in pushup: 'NoneType' object has no attribute 'landmark'\n",
      "[INFO] error in pushup: 'NoneType' object has no attribute 'landmark'\n",
      "[INFO] error in pushup: 'NoneType' object has no attribute 'landmark'\n",
      "[INFO] error in pushup: 'NoneType' object has no attribute 'landmark'\n",
      "[INFO] error in pushup: 'NoneType' object has no attribute 'landmark'\n",
      "[INFO] error in pushup: 'NoneType' object has no attribute 'landmark'\n",
      "[INFO] error in pushup: 'NoneType' object has no attribute 'landmark'\n",
      "[INFO] error in pushup: 'NoneType' object has no attribute 'landmark'\n",
      "[INFO] error in pushup: 'NoneType' object has no attribute 'landmark'\n",
      "[INFO] error in pushup: 'NoneType' object has no attribute 'landmark'\n",
      "[INFO] error in pushup: 'NoneType' object has no attribute 'landmark'\n",
      "[INFO] error in pushup: 'NoneType' object has no attribute 'landmark'\n",
      "[INFO] error in pushup: 'NoneType' object has no attribute 'landmark'\n",
      "v_PushUps_g06_c01.avi: 0 from 2\n",
      "[INFO] error in pushup: 'NoneType' object has no attribute 'landmark'\n"
     ]
    },
    {
     "name": "stderr",
     "output_type": "stream",
     "text": [
      "INFO: Replacing 223 node(s) with delegate (TfLiteXNNPackDelegate) node, yielding 6 partitions.\n",
      "INFO: Replacing 318 node(s) with delegate (TfLiteXNNPackDelegate) node, yielding 1 partitions.\n"
     ]
    },
    {
     "name": "stdout",
     "output_type": "stream",
     "text": [
      "[INFO] error in pushup: 'NoneType' object has no attribute 'landmark'\n",
      "[INFO] error in pushup: 'NoneType' object has no attribute 'landmark'\n",
      "[INFO] error in pushup: 'NoneType' object has no attribute 'landmark'\n",
      "[INFO] error in pushup: 'NoneType' object has no attribute 'landmark'\n",
      "[INFO] error in pushup: 'NoneType' object has no attribute 'landmark'\n",
      "[INFO] error in pushup: 'NoneType' object has no attribute 'landmark'\n",
      "[INFO] error in pushup: 'NoneType' object has no attribute 'landmark'\n",
      "[INFO] error in pushup: 'NoneType' object has no attribute 'landmark'\n",
      "[INFO] error in pushup: 'NoneType' object has no attribute 'landmark'\n",
      "[INFO] error in pushup: 'NoneType' object has no attribute 'landmark'\n",
      "[INFO] error in pushup: 'NoneType' object has no attribute 'landmark'\n",
      "[INFO] error in pushup: 'NoneType' object has no attribute 'landmark'\n",
      "[INFO] error in pushup: 'NoneType' object has no attribute 'landmark'\n",
      "[INFO] error in pushup: 'NoneType' object has no attribute 'landmark'\n",
      "[INFO] error in pushup: 'NoneType' object has no attribute 'landmark'\n",
      "[INFO] error in pushup: 'NoneType' object has no attribute 'landmark'\n",
      "[INFO] error in pushup: 'NoneType' object has no attribute 'landmark'\n",
      "[INFO] error in pushup: 'NoneType' object has no attribute 'landmark'\n",
      "[INFO] error in pushup: 'NoneType' object has no attribute 'landmark'\n",
      "[INFO] error in pushup: 'NoneType' object has no attribute 'landmark'\n",
      "[INFO] error in pushup: 'NoneType' object has no attribute 'landmark'\n",
      "[INFO] error in pushup: 'NoneType' object has no attribute 'landmark'\n",
      "[INFO] error in pushup: 'NoneType' object has no attribute 'landmark'\n",
      "[INFO] error in pushup: 'NoneType' object has no attribute 'landmark'\n",
      "[INFO] error in pushup: 'NoneType' object has no attribute 'landmark'\n",
      "[INFO] error in pushup: 'NoneType' object has no attribute 'landmark'\n",
      "[INFO] error in pushup: 'NoneType' object has no attribute 'landmark'\n",
      "[INFO] error in pushup: 'NoneType' object has no attribute 'landmark'\n",
      "[INFO] error in pushup: 'NoneType' object has no attribute 'landmark'\n",
      "[INFO] error in pushup: 'NoneType' object has no attribute 'landmark'\n",
      "[INFO] error in pushup: 'NoneType' object has no attribute 'landmark'\n",
      "[INFO] error in pushup: 'NoneType' object has no attribute 'landmark'\n",
      "[INFO] error in pushup: 'NoneType' object has no attribute 'landmark'\n",
      "[INFO] error in pushup: 'NoneType' object has no attribute 'landmark'\n",
      "[INFO] error in pushup: 'NoneType' object has no attribute 'landmark'\n",
      "[INFO] error in pushup: 'NoneType' object has no attribute 'landmark'\n",
      "[INFO] error in pushup: 'NoneType' object has no attribute 'landmark'\n",
      "[INFO] error in pushup: 'NoneType' object has no attribute 'landmark'\n",
      "v_PushUps_g06_c02.avi: 1 from 2\n"
     ]
    },
    {
     "name": "stderr",
     "output_type": "stream",
     "text": [
      "INFO: Replacing 223 node(s) with delegate (TfLiteXNNPackDelegate) node, yielding 6 partitions.\n",
      "INFO: Replacing 318 node(s) with delegate (TfLiteXNNPackDelegate) node, yielding 1 partitions.\n"
     ]
    },
    {
     "name": "stdout",
     "output_type": "stream",
     "text": [
      "[INFO] error in pushup: 'NoneType' object has no attribute 'landmark'\n",
      "[INFO] error in pushup: 'NoneType' object has no attribute 'landmark'\n",
      "[INFO] error in pushup: 'NoneType' object has no attribute 'landmark'\n",
      "[INFO] error in pushup: 'NoneType' object has no attribute 'landmark'\n",
      "[INFO] error in pushup: 'NoneType' object has no attribute 'landmark'\n",
      "[INFO] error in pushup: 'NoneType' object has no attribute 'landmark'\n",
      "[INFO] error in pushup: 'NoneType' object has no attribute 'landmark'\n",
      "[INFO] error in pushup: 'NoneType' object has no attribute 'landmark'\n",
      "[INFO] error in pushup: 'NoneType' object has no attribute 'landmark'\n",
      "[INFO] error in pushup: 'NoneType' object has no attribute 'landmark'\n",
      "[INFO] error in pushup: 'NoneType' object has no attribute 'landmark'\n",
      "[INFO] error in pushup: 'NoneType' object has no attribute 'landmark'\n",
      "[INFO] error in pushup: 'NoneType' object has no attribute 'landmark'\n",
      "[INFO] error in pushup: 'NoneType' object has no attribute 'landmark'\n",
      "[INFO] error in pushup: 'NoneType' object has no attribute 'landmark'\n",
      "[INFO] error in pushup: 'NoneType' object has no attribute 'landmark'\n",
      "[INFO] error in pushup: 'NoneType' object has no attribute 'landmark'\n",
      "[INFO] error in pushup: 'NoneType' object has no attribute 'landmark'\n",
      "[INFO] error in pushup: 'NoneType' object has no attribute 'landmark'\n",
      "[INFO] error in pushup: 'NoneType' object has no attribute 'landmark'\n",
      "[INFO] error in pushup: 'NoneType' object has no attribute 'landmark'\n",
      "[INFO] error in pushup: 'NoneType' object has no attribute 'landmark'\n",
      "[INFO] error in pushup: 'NoneType' object has no attribute 'landmark'\n",
      "[INFO] error in pushup: 'NoneType' object has no attribute 'landmark'\n",
      "[INFO] error in pushup: 'NoneType' object has no attribute 'landmark'\n",
      "[INFO] error in pushup: 'NoneType' object has no attribute 'landmark'\n",
      "[INFO] error in pushup: 'NoneType' object has no attribute 'landmark'\n",
      "[INFO] error in pushup: 'NoneType' object has no attribute 'landmark'\n",
      "[INFO] error in pushup: 'NoneType' object has no attribute 'landmark'\n",
      "[INFO] error in pushup: 'NoneType' object has no attribute 'landmark'\n",
      "[INFO] error in pushup: 'NoneType' object has no attribute 'landmark'\n",
      "[INFO] error in pushup: 'NoneType' object has no attribute 'landmark'\n",
      "[INFO] error in pushup: 'NoneType' object has no attribute 'landmark'\n",
      "[INFO] error in pushup: 'NoneType' object has no attribute 'landmark'\n",
      "[INFO] error in pushup: 'NoneType' object has no attribute 'landmark'\n",
      "[INFO] error in pushup: 'NoneType' object has no attribute 'landmark'\n",
      "[INFO] error in pushup: 'NoneType' object has no attribute 'landmark'\n",
      "[INFO] error in pushup: 'NoneType' object has no attribute 'landmark'\n",
      "[INFO] error in pushup: 'NoneType' object has no attribute 'landmark'\n",
      "[INFO] error in pushup: 'NoneType' object has no attribute 'landmark'\n",
      "[INFO] error in pushup: 'NoneType' object has no attribute 'landmark'\n",
      "[INFO] error in pushup: 'NoneType' object has no attribute 'landmark'\n",
      "[INFO] error in pushup: 'NoneType' object has no attribute 'landmark'\n",
      "[INFO] error in pushup: 'NoneType' object has no attribute 'landmark'\n",
      "[INFO] error in pushup: 'NoneType' object has no attribute 'landmark'\n",
      "[INFO] error in pushup: 'NoneType' object has no attribute 'landmark'\n",
      "[INFO] error in pushup: 'NoneType' object has no attribute 'landmark'\n",
      "[INFO] error in pushup: 'NoneType' object has no attribute 'landmark'\n",
      "[INFO] error in pushup: 'NoneType' object has no attribute 'landmark'\n",
      "[INFO] error in pushup: 'NoneType' object has no attribute 'landmark'\n",
      "[INFO] error in pushup: 'NoneType' object has no attribute 'landmark'\n",
      "[INFO] error in pushup: 'NoneType' object has no attribute 'landmark'\n",
      "[INFO] error in pushup: 'NoneType' object has no attribute 'landmark'\n",
      "[INFO] error in pushup: 'NoneType' object has no attribute 'landmark'\n",
      "[INFO] error in pushup: 'NoneType' object has no attribute 'landmark'\n",
      "[INFO] error in pushup: 'NoneType' object has no attribute 'landmark'\n",
      "[INFO] error in pushup: 'NoneType' object has no attribute 'landmark'\n",
      "[INFO] error in pushup: 'NoneType' object has no attribute 'landmark'\n",
      "v_PushUps_g06_c03.avi: 0 from 2\n"
     ]
    },
    {
     "name": "stderr",
     "output_type": "stream",
     "text": [
      "INFO: Replacing 223 node(s) with delegate (TfLiteXNNPackDelegate) node, yielding 6 partitions.\n",
      "INFO: Replacing 318 node(s) with delegate (TfLiteXNNPackDelegate) node, yielding 1 partitions.\n"
     ]
    },
    {
     "name": "stdout",
     "output_type": "stream",
     "text": [
      "[INFO] error in pushup: 'NoneType' object has no attribute 'landmark'\n",
      "[INFO] error in pushup: 'NoneType' object has no attribute 'landmark'\n",
      "[INFO] error in pushup: 'NoneType' object has no attribute 'landmark'\n",
      "[INFO] error in pushup: 'NoneType' object has no attribute 'landmark'\n",
      "[INFO] error in pushup: 'NoneType' object has no attribute 'landmark'\n",
      "[INFO] error in pushup: 'NoneType' object has no attribute 'landmark'\n",
      "[INFO] error in pushup: 'NoneType' object has no attribute 'landmark'\n",
      "[INFO] error in pushup: 'NoneType' object has no attribute 'landmark'\n",
      "[INFO] error in pushup: 'NoneType' object has no attribute 'landmark'\n",
      "[INFO] error in pushup: 'NoneType' object has no attribute 'landmark'\n",
      "[INFO] error in pushup: 'NoneType' object has no attribute 'landmark'\n",
      "[INFO] error in pushup: 'NoneType' object has no attribute 'landmark'\n",
      "[INFO] error in pushup: 'NoneType' object has no attribute 'landmark'\n",
      "[INFO] error in pushup: 'NoneType' object has no attribute 'landmark'\n",
      "[INFO] error in pushup: 'NoneType' object has no attribute 'landmark'\n",
      "[INFO] error in pushup: 'NoneType' object has no attribute 'landmark'\n",
      "[INFO] error in pushup: 'NoneType' object has no attribute 'landmark'\n",
      "[INFO] error in pushup: 'NoneType' object has no attribute 'landmark'\n",
      "[INFO] error in pushup: 'NoneType' object has no attribute 'landmark'\n",
      "[INFO] error in pushup: 'NoneType' object has no attribute 'landmark'\n",
      "[INFO] error in pushup: 'NoneType' object has no attribute 'landmark'\n",
      "[INFO] error in pushup: 'NoneType' object has no attribute 'landmark'\n",
      "[INFO] error in pushup: 'NoneType' object has no attribute 'landmark'\n",
      "[INFO] error in pushup: 'NoneType' object has no attribute 'landmark'\n",
      "[INFO] error in pushup: 'NoneType' object has no attribute 'landmark'\n",
      "[INFO] error in pushup: 'NoneType' object has no attribute 'landmark'\n",
      "[INFO] error in pushup: 'NoneType' object has no attribute 'landmark'\n",
      "[INFO] error in pushup: 'NoneType' object has no attribute 'landmark'\n",
      "[INFO] error in pushup: 'NoneType' object has no attribute 'landmark'\n",
      "[INFO] error in pushup: 'NoneType' object has no attribute 'landmark'\n",
      "v_PushUps_g06_c04.avi: 1 from 2\n"
     ]
    },
    {
     "name": "stderr",
     "output_type": "stream",
     "text": [
      "INFO: Replacing 223 node(s) with delegate (TfLiteXNNPackDelegate) node, yielding 6 partitions.\n",
      "INFO: Replacing 318 node(s) with delegate (TfLiteXNNPackDelegate) node, yielding 1 partitions.\n"
     ]
    },
    {
     "name": "stdout",
     "output_type": "stream",
     "text": [
      "v_PushUps_g07_c01.avi: 2 from 2\n",
      "[INFO] error in pushup: 'NoneType' object has no attribute 'landmark'\n",
      "[INFO] error in pushup: 'NoneType' object has no attribute 'landmark'\n"
     ]
    },
    {
     "name": "stderr",
     "output_type": "stream",
     "text": [
      "INFO: Replacing 223 node(s) with delegate (TfLiteXNNPackDelegate) node, yielding 6 partitions.\n",
      "INFO: Replacing 318 node(s) with delegate (TfLiteXNNPackDelegate) node, yielding 1 partitions.\n"
     ]
    },
    {
     "name": "stdout",
     "output_type": "stream",
     "text": [
      "[INFO] error in pushup: 'NoneType' object has no attribute 'landmark'\n",
      "[INFO] error in pushup: 'NoneType' object has no attribute 'landmark'\n",
      "v_PushUps_g07_c02.avi: 1 from 2\n",
      "[INFO] error in pushup: 'NoneType' object has no attribute 'landmark'\n"
     ]
    },
    {
     "name": "stderr",
     "output_type": "stream",
     "text": [
      "INFO: Replacing 223 node(s) with delegate (TfLiteXNNPackDelegate) node, yielding 6 partitions.\n",
      "INFO: Replacing 318 node(s) with delegate (TfLiteXNNPackDelegate) node, yielding 1 partitions.\n"
     ]
    },
    {
     "name": "stdout",
     "output_type": "stream",
     "text": [
      "[INFO] error in pushup: 'NoneType' object has no attribute 'landmark'\n",
      "[INFO] error in pushup: 'NoneType' object has no attribute 'landmark'\n",
      "v_PushUps_g07_c03.avi: 2 from 2\n"
     ]
    },
    {
     "name": "stderr",
     "output_type": "stream",
     "text": [
      "INFO: Replacing 223 node(s) with delegate (TfLiteXNNPackDelegate) node, yielding 6 partitions.\n",
      "INFO: Replacing 318 node(s) with delegate (TfLiteXNNPackDelegate) node, yielding 1 partitions.\n"
     ]
    },
    {
     "name": "stdout",
     "output_type": "stream",
     "text": [
      "v_PushUps_g07_c04.avi: 2 from 2\n"
     ]
    },
    {
     "name": "stderr",
     "output_type": "stream",
     "text": [
      "INFO: Replacing 223 node(s) with delegate (TfLiteXNNPackDelegate) node, yielding 6 partitions.\n",
      "INFO: Replacing 318 node(s) with delegate (TfLiteXNNPackDelegate) node, yielding 1 partitions.\n"
     ]
    },
    {
     "name": "stdout",
     "output_type": "stream",
     "text": [
      "v_PushUps_g08_c01.avi: 4 from 6\n"
     ]
    },
    {
     "name": "stderr",
     "output_type": "stream",
     "text": [
      "INFO: Replacing 223 node(s) with delegate (TfLiteXNNPackDelegate) node, yielding 6 partitions.\n",
      "INFO: Replacing 318 node(s) with delegate (TfLiteXNNPackDelegate) node, yielding 1 partitions.\n"
     ]
    },
    {
     "name": "stdout",
     "output_type": "stream",
     "text": [
      "v_PushUps_g08_c02.avi: 3 from 6\n"
     ]
    },
    {
     "name": "stderr",
     "output_type": "stream",
     "text": [
      "INFO: Replacing 223 node(s) with delegate (TfLiteXNNPackDelegate) node, yielding 6 partitions.\n",
      "INFO: Replacing 318 node(s) with delegate (TfLiteXNNPackDelegate) node, yielding 1 partitions.\n"
     ]
    },
    {
     "name": "stdout",
     "output_type": "stream",
     "text": [
      "v_PushUps_g08_c03.avi: 4 from 7\n"
     ]
    },
    {
     "name": "stderr",
     "output_type": "stream",
     "text": [
      "INFO: Replacing 223 node(s) with delegate (TfLiteXNNPackDelegate) node, yielding 6 partitions.\n",
      "INFO: Replacing 318 node(s) with delegate (TfLiteXNNPackDelegate) node, yielding 1 partitions.\n"
     ]
    },
    {
     "name": "stdout",
     "output_type": "stream",
     "text": [
      "v_PushUps_g08_c04.avi: 6 from 7\n"
     ]
    },
    {
     "name": "stderr",
     "output_type": "stream",
     "text": [
      "INFO: Replacing 223 node(s) with delegate (TfLiteXNNPackDelegate) node, yielding 6 partitions.\n",
      "INFO: Replacing 318 node(s) with delegate (TfLiteXNNPackDelegate) node, yielding 1 partitions.\n"
     ]
    },
    {
     "name": "stdout",
     "output_type": "stream",
     "text": [
      "v_PushUps_g09_c01.avi: 2 from 6\n"
     ]
    },
    {
     "name": "stderr",
     "output_type": "stream",
     "text": [
      "INFO: Replacing 223 node(s) with delegate (TfLiteXNNPackDelegate) node, yielding 6 partitions.\n",
      "INFO: Replacing 318 node(s) with delegate (TfLiteXNNPackDelegate) node, yielding 1 partitions.\n"
     ]
    },
    {
     "name": "stdout",
     "output_type": "stream",
     "text": [
      "v_PushUps_g09_c02.avi: 4 from 5\n"
     ]
    },
    {
     "name": "stderr",
     "output_type": "stream",
     "text": [
      "INFO: Replacing 223 node(s) with delegate (TfLiteXNNPackDelegate) node, yielding 6 partitions.\n",
      "INFO: Replacing 318 node(s) with delegate (TfLiteXNNPackDelegate) node, yielding 1 partitions.\n"
     ]
    },
    {
     "name": "stdout",
     "output_type": "stream",
     "text": [
      "v_PushUps_g09_c03.avi: 5 from 6\n"
     ]
    },
    {
     "name": "stderr",
     "output_type": "stream",
     "text": [
      "INFO: Replacing 223 node(s) with delegate (TfLiteXNNPackDelegate) node, yielding 6 partitions.\n",
      "INFO: Replacing 318 node(s) with delegate (TfLiteXNNPackDelegate) node, yielding 1 partitions.\n"
     ]
    },
    {
     "name": "stdout",
     "output_type": "stream",
     "text": [
      "v_PushUps_g09_c04.avi: 0 from 5\n",
      "[INFO] error in pushup: 'NoneType' object has no attribute 'landmark'\n",
      "[INFO] error in pushup: 'NoneType' object has no attribute 'landmark'\n",
      "[INFO] error in pushup: 'NoneType' object has no attribute 'landmark'\n",
      "[INFO] error in pushup: 'NoneType' object has no attribute 'landmark'\n",
      "[INFO] error in pushup: 'NoneType' object has no attribute 'landmark'\n"
     ]
    },
    {
     "name": "stderr",
     "output_type": "stream",
     "text": [
      "INFO: Replacing 223 node(s) with delegate (TfLiteXNNPackDelegate) node, yielding 6 partitions.\n",
      "INFO: Replacing 318 node(s) with delegate (TfLiteXNNPackDelegate) node, yielding 1 partitions.\n"
     ]
    },
    {
     "name": "stdout",
     "output_type": "stream",
     "text": [
      "[INFO] error in pushup: 'NoneType' object has no attribute 'landmark'\n",
      "[INFO] error in pushup: 'NoneType' object has no attribute 'landmark'\n",
      "[INFO] error in pushup: 'NoneType' object has no attribute 'landmark'\n",
      "[INFO] error in pushup: 'NoneType' object has no attribute 'landmark'\n",
      "[INFO] error in pushup: 'NoneType' object has no attribute 'landmark'\n",
      "[INFO] error in pushup: 'NoneType' object has no attribute 'landmark'\n",
      "[INFO] error in pushup: 'NoneType' object has no attribute 'landmark'\n",
      "[INFO] error in pushup: 'NoneType' object has no attribute 'landmark'\n",
      "[INFO] error in pushup: 'NoneType' object has no attribute 'landmark'\n",
      "[INFO] error in pushup: 'NoneType' object has no attribute 'landmark'\n",
      "[INFO] error in pushup: 'NoneType' object has no attribute 'landmark'\n",
      "[INFO] error in pushup: 'NoneType' object has no attribute 'landmark'\n",
      "[INFO] error in pushup: 'NoneType' object has no attribute 'landmark'\n",
      "[INFO] error in pushup: 'NoneType' object has no attribute 'landmark'\n",
      "[INFO] error in pushup: 'NoneType' object has no attribute 'landmark'\n",
      "[INFO] error in pushup: 'NoneType' object has no attribute 'landmark'\n",
      "[INFO] error in pushup: 'NoneType' object has no attribute 'landmark'\n",
      "[INFO] error in pushup: 'NoneType' object has no attribute 'landmark'\n",
      "[INFO] error in pushup: 'NoneType' object has no attribute 'landmark'\n",
      "[INFO] error in pushup: 'NoneType' object has no attribute 'landmark'\n",
      "[INFO] error in pushup: 'NoneType' object has no attribute 'landmark'\n",
      "[INFO] error in pushup: 'NoneType' object has no attribute 'landmark'\n",
      "[INFO] error in pushup: 'NoneType' object has no attribute 'landmark'\n",
      "[INFO] error in pushup: 'NoneType' object has no attribute 'landmark'\n",
      "[INFO] error in pushup: 'NoneType' object has no attribute 'landmark'\n",
      "[INFO] error in pushup: 'NoneType' object has no attribute 'landmark'\n",
      "v_PushUps_g10_c01.avi: 1 from 1\n",
      "[INFO] error in pushup: 'NoneType' object has no attribute 'landmark'\n",
      "[INFO] error in pushup: 'NoneType' object has no attribute 'landmark'\n",
      "[INFO] error in pushup: 'NoneType' object has no attribute 'landmark'\n",
      "[INFO] error in pushup: 'NoneType' object has no attribute 'landmark'\n",
      "[INFO] error in pushup: 'NoneType' object has no attribute 'landmark'\n"
     ]
    },
    {
     "name": "stderr",
     "output_type": "stream",
     "text": [
      "INFO: Replacing 223 node(s) with delegate (TfLiteXNNPackDelegate) node, yielding 6 partitions.\n",
      "INFO: Replacing 318 node(s) with delegate (TfLiteXNNPackDelegate) node, yielding 1 partitions.\n"
     ]
    },
    {
     "name": "stdout",
     "output_type": "stream",
     "text": [
      "[INFO] error in pushup: 'NoneType' object has no attribute 'landmark'\n",
      "[INFO] error in pushup: 'NoneType' object has no attribute 'landmark'\n",
      "[INFO] error in pushup: 'NoneType' object has no attribute 'landmark'\n",
      "[INFO] error in pushup: 'NoneType' object has no attribute 'landmark'\n",
      "[INFO] error in pushup: 'NoneType' object has no attribute 'landmark'\n",
      "[INFO] error in pushup: 'NoneType' object has no attribute 'landmark'\n",
      "[INFO] error in pushup: 'NoneType' object has no attribute 'landmark'\n",
      "[INFO] error in pushup: 'NoneType' object has no attribute 'landmark'\n",
      "[INFO] error in pushup: 'NoneType' object has no attribute 'landmark'\n",
      "[INFO] error in pushup: 'NoneType' object has no attribute 'landmark'\n",
      "[INFO] error in pushup: 'NoneType' object has no attribute 'landmark'\n",
      "[INFO] error in pushup: 'NoneType' object has no attribute 'landmark'\n",
      "[INFO] error in pushup: 'NoneType' object has no attribute 'landmark'\n",
      "[INFO] error in pushup: 'NoneType' object has no attribute 'landmark'\n",
      "[INFO] error in pushup: 'NoneType' object has no attribute 'landmark'\n",
      "[INFO] error in pushup: 'NoneType' object has no attribute 'landmark'\n",
      "[INFO] error in pushup: 'NoneType' object has no attribute 'landmark'\n",
      "[INFO] error in pushup: 'NoneType' object has no attribute 'landmark'\n",
      "[INFO] error in pushup: 'NoneType' object has no attribute 'landmark'\n",
      "[INFO] error in pushup: 'NoneType' object has no attribute 'landmark'\n",
      "[INFO] error in pushup: 'NoneType' object has no attribute 'landmark'\n",
      "[INFO] error in pushup: 'NoneType' object has no attribute 'landmark'\n",
      "[INFO] error in pushup: 'NoneType' object has no attribute 'landmark'\n",
      "[INFO] error in pushup: 'NoneType' object has no attribute 'landmark'\n",
      "[INFO] error in pushup: 'NoneType' object has no attribute 'landmark'\n",
      "[INFO] error in pushup: 'NoneType' object has no attribute 'landmark'\n",
      "[INFO] error in pushup: 'NoneType' object has no attribute 'landmark'\n",
      "[INFO] error in pushup: 'NoneType' object has no attribute 'landmark'\n",
      "[INFO] error in pushup: 'NoneType' object has no attribute 'landmark'\n",
      "[INFO] error in pushup: 'NoneType' object has no attribute 'landmark'\n",
      "v_PushUps_g10_c02.avi: 0 from 1\n",
      "[INFO] error in pushup: 'NoneType' object has no attribute 'landmark'\n",
      "[INFO] error in pushup: 'NoneType' object has no attribute 'landmark'\n",
      "[INFO] error in pushup: 'NoneType' object has no attribute 'landmark'\n",
      "[INFO] error in pushup: 'NoneType' object has no attribute 'landmark'\n",
      "[INFO] error in pushup: 'NoneType' object has no attribute 'landmark'\n"
     ]
    },
    {
     "name": "stderr",
     "output_type": "stream",
     "text": [
      "INFO: Replacing 223 node(s) with delegate (TfLiteXNNPackDelegate) node, yielding 6 partitions.\n",
      "INFO: Replacing 318 node(s) with delegate (TfLiteXNNPackDelegate) node, yielding 1 partitions.\n"
     ]
    },
    {
     "name": "stdout",
     "output_type": "stream",
     "text": [
      "[INFO] error in pushup: 'NoneType' object has no attribute 'landmark'\n",
      "[INFO] error in pushup: 'NoneType' object has no attribute 'landmark'\n",
      "[INFO] error in pushup: 'NoneType' object has no attribute 'landmark'\n",
      "[INFO] error in pushup: 'NoneType' object has no attribute 'landmark'\n",
      "[INFO] error in pushup: 'NoneType' object has no attribute 'landmark'\n",
      "[INFO] error in pushup: 'NoneType' object has no attribute 'landmark'\n",
      "[INFO] error in pushup: 'NoneType' object has no attribute 'landmark'\n",
      "[INFO] error in pushup: 'NoneType' object has no attribute 'landmark'\n",
      "[INFO] error in pushup: 'NoneType' object has no attribute 'landmark'\n",
      "[INFO] error in pushup: 'NoneType' object has no attribute 'landmark'\n",
      "[INFO] error in pushup: 'NoneType' object has no attribute 'landmark'\n",
      "[INFO] error in pushup: 'NoneType' object has no attribute 'landmark'\n",
      "[INFO] error in pushup: 'NoneType' object has no attribute 'landmark'\n",
      "[INFO] error in pushup: 'NoneType' object has no attribute 'landmark'\n",
      "[INFO] error in pushup: 'NoneType' object has no attribute 'landmark'\n",
      "[INFO] error in pushup: 'NoneType' object has no attribute 'landmark'\n",
      "v_PushUps_g10_c03.avi: 1 from 1\n",
      "[INFO] error in pushup: 'NoneType' object has no attribute 'landmark'\n",
      "[INFO] error in pushup: 'NoneType' object has no attribute 'landmark'\n",
      "[INFO] error in pushup: 'NoneType' object has no attribute 'landmark'\n",
      "[INFO] error in pushup: 'NoneType' object has no attribute 'landmark'\n",
      "[INFO] error in pushup: 'NoneType' object has no attribute 'landmark'\n"
     ]
    },
    {
     "name": "stderr",
     "output_type": "stream",
     "text": [
      "INFO: Replacing 223 node(s) with delegate (TfLiteXNNPackDelegate) node, yielding 6 partitions.\n",
      "INFO: Replacing 318 node(s) with delegate (TfLiteXNNPackDelegate) node, yielding 1 partitions.\n"
     ]
    },
    {
     "name": "stdout",
     "output_type": "stream",
     "text": [
      "[INFO] error in pushup: 'NoneType' object has no attribute 'landmark'\n",
      "[INFO] error in pushup: 'NoneType' object has no attribute 'landmark'\n",
      "[INFO] error in pushup: 'NoneType' object has no attribute 'landmark'\n",
      "[INFO] error in pushup: 'NoneType' object has no attribute 'landmark'\n",
      "[INFO] error in pushup: 'NoneType' object has no attribute 'landmark'\n",
      "[INFO] error in pushup: 'NoneType' object has no attribute 'landmark'\n",
      "[INFO] error in pushup: 'NoneType' object has no attribute 'landmark'\n",
      "[INFO] error in pushup: 'NoneType' object has no attribute 'landmark'\n",
      "[INFO] error in pushup: 'NoneType' object has no attribute 'landmark'\n",
      "[INFO] error in pushup: 'NoneType' object has no attribute 'landmark'\n",
      "[INFO] error in pushup: 'NoneType' object has no attribute 'landmark'\n",
      "[INFO] error in pushup: 'NoneType' object has no attribute 'landmark'\n",
      "[INFO] error in pushup: 'NoneType' object has no attribute 'landmark'\n",
      "[INFO] error in pushup: 'NoneType' object has no attribute 'landmark'\n",
      "[INFO] error in pushup: 'NoneType' object has no attribute 'landmark'\n",
      "[INFO] error in pushup: 'NoneType' object has no attribute 'landmark'\n",
      "[INFO] error in pushup: 'NoneType' object has no attribute 'landmark'\n",
      "[INFO] error in pushup: 'NoneType' object has no attribute 'landmark'\n",
      "[INFO] error in pushup: 'NoneType' object has no attribute 'landmark'\n",
      "[INFO] error in pushup: 'NoneType' object has no attribute 'landmark'\n",
      "[INFO] error in pushup: 'NoneType' object has no attribute 'landmark'\n",
      "v_PushUps_g10_c04.avi: 1 from 1\n",
      "[INFO] error in pushup: 'NoneType' object has no attribute 'landmark'\n",
      "[INFO] error in pushup: 'NoneType' object has no attribute 'landmark'\n",
      "[INFO] error in pushup: 'NoneType' object has no attribute 'landmark'\n",
      "[INFO] error in pushup: 'NoneType' object has no attribute 'landmark'\n",
      "[INFO] error in pushup: 'NoneType' object has no attribute 'landmark'\n"
     ]
    },
    {
     "name": "stderr",
     "output_type": "stream",
     "text": [
      "INFO: Replacing 223 node(s) with delegate (TfLiteXNNPackDelegate) node, yielding 6 partitions.\n",
      "INFO: Replacing 318 node(s) with delegate (TfLiteXNNPackDelegate) node, yielding 1 partitions.\n"
     ]
    },
    {
     "name": "stdout",
     "output_type": "stream",
     "text": [
      "[INFO] error in pushup: 'NoneType' object has no attribute 'landmark'\n",
      "[INFO] error in pushup: 'NoneType' object has no attribute 'landmark'\n",
      "[INFO] error in pushup: 'NoneType' object has no attribute 'landmark'\n",
      "[INFO] error in pushup: 'NoneType' object has no attribute 'landmark'\n",
      "[INFO] error in pushup: 'NoneType' object has no attribute 'landmark'\n",
      "[INFO] error in pushup: 'NoneType' object has no attribute 'landmark'\n",
      "[INFO] error in pushup: 'NoneType' object has no attribute 'landmark'\n",
      "[INFO] error in pushup: 'NoneType' object has no attribute 'landmark'\n",
      "[INFO] error in pushup: 'NoneType' object has no attribute 'landmark'\n",
      "[INFO] error in pushup: 'NoneType' object has no attribute 'landmark'\n",
      "[INFO] error in pushup: 'NoneType' object has no attribute 'landmark'\n",
      "[INFO] error in pushup: 'NoneType' object has no attribute 'landmark'\n",
      "[INFO] error in pushup: 'NoneType' object has no attribute 'landmark'\n",
      "[INFO] error in pushup: 'NoneType' object has no attribute 'landmark'\n",
      "[INFO] error in pushup: 'NoneType' object has no attribute 'landmark'\n",
      "[INFO] error in pushup: 'NoneType' object has no attribute 'landmark'\n",
      "[INFO] error in pushup: 'NoneType' object has no attribute 'landmark'\n",
      "[INFO] error in pushup: 'NoneType' object has no attribute 'landmark'\n",
      "[INFO] error in pushup: 'NoneType' object has no attribute 'landmark'\n",
      "[INFO] error in pushup: 'NoneType' object has no attribute 'landmark'\n",
      "[INFO] error in pushup: 'NoneType' object has no attribute 'landmark'\n",
      "[INFO] error in pushup: 'NoneType' object has no attribute 'landmark'\n",
      "[INFO] error in pushup: 'NoneType' object has no attribute 'landmark'\n",
      "[INFO] error in pushup: 'NoneType' object has no attribute 'landmark'\n",
      "[INFO] error in pushup: 'NoneType' object has no attribute 'landmark'\n",
      "[INFO] error in pushup: 'NoneType' object has no attribute 'landmark'\n",
      "[INFO] error in pushup: 'NoneType' object has no attribute 'landmark'\n",
      "[INFO] error in pushup: 'NoneType' object has no attribute 'landmark'\n",
      "[INFO] error in pushup: 'NoneType' object has no attribute 'landmark'\n",
      "[INFO] error in pushup: 'NoneType' object has no attribute 'landmark'\n",
      "[INFO] error in pushup: 'NoneType' object has no attribute 'landmark'\n",
      "[INFO] error in pushup: 'NoneType' object has no attribute 'landmark'\n",
      "[INFO] error in pushup: 'NoneType' object has no attribute 'landmark'\n",
      "[INFO] error in pushup: 'NoneType' object has no attribute 'landmark'\n",
      "[INFO] error in pushup: 'NoneType' object has no attribute 'landmark'\n",
      "[INFO] error in pushup: 'NoneType' object has no attribute 'landmark'\n",
      "[INFO] error in pushup: 'NoneType' object has no attribute 'landmark'\n",
      "[INFO] error in pushup: 'NoneType' object has no attribute 'landmark'\n",
      "[INFO] error in pushup: 'NoneType' object has no attribute 'landmark'\n",
      "[INFO] error in pushup: 'NoneType' object has no attribute 'landmark'\n",
      "[INFO] error in pushup: 'NoneType' object has no attribute 'landmark'\n",
      "[INFO] error in pushup: 'NoneType' object has no attribute 'landmark'\n",
      "[INFO] error in pushup: 'NoneType' object has no attribute 'landmark'\n",
      "[INFO] error in pushup: 'NoneType' object has no attribute 'landmark'\n",
      "[INFO] error in pushup: 'NoneType' object has no attribute 'landmark'\n",
      "[INFO] error in pushup: 'NoneType' object has no attribute 'landmark'\n",
      "[INFO] error in pushup: 'NoneType' object has no attribute 'landmark'\n",
      "[INFO] error in pushup: 'NoneType' object has no attribute 'landmark'\n",
      "[INFO] error in pushup: 'NoneType' object has no attribute 'landmark'\n",
      "[INFO] error in pushup: 'NoneType' object has no attribute 'landmark'\n",
      "[INFO] error in pushup: 'NoneType' object has no attribute 'landmark'\n",
      "[INFO] error in pushup: 'NoneType' object has no attribute 'landmark'\n",
      "[INFO] error in pushup: 'NoneType' object has no attribute 'landmark'\n",
      "[INFO] error in pushup: 'NoneType' object has no attribute 'landmark'\n",
      "[INFO] error in pushup: 'NoneType' object has no attribute 'landmark'\n",
      "[INFO] error in pushup: 'NoneType' object has no attribute 'landmark'\n",
      "[INFO] error in pushup: 'NoneType' object has no attribute 'landmark'\n",
      "[INFO] error in pushup: 'NoneType' object has no attribute 'landmark'\n",
      "[INFO] error in pushup: 'NoneType' object has no attribute 'landmark'\n",
      "[INFO] error in pushup: 'NoneType' object has no attribute 'landmark'\n",
      "[INFO] error in pushup: 'NoneType' object has no attribute 'landmark'\n",
      "v_PushUps_g11_c01.avi: 0 from 1\n",
      "[INFO] error in pushup: 'NoneType' object has no attribute 'landmark'\n",
      "[INFO] error in pushup: 'NoneType' object has no attribute 'landmark'\n",
      "[INFO] error in pushup: 'NoneType' object has no attribute 'landmark'\n"
     ]
    },
    {
     "name": "stderr",
     "output_type": "stream",
     "text": [
      "INFO: Replacing 223 node(s) with delegate (TfLiteXNNPackDelegate) node, yielding 6 partitions.\n",
      "INFO: Replacing 318 node(s) with delegate (TfLiteXNNPackDelegate) node, yielding 1 partitions.\n"
     ]
    },
    {
     "name": "stdout",
     "output_type": "stream",
     "text": [
      "[INFO] error in pushup: 'NoneType' object has no attribute 'landmark'\n",
      "[INFO] error in pushup: 'NoneType' object has no attribute 'landmark'\n",
      "[INFO] error in pushup: 'NoneType' object has no attribute 'landmark'\n",
      "[INFO] error in pushup: 'NoneType' object has no attribute 'landmark'\n",
      "[INFO] error in pushup: 'NoneType' object has no attribute 'landmark'\n",
      "[INFO] error in pushup: 'NoneType' object has no attribute 'landmark'\n",
      "[INFO] error in pushup: 'NoneType' object has no attribute 'landmark'\n",
      "[INFO] error in pushup: 'NoneType' object has no attribute 'landmark'\n",
      "[INFO] error in pushup: 'NoneType' object has no attribute 'landmark'\n",
      "[INFO] error in pushup: 'NoneType' object has no attribute 'landmark'\n",
      "[INFO] error in pushup: 'NoneType' object has no attribute 'landmark'\n",
      "[INFO] error in pushup: 'NoneType' object has no attribute 'landmark'\n",
      "[INFO] error in pushup: 'NoneType' object has no attribute 'landmark'\n",
      "[INFO] error in pushup: 'NoneType' object has no attribute 'landmark'\n",
      "[INFO] error in pushup: 'NoneType' object has no attribute 'landmark'\n",
      "[INFO] error in pushup: 'NoneType' object has no attribute 'landmark'\n",
      "[INFO] error in pushup: 'NoneType' object has no attribute 'landmark'\n",
      "[INFO] error in pushup: 'NoneType' object has no attribute 'landmark'\n",
      "[INFO] error in pushup: 'NoneType' object has no attribute 'landmark'\n",
      "[INFO] error in pushup: 'NoneType' object has no attribute 'landmark'\n",
      "[INFO] error in pushup: 'NoneType' object has no attribute 'landmark'\n",
      "[INFO] error in pushup: 'NoneType' object has no attribute 'landmark'\n",
      "[INFO] error in pushup: 'NoneType' object has no attribute 'landmark'\n",
      "[INFO] error in pushup: 'NoneType' object has no attribute 'landmark'\n",
      "[INFO] error in pushup: 'NoneType' object has no attribute 'landmark'\n",
      "[INFO] error in pushup: 'NoneType' object has no attribute 'landmark'\n",
      "[INFO] error in pushup: 'NoneType' object has no attribute 'landmark'\n",
      "[INFO] error in pushup: 'NoneType' object has no attribute 'landmark'\n",
      "[INFO] error in pushup: 'NoneType' object has no attribute 'landmark'\n",
      "[INFO] error in pushup: 'NoneType' object has no attribute 'landmark'\n",
      "[INFO] error in pushup: 'NoneType' object has no attribute 'landmark'\n",
      "[INFO] error in pushup: 'NoneType' object has no attribute 'landmark'\n",
      "[INFO] error in pushup: 'NoneType' object has no attribute 'landmark'\n",
      "[INFO] error in pushup: 'NoneType' object has no attribute 'landmark'\n",
      "[INFO] error in pushup: 'NoneType' object has no attribute 'landmark'\n",
      "[INFO] error in pushup: 'NoneType' object has no attribute 'landmark'\n",
      "[INFO] error in pushup: 'NoneType' object has no attribute 'landmark'\n",
      "[INFO] error in pushup: 'NoneType' object has no attribute 'landmark'\n",
      "[INFO] error in pushup: 'NoneType' object has no attribute 'landmark'\n",
      "[INFO] error in pushup: 'NoneType' object has no attribute 'landmark'\n",
      "[INFO] error in pushup: 'NoneType' object has no attribute 'landmark'\n",
      "[INFO] error in pushup: 'NoneType' object has no attribute 'landmark'\n",
      "[INFO] error in pushup: 'NoneType' object has no attribute 'landmark'\n",
      "[INFO] error in pushup: 'NoneType' object has no attribute 'landmark'\n",
      "[INFO] error in pushup: 'NoneType' object has no attribute 'landmark'\n",
      "[INFO] error in pushup: 'NoneType' object has no attribute 'landmark'\n",
      "[INFO] error in pushup: 'NoneType' object has no attribute 'landmark'\n",
      "[INFO] error in pushup: 'NoneType' object has no attribute 'landmark'\n",
      "[INFO] error in pushup: 'NoneType' object has no attribute 'landmark'\n",
      "[INFO] error in pushup: 'NoneType' object has no attribute 'landmark'\n",
      "[INFO] error in pushup: 'NoneType' object has no attribute 'landmark'\n",
      "[INFO] error in pushup: 'NoneType' object has no attribute 'landmark'\n",
      "[INFO] error in pushup: 'NoneType' object has no attribute 'landmark'\n",
      "[INFO] error in pushup: 'NoneType' object has no attribute 'landmark'\n",
      "[INFO] error in pushup: 'NoneType' object has no attribute 'landmark'\n",
      "[INFO] error in pushup: 'NoneType' object has no attribute 'landmark'\n",
      "v_PushUps_g11_c02.avi: 0 from 1\n"
     ]
    },
    {
     "name": "stderr",
     "output_type": "stream",
     "text": [
      "INFO: Replacing 223 node(s) with delegate (TfLiteXNNPackDelegate) node, yielding 6 partitions.\n",
      "INFO: Replacing 318 node(s) with delegate (TfLiteXNNPackDelegate) node, yielding 1 partitions.\n"
     ]
    },
    {
     "name": "stdout",
     "output_type": "stream",
     "text": [
      "v_PushUps_g11_c03.avi: 1 from 1\n"
     ]
    },
    {
     "name": "stderr",
     "output_type": "stream",
     "text": [
      "INFO: Replacing 223 node(s) with delegate (TfLiteXNNPackDelegate) node, yielding 6 partitions.\n",
      "INFO: Replacing 318 node(s) with delegate (TfLiteXNNPackDelegate) node, yielding 1 partitions.\n"
     ]
    },
    {
     "name": "stdout",
     "output_type": "stream",
     "text": [
      "v_PushUps_g11_c04.avi: 1 from 1\n"
     ]
    },
    {
     "name": "stderr",
     "output_type": "stream",
     "text": [
      "INFO: Replacing 223 node(s) with delegate (TfLiteXNNPackDelegate) node, yielding 6 partitions.\n",
      "INFO: Replacing 318 node(s) with delegate (TfLiteXNNPackDelegate) node, yielding 1 partitions.\n"
     ]
    },
    {
     "name": "stdout",
     "output_type": "stream",
     "text": [
      "v_PushUps_g12_c01.avi: 2 from 2\n"
     ]
    },
    {
     "name": "stderr",
     "output_type": "stream",
     "text": [
      "INFO: Replacing 223 node(s) with delegate (TfLiteXNNPackDelegate) node, yielding 6 partitions.\n",
      "INFO: Replacing 318 node(s) with delegate (TfLiteXNNPackDelegate) node, yielding 1 partitions.\n"
     ]
    },
    {
     "name": "stdout",
     "output_type": "stream",
     "text": [
      "v_PushUps_g12_c02.avi: 2 from 2\n"
     ]
    },
    {
     "name": "stderr",
     "output_type": "stream",
     "text": [
      "INFO: Replacing 223 node(s) with delegate (TfLiteXNNPackDelegate) node, yielding 6 partitions.\n",
      "INFO: Replacing 318 node(s) with delegate (TfLiteXNNPackDelegate) node, yielding 1 partitions.\n"
     ]
    },
    {
     "name": "stdout",
     "output_type": "stream",
     "text": [
      "v_PushUps_g12_c03.avi: 2 from 2\n"
     ]
    },
    {
     "name": "stderr",
     "output_type": "stream",
     "text": [
      "INFO: Replacing 223 node(s) with delegate (TfLiteXNNPackDelegate) node, yielding 6 partitions.\n",
      "INFO: Replacing 318 node(s) with delegate (TfLiteXNNPackDelegate) node, yielding 1 partitions.\n"
     ]
    },
    {
     "name": "stdout",
     "output_type": "stream",
     "text": [
      "v_PushUps_g12_c04.avi: 2 from 2\n"
     ]
    },
    {
     "name": "stderr",
     "output_type": "stream",
     "text": [
      "INFO: Replacing 223 node(s) with delegate (TfLiteXNNPackDelegate) node, yielding 6 partitions.\n",
      "INFO: Replacing 318 node(s) with delegate (TfLiteXNNPackDelegate) node, yielding 1 partitions.\n"
     ]
    },
    {
     "name": "stdout",
     "output_type": "stream",
     "text": [
      "[INFO] error in pushup: 'NoneType' object has no attribute 'landmark'\n",
      "[INFO] error in pushup: 'NoneType' object has no attribute 'landmark'\n",
      "[INFO] error in pushup: 'NoneType' object has no attribute 'landmark'\n",
      "[INFO] error in pushup: 'NoneType' object has no attribute 'landmark'\n",
      "[INFO] error in pushup: 'NoneType' object has no attribute 'landmark'\n",
      "[INFO] error in pushup: 'NoneType' object has no attribute 'landmark'\n",
      "[INFO] error in pushup: 'NoneType' object has no attribute 'landmark'\n",
      "[INFO] error in pushup: 'NoneType' object has no attribute 'landmark'\n",
      "[INFO] error in pushup: 'NoneType' object has no attribute 'landmark'\n",
      "[INFO] error in pushup: 'NoneType' object has no attribute 'landmark'\n",
      "[INFO] error in pushup: 'NoneType' object has no attribute 'landmark'\n",
      "v_PushUps_g13_c01.avi: 1 from 1\n"
     ]
    },
    {
     "name": "stderr",
     "output_type": "stream",
     "text": [
      "INFO: Replacing 223 node(s) with delegate (TfLiteXNNPackDelegate) node, yielding 6 partitions.\n",
      "INFO: Replacing 318 node(s) with delegate (TfLiteXNNPackDelegate) node, yielding 1 partitions.\n"
     ]
    },
    {
     "name": "stdout",
     "output_type": "stream",
     "text": [
      "v_PushUps_g13_c02.avi: 1 from 1\n",
      "[INFO] error in pushup: 'NoneType' object has no attribute 'landmark'\n",
      "[INFO] error in pushup: 'NoneType' object has no attribute 'landmark'\n"
     ]
    },
    {
     "name": "stderr",
     "output_type": "stream",
     "text": [
      "INFO: Replacing 223 node(s) with delegate (TfLiteXNNPackDelegate) node, yielding 6 partitions.\n",
      "INFO: Replacing 318 node(s) with delegate (TfLiteXNNPackDelegate) node, yielding 1 partitions.\n"
     ]
    },
    {
     "name": "stdout",
     "output_type": "stream",
     "text": [
      "v_PushUps_g13_c03.avi: 1 from 1\n",
      "[INFO] error in pushup: 'NoneType' object has no attribute 'landmark'\n",
      "[INFO] error in pushup: 'NoneType' object has no attribute 'landmark'\n",
      "[INFO] error in pushup: 'NoneType' object has no attribute 'landmark'\n"
     ]
    },
    {
     "name": "stderr",
     "output_type": "stream",
     "text": [
      "INFO: Replacing 223 node(s) with delegate (TfLiteXNNPackDelegate) node, yielding 6 partitions.\n",
      "INFO: Replacing 318 node(s) with delegate (TfLiteXNNPackDelegate) node, yielding 1 partitions.\n"
     ]
    },
    {
     "name": "stdout",
     "output_type": "stream",
     "text": [
      "[INFO] error in pushup: 'NoneType' object has no attribute 'landmark'\n",
      "[INFO] error in pushup: 'NoneType' object has no attribute 'landmark'\n",
      "[INFO] error in pushup: 'NoneType' object has no attribute 'landmark'\n",
      "[INFO] error in pushup: 'NoneType' object has no attribute 'landmark'\n",
      "[INFO] error in pushup: 'NoneType' object has no attribute 'landmark'\n",
      "[INFO] error in pushup: 'NoneType' object has no attribute 'landmark'\n",
      "[INFO] error in pushup: 'NoneType' object has no attribute 'landmark'\n",
      "[INFO] error in pushup: 'NoneType' object has no attribute 'landmark'\n",
      "[INFO] error in pushup: 'NoneType' object has no attribute 'landmark'\n",
      "[INFO] error in pushup: 'NoneType' object has no attribute 'landmark'\n",
      "[INFO] error in pushup: 'NoneType' object has no attribute 'landmark'\n",
      "[INFO] error in pushup: 'NoneType' object has no attribute 'landmark'\n",
      "[INFO] error in pushup: 'NoneType' object has no attribute 'landmark'\n",
      "[INFO] error in pushup: 'NoneType' object has no attribute 'landmark'\n",
      "[INFO] error in pushup: 'NoneType' object has no attribute 'landmark'\n",
      "[INFO] error in pushup: 'NoneType' object has no attribute 'landmark'\n",
      "[INFO] error in pushup: 'NoneType' object has no attribute 'landmark'\n",
      "[INFO] error in pushup: 'NoneType' object has no attribute 'landmark'\n",
      "[INFO] error in pushup: 'NoneType' object has no attribute 'landmark'\n",
      "[INFO] error in pushup: 'NoneType' object has no attribute 'landmark'\n",
      "[INFO] error in pushup: 'NoneType' object has no attribute 'landmark'\n",
      "[INFO] error in pushup: 'NoneType' object has no attribute 'landmark'\n",
      "[INFO] error in pushup: 'NoneType' object has no attribute 'landmark'\n",
      "[INFO] error in pushup: 'NoneType' object has no attribute 'landmark'\n",
      "[INFO] error in pushup: 'NoneType' object has no attribute 'landmark'\n",
      "[INFO] error in pushup: 'NoneType' object has no attribute 'landmark'\n",
      "[INFO] error in pushup: 'NoneType' object has no attribute 'landmark'\n",
      "v_PushUps_g13_c04.avi: 1 from 1\n"
     ]
    },
    {
     "name": "stderr",
     "output_type": "stream",
     "text": [
      "INFO: Replacing 223 node(s) with delegate (TfLiteXNNPackDelegate) node, yielding 6 partitions.\n",
      "INFO: Replacing 318 node(s) with delegate (TfLiteXNNPackDelegate) node, yielding 1 partitions.\n"
     ]
    },
    {
     "name": "stdout",
     "output_type": "stream",
     "text": [
      "v_PushUps_g14_c01.avi: 2 from 1\n"
     ]
    },
    {
     "name": "stderr",
     "output_type": "stream",
     "text": [
      "INFO: Replacing 223 node(s) with delegate (TfLiteXNNPackDelegate) node, yielding 6 partitions.\n",
      "INFO: Replacing 318 node(s) with delegate (TfLiteXNNPackDelegate) node, yielding 1 partitions.\n"
     ]
    },
    {
     "name": "stdout",
     "output_type": "stream",
     "text": [
      "v_PushUps_g14_c02.avi: 2 from 1\n"
     ]
    },
    {
     "name": "stderr",
     "output_type": "stream",
     "text": [
      "INFO: Replacing 223 node(s) with delegate (TfLiteXNNPackDelegate) node, yielding 6 partitions.\n",
      "INFO: Replacing 318 node(s) with delegate (TfLiteXNNPackDelegate) node, yielding 1 partitions.\n"
     ]
    },
    {
     "name": "stdout",
     "output_type": "stream",
     "text": [
      "v_PushUps_g14_c03.avi: 2 from 1\n"
     ]
    },
    {
     "name": "stderr",
     "output_type": "stream",
     "text": [
      "INFO: Replacing 223 node(s) with delegate (TfLiteXNNPackDelegate) node, yielding 6 partitions.\n",
      "INFO: Replacing 318 node(s) with delegate (TfLiteXNNPackDelegate) node, yielding 1 partitions.\n"
     ]
    },
    {
     "name": "stdout",
     "output_type": "stream",
     "text": [
      "v_PushUps_g14_c04.avi: 2 from 1\n"
     ]
    },
    {
     "name": "stderr",
     "output_type": "stream",
     "text": [
      "INFO: Replacing 223 node(s) with delegate (TfLiteXNNPackDelegate) node, yielding 6 partitions.\n",
      "INFO: Replacing 318 node(s) with delegate (TfLiteXNNPackDelegate) node, yielding 1 partitions.\n"
     ]
    },
    {
     "name": "stdout",
     "output_type": "stream",
     "text": [
      "v_PushUps_g15_c01.avi: 3 from 3\n",
      "[INFO] error in pushup: 'NoneType' object has no attribute 'landmark'\n"
     ]
    },
    {
     "name": "stderr",
     "output_type": "stream",
     "text": [
      "INFO: Replacing 223 node(s) with delegate (TfLiteXNNPackDelegate) node, yielding 6 partitions.\n",
      "INFO: Replacing 318 node(s) with delegate (TfLiteXNNPackDelegate) node, yielding 1 partitions.\n"
     ]
    },
    {
     "name": "stdout",
     "output_type": "stream",
     "text": [
      "v_PushUps_g15_c02.avi: 2 from 3\n"
     ]
    },
    {
     "name": "stderr",
     "output_type": "stream",
     "text": [
      "INFO: Replacing 223 node(s) with delegate (TfLiteXNNPackDelegate) node, yielding 6 partitions.\n",
      "INFO: Replacing 318 node(s) with delegate (TfLiteXNNPackDelegate) node, yielding 1 partitions.\n"
     ]
    },
    {
     "name": "stdout",
     "output_type": "stream",
     "text": [
      "v_PushUps_g15_c03.avi: 3 from 3\n"
     ]
    },
    {
     "name": "stderr",
     "output_type": "stream",
     "text": [
      "INFO: Replacing 223 node(s) with delegate (TfLiteXNNPackDelegate) node, yielding 6 partitions.\n",
      "INFO: Replacing 318 node(s) with delegate (TfLiteXNNPackDelegate) node, yielding 1 partitions.\n"
     ]
    },
    {
     "name": "stdout",
     "output_type": "stream",
     "text": [
      "v_PushUps_g15_c04.avi: 3 from 3\n"
     ]
    },
    {
     "name": "stderr",
     "output_type": "stream",
     "text": [
      "INFO: Replacing 223 node(s) with delegate (TfLiteXNNPackDelegate) node, yielding 6 partitions.\n",
      "INFO: Replacing 318 node(s) with delegate (TfLiteXNNPackDelegate) node, yielding 1 partitions.\n"
     ]
    },
    {
     "name": "stdout",
     "output_type": "stream",
     "text": [
      "v_PushUps_g16_c01.avi: 0 from 1\n"
     ]
    },
    {
     "name": "stderr",
     "output_type": "stream",
     "text": [
      "INFO: Replacing 223 node(s) with delegate (TfLiteXNNPackDelegate) node, yielding 6 partitions.\n",
      "INFO: Replacing 318 node(s) with delegate (TfLiteXNNPackDelegate) node, yielding 1 partitions.\n"
     ]
    },
    {
     "name": "stdout",
     "output_type": "stream",
     "text": [
      "v_PushUps_g16_c02.avi: 2 from 1\n"
     ]
    },
    {
     "name": "stderr",
     "output_type": "stream",
     "text": [
      "INFO: Replacing 223 node(s) with delegate (TfLiteXNNPackDelegate) node, yielding 6 partitions.\n",
      "INFO: Replacing 318 node(s) with delegate (TfLiteXNNPackDelegate) node, yielding 1 partitions.\n"
     ]
    },
    {
     "name": "stdout",
     "output_type": "stream",
     "text": [
      "[INFO] error in pushup: 'NoneType' object has no attribute 'landmark'\n",
      "v_PushUps_g16_c03.avi: 1 from 1\n"
     ]
    },
    {
     "name": "stderr",
     "output_type": "stream",
     "text": [
      "INFO: Replacing 223 node(s) with delegate (TfLiteXNNPackDelegate) node, yielding 6 partitions.\n",
      "INFO: Replacing 318 node(s) with delegate (TfLiteXNNPackDelegate) node, yielding 1 partitions.\n"
     ]
    },
    {
     "name": "stdout",
     "output_type": "stream",
     "text": [
      "v_PushUps_g16_c04.avi: 1 from 1\n"
     ]
    },
    {
     "name": "stderr",
     "output_type": "stream",
     "text": [
      "INFO: Replacing 223 node(s) with delegate (TfLiteXNNPackDelegate) node, yielding 6 partitions.\n",
      "INFO: Replacing 318 node(s) with delegate (TfLiteXNNPackDelegate) node, yielding 1 partitions.\n"
     ]
    },
    {
     "name": "stdout",
     "output_type": "stream",
     "text": [
      "v_PushUps_g17_c01.avi: 2 from 2\n"
     ]
    },
    {
     "name": "stderr",
     "output_type": "stream",
     "text": [
      "INFO: Replacing 223 node(s) with delegate (TfLiteXNNPackDelegate) node, yielding 6 partitions.\n",
      "INFO: Replacing 318 node(s) with delegate (TfLiteXNNPackDelegate) node, yielding 1 partitions.\n"
     ]
    },
    {
     "name": "stdout",
     "output_type": "stream",
     "text": [
      "v_PushUps_g17_c02.avi: 2 from 2\n"
     ]
    },
    {
     "name": "stderr",
     "output_type": "stream",
     "text": [
      "INFO: Replacing 223 node(s) with delegate (TfLiteXNNPackDelegate) node, yielding 6 partitions.\n",
      "INFO: Replacing 318 node(s) with delegate (TfLiteXNNPackDelegate) node, yielding 1 partitions.\n"
     ]
    },
    {
     "name": "stdout",
     "output_type": "stream",
     "text": [
      "v_PushUps_g17_c03.avi: 2 from 2\n"
     ]
    },
    {
     "name": "stderr",
     "output_type": "stream",
     "text": [
      "INFO: Replacing 223 node(s) with delegate (TfLiteXNNPackDelegate) node, yielding 6 partitions.\n",
      "INFO: Replacing 318 node(s) with delegate (TfLiteXNNPackDelegate) node, yielding 1 partitions.\n"
     ]
    },
    {
     "name": "stdout",
     "output_type": "stream",
     "text": [
      "v_PushUps_g17_c04.avi: 2 from 2\n"
     ]
    },
    {
     "name": "stderr",
     "output_type": "stream",
     "text": [
      "INFO: Replacing 223 node(s) with delegate (TfLiteXNNPackDelegate) node, yielding 6 partitions.\n",
      "INFO: Replacing 318 node(s) with delegate (TfLiteXNNPackDelegate) node, yielding 1 partitions.\n"
     ]
    },
    {
     "name": "stdout",
     "output_type": "stream",
     "text": [
      "v_PushUps_g18_c01.avi: 3 from 3\n"
     ]
    },
    {
     "name": "stderr",
     "output_type": "stream",
     "text": [
      "INFO: Replacing 223 node(s) with delegate (TfLiteXNNPackDelegate) node, yielding 6 partitions.\n",
      "INFO: Replacing 318 node(s) with delegate (TfLiteXNNPackDelegate) node, yielding 1 partitions.\n"
     ]
    },
    {
     "name": "stdout",
     "output_type": "stream",
     "text": [
      "v_PushUps_g18_c02.avi: 3 from 3\n"
     ]
    },
    {
     "name": "stderr",
     "output_type": "stream",
     "text": [
      "INFO: Replacing 223 node(s) with delegate (TfLiteXNNPackDelegate) node, yielding 6 partitions.\n",
      "INFO: Replacing 318 node(s) with delegate (TfLiteXNNPackDelegate) node, yielding 1 partitions.\n"
     ]
    },
    {
     "name": "stdout",
     "output_type": "stream",
     "text": [
      "v_PushUps_g18_c03.avi: 3 from 3\n"
     ]
    },
    {
     "name": "stderr",
     "output_type": "stream",
     "text": [
      "INFO: Replacing 223 node(s) with delegate (TfLiteXNNPackDelegate) node, yielding 6 partitions.\n",
      "INFO: Replacing 318 node(s) with delegate (TfLiteXNNPackDelegate) node, yielding 1 partitions.\n"
     ]
    },
    {
     "name": "stdout",
     "output_type": "stream",
     "text": [
      "v_PushUps_g18_c04.avi: 3 from 3\n"
     ]
    },
    {
     "name": "stderr",
     "output_type": "stream",
     "text": [
      "INFO: Replacing 223 node(s) with delegate (TfLiteXNNPackDelegate) node, yielding 6 partitions.\n",
      "INFO: Replacing 318 node(s) with delegate (TfLiteXNNPackDelegate) node, yielding 1 partitions.\n"
     ]
    },
    {
     "name": "stdout",
     "output_type": "stream",
     "text": [
      "v_PushUps_g19_c01.avi: 3 from 3\n"
     ]
    },
    {
     "name": "stderr",
     "output_type": "stream",
     "text": [
      "INFO: Replacing 223 node(s) with delegate (TfLiteXNNPackDelegate) node, yielding 6 partitions.\n",
      "INFO: Replacing 318 node(s) with delegate (TfLiteXNNPackDelegate) node, yielding 1 partitions.\n"
     ]
    },
    {
     "name": "stdout",
     "output_type": "stream",
     "text": [
      "v_PushUps_g19_c02.avi: 3 from 3\n"
     ]
    },
    {
     "name": "stderr",
     "output_type": "stream",
     "text": [
      "INFO: Replacing 223 node(s) with delegate (TfLiteXNNPackDelegate) node, yielding 6 partitions.\n",
      "INFO: Replacing 318 node(s) with delegate (TfLiteXNNPackDelegate) node, yielding 1 partitions.\n"
     ]
    },
    {
     "name": "stdout",
     "output_type": "stream",
     "text": [
      "v_PushUps_g19_c03.avi: 3 from 3\n"
     ]
    },
    {
     "name": "stderr",
     "output_type": "stream",
     "text": [
      "INFO: Replacing 223 node(s) with delegate (TfLiteXNNPackDelegate) node, yielding 6 partitions.\n",
      "INFO: Replacing 318 node(s) with delegate (TfLiteXNNPackDelegate) node, yielding 1 partitions.\n"
     ]
    },
    {
     "name": "stdout",
     "output_type": "stream",
     "text": [
      "v_PushUps_g19_c04.avi: 2 from 3\n",
      "[INFO] error in pushup: 'NoneType' object has no attribute 'landmark'\n",
      "[INFO] error in pushup: 'NoneType' object has no attribute 'landmark'\n"
     ]
    },
    {
     "name": "stderr",
     "output_type": "stream",
     "text": [
      "INFO: Replacing 223 node(s) with delegate (TfLiteXNNPackDelegate) node, yielding 6 partitions.\n",
      "INFO: Replacing 318 node(s) with delegate (TfLiteXNNPackDelegate) node, yielding 1 partitions.\n"
     ]
    },
    {
     "name": "stdout",
     "output_type": "stream",
     "text": [
      "[INFO] error in pushup: 'NoneType' object has no attribute 'landmark'\n",
      "[INFO] error in pushup: 'NoneType' object has no attribute 'landmark'\n",
      "[INFO] error in pushup: 'NoneType' object has no attribute 'landmark'\n",
      "[INFO] error in pushup: 'NoneType' object has no attribute 'landmark'\n",
      "[INFO] error in pushup: 'NoneType' object has no attribute 'landmark'\n",
      "[INFO] error in pushup: 'NoneType' object has no attribute 'landmark'\n",
      "[INFO] error in pushup: 'NoneType' object has no attribute 'landmark'\n",
      "[INFO] error in pushup: 'NoneType' object has no attribute 'landmark'\n",
      "[INFO] error in pushup: 'NoneType' object has no attribute 'landmark'\n",
      "[INFO] error in pushup: 'NoneType' object has no attribute 'landmark'\n",
      "[INFO] error in pushup: 'NoneType' object has no attribute 'landmark'\n",
      "[INFO] error in pushup: 'NoneType' object has no attribute 'landmark'\n",
      "[INFO] error in pushup: 'NoneType' object has no attribute 'landmark'\n",
      "[INFO] error in pushup: 'NoneType' object has no attribute 'landmark'\n",
      "[INFO] error in pushup: 'NoneType' object has no attribute 'landmark'\n",
      "[INFO] error in pushup: 'NoneType' object has no attribute 'landmark'\n",
      "[INFO] error in pushup: 'NoneType' object has no attribute 'landmark'\n",
      "[INFO] error in pushup: 'NoneType' object has no attribute 'landmark'\n",
      "[INFO] error in pushup: 'NoneType' object has no attribute 'landmark'\n",
      "[INFO] error in pushup: 'NoneType' object has no attribute 'landmark'\n",
      "[INFO] error in pushup: 'NoneType' object has no attribute 'landmark'\n",
      "[INFO] error in pushup: 'NoneType' object has no attribute 'landmark'\n",
      "[INFO] error in pushup: 'NoneType' object has no attribute 'landmark'\n",
      "[INFO] error in pushup: 'NoneType' object has no attribute 'landmark'\n",
      "[INFO] error in pushup: 'NoneType' object has no attribute 'landmark'\n",
      "[INFO] error in pushup: 'NoneType' object has no attribute 'landmark'\n",
      "[INFO] error in pushup: 'NoneType' object has no attribute 'landmark'\n",
      "[INFO] error in pushup: 'NoneType' object has no attribute 'landmark'\n",
      "[INFO] error in pushup: 'NoneType' object has no attribute 'landmark'\n",
      "[INFO] error in pushup: 'NoneType' object has no attribute 'landmark'\n",
      "[INFO] error in pushup: 'NoneType' object has no attribute 'landmark'\n",
      "[INFO] error in pushup: 'NoneType' object has no attribute 'landmark'\n",
      "[INFO] error in pushup: 'NoneType' object has no attribute 'landmark'\n",
      "[INFO] error in pushup: 'NoneType' object has no attribute 'landmark'\n",
      "[INFO] error in pushup: 'NoneType' object has no attribute 'landmark'\n",
      "[INFO] error in pushup: 'NoneType' object has no attribute 'landmark'\n",
      "[INFO] error in pushup: 'NoneType' object has no attribute 'landmark'\n",
      "[INFO] error in pushup: 'NoneType' object has no attribute 'landmark'\n",
      "[INFO] error in pushup: 'NoneType' object has no attribute 'landmark'\n",
      "[INFO] error in pushup: 'NoneType' object has no attribute 'landmark'\n",
      "[INFO] error in pushup: 'NoneType' object has no attribute 'landmark'\n",
      "[INFO] error in pushup: 'NoneType' object has no attribute 'landmark'\n",
      "[INFO] error in pushup: 'NoneType' object has no attribute 'landmark'\n",
      "[INFO] error in pushup: 'NoneType' object has no attribute 'landmark'\n",
      "[INFO] error in pushup: 'NoneType' object has no attribute 'landmark'\n",
      "[INFO] error in pushup: 'NoneType' object has no attribute 'landmark'\n",
      "[INFO] error in pushup: 'NoneType' object has no attribute 'landmark'\n",
      "[INFO] error in pushup: 'NoneType' object has no attribute 'landmark'\n",
      "[INFO] error in pushup: 'NoneType' object has no attribute 'landmark'\n",
      "[INFO] error in pushup: 'NoneType' object has no attribute 'landmark'\n",
      "[INFO] error in pushup: 'NoneType' object has no attribute 'landmark'\n",
      "[INFO] error in pushup: 'NoneType' object has no attribute 'landmark'\n",
      "[INFO] error in pushup: 'NoneType' object has no attribute 'landmark'\n",
      "[INFO] error in pushup: 'NoneType' object has no attribute 'landmark'\n",
      "[INFO] error in pushup: 'NoneType' object has no attribute 'landmark'\n",
      "[INFO] error in pushup: 'NoneType' object has no attribute 'landmark'\n",
      "[INFO] error in pushup: 'NoneType' object has no attribute 'landmark'\n",
      "[INFO] error in pushup: 'NoneType' object has no attribute 'landmark'\n",
      "[INFO] error in pushup: 'NoneType' object has no attribute 'landmark'\n",
      "[INFO] error in pushup: 'NoneType' object has no attribute 'landmark'\n",
      "[INFO] error in pushup: 'NoneType' object has no attribute 'landmark'\n",
      "[INFO] error in pushup: 'NoneType' object has no attribute 'landmark'\n",
      "[INFO] error in pushup: 'NoneType' object has no attribute 'landmark'\n",
      "[INFO] error in pushup: 'NoneType' object has no attribute 'landmark'\n",
      "[INFO] error in pushup: 'NoneType' object has no attribute 'landmark'\n",
      "[INFO] error in pushup: 'NoneType' object has no attribute 'landmark'\n",
      "[INFO] error in pushup: 'NoneType' object has no attribute 'landmark'\n",
      "[INFO] error in pushup: 'NoneType' object has no attribute 'landmark'\n",
      "[INFO] error in pushup: 'NoneType' object has no attribute 'landmark'\n",
      "[INFO] error in pushup: 'NoneType' object has no attribute 'landmark'\n",
      "[INFO] error in pushup: 'NoneType' object has no attribute 'landmark'\n",
      "[INFO] error in pushup: 'NoneType' object has no attribute 'landmark'\n",
      "[INFO] error in pushup: 'NoneType' object has no attribute 'landmark'\n",
      "[INFO] error in pushup: 'NoneType' object has no attribute 'landmark'\n",
      "[INFO] error in pushup: 'NoneType' object has no attribute 'landmark'\n",
      "[INFO] error in pushup: 'NoneType' object has no attribute 'landmark'\n",
      "[INFO] error in pushup: 'NoneType' object has no attribute 'landmark'\n",
      "[INFO] error in pushup: 'NoneType' object has no attribute 'landmark'\n",
      "[INFO] error in pushup: 'NoneType' object has no attribute 'landmark'\n",
      "[INFO] error in pushup: 'NoneType' object has no attribute 'landmark'\n",
      "v_PushUps_g20_c01.avi: 0 from 4\n",
      "[INFO] error in pushup: 'NoneType' object has no attribute 'landmark'\n",
      "[INFO] error in pushup: 'NoneType' object has no attribute 'landmark'\n"
     ]
    },
    {
     "name": "stderr",
     "output_type": "stream",
     "text": [
      "INFO: Replacing 223 node(s) with delegate (TfLiteXNNPackDelegate) node, yielding 6 partitions.\n",
      "INFO: Replacing 318 node(s) with delegate (TfLiteXNNPackDelegate) node, yielding 1 partitions.\n"
     ]
    },
    {
     "name": "stdout",
     "output_type": "stream",
     "text": [
      "[INFO] error in pushup: 'NoneType' object has no attribute 'landmark'\n",
      "[INFO] error in pushup: 'NoneType' object has no attribute 'landmark'\n",
      "[INFO] error in pushup: 'NoneType' object has no attribute 'landmark'\n",
      "[INFO] error in pushup: 'NoneType' object has no attribute 'landmark'\n",
      "[INFO] error in pushup: 'NoneType' object has no attribute 'landmark'\n",
      "[INFO] error in pushup: 'NoneType' object has no attribute 'landmark'\n",
      "[INFO] error in pushup: 'NoneType' object has no attribute 'landmark'\n",
      "[INFO] error in pushup: 'NoneType' object has no attribute 'landmark'\n",
      "[INFO] error in pushup: 'NoneType' object has no attribute 'landmark'\n",
      "[INFO] error in pushup: 'NoneType' object has no attribute 'landmark'\n",
      "[INFO] error in pushup: 'NoneType' object has no attribute 'landmark'\n",
      "[INFO] error in pushup: 'NoneType' object has no attribute 'landmark'\n",
      "[INFO] error in pushup: 'NoneType' object has no attribute 'landmark'\n",
      "[INFO] error in pushup: 'NoneType' object has no attribute 'landmark'\n",
      "[INFO] error in pushup: 'NoneType' object has no attribute 'landmark'\n",
      "[INFO] error in pushup: 'NoneType' object has no attribute 'landmark'\n",
      "[INFO] error in pushup: 'NoneType' object has no attribute 'landmark'\n",
      "[INFO] error in pushup: 'NoneType' object has no attribute 'landmark'\n",
      "[INFO] error in pushup: 'NoneType' object has no attribute 'landmark'\n",
      "[INFO] error in pushup: 'NoneType' object has no attribute 'landmark'\n",
      "[INFO] error in pushup: 'NoneType' object has no attribute 'landmark'\n",
      "[INFO] error in pushup: 'NoneType' object has no attribute 'landmark'\n",
      "[INFO] error in pushup: 'NoneType' object has no attribute 'landmark'\n",
      "[INFO] error in pushup: 'NoneType' object has no attribute 'landmark'\n",
      "[INFO] error in pushup: 'NoneType' object has no attribute 'landmark'\n",
      "[INFO] error in pushup: 'NoneType' object has no attribute 'landmark'\n",
      "[INFO] error in pushup: 'NoneType' object has no attribute 'landmark'\n",
      "[INFO] error in pushup: 'NoneType' object has no attribute 'landmark'\n",
      "[INFO] error in pushup: 'NoneType' object has no attribute 'landmark'\n",
      "[INFO] error in pushup: 'NoneType' object has no attribute 'landmark'\n",
      "[INFO] error in pushup: 'NoneType' object has no attribute 'landmark'\n",
      "[INFO] error in pushup: 'NoneType' object has no attribute 'landmark'\n",
      "[INFO] error in pushup: 'NoneType' object has no attribute 'landmark'\n",
      "[INFO] error in pushup: 'NoneType' object has no attribute 'landmark'\n",
      "[INFO] error in pushup: 'NoneType' object has no attribute 'landmark'\n",
      "[INFO] error in pushup: 'NoneType' object has no attribute 'landmark'\n",
      "[INFO] error in pushup: 'NoneType' object has no attribute 'landmark'\n",
      "[INFO] error in pushup: 'NoneType' object has no attribute 'landmark'\n",
      "[INFO] error in pushup: 'NoneType' object has no attribute 'landmark'\n",
      "[INFO] error in pushup: 'NoneType' object has no attribute 'landmark'\n",
      "[INFO] error in pushup: 'NoneType' object has no attribute 'landmark'\n",
      "[INFO] error in pushup: 'NoneType' object has no attribute 'landmark'\n",
      "[INFO] error in pushup: 'NoneType' object has no attribute 'landmark'\n",
      "[INFO] error in pushup: 'NoneType' object has no attribute 'landmark'\n",
      "[INFO] error in pushup: 'NoneType' object has no attribute 'landmark'\n",
      "[INFO] error in pushup: 'NoneType' object has no attribute 'landmark'\n",
      "[INFO] error in pushup: 'NoneType' object has no attribute 'landmark'\n",
      "[INFO] error in pushup: 'NoneType' object has no attribute 'landmark'\n",
      "[INFO] error in pushup: 'NoneType' object has no attribute 'landmark'\n",
      "[INFO] error in pushup: 'NoneType' object has no attribute 'landmark'\n",
      "[INFO] error in pushup: 'NoneType' object has no attribute 'landmark'\n",
      "[INFO] error in pushup: 'NoneType' object has no attribute 'landmark'\n",
      "[INFO] error in pushup: 'NoneType' object has no attribute 'landmark'\n",
      "[INFO] error in pushup: 'NoneType' object has no attribute 'landmark'\n",
      "[INFO] error in pushup: 'NoneType' object has no attribute 'landmark'\n",
      "[INFO] error in pushup: 'NoneType' object has no attribute 'landmark'\n",
      "[INFO] error in pushup: 'NoneType' object has no attribute 'landmark'\n",
      "[INFO] error in pushup: 'NoneType' object has no attribute 'landmark'\n",
      "[INFO] error in pushup: 'NoneType' object has no attribute 'landmark'\n",
      "[INFO] error in pushup: 'NoneType' object has no attribute 'landmark'\n",
      "[INFO] error in pushup: 'NoneType' object has no attribute 'landmark'\n",
      "[INFO] error in pushup: 'NoneType' object has no attribute 'landmark'\n",
      "[INFO] error in pushup: 'NoneType' object has no attribute 'landmark'\n",
      "[INFO] error in pushup: 'NoneType' object has no attribute 'landmark'\n",
      "[INFO] error in pushup: 'NoneType' object has no attribute 'landmark'\n",
      "[INFO] error in pushup: 'NoneType' object has no attribute 'landmark'\n",
      "[INFO] error in pushup: 'NoneType' object has no attribute 'landmark'\n",
      "[INFO] error in pushup: 'NoneType' object has no attribute 'landmark'\n",
      "[INFO] error in pushup: 'NoneType' object has no attribute 'landmark'\n",
      "[INFO] error in pushup: 'NoneType' object has no attribute 'landmark'\n",
      "[INFO] error in pushup: 'NoneType' object has no attribute 'landmark'\n",
      "[INFO] error in pushup: 'NoneType' object has no attribute 'landmark'\n",
      "[INFO] error in pushup: 'NoneType' object has no attribute 'landmark'\n",
      "[INFO] error in pushup: 'NoneType' object has no attribute 'landmark'\n",
      "[INFO] error in pushup: 'NoneType' object has no attribute 'landmark'\n",
      "[INFO] error in pushup: 'NoneType' object has no attribute 'landmark'\n",
      "[INFO] error in pushup: 'NoneType' object has no attribute 'landmark'\n",
      "[INFO] error in pushup: 'NoneType' object has no attribute 'landmark'\n",
      "[INFO] error in pushup: 'NoneType' object has no attribute 'landmark'\n",
      "[INFO] error in pushup: 'NoneType' object has no attribute 'landmark'\n",
      "[INFO] error in pushup: 'NoneType' object has no attribute 'landmark'\n",
      "[INFO] error in pushup: 'NoneType' object has no attribute 'landmark'\n",
      "[INFO] error in pushup: 'NoneType' object has no attribute 'landmark'\n",
      "v_PushUps_g20_c02.avi: 0 from 4\n",
      "[INFO] error in pushup: 'NoneType' object has no attribute 'landmark'\n",
      "[INFO] error in pushup: 'NoneType' object has no attribute 'landmark'\n",
      "[INFO] error in pushup: 'NoneType' object has no attribute 'landmark'\n"
     ]
    },
    {
     "name": "stderr",
     "output_type": "stream",
     "text": [
      "INFO: Replacing 223 node(s) with delegate (TfLiteXNNPackDelegate) node, yielding 6 partitions.\n",
      "INFO: Replacing 318 node(s) with delegate (TfLiteXNNPackDelegate) node, yielding 1 partitions.\n"
     ]
    },
    {
     "name": "stdout",
     "output_type": "stream",
     "text": [
      "[INFO] error in pushup: 'NoneType' object has no attribute 'landmark'\n",
      "[INFO] error in pushup: 'NoneType' object has no attribute 'landmark'\n",
      "[INFO] error in pushup: 'NoneType' object has no attribute 'landmark'\n",
      "[INFO] error in pushup: 'NoneType' object has no attribute 'landmark'\n",
      "[INFO] error in pushup: 'NoneType' object has no attribute 'landmark'\n",
      "[INFO] error in pushup: 'NoneType' object has no attribute 'landmark'\n",
      "[INFO] error in pushup: 'NoneType' object has no attribute 'landmark'\n",
      "[INFO] error in pushup: 'NoneType' object has no attribute 'landmark'\n",
      "[INFO] error in pushup: 'NoneType' object has no attribute 'landmark'\n",
      "[INFO] error in pushup: 'NoneType' object has no attribute 'landmark'\n",
      "[INFO] error in pushup: 'NoneType' object has no attribute 'landmark'\n",
      "[INFO] error in pushup: 'NoneType' object has no attribute 'landmark'\n",
      "[INFO] error in pushup: 'NoneType' object has no attribute 'landmark'\n",
      "[INFO] error in pushup: 'NoneType' object has no attribute 'landmark'\n",
      "[INFO] error in pushup: 'NoneType' object has no attribute 'landmark'\n",
      "[INFO] error in pushup: 'NoneType' object has no attribute 'landmark'\n",
      "[INFO] error in pushup: 'NoneType' object has no attribute 'landmark'\n",
      "[INFO] error in pushup: 'NoneType' object has no attribute 'landmark'\n",
      "[INFO] error in pushup: 'NoneType' object has no attribute 'landmark'\n",
      "[INFO] error in pushup: 'NoneType' object has no attribute 'landmark'\n",
      "[INFO] error in pushup: 'NoneType' object has no attribute 'landmark'\n",
      "[INFO] error in pushup: 'NoneType' object has no attribute 'landmark'\n",
      "[INFO] error in pushup: 'NoneType' object has no attribute 'landmark'\n",
      "[INFO] error in pushup: 'NoneType' object has no attribute 'landmark'\n",
      "[INFO] error in pushup: 'NoneType' object has no attribute 'landmark'\n",
      "[INFO] error in pushup: 'NoneType' object has no attribute 'landmark'\n",
      "[INFO] error in pushup: 'NoneType' object has no attribute 'landmark'\n",
      "[INFO] error in pushup: 'NoneType' object has no attribute 'landmark'\n",
      "[INFO] error in pushup: 'NoneType' object has no attribute 'landmark'\n",
      "[INFO] error in pushup: 'NoneType' object has no attribute 'landmark'\n",
      "[INFO] error in pushup: 'NoneType' object has no attribute 'landmark'\n",
      "[INFO] error in pushup: 'NoneType' object has no attribute 'landmark'\n",
      "[INFO] error in pushup: 'NoneType' object has no attribute 'landmark'\n",
      "[INFO] error in pushup: 'NoneType' object has no attribute 'landmark'\n",
      "[INFO] error in pushup: 'NoneType' object has no attribute 'landmark'\n",
      "[INFO] error in pushup: 'NoneType' object has no attribute 'landmark'\n",
      "[INFO] error in pushup: 'NoneType' object has no attribute 'landmark'\n",
      "[INFO] error in pushup: 'NoneType' object has no attribute 'landmark'\n",
      "[INFO] error in pushup: 'NoneType' object has no attribute 'landmark'\n",
      "[INFO] error in pushup: 'NoneType' object has no attribute 'landmark'\n",
      "[INFO] error in pushup: 'NoneType' object has no attribute 'landmark'\n",
      "[INFO] error in pushup: 'NoneType' object has no attribute 'landmark'\n",
      "[INFO] error in pushup: 'NoneType' object has no attribute 'landmark'\n",
      "[INFO] error in pushup: 'NoneType' object has no attribute 'landmark'\n",
      "[INFO] error in pushup: 'NoneType' object has no attribute 'landmark'\n",
      "[INFO] error in pushup: 'NoneType' object has no attribute 'landmark'\n",
      "[INFO] error in pushup: 'NoneType' object has no attribute 'landmark'\n",
      "[INFO] error in pushup: 'NoneType' object has no attribute 'landmark'\n",
      "[INFO] error in pushup: 'NoneType' object has no attribute 'landmark'\n",
      "[INFO] error in pushup: 'NoneType' object has no attribute 'landmark'\n",
      "[INFO] error in pushup: 'NoneType' object has no attribute 'landmark'\n",
      "[INFO] error in pushup: 'NoneType' object has no attribute 'landmark'\n",
      "[INFO] error in pushup: 'NoneType' object has no attribute 'landmark'\n",
      "[INFO] error in pushup: 'NoneType' object has no attribute 'landmark'\n",
      "[INFO] error in pushup: 'NoneType' object has no attribute 'landmark'\n",
      "[INFO] error in pushup: 'NoneType' object has no attribute 'landmark'\n",
      "[INFO] error in pushup: 'NoneType' object has no attribute 'landmark'\n",
      "[INFO] error in pushup: 'NoneType' object has no attribute 'landmark'\n",
      "[INFO] error in pushup: 'NoneType' object has no attribute 'landmark'\n",
      "[INFO] error in pushup: 'NoneType' object has no attribute 'landmark'\n",
      "[INFO] error in pushup: 'NoneType' object has no attribute 'landmark'\n",
      "[INFO] error in pushup: 'NoneType' object has no attribute 'landmark'\n",
      "[INFO] error in pushup: 'NoneType' object has no attribute 'landmark'\n",
      "[INFO] error in pushup: 'NoneType' object has no attribute 'landmark'\n",
      "[INFO] error in pushup: 'NoneType' object has no attribute 'landmark'\n",
      "[INFO] error in pushup: 'NoneType' object has no attribute 'landmark'\n",
      "[INFO] error in pushup: 'NoneType' object has no attribute 'landmark'\n",
      "[INFO] error in pushup: 'NoneType' object has no attribute 'landmark'\n",
      "[INFO] error in pushup: 'NoneType' object has no attribute 'landmark'\n",
      "v_PushUps_g20_c03.avi: 1 from 4\n",
      "[INFO] error in pushup: 'NoneType' object has no attribute 'landmark'\n"
     ]
    },
    {
     "name": "stderr",
     "output_type": "stream",
     "text": [
      "INFO: Replacing 223 node(s) with delegate (TfLiteXNNPackDelegate) node, yielding 6 partitions.\n",
      "INFO: Replacing 318 node(s) with delegate (TfLiteXNNPackDelegate) node, yielding 1 partitions.\n"
     ]
    },
    {
     "name": "stdout",
     "output_type": "stream",
     "text": [
      "[INFO] error in pushup: 'NoneType' object has no attribute 'landmark'\n",
      "[INFO] error in pushup: 'NoneType' object has no attribute 'landmark'\n",
      "[INFO] error in pushup: 'NoneType' object has no attribute 'landmark'\n",
      "[INFO] error in pushup: 'NoneType' object has no attribute 'landmark'\n",
      "[INFO] error in pushup: 'NoneType' object has no attribute 'landmark'\n",
      "[INFO] error in pushup: 'NoneType' object has no attribute 'landmark'\n",
      "[INFO] error in pushup: 'NoneType' object has no attribute 'landmark'\n",
      "[INFO] error in pushup: 'NoneType' object has no attribute 'landmark'\n",
      "[INFO] error in pushup: 'NoneType' object has no attribute 'landmark'\n",
      "[INFO] error in pushup: 'NoneType' object has no attribute 'landmark'\n",
      "[INFO] error in pushup: 'NoneType' object has no attribute 'landmark'\n",
      "[INFO] error in pushup: 'NoneType' object has no attribute 'landmark'\n",
      "[INFO] error in pushup: 'NoneType' object has no attribute 'landmark'\n",
      "[INFO] error in pushup: 'NoneType' object has no attribute 'landmark'\n",
      "[INFO] error in pushup: 'NoneType' object has no attribute 'landmark'\n",
      "[INFO] error in pushup: 'NoneType' object has no attribute 'landmark'\n",
      "[INFO] error in pushup: 'NoneType' object has no attribute 'landmark'\n",
      "[INFO] error in pushup: 'NoneType' object has no attribute 'landmark'\n",
      "[INFO] error in pushup: 'NoneType' object has no attribute 'landmark'\n",
      "[INFO] error in pushup: 'NoneType' object has no attribute 'landmark'\n",
      "[INFO] error in pushup: 'NoneType' object has no attribute 'landmark'\n",
      "[INFO] error in pushup: 'NoneType' object has no attribute 'landmark'\n",
      "[INFO] error in pushup: 'NoneType' object has no attribute 'landmark'\n",
      "[INFO] error in pushup: 'NoneType' object has no attribute 'landmark'\n",
      "[INFO] error in pushup: 'NoneType' object has no attribute 'landmark'\n",
      "[INFO] error in pushup: 'NoneType' object has no attribute 'landmark'\n",
      "[INFO] error in pushup: 'NoneType' object has no attribute 'landmark'\n",
      "[INFO] error in pushup: 'NoneType' object has no attribute 'landmark'\n",
      "[INFO] error in pushup: 'NoneType' object has no attribute 'landmark'\n",
      "[INFO] error in pushup: 'NoneType' object has no attribute 'landmark'\n",
      "[INFO] error in pushup: 'NoneType' object has no attribute 'landmark'\n",
      "[INFO] error in pushup: 'NoneType' object has no attribute 'landmark'\n",
      "[INFO] error in pushup: 'NoneType' object has no attribute 'landmark'\n",
      "[INFO] error in pushup: 'NoneType' object has no attribute 'landmark'\n",
      "[INFO] error in pushup: 'NoneType' object has no attribute 'landmark'\n",
      "[INFO] error in pushup: 'NoneType' object has no attribute 'landmark'\n",
      "[INFO] error in pushup: 'NoneType' object has no attribute 'landmark'\n",
      "[INFO] error in pushup: 'NoneType' object has no attribute 'landmark'\n",
      "[INFO] error in pushup: 'NoneType' object has no attribute 'landmark'\n",
      "[INFO] error in pushup: 'NoneType' object has no attribute 'landmark'\n",
      "[INFO] error in pushup: 'NoneType' object has no attribute 'landmark'\n",
      "[INFO] error in pushup: 'NoneType' object has no attribute 'landmark'\n",
      "[INFO] error in pushup: 'NoneType' object has no attribute 'landmark'\n",
      "[INFO] error in pushup: 'NoneType' object has no attribute 'landmark'\n",
      "[INFO] error in pushup: 'NoneType' object has no attribute 'landmark'\n",
      "[INFO] error in pushup: 'NoneType' object has no attribute 'landmark'\n",
      "[INFO] error in pushup: 'NoneType' object has no attribute 'landmark'\n",
      "[INFO] error in pushup: 'NoneType' object has no attribute 'landmark'\n",
      "[INFO] error in pushup: 'NoneType' object has no attribute 'landmark'\n",
      "[INFO] error in pushup: 'NoneType' object has no attribute 'landmark'\n",
      "[INFO] error in pushup: 'NoneType' object has no attribute 'landmark'\n",
      "[INFO] error in pushup: 'NoneType' object has no attribute 'landmark'\n",
      "[INFO] error in pushup: 'NoneType' object has no attribute 'landmark'\n",
      "[INFO] error in pushup: 'NoneType' object has no attribute 'landmark'\n",
      "[INFO] error in pushup: 'NoneType' object has no attribute 'landmark'\n",
      "[INFO] error in pushup: 'NoneType' object has no attribute 'landmark'\n",
      "[INFO] error in pushup: 'NoneType' object has no attribute 'landmark'\n",
      "[INFO] error in pushup: 'NoneType' object has no attribute 'landmark'\n",
      "[INFO] error in pushup: 'NoneType' object has no attribute 'landmark'\n",
      "[INFO] error in pushup: 'NoneType' object has no attribute 'landmark'\n",
      "[INFO] error in pushup: 'NoneType' object has no attribute 'landmark'\n",
      "[INFO] error in pushup: 'NoneType' object has no attribute 'landmark'\n",
      "[INFO] error in pushup: 'NoneType' object has no attribute 'landmark'\n",
      "[INFO] error in pushup: 'NoneType' object has no attribute 'landmark'\n",
      "[INFO] error in pushup: 'NoneType' object has no attribute 'landmark'\n",
      "[INFO] error in pushup: 'NoneType' object has no attribute 'landmark'\n",
      "[INFO] error in pushup: 'NoneType' object has no attribute 'landmark'\n",
      "[INFO] error in pushup: 'NoneType' object has no attribute 'landmark'\n",
      "[INFO] error in pushup: 'NoneType' object has no attribute 'landmark'\n",
      "[INFO] error in pushup: 'NoneType' object has no attribute 'landmark'\n",
      "[INFO] error in pushup: 'NoneType' object has no attribute 'landmark'\n",
      "[INFO] error in pushup: 'NoneType' object has no attribute 'landmark'\n",
      "[INFO] error in pushup: 'NoneType' object has no attribute 'landmark'\n",
      "[INFO] error in pushup: 'NoneType' object has no attribute 'landmark'\n",
      "[INFO] error in pushup: 'NoneType' object has no attribute 'landmark'\n",
      "[INFO] error in pushup: 'NoneType' object has no attribute 'landmark'\n",
      "[INFO] error in pushup: 'NoneType' object has no attribute 'landmark'\n",
      "[INFO] error in pushup: 'NoneType' object has no attribute 'landmark'\n",
      "[INFO] error in pushup: 'NoneType' object has no attribute 'landmark'\n",
      "[INFO] error in pushup: 'NoneType' object has no attribute 'landmark'\n",
      "[INFO] error in pushup: 'NoneType' object has no attribute 'landmark'\n",
      "v_PushUps_g20_c04.avi: 0 from 4\n"
     ]
    },
    {
     "name": "stderr",
     "output_type": "stream",
     "text": [
      "INFO: Replacing 223 node(s) with delegate (TfLiteXNNPackDelegate) node, yielding 6 partitions.\n",
      "INFO: Replacing 318 node(s) with delegate (TfLiteXNNPackDelegate) node, yielding 1 partitions.\n"
     ]
    },
    {
     "name": "stdout",
     "output_type": "stream",
     "text": [
      "v_PushUps_g21_c01.avi: 1 from 1\n"
     ]
    },
    {
     "name": "stderr",
     "output_type": "stream",
     "text": [
      "INFO: Replacing 223 node(s) with delegate (TfLiteXNNPackDelegate) node, yielding 6 partitions.\n",
      "INFO: Replacing 318 node(s) with delegate (TfLiteXNNPackDelegate) node, yielding 1 partitions.\n"
     ]
    },
    {
     "name": "stdout",
     "output_type": "stream",
     "text": [
      "v_PushUps_g21_c02.avi: 1 from 1\n"
     ]
    },
    {
     "name": "stderr",
     "output_type": "stream",
     "text": [
      "INFO: Replacing 223 node(s) with delegate (TfLiteXNNPackDelegate) node, yielding 6 partitions.\n",
      "INFO: Replacing 318 node(s) with delegate (TfLiteXNNPackDelegate) node, yielding 1 partitions.\n"
     ]
    },
    {
     "name": "stdout",
     "output_type": "stream",
     "text": [
      "v_PushUps_g21_c03.avi: 1 from 1\n"
     ]
    },
    {
     "name": "stderr",
     "output_type": "stream",
     "text": [
      "INFO: Replacing 223 node(s) with delegate (TfLiteXNNPackDelegate) node, yielding 6 partitions.\n",
      "INFO: Replacing 318 node(s) with delegate (TfLiteXNNPackDelegate) node, yielding 1 partitions.\n"
     ]
    },
    {
     "name": "stdout",
     "output_type": "stream",
     "text": [
      "v_PushUps_g21_c04.avi: 1 from 1\n"
     ]
    },
    {
     "name": "stderr",
     "output_type": "stream",
     "text": [
      "INFO: Replacing 223 node(s) with delegate (TfLiteXNNPackDelegate) node, yielding 6 partitions.\n",
      "INFO: Replacing 318 node(s) with delegate (TfLiteXNNPackDelegate) node, yielding 1 partitions.\n"
     ]
    },
    {
     "name": "stdout",
     "output_type": "stream",
     "text": [
      "v_PushUps_g22_c01.avi: 2 from 3\n"
     ]
    },
    {
     "name": "stderr",
     "output_type": "stream",
     "text": [
      "INFO: Replacing 223 node(s) with delegate (TfLiteXNNPackDelegate) node, yielding 6 partitions.\n",
      "INFO: Replacing 318 node(s) with delegate (TfLiteXNNPackDelegate) node, yielding 1 partitions.\n"
     ]
    },
    {
     "name": "stdout",
     "output_type": "stream",
     "text": [
      "v_PushUps_g22_c02.avi: 4 from 5\n"
     ]
    },
    {
     "name": "stderr",
     "output_type": "stream",
     "text": [
      "INFO: Replacing 223 node(s) with delegate (TfLiteXNNPackDelegate) node, yielding 6 partitions.\n",
      "INFO: Replacing 318 node(s) with delegate (TfLiteXNNPackDelegate) node, yielding 1 partitions.\n"
     ]
    },
    {
     "name": "stdout",
     "output_type": "stream",
     "text": [
      "v_PushUps_g22_c03.avi: 2 from 3\n"
     ]
    },
    {
     "name": "stderr",
     "output_type": "stream",
     "text": [
      "INFO: Replacing 223 node(s) with delegate (TfLiteXNNPackDelegate) node, yielding 6 partitions.\n",
      "INFO: Replacing 318 node(s) with delegate (TfLiteXNNPackDelegate) node, yielding 1 partitions.\n"
     ]
    },
    {
     "name": "stdout",
     "output_type": "stream",
     "text": [
      "v_PushUps_g22_c04.avi: 2 from 4\n"
     ]
    },
    {
     "name": "stderr",
     "output_type": "stream",
     "text": [
      "INFO: Replacing 223 node(s) with delegate (TfLiteXNNPackDelegate) node, yielding 6 partitions.\n",
      "INFO: Replacing 318 node(s) with delegate (TfLiteXNNPackDelegate) node, yielding 1 partitions.\n"
     ]
    },
    {
     "name": "stdout",
     "output_type": "stream",
     "text": [
      "v_PushUps_g23_c01.avi: 2 from 2\n"
     ]
    },
    {
     "name": "stderr",
     "output_type": "stream",
     "text": [
      "INFO: Replacing 223 node(s) with delegate (TfLiteXNNPackDelegate) node, yielding 6 partitions.\n",
      "INFO: Replacing 318 node(s) with delegate (TfLiteXNNPackDelegate) node, yielding 1 partitions.\n"
     ]
    },
    {
     "name": "stdout",
     "output_type": "stream",
     "text": [
      "[INFO] error in pushup: 'NoneType' object has no attribute 'landmark'\n",
      "[INFO] error in pushup: 'NoneType' object has no attribute 'landmark'\n",
      "[INFO] error in pushup: 'NoneType' object has no attribute 'landmark'\n",
      "[INFO] error in pushup: 'NoneType' object has no attribute 'landmark'\n",
      "[INFO] error in pushup: 'NoneType' object has no attribute 'landmark'\n",
      "[INFO] error in pushup: 'NoneType' object has no attribute 'landmark'\n",
      "[INFO] error in pushup: 'NoneType' object has no attribute 'landmark'\n",
      "[INFO] error in pushup: 'NoneType' object has no attribute 'landmark'\n",
      "[INFO] error in pushup: 'NoneType' object has no attribute 'landmark'\n",
      "v_PushUps_g23_c02.avi: 2 from 2\n",
      "[INFO] error in pushup: 'NoneType' object has no attribute 'landmark'\n",
      "[INFO] error in pushup: 'NoneType' object has no attribute 'landmark'\n",
      "[INFO] error in pushup: 'NoneType' object has no attribute 'landmark'\n",
      "[INFO] error in pushup: 'NoneType' object has no attribute 'landmark'\n"
     ]
    },
    {
     "name": "stderr",
     "output_type": "stream",
     "text": [
      "INFO: Replacing 223 node(s) with delegate (TfLiteXNNPackDelegate) node, yielding 6 partitions.\n",
      "INFO: Replacing 318 node(s) with delegate (TfLiteXNNPackDelegate) node, yielding 1 partitions.\n"
     ]
    },
    {
     "name": "stdout",
     "output_type": "stream",
     "text": [
      "v_PushUps_g23_c03.avi: 2 from 2\n"
     ]
    },
    {
     "name": "stderr",
     "output_type": "stream",
     "text": [
      "INFO: Replacing 223 node(s) with delegate (TfLiteXNNPackDelegate) node, yielding 6 partitions.\n",
      "INFO: Replacing 318 node(s) with delegate (TfLiteXNNPackDelegate) node, yielding 1 partitions.\n"
     ]
    },
    {
     "name": "stdout",
     "output_type": "stream",
     "text": [
      "v_PushUps_g23_c04.avi: 2 from 2\n"
     ]
    },
    {
     "name": "stderr",
     "output_type": "stream",
     "text": [
      "INFO: Replacing 223 node(s) with delegate (TfLiteXNNPackDelegate) node, yielding 6 partitions.\n",
      "INFO: Replacing 318 node(s) with delegate (TfLiteXNNPackDelegate) node, yielding 1 partitions.\n"
     ]
    },
    {
     "name": "stdout",
     "output_type": "stream",
     "text": [
      "v_PushUps_g24_c01.avi: 2 from 2\n"
     ]
    },
    {
     "name": "stderr",
     "output_type": "stream",
     "text": [
      "INFO: Replacing 223 node(s) with delegate (TfLiteXNNPackDelegate) node, yielding 6 partitions.\n",
      "INFO: Replacing 318 node(s) with delegate (TfLiteXNNPackDelegate) node, yielding 1 partitions.\n"
     ]
    },
    {
     "name": "stdout",
     "output_type": "stream",
     "text": [
      "v_PushUps_g24_c02.avi: 2 from 2\n"
     ]
    },
    {
     "name": "stderr",
     "output_type": "stream",
     "text": [
      "INFO: Replacing 223 node(s) with delegate (TfLiteXNNPackDelegate) node, yielding 6 partitions.\n",
      "INFO: Replacing 318 node(s) with delegate (TfLiteXNNPackDelegate) node, yielding 1 partitions.\n"
     ]
    },
    {
     "name": "stdout",
     "output_type": "stream",
     "text": [
      "v_PushUps_g24_c03.avi: 2 from 2\n"
     ]
    },
    {
     "name": "stderr",
     "output_type": "stream",
     "text": [
      "INFO: Replacing 223 node(s) with delegate (TfLiteXNNPackDelegate) node, yielding 6 partitions.\n",
      "INFO: Replacing 318 node(s) with delegate (TfLiteXNNPackDelegate) node, yielding 1 partitions.\n"
     ]
    },
    {
     "name": "stdout",
     "output_type": "stream",
     "text": [
      "v_PushUps_g24_c04.avi: 2 from 2\n"
     ]
    },
    {
     "name": "stderr",
     "output_type": "stream",
     "text": [
      "INFO: Replacing 223 node(s) with delegate (TfLiteXNNPackDelegate) node, yielding 6 partitions.\n",
      "INFO: Replacing 318 node(s) with delegate (TfLiteXNNPackDelegate) node, yielding 1 partitions.\n"
     ]
    },
    {
     "name": "stdout",
     "output_type": "stream",
     "text": [
      "v_PushUps_g25_c01.avi: 2 from 2\n"
     ]
    },
    {
     "name": "stderr",
     "output_type": "stream",
     "text": [
      "INFO: Replacing 223 node(s) with delegate (TfLiteXNNPackDelegate) node, yielding 6 partitions.\n",
      "INFO: Replacing 318 node(s) with delegate (TfLiteXNNPackDelegate) node, yielding 1 partitions.\n"
     ]
    },
    {
     "name": "stdout",
     "output_type": "stream",
     "text": [
      "v_PushUps_g25_c02.avi: 2 from 2\n"
     ]
    },
    {
     "name": "stderr",
     "output_type": "stream",
     "text": [
      "INFO: Replacing 223 node(s) with delegate (TfLiteXNNPackDelegate) node, yielding 6 partitions.\n",
      "INFO: Replacing 318 node(s) with delegate (TfLiteXNNPackDelegate) node, yielding 1 partitions.\n"
     ]
    },
    {
     "name": "stdout",
     "output_type": "stream",
     "text": [
      "v_PushUps_g25_c03.avi: 2 from 2\n"
     ]
    },
    {
     "name": "stderr",
     "output_type": "stream",
     "text": [
      "INFO: Replacing 223 node(s) with delegate (TfLiteXNNPackDelegate) node, yielding 6 partitions.\n",
      "INFO: Replacing 318 node(s) with delegate (TfLiteXNNPackDelegate) node, yielding 1 partitions.\n"
     ]
    },
    {
     "name": "stdout",
     "output_type": "stream",
     "text": [
      "v_PushUps_g25_c04.avi: 2 from 2\n",
      "WARNING:tensorflow:Layer lstm will not use cuDNN kernels since it doesn't meet the criteria. It will use a generic GPU kernel as fallback when running on GPU.\n"
     ]
    },
    {
     "name": "stderr",
     "output_type": "stream",
     "text": [
      "INFO: Replacing 223 node(s) with delegate (TfLiteXNNPackDelegate) node, yielding 6 partitions.\n",
      "INFO: Replacing 318 node(s) with delegate (TfLiteXNNPackDelegate) node, yielding 1 partitions.\n"
     ]
    },
    {
     "name": "stdout",
     "output_type": "stream",
     "text": [
      "v_BodyWeightSquats_g01_c01.avi: 4 from 4\n"
     ]
    },
    {
     "name": "stderr",
     "output_type": "stream",
     "text": [
      "INFO: Replacing 223 node(s) with delegate (TfLiteXNNPackDelegate) node, yielding 6 partitions.\n",
      "INFO: Replacing 318 node(s) with delegate (TfLiteXNNPackDelegate) node, yielding 1 partitions.\n"
     ]
    },
    {
     "name": "stdout",
     "output_type": "stream",
     "text": [
      "v_BodyWeightSquats_g01_c02.avi: 4 from 4\n"
     ]
    },
    {
     "name": "stderr",
     "output_type": "stream",
     "text": [
      "INFO: Replacing 223 node(s) with delegate (TfLiteXNNPackDelegate) node, yielding 6 partitions.\n",
      "INFO: Replacing 318 node(s) with delegate (TfLiteXNNPackDelegate) node, yielding 1 partitions.\n"
     ]
    },
    {
     "name": "stdout",
     "output_type": "stream",
     "text": [
      "v_BodyWeightSquats_g01_c03.avi: 4 from 4\n"
     ]
    },
    {
     "name": "stderr",
     "output_type": "stream",
     "text": [
      "INFO: Replacing 223 node(s) with delegate (TfLiteXNNPackDelegate) node, yielding 6 partitions.\n",
      "INFO: Replacing 318 node(s) with delegate (TfLiteXNNPackDelegate) node, yielding 1 partitions.\n"
     ]
    },
    {
     "name": "stdout",
     "output_type": "stream",
     "text": [
      "v_BodyWeightSquats_g01_c04.avi: 3 from 4\n"
     ]
    },
    {
     "name": "stderr",
     "output_type": "stream",
     "text": [
      "INFO: Replacing 223 node(s) with delegate (TfLiteXNNPackDelegate) node, yielding 6 partitions.\n",
      "INFO: Replacing 318 node(s) with delegate (TfLiteXNNPackDelegate) node, yielding 1 partitions.\n"
     ]
    },
    {
     "name": "stdout",
     "output_type": "stream",
     "text": [
      "v_BodyWeightSquats_g02_c01.avi: 2 from 2\n"
     ]
    },
    {
     "name": "stderr",
     "output_type": "stream",
     "text": [
      "INFO: Replacing 223 node(s) with delegate (TfLiteXNNPackDelegate) node, yielding 6 partitions.\n",
      "INFO: Replacing 318 node(s) with delegate (TfLiteXNNPackDelegate) node, yielding 1 partitions.\n"
     ]
    },
    {
     "name": "stdout",
     "output_type": "stream",
     "text": [
      "v_BodyWeightSquats_g02_c02.avi: 1 from 1\n"
     ]
    },
    {
     "name": "stderr",
     "output_type": "stream",
     "text": [
      "INFO: Replacing 223 node(s) with delegate (TfLiteXNNPackDelegate) node, yielding 6 partitions.\n",
      "INFO: Replacing 318 node(s) with delegate (TfLiteXNNPackDelegate) node, yielding 1 partitions.\n"
     ]
    },
    {
     "name": "stdout",
     "output_type": "stream",
     "text": [
      "v_BodyWeightSquats_g02_c03.avi: 4 from 2\n"
     ]
    },
    {
     "name": "stderr",
     "output_type": "stream",
     "text": [
      "INFO: Replacing 223 node(s) with delegate (TfLiteXNNPackDelegate) node, yielding 6 partitions.\n",
      "INFO: Replacing 318 node(s) with delegate (TfLiteXNNPackDelegate) node, yielding 1 partitions.\n"
     ]
    },
    {
     "name": "stdout",
     "output_type": "stream",
     "text": [
      "v_BodyWeightSquats_g02_c04.avi: 2 from 2\n"
     ]
    },
    {
     "name": "stderr",
     "output_type": "stream",
     "text": [
      "INFO: Replacing 223 node(s) with delegate (TfLiteXNNPackDelegate) node, yielding 6 partitions.\n",
      "INFO: Replacing 318 node(s) with delegate (TfLiteXNNPackDelegate) node, yielding 1 partitions.\n"
     ]
    },
    {
     "name": "stdout",
     "output_type": "stream",
     "text": [
      "v_BodyWeightSquats_g03_c01.avi: 3 from 3\n"
     ]
    },
    {
     "name": "stderr",
     "output_type": "stream",
     "text": [
      "INFO: Replacing 223 node(s) with delegate (TfLiteXNNPackDelegate) node, yielding 6 partitions.\n",
      "INFO: Replacing 318 node(s) with delegate (TfLiteXNNPackDelegate) node, yielding 1 partitions.\n"
     ]
    },
    {
     "name": "stdout",
     "output_type": "stream",
     "text": [
      "v_BodyWeightSquats_g03_c02.avi: 3 from 2\n"
     ]
    },
    {
     "name": "stderr",
     "output_type": "stream",
     "text": [
      "INFO: Replacing 223 node(s) with delegate (TfLiteXNNPackDelegate) node, yielding 6 partitions.\n",
      "INFO: Replacing 318 node(s) with delegate (TfLiteXNNPackDelegate) node, yielding 1 partitions.\n"
     ]
    },
    {
     "name": "stdout",
     "output_type": "stream",
     "text": [
      "[INFO] error in squat: 'NoneType' object has no attribute 'landmark'\n",
      "v_BodyWeightSquats_g03_c03.avi: 1 from 2\n"
     ]
    },
    {
     "name": "stderr",
     "output_type": "stream",
     "text": [
      "INFO: Replacing 223 node(s) with delegate (TfLiteXNNPackDelegate) node, yielding 6 partitions.\n",
      "INFO: Replacing 318 node(s) with delegate (TfLiteXNNPackDelegate) node, yielding 1 partitions.\n"
     ]
    },
    {
     "name": "stdout",
     "output_type": "stream",
     "text": [
      "v_BodyWeightSquats_g03_c04.avi: 3 from 3\n"
     ]
    },
    {
     "name": "stderr",
     "output_type": "stream",
     "text": [
      "INFO: Replacing 223 node(s) with delegate (TfLiteXNNPackDelegate) node, yielding 6 partitions.\n",
      "INFO: Replacing 318 node(s) with delegate (TfLiteXNNPackDelegate) node, yielding 1 partitions.\n"
     ]
    },
    {
     "name": "stdout",
     "output_type": "stream",
     "text": [
      "v_BodyWeightSquats_g03_c05.avi: 2 from 2\n"
     ]
    },
    {
     "name": "stderr",
     "output_type": "stream",
     "text": [
      "INFO: Replacing 223 node(s) with delegate (TfLiteXNNPackDelegate) node, yielding 6 partitions.\n",
      "INFO: Replacing 318 node(s) with delegate (TfLiteXNNPackDelegate) node, yielding 1 partitions.\n"
     ]
    },
    {
     "name": "stdout",
     "output_type": "stream",
     "text": [
      "v_BodyWeightSquats_g04_c01.avi: 2 from 2\n"
     ]
    },
    {
     "name": "stderr",
     "output_type": "stream",
     "text": [
      "INFO: Replacing 223 node(s) with delegate (TfLiteXNNPackDelegate) node, yielding 6 partitions.\n",
      "INFO: Replacing 318 node(s) with delegate (TfLiteXNNPackDelegate) node, yielding 1 partitions.\n"
     ]
    },
    {
     "name": "stdout",
     "output_type": "stream",
     "text": [
      "v_BodyWeightSquats_g04_c02.avi: 1 from 1\n"
     ]
    },
    {
     "name": "stderr",
     "output_type": "stream",
     "text": [
      "INFO: Replacing 223 node(s) with delegate (TfLiteXNNPackDelegate) node, yielding 6 partitions.\n",
      "INFO: Replacing 318 node(s) with delegate (TfLiteXNNPackDelegate) node, yielding 1 partitions.\n"
     ]
    },
    {
     "name": "stdout",
     "output_type": "stream",
     "text": [
      "[INFO] error in squat: 'NoneType' object has no attribute 'landmark'\n",
      "v_BodyWeightSquats_g04_c03.avi: 1 from 1\n"
     ]
    },
    {
     "name": "stderr",
     "output_type": "stream",
     "text": [
      "INFO: Replacing 223 node(s) with delegate (TfLiteXNNPackDelegate) node, yielding 6 partitions.\n",
      "INFO: Replacing 318 node(s) with delegate (TfLiteXNNPackDelegate) node, yielding 1 partitions.\n"
     ]
    },
    {
     "name": "stdout",
     "output_type": "stream",
     "text": [
      "v_BodyWeightSquats_g04_c04.avi: 1 from 1\n"
     ]
    },
    {
     "name": "stderr",
     "output_type": "stream",
     "text": [
      "INFO: Replacing 223 node(s) with delegate (TfLiteXNNPackDelegate) node, yielding 6 partitions.\n",
      "INFO: Replacing 318 node(s) with delegate (TfLiteXNNPackDelegate) node, yielding 1 partitions.\n"
     ]
    },
    {
     "name": "stdout",
     "output_type": "stream",
     "text": [
      "v_BodyWeightSquats_g05_c01.avi: 1 from 2\n"
     ]
    },
    {
     "name": "stderr",
     "output_type": "stream",
     "text": [
      "INFO: Replacing 223 node(s) with delegate (TfLiteXNNPackDelegate) node, yielding 6 partitions.\n",
      "INFO: Replacing 318 node(s) with delegate (TfLiteXNNPackDelegate) node, yielding 1 partitions.\n"
     ]
    },
    {
     "name": "stdout",
     "output_type": "stream",
     "text": [
      "v_BodyWeightSquats_g05_c02.avi: 4 from 3\n"
     ]
    },
    {
     "name": "stderr",
     "output_type": "stream",
     "text": [
      "INFO: Replacing 223 node(s) with delegate (TfLiteXNNPackDelegate) node, yielding 6 partitions.\n",
      "INFO: Replacing 318 node(s) with delegate (TfLiteXNNPackDelegate) node, yielding 1 partitions.\n"
     ]
    },
    {
     "name": "stdout",
     "output_type": "stream",
     "text": [
      "v_BodyWeightSquats_g05_c03.avi: 1 from 1\n"
     ]
    },
    {
     "name": "stderr",
     "output_type": "stream",
     "text": [
      "INFO: Replacing 223 node(s) with delegate (TfLiteXNNPackDelegate) node, yielding 6 partitions.\n",
      "INFO: Replacing 318 node(s) with delegate (TfLiteXNNPackDelegate) node, yielding 1 partitions.\n"
     ]
    },
    {
     "name": "stdout",
     "output_type": "stream",
     "text": [
      "v_BodyWeightSquats_g05_c04.avi: 3 from 3\n"
     ]
    },
    {
     "name": "stderr",
     "output_type": "stream",
     "text": [
      "INFO: Replacing 223 node(s) with delegate (TfLiteXNNPackDelegate) node, yielding 6 partitions.\n",
      "INFO: Replacing 318 node(s) with delegate (TfLiteXNNPackDelegate) node, yielding 1 partitions.\n"
     ]
    },
    {
     "name": "stdout",
     "output_type": "stream",
     "text": [
      "v_BodyWeightSquats_g06_c01.avi: 2 from 2\n"
     ]
    },
    {
     "name": "stderr",
     "output_type": "stream",
     "text": [
      "INFO: Replacing 223 node(s) with delegate (TfLiteXNNPackDelegate) node, yielding 6 partitions.\n",
      "INFO: Replacing 318 node(s) with delegate (TfLiteXNNPackDelegate) node, yielding 1 partitions.\n"
     ]
    },
    {
     "name": "stdout",
     "output_type": "stream",
     "text": [
      "v_BodyWeightSquats_g06_c02.avi: 2 from 2\n"
     ]
    },
    {
     "name": "stderr",
     "output_type": "stream",
     "text": [
      "INFO: Replacing 223 node(s) with delegate (TfLiteXNNPackDelegate) node, yielding 6 partitions.\n",
      "INFO: Replacing 318 node(s) with delegate (TfLiteXNNPackDelegate) node, yielding 1 partitions.\n"
     ]
    },
    {
     "name": "stdout",
     "output_type": "stream",
     "text": [
      "v_BodyWeightSquats_g06_c03.avi: 3 from 3\n"
     ]
    },
    {
     "name": "stderr",
     "output_type": "stream",
     "text": [
      "INFO: Replacing 223 node(s) with delegate (TfLiteXNNPackDelegate) node, yielding 6 partitions.\n",
      "INFO: Replacing 318 node(s) with delegate (TfLiteXNNPackDelegate) node, yielding 1 partitions.\n"
     ]
    },
    {
     "name": "stdout",
     "output_type": "stream",
     "text": [
      "v_BodyWeightSquats_g06_c04.avi: 2 from 2\n"
     ]
    },
    {
     "name": "stderr",
     "output_type": "stream",
     "text": [
      "INFO: Replacing 223 node(s) with delegate (TfLiteXNNPackDelegate) node, yielding 6 partitions.\n",
      "INFO: Replacing 318 node(s) with delegate (TfLiteXNNPackDelegate) node, yielding 1 partitions.\n"
     ]
    },
    {
     "name": "stdout",
     "output_type": "stream",
     "text": [
      "v_BodyWeightSquats_g06_c05.avi: 4 from 4\n"
     ]
    },
    {
     "name": "stderr",
     "output_type": "stream",
     "text": [
      "INFO: Replacing 223 node(s) with delegate (TfLiteXNNPackDelegate) node, yielding 6 partitions.\n",
      "INFO: Replacing 318 node(s) with delegate (TfLiteXNNPackDelegate) node, yielding 1 partitions.\n"
     ]
    },
    {
     "name": "stdout",
     "output_type": "stream",
     "text": [
      "v_BodyWeightSquats_g07_c01.avi: 1 from 1\n"
     ]
    },
    {
     "name": "stderr",
     "output_type": "stream",
     "text": [
      "INFO: Replacing 223 node(s) with delegate (TfLiteXNNPackDelegate) node, yielding 6 partitions.\n",
      "INFO: Replacing 318 node(s) with delegate (TfLiteXNNPackDelegate) node, yielding 1 partitions.\n"
     ]
    },
    {
     "name": "stdout",
     "output_type": "stream",
     "text": [
      "v_BodyWeightSquats_g07_c02.avi: 3 from 2\n"
     ]
    },
    {
     "name": "stderr",
     "output_type": "stream",
     "text": [
      "INFO: Replacing 223 node(s) with delegate (TfLiteXNNPackDelegate) node, yielding 6 partitions.\n",
      "INFO: Replacing 318 node(s) with delegate (TfLiteXNNPackDelegate) node, yielding 1 partitions.\n"
     ]
    },
    {
     "name": "stdout",
     "output_type": "stream",
     "text": [
      "v_BodyWeightSquats_g07_c03.avi: 2 from 2\n"
     ]
    },
    {
     "name": "stderr",
     "output_type": "stream",
     "text": [
      "INFO: Replacing 223 node(s) with delegate (TfLiteXNNPackDelegate) node, yielding 6 partitions.\n",
      "INFO: Replacing 318 node(s) with delegate (TfLiteXNNPackDelegate) node, yielding 1 partitions.\n"
     ]
    },
    {
     "name": "stdout",
     "output_type": "stream",
     "text": [
      "v_BodyWeightSquats_g07_c04.avi: 1 from 1\n"
     ]
    },
    {
     "name": "stderr",
     "output_type": "stream",
     "text": [
      "INFO: Replacing 223 node(s) with delegate (TfLiteXNNPackDelegate) node, yielding 6 partitions.\n",
      "INFO: Replacing 318 node(s) with delegate (TfLiteXNNPackDelegate) node, yielding 1 partitions.\n"
     ]
    },
    {
     "name": "stdout",
     "output_type": "stream",
     "text": [
      "v_BodyWeightSquats_g08_c01.avi: 2 from 1\n"
     ]
    },
    {
     "name": "stderr",
     "output_type": "stream",
     "text": [
      "INFO: Replacing 223 node(s) with delegate (TfLiteXNNPackDelegate) node, yielding 6 partitions.\n",
      "INFO: Replacing 318 node(s) with delegate (TfLiteXNNPackDelegate) node, yielding 1 partitions.\n"
     ]
    },
    {
     "name": "stdout",
     "output_type": "stream",
     "text": [
      "v_BodyWeightSquats_g08_c02.avi: 2 from 2\n"
     ]
    },
    {
     "name": "stderr",
     "output_type": "stream",
     "text": [
      "INFO: Replacing 223 node(s) with delegate (TfLiteXNNPackDelegate) node, yielding 6 partitions.\n",
      "INFO: Replacing 318 node(s) with delegate (TfLiteXNNPackDelegate) node, yielding 1 partitions.\n"
     ]
    },
    {
     "name": "stdout",
     "output_type": "stream",
     "text": [
      "v_BodyWeightSquats_g08_c03.avi: 1 from 1\n"
     ]
    },
    {
     "name": "stderr",
     "output_type": "stream",
     "text": [
      "INFO: Replacing 223 node(s) with delegate (TfLiteXNNPackDelegate) node, yielding 6 partitions.\n",
      "INFO: Replacing 318 node(s) with delegate (TfLiteXNNPackDelegate) node, yielding 1 partitions.\n"
     ]
    },
    {
     "name": "stdout",
     "output_type": "stream",
     "text": [
      "v_BodyWeightSquats_g08_c04.avi: 2 from 2\n"
     ]
    },
    {
     "name": "stderr",
     "output_type": "stream",
     "text": [
      "INFO: Replacing 223 node(s) with delegate (TfLiteXNNPackDelegate) node, yielding 6 partitions.\n",
      "INFO: Replacing 318 node(s) with delegate (TfLiteXNNPackDelegate) node, yielding 1 partitions.\n"
     ]
    },
    {
     "name": "stdout",
     "output_type": "stream",
     "text": [
      "v_BodyWeightSquats_g09_c01.avi: 5 from 5\n"
     ]
    },
    {
     "name": "stderr",
     "output_type": "stream",
     "text": [
      "INFO: Replacing 223 node(s) with delegate (TfLiteXNNPackDelegate) node, yielding 6 partitions.\n",
      "INFO: Replacing 318 node(s) with delegate (TfLiteXNNPackDelegate) node, yielding 1 partitions.\n"
     ]
    },
    {
     "name": "stdout",
     "output_type": "stream",
     "text": [
      "v_BodyWeightSquats_g09_c02.avi: 5 from 5\n"
     ]
    },
    {
     "name": "stderr",
     "output_type": "stream",
     "text": [
      "INFO: Replacing 223 node(s) with delegate (TfLiteXNNPackDelegate) node, yielding 6 partitions.\n",
      "INFO: Replacing 318 node(s) with delegate (TfLiteXNNPackDelegate) node, yielding 1 partitions.\n"
     ]
    },
    {
     "name": "stdout",
     "output_type": "stream",
     "text": [
      "v_BodyWeightSquats_g09_c03.avi: 3 from 3\n"
     ]
    },
    {
     "name": "stderr",
     "output_type": "stream",
     "text": [
      "INFO: Replacing 223 node(s) with delegate (TfLiteXNNPackDelegate) node, yielding 6 partitions.\n",
      "INFO: Replacing 318 node(s) with delegate (TfLiteXNNPackDelegate) node, yielding 1 partitions.\n"
     ]
    },
    {
     "name": "stdout",
     "output_type": "stream",
     "text": [
      "v_BodyWeightSquats_g09_c04.avi: 3 from 3\n"
     ]
    },
    {
     "name": "stderr",
     "output_type": "stream",
     "text": [
      "INFO: Replacing 223 node(s) with delegate (TfLiteXNNPackDelegate) node, yielding 6 partitions.\n",
      "INFO: Replacing 318 node(s) with delegate (TfLiteXNNPackDelegate) node, yielding 1 partitions.\n"
     ]
    },
    {
     "name": "stdout",
     "output_type": "stream",
     "text": [
      "v_BodyWeightSquats_g09_c05.avi: 5 from 6\n"
     ]
    },
    {
     "name": "stderr",
     "output_type": "stream",
     "text": [
      "INFO: Replacing 223 node(s) with delegate (TfLiteXNNPackDelegate) node, yielding 6 partitions.\n",
      "INFO: Replacing 318 node(s) with delegate (TfLiteXNNPackDelegate) node, yielding 1 partitions.\n"
     ]
    },
    {
     "name": "stdout",
     "output_type": "stream",
     "text": [
      "v_BodyWeightSquats_g09_c06.avi: 6 from 6\n"
     ]
    },
    {
     "name": "stderr",
     "output_type": "stream",
     "text": [
      "INFO: Replacing 223 node(s) with delegate (TfLiteXNNPackDelegate) node, yielding 6 partitions.\n",
      "INFO: Replacing 318 node(s) with delegate (TfLiteXNNPackDelegate) node, yielding 1 partitions.\n"
     ]
    },
    {
     "name": "stdout",
     "output_type": "stream",
     "text": [
      "v_BodyWeightSquats_g09_c07.avi: 5 from 5\n"
     ]
    },
    {
     "name": "stderr",
     "output_type": "stream",
     "text": [
      "INFO: Replacing 223 node(s) with delegate (TfLiteXNNPackDelegate) node, yielding 6 partitions.\n",
      "INFO: Replacing 318 node(s) with delegate (TfLiteXNNPackDelegate) node, yielding 1 partitions.\n"
     ]
    },
    {
     "name": "stdout",
     "output_type": "stream",
     "text": [
      "v_BodyWeightSquats_g10_c01.avi: 5 from 5\n"
     ]
    },
    {
     "name": "stderr",
     "output_type": "stream",
     "text": [
      "INFO: Replacing 223 node(s) with delegate (TfLiteXNNPackDelegate) node, yielding 6 partitions.\n",
      "INFO: Replacing 318 node(s) with delegate (TfLiteXNNPackDelegate) node, yielding 1 partitions.\n"
     ]
    },
    {
     "name": "stdout",
     "output_type": "stream",
     "text": [
      "v_BodyWeightSquats_g10_c02.avi: 5 from 5\n"
     ]
    },
    {
     "name": "stderr",
     "output_type": "stream",
     "text": [
      "INFO: Replacing 223 node(s) with delegate (TfLiteXNNPackDelegate) node, yielding 6 partitions.\n",
      "INFO: Replacing 318 node(s) with delegate (TfLiteXNNPackDelegate) node, yielding 1 partitions.\n"
     ]
    },
    {
     "name": "stdout",
     "output_type": "stream",
     "text": [
      "v_BodyWeightSquats_g10_c03.avi: 5 from 5\n"
     ]
    },
    {
     "name": "stderr",
     "output_type": "stream",
     "text": [
      "INFO: Replacing 223 node(s) with delegate (TfLiteXNNPackDelegate) node, yielding 6 partitions.\n",
      "INFO: Replacing 318 node(s) with delegate (TfLiteXNNPackDelegate) node, yielding 1 partitions.\n"
     ]
    },
    {
     "name": "stdout",
     "output_type": "stream",
     "text": [
      "v_BodyWeightSquats_g10_c04.avi: 5 from 5\n"
     ]
    },
    {
     "name": "stderr",
     "output_type": "stream",
     "text": [
      "INFO: Replacing 223 node(s) with delegate (TfLiteXNNPackDelegate) node, yielding 6 partitions.\n",
      "INFO: Replacing 318 node(s) with delegate (TfLiteXNNPackDelegate) node, yielding 1 partitions.\n"
     ]
    },
    {
     "name": "stdout",
     "output_type": "stream",
     "text": [
      "v_BodyWeightSquats_g10_c05.avi: 5 from 5\n"
     ]
    },
    {
     "name": "stderr",
     "output_type": "stream",
     "text": [
      "INFO: Replacing 223 node(s) with delegate (TfLiteXNNPackDelegate) node, yielding 6 partitions.\n",
      "INFO: Replacing 318 node(s) with delegate (TfLiteXNNPackDelegate) node, yielding 1 partitions.\n"
     ]
    },
    {
     "name": "stdout",
     "output_type": "stream",
     "text": [
      "v_BodyWeightSquats_g11_c01.avi: 1 from 1\n"
     ]
    },
    {
     "name": "stderr",
     "output_type": "stream",
     "text": [
      "INFO: Replacing 223 node(s) with delegate (TfLiteXNNPackDelegate) node, yielding 6 partitions.\n",
      "INFO: Replacing 318 node(s) with delegate (TfLiteXNNPackDelegate) node, yielding 1 partitions.\n"
     ]
    },
    {
     "name": "stdout",
     "output_type": "stream",
     "text": [
      "v_BodyWeightSquats_g11_c02.avi: 1 from 1\n"
     ]
    },
    {
     "name": "stderr",
     "output_type": "stream",
     "text": [
      "INFO: Replacing 223 node(s) with delegate (TfLiteXNNPackDelegate) node, yielding 6 partitions.\n",
      "INFO: Replacing 318 node(s) with delegate (TfLiteXNNPackDelegate) node, yielding 1 partitions.\n"
     ]
    },
    {
     "name": "stdout",
     "output_type": "stream",
     "text": [
      "v_BodyWeightSquats_g11_c03.avi: 1 from 1\n"
     ]
    },
    {
     "name": "stderr",
     "output_type": "stream",
     "text": [
      "INFO: Replacing 223 node(s) with delegate (TfLiteXNNPackDelegate) node, yielding 6 partitions.\n",
      "INFO: Replacing 318 node(s) with delegate (TfLiteXNNPackDelegate) node, yielding 1 partitions.\n"
     ]
    },
    {
     "name": "stdout",
     "output_type": "stream",
     "text": [
      "v_BodyWeightSquats_g11_c04.avi: 1 from 1\n"
     ]
    },
    {
     "name": "stderr",
     "output_type": "stream",
     "text": [
      "INFO: Replacing 223 node(s) with delegate (TfLiteXNNPackDelegate) node, yielding 6 partitions.\n",
      "INFO: Replacing 318 node(s) with delegate (TfLiteXNNPackDelegate) node, yielding 1 partitions.\n"
     ]
    },
    {
     "name": "stdout",
     "output_type": "stream",
     "text": [
      "v_BodyWeightSquats_g12_c01.avi: 3 from 3\n"
     ]
    },
    {
     "name": "stderr",
     "output_type": "stream",
     "text": [
      "INFO: Replacing 223 node(s) with delegate (TfLiteXNNPackDelegate) node, yielding 6 partitions.\n",
      "INFO: Replacing 318 node(s) with delegate (TfLiteXNNPackDelegate) node, yielding 1 partitions.\n"
     ]
    },
    {
     "name": "stdout",
     "output_type": "stream",
     "text": [
      "v_BodyWeightSquats_g12_c02.avi: 2 from 2\n"
     ]
    },
    {
     "name": "stderr",
     "output_type": "stream",
     "text": [
      "INFO: Replacing 223 node(s) with delegate (TfLiteXNNPackDelegate) node, yielding 6 partitions.\n",
      "INFO: Replacing 318 node(s) with delegate (TfLiteXNNPackDelegate) node, yielding 1 partitions.\n"
     ]
    },
    {
     "name": "stdout",
     "output_type": "stream",
     "text": [
      "v_BodyWeightSquats_g12_c03.avi: 2 from 2\n"
     ]
    },
    {
     "name": "stderr",
     "output_type": "stream",
     "text": [
      "INFO: Replacing 223 node(s) with delegate (TfLiteXNNPackDelegate) node, yielding 6 partitions.\n",
      "INFO: Replacing 318 node(s) with delegate (TfLiteXNNPackDelegate) node, yielding 1 partitions.\n"
     ]
    },
    {
     "name": "stdout",
     "output_type": "stream",
     "text": [
      "v_BodyWeightSquats_g12_c04.avi: 3 from 3\n"
     ]
    },
    {
     "name": "stderr",
     "output_type": "stream",
     "text": [
      "INFO: Replacing 223 node(s) with delegate (TfLiteXNNPackDelegate) node, yielding 6 partitions.\n",
      "INFO: Replacing 318 node(s) with delegate (TfLiteXNNPackDelegate) node, yielding 1 partitions.\n"
     ]
    },
    {
     "name": "stdout",
     "output_type": "stream",
     "text": [
      "v_BodyWeightSquats_g13_c01.avi: 2 from 1\n"
     ]
    },
    {
     "name": "stderr",
     "output_type": "stream",
     "text": [
      "INFO: Replacing 223 node(s) with delegate (TfLiteXNNPackDelegate) node, yielding 6 partitions.\n",
      "INFO: Replacing 318 node(s) with delegate (TfLiteXNNPackDelegate) node, yielding 1 partitions.\n"
     ]
    },
    {
     "name": "stdout",
     "output_type": "stream",
     "text": [
      "v_BodyWeightSquats_g13_c02.avi: 1 from 1\n"
     ]
    },
    {
     "name": "stderr",
     "output_type": "stream",
     "text": [
      "INFO: Replacing 223 node(s) with delegate (TfLiteXNNPackDelegate) node, yielding 6 partitions.\n",
      "INFO: Replacing 318 node(s) with delegate (TfLiteXNNPackDelegate) node, yielding 1 partitions.\n"
     ]
    },
    {
     "name": "stdout",
     "output_type": "stream",
     "text": [
      "v_BodyWeightSquats_g13_c03.avi: 2 from 2\n"
     ]
    },
    {
     "name": "stderr",
     "output_type": "stream",
     "text": [
      "INFO: Replacing 223 node(s) with delegate (TfLiteXNNPackDelegate) node, yielding 6 partitions.\n",
      "INFO: Replacing 318 node(s) with delegate (TfLiteXNNPackDelegate) node, yielding 1 partitions.\n"
     ]
    },
    {
     "name": "stdout",
     "output_type": "stream",
     "text": [
      "v_BodyWeightSquats_g13_c04.avi: 1 from 1\n"
     ]
    },
    {
     "name": "stderr",
     "output_type": "stream",
     "text": [
      "INFO: Replacing 223 node(s) with delegate (TfLiteXNNPackDelegate) node, yielding 6 partitions.\n",
      "INFO: Replacing 318 node(s) with delegate (TfLiteXNNPackDelegate) node, yielding 1 partitions.\n"
     ]
    },
    {
     "name": "stdout",
     "output_type": "stream",
     "text": [
      "v_BodyWeightSquats_g14_c01.avi: 2 from 2\n"
     ]
    },
    {
     "name": "stderr",
     "output_type": "stream",
     "text": [
      "INFO: Replacing 223 node(s) with delegate (TfLiteXNNPackDelegate) node, yielding 6 partitions.\n",
      "INFO: Replacing 318 node(s) with delegate (TfLiteXNNPackDelegate) node, yielding 1 partitions.\n"
     ]
    },
    {
     "name": "stdout",
     "output_type": "stream",
     "text": [
      "v_BodyWeightSquats_g14_c02.avi: 2 from 2\n"
     ]
    },
    {
     "name": "stderr",
     "output_type": "stream",
     "text": [
      "INFO: Replacing 223 node(s) with delegate (TfLiteXNNPackDelegate) node, yielding 6 partitions.\n",
      "INFO: Replacing 318 node(s) with delegate (TfLiteXNNPackDelegate) node, yielding 1 partitions.\n"
     ]
    },
    {
     "name": "stdout",
     "output_type": "stream",
     "text": [
      "v_BodyWeightSquats_g14_c03.avi: 2 from 2\n"
     ]
    },
    {
     "name": "stderr",
     "output_type": "stream",
     "text": [
      "INFO: Replacing 223 node(s) with delegate (TfLiteXNNPackDelegate) node, yielding 6 partitions.\n",
      "INFO: Replacing 318 node(s) with delegate (TfLiteXNNPackDelegate) node, yielding 1 partitions.\n"
     ]
    },
    {
     "name": "stdout",
     "output_type": "stream",
     "text": [
      "v_BodyWeightSquats_g14_c04.avi: 2 from 2\n"
     ]
    },
    {
     "name": "stderr",
     "output_type": "stream",
     "text": [
      "INFO: Replacing 223 node(s) with delegate (TfLiteXNNPackDelegate) node, yielding 6 partitions.\n",
      "INFO: Replacing 318 node(s) with delegate (TfLiteXNNPackDelegate) node, yielding 1 partitions.\n"
     ]
    },
    {
     "name": "stdout",
     "output_type": "stream",
     "text": [
      "v_BodyWeightSquats_g15_c01.avi: 2 from 2\n"
     ]
    },
    {
     "name": "stderr",
     "output_type": "stream",
     "text": [
      "INFO: Replacing 223 node(s) with delegate (TfLiteXNNPackDelegate) node, yielding 6 partitions.\n",
      "INFO: Replacing 318 node(s) with delegate (TfLiteXNNPackDelegate) node, yielding 1 partitions.\n"
     ]
    },
    {
     "name": "stdout",
     "output_type": "stream",
     "text": [
      "[INFO] error in squat: 'NoneType' object has no attribute 'landmark'\n",
      "v_BodyWeightSquats_g15_c02.avi: 2 from 2\n"
     ]
    },
    {
     "name": "stderr",
     "output_type": "stream",
     "text": [
      "INFO: Replacing 223 node(s) with delegate (TfLiteXNNPackDelegate) node, yielding 6 partitions.\n",
      "INFO: Replacing 318 node(s) with delegate (TfLiteXNNPackDelegate) node, yielding 1 partitions.\n"
     ]
    },
    {
     "name": "stdout",
     "output_type": "stream",
     "text": [
      "v_BodyWeightSquats_g15_c03.avi: 2 from 2\n"
     ]
    },
    {
     "name": "stderr",
     "output_type": "stream",
     "text": [
      "INFO: Replacing 223 node(s) with delegate (TfLiteXNNPackDelegate) node, yielding 6 partitions.\n",
      "INFO: Replacing 318 node(s) with delegate (TfLiteXNNPackDelegate) node, yielding 1 partitions.\n"
     ]
    },
    {
     "name": "stdout",
     "output_type": "stream",
     "text": [
      "v_BodyWeightSquats_g15_c04.avi: 2 from 2\n"
     ]
    },
    {
     "name": "stderr",
     "output_type": "stream",
     "text": [
      "INFO: Replacing 223 node(s) with delegate (TfLiteXNNPackDelegate) node, yielding 6 partitions.\n",
      "INFO: Replacing 318 node(s) with delegate (TfLiteXNNPackDelegate) node, yielding 1 partitions.\n"
     ]
    },
    {
     "name": "stdout",
     "output_type": "stream",
     "text": [
      "v_BodyWeightSquats_g16_c01.avi: 1 from 1\n"
     ]
    },
    {
     "name": "stderr",
     "output_type": "stream",
     "text": [
      "INFO: Replacing 223 node(s) with delegate (TfLiteXNNPackDelegate) node, yielding 6 partitions.\n",
      "INFO: Replacing 318 node(s) with delegate (TfLiteXNNPackDelegate) node, yielding 1 partitions.\n"
     ]
    },
    {
     "name": "stdout",
     "output_type": "stream",
     "text": [
      "v_BodyWeightSquats_g16_c02.avi: 1 from 1\n"
     ]
    },
    {
     "name": "stderr",
     "output_type": "stream",
     "text": [
      "INFO: Replacing 223 node(s) with delegate (TfLiteXNNPackDelegate) node, yielding 6 partitions.\n",
      "INFO: Replacing 318 node(s) with delegate (TfLiteXNNPackDelegate) node, yielding 1 partitions.\n"
     ]
    },
    {
     "name": "stdout",
     "output_type": "stream",
     "text": [
      "v_BodyWeightSquats_g16_c03.avi: 1 from 1\n"
     ]
    },
    {
     "name": "stderr",
     "output_type": "stream",
     "text": [
      "INFO: Replacing 223 node(s) with delegate (TfLiteXNNPackDelegate) node, yielding 6 partitions.\n",
      "INFO: Replacing 318 node(s) with delegate (TfLiteXNNPackDelegate) node, yielding 1 partitions.\n"
     ]
    },
    {
     "name": "stdout",
     "output_type": "stream",
     "text": [
      "v_BodyWeightSquats_g16_c04.avi: 1 from 1\n"
     ]
    },
    {
     "name": "stderr",
     "output_type": "stream",
     "text": [
      "INFO: Replacing 223 node(s) with delegate (TfLiteXNNPackDelegate) node, yielding 6 partitions.\n",
      "INFO: Replacing 318 node(s) with delegate (TfLiteXNNPackDelegate) node, yielding 1 partitions.\n"
     ]
    },
    {
     "name": "stdout",
     "output_type": "stream",
     "text": [
      "v_BodyWeightSquats_g17_c01.avi: 4 from 4\n"
     ]
    },
    {
     "name": "stderr",
     "output_type": "stream",
     "text": [
      "INFO: Replacing 223 node(s) with delegate (TfLiteXNNPackDelegate) node, yielding 6 partitions.\n",
      "INFO: Replacing 318 node(s) with delegate (TfLiteXNNPackDelegate) node, yielding 1 partitions.\n"
     ]
    },
    {
     "name": "stdout",
     "output_type": "stream",
     "text": [
      "v_BodyWeightSquats_g17_c02.avi: 4 from 4\n"
     ]
    },
    {
     "name": "stderr",
     "output_type": "stream",
     "text": [
      "INFO: Replacing 223 node(s) with delegate (TfLiteXNNPackDelegate) node, yielding 6 partitions.\n",
      "INFO: Replacing 318 node(s) with delegate (TfLiteXNNPackDelegate) node, yielding 1 partitions.\n"
     ]
    },
    {
     "name": "stdout",
     "output_type": "stream",
     "text": [
      "v_BodyWeightSquats_g17_c03.avi: 4 from 4\n"
     ]
    },
    {
     "name": "stderr",
     "output_type": "stream",
     "text": [
      "INFO: Replacing 223 node(s) with delegate (TfLiteXNNPackDelegate) node, yielding 6 partitions.\n",
      "INFO: Replacing 318 node(s) with delegate (TfLiteXNNPackDelegate) node, yielding 1 partitions.\n"
     ]
    },
    {
     "name": "stdout",
     "output_type": "stream",
     "text": [
      "v_BodyWeightSquats_g17_c04.avi: 3 from 3\n"
     ]
    },
    {
     "name": "stderr",
     "output_type": "stream",
     "text": [
      "INFO: Replacing 223 node(s) with delegate (TfLiteXNNPackDelegate) node, yielding 6 partitions.\n",
      "INFO: Replacing 318 node(s) with delegate (TfLiteXNNPackDelegate) node, yielding 1 partitions.\n"
     ]
    },
    {
     "name": "stdout",
     "output_type": "stream",
     "text": [
      "v_BodyWeightSquats_g18_c01.avi: 5 from 6\n"
     ]
    },
    {
     "name": "stderr",
     "output_type": "stream",
     "text": [
      "INFO: Replacing 223 node(s) with delegate (TfLiteXNNPackDelegate) node, yielding 6 partitions.\n",
      "INFO: Replacing 318 node(s) with delegate (TfLiteXNNPackDelegate) node, yielding 1 partitions.\n"
     ]
    },
    {
     "name": "stdout",
     "output_type": "stream",
     "text": [
      "v_BodyWeightSquats_g18_c02.avi: 6 from 6\n"
     ]
    },
    {
     "name": "stderr",
     "output_type": "stream",
     "text": [
      "INFO: Replacing 223 node(s) with delegate (TfLiteXNNPackDelegate) node, yielding 6 partitions.\n",
      "INFO: Replacing 318 node(s) with delegate (TfLiteXNNPackDelegate) node, yielding 1 partitions.\n"
     ]
    },
    {
     "name": "stdout",
     "output_type": "stream",
     "text": [
      "v_BodyWeightSquats_g18_c03.avi: 6 from 6\n"
     ]
    },
    {
     "name": "stderr",
     "output_type": "stream",
     "text": [
      "INFO: Replacing 223 node(s) with delegate (TfLiteXNNPackDelegate) node, yielding 6 partitions.\n",
      "INFO: Replacing 318 node(s) with delegate (TfLiteXNNPackDelegate) node, yielding 1 partitions.\n"
     ]
    },
    {
     "name": "stdout",
     "output_type": "stream",
     "text": [
      "v_BodyWeightSquats_g18_c04.avi: 6 from 6\n"
     ]
    },
    {
     "name": "stderr",
     "output_type": "stream",
     "text": [
      "INFO: Replacing 223 node(s) with delegate (TfLiteXNNPackDelegate) node, yielding 6 partitions.\n",
      "INFO: Replacing 318 node(s) with delegate (TfLiteXNNPackDelegate) node, yielding 1 partitions.\n"
     ]
    },
    {
     "name": "stdout",
     "output_type": "stream",
     "text": [
      "v_BodyWeightSquats_g19_c01.avi: 4 from 4\n"
     ]
    },
    {
     "name": "stderr",
     "output_type": "stream",
     "text": [
      "INFO: Replacing 223 node(s) with delegate (TfLiteXNNPackDelegate) node, yielding 6 partitions.\n",
      "INFO: Replacing 318 node(s) with delegate (TfLiteXNNPackDelegate) node, yielding 1 partitions.\n"
     ]
    },
    {
     "name": "stdout",
     "output_type": "stream",
     "text": [
      "v_BodyWeightSquats_g19_c02.avi: 3 from 3\n"
     ]
    },
    {
     "name": "stderr",
     "output_type": "stream",
     "text": [
      "INFO: Replacing 223 node(s) with delegate (TfLiteXNNPackDelegate) node, yielding 6 partitions.\n",
      "INFO: Replacing 318 node(s) with delegate (TfLiteXNNPackDelegate) node, yielding 1 partitions.\n"
     ]
    },
    {
     "name": "stdout",
     "output_type": "stream",
     "text": [
      "[INFO] error in squat: 'NoneType' object has no attribute 'landmark'\n",
      "[INFO] error in squat: 'NoneType' object has no attribute 'landmark'\n",
      "v_BodyWeightSquats_g19_c03.avi: 4 from 4\n"
     ]
    },
    {
     "name": "stderr",
     "output_type": "stream",
     "text": [
      "INFO: Replacing 223 node(s) with delegate (TfLiteXNNPackDelegate) node, yielding 6 partitions.\n",
      "INFO: Replacing 318 node(s) with delegate (TfLiteXNNPackDelegate) node, yielding 1 partitions.\n"
     ]
    },
    {
     "name": "stdout",
     "output_type": "stream",
     "text": [
      "v_BodyWeightSquats_g19_c04.avi: 3 from 3\n"
     ]
    },
    {
     "name": "stderr",
     "output_type": "stream",
     "text": [
      "INFO: Replacing 223 node(s) with delegate (TfLiteXNNPackDelegate) node, yielding 6 partitions.\n",
      "INFO: Replacing 318 node(s) with delegate (TfLiteXNNPackDelegate) node, yielding 1 partitions.\n"
     ]
    },
    {
     "name": "stdout",
     "output_type": "stream",
     "text": [
      "v_BodyWeightSquats_g20_c01.avi: 2 from 3\n"
     ]
    },
    {
     "name": "stderr",
     "output_type": "stream",
     "text": [
      "INFO: Replacing 223 node(s) with delegate (TfLiteXNNPackDelegate) node, yielding 6 partitions.\n",
      "INFO: Replacing 318 node(s) with delegate (TfLiteXNNPackDelegate) node, yielding 1 partitions.\n"
     ]
    },
    {
     "name": "stdout",
     "output_type": "stream",
     "text": [
      "v_BodyWeightSquats_g20_c02.avi: 4 from 4\n"
     ]
    },
    {
     "name": "stderr",
     "output_type": "stream",
     "text": [
      "INFO: Replacing 223 node(s) with delegate (TfLiteXNNPackDelegate) node, yielding 6 partitions.\n",
      "INFO: Replacing 318 node(s) with delegate (TfLiteXNNPackDelegate) node, yielding 1 partitions.\n"
     ]
    },
    {
     "name": "stdout",
     "output_type": "stream",
     "text": [
      "v_BodyWeightSquats_g20_c03.avi: 2 from 3\n"
     ]
    },
    {
     "name": "stderr",
     "output_type": "stream",
     "text": [
      "INFO: Replacing 223 node(s) with delegate (TfLiteXNNPackDelegate) node, yielding 6 partitions.\n",
      "INFO: Replacing 318 node(s) with delegate (TfLiteXNNPackDelegate) node, yielding 1 partitions.\n"
     ]
    },
    {
     "name": "stdout",
     "output_type": "stream",
     "text": [
      "v_BodyWeightSquats_g20_c04.avi: 4 from 4\n"
     ]
    },
    {
     "name": "stderr",
     "output_type": "stream",
     "text": [
      "INFO: Replacing 223 node(s) with delegate (TfLiteXNNPackDelegate) node, yielding 6 partitions.\n",
      "INFO: Replacing 318 node(s) with delegate (TfLiteXNNPackDelegate) node, yielding 1 partitions.\n"
     ]
    },
    {
     "name": "stdout",
     "output_type": "stream",
     "text": [
      "v_BodyWeightSquats_g20_c05.avi: 3 from 3\n"
     ]
    },
    {
     "name": "stderr",
     "output_type": "stream",
     "text": [
      "INFO: Replacing 223 node(s) with delegate (TfLiteXNNPackDelegate) node, yielding 6 partitions.\n",
      "INFO: Replacing 318 node(s) with delegate (TfLiteXNNPackDelegate) node, yielding 1 partitions.\n"
     ]
    },
    {
     "name": "stdout",
     "output_type": "stream",
     "text": [
      "v_BodyWeightSquats_g20_c06.avi: 4 from 4\n"
     ]
    },
    {
     "name": "stderr",
     "output_type": "stream",
     "text": [
      "INFO: Replacing 223 node(s) with delegate (TfLiteXNNPackDelegate) node, yielding 6 partitions.\n",
      "INFO: Replacing 318 node(s) with delegate (TfLiteXNNPackDelegate) node, yielding 1 partitions.\n"
     ]
    },
    {
     "name": "stdout",
     "output_type": "stream",
     "text": [
      "v_BodyWeightSquats_g21_c01.avi: 1 from 1\n"
     ]
    },
    {
     "name": "stderr",
     "output_type": "stream",
     "text": [
      "INFO: Replacing 223 node(s) with delegate (TfLiteXNNPackDelegate) node, yielding 6 partitions.\n",
      "INFO: Replacing 318 node(s) with delegate (TfLiteXNNPackDelegate) node, yielding 1 partitions.\n"
     ]
    },
    {
     "name": "stdout",
     "output_type": "stream",
     "text": [
      "v_BodyWeightSquats_g21_c02.avi: 1 from 1\n"
     ]
    },
    {
     "name": "stderr",
     "output_type": "stream",
     "text": [
      "INFO: Replacing 223 node(s) with delegate (TfLiteXNNPackDelegate) node, yielding 6 partitions.\n",
      "INFO: Replacing 318 node(s) with delegate (TfLiteXNNPackDelegate) node, yielding 1 partitions.\n"
     ]
    },
    {
     "name": "stdout",
     "output_type": "stream",
     "text": [
      "v_BodyWeightSquats_g21_c03.avi: 1 from 1\n"
     ]
    },
    {
     "name": "stderr",
     "output_type": "stream",
     "text": [
      "INFO: Replacing 223 node(s) with delegate (TfLiteXNNPackDelegate) node, yielding 6 partitions.\n",
      "INFO: Replacing 318 node(s) with delegate (TfLiteXNNPackDelegate) node, yielding 1 partitions.\n"
     ]
    },
    {
     "name": "stdout",
     "output_type": "stream",
     "text": [
      "v_BodyWeightSquats_g21_c04.avi: 2 from 2\n"
     ]
    },
    {
     "name": "stderr",
     "output_type": "stream",
     "text": [
      "INFO: Replacing 223 node(s) with delegate (TfLiteXNNPackDelegate) node, yielding 6 partitions.\n",
      "INFO: Replacing 318 node(s) with delegate (TfLiteXNNPackDelegate) node, yielding 1 partitions.\n"
     ]
    },
    {
     "name": "stdout",
     "output_type": "stream",
     "text": [
      "v_BodyWeightSquats_g22_c01.avi: 2 from 1\n"
     ]
    },
    {
     "name": "stderr",
     "output_type": "stream",
     "text": [
      "INFO: Replacing 223 node(s) with delegate (TfLiteXNNPackDelegate) node, yielding 6 partitions.\n",
      "INFO: Replacing 318 node(s) with delegate (TfLiteXNNPackDelegate) node, yielding 1 partitions.\n"
     ]
    },
    {
     "name": "stdout",
     "output_type": "stream",
     "text": [
      "v_BodyWeightSquats_g22_c02.avi: 1 from 1\n"
     ]
    },
    {
     "name": "stderr",
     "output_type": "stream",
     "text": [
      "INFO: Replacing 223 node(s) with delegate (TfLiteXNNPackDelegate) node, yielding 6 partitions.\n",
      "INFO: Replacing 318 node(s) with delegate (TfLiteXNNPackDelegate) node, yielding 1 partitions.\n"
     ]
    },
    {
     "name": "stdout",
     "output_type": "stream",
     "text": [
      "v_BodyWeightSquats_g22_c03.avi: 2 from 2\n"
     ]
    },
    {
     "name": "stderr",
     "output_type": "stream",
     "text": [
      "INFO: Replacing 223 node(s) with delegate (TfLiteXNNPackDelegate) node, yielding 6 partitions.\n",
      "INFO: Replacing 318 node(s) with delegate (TfLiteXNNPackDelegate) node, yielding 1 partitions.\n"
     ]
    },
    {
     "name": "stdout",
     "output_type": "stream",
     "text": [
      "v_BodyWeightSquats_g22_c04.avi: 1 from 1\n"
     ]
    },
    {
     "name": "stderr",
     "output_type": "stream",
     "text": [
      "INFO: Replacing 223 node(s) with delegate (TfLiteXNNPackDelegate) node, yielding 6 partitions.\n",
      "INFO: Replacing 318 node(s) with delegate (TfLiteXNNPackDelegate) node, yielding 1 partitions.\n"
     ]
    },
    {
     "name": "stdout",
     "output_type": "stream",
     "text": [
      "v_BodyWeightSquats_g23_c01.avi: 0 from 1\n"
     ]
    },
    {
     "name": "stderr",
     "output_type": "stream",
     "text": [
      "INFO: Replacing 223 node(s) with delegate (TfLiteXNNPackDelegate) node, yielding 6 partitions.\n",
      "INFO: Replacing 318 node(s) with delegate (TfLiteXNNPackDelegate) node, yielding 1 partitions.\n"
     ]
    },
    {
     "name": "stdout",
     "output_type": "stream",
     "text": [
      "v_BodyWeightSquats_g23_c02.avi: 2 from 2\n"
     ]
    },
    {
     "name": "stderr",
     "output_type": "stream",
     "text": [
      "INFO: Replacing 223 node(s) with delegate (TfLiteXNNPackDelegate) node, yielding 6 partitions.\n",
      "INFO: Replacing 318 node(s) with delegate (TfLiteXNNPackDelegate) node, yielding 1 partitions.\n"
     ]
    },
    {
     "name": "stdout",
     "output_type": "stream",
     "text": [
      "v_BodyWeightSquats_g23_c03.avi: 2 from 2\n"
     ]
    },
    {
     "name": "stderr",
     "output_type": "stream",
     "text": [
      "INFO: Replacing 223 node(s) with delegate (TfLiteXNNPackDelegate) node, yielding 6 partitions.\n",
      "INFO: Replacing 318 node(s) with delegate (TfLiteXNNPackDelegate) node, yielding 1 partitions.\n"
     ]
    },
    {
     "name": "stdout",
     "output_type": "stream",
     "text": [
      "v_BodyWeightSquats_g23_c04.avi: 2 from 2\n"
     ]
    },
    {
     "name": "stderr",
     "output_type": "stream",
     "text": [
      "INFO: Replacing 223 node(s) with delegate (TfLiteXNNPackDelegate) node, yielding 6 partitions.\n",
      "INFO: Replacing 318 node(s) with delegate (TfLiteXNNPackDelegate) node, yielding 1 partitions.\n"
     ]
    },
    {
     "name": "stdout",
     "output_type": "stream",
     "text": [
      "v_BodyWeightSquats_g24_c01.avi: 6 from 6\n"
     ]
    },
    {
     "name": "stderr",
     "output_type": "stream",
     "text": [
      "INFO: Replacing 223 node(s) with delegate (TfLiteXNNPackDelegate) node, yielding 6 partitions.\n",
      "INFO: Replacing 318 node(s) with delegate (TfLiteXNNPackDelegate) node, yielding 1 partitions.\n"
     ]
    },
    {
     "name": "stdout",
     "output_type": "stream",
     "text": [
      "v_BodyWeightSquats_g24_c02.avi: 6 from 6\n"
     ]
    },
    {
     "name": "stderr",
     "output_type": "stream",
     "text": [
      "INFO: Replacing 223 node(s) with delegate (TfLiteXNNPackDelegate) node, yielding 6 partitions.\n",
      "INFO: Replacing 318 node(s) with delegate (TfLiteXNNPackDelegate) node, yielding 1 partitions.\n"
     ]
    },
    {
     "name": "stdout",
     "output_type": "stream",
     "text": [
      "v_BodyWeightSquats_g24_c03.avi: 7 from 7\n"
     ]
    },
    {
     "name": "stderr",
     "output_type": "stream",
     "text": [
      "INFO: Replacing 223 node(s) with delegate (TfLiteXNNPackDelegate) node, yielding 6 partitions.\n",
      "INFO: Replacing 318 node(s) with delegate (TfLiteXNNPackDelegate) node, yielding 1 partitions.\n"
     ]
    },
    {
     "name": "stdout",
     "output_type": "stream",
     "text": [
      "v_BodyWeightSquats_g24_c04.avi: 7 from 7\n"
     ]
    },
    {
     "name": "stderr",
     "output_type": "stream",
     "text": [
      "INFO: Replacing 223 node(s) with delegate (TfLiteXNNPackDelegate) node, yielding 6 partitions.\n",
      "INFO: Replacing 318 node(s) with delegate (TfLiteXNNPackDelegate) node, yielding 1 partitions.\n"
     ]
    },
    {
     "name": "stdout",
     "output_type": "stream",
     "text": [
      "v_BodyWeightSquats_g24_c05.avi: 2 from 2\n"
     ]
    },
    {
     "name": "stderr",
     "output_type": "stream",
     "text": [
      "INFO: Replacing 223 node(s) with delegate (TfLiteXNNPackDelegate) node, yielding 6 partitions.\n",
      "INFO: Replacing 318 node(s) with delegate (TfLiteXNNPackDelegate) node, yielding 1 partitions.\n"
     ]
    },
    {
     "name": "stdout",
     "output_type": "stream",
     "text": [
      "v_BodyWeightSquats_g25_c01.avi: 2 from 1\n"
     ]
    },
    {
     "name": "stderr",
     "output_type": "stream",
     "text": [
      "INFO: Replacing 223 node(s) with delegate (TfLiteXNNPackDelegate) node, yielding 6 partitions.\n",
      "INFO: Replacing 318 node(s) with delegate (TfLiteXNNPackDelegate) node, yielding 1 partitions.\n"
     ]
    },
    {
     "name": "stdout",
     "output_type": "stream",
     "text": [
      "v_BodyWeightSquats_g25_c02.avi: 2 from 1\n"
     ]
    },
    {
     "name": "stderr",
     "output_type": "stream",
     "text": [
      "INFO: Replacing 223 node(s) with delegate (TfLiteXNNPackDelegate) node, yielding 6 partitions.\n",
      "INFO: Replacing 318 node(s) with delegate (TfLiteXNNPackDelegate) node, yielding 1 partitions.\n"
     ]
    },
    {
     "name": "stdout",
     "output_type": "stream",
     "text": [
      "v_BodyWeightSquats_g25_c03.avi: 1 from 1\n"
     ]
    },
    {
     "name": "stderr",
     "output_type": "stream",
     "text": [
      "INFO: Replacing 223 node(s) with delegate (TfLiteXNNPackDelegate) node, yielding 6 partitions.\n",
      "INFO: Replacing 318 node(s) with delegate (TfLiteXNNPackDelegate) node, yielding 1 partitions.\n"
     ]
    },
    {
     "name": "stdout",
     "output_type": "stream",
     "text": [
      "v_BodyWeightSquats_g25_c04.avi: 1 from 1\n"
     ]
    },
    {
     "name": "stderr",
     "output_type": "stream",
     "text": [
      "INFO: Replacing 223 node(s) with delegate (TfLiteXNNPackDelegate) node, yielding 6 partitions.\n",
      "INFO: Replacing 318 node(s) with delegate (TfLiteXNNPackDelegate) node, yielding 1 partitions.\n"
     ]
    },
    {
     "name": "stdout",
     "output_type": "stream",
     "text": [
      "v_BodyWeightSquats_g25_c05.avi: 1 from 1\n"
     ]
    },
    {
     "name": "stderr",
     "output_type": "stream",
     "text": [
      "INFO: Replacing 223 node(s) with delegate (TfLiteXNNPackDelegate) node, yielding 6 partitions.\n",
      "INFO: Replacing 318 node(s) with delegate (TfLiteXNNPackDelegate) node, yielding 1 partitions.\n"
     ]
    },
    {
     "name": "stdout",
     "output_type": "stream",
     "text": [
      "v_BodyWeightSquats_g25_c06.avi: 1 from 1\n"
     ]
    },
    {
     "name": "stderr",
     "output_type": "stream",
     "text": [
      "INFO: Replacing 223 node(s) with delegate (TfLiteXNNPackDelegate) node, yielding 6 partitions.\n",
      "INFO: Replacing 318 node(s) with delegate (TfLiteXNNPackDelegate) node, yielding 1 partitions.\n"
     ]
    },
    {
     "name": "stdout",
     "output_type": "stream",
     "text": [
      "v_BodyWeightSquats_g25_c07.avi: 1 from 1\n"
     ]
    }
   ],
   "source": [
    "cur_ex = None\n",
    "prev_ex = None\n",
    "all_obos = []\n",
    "all_reps = []\n",
    "for idx, row in df.iterrows():\n",
    "    # 0 -> file_name, 1 -> rep, so on...\n",
    "    file_name = row['file_name']\n",
    "    rep_gt = row['rep']\n",
    "    exercise = row['exercise']\n",
    "    cur_ex = exercise\n",
    "    rep_count = 0\n",
    "    r = ROUND_MAPPING[exercise]\n",
    "    if BENCHMARK:\n",
    "        r = 'BM'\n",
    "    # if exercise changes, reload model and le to corresponded exercise\n",
    "    if cur_ex != prev_ex:\n",
    "        if BEST:\n",
    "            model_path = f'/data1-6tb/jom/EzFit_models/final_models/h5/{exercise}_{MODEL_TYPE}.h5'\n",
    "            le_path = f'/data1-6tb/jom/EzFit_models/final_models/le/{exercise}_{MODEL_TYPE}_le.pickle'\n",
    "        else:\n",
    "            model_path = f'/data1-6tb/jom/EzFit_models/saved_models/len_{SEQ_LEN}/round_{r}/{exercise}/{exercise}_{MODEL_TYPE}.h5'\n",
    "            if MODEL_TYPE == 'kps_single':\n",
    "                le_path = f'/data1-6tb/jom/EzFit_models/saved_pickles/len_{SEQ_LEN}/round_{r}/{exercise}/{exercise}_{MODEL_TYPE}_lb.pickle'\n",
    "            else:\n",
    "                le_path = f'/data1-6tb/jom/EzFit_models/saved_pickles/len_{SEQ_LEN}/round_{r}/{exercise}/{exercise}_{MODEL_TYPE}_le.pickle'\n",
    "        # load model and le\n",
    "        loaded_model = load_model(model_path, custom_objects=custom_objects)\n",
    "        with open(le_path, 'rb') as file:\n",
    "            loaded_le = pickle.load(file)\n",
    "    \n",
    "    # start loading video and count\n",
    "    if 'kps' in MODEL_TYPE: # kps-based models\n",
    "        kps_seq = deque(maxlen=SEQ_LEN)\n",
    "        current_stage = None\n",
    "        previous_stage = None\n",
    "        if POST == 'hard_vote':\n",
    "            preds_window = deque(maxlen=WINDOW_SIZE)\n",
    "        cap = cv2.VideoCapture(os.path.join(VID_DIR, exercise, file_name))\n",
    "        with mp_pose.Pose(min_detection_confidence = 0.5, min_tracking_confidence = 0.5) as pose:\n",
    "            while cap.isOpened():\n",
    "                success, frame = cap.read()\n",
    "                if not success:\n",
    "                    break\n",
    "\n",
    "                image = cv2.cvtColor(frame, cv2.COLOR_BGR2RGB)\n",
    "                results = pose.process(image)\n",
    "\n",
    "                # append face&body coordinates for each frame to the csv file to create dataset to train the model\n",
    "                try:\n",
    "                    # extract pose\n",
    "                    pose_coor = results.pose_landmarks.landmark\n",
    "                    pose_row = np.array([[landmark.x, landmark.y, landmark.visibility] for landmark in pose_coor]).flatten()\n",
    "                    # append new coor to the sequence array\n",
    "                    \n",
    "                    if MODEL_TYPE == 'kps_single':\n",
    "                        y_hat = loaded_model.predict(tf.expand_dims(pose_row, axis=0))[0]\n",
    "                        y_idx = np.argmax(y_hat)\n",
    "                        if POST == 'hard_vote':\n",
    "                            # do hard voting\n",
    "                            preds_window.append(y_idx)\n",
    "                            pred_count = Counter(preds_window)\n",
    "                            # most_common return .items() format\n",
    "                            # ex. [(0,5), (1,3)]\n",
    "                            voted_pred = pred_count.most_common(1)[0][0]\n",
    "                            class_name = loaded_le.classes_[voted_pred]\n",
    "                        else:\n",
    "                            class_name = loaded_le.classes_[y_idx]\n",
    "                        \n",
    "                    else: # kps_stacked and kps_seq\n",
    "                        kps_seq.append(pose_row)\n",
    "                        if len(kps_seq) == SEQ_LEN:\n",
    "                            if MODEL_TYPE == 'kps_stacked':\n",
    "                                seq_arr = np.array(kps_seq).flatten()\n",
    "                            elif MODEL_TYPE == 'kps_seq':\n",
    "                                seq_arr = np.array(kps_seq)\n",
    "                            y_hat = loaded_model.predict(tf.expand_dims(seq_arr, axis=0))[0]\n",
    "                            y_idx = np.argmax(y_hat)\n",
    "\n",
    "                            if POST == 'hard_vote':\n",
    "                                # do hard voting\n",
    "                                preds_window.append(y_idx)\n",
    "                                pred_count = Counter(preds_window)\n",
    "                                # most_common return .items() format\n",
    "                                # ex. [(0,5), (1,3)]\n",
    "                                voted_pred = pred_count.most_common(1)[0][0]\n",
    "                                class_name = loaded_le.classes_[voted_pred]\n",
    "                            else:\n",
    "                                class_name = loaded_le.classes_[y_idx]\n",
    "                        else:\n",
    "                            class_name = \"None\"\n",
    "\n",
    "                    # count the rep logic\n",
    "                    current_stage = class_name\n",
    "\n",
    "                    if current_stage == COUNTING_ORDER[exercise]['cur_class'] and previous_stage == COUNTING_ORDER[exercise]['prev_class']:\n",
    "                        rep_count += 1\n",
    "\n",
    "                    previous_stage = current_stage  \n",
    "                except Exception as e:\n",
    "                    print(f'[INFO] error in {exercise}:', e)\n",
    "            # after 1 vid end\n",
    "            cap.release()\n",
    "            \n",
    "    else: # video_sequence, ViViT, image_single, Swin\n",
    "        vid_seq = deque(maxlen=SEQ_LEN)\n",
    "        current_stage = None\n",
    "        previous_stage = None\n",
    "        if POST == 'hard_vote':\n",
    "            preds_window = deque(maxlen=WINDOW_SIZE)\n",
    "        cap = cv2.VideoCapture(os.path.join(VID_DIR, exercise, file_name))\n",
    "        while cap.isOpened():\n",
    "            success, frame = cap.read()\n",
    "            if not success:\n",
    "                break\n",
    "\n",
    "            image_input = cv2.resize(frame, (120, 120))\n",
    "\n",
    "            if MODEL_TYPE in ['image_single', 'Swin']:\n",
    "                y_hat = loaded_model.predict(tf.expand_dims(image_input, axis=0))[0]\n",
    "                y_idx = np.argmax(y_hat)\n",
    "\n",
    "                if POST == 'hard_vote':\n",
    "                    # do hard voting\n",
    "                    preds_window.append(y_idx)\n",
    "                    pred_count = Counter(preds_window)\n",
    "                    # most_common return .items() format\n",
    "                    # ex. [(0,5), (1,3)]\n",
    "                    voted_pred = pred_count.most_common(1)[0][0]\n",
    "                    class_name = loaded_le.classes_[voted_pred]\n",
    "                else:\n",
    "                    class_name = loaded_le.classes_[y_idx]\n",
    "                    \n",
    "            else: # video_seqeunce, ViViT\n",
    "                vid_seq.append(image_input)\n",
    "\n",
    "                if len(vid_seq) == SEQ_LEN:\n",
    "                    input_seq = np.array(vid_seq) / 255.0\n",
    "                    y_hat = loaded_model.predict(tf.expand_dims(input_seq, axis=0))[0]\n",
    "                    y_idx = np.argmax(y_hat)\n",
    "\n",
    "                    if POST == 'hard_vote':\n",
    "                        # do hard voting\n",
    "                        preds_window.append(y_idx)\n",
    "                        pred_count = Counter(preds_window)\n",
    "                        # most_common return .items() format\n",
    "                        # ex. [(0,5), (1,3)]\n",
    "                        voted_pred = pred_count.most_common(1)[0][0]\n",
    "                        class_name = loaded_le.classes_[voted_pred]\n",
    "                    else:\n",
    "                        class_name = loaded_le.classes_[y_idx]\n",
    "                else:\n",
    "                    class_name = \"None\"\n",
    "\n",
    "            # count the rep logic\n",
    "            current_stage = class_name\n",
    "\n",
    "            if current_stage == COUNTING_ORDER[exercise]['cur_class'] and previous_stage == COUNTING_ORDER[exercise]['prev_class']:\n",
    "                rep_count += 1\n",
    "\n",
    "            previous_stage = current_stage\n",
    "    \n",
    "    print(f'{file_name}: {rep_count} from {rep_gt}')\n",
    "    obo_score = OBO(rep_count, rep_gt)\n",
    "    all_reps.append(rep_count)\n",
    "    all_obos.append(obo_score)\n",
    "    prev_ex = cur_ex\n",
    "    \n",
    "df['pred'] = all_reps\n",
    "df['obo'] = all_obos\n",
    "ds_name = DS_BASE_DIR.split(os.path.sep)[-1]\n",
    "if BENCHMARK:\n",
    "    df.to_csv(os.path.join(OUT_DIR, f'{MODEL_TYPE}_{POST}_{ds_name}_BM.csv'), index=False)\n",
    "else:\n",
    "    df.to_csv(os.path.join(OUT_DIR, f'{MODEL_TYPE}_{POST}_{ds_name}.csv'), index=False)"
   ]
  },
  {
   "cell_type": "code",
   "execution_count": 17,
   "id": "4e22ed56-8d7c-4a5c-975c-363a89fcba46",
   "metadata": {},
   "outputs": [
    {
     "data": {
      "text/html": [
       "<div>\n",
       "<style scoped>\n",
       "    .dataframe tbody tr th:only-of-type {\n",
       "        vertical-align: middle;\n",
       "    }\n",
       "\n",
       "    .dataframe tbody tr th {\n",
       "        vertical-align: top;\n",
       "    }\n",
       "\n",
       "    .dataframe thead th {\n",
       "        text-align: right;\n",
       "    }\n",
       "</style>\n",
       "<table border=\"1\" class=\"dataframe\">\n",
       "  <thead>\n",
       "    <tr style=\"text-align: right;\">\n",
       "      <th></th>\n",
       "      <th>file_name</th>\n",
       "      <th>rep</th>\n",
       "      <th>3-classes-view</th>\n",
       "      <th>5-classes-view</th>\n",
       "      <th>sure</th>\n",
       "      <th>position</th>\n",
       "      <th>distance</th>\n",
       "      <th>gender</th>\n",
       "      <th>indoor/outdoor</th>\n",
       "      <th>special_case</th>\n",
       "      <th>exercise</th>\n",
       "      <th>pred</th>\n",
       "      <th>obo</th>\n",
       "    </tr>\n",
       "  </thead>\n",
       "  <tbody>\n",
       "    <tr>\n",
       "      <th>0</th>\n",
       "      <td>v_JumpingJack_g01_c01.avi</td>\n",
       "      <td>3</td>\n",
       "      <td>front</td>\n",
       "      <td>front</td>\n",
       "      <td>yes</td>\n",
       "      <td>center</td>\n",
       "      <td>fit</td>\n",
       "      <td>female</td>\n",
       "      <td>indoor</td>\n",
       "      <td>NaN</td>\n",
       "      <td>jumping-jack</td>\n",
       "      <td>3</td>\n",
       "      <td>1</td>\n",
       "    </tr>\n",
       "    <tr>\n",
       "      <th>1</th>\n",
       "      <td>v_JumpingJack_g01_c02.avi</td>\n",
       "      <td>3</td>\n",
       "      <td>front</td>\n",
       "      <td>front</td>\n",
       "      <td>yes</td>\n",
       "      <td>center</td>\n",
       "      <td>fit</td>\n",
       "      <td>female</td>\n",
       "      <td>indoor</td>\n",
       "      <td>NaN</td>\n",
       "      <td>jumping-jack</td>\n",
       "      <td>3</td>\n",
       "      <td>1</td>\n",
       "    </tr>\n",
       "    <tr>\n",
       "      <th>2</th>\n",
       "      <td>v_JumpingJack_g01_c03.avi</td>\n",
       "      <td>3</td>\n",
       "      <td>front</td>\n",
       "      <td>front</td>\n",
       "      <td>yes</td>\n",
       "      <td>center</td>\n",
       "      <td>fit</td>\n",
       "      <td>female</td>\n",
       "      <td>indoor</td>\n",
       "      <td>NaN</td>\n",
       "      <td>jumping-jack</td>\n",
       "      <td>3</td>\n",
       "      <td>1</td>\n",
       "    </tr>\n",
       "    <tr>\n",
       "      <th>3</th>\n",
       "      <td>v_JumpingJack_g01_c04.avi</td>\n",
       "      <td>3</td>\n",
       "      <td>front</td>\n",
       "      <td>front</td>\n",
       "      <td>yes</td>\n",
       "      <td>center</td>\n",
       "      <td>fit</td>\n",
       "      <td>female</td>\n",
       "      <td>indoor</td>\n",
       "      <td>NaN</td>\n",
       "      <td>jumping-jack</td>\n",
       "      <td>3</td>\n",
       "      <td>1</td>\n",
       "    </tr>\n",
       "    <tr>\n",
       "      <th>4</th>\n",
       "      <td>v_JumpingJack_g01_c05.avi</td>\n",
       "      <td>3</td>\n",
       "      <td>front</td>\n",
       "      <td>front</td>\n",
       "      <td>yes</td>\n",
       "      <td>center</td>\n",
       "      <td>fit</td>\n",
       "      <td>female</td>\n",
       "      <td>indoor</td>\n",
       "      <td>NaN</td>\n",
       "      <td>jumping-jack</td>\n",
       "      <td>3</td>\n",
       "      <td>1</td>\n",
       "    </tr>\n",
       "    <tr>\n",
       "      <th>...</th>\n",
       "      <td>...</td>\n",
       "      <td>...</td>\n",
       "      <td>...</td>\n",
       "      <td>...</td>\n",
       "      <td>...</td>\n",
       "      <td>...</td>\n",
       "      <td>...</td>\n",
       "      <td>...</td>\n",
       "      <td>...</td>\n",
       "      <td>...</td>\n",
       "      <td>...</td>\n",
       "      <td>...</td>\n",
       "      <td>...</td>\n",
       "    </tr>\n",
       "    <tr>\n",
       "      <th>331</th>\n",
       "      <td>v_BodyWeightSquats_g25_c03.avi</td>\n",
       "      <td>1</td>\n",
       "      <td>side</td>\n",
       "      <td>side</td>\n",
       "      <td>yes</td>\n",
       "      <td>center</td>\n",
       "      <td>fit</td>\n",
       "      <td>male</td>\n",
       "      <td>indoor</td>\n",
       "      <td>NaN</td>\n",
       "      <td>squat</td>\n",
       "      <td>1</td>\n",
       "      <td>1</td>\n",
       "    </tr>\n",
       "    <tr>\n",
       "      <th>332</th>\n",
       "      <td>v_BodyWeightSquats_g25_c04.avi</td>\n",
       "      <td>1</td>\n",
       "      <td>side</td>\n",
       "      <td>side</td>\n",
       "      <td>yes</td>\n",
       "      <td>center</td>\n",
       "      <td>fit</td>\n",
       "      <td>male</td>\n",
       "      <td>indoor</td>\n",
       "      <td>NaN</td>\n",
       "      <td>squat</td>\n",
       "      <td>1</td>\n",
       "      <td>1</td>\n",
       "    </tr>\n",
       "    <tr>\n",
       "      <th>333</th>\n",
       "      <td>v_BodyWeightSquats_g25_c05.avi</td>\n",
       "      <td>1</td>\n",
       "      <td>side</td>\n",
       "      <td>side</td>\n",
       "      <td>yes</td>\n",
       "      <td>center</td>\n",
       "      <td>fit</td>\n",
       "      <td>male</td>\n",
       "      <td>indoor</td>\n",
       "      <td>NaN</td>\n",
       "      <td>squat</td>\n",
       "      <td>1</td>\n",
       "      <td>1</td>\n",
       "    </tr>\n",
       "    <tr>\n",
       "      <th>334</th>\n",
       "      <td>v_BodyWeightSquats_g25_c06.avi</td>\n",
       "      <td>1</td>\n",
       "      <td>side</td>\n",
       "      <td>side</td>\n",
       "      <td>yes</td>\n",
       "      <td>center</td>\n",
       "      <td>fit</td>\n",
       "      <td>male</td>\n",
       "      <td>indoor</td>\n",
       "      <td>NaN</td>\n",
       "      <td>squat</td>\n",
       "      <td>1</td>\n",
       "      <td>1</td>\n",
       "    </tr>\n",
       "    <tr>\n",
       "      <th>335</th>\n",
       "      <td>v_BodyWeightSquats_g25_c07.avi</td>\n",
       "      <td>1</td>\n",
       "      <td>side</td>\n",
       "      <td>side</td>\n",
       "      <td>yes</td>\n",
       "      <td>center</td>\n",
       "      <td>fit</td>\n",
       "      <td>male</td>\n",
       "      <td>indoor</td>\n",
       "      <td>NaN</td>\n",
       "      <td>squat</td>\n",
       "      <td>1</td>\n",
       "      <td>1</td>\n",
       "    </tr>\n",
       "  </tbody>\n",
       "</table>\n",
       "<p>336 rows × 13 columns</p>\n",
       "</div>"
      ],
      "text/plain": [
       "                          file_name  rep 3-classes-view 5-classes-view sure  \\\n",
       "0         v_JumpingJack_g01_c01.avi    3          front          front  yes   \n",
       "1         v_JumpingJack_g01_c02.avi    3          front          front  yes   \n",
       "2         v_JumpingJack_g01_c03.avi    3          front          front  yes   \n",
       "3         v_JumpingJack_g01_c04.avi    3          front          front  yes   \n",
       "4         v_JumpingJack_g01_c05.avi    3          front          front  yes   \n",
       "..                              ...  ...            ...            ...  ...   \n",
       "331  v_BodyWeightSquats_g25_c03.avi    1           side           side  yes   \n",
       "332  v_BodyWeightSquats_g25_c04.avi    1           side           side  yes   \n",
       "333  v_BodyWeightSquats_g25_c05.avi    1           side           side  yes   \n",
       "334  v_BodyWeightSquats_g25_c06.avi    1           side           side  yes   \n",
       "335  v_BodyWeightSquats_g25_c07.avi    1           side           side  yes   \n",
       "\n",
       "    position distance  gender indoor/outdoor special_case      exercise  pred  \\\n",
       "0     center      fit  female         indoor          NaN  jumping-jack     3   \n",
       "1     center      fit  female         indoor          NaN  jumping-jack     3   \n",
       "2     center      fit  female         indoor          NaN  jumping-jack     3   \n",
       "3     center      fit  female         indoor          NaN  jumping-jack     3   \n",
       "4     center      fit  female         indoor          NaN  jumping-jack     3   \n",
       "..       ...      ...     ...            ...          ...           ...   ...   \n",
       "331   center      fit    male         indoor          NaN         squat     1   \n",
       "332   center      fit    male         indoor          NaN         squat     1   \n",
       "333   center      fit    male         indoor          NaN         squat     1   \n",
       "334   center      fit    male         indoor          NaN         squat     1   \n",
       "335   center      fit    male         indoor          NaN         squat     1   \n",
       "\n",
       "     obo  \n",
       "0      1  \n",
       "1      1  \n",
       "2      1  \n",
       "3      1  \n",
       "4      1  \n",
       "..   ...  \n",
       "331    1  \n",
       "332    1  \n",
       "333    1  \n",
       "334    1  \n",
       "335    1  \n",
       "\n",
       "[336 rows x 13 columns]"
      ]
     },
     "execution_count": 17,
     "metadata": {},
     "output_type": "execute_result"
    }
   ],
   "source": [
    "df"
   ]
  },
  {
   "cell_type": "code",
   "execution_count": 117,
   "id": "707f0525-8d35-47d7-822d-480297bca3cb",
   "metadata": {},
   "outputs": [],
   "source": [
    "df.drop(['pred', 'obo'], axis=1,inplace=True)"
   ]
  },
  {
   "cell_type": "code",
   "execution_count": 118,
   "id": "200ead9f-3708-4c6f-bc3b-438c89baff6a",
   "metadata": {},
   "outputs": [
    {
     "data": {
      "text/html": [
       "<div>\n",
       "<style scoped>\n",
       "    .dataframe tbody tr th:only-of-type {\n",
       "        vertical-align: middle;\n",
       "    }\n",
       "\n",
       "    .dataframe tbody tr th {\n",
       "        vertical-align: top;\n",
       "    }\n",
       "\n",
       "    .dataframe thead th {\n",
       "        text-align: right;\n",
       "    }\n",
       "</style>\n",
       "<table border=\"1\" class=\"dataframe\">\n",
       "  <thead>\n",
       "    <tr style=\"text-align: right;\">\n",
       "      <th></th>\n",
       "      <th>file_name</th>\n",
       "      <th>rep</th>\n",
       "      <th>exercise</th>\n",
       "      <th>3-classes-view</th>\n",
       "      <th>5-classes-view</th>\n",
       "      <th>position</th>\n",
       "      <th>distance</th>\n",
       "    </tr>\n",
       "  </thead>\n",
       "  <tbody>\n",
       "    <tr>\n",
       "      <th>0</th>\n",
       "      <td>half-burpee_1_1.mp4</td>\n",
       "      <td>11</td>\n",
       "      <td>half-burpee</td>\n",
       "      <td>side</td>\n",
       "      <td>side</td>\n",
       "      <td>center</td>\n",
       "      <td>fit</td>\n",
       "    </tr>\n",
       "    <tr>\n",
       "      <th>1</th>\n",
       "      <td>half-burpee_1_2.mp4</td>\n",
       "      <td>9</td>\n",
       "      <td>half-burpee</td>\n",
       "      <td>side</td>\n",
       "      <td>side</td>\n",
       "      <td>center</td>\n",
       "      <td>fit</td>\n",
       "    </tr>\n",
       "    <tr>\n",
       "      <th>2</th>\n",
       "      <td>half-burpee_2_1.mp4</td>\n",
       "      <td>3</td>\n",
       "      <td>half-burpee</td>\n",
       "      <td>side</td>\n",
       "      <td>side</td>\n",
       "      <td>center</td>\n",
       "      <td>fit</td>\n",
       "    </tr>\n",
       "    <tr>\n",
       "      <th>3</th>\n",
       "      <td>half-burpee_2_2.mp4</td>\n",
       "      <td>4</td>\n",
       "      <td>half-burpee</td>\n",
       "      <td>side</td>\n",
       "      <td>right-tilted</td>\n",
       "      <td>right</td>\n",
       "      <td>fit</td>\n",
       "    </tr>\n",
       "    <tr>\n",
       "      <th>4</th>\n",
       "      <td>half-burpee_2_3.mp4</td>\n",
       "      <td>3</td>\n",
       "      <td>half-burpee</td>\n",
       "      <td>back</td>\n",
       "      <td>back</td>\n",
       "      <td>center</td>\n",
       "      <td>fit</td>\n",
       "    </tr>\n",
       "    <tr>\n",
       "      <th>...</th>\n",
       "      <td>...</td>\n",
       "      <td>...</td>\n",
       "      <td>...</td>\n",
       "      <td>...</td>\n",
       "      <td>...</td>\n",
       "      <td>...</td>\n",
       "      <td>...</td>\n",
       "    </tr>\n",
       "    <tr>\n",
       "      <th>63</th>\n",
       "      <td>squat_3_1.mp4</td>\n",
       "      <td>8</td>\n",
       "      <td>squat</td>\n",
       "      <td>side</td>\n",
       "      <td>side</td>\n",
       "      <td>center</td>\n",
       "      <td>fit</td>\n",
       "    </tr>\n",
       "    <tr>\n",
       "      <th>64</th>\n",
       "      <td>squat_3_2.mp4</td>\n",
       "      <td>6</td>\n",
       "      <td>squat</td>\n",
       "      <td>front</td>\n",
       "      <td>front</td>\n",
       "      <td>center</td>\n",
       "      <td>fit</td>\n",
       "    </tr>\n",
       "    <tr>\n",
       "      <th>65</th>\n",
       "      <td>squat_3_3.mp4</td>\n",
       "      <td>7</td>\n",
       "      <td>squat</td>\n",
       "      <td>side</td>\n",
       "      <td>right-tilted</td>\n",
       "      <td>center</td>\n",
       "      <td>far</td>\n",
       "    </tr>\n",
       "    <tr>\n",
       "      <th>66</th>\n",
       "      <td>squat_3_4.mp4</td>\n",
       "      <td>5</td>\n",
       "      <td>squat</td>\n",
       "      <td>side</td>\n",
       "      <td>side</td>\n",
       "      <td>center</td>\n",
       "      <td>far</td>\n",
       "    </tr>\n",
       "    <tr>\n",
       "      <th>67</th>\n",
       "      <td>squat_3_5.mp4</td>\n",
       "      <td>5</td>\n",
       "      <td>squat</td>\n",
       "      <td>side</td>\n",
       "      <td>side</td>\n",
       "      <td>center</td>\n",
       "      <td>fit</td>\n",
       "    </tr>\n",
       "  </tbody>\n",
       "</table>\n",
       "<p>68 rows × 7 columns</p>\n",
       "</div>"
      ],
      "text/plain": [
       "              file_name  rep     exercise 3-classes-view 5-classes-view  \\\n",
       "0   half-burpee_1_1.mp4   11  half-burpee           side           side   \n",
       "1   half-burpee_1_2.mp4    9  half-burpee           side           side   \n",
       "2   half-burpee_2_1.mp4    3  half-burpee           side           side   \n",
       "3   half-burpee_2_2.mp4    4  half-burpee           side   right-tilted   \n",
       "4   half-burpee_2_3.mp4    3  half-burpee           back           back   \n",
       "..                  ...  ...          ...            ...            ...   \n",
       "63        squat_3_1.mp4    8        squat           side           side   \n",
       "64        squat_3_2.mp4    6        squat          front          front   \n",
       "65        squat_3_3.mp4    7        squat           side   right-tilted   \n",
       "66        squat_3_4.mp4    5        squat           side           side   \n",
       "67        squat_3_5.mp4    5        squat           side           side   \n",
       "\n",
       "   position distance  \n",
       "0    center      fit  \n",
       "1    center      fit  \n",
       "2    center      fit  \n",
       "3     right      fit  \n",
       "4    center      fit  \n",
       "..      ...      ...  \n",
       "63   center      fit  \n",
       "64   center      fit  \n",
       "65   center      far  \n",
       "66   center      far  \n",
       "67   center      fit  \n",
       "\n",
       "[68 rows x 7 columns]"
      ]
     },
     "execution_count": 118,
     "metadata": {},
     "output_type": "execute_result"
    }
   ],
   "source": [
    "df"
   ]
  },
  {
   "cell_type": "code",
   "execution_count": 9,
   "id": "4b758b3c-8766-4138-81d8-5afca348186f",
   "metadata": {},
   "outputs": [],
   "source": [
    "## NOTE\n",
    "# all squat fail from front view (some pushup too)\n",
    "\n",
    "# half-rep or worse exercise sample\n",
    "# pushup-6 | pushup-13 | \n",
    "\n",
    "# jumping-jack fail from multi person and completely sideview"
   ]
  }
 ],
 "metadata": {
  "kernelspec": {
   "display_name": "ezfit_tf2",
   "language": "python",
   "name": "ezfit_tf2"
  },
  "language_info": {
   "codemirror_mode": {
    "name": "ipython",
    "version": 3
   },
   "file_extension": ".py",
   "mimetype": "text/x-python",
   "name": "python",
   "nbconvert_exporter": "python",
   "pygments_lexer": "ipython3",
   "version": "3.9.4"
  }
 },
 "nbformat": 4,
 "nbformat_minor": 5
}
