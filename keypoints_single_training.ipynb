{
 "cells": [
  {
   "cell_type": "markdown",
   "id": "fcaf7ff9",
   "metadata": {},
   "source": [
    "# Import Libraries"
   ]
  },
  {
   "cell_type": "code",
   "execution_count": 1,
   "id": "e38ef494",
   "metadata": {
    "ExecuteTime": {
     "end_time": "2022-03-06T15:14:21.386937Z",
     "start_time": "2022-03-06T15:14:21.365935Z"
    }
   },
   "outputs": [
    {
     "name": "stderr",
     "output_type": "stream",
     "text": [
      "2022-06-19 00:56:20.518363: I tensorflow/stream_executor/platform/default/dso_loader.cc:53] Successfully opened dynamic library libcudart.so.11.0\n"
     ]
    }
   ],
   "source": [
    "import mediapipe as mp\n",
    "import cv2\n",
    "import numpy as np\n",
    "import pandas as pd\n",
    "import csv\n",
    "import os\n",
    "os.environ[\"CUDA_VISIBLE_DEVICES\"] = \"1\"\n",
    "import pickle\n",
    "from PIL import ImageOps, Image\n",
    "import tensorflow as tf\n",
    "# import tensorflowjs as tfjs\n",
    "import matplotlib.pyplot as plt\n",
    "\n",
    "from tqdm import tqdm\n",
    "from sklearn.utils import shuffle\n",
    "from collections import Counter\n",
    "from tensorflow.keras.utils import to_categorical\n",
    "from tensorflow.data import AUTOTUNE\n",
    "from sklearn.preprocessing import StandardScaler, LabelEncoder, LabelBinarizer\n",
    "from sklearn.model_selection import cross_val_score, train_test_split\n",
    "from sklearn.pipeline import make_pipeline\n",
    "from sklearn.linear_model import LogisticRegression, RidgeClassifier\n",
    "from sklearn.ensemble import RandomForestClassifier, GradientBoostingClassifier"
   ]
  },
  {
   "cell_type": "code",
   "execution_count": 2,
   "id": "0cec4478-2205-4518-9fe3-1eb899b0643c",
   "metadata": {},
   "outputs": [],
   "source": [
    "ROUND = 1\n",
    "SEQ_LEN = 'single'\n",
    "EXERCISE = 'half-burpee'\n",
    "CUR_CLASS = 'out'\n",
    "PREV_CLASS = 'in'\n",
    "SUFFIX_VID_NAME = 'None'\n",
    "REMOTE = True\n",
    "# for benchmark model\n",
    "BENCHMARK = True\n",
    "BASE_CLASSES = [f'{EXERCISE}-{CUR_CLASS}',f'{EXERCISE}-{PREV_CLASS}']\n",
    "if BENCHMARK:\n",
    "    ROUND = 'BM_BARE'"
   ]
  },
  {
   "cell_type": "code",
   "execution_count": 3,
   "id": "553a5e90",
   "metadata": {
    "ExecuteTime": {
     "end_time": "2022-03-06T15:14:21.401935Z",
     "start_time": "2022-03-06T15:14:21.388935Z"
    }
   },
   "outputs": [],
   "source": [
    "mp_drawing = mp.solutions.drawing_utils\n",
    "mp_holistic = mp.solutions.holistic\n",
    "mp_pose = mp.solutions.pose"
   ]
  },
  {
   "cell_type": "markdown",
   "id": "ac470926",
   "metadata": {},
   "source": [
    "# Get all file paths"
   ]
  },
  {
   "cell_type": "code",
   "execution_count": 4,
   "id": "4be1f4c8",
   "metadata": {
    "ExecuteTime": {
     "end_time": "2022-03-06T15:14:21.416935Z",
     "start_time": "2022-03-06T15:14:21.403944Z"
    },
    "tags": []
   },
   "outputs": [],
   "source": [
    "all_file_paths = []\n",
    "accepted_exts = ('.jpg', '.jpeg','.png')\n",
    "if REMOTE:\n",
    "    walk_path = f'/data1-6tb/jom/Dataset/EzFit_dataset/train/images/{EXERCISE}'\n",
    "else:\n",
    "    walk_path = f'D:\\EzFit_dataset\\images\\{EXERCISE}'\n",
    "for path, subdirs, files in os.walk(walk_path):\n",
    "    for name in files:\n",
    "        if name.lower().endswith(accepted_exts):\n",
    "            full_path = os.path.join(path, name)\n",
    "            split = full_path.split(os.path.sep)\n",
    "            if BENCHMARK:\n",
    "                if split[-2] in BASE_CLASSES:\n",
    "                    all_file_paths.append(full_path)\n",
    "            else:\n",
    "                all_file_paths.append(full_path)"
   ]
  },
  {
   "cell_type": "code",
   "execution_count": 5,
   "id": "f41bc368",
   "metadata": {
    "ExecuteTime": {
     "end_time": "2022-03-06T15:14:21.432935Z",
     "start_time": "2022-03-06T15:14:21.419942Z"
    },
    "tags": []
   },
   "outputs": [],
   "source": [
    "# all_file_paths"
   ]
  },
  {
   "cell_type": "code",
   "execution_count": 6,
   "id": "4e2effe8",
   "metadata": {
    "ExecuteTime": {
     "end_time": "2022-03-06T15:14:21.448936Z",
     "start_time": "2022-03-06T15:14:21.434935Z"
    }
   },
   "outputs": [
    {
     "data": {
      "text/plain": [
       "448"
      ]
     },
     "execution_count": 6,
     "metadata": {},
     "output_type": "execute_result"
    }
   ],
   "source": [
    "len(all_file_paths)"
   ]
  },
  {
   "cell_type": "markdown",
   "id": "2303c71b",
   "metadata": {},
   "source": [
    "### We cannot put BlazePose kps extraction into tf.data pipline. Therefore, we need to go for manual way to load data (since we have not that big data, this is possible)"
   ]
  },
  {
   "cell_type": "code",
   "execution_count": 7,
   "id": "520546c0",
   "metadata": {
    "ExecuteTime": {
     "end_time": "2022-03-06T15:14:21.464936Z",
     "start_time": "2022-03-06T15:14:21.450936Z"
    }
   },
   "outputs": [],
   "source": [
    "data = []\n",
    "labels = []"
   ]
  },
  {
   "cell_type": "code",
   "execution_count": 8,
   "id": "742b358e",
   "metadata": {
    "ExecuteTime": {
     "end_time": "2022-03-06T15:15:51.513941Z",
     "start_time": "2022-03-06T15:14:21.466935Z"
    },
    "tags": []
   },
   "outputs": [
    {
     "name": "stderr",
     "output_type": "stream",
     "text": [
      "  0%|                                                                                           | 0/448 [00:00<?, ?it/s]INFO: Created TensorFlow Lite XNNPACK delegate for CPU.\n",
      "  0%|▏                                                                                  | 1/448 [00:00<01:11,  6.29it/s]INFO: Replacing 223 node(s) with delegate (TfLiteXNNPackDelegate) node, yielding 6 partitions.\n",
      "INFO: Replacing 318 node(s) with delegate (TfLiteXNNPackDelegate) node, yielding 1 partitions.\n",
      "INFO: Replacing 223 node(s) with delegate (TfLiteXNNPackDelegate) node, yielding 6 partitions.\n",
      "  0%|▎                                                                                  | 2/448 [00:00<01:01,  7.24it/s]INFO: Replacing 318 node(s) with delegate (TfLiteXNNPackDelegate) node, yielding 1 partitions.\n",
      "  1%|▌                                                                                  | 3/448 [00:00<00:56,  7.87it/s]Replacing 223 node(s) with delegate (TfLiteXNNPackDelegate) node, yielding 6 partitions.\n",
      "INFO: Replacing 318 node(s) with delegate (TfLiteXNNPackDelegate) node, yielding 1 partitions.\n",
      "INFO: Replacing 223 node(s) with delegate (TfLiteXNNPackDelegate) node, yielding 6 partitions.\n",
      "  1%|▋                                                                                  | 4/448 [00:00<00:53,  8.27it/s]INFO: Replacing 318 node(s) with delegate (TfLiteXNNPackDelegate) node, yielding 1 partitions.\n",
      "INFO: Replacing 223 node(s) with delegate (TfLiteXNNPackDelegate) node, yielding 6 partitions.\n",
      "INFO: Replacing 318 node(s) with delegate (TfLiteXNNPackDelegate) node, yielding 1 partitions.\n",
      "  1%|▉                                                                                  | 5/448 [00:00<00:50,  8.79it/s]INFO: Replacing 223 node(s) with delegate (TfLiteXNNPackDelegate) node, yielding 6 partitions.\n",
      "  1%|█                                                                                  | 6/448 [00:00<00:51,  8.61it/s]INFO: Replacing 318 node(s) with delegate (TfLiteXNNPackDelegate) node, yielding 1 partitions.\n",
      "  2%|█▎                                                                                 | 7/448 [00:00<00:50,  8.66it/s]Replacing 223 node(s) with delegate (TfLiteXNNPackDelegate) node, yielding 6 partitions.\n",
      "INFO: Replacing 318 node(s) with delegate (TfLiteXNNPackDelegate) node, yielding 1 partitions.\n",
      "  2%|█▍                                                                                 | 8/448 [00:00<00:50,  8.70it/s]INFO: Replacing 223 node(s) with delegate (TfLiteXNNPackDelegate) node, yielding 6 partitions.\n",
      "INFO: Replacing 318 node(s) with delegate (TfLiteXNNPackDelegate) node, yielding 1 partitions.\n",
      "INFO: Replacing 223 node(s) with delegate (TfLiteXNNPackDelegate) node, yielding 6 partitions.\n",
      "  2%|█▋                                                                                 | 9/448 [00:01<00:49,  8.90it/s]INFO: Replacing 318 node(s) with delegate (TfLiteXNNPackDelegate) node, yielding 1 partitions.\n",
      "  2%|█▊                                                                                | 10/448 [00:01<00:48,  9.02it/s]Replacing 223 node(s) with delegate (TfLiteXNNPackDelegate) node, yielding 6 partitions.\n",
      "INFO: Replacing 318 node(s) with delegate (TfLiteXNNPackDelegate) node, yielding 1 partitions.\n",
      "  2%|██                                                                                | 11/448 [00:01<00:47,  9.21it/s]\n",
      "INFO: Replacing 318 node(s) with delegate (TfLiteXNNPackDelegate) node, yielding 1 partitions.\n",
      "  3%|██▏                                                                               | 12/448 [00:01<00:46,  9.37it/s]Replacing 223 node(s) with delegate (TfLiteXNNPackDelegate) node, yielding 6 partitions.\n",
      "INFO: Replacing 318 node(s) with delegate (TfLiteXNNPackDelegate) node, yielding 1 partitions.\n",
      "  3%|██▍                                                                               | 13/448 [00:01<00:47,  9.25it/s]\n",
      "INFO: Replacing 318 node(s) with delegate (TfLiteXNNPackDelegate) node, yielding 1 partitions.\n",
      "  3%|██▌                                                                               | 14/448 [00:01<00:47,  9.19it/s]Replacing 223 node(s) with delegate (TfLiteXNNPackDelegate) node, yielding 6 partitions.\n",
      "INFO: Replacing 318 node(s) with delegate (TfLiteXNNPackDelegate) node, yielding 1 partitions.\n",
      "INFO: Replacing 223 node(s) with delegate (TfLiteXNNPackDelegate) node, yielding 6 partitions.\n",
      "  3%|██▋                                                                               | 15/448 [00:01<00:47,  9.03it/s]INFO: Replacing 318 node(s) with delegate (TfLiteXNNPackDelegate) node, yielding 1 partitions.\n",
      "  4%|██▉                                                                               | 16/448 [00:01<00:48,  8.97it/s]\n",
      "INFO: Replacing 318 node(s) with delegate (TfLiteXNNPackDelegate) node, yielding 1 partitions.\n",
      "  4%|███                                                                               | 17/448 [00:01<00:47,  9.13it/s]Replacing 223 node(s) with delegate (TfLiteXNNPackDelegate) node, yielding 6 partitions.\n",
      "INFO: Replacing 318 node(s) with delegate (TfLiteXNNPackDelegate) node, yielding 1 partitions.\n",
      "  4%|███▎                                                                              | 18/448 [00:02<00:46,  9.28it/s]Replacing 223 node(s) with delegate (TfLiteXNNPackDelegate) node, yielding 6 partitions.\n",
      "INFO: Replacing 318 node(s) with delegate (TfLiteXNNPackDelegate) node, yielding 1 partitions.\n",
      "  4%|███▍                                                                              | 19/448 [00:02<00:45,  9.48it/s]Replacing 223 node(s) with delegate (TfLiteXNNPackDelegate) node, yielding 6 partitions.\n",
      "INFO: Replacing 318 node(s) with delegate (TfLiteXNNPackDelegate) node, yielding 1 partitions.\n",
      "  4%|███▋                                                                              | 20/448 [00:02<00:46,  9.25it/s]\n",
      "INFO: Replacing 318 node(s) with delegate (TfLiteXNNPackDelegate) node, yielding 1 partitions.\n",
      "  5%|███▊                                                                              | 21/448 [00:02<00:45,  9.41it/s]Replacing 223 node(s) with delegate (TfLiteXNNPackDelegate) node, yielding 6 partitions.\n",
      "INFO: Replacing 318 node(s) with delegate (TfLiteXNNPackDelegate) node, yielding 1 partitions.\n",
      "INFO: Replacing 223 node(s) with delegate (TfLiteXNNPackDelegate) node, yielding 6 partitions.\n",
      "  5%|████                                                                              | 22/448 [00:02<00:45,  9.44it/s]INFO: Replacing 318 node(s) with delegate (TfLiteXNNPackDelegate) node, yielding 1 partitions.\n",
      "  5%|████▏                                                                             | 23/448 [00:02<00:44,  9.51it/s]Replacing 223 node(s) with delegate (TfLiteXNNPackDelegate) node, yielding 6 partitions.\n",
      "INFO: Replacing 318 node(s) with delegate (TfLiteXNNPackDelegate) node, yielding 1 partitions.\n",
      "INFO: Replacing 223 node(s) with delegate (TfLiteXNNPackDelegate) node, yielding 6 partitions.\n",
      "INFO: Replacing 318 node(s) with delegate (TfLiteXNNPackDelegate) node, yielding 1 partitions.\n",
      "  6%|████▌                                                                             | 25/448 [00:02<00:43,  9.78it/s]\n",
      "INFO: Replacing 318 node(s) with delegate (TfLiteXNNPackDelegate) node, yielding 1 partitions.\n",
      "INFO: Replacing 223 node(s) with delegate (TfLiteXNNPackDelegate) node, yielding 6 partitions.\n",
      "  6%|████▊                                                                             | 26/448 [00:02<00:44,  9.54it/s]INFO: Replacing 318 node(s) with delegate (TfLiteXNNPackDelegate) node, yielding 1 partitions.\n",
      "INFO: Replacing 223 node(s) with delegate (TfLiteXNNPackDelegate) node, yielding 6 partitions.\n",
      "  6%|████▉                                                                             | 27/448 [00:02<00:45,  9.33it/s]INFO: Replacing 318 node(s) with delegate (TfLiteXNNPackDelegate) node, yielding 1 partitions.\n",
      "INFO: Replacing 223 node(s) with delegate (TfLiteXNNPackDelegate) node, yielding 6 partitions.\n",
      "  6%|█████▏                                                                            | 28/448 [00:03<00:44,  9.47it/s]INFO: Replacing 318 node(s) with delegate (TfLiteXNNPackDelegate) node, yielding 1 partitions.\n",
      "  6%|█████▎                                                                            | 29/448 [00:03<00:44,  9.46it/s]\n",
      "INFO: Replacing 318 node(s) with delegate (TfLiteXNNPackDelegate) node, yielding 1 partitions.\n",
      "  7%|█████▍                                                                            | 30/448 [00:03<00:43,  9.59it/s]Replacing 223 node(s) with delegate (TfLiteXNNPackDelegate) node, yielding 6 partitions.\n",
      "INFO: Replacing 318 node(s) with delegate (TfLiteXNNPackDelegate) node, yielding 1 partitions.\n",
      "  7%|█████▋                                                                            | 31/448 [00:03<00:43,  9.68it/s]Replacing 223 node(s) with delegate (TfLiteXNNPackDelegate) node, yielding 6 partitions.\n",
      "INFO: Replacing 318 node(s) with delegate (TfLiteXNNPackDelegate) node, yielding 1 partitions.\n",
      "INFO: Replacing 223 node(s) with delegate (TfLiteXNNPackDelegate) node, yielding 6 partitions.\n",
      "  7%|█████▊                                                                            | 32/448 [00:03<00:42,  9.68it/s]INFO: Replacing 318 node(s) with delegate (TfLiteXNNPackDelegate) node, yielding 1 partitions.\n",
      "  7%|██████                                                                            | 33/448 [00:03<00:42,  9.69it/s]\n",
      "INFO: Replacing 318 node(s) with delegate (TfLiteXNNPackDelegate) node, yielding 1 partitions.\n",
      "  8%|██████▏                                                                           | 34/448 [00:03<00:43,  9.48it/s]Replacing 223 node(s) with delegate (TfLiteXNNPackDelegate) node, yielding 6 partitions.\n",
      "INFO: Replacing 318 node(s) with delegate (TfLiteXNNPackDelegate) node, yielding 1 partitions.\n",
      "  8%|██████▍                                                                           | 35/448 [00:03<00:45,  9.00it/s]\n",
      "INFO: Replacing 318 node(s) with delegate (TfLiteXNNPackDelegate) node, yielding 1 partitions.\n",
      "INFO: Replacing 223 node(s) with delegate (TfLiteXNNPackDelegate) node, yielding 6 partitions.\n",
      "INFO: Replacing 318 node(s) with delegate (TfLiteXNNPackDelegate) node, yielding 1 partitions.\n",
      "  8%|██████▊                                                                           | 37/448 [00:04<00:43,  9.39it/s]\n",
      "INFO: Replacing 318 node(s) with delegate (TfLiteXNNPackDelegate) node, yielding 1 partitions.\n",
      "  8%|██████▉                                                                           | 38/448 [00:04<00:45,  8.99it/s]Replacing 223 node(s) with delegate (TfLiteXNNPackDelegate) node, yielding 6 partitions.\n",
      "INFO: Replacing 318 node(s) with delegate (TfLiteXNNPackDelegate) node, yielding 1 partitions.\n",
      "  9%|███████▏                                                                          | 39/448 [00:04<00:44,  9.11it/s]\n",
      "INFO: Replacing 318 node(s) with delegate (TfLiteXNNPackDelegate) node, yielding 1 partitions.\n",
      "  9%|███████▎                                                                          | 40/448 [00:04<00:44,  9.24it/s]\n",
      "INFO: Replacing 318 node(s) with delegate (TfLiteXNNPackDelegate) node, yielding 1 partitions.\n",
      "INFO: Replacing 223 node(s) with delegate (TfLiteXNNPackDelegate) node, yielding 6 partitions.\n",
      "  9%|███████▌                                                                          | 41/448 [00:04<00:44,  9.10it/s]INFO: Replacing 318 node(s) with delegate (TfLiteXNNPackDelegate) node, yielding 1 partitions.\n",
      "  9%|███████▋                                                                          | 42/448 [00:04<00:44,  9.17it/s]Replacing 223 node(s) with delegate (TfLiteXNNPackDelegate) node, yielding 6 partitions.\n",
      "INFO: Replacing 318 node(s) with delegate (TfLiteXNNPackDelegate) node, yielding 1 partitions.\n",
      "INFO: Replacing 223 node(s) with delegate (TfLiteXNNPackDelegate) node, yielding 6 partitions.\n",
      " 10%|███████▊                                                                          | 43/448 [00:04<00:44,  9.12it/s]INFO: Replacing 318 node(s) with delegate (TfLiteXNNPackDelegate) node, yielding 1 partitions.\n",
      "INFO: Replacing 223 node(s) with delegate (TfLiteXNNPackDelegate) node, yielding 6 partitions.\n",
      " 10%|████████                                                                          | 44/448 [00:04<00:44,  9.08it/s]INFO: Replacing 318 node(s) with delegate (TfLiteXNNPackDelegate) node, yielding 1 partitions.\n",
      " 10%|████████▏                                                                         | 45/448 [00:04<00:43,  9.33it/s]Replacing 223 node(s) with delegate (TfLiteXNNPackDelegate) node, yielding 6 partitions.\n",
      "INFO: Replacing 318 node(s) with delegate (TfLiteXNNPackDelegate) node, yielding 1 partitions.\n",
      " 10%|████████▍                                                                         | 46/448 [00:05<00:43,  9.34it/s]INFO: Replacing 223 node(s) with delegate (TfLiteXNNPackDelegate) node, yielding 6 partitions.\n",
      "INFO: Replacing 318 node(s) with delegate (TfLiteXNNPackDelegate) node, yielding 1 partitions.\n",
      " 10%|████████▌                                                                         | 47/448 [00:05<00:42,  9.39it/s]Replacing 223 node(s) with delegate (TfLiteXNNPackDelegate) node, yielding 6 partitions.\n",
      "INFO: Replacing 318 node(s) with delegate (TfLiteXNNPackDelegate) node, yielding 1 partitions.\n",
      "INFO: Replacing 223 node(s) with delegate (TfLiteXNNPackDelegate) node, yielding 6 partitions.\n",
      " 11%|████████▊                                                                         | 48/448 [00:05<00:44,  9.03it/s]INFO: Replacing 318 node(s) with delegate (TfLiteXNNPackDelegate) node, yielding 1 partitions.\n",
      " 11%|████████▉                                                                         | 49/448 [00:05<00:45,  8.85it/s]\n",
      "INFO: Replacing 318 node(s) with delegate (TfLiteXNNPackDelegate) node, yielding 1 partitions.\n",
      " 11%|█████████▏                                                                        | 50/448 [00:05<00:44,  8.96it/s]Replacing 223 node(s) with delegate (TfLiteXNNPackDelegate) node, yielding 6 partitions.\n",
      "INFO: Replacing 318 node(s) with delegate (TfLiteXNNPackDelegate) node, yielding 1 partitions.\n",
      "INFO: Replacing 223 node(s) with delegate (TfLiteXNNPackDelegate) node, yielding 6 partitions.\n",
      "INFO: Replacing 318 node(s) with delegate (TfLiteXNNPackDelegate) node, yielding 1 partitions.\n",
      " 12%|█████████▌                                                                        | 52/448 [00:05<00:42,  9.37it/s]Replacing 223 node(s) with delegate (TfLiteXNNPackDelegate) node, yielding 6 partitions.\n",
      "INFO: Replacing 318 node(s) with delegate (TfLiteXNNPackDelegate) node, yielding 1 partitions.\n",
      " 12%|█████████▋                                                                        | 53/448 [00:05<00:42,  9.26it/s]Replacing 223 node(s) with delegate (TfLiteXNNPackDelegate) node, yielding 6 partitions.\n",
      "INFO: Replacing 318 node(s) with delegate (TfLiteXNNPackDelegate) node, yielding 1 partitions.\n",
      " 12%|█████████▉                                                                        | 54/448 [00:05<00:43,  9.14it/s]Replacing 223 node(s) with delegate (TfLiteXNNPackDelegate) node, yielding 6 partitions.\n",
      "INFO: Replacing 318 node(s) with delegate (TfLiteXNNPackDelegate) node, yielding 1 partitions.\n",
      " 12%|██████████                                                                        | 55/448 [00:06<00:42,  9.34it/s]Replacing 223 node(s) with delegate (TfLiteXNNPackDelegate) node, yielding 6 partitions.\n",
      "INFO: Replacing 318 node(s) with delegate (TfLiteXNNPackDelegate) node, yielding 1 partitions.\n",
      "INFO: Replacing 223 node(s) with delegate (TfLiteXNNPackDelegate) node, yielding 6 partitions.\n",
      "INFO: Replacing 318 node(s) with delegate (TfLiteXNNPackDelegate) node, yielding 1 partitions.\n",
      " 13%|██████████▍                                                                       | 57/448 [00:06<00:40,  9.61it/s]Replacing 223 node(s) with delegate (TfLiteXNNPackDelegate) node, yielding 6 partitions.\n",
      "INFO: Replacing 318 node(s) with delegate (TfLiteXNNPackDelegate) node, yielding 1 partitions.\n",
      "INFO: Replacing 223 node(s) with delegate (TfLiteXNNPackDelegate) node, yielding 6 partitions.\n",
      " 13%|██████████▌                                                                       | 58/448 [00:06<00:41,  9.50it/s]INFO: Replacing 318 node(s) with delegate (TfLiteXNNPackDelegate) node, yielding 1 partitions.\n",
      " 13%|██████████▊                                                                       | 59/448 [00:06<00:41,  9.37it/s]Replacing 223 node(s) with delegate (TfLiteXNNPackDelegate) node, yielding 6 partitions.\n",
      "INFO: Replacing 318 node(s) with delegate (TfLiteXNNPackDelegate) node, yielding 1 partitions.\n",
      "INFO: Replacing 223 node(s) with delegate (TfLiteXNNPackDelegate) node, yielding 6 partitions.\n",
      " 13%|██████████▉                                                                       | 60/448 [00:06<00:42,  9.17it/s]INFO: Replacing 318 node(s) with delegate (TfLiteXNNPackDelegate) node, yielding 1 partitions.\n",
      "INFO: Replacing 223 node(s) with delegate (TfLiteXNNPackDelegate) node, yielding 6 partitions.\n",
      "INFO: Replacing 318 node(s) with delegate (TfLiteXNNPackDelegate) node, yielding 1 partitions.\n",
      "INFO: Replacing 223 node(s) with delegate (TfLiteXNNPackDelegate) node, yielding 6 partitions.\n",
      " 14%|███████████▎                                                                      | 62/448 [00:06<00:41,  9.40it/s]INFO: Replacing 318 node(s) with delegate (TfLiteXNNPackDelegate) node, yielding 1 partitions.\n",
      " 14%|███████████▌                                                                      | 63/448 [00:06<00:40,  9.42it/s]Replacing 223 node(s) with delegate (TfLiteXNNPackDelegate) node, yielding 6 partitions.\n",
      "INFO: Replacing 318 node(s) with delegate (TfLiteXNNPackDelegate) node, yielding 1 partitions.\n",
      " 14%|███████████▋                                                                      | 64/448 [00:06<00:41,  9.35it/s]Replacing 223 node(s) with delegate (TfLiteXNNPackDelegate) node, yielding 6 partitions.\n",
      "INFO: Replacing 318 node(s) with delegate (TfLiteXNNPackDelegate) node, yielding 1 partitions.\n",
      "INFO: Replacing 223 node(s) with delegate (TfLiteXNNPackDelegate) node, yielding 6 partitions.\n",
      " 15%|███████████▉                                                                      | 65/448 [00:07<00:40,  9.47it/s]INFO: Replacing 318 node(s) with delegate (TfLiteXNNPackDelegate) node, yielding 1 partitions.\n",
      "INFO: Replacing 223 node(s) with delegate (TfLiteXNNPackDelegate) node, yielding 6 partitions.\n",
      "INFO: Replacing 318 node(s) with delegate (TfLiteXNNPackDelegate) node, yielding 1 partitions.\n",
      " 15%|████████████▎                                                                     | 67/448 [00:07<00:40,  9.45it/s]Replacing 223 node(s) with delegate (TfLiteXNNPackDelegate) node, yielding 6 partitions.\n",
      "INFO: Replacing 318 node(s) with delegate (TfLiteXNNPackDelegate) node, yielding 1 partitions.\n",
      "INFO: Replacing 223 node(s) with delegate (TfLiteXNNPackDelegate) node, yielding 6 partitions.\n",
      "INFO: Replacing 318 node(s) with delegate (TfLiteXNNPackDelegate) node, yielding 1 partitions.\n",
      "INFO: Replacing 223 node(s) with delegate (TfLiteXNNPackDelegate) node, yielding 6 partitions.\n",
      " 15%|████████████▋                                                                     | 69/448 [00:07<00:39,  9.56it/s]INFO: Replacing 318 node(s) with delegate (TfLiteXNNPackDelegate) node, yielding 1 partitions.\n",
      " 16%|████████████▊                                                                     | 70/448 [00:07<00:39,  9.52it/s]\n",
      "INFO: Replacing 318 node(s) with delegate (TfLiteXNNPackDelegate) node, yielding 1 partitions.\n",
      "INFO: Replacing 223 node(s) with delegate (TfLiteXNNPackDelegate) node, yielding 6 partitions.\n",
      " 16%|████████████▉                                                                     | 71/448 [00:07<00:40,  9.39it/s]INFO: Replacing 318 node(s) with delegate (TfLiteXNNPackDelegate) node, yielding 1 partitions.\n",
      "INFO: Replacing 223 node(s) with delegate (TfLiteXNNPackDelegate) node, yielding 6 partitions.\n",
      "INFO: Replacing 318 node(s) with delegate (TfLiteXNNPackDelegate) node, yielding 1 partitions.\n",
      " 16%|█████████████▎                                                                    | 73/448 [00:07<00:39,  9.59it/s]Replacing 223 node(s) with delegate (TfLiteXNNPackDelegate) node, yielding 6 partitions.\n",
      "INFO: Replacing 318 node(s) with delegate (TfLiteXNNPackDelegate) node, yielding 1 partitions.\n",
      "INFO: Replacing 223 node(s) with delegate (TfLiteXNNPackDelegate) node, yielding 6 partitions.\n",
      "INFO: Replacing 318 node(s) with delegate (TfLiteXNNPackDelegate) node, yielding 1 partitions.\n",
      " 17%|█████████████▋                                                                    | 75/448 [00:08<00:38,  9.59it/s]\n",
      "INFO: Replacing 318 node(s) with delegate (TfLiteXNNPackDelegate) node, yielding 1 partitions.\n",
      "INFO: Replacing 223 node(s) with delegate (TfLiteXNNPackDelegate) node, yielding 6 partitions.\n",
      "INFO: Replacing 318 node(s) with delegate (TfLiteXNNPackDelegate) node, yielding 1 partitions.\n",
      " 17%|██████████████                                                                    | 77/448 [00:08<00:37,  9.80it/s]\n",
      "INFO: Replacing 318 node(s) with delegate (TfLiteXNNPackDelegate) node, yielding 1 partitions.\n",
      "INFO: Replacing 223 node(s) with delegate (TfLiteXNNPackDelegate) node, yielding 6 partitions.\n",
      "INFO: Replacing 318 node(s) with delegate (TfLiteXNNPackDelegate) node, yielding 1 partitions.\n",
      " 18%|██████████████▍                                                                   | 79/448 [00:08<00:37,  9.87it/s]\n",
      "INFO: Replacing 318 node(s) with delegate (TfLiteXNNPackDelegate) node, yielding 1 partitions.\n",
      "INFO: Replacing 223 node(s) with delegate (TfLiteXNNPackDelegate) node, yielding 6 partitions.\n",
      "INFO: Replacing 318 node(s) with delegate (TfLiteXNNPackDelegate) node, yielding 1 partitions.\n",
      "INFO: Replacing 223 node(s) with delegate (TfLiteXNNPackDelegate) node, yielding 6 partitions.\n",
      " 18%|██████████████▊                                                                   | 81/448 [00:08<00:37,  9.77it/s]INFO: Replacing 318 node(s) with delegate (TfLiteXNNPackDelegate) node, yielding 1 partitions.\n",
      " 18%|███████████████                                                                   | 82/448 [00:08<00:38,  9.54it/s]\n",
      "INFO: Replacing 318 node(s) with delegate (TfLiteXNNPackDelegate) node, yielding 1 partitions.\n",
      " 19%|███████████████▏                                                                  | 83/448 [00:08<00:39,  9.27it/s]Replacing 223 node(s) with delegate (TfLiteXNNPackDelegate) node, yielding 6 partitions.\n",
      "INFO: Replacing 318 node(s) with delegate (TfLiteXNNPackDelegate) node, yielding 1 partitions.\n",
      "INFO: Replacing 223 node(s) with delegate (TfLiteXNNPackDelegate) node, yielding 6 partitions.\n",
      " 19%|███████████████▍                                                                  | 84/448 [00:09<00:40,  9.07it/s]INFO: Replacing 318 node(s) with delegate (TfLiteXNNPackDelegate) node, yielding 1 partitions.\n",
      " 19%|███████████████▌                                                                  | 85/448 [00:09<00:39,  9.08it/s]\n",
      "INFO: Replacing 318 node(s) with delegate (TfLiteXNNPackDelegate) node, yielding 1 partitions.\n",
      " 19%|███████████████▋                                                                  | 86/448 [00:09<00:40,  8.98it/s]\n",
      "INFO: Replacing 318 node(s) with delegate (TfLiteXNNPackDelegate) node, yielding 1 partitions.\n",
      "INFO: Replacing 223 node(s) with delegate (TfLiteXNNPackDelegate) node, yielding 6 partitions.\n",
      " 19%|███████████████▉                                                                  | 87/448 [00:09<00:41,  8.76it/s]INFO: Replacing 318 node(s) with delegate (TfLiteXNNPackDelegate) node, yielding 1 partitions.\n",
      "INFO: Replacing 223 node(s) with delegate (TfLiteXNNPackDelegate) node, yielding 6 partitions.\n",
      " 20%|████████████████                                                                  | 88/448 [00:09<00:40,  8.94it/s]INFO: Replacing 318 node(s) with delegate (TfLiteXNNPackDelegate) node, yielding 1 partitions.\n",
      " 20%|████████████████▎                                                                 | 89/448 [00:09<00:39,  9.13it/s]Replacing 223 node(s) with delegate (TfLiteXNNPackDelegate) node, yielding 6 partitions.\n",
      "INFO: Replacing 318 node(s) with delegate (TfLiteXNNPackDelegate) node, yielding 1 partitions.\n",
      " 20%|████████████████▍                                                                 | 90/448 [00:09<00:40,  8.84it/s]Replacing 223 node(s) with delegate (TfLiteXNNPackDelegate) node, yielding 6 partitions.\n",
      "INFO: Replacing 318 node(s) with delegate (TfLiteXNNPackDelegate) node, yielding 1 partitions.\n",
      "INFO: Replacing 223 node(s) with delegate (TfLiteXNNPackDelegate) node, yielding 6 partitions.\n",
      "INFO: Replacing 318 node(s) with delegate (TfLiteXNNPackDelegate) node, yielding 1 partitions.\n",
      " 21%|████████████████▊                                                                 | 92/448 [00:09<00:38,  9.31it/s]Replacing 223 node(s) with delegate (TfLiteXNNPackDelegate) node, yielding 6 partitions.\n",
      "INFO: Replacing 318 node(s) with delegate (TfLiteXNNPackDelegate) node, yielding 1 partitions.\n",
      "INFO: Replacing 223 node(s) with delegate (TfLiteXNNPackDelegate) node, yielding 6 partitions.\n",
      " 21%|█████████████████                                                                 | 93/448 [00:10<00:38,  9.14it/s]INFO: Replacing 318 node(s) with delegate (TfLiteXNNPackDelegate) node, yielding 1 partitions.\n",
      " 21%|█████████████████▏                                                                | 94/448 [00:10<00:39,  9.05it/s]Replacing 223 node(s) with delegate (TfLiteXNNPackDelegate) node, yielding 6 partitions.\n",
      "INFO: Replacing 318 node(s) with delegate (TfLiteXNNPackDelegate) node, yielding 1 partitions.\n",
      " 21%|█████████████████▍                                                                | 95/448 [00:10<00:39,  8.88it/s]\n",
      "INFO: Replacing 318 node(s) with delegate (TfLiteXNNPackDelegate) node, yielding 1 partitions.\n",
      "INFO: Replacing 223 node(s) with delegate (TfLiteXNNPackDelegate) node, yielding 6 partitions.\n",
      " 21%|█████████████████▌                                                                | 96/448 [00:10<00:39,  8.96it/s]INFO: Replacing 318 node(s) with delegate (TfLiteXNNPackDelegate) node, yielding 1 partitions.\n",
      "INFO: Replacing 223 node(s) with delegate (TfLiteXNNPackDelegate) node, yielding 6 partitions.\n",
      " 22%|█████████████████▊                                                                | 97/448 [00:10<00:41,  8.43it/s]INFO: Replacing 318 node(s) with delegate (TfLiteXNNPackDelegate) node, yielding 1 partitions.\n",
      " 22%|█████████████████▉                                                                | 98/448 [00:10<00:39,  8.80it/s]Replacing 223 node(s) with delegate (TfLiteXNNPackDelegate) node, yielding 6 partitions.\n",
      "INFO: Replacing 318 node(s) with delegate (TfLiteXNNPackDelegate) node, yielding 1 partitions.\n",
      " 22%|██████████████████                                                                | 99/448 [00:10<00:39,  8.73it/s]Replacing 223 node(s) with delegate (TfLiteXNNPackDelegate) node, yielding 6 partitions.\n",
      "INFO: Replacing 318 node(s) with delegate (TfLiteXNNPackDelegate) node, yielding 1 partitions.\n",
      "INFO: Replacing 223 node(s) with delegate (TfLiteXNNPackDelegate) node, yielding 6 partitions.\n",
      "INFO: Replacing 318 node(s) with delegate (TfLiteXNNPackDelegate) node, yielding 1 partitions.\n",
      " 23%|██████████████████▎                                                              | 101/448 [00:10<00:37,  9.35it/s]Replacing 223 node(s) with delegate (TfLiteXNNPackDelegate) node, yielding 6 partitions.\n",
      "INFO: Replacing 318 node(s) with delegate (TfLiteXNNPackDelegate) node, yielding 1 partitions.\n",
      " 23%|██████████████████▍                                                              | 102/448 [00:11<00:36,  9.44it/s]\n",
      "INFO: Replacing 318 node(s) with delegate (TfLiteXNNPackDelegate) node, yielding 1 partitions.\n",
      " 23%|██████████████████▌                                                              | 103/448 [00:11<00:36,  9.56it/s]\n",
      "INFO: Replacing 318 node(s) with delegate (TfLiteXNNPackDelegate) node, yielding 1 partitions.\n",
      "INFO: Replacing 223 node(s) with delegate (TfLiteXNNPackDelegate) node, yielding 6 partitions.\n",
      " 23%|██████████████████▊                                                              | 104/448 [00:11<00:37,  9.27it/s]INFO: Replacing 318 node(s) with delegate (TfLiteXNNPackDelegate) node, yielding 1 partitions.\n",
      "INFO: Replacing 223 node(s) with delegate (TfLiteXNNPackDelegate) node, yielding 6 partitions.\n",
      " 23%|██████████████████▉                                                              | 105/448 [00:11<00:36,  9.38it/s]INFO: Replacing 318 node(s) with delegate (TfLiteXNNPackDelegate) node, yielding 1 partitions.\n",
      "INFO: Replacing 223 node(s) with delegate (TfLiteXNNPackDelegate) node, yielding 6 partitions.\n",
      " 24%|███████████████████▏                                                             | 106/448 [00:11<00:36,  9.36it/s]INFO: Replacing 318 node(s) with delegate (TfLiteXNNPackDelegate) node, yielding 1 partitions.\n",
      "INFO: Replacing 223 node(s) with delegate (TfLiteXNNPackDelegate) node, yielding 6 partitions.\n",
      " 24%|███████████████████▎                                                             | 107/448 [00:11<00:36,  9.47it/s]INFO: Replacing 318 node(s) with delegate (TfLiteXNNPackDelegate) node, yielding 1 partitions.\n",
      " 24%|███████████████████▌                                                             | 108/448 [00:11<00:35,  9.50it/s]Replacing 223 node(s) with delegate (TfLiteXNNPackDelegate) node, yielding 6 partitions.\n",
      "INFO: Replacing 318 node(s) with delegate (TfLiteXNNPackDelegate) node, yielding 1 partitions.\n",
      "INFO: Replacing 223 node(s) with delegate (TfLiteXNNPackDelegate) node, yielding 6 partitions.\n",
      "INFO: Replacing 318 node(s) with delegate (TfLiteXNNPackDelegate) node, yielding 1 partitions.\n",
      " 25%|███████████████████▉                                                             | 110/448 [00:11<00:34,  9.72it/s]Replacing 223 node(s) with delegate (TfLiteXNNPackDelegate) node, yielding 6 partitions.\n",
      "INFO: Replacing 318 node(s) with delegate (TfLiteXNNPackDelegate) node, yielding 1 partitions.\n",
      " 25%|████████████████████                                                             | 111/448 [00:11<00:34,  9.63it/s]Replacing 223 node(s) with delegate (TfLiteXNNPackDelegate) node, yielding 6 partitions.\n",
      "INFO: Replacing 318 node(s) with delegate (TfLiteXNNPackDelegate) node, yielding 1 partitions.\n",
      " 25%|████████████████████▎                                                            | 112/448 [00:12<00:35,  9.51it/s]\n",
      "INFO: Replacing 318 node(s) with delegate (TfLiteXNNPackDelegate) node, yielding 1 partitions.\n",
      " 25%|████████████████████▍                                                            | 113/448 [00:12<00:35,  9.54it/s]Replacing 223 node(s) with delegate (TfLiteXNNPackDelegate) node, yielding 6 partitions.\n",
      "INFO: Replacing 318 node(s) with delegate (TfLiteXNNPackDelegate) node, yielding 1 partitions.\n",
      "INFO: Replacing 223 node(s) with delegate (TfLiteXNNPackDelegate) node, yielding 6 partitions.\n",
      " 25%|████████████████████▌                                                            | 114/448 [00:12<00:35,  9.37it/s]INFO: Replacing 318 node(s) with delegate (TfLiteXNNPackDelegate) node, yielding 1 partitions.\n",
      " 26%|████████████████████▊                                                            | 115/448 [00:12<00:35,  9.30it/s]Replacing 223 node(s) with delegate (TfLiteXNNPackDelegate) node, yielding 6 partitions.\n",
      "INFO: Replacing 318 node(s) with delegate (TfLiteXNNPackDelegate) node, yielding 1 partitions.\n",
      " 26%|████████████████████▉                                                            | 116/448 [00:12<00:36,  9.17it/s]INFO: Replacing 223 node(s) with delegate (TfLiteXNNPackDelegate) node, yielding 6 partitions.\n",
      "INFO: Replacing 318 node(s) with delegate (TfLiteXNNPackDelegate) node, yielding 1 partitions.\n",
      " 26%|█████████████████████▏                                                           | 117/448 [00:12<00:36,  9.11it/s]Replacing 223 node(s) with delegate (TfLiteXNNPackDelegate) node, yielding 6 partitions.\n",
      "INFO: Replacing 318 node(s) with delegate (TfLiteXNNPackDelegate) node, yielding 1 partitions.\n",
      " 26%|█████████████████████▎                                                           | 118/448 [00:12<00:36,  9.13it/s]Replacing 223 node(s) with delegate (TfLiteXNNPackDelegate) node, yielding 6 partitions.\n",
      "INFO: Replacing 318 node(s) with delegate (TfLiteXNNPackDelegate) node, yielding 1 partitions.\n",
      " 27%|█████████████████████▌                                                           | 119/448 [00:12<00:35,  9.25it/s]Replacing 223 node(s) with delegate (TfLiteXNNPackDelegate) node, yielding 6 partitions.\n",
      "INFO: Replacing 318 node(s) with delegate (TfLiteXNNPackDelegate) node, yielding 1 partitions.\n",
      " 27%|█████████████████████▋                                                           | 120/448 [00:12<00:35,  9.30it/s]Replacing 223 node(s) with delegate (TfLiteXNNPackDelegate) node, yielding 6 partitions.\n",
      "INFO: Replacing 318 node(s) with delegate (TfLiteXNNPackDelegate) node, yielding 1 partitions.\n",
      "INFO: Replacing 223 node(s) with delegate (TfLiteXNNPackDelegate) node, yielding 6 partitions.\n",
      "INFO: Replacing 318 node(s) with delegate (TfLiteXNNPackDelegate) node, yielding 1 partitions.\n",
      " 27%|██████████████████████                                                           | 122/448 [00:13<00:34,  9.42it/s]INFO: Replacing 223 node(s) with delegate (TfLiteXNNPackDelegate) node, yielding 6 partitions.\n",
      "INFO: Replacing 318 node(s) with delegate (TfLiteXNNPackDelegate) node, yielding 1 partitions.\n",
      " 27%|██████████████████████▏                                                          | 123/448 [00:13<00:34,  9.41it/s]INFO: Replacing 223 node(s) with delegate (TfLiteXNNPackDelegate) node, yielding 6 partitions.\n",
      "INFO: Replacing 318 node(s) with delegate (TfLiteXNNPackDelegate) node, yielding 1 partitions.\n",
      " 28%|██████████████████████▍                                                          | 124/448 [00:13<00:33,  9.54it/s]Replacing 223 node(s) with delegate (TfLiteXNNPackDelegate) node, yielding 6 partitions.\n",
      "INFO: Replacing 318 node(s) with delegate (TfLiteXNNPackDelegate) node, yielding 1 partitions.\n",
      "INFO: Replacing 223 node(s) with delegate (TfLiteXNNPackDelegate) node, yielding 6 partitions.\n",
      " 28%|██████████████████████▌                                                          | 125/448 [00:13<00:33,  9.56it/s]INFO: Replacing 318 node(s) with delegate (TfLiteXNNPackDelegate) node, yielding 1 partitions.\n",
      "INFO: Replacing 223 node(s) with delegate (TfLiteXNNPackDelegate) node, yielding 6 partitions.\n",
      "INFO: Replacing 318 node(s) with delegate (TfLiteXNNPackDelegate) node, yielding 1 partitions.\n",
      " 28%|██████████████████████▊                                                          | 126/448 [00:13<00:34,  9.43it/s]INFO: Replacing 223 node(s) with delegate (TfLiteXNNPackDelegate) node, yielding 6 partitions.\n",
      " 28%|██████████████████████▉                                                          | 127/448 [00:13<00:35,  9.07it/s]INFO: Replacing 318 node(s) with delegate (TfLiteXNNPackDelegate) node, yielding 1 partitions.\n",
      "INFO: Replacing 223 node(s) with delegate (TfLiteXNNPackDelegate) node, yielding 6 partitions.\n",
      " 29%|███████████████████████▏                                                         | 128/448 [00:13<00:35,  9.13it/s]INFO: Replacing 318 node(s) with delegate (TfLiteXNNPackDelegate) node, yielding 1 partitions.\n",
      " 29%|███████████████████████▎                                                         | 129/448 [00:13<00:34,  9.19it/s]Replacing 223 node(s) with delegate (TfLiteXNNPackDelegate) node, yielding 6 partitions.\n",
      "INFO: Replacing 318 node(s) with delegate (TfLiteXNNPackDelegate) node, yielding 1 partitions.\n",
      " 29%|███████████████████████▌                                                         | 130/448 [00:14<00:33,  9.39it/s]\n",
      "INFO: Replacing 318 node(s) with delegate (TfLiteXNNPackDelegate) node, yielding 1 partitions.\n",
      " 29%|███████████████████████▋                                                         | 131/448 [00:14<00:33,  9.55it/s]Replacing 223 node(s) with delegate (TfLiteXNNPackDelegate) node, yielding 6 partitions.\n",
      "INFO: Replacing 318 node(s) with delegate (TfLiteXNNPackDelegate) node, yielding 1 partitions.\n",
      "INFO: Replacing 223 node(s) with delegate (TfLiteXNNPackDelegate) node, yielding 6 partitions.\n",
      " 29%|███████████████████████▊                                                         | 132/448 [00:14<00:33,  9.48it/s]INFO: Replacing 318 node(s) with delegate (TfLiteXNNPackDelegate) node, yielding 1 partitions.\n",
      "INFO: Replacing 223 node(s) with delegate (TfLiteXNNPackDelegate) node, yielding 6 partitions.\n",
      "INFO: Replacing 318 node(s) with delegate (TfLiteXNNPackDelegate) node, yielding 1 partitions.\n",
      " 30%|████████████████████████▏                                                        | 134/448 [00:14<00:33,  9.44it/s]Replacing 223 node(s) with delegate (TfLiteXNNPackDelegate) node, yielding 6 partitions.\n",
      "INFO: Replacing 318 node(s) with delegate (TfLiteXNNPackDelegate) node, yielding 1 partitions.\n",
      "INFO: Replacing 223 node(s) with delegate (TfLiteXNNPackDelegate) node, yielding 6 partitions.\n",
      "INFO: Replacing 318 node(s) with delegate (TfLiteXNNPackDelegate) node, yielding 1 partitions.\n",
      " 30%|████████████████████████▌                                                        | 136/448 [00:14<00:32,  9.66it/s]Replacing 223 node(s) with delegate (TfLiteXNNPackDelegate) node, yielding 6 partitions.\n",
      "INFO: Replacing 318 node(s) with delegate (TfLiteXNNPackDelegate) node, yielding 1 partitions.\n",
      " 31%|████████████████████████▊                                                        | 137/448 [00:14<00:32,  9.55it/s]\n",
      "INFO: Replacing 318 node(s) with delegate (TfLiteXNNPackDelegate) node, yielding 1 partitions.\n",
      "INFO: Replacing 223 node(s) with delegate (TfLiteXNNPackDelegate) node, yielding 6 partitions.\n",
      "INFO: Replacing 318 node(s) with delegate (TfLiteXNNPackDelegate) node, yielding 1 partitions.\n",
      " 31%|█████████████████████████▏                                                       | 139/448 [00:14<00:32,  9.65it/s]Replacing 223 node(s) with delegate (TfLiteXNNPackDelegate) node, yielding 6 partitions.\n",
      "INFO: Replacing 318 node(s) with delegate (TfLiteXNNPackDelegate) node, yielding 1 partitions.\n",
      " 31%|█████████████████████████▎                                                       | 140/448 [00:15<00:31,  9.65it/s]Replacing 223 node(s) with delegate (TfLiteXNNPackDelegate) node, yielding 6 partitions.\n",
      "INFO: Replacing 318 node(s) with delegate (TfLiteXNNPackDelegate) node, yielding 1 partitions.\n",
      " 31%|█████████████████████████▍                                                       | 141/448 [00:15<00:32,  9.38it/s]Replacing 223 node(s) with delegate (TfLiteXNNPackDelegate) node, yielding 6 partitions.\n",
      "INFO: Replacing 318 node(s) with delegate (TfLiteXNNPackDelegate) node, yielding 1 partitions.\n",
      " 32%|█████████████████████████▋                                                       | 142/448 [00:15<00:32,  9.38it/s]Replacing 223 node(s) with delegate (TfLiteXNNPackDelegate) node, yielding 6 partitions.\n",
      "INFO: Replacing 318 node(s) with delegate (TfLiteXNNPackDelegate) node, yielding 1 partitions.\n",
      " 32%|█████████████████████████▊                                                       | 143/448 [00:15<00:33,  9.20it/s]Replacing 223 node(s) with delegate (TfLiteXNNPackDelegate) node, yielding 6 partitions.\n",
      "INFO: Replacing 318 node(s) with delegate (TfLiteXNNPackDelegate) node, yielding 1 partitions.\n",
      " 32%|██████████████████████████                                                       | 144/448 [00:15<00:32,  9.28it/s]Replacing 223 node(s) with delegate (TfLiteXNNPackDelegate) node, yielding 6 partitions.\n",
      "INFO: Replacing 318 node(s) with delegate (TfLiteXNNPackDelegate) node, yielding 1 partitions.\n",
      " 32%|██████████████████████████▏                                                      | 145/448 [00:15<00:32,  9.30it/s]\n",
      "INFO: Replacing 318 node(s) with delegate (TfLiteXNNPackDelegate) node, yielding 1 partitions.\n",
      "INFO: Replacing 223 node(s) with delegate (TfLiteXNNPackDelegate) node, yielding 6 partitions.\n",
      "INFO: Replacing 318 node(s) with delegate (TfLiteXNNPackDelegate) node, yielding 1 partitions.\n",
      " 33%|██████████████████████████▌                                                      | 147/448 [00:15<00:30,  9.82it/s]Replacing 223 node(s) with delegate (TfLiteXNNPackDelegate) node, yielding 6 partitions.\n",
      "INFO: Replacing 318 node(s) with delegate (TfLiteXNNPackDelegate) node, yielding 1 partitions.\n",
      " 33%|██████████████████████████▊                                                      | 148/448 [00:15<00:30,  9.85it/s]Replacing 223 node(s) with delegate (TfLiteXNNPackDelegate) node, yielding 6 partitions.\n",
      "INFO: Replacing 318 node(s) with delegate (TfLiteXNNPackDelegate) node, yielding 1 partitions.\n",
      "INFO: Replacing 223 node(s) with delegate (TfLiteXNNPackDelegate) node, yielding 6 partitions.\n",
      "INFO: Replacing 318 node(s) with delegate (TfLiteXNNPackDelegate) node, yielding 1 partitions.\n",
      " 33%|███████████████████████████                                                      | 150/448 [00:16<00:30,  9.73it/s]Replacing 223 node(s) with delegate (TfLiteXNNPackDelegate) node, yielding 6 partitions.\n",
      "INFO: Replacing 318 node(s) with delegate (TfLiteXNNPackDelegate) node, yielding 1 partitions.\n",
      " 34%|███████████████████████████▎                                                     | 151/448 [00:16<00:30,  9.64it/s]Replacing 223 node(s) with delegate (TfLiteXNNPackDelegate) node, yielding 6 partitions.\n",
      "INFO: Replacing 318 node(s) with delegate (TfLiteXNNPackDelegate) node, yielding 1 partitions.\n",
      " 34%|███████████████████████████▍                                                     | 152/448 [00:16<00:30,  9.57it/s]Replacing 223 node(s) with delegate (TfLiteXNNPackDelegate) node, yielding 6 partitions.\n",
      "INFO: Replacing 318 node(s) with delegate (TfLiteXNNPackDelegate) node, yielding 1 partitions.\n",
      "INFO: Replacing 223 node(s) with delegate (TfLiteXNNPackDelegate) node, yielding 6 partitions.\n",
      " 34%|███████████████████████████▋                                                     | 153/448 [00:16<00:30,  9.54it/s]INFO: Replacing 318 node(s) with delegate (TfLiteXNNPackDelegate) node, yielding 1 partitions.\n",
      "INFO: Replacing 223 node(s) with delegate (TfLiteXNNPackDelegate) node, yielding 6 partitions.\n",
      " 34%|███████████████████████████▊                                                     | 154/448 [00:16<00:30,  9.51it/s]INFO: Replacing 318 node(s) with delegate (TfLiteXNNPackDelegate) node, yielding 1 partitions.\n",
      " 35%|████████████████████████████                                                     | 155/448 [00:16<00:30,  9.51it/s]INFO: Replacing 223 node(s) with delegate (TfLiteXNNPackDelegate) node, yielding 6 partitions.\n",
      "INFO: Replacing 318 node(s) with delegate (TfLiteXNNPackDelegate) node, yielding 1 partitions.\n",
      " 35%|████████████████████████████▏                                                    | 156/448 [00:16<00:30,  9.45it/s]\n",
      "INFO: Replacing 318 node(s) with delegate (TfLiteXNNPackDelegate) node, yielding 1 partitions.\n",
      "INFO: Replacing 223 node(s) with delegate (TfLiteXNNPackDelegate) node, yielding 6 partitions.\n",
      "INFO: Replacing 318 node(s) with delegate (TfLiteXNNPackDelegate) node, yielding 1 partitions.\n",
      " 35%|████████████████████████████▌                                                    | 158/448 [00:16<00:28, 10.03it/s]Replacing 223 node(s) with delegate (TfLiteXNNPackDelegate) node, yielding 6 partitions.\n",
      "INFO: Replacing 318 node(s) with delegate (TfLiteXNNPackDelegate) node, yielding 1 partitions.\n",
      " 35%|████████████████████████████▋                                                    | 159/448 [00:17<00:29,  9.93it/s]Replacing 223 node(s) with delegate (TfLiteXNNPackDelegate) node, yielding 6 partitions.\n",
      "INFO: Replacing 318 node(s) with delegate (TfLiteXNNPackDelegate) node, yielding 1 partitions.\n",
      " 36%|████████████████████████████▉                                                    | 160/448 [00:17<00:29,  9.92it/s]\n",
      "INFO: Replacing 318 node(s) with delegate (TfLiteXNNPackDelegate) node, yielding 1 partitions.\n",
      "INFO: Replacing 223 node(s) with delegate (TfLiteXNNPackDelegate) node, yielding 6 partitions.\n",
      "INFO: Replacing 318 node(s) with delegate (TfLiteXNNPackDelegate) node, yielding 1 partitions.\n",
      " 36%|█████████████████████████████▎                                                   | 162/448 [00:17<00:29,  9.70it/s]Replacing 223 node(s) with delegate (TfLiteXNNPackDelegate) node, yielding 6 partitions.\n",
      "INFO: Replacing 318 node(s) with delegate (TfLiteXNNPackDelegate) node, yielding 1 partitions.\n",
      " 36%|█████████████████████████████▍                                                   | 163/448 [00:17<00:29,  9.63it/s]Replacing 223 node(s) with delegate (TfLiteXNNPackDelegate) node, yielding 6 partitions.\n",
      "INFO: Replacing 318 node(s) with delegate (TfLiteXNNPackDelegate) node, yielding 1 partitions.\n",
      " 37%|█████████████████████████████▋                                                   | 164/448 [00:17<00:29,  9.71it/s]Replacing 223 node(s) with delegate (TfLiteXNNPackDelegate) node, yielding 6 partitions.\n",
      "INFO: Replacing 318 node(s) with delegate (TfLiteXNNPackDelegate) node, yielding 1 partitions.\n",
      "INFO: Replacing 223 node(s) with delegate (TfLiteXNNPackDelegate) node, yielding 6 partitions.\n",
      "INFO: Replacing 318 node(s) with delegate (TfLiteXNNPackDelegate) node, yielding 1 partitions.\n",
      "INFO: Replacing 223 node(s) with delegate (TfLiteXNNPackDelegate) node, yielding 6 partitions.\n",
      " 37%|██████████████████████████████                                                   | 166/448 [00:17<00:28,  9.92it/s]INFO: Replacing 318 node(s) with delegate (TfLiteXNNPackDelegate) node, yielding 1 partitions.\n",
      "INFO: Replacing 223 node(s) with delegate (TfLiteXNNPackDelegate) node, yielding 6 partitions.\n",
      " 37%|██████████████████████████████▏                                                  | 167/448 [00:17<00:28,  9.85it/s]INFO: Replacing 318 node(s) with delegate (TfLiteXNNPackDelegate) node, yielding 1 partitions.\n",
      "INFO: Replacing 223 node(s) with delegate (TfLiteXNNPackDelegate) node, yielding 6 partitions.\n",
      "INFO: Replacing 318 node(s) with delegate (TfLiteXNNPackDelegate) node, yielding 1 partitions.\n",
      " 38%|██████████████████████████████▌                                                  | 169/448 [00:18<00:28,  9.85it/s]Replacing 223 node(s) with delegate (TfLiteXNNPackDelegate) node, yielding 6 partitions.\n",
      "INFO: Replacing 318 node(s) with delegate (TfLiteXNNPackDelegate) node, yielding 1 partitions.\n",
      " 38%|██████████████████████████████▋                                                  | 170/448 [00:18<00:28,  9.79it/s]Replacing 223 node(s) with delegate (TfLiteXNNPackDelegate) node, yielding 6 partitions.\n",
      "INFO: Replacing 318 node(s) with delegate (TfLiteXNNPackDelegate) node, yielding 1 partitions.\n",
      " 38%|██████████████████████████████▉                                                  | 171/448 [00:18<00:29,  9.53it/s]Replacing 223 node(s) with delegate (TfLiteXNNPackDelegate) node, yielding 6 partitions.\n",
      "INFO: Replacing 318 node(s) with delegate (TfLiteXNNPackDelegate) node, yielding 1 partitions.\n",
      " 38%|███████████████████████████████                                                  | 172/448 [00:18<00:28,  9.59it/s]Replacing 223 node(s) with delegate (TfLiteXNNPackDelegate) node, yielding 6 partitions.\n",
      "INFO: Replacing 318 node(s) with delegate (TfLiteXNNPackDelegate) node, yielding 1 partitions.\n",
      " 39%|███████████████████████████████▎                                                 | 173/448 [00:18<00:28,  9.63it/s]Replacing 223 node(s) with delegate (TfLiteXNNPackDelegate) node, yielding 6 partitions.\n",
      "INFO: Replacing 318 node(s) with delegate (TfLiteXNNPackDelegate) node, yielding 1 partitions.\n",
      "INFO: Replacing 223 node(s) with delegate (TfLiteXNNPackDelegate) node, yielding 6 partitions.\n",
      "INFO: Replacing 318 node(s) with delegate (TfLiteXNNPackDelegate) node, yielding 1 partitions.\n",
      " 39%|███████████████████████████████▋                                                 | 175/448 [00:18<00:27,  9.97it/s]Replacing 223 node(s) with delegate (TfLiteXNNPackDelegate) node, yielding 6 partitions.\n",
      "INFO: Replacing 318 node(s) with delegate (TfLiteXNNPackDelegate) node, yielding 1 partitions.\n",
      " 39%|███████████████████████████████▊                                                 | 176/448 [00:18<00:27,  9.84it/s]Replacing 223 node(s) with delegate (TfLiteXNNPackDelegate) node, yielding 6 partitions.\n",
      "INFO: Replacing 318 node(s) with delegate (TfLiteXNNPackDelegate) node, yielding 1 partitions.\n",
      "INFO: Replacing 223 node(s) with delegate (TfLiteXNNPackDelegate) node, yielding 6 partitions.\n",
      "INFO: Replacing 318 node(s) with delegate (TfLiteXNNPackDelegate) node, yielding 1 partitions.\n",
      " 40%|████████████████████████████████▏                                                | 178/448 [00:18<00:26, 10.02it/s]Replacing 223 node(s) with delegate (TfLiteXNNPackDelegate) node, yielding 6 partitions.\n",
      "INFO: Replacing 318 node(s) with delegate (TfLiteXNNPackDelegate) node, yielding 1 partitions.\n",
      " 40%|████████████████████████████████▎                                                | 179/448 [00:19<00:27,  9.87it/s]Replacing 223 node(s) with delegate (TfLiteXNNPackDelegate) node, yielding 6 partitions.\n",
      "INFO: Replacing 318 node(s) with delegate (TfLiteXNNPackDelegate) node, yielding 1 partitions.\n",
      "INFO: Replacing 223 node(s) with delegate (TfLiteXNNPackDelegate) node, yielding 6 partitions.\n",
      " 40%|████████████████████████████████▌                                                | 180/448 [00:19<00:27,  9.62it/s]INFO: Replacing 318 node(s) with delegate (TfLiteXNNPackDelegate) node, yielding 1 partitions.\n",
      "INFO: Replacing 223 node(s) with delegate (TfLiteXNNPackDelegate) node, yielding 6 partitions.\n",
      " 40%|████████████████████████████████▋                                                | 181/448 [00:19<00:28,  9.38it/s]INFO: Replacing 318 node(s) with delegate (TfLiteXNNPackDelegate) node, yielding 1 partitions.\n",
      "INFO: Replacing 223 node(s) with delegate (TfLiteXNNPackDelegate) node, yielding 6 partitions.\n",
      "INFO: Replacing 318 node(s) with delegate (TfLiteXNNPackDelegate) node, yielding 1 partitions.\n",
      " 41%|█████████████████████████████████                                                | 183/448 [00:19<00:27,  9.77it/s]Replacing 223 node(s) with delegate (TfLiteXNNPackDelegate) node, yielding 6 partitions.\n",
      "INFO: Replacing 318 node(s) with delegate (TfLiteXNNPackDelegate) node, yielding 1 partitions.\n",
      " 41%|█████████████████████████████████▎                                               | 184/448 [00:19<00:27,  9.73it/s]\n",
      "INFO: Replacing 318 node(s) with delegate (TfLiteXNNPackDelegate) node, yielding 1 partitions.\n",
      "INFO: Replacing 223 node(s) with delegate (TfLiteXNNPackDelegate) node, yielding 6 partitions.\n",
      " 41%|█████████████████████████████████▍                                               | 185/448 [00:19<00:27,  9.59it/s]INFO: Replacing 318 node(s) with delegate (TfLiteXNNPackDelegate) node, yielding 1 partitions.\n",
      " 42%|█████████████████████████████████▋                                               | 186/448 [00:19<00:28,  9.20it/s]\n",
      "INFO: Replacing 318 node(s) with delegate (TfLiteXNNPackDelegate) node, yielding 1 partitions.\n",
      " 42%|█████████████████████████████████▊                                               | 187/448 [00:19<00:28,  9.27it/s]INFO: Replacing 223 node(s) with delegate (TfLiteXNNPackDelegate) node, yielding 6 partitions.\n",
      "INFO: Replacing 318 node(s) with delegate (TfLiteXNNPackDelegate) node, yielding 1 partitions.\n",
      " 42%|█████████████████████████████████▉                                               | 188/448 [00:20<00:27,  9.41it/s]\n",
      "INFO: Replacing 318 node(s) with delegate (TfLiteXNNPackDelegate) node, yielding 1 partitions.\n",
      "INFO: Replacing 223 node(s) with delegate (TfLiteXNNPackDelegate) node, yielding 6 partitions.\n",
      "INFO: Replacing 318 node(s) with delegate (TfLiteXNNPackDelegate) node, yielding 1 partitions.\n",
      " 42%|██████████████████████████████████▎                                              | 190/448 [00:20<00:26,  9.86it/s]Replacing 223 node(s) with delegate (TfLiteXNNPackDelegate) node, yielding 6 partitions.\n",
      "INFO: Replacing 318 node(s) with delegate (TfLiteXNNPackDelegate) node, yielding 1 partitions.\n",
      "INFO: Replacing 223 node(s) with delegate (TfLiteXNNPackDelegate) node, yielding 6 partitions.\n",
      "INFO: Replacing 318 node(s) with delegate (TfLiteXNNPackDelegate) node, yielding 1 partitions.\n",
      " 43%|██████████████████████████████████▋                                              | 192/448 [00:20<00:26,  9.78it/s]Replacing 223 node(s) with delegate (TfLiteXNNPackDelegate) node, yielding 6 partitions.\n",
      "INFO: Replacing 318 node(s) with delegate (TfLiteXNNPackDelegate) node, yielding 1 partitions.\n",
      " 43%|██████████████████████████████████▉                                              | 193/448 [00:20<00:26,  9.71it/s]Replacing 223 node(s) with delegate (TfLiteXNNPackDelegate) node, yielding 6 partitions.\n",
      "INFO: Replacing 318 node(s) with delegate (TfLiteXNNPackDelegate) node, yielding 1 partitions.\n",
      " 43%|███████████████████████████████████                                              | 194/448 [00:20<00:26,  9.69it/s]Replacing 223 node(s) with delegate (TfLiteXNNPackDelegate) node, yielding 6 partitions.\n",
      "INFO: Replacing 318 node(s) with delegate (TfLiteXNNPackDelegate) node, yielding 1 partitions.\n",
      " 44%|███████████████████████████████████▎                                             | 195/448 [00:20<00:25,  9.76it/s]\n",
      "INFO: Replacing 318 node(s) with delegate (TfLiteXNNPackDelegate) node, yielding 1 partitions.\n",
      " 44%|███████████████████████████████████▍                                             | 196/448 [00:20<00:26,  9.59it/s]Replacing 223 node(s) with delegate (TfLiteXNNPackDelegate) node, yielding 6 partitions.\n",
      "INFO: Replacing 318 node(s) with delegate (TfLiteXNNPackDelegate) node, yielding 1 partitions.\n",
      "INFO: Replacing 223 node(s) with delegate (TfLiteXNNPackDelegate) node, yielding 6 partitions.\n",
      "INFO: Replacing 318 node(s) with delegate (TfLiteXNNPackDelegate) node, yielding 1 partitions.\n",
      "INFO: Replacing 223 node(s) with delegate (TfLiteXNNPackDelegate) node, yielding 6 partitions.\n",
      " 44%|███████████████████████████████████▊                                             | 198/448 [00:21<00:24, 10.00it/s]INFO: Replacing 318 node(s) with delegate (TfLiteXNNPackDelegate) node, yielding 1 partitions.\n",
      " 44%|███████████████████████████████████▉                                             | 199/448 [00:21<00:25,  9.94it/s]\n",
      "INFO: Replacing 318 node(s) with delegate (TfLiteXNNPackDelegate) node, yielding 1 partitions.\n",
      " 45%|████████████████████████████████████▏                                            | 200/448 [00:21<00:25,  9.77it/s]Replacing 223 node(s) with delegate (TfLiteXNNPackDelegate) node, yielding 6 partitions.\n",
      "INFO: Replacing 318 node(s) with delegate (TfLiteXNNPackDelegate) node, yielding 1 partitions.\n",
      " 45%|████████████████████████████████████▎                                            | 201/448 [00:21<00:25,  9.70it/s]Replacing 223 node(s) with delegate (TfLiteXNNPackDelegate) node, yielding 6 partitions.\n",
      "INFO: Replacing 318 node(s) with delegate (TfLiteXNNPackDelegate) node, yielding 1 partitions.\n",
      " 45%|████████████████████████████████████▌                                            | 202/448 [00:21<00:25,  9.59it/s]Replacing 223 node(s) with delegate (TfLiteXNNPackDelegate) node, yielding 6 partitions.\n",
      "INFO: Replacing 318 node(s) with delegate (TfLiteXNNPackDelegate) node, yielding 1 partitions.\n",
      " 45%|████████████████████████████████████▋                                            | 203/448 [00:21<00:26,  9.39it/s]Replacing 223 node(s) with delegate (TfLiteXNNPackDelegate) node, yielding 6 partitions.\n",
      "INFO: Replacing 318 node(s) with delegate (TfLiteXNNPackDelegate) node, yielding 1 partitions.\n",
      " 46%|████████████████████████████████████▉                                            | 204/448 [00:21<00:25,  9.39it/s]\n",
      "INFO: Replacing 318 node(s) with delegate (TfLiteXNNPackDelegate) node, yielding 1 partitions.\n",
      "INFO: Replacing 223 node(s) with delegate (TfLiteXNNPackDelegate) node, yielding 6 partitions.\n",
      "INFO: Replacing 318 node(s) with delegate (TfLiteXNNPackDelegate) node, yielding 1 partitions.\n",
      " 46%|█████████████████████████████████████▏                                           | 206/448 [00:21<00:24,  9.81it/s]Replacing 223 node(s) with delegate (TfLiteXNNPackDelegate) node, yielding 6 partitions.\n",
      "INFO: Replacing 318 node(s) with delegate (TfLiteXNNPackDelegate) node, yielding 1 partitions.\n",
      " 46%|█████████████████████████████████████▍                                           | 207/448 [00:22<00:24,  9.65it/s]\n",
      "INFO: Replacing 318 node(s) with delegate (TfLiteXNNPackDelegate) node, yielding 1 partitions.\n",
      " 46%|█████████████████████████████████████▌                                           | 208/448 [00:22<00:24,  9.69it/s]Replacing 223 node(s) with delegate (TfLiteXNNPackDelegate) node, yielding 6 partitions.\n",
      "INFO: Replacing 318 node(s) with delegate (TfLiteXNNPackDelegate) node, yielding 1 partitions.\n",
      "INFO: Replacing 223 node(s) with delegate (TfLiteXNNPackDelegate) node, yielding 6 partitions.\n",
      "INFO: Replacing 318 node(s) with delegate (TfLiteXNNPackDelegate) node, yielding 1 partitions.\n",
      "INFO: Replacing 223 node(s) with delegate (TfLiteXNNPackDelegate) node, yielding 6 partitions.\n",
      " 47%|█████████████████████████████████████▉                                           | 210/448 [00:22<00:24,  9.89it/s]INFO: Replacing 318 node(s) with delegate (TfLiteXNNPackDelegate) node, yielding 1 partitions.\n",
      " 47%|██████████████████████████████████████▏                                          | 211/448 [00:22<00:24,  9.69it/s]Replacing 223 node(s) with delegate (TfLiteXNNPackDelegate) node, yielding 6 partitions.\n",
      "INFO: Replacing 318 node(s) with delegate (TfLiteXNNPackDelegate) node, yielding 1 partitions.\n",
      "INFO: Replacing 223 node(s) with delegate (TfLiteXNNPackDelegate) node, yielding 6 partitions.\n",
      "INFO: Replacing 318 node(s) with delegate (TfLiteXNNPackDelegate) node, yielding 1 partitions.\n",
      " 48%|██████████████████████████████████████▌                                          | 213/448 [00:22<00:23,  9.87it/s]Replacing 223 node(s) with delegate (TfLiteXNNPackDelegate) node, yielding 6 partitions.\n",
      "INFO: Replacing 318 node(s) with delegate (TfLiteXNNPackDelegate) node, yielding 1 partitions.\n",
      "INFO: Replacing 223 node(s) with delegate (TfLiteXNNPackDelegate) node, yielding 6 partitions.\n",
      "INFO: Replacing 318 node(s) with delegate (TfLiteXNNPackDelegate) node, yielding 1 partitions.\n",
      " 48%|██████████████████████████████████████▊                                          | 215/448 [00:22<00:23,  9.84it/s]Replacing 223 node(s) with delegate (TfLiteXNNPackDelegate) node, yielding 6 partitions.\n",
      "INFO: Replacing 318 node(s) with delegate (TfLiteXNNPackDelegate) node, yielding 1 partitions.\n",
      "INFO: Replacing 223 node(s) with delegate (TfLiteXNNPackDelegate) node, yielding 6 partitions.\n",
      " 48%|███████████████████████████████████████                                          | 216/448 [00:22<00:23,  9.83it/s]INFO: Replacing 318 node(s) with delegate (TfLiteXNNPackDelegate) node, yielding 1 partitions.\n",
      " 48%|███████████████████████████████████████▏                                         | 217/448 [00:23<00:23,  9.75it/s]Replacing 223 node(s) with delegate (TfLiteXNNPackDelegate) node, yielding 6 partitions.\n",
      "INFO: Replacing 318 node(s) with delegate (TfLiteXNNPackDelegate) node, yielding 1 partitions.\n",
      "INFO: Replacing 223 node(s) with delegate (TfLiteXNNPackDelegate) node, yielding 6 partitions.\n",
      " 49%|███████████████████████████████████████▍                                         | 218/448 [00:23<00:23,  9.66it/s]INFO: Replacing 318 node(s) with delegate (TfLiteXNNPackDelegate) node, yielding 1 partitions.\n",
      " 49%|███████████████████████████████████████▌                                         | 219/448 [00:23<00:23,  9.70it/s]INFO: Replacing 223 node(s) with delegate (TfLiteXNNPackDelegate) node, yielding 6 partitions.\n",
      "INFO: Replacing 318 node(s) with delegate (TfLiteXNNPackDelegate) node, yielding 1 partitions.\n",
      " 49%|███████████████████████████████████████▊                                         | 220/448 [00:23<00:23,  9.51it/s]Replacing 223 node(s) with delegate (TfLiteXNNPackDelegate) node, yielding 6 partitions.\n",
      "INFO: Replacing 318 node(s) with delegate (TfLiteXNNPackDelegate) node, yielding 1 partitions.\n",
      "INFO: Replacing 223 node(s) with delegate (TfLiteXNNPackDelegate) node, yielding 6 partitions.\n",
      "INFO: Replacing 318 node(s) with delegate (TfLiteXNNPackDelegate) node, yielding 1 partitions.\n",
      " 50%|████████████████████████████████████████▏                                        | 222/448 [00:23<00:22, 10.21it/s]Replacing 223 node(s) with delegate (TfLiteXNNPackDelegate) node, yielding 6 partitions.\n",
      "INFO: Replacing 318 node(s) with delegate (TfLiteXNNPackDelegate) node, yielding 1 partitions.\n",
      "INFO: Replacing 223 node(s) with delegate (TfLiteXNNPackDelegate) node, yielding 6 partitions.\n",
      "INFO: Replacing 318 node(s) with delegate (TfLiteXNNPackDelegate) node, yielding 1 partitions.\n",
      " 50%|████████████████████████████████████████▌                                        | 224/448 [00:23<00:22, 10.04it/s]Replacing 223 node(s) with delegate (TfLiteXNNPackDelegate) node, yielding 6 partitions.\n",
      "INFO: Replacing 318 node(s) with delegate (TfLiteXNNPackDelegate) node, yielding 1 partitions.\n",
      " 50%|████████████████████████████████████████▋                                        | 225/448 [00:23<00:23,  9.69it/s]Replacing 223 node(s) with delegate (TfLiteXNNPackDelegate) node, yielding 6 partitions.\n",
      "INFO: Replacing 318 node(s) with delegate (TfLiteXNNPackDelegate) node, yielding 1 partitions.\n",
      "INFO: Replacing 223 node(s) with delegate (TfLiteXNNPackDelegate) node, yielding 6 partitions.\n",
      "INFO: Replacing 318 node(s) with delegate (TfLiteXNNPackDelegate) node, yielding 1 partitions.\n",
      "INFO: Replacing 223 node(s) with delegate (TfLiteXNNPackDelegate) node, yielding 6 partitions.\n",
      " 51%|█████████████████████████████████████████                                        | 227/448 [00:24<00:22,  9.62it/s]INFO: Replacing 318 node(s) with delegate (TfLiteXNNPackDelegate) node, yielding 1 partitions.\n",
      "INFO: Replacing 223 node(s) with delegate (TfLiteXNNPackDelegate) node, yielding 6 partitions.\n",
      "INFO: Replacing 318 node(s) with delegate (TfLiteXNNPackDelegate) node, yielding 1 partitions.\n",
      " 51%|█████████████████████████████████████████▍                                       | 229/448 [00:24<00:22,  9.78it/s]Replacing 223 node(s) with delegate (TfLiteXNNPackDelegate) node, yielding 6 partitions.\n",
      "INFO: Replacing 318 node(s) with delegate (TfLiteXNNPackDelegate) node, yielding 1 partitions.\n",
      "INFO: Replacing 223 node(s) with delegate (TfLiteXNNPackDelegate) node, yielding 6 partitions.\n",
      "INFO: Replacing 318 node(s) with delegate (TfLiteXNNPackDelegate) node, yielding 1 partitions.\n",
      " 52%|█████████████████████████████████████████▊                                       | 231/448 [00:24<00:22,  9.69it/s]INFO: Replacing 223 node(s) with delegate (TfLiteXNNPackDelegate) node, yielding 6 partitions.\n",
      "INFO: Replacing 318 node(s) with delegate (TfLiteXNNPackDelegate) node, yielding 1 partitions.\n",
      "INFO: Replacing 223 node(s) with delegate (TfLiteXNNPackDelegate) node, yielding 6 partitions.\n",
      " 52%|█████████████████████████████████████████▉                                       | 232/448 [00:24<00:22,  9.74it/s]INFO: Replacing 318 node(s) with delegate (TfLiteXNNPackDelegate) node, yielding 1 partitions.\n",
      "INFO: Replacing 223 node(s) with delegate (TfLiteXNNPackDelegate) node, yielding 6 partitions.\n",
      "INFO: Replacing 318 node(s) with delegate (TfLiteXNNPackDelegate) node, yielding 1 partitions.\n",
      " 52%|██████████████████████████████████████████▎                                      | 234/448 [00:24<00:21,  9.89it/s]\n",
      "INFO: Replacing 318 node(s) with delegate (TfLiteXNNPackDelegate) node, yielding 1 partitions.\n",
      " 52%|██████████████████████████████████████████▍                                      | 235/448 [00:24<00:22,  9.57it/s]Replacing 223 node(s) with delegate (TfLiteXNNPackDelegate) node, yielding 6 partitions.\n",
      "INFO: Replacing 318 node(s) with delegate (TfLiteXNNPackDelegate) node, yielding 1 partitions.\n",
      " 53%|██████████████████████████████████████████▋                                      | 236/448 [00:24<00:21,  9.64it/s]INFO: Replacing 223 node(s) with delegate (TfLiteXNNPackDelegate) node, yielding 6 partitions.\n",
      "INFO: Replacing 318 node(s) with delegate (TfLiteXNNPackDelegate) node, yielding 1 partitions.\n",
      "INFO: Replacing 223 node(s) with delegate (TfLiteXNNPackDelegate) node, yielding 6 partitions.\n",
      " 53%|██████████████████████████████████████████▊                                      | 237/448 [00:25<00:21,  9.63it/s]INFO: Replacing 318 node(s) with delegate (TfLiteXNNPackDelegate) node, yielding 1 partitions.\n",
      " 53%|███████████████████████████████████████████                                      | 238/448 [00:25<00:21,  9.61it/s]INFO: Replacing 223 node(s) with delegate (TfLiteXNNPackDelegate) node, yielding 6 partitions.\n",
      "INFO: Replacing 318 node(s) with delegate (TfLiteXNNPackDelegate) node, yielding 1 partitions.\n",
      " 53%|███████████████████████████████████████████▏                                     | 239/448 [00:25<00:21,  9.62it/s]Replacing 223 node(s) with delegate (TfLiteXNNPackDelegate) node, yielding 6 partitions.\n",
      "INFO: Replacing 318 node(s) with delegate (TfLiteXNNPackDelegate) node, yielding 1 partitions.\n",
      " 54%|███████████████████████████████████████████▍                                     | 240/448 [00:25<00:22,  9.42it/s]Replacing 223 node(s) with delegate (TfLiteXNNPackDelegate) node, yielding 6 partitions.\n",
      "INFO: Replacing 318 node(s) with delegate (TfLiteXNNPackDelegate) node, yielding 1 partitions.\n",
      " 54%|███████████████████████████████████████████▌                                     | 241/448 [00:25<00:22,  9.31it/s]Replacing 223 node(s) with delegate (TfLiteXNNPackDelegate) node, yielding 6 partitions.\n",
      "INFO: Replacing 318 node(s) with delegate (TfLiteXNNPackDelegate) node, yielding 1 partitions.\n",
      "INFO: Replacing 223 node(s) with delegate (TfLiteXNNPackDelegate) node, yielding 6 partitions.\n",
      " 54%|███████████████████████████████████████████▊                                     | 242/448 [00:25<00:22,  9.30it/s]INFO: Replacing 318 node(s) with delegate (TfLiteXNNPackDelegate) node, yielding 1 partitions.\n",
      " 54%|███████████████████████████████████████████▉                                     | 243/448 [00:25<00:22,  9.08it/s]\n",
      "INFO: Replacing 318 node(s) with delegate (TfLiteXNNPackDelegate) node, yielding 1 partitions.\n",
      "INFO: Replacing 223 node(s) with delegate (TfLiteXNNPackDelegate) node, yielding 6 partitions.\n",
      "INFO: Replacing 318 node(s) with delegate (TfLiteXNNPackDelegate) node, yielding 1 partitions.\n",
      " 55%|████████████████████████████████████████████▎                                    | 245/448 [00:25<00:21,  9.43it/s]\n",
      "INFO: Replacing 318 node(s) with delegate (TfLiteXNNPackDelegate) node, yielding 1 partitions.\n",
      " 55%|████████████████████████████████████████████▍                                    | 246/448 [00:26<00:21,  9.37it/s]Replacing 223 node(s) with delegate (TfLiteXNNPackDelegate) node, yielding 6 partitions.\n",
      "INFO: Replacing 318 node(s) with delegate (TfLiteXNNPackDelegate) node, yielding 1 partitions.\n",
      " 55%|████████████████████████████████████████████▋                                    | 247/448 [00:26<00:21,  9.52it/s]Replacing 223 node(s) with delegate (TfLiteXNNPackDelegate) node, yielding 6 partitions.\n",
      "INFO: Replacing 318 node(s) with delegate (TfLiteXNNPackDelegate) node, yielding 1 partitions.\n",
      "INFO: Replacing 223 node(s) with delegate (TfLiteXNNPackDelegate) node, yielding 6 partitions.\n",
      "INFO: Replacing 318 node(s) with delegate (TfLiteXNNPackDelegate) node, yielding 1 partitions.\n",
      " 56%|█████████████████████████████████████████████                                    | 249/448 [00:26<00:20,  9.77it/s]\n",
      "INFO: Replacing 318 node(s) with delegate (TfLiteXNNPackDelegate) node, yielding 1 partitions.\n",
      "INFO: Replacing 223 node(s) with delegate (TfLiteXNNPackDelegate) node, yielding 6 partitions.\n",
      " 56%|█████████████████████████████████████████████▏                                   | 250/448 [00:26<00:20,  9.81it/s]INFO: Replacing 318 node(s) with delegate (TfLiteXNNPackDelegate) node, yielding 1 partitions.\n",
      " 56%|█████████████████████████████████████████████▍                                   | 251/448 [00:26<00:20,  9.52it/s]\n",
      "INFO: Replacing 318 node(s) with delegate (TfLiteXNNPackDelegate) node, yielding 1 partitions.\n",
      " 56%|█████████████████████████████████████████████▌                                   | 252/448 [00:26<00:20,  9.56it/s]\n",
      "INFO: Replacing 318 node(s) with delegate (TfLiteXNNPackDelegate) node, yielding 1 partitions.\n",
      " 56%|█████████████████████████████████████████████▋                                   | 253/448 [00:26<00:20,  9.45it/s]Replacing 223 node(s) with delegate (TfLiteXNNPackDelegate) node, yielding 6 partitions.\n",
      "INFO: Replacing 318 node(s) with delegate (TfLiteXNNPackDelegate) node, yielding 1 partitions.\n",
      "INFO: Replacing 223 node(s) with delegate (TfLiteXNNPackDelegate) node, yielding 6 partitions.\n",
      "INFO: Replacing 318 node(s) with delegate (TfLiteXNNPackDelegate) node, yielding 1 partitions.\n",
      " 57%|██████████████████████████████████████████████                                   | 255/448 [00:26<00:19,  9.92it/s]Replacing 223 node(s) with delegate (TfLiteXNNPackDelegate) node, yielding 6 partitions.\n",
      "INFO: Replacing 318 node(s) with delegate (TfLiteXNNPackDelegate) node, yielding 1 partitions.\n",
      " 57%|██████████████████████████████████████████████▎                                  | 256/448 [00:27<00:19,  9.67it/s]\n",
      "INFO: Replacing 318 node(s) with delegate (TfLiteXNNPackDelegate) node, yielding 1 partitions.\n",
      " 57%|██████████████████████████████████████████████▍                                  | 257/448 [00:27<00:19,  9.74it/s]Replacing 223 node(s) with delegate (TfLiteXNNPackDelegate) node, yielding 6 partitions.\n",
      "INFO: Replacing 318 node(s) with delegate (TfLiteXNNPackDelegate) node, yielding 1 partitions.\n",
      " 58%|██████████████████████████████████████████████▋                                  | 258/448 [00:27<00:19,  9.78it/s]Replacing 223 node(s) with delegate (TfLiteXNNPackDelegate) node, yielding 6 partitions.\n",
      "INFO: Replacing 318 node(s) with delegate (TfLiteXNNPackDelegate) node, yielding 1 partitions.\n",
      "INFO: Replacing 223 node(s) with delegate (TfLiteXNNPackDelegate) node, yielding 6 partitions.\n",
      "INFO: Replacing 318 node(s) with delegate (TfLiteXNNPackDelegate) node, yielding 1 partitions.\n",
      "INFO: Replacing 223 node(s) with delegate (TfLiteXNNPackDelegate) node, yielding 6 partitions.\n",
      " 58%|███████████████████████████████████████████████                                  | 260/448 [00:27<00:18, 10.01it/s]INFO: Replacing 318 node(s) with delegate (TfLiteXNNPackDelegate) node, yielding 1 partitions.\n",
      "INFO: Replacing 223 node(s) with delegate (TfLiteXNNPackDelegate) node, yielding 6 partitions.\n",
      "INFO: Replacing 318 node(s) with delegate (TfLiteXNNPackDelegate) node, yielding 1 partitions.\n",
      " 58%|███████████████████████████████████████████████▎                                 | 262/448 [00:27<00:18, 10.01it/s]Replacing 223 node(s) with delegate (TfLiteXNNPackDelegate) node, yielding 6 partitions.\n",
      "INFO: Replacing 318 node(s) with delegate (TfLiteXNNPackDelegate) node, yielding 1 partitions.\n",
      " 59%|███████████████████████████████████████████████▌                                 | 263/448 [00:27<00:18,  9.98it/s]Replacing 223 node(s) with delegate (TfLiteXNNPackDelegate) node, yielding 6 partitions.\n",
      "INFO: Replacing 318 node(s) with delegate (TfLiteXNNPackDelegate) node, yielding 1 partitions.\n",
      "INFO: Replacing 223 node(s) with delegate (TfLiteXNNPackDelegate) node, yielding 6 partitions.\n",
      " 59%|███████████████████████████████████████████████▋                                 | 264/448 [00:27<00:18,  9.83it/s]INFO: Replacing 318 node(s) with delegate (TfLiteXNNPackDelegate) node, yielding 1 partitions.\n",
      " 59%|███████████████████████████████████████████████▉                                 | 265/448 [00:27<00:18,  9.78it/s]Replacing 223 node(s) with delegate (TfLiteXNNPackDelegate) node, yielding 6 partitions.\n",
      "INFO: Replacing 318 node(s) with delegate (TfLiteXNNPackDelegate) node, yielding 1 partitions.\n",
      " 59%|████████████████████████████████████████████████                                 | 266/448 [00:28<00:18,  9.78it/s]Replacing 223 node(s) with delegate (TfLiteXNNPackDelegate) node, yielding 6 partitions.\n",
      "INFO: Replacing 318 node(s) with delegate (TfLiteXNNPackDelegate) node, yielding 1 partitions.\n",
      "INFO: Replacing 223 node(s) with delegate (TfLiteXNNPackDelegate) node, yielding 6 partitions.\n",
      "INFO: Replacing 318 node(s) with delegate (TfLiteXNNPackDelegate) node, yielding 1 partitions.\n",
      " 60%|████████████████████████████████████████████████▍                                | 268/448 [00:28<00:18,  9.86it/s]Replacing 223 node(s) with delegate (TfLiteXNNPackDelegate) node, yielding 6 partitions.\n",
      "INFO: Replacing 318 node(s) with delegate (TfLiteXNNPackDelegate) node, yielding 1 partitions.\n",
      "INFO: Replacing 223 node(s) with delegate (TfLiteXNNPackDelegate) node, yielding 6 partitions.\n",
      "INFO: Replacing 318 node(s) with delegate (TfLiteXNNPackDelegate) node, yielding 1 partitions.\n",
      " 60%|████████████████████████████████████████████████▊                                | 270/448 [00:28<00:17,  9.94it/s]Replacing 223 node(s) with delegate (TfLiteXNNPackDelegate) node, yielding 6 partitions.\n",
      "INFO: Replacing 318 node(s) with delegate (TfLiteXNNPackDelegate) node, yielding 1 partitions.\n",
      "INFO: Replacing 223 node(s) with delegate (TfLiteXNNPackDelegate) node, yielding 6 partitions.\n",
      "INFO: Replacing 318 node(s) with delegate (TfLiteXNNPackDelegate) node, yielding 1 partitions.\n",
      " 61%|█████████████████████████████████████████████████▏                               | 272/448 [00:28<00:17,  9.81it/s]Replacing 223 node(s) with delegate (TfLiteXNNPackDelegate) node, yielding 6 partitions.\n",
      "INFO: Replacing 318 node(s) with delegate (TfLiteXNNPackDelegate) node, yielding 1 partitions.\n",
      "INFO: Replacing 223 node(s) with delegate (TfLiteXNNPackDelegate) node, yielding 6 partitions.\n",
      "INFO: Replacing 318 node(s) with delegate (TfLiteXNNPackDelegate) node, yielding 1 partitions.\n",
      " 61%|█████████████████████████████████████████████████▌                               | 274/448 [00:28<00:17,  9.98it/s]Replacing 223 node(s) with delegate (TfLiteXNNPackDelegate) node, yielding 6 partitions.\n",
      "INFO: Replacing 318 node(s) with delegate (TfLiteXNNPackDelegate) node, yielding 1 partitions.\n",
      " 61%|█████████████████████████████████████████████████▋                               | 275/448 [00:29<00:17,  9.66it/s]Replacing 223 node(s) with delegate (TfLiteXNNPackDelegate) node, yielding 6 partitions.\n",
      "INFO: Replacing 318 node(s) with delegate (TfLiteXNNPackDelegate) node, yielding 1 partitions.\n",
      "INFO: Replacing 223 node(s) with delegate (TfLiteXNNPackDelegate) node, yielding 6 partitions.\n",
      "INFO: Replacing 318 node(s) with delegate (TfLiteXNNPackDelegate) node, yielding 1 partitions.\n",
      " 62%|██████████████████████████████████████████████████                               | 277/448 [00:29<00:17,  9.77it/s]Replacing 223 node(s) with delegate (TfLiteXNNPackDelegate) node, yielding 6 partitions.\n",
      "INFO: Replacing 318 node(s) with delegate (TfLiteXNNPackDelegate) node, yielding 1 partitions.\n",
      "INFO: Replacing 223 node(s) with delegate (TfLiteXNNPackDelegate) node, yielding 6 partitions.\n",
      " 62%|██████████████████████████████████████████████████▎                              | 278/448 [00:29<00:17,  9.78it/s]INFO: Replacing 318 node(s) with delegate (TfLiteXNNPackDelegate) node, yielding 1 partitions.\n",
      " 62%|██████████████████████████████████████████████████▍                              | 279/448 [00:29<00:17,  9.69it/s]INFO: Replacing 223 node(s) with delegate (TfLiteXNNPackDelegate) node, yielding 6 partitions.\n",
      "INFO: Replacing 318 node(s) with delegate (TfLiteXNNPackDelegate) node, yielding 1 partitions.\n",
      " 62%|██████████████████████████████████████████████████▋                              | 280/448 [00:29<00:17,  9.68it/s]Replacing 223 node(s) with delegate (TfLiteXNNPackDelegate) node, yielding 6 partitions.\n",
      "INFO: Replacing 318 node(s) with delegate (TfLiteXNNPackDelegate) node, yielding 1 partitions.\n",
      " 63%|██████████████████████████████████████████████████▊                              | 281/448 [00:29<00:17,  9.63it/s]Replacing 223 node(s) with delegate (TfLiteXNNPackDelegate) node, yielding 6 partitions.\n",
      "INFO: Replacing 318 node(s) with delegate (TfLiteXNNPackDelegate) node, yielding 1 partitions.\n",
      " 63%|██████████████████████████████████████████████████▉                              | 282/448 [00:29<00:17,  9.52it/s]\n",
      "INFO: Replacing 318 node(s) with delegate (TfLiteXNNPackDelegate) node, yielding 1 partitions.\n",
      "INFO: Replacing 223 node(s) with delegate (TfLiteXNNPackDelegate) node, yielding 6 partitions.\n",
      "INFO: Replacing 318 node(s) with delegate (TfLiteXNNPackDelegate) node, yielding 1 partitions.\n",
      " 63%|███████████████████████████████████████████████████▎                             | 284/448 [00:29<00:16,  9.67it/s]\n",
      "INFO: Replacing 318 node(s) with delegate (TfLiteXNNPackDelegate) node, yielding 1 partitions.\n",
      "INFO: Replacing 223 node(s) with delegate (TfLiteXNNPackDelegate) node, yielding 6 partitions.\n",
      "INFO: Replacing 318 node(s) with delegate (TfLiteXNNPackDelegate) node, yielding 1 partitions.\n",
      " 64%|███████████████████████████████████████████████████▋                             | 286/448 [00:30<00:16,  9.79it/s]Replacing 223 node(s) with delegate (TfLiteXNNPackDelegate) node, yielding 6 partitions.\n",
      "INFO: Replacing 318 node(s) with delegate (TfLiteXNNPackDelegate) node, yielding 1 partitions.\n",
      "INFO: Replacing 223 node(s) with delegate (TfLiteXNNPackDelegate) node, yielding 6 partitions.\n",
      "INFO: Replacing 318 node(s) with delegate (TfLiteXNNPackDelegate) node, yielding 1 partitions.\n",
      " 64%|████████████████████████████████████████████████████                             | 288/448 [00:30<00:15, 10.00it/s]Replacing 223 node(s) with delegate (TfLiteXNNPackDelegate) node, yielding 6 partitions.\n",
      "INFO: Replacing 318 node(s) with delegate (TfLiteXNNPackDelegate) node, yielding 1 partitions.\n",
      "INFO: Replacing 223 node(s) with delegate (TfLiteXNNPackDelegate) node, yielding 6 partitions.\n",
      "INFO: Replacing 318 node(s) with delegate (TfLiteXNNPackDelegate) node, yielding 1 partitions.\n",
      " 65%|████████████████████████████████████████████████████▍                            | 290/448 [00:30<00:15, 10.09it/s]Replacing 223 node(s) with delegate (TfLiteXNNPackDelegate) node, yielding 6 partitions.\n",
      "INFO: Replacing 318 node(s) with delegate (TfLiteXNNPackDelegate) node, yielding 1 partitions.\n",
      "INFO: Replacing 223 node(s) with delegate (TfLiteXNNPackDelegate) node, yielding 6 partitions.\n",
      "INFO: Replacing 318 node(s) with delegate (TfLiteXNNPackDelegate) node, yielding 1 partitions.\n",
      " 65%|████████████████████████████████████████████████████▊                            | 292/448 [00:30<00:15,  9.97it/s]Replacing 223 node(s) with delegate (TfLiteXNNPackDelegate) node, yielding 6 partitions.\n",
      "INFO: Replacing 318 node(s) with delegate (TfLiteXNNPackDelegate) node, yielding 1 partitions.\n",
      "INFO: Replacing 223 node(s) with delegate (TfLiteXNNPackDelegate) node, yielding 6 partitions.\n",
      "INFO: Replacing 318 node(s) with delegate (TfLiteXNNPackDelegate) node, yielding 1 partitions.\n",
      " 66%|█████████████████████████████████████████████████████▏                           | 294/448 [00:30<00:15, 10.20it/s]Replacing 223 node(s) with delegate (TfLiteXNNPackDelegate) node, yielding 6 partitions.\n",
      "INFO: Replacing 318 node(s) with delegate (TfLiteXNNPackDelegate) node, yielding 1 partitions.\n",
      "INFO: Replacing 223 node(s) with delegate (TfLiteXNNPackDelegate) node, yielding 6 partitions.\n",
      "INFO: Replacing 318 node(s) with delegate (TfLiteXNNPackDelegate) node, yielding 1 partitions.\n",
      " 66%|█████████████████████████████████████████████████████▌                           | 296/448 [00:31<00:14, 10.17it/s]Replacing 223 node(s) with delegate (TfLiteXNNPackDelegate) node, yielding 6 partitions.\n",
      "INFO: Replacing 318 node(s) with delegate (TfLiteXNNPackDelegate) node, yielding 1 partitions.\n",
      "INFO: Replacing 223 node(s) with delegate (TfLiteXNNPackDelegate) node, yielding 6 partitions.\n",
      "INFO: Replacing 318 node(s) with delegate (TfLiteXNNPackDelegate) node, yielding 1 partitions.\n",
      " 67%|█████████████████████████████████████████████████████▉                           | 298/448 [00:31<00:14, 10.21it/s]\n",
      "INFO: Replacing 318 node(s) with delegate (TfLiteXNNPackDelegate) node, yielding 1 partitions.\n",
      "INFO: Replacing 223 node(s) with delegate (TfLiteXNNPackDelegate) node, yielding 6 partitions.\n",
      "INFO: Replacing 318 node(s) with delegate (TfLiteXNNPackDelegate) node, yielding 1 partitions.\n",
      "INFO: Replacing 223 node(s) with delegate (TfLiteXNNPackDelegate) node, yielding 6 partitions.\n",
      " 67%|██████████████████████████████████████████████████████▏                          | 300/448 [00:31<00:14, 10.09it/s]INFO: Replacing 318 node(s) with delegate (TfLiteXNNPackDelegate) node, yielding 1 partitions.\n",
      "INFO: Replacing 223 node(s) with delegate (TfLiteXNNPackDelegate) node, yielding 6 partitions.\n",
      "INFO: Replacing 318 node(s) with delegate (TfLiteXNNPackDelegate) node, yielding 1 partitions.\n",
      " 67%|██████████████████████████████████████████████████████▌                          | 302/448 [00:31<00:14,  9.79it/s]INFO: Replacing 223 node(s) with delegate (TfLiteXNNPackDelegate) node, yielding 6 partitions.\n",
      "INFO: Replacing 318 node(s) with delegate (TfLiteXNNPackDelegate) node, yielding 1 partitions.\n",
      " 68%|██████████████████████████████████████████████████████▊                          | 303/448 [00:31<00:14,  9.80it/s]Replacing 223 node(s) with delegate (TfLiteXNNPackDelegate) node, yielding 6 partitions.\n",
      "INFO: Replacing 318 node(s) with delegate (TfLiteXNNPackDelegate) node, yielding 1 partitions.\n",
      " 68%|██████████████████████████████████████████████████████▉                          | 304/448 [00:31<00:14,  9.76it/s]\n",
      "INFO: Replacing 318 node(s) with delegate (TfLiteXNNPackDelegate) node, yielding 1 partitions.\n",
      "INFO: Replacing 223 node(s) with delegate (TfLiteXNNPackDelegate) node, yielding 6 partitions.\n",
      "INFO: Replacing 318 node(s) with delegate (TfLiteXNNPackDelegate) node, yielding 1 partitions.\n",
      " 68%|███████████████████████████████████████████████████████▎                         | 306/448 [00:32<00:14,  9.97it/s]Replacing 223 node(s) with delegate (TfLiteXNNPackDelegate) node, yielding 6 partitions.\n",
      "INFO: Replacing 318 node(s) with delegate (TfLiteXNNPackDelegate) node, yielding 1 partitions.\n",
      " 69%|███████████████████████████████████████████████████████▌                         | 307/448 [00:32<00:14,  9.90it/s]Replacing 223 node(s) with delegate (TfLiteXNNPackDelegate) node, yielding 6 partitions.\n",
      "INFO: Replacing 318 node(s) with delegate (TfLiteXNNPackDelegate) node, yielding 1 partitions.\n",
      "INFO: Replacing 223 node(s) with delegate (TfLiteXNNPackDelegate) node, yielding 6 partitions.\n",
      "INFO: Replacing 318 node(s) with delegate (TfLiteXNNPackDelegate) node, yielding 1 partitions.\n",
      " 69%|███████████████████████████████████████████████████████▊                         | 309/448 [00:32<00:14,  9.89it/s]Replacing 223 node(s) with delegate (TfLiteXNNPackDelegate) node, yielding 6 partitions.\n",
      "INFO: Replacing 318 node(s) with delegate (TfLiteXNNPackDelegate) node, yielding 1 partitions.\n",
      " 69%|████████████████████████████████████████████████████████                         | 310/448 [00:32<00:14,  9.75it/s]Replacing 223 node(s) with delegate (TfLiteXNNPackDelegate) node, yielding 6 partitions.\n",
      "INFO: Replacing 318 node(s) with delegate (TfLiteXNNPackDelegate) node, yielding 1 partitions.\n",
      "INFO: Replacing 223 node(s) with delegate (TfLiteXNNPackDelegate) node, yielding 6 partitions.\n",
      " 69%|████████████████████████████████████████████████████████▏                        | 311/448 [00:32<00:14,  9.62it/s]INFO: Replacing 318 node(s) with delegate (TfLiteXNNPackDelegate) node, yielding 1 partitions.\n",
      "INFO: Replacing 223 node(s) with delegate (TfLiteXNNPackDelegate) node, yielding 6 partitions.\n",
      "INFO: Replacing 318 node(s) with delegate (TfLiteXNNPackDelegate) node, yielding 1 partitions.\n",
      " 70%|████████████████████████████████████████████████████████▌                        | 313/448 [00:32<00:13,  9.98it/s]Replacing 223 node(s) with delegate (TfLiteXNNPackDelegate) node, yielding 6 partitions.\n",
      "INFO: Replacing 318 node(s) with delegate (TfLiteXNNPackDelegate) node, yielding 1 partitions.\n",
      "INFO: Replacing 223 node(s) with delegate (TfLiteXNNPackDelegate) node, yielding 6 partitions.\n",
      "INFO: Replacing 318 node(s) with delegate (TfLiteXNNPackDelegate) node, yielding 1 partitions.\n",
      " 70%|████████████████████████████████████████████████████████▉                        | 315/448 [00:33<00:13, 10.01it/s]Replacing 223 node(s) with delegate (TfLiteXNNPackDelegate) node, yielding 6 partitions.\n",
      "INFO: Replacing 318 node(s) with delegate (TfLiteXNNPackDelegate) node, yielding 1 partitions.\n",
      " 71%|█████████████████████████████████████████████████████████▏                       | 316/448 [00:33<00:13, 10.00it/s]\n",
      "INFO: Replacing 318 node(s) with delegate (TfLiteXNNPackDelegate) node, yielding 1 partitions.\n",
      " 71%|█████████████████████████████████████████████████████████▎                       | 317/448 [00:33<00:13,  9.68it/s]Replacing 223 node(s) with delegate (TfLiteXNNPackDelegate) node, yielding 6 partitions.\n",
      "INFO: Replacing 318 node(s) with delegate (TfLiteXNNPackDelegate) node, yielding 1 partitions.\n",
      "INFO: Replacing 223 node(s) with delegate (TfLiteXNNPackDelegate) node, yielding 6 partitions.\n",
      "INFO: Replacing 318 node(s) with delegate (TfLiteXNNPackDelegate) node, yielding 1 partitions.\n",
      " 71%|█████████████████████████████████████████████████████████▋                       | 319/448 [00:33<00:13,  9.86it/s]\n",
      "INFO: Replacing 318 node(s) with delegate (TfLiteXNNPackDelegate) node, yielding 1 partitions.\n",
      " 71%|█████████████████████████████████████████████████████████▊                       | 320/448 [00:33<00:13,  9.81it/s]Replacing 223 node(s) with delegate (TfLiteXNNPackDelegate) node, yielding 6 partitions.\n",
      "INFO: Replacing 318 node(s) with delegate (TfLiteXNNPackDelegate) node, yielding 1 partitions.\n",
      "INFO: Replacing 223 node(s) with delegate (TfLiteXNNPackDelegate) node, yielding 6 partitions.\n",
      " 72%|██████████████████████████████████████████████████████████                       | 321/448 [00:33<00:13,  9.70it/s]INFO: Replacing 318 node(s) with delegate (TfLiteXNNPackDelegate) node, yielding 1 partitions.\n",
      " 72%|██████████████████████████████████████████████████████████▏                      | 322/448 [00:33<00:13,  9.64it/s]\n",
      "INFO: Replacing 318 node(s) with delegate (TfLiteXNNPackDelegate) node, yielding 1 partitions.\n",
      "INFO: Replacing 223 node(s) with delegate (TfLiteXNNPackDelegate) node, yielding 6 partitions.\n",
      "INFO: Replacing 318 node(s) with delegate (TfLiteXNNPackDelegate) node, yielding 1 partitions.\n",
      " 72%|██████████████████████████████████████████████████████████▌                      | 324/448 [00:33<00:12,  9.71it/s]Replacing 223 node(s) with delegate (TfLiteXNNPackDelegate) node, yielding 6 partitions.\n",
      "INFO: Replacing 318 node(s) with delegate (TfLiteXNNPackDelegate) node, yielding 1 partitions.\n",
      "INFO: Replacing 223 node(s) with delegate (TfLiteXNNPackDelegate) node, yielding 6 partitions.\n",
      "INFO: Replacing 318 node(s) with delegate (TfLiteXNNPackDelegate) node, yielding 1 partitions.\n",
      "INFO: Replacing 223 node(s) with delegate (TfLiteXNNPackDelegate) node, yielding 6 partitions.\n",
      " 73%|██████████████████████████████████████████████████████████▉                      | 326/448 [00:34<00:11, 10.23it/s]INFO: Replacing 318 node(s) with delegate (TfLiteXNNPackDelegate) node, yielding 1 partitions.\n",
      "INFO: Replacing 223 node(s) with delegate (TfLiteXNNPackDelegate) node, yielding 6 partitions.\n",
      "INFO: Replacing 318 node(s) with delegate (TfLiteXNNPackDelegate) node, yielding 1 partitions.\n",
      " 73%|███████████████████████████████████████████████████████████▎                     | 328/448 [00:34<00:11, 10.28it/s]Replacing 223 node(s) with delegate (TfLiteXNNPackDelegate) node, yielding 6 partitions.\n",
      "INFO: Replacing 318 node(s) with delegate (TfLiteXNNPackDelegate) node, yielding 1 partitions.\n",
      "INFO: Replacing 223 node(s) with delegate (TfLiteXNNPackDelegate) node, yielding 6 partitions.\n",
      "INFO: Replacing 318 node(s) with delegate (TfLiteXNNPackDelegate) node, yielding 1 partitions.\n",
      " 74%|███████████████████████████████████████████████████████████▋                     | 330/448 [00:34<00:11, 10.18it/s]Replacing 223 node(s) with delegate (TfLiteXNNPackDelegate) node, yielding 6 partitions.\n",
      "INFO: Replacing 318 node(s) with delegate (TfLiteXNNPackDelegate) node, yielding 1 partitions.\n",
      "INFO: Replacing 223 node(s) with delegate (TfLiteXNNPackDelegate) node, yielding 6 partitions.\n",
      "INFO: Replacing 318 node(s) with delegate (TfLiteXNNPackDelegate) node, yielding 1 partitions.\n",
      " 74%|████████████████████████████████████████████████████████████                     | 332/448 [00:34<00:11,  9.88it/s]Replacing 223 node(s) with delegate (TfLiteXNNPackDelegate) node, yielding 6 partitions.\n",
      "INFO: Replacing 318 node(s) with delegate (TfLiteXNNPackDelegate) node, yielding 1 partitions.\n",
      "INFO: Replacing 223 node(s) with delegate (TfLiteXNNPackDelegate) node, yielding 6 partitions.\n",
      "INFO: Replacing 318 node(s) with delegate (TfLiteXNNPackDelegate) node, yielding 1 partitions.\n",
      " 75%|████████████████████████████████████████████████████████████▍                    | 334/448 [00:34<00:11,  9.67it/s]Replacing 223 node(s) with delegate (TfLiteXNNPackDelegate) node, yielding 6 partitions.\n",
      "INFO: Replacing 318 node(s) with delegate (TfLiteXNNPackDelegate) node, yielding 1 partitions.\n",
      " 75%|████████████████████████████████████████████████████████████▌                    | 335/448 [00:35<00:11,  9.71it/s]Replacing 223 node(s) with delegate (TfLiteXNNPackDelegate) node, yielding 6 partitions.\n",
      "INFO: Replacing 318 node(s) with delegate (TfLiteXNNPackDelegate) node, yielding 1 partitions.\n",
      "INFO: Replacing 223 node(s) with delegate (TfLiteXNNPackDelegate) node, yielding 6 partitions.\n",
      " 75%|████████████████████████████████████████████████████████████▊                    | 336/448 [00:35<00:11,  9.74it/s]INFO: Replacing 318 node(s) with delegate (TfLiteXNNPackDelegate) node, yielding 1 partitions.\n",
      " 75%|████████████████████████████████████████████████████████████▉                    | 337/448 [00:35<00:11,  9.36it/s]Replacing 223 node(s) with delegate (TfLiteXNNPackDelegate) node, yielding 6 partitions.\n",
      "INFO: Replacing 318 node(s) with delegate (TfLiteXNNPackDelegate) node, yielding 1 partitions.\n",
      "INFO: Replacing 223 node(s) with delegate (TfLiteXNNPackDelegate) node, yielding 6 partitions.\n",
      " 75%|█████████████████████████████████████████████████████████████                    | 338/448 [00:35<00:11,  9.45it/s]INFO: Replacing 318 node(s) with delegate (TfLiteXNNPackDelegate) node, yielding 1 partitions.\n",
      "INFO: Replacing 223 node(s) with delegate (TfLiteXNNPackDelegate) node, yielding 6 partitions.\n",
      "INFO: Replacing 318 node(s) with delegate (TfLiteXNNPackDelegate) node, yielding 1 partitions.\n",
      " 76%|█████████████████████████████████████████████████████████████▍                   | 340/448 [00:35<00:10, 10.10it/s]\n",
      "INFO: Replacing 318 node(s) with delegate (TfLiteXNNPackDelegate) node, yielding 1 partitions.\n",
      "INFO: Replacing 223 node(s) with delegate (TfLiteXNNPackDelegate) node, yielding 6 partitions.\n",
      "INFO: Replacing 318 node(s) with delegate (TfLiteXNNPackDelegate) node, yielding 1 partitions.\n",
      "INFO: Replacing 223 node(s) with delegate (TfLiteXNNPackDelegate) node, yielding 6 partitions.\n",
      " 76%|█████████████████████████████████████████████████████████████▊                   | 342/448 [00:35<00:10, 10.26it/s]INFO: Replacing 318 node(s) with delegate (TfLiteXNNPackDelegate) node, yielding 1 partitions.\n",
      "INFO: Replacing 223 node(s) with delegate (TfLiteXNNPackDelegate) node, yielding 6 partitions.\n",
      "INFO: Replacing 318 node(s) with delegate (TfLiteXNNPackDelegate) node, yielding 1 partitions.\n",
      " 77%|██████████████████████████████████████████████████████████████▏                  | 344/448 [00:35<00:10, 10.39it/s]Replacing 223 node(s) with delegate (TfLiteXNNPackDelegate) node, yielding 6 partitions.\n",
      "INFO: Replacing 318 node(s) with delegate (TfLiteXNNPackDelegate) node, yielding 1 partitions.\n",
      "INFO: Replacing 223 node(s) with delegate (TfLiteXNNPackDelegate) node, yielding 6 partitions.\n",
      "INFO: Replacing 318 node(s) with delegate (TfLiteXNNPackDelegate) node, yielding 1 partitions.\n",
      " 77%|██████████████████████████████████████████████████████████████▌                  | 346/448 [00:36<00:10, 10.14it/s]\n",
      "INFO: Replacing 318 node(s) with delegate (TfLiteXNNPackDelegate) node, yielding 1 partitions.\n",
      "INFO: Replacing 223 node(s) with delegate (TfLiteXNNPackDelegate) node, yielding 6 partitions.\n",
      "INFO: Replacing 318 node(s) with delegate (TfLiteXNNPackDelegate) node, yielding 1 partitions.\n",
      " 78%|██████████████████████████████████████████████████████████████▉                  | 348/448 [00:36<00:09, 10.05it/s]Replacing 223 node(s) with delegate (TfLiteXNNPackDelegate) node, yielding 6 partitions.\n",
      "INFO: Replacing 318 node(s) with delegate (TfLiteXNNPackDelegate) node, yielding 1 partitions.\n",
      "INFO: Replacing 223 node(s) with delegate (TfLiteXNNPackDelegate) node, yielding 6 partitions.\n",
      "INFO: Replacing 318 node(s) with delegate (TfLiteXNNPackDelegate) node, yielding 1 partitions.\n",
      " 78%|███████████████████████████████████████████████████████████████▎                 | 350/448 [00:36<00:09, 10.11it/s]Replacing 223 node(s) with delegate (TfLiteXNNPackDelegate) node, yielding 6 partitions.\n",
      "INFO: Replacing 318 node(s) with delegate (TfLiteXNNPackDelegate) node, yielding 1 partitions.\n",
      "INFO: Replacing 223 node(s) with delegate (TfLiteXNNPackDelegate) node, yielding 6 partitions.\n",
      "INFO: Replacing 318 node(s) with delegate (TfLiteXNNPackDelegate) node, yielding 1 partitions.\n",
      " 79%|███████████████████████████████████████████████████████████████▋                 | 352/448 [00:36<00:09,  9.92it/s]Replacing 223 node(s) with delegate (TfLiteXNNPackDelegate) node, yielding 6 partitions.\n",
      "INFO: Replacing 318 node(s) with delegate (TfLiteXNNPackDelegate) node, yielding 1 partitions.\n",
      "INFO: Replacing 223 node(s) with delegate (TfLiteXNNPackDelegate) node, yielding 6 partitions.\n",
      "INFO: Replacing 318 node(s) with delegate (TfLiteXNNPackDelegate) node, yielding 1 partitions.\n",
      " 79%|████████████████████████████████████████████████████████████████                 | 354/448 [00:36<00:09,  9.99it/s]Replacing 223 node(s) with delegate (TfLiteXNNPackDelegate) node, yielding 6 partitions.\n",
      "INFO: Replacing 318 node(s) with delegate (TfLiteXNNPackDelegate) node, yielding 1 partitions.\n",
      " 79%|████████████████████████████████████████████████████████████████▏                | 355/448 [00:37<00:09,  9.96it/s]Replacing 223 node(s) with delegate (TfLiteXNNPackDelegate) node, yielding 6 partitions.\n",
      "INFO: Replacing 318 node(s) with delegate (TfLiteXNNPackDelegate) node, yielding 1 partitions.\n",
      "INFO: Replacing 223 node(s) with delegate (TfLiteXNNPackDelegate) node, yielding 6 partitions.\n",
      " 79%|████████████████████████████████████████████████████████████████▎                | 356/448 [00:37<00:09,  9.93it/s]INFO: Replacing 318 node(s) with delegate (TfLiteXNNPackDelegate) node, yielding 1 partitions.\n",
      "INFO: Replacing 223 node(s) with delegate (TfLiteXNNPackDelegate) node, yielding 6 partitions.\n",
      "INFO: Replacing 318 node(s) with delegate (TfLiteXNNPackDelegate) node, yielding 1 partitions.\n",
      " 80%|████████████████████████████████████████████████████████████████▋                | 358/448 [00:37<00:09, 10.00it/s]Replacing 223 node(s) with delegate (TfLiteXNNPackDelegate) node, yielding 6 partitions.\n",
      "INFO: Replacing 318 node(s) with delegate (TfLiteXNNPackDelegate) node, yielding 1 partitions.\n",
      " 80%|████████████████████████████████████████████████████████████████▉                | 359/448 [00:37<00:08,  9.95it/s]Replacing 223 node(s) with delegate (TfLiteXNNPackDelegate) node, yielding 6 partitions.\n",
      "INFO: Replacing 318 node(s) with delegate (TfLiteXNNPackDelegate) node, yielding 1 partitions.\n",
      "INFO: Replacing 223 node(s) with delegate (TfLiteXNNPackDelegate) node, yielding 6 partitions.\n",
      " 80%|█████████████████████████████████████████████████████████████████                | 360/448 [00:37<00:08,  9.90it/s]INFO: Replacing 318 node(s) with delegate (TfLiteXNNPackDelegate) node, yielding 1 partitions.\n",
      "INFO: Replacing 223 node(s) with delegate (TfLiteXNNPackDelegate) node, yielding 6 partitions.\n",
      "INFO: Replacing 318 node(s) with delegate (TfLiteXNNPackDelegate) node, yielding 1 partitions.\n",
      " 81%|█████████████████████████████████████████████████████████████████▍               | 362/448 [00:37<00:08,  9.97it/s]\n",
      "INFO: Replacing 318 node(s) with delegate (TfLiteXNNPackDelegate) node, yielding 1 partitions.\n",
      " 81%|█████████████████████████████████████████████████████████████████▋               | 363/448 [00:37<00:08,  9.93it/s]Replacing 223 node(s) with delegate (TfLiteXNNPackDelegate) node, yielding 6 partitions.\n",
      "INFO: Replacing 318 node(s) with delegate (TfLiteXNNPackDelegate) node, yielding 1 partitions.\n",
      " 81%|█████████████████████████████████████████████████████████████████▊               | 364/448 [00:37<00:08,  9.89it/s]Replacing 223 node(s) with delegate (TfLiteXNNPackDelegate) node, yielding 6 partitions.\n",
      "INFO: Replacing 318 node(s) with delegate (TfLiteXNNPackDelegate) node, yielding 1 partitions.\n",
      "INFO: Replacing 223 node(s) with delegate (TfLiteXNNPackDelegate) node, yielding 6 partitions.\n",
      " 81%|█████████████████████████████████████████████████████████████████▉               | 365/448 [00:38<00:08,  9.92it/s]INFO: Replacing 318 node(s) with delegate (TfLiteXNNPackDelegate) node, yielding 1 partitions.\n",
      "INFO: Replacing 223 node(s) with delegate (TfLiteXNNPackDelegate) node, yielding 6 partitions.\n",
      " 82%|██████████████████████████████████████████████████████████████████▏              | 366/448 [00:38<00:08,  9.58it/s]INFO: Replacing 318 node(s) with delegate (TfLiteXNNPackDelegate) node, yielding 1 partitions.\n",
      "INFO: Replacing 223 node(s) with delegate (TfLiteXNNPackDelegate) node, yielding 6 partitions.\n",
      "INFO: Replacing 318 node(s) with delegate (TfLiteXNNPackDelegate) node, yielding 1 partitions.\n",
      " 82%|██████████████████████████████████████████████████████████████████▌              | 368/448 [00:38<00:08,  9.90it/s]Replacing 223 node(s) with delegate (TfLiteXNNPackDelegate) node, yielding 6 partitions.\n",
      "INFO: Replacing 318 node(s) with delegate (TfLiteXNNPackDelegate) node, yielding 1 partitions.\n",
      " 82%|██████████████████████████████████████████████████████████████████▋              | 369/448 [00:38<00:07,  9.88it/s]Replacing 223 node(s) with delegate (TfLiteXNNPackDelegate) node, yielding 6 partitions.\n",
      "INFO: Replacing 318 node(s) with delegate (TfLiteXNNPackDelegate) node, yielding 1 partitions.\n",
      "INFO: Replacing 223 node(s) with delegate (TfLiteXNNPackDelegate) node, yielding 6 partitions.\n",
      "INFO: Replacing 318 node(s) with delegate (TfLiteXNNPackDelegate) node, yielding 1 partitions.\n",
      " 83%|███████████████████████████████████████████████████████████████████              | 371/448 [00:38<00:07, 10.20it/s]Replacing 223 node(s) with delegate (TfLiteXNNPackDelegate) node, yielding 6 partitions.\n",
      "INFO: Replacing 318 node(s) with delegate (TfLiteXNNPackDelegate) node, yielding 1 partitions.\n",
      "INFO: Replacing 223 node(s) with delegate (TfLiteXNNPackDelegate) node, yielding 6 partitions.\n",
      "INFO: Replacing 318 node(s) with delegate (TfLiteXNNPackDelegate) node, yielding 1 partitions.\n",
      " 83%|███████████████████████████████████████████████████████████████████▍             | 373/448 [00:38<00:07, 10.45it/s]Replacing 223 node(s) with delegate (TfLiteXNNPackDelegate) node, yielding 6 partitions.\n",
      "INFO: Replacing 318 node(s) with delegate (TfLiteXNNPackDelegate) node, yielding 1 partitions.\n",
      "INFO: Replacing 223 node(s) with delegate (TfLiteXNNPackDelegate) node, yielding 6 partitions.\n",
      "INFO: Replacing 318 node(s) with delegate (TfLiteXNNPackDelegate) node, yielding 1 partitions.\n",
      " 84%|███████████████████████████████████████████████████████████████████▊             | 375/448 [00:39<00:06, 10.47it/s]\n",
      "INFO: Replacing 318 node(s) with delegate (TfLiteXNNPackDelegate) node, yielding 1 partitions.\n",
      "INFO: Replacing 223 node(s) with delegate (TfLiteXNNPackDelegate) node, yielding 6 partitions.\n",
      "INFO: Replacing 318 node(s) with delegate (TfLiteXNNPackDelegate) node, yielding 1 partitions.\n",
      " 84%|████████████████████████████████████████████████████████████████████▏            | 377/448 [00:39<00:07, 10.13it/s]Replacing 223 node(s) with delegate (TfLiteXNNPackDelegate) node, yielding 6 partitions.\n",
      "INFO: Replacing 318 node(s) with delegate (TfLiteXNNPackDelegate) node, yielding 1 partitions.\n",
      "INFO: Replacing 223 node(s) with delegate (TfLiteXNNPackDelegate) node, yielding 6 partitions.\n",
      "INFO: Replacing 318 node(s) with delegate (TfLiteXNNPackDelegate) node, yielding 1 partitions.\n",
      " 85%|████████████████████████████████████████████████████████████████████▌            | 379/448 [00:39<00:06, 10.06it/s]Replacing 223 node(s) with delegate (TfLiteXNNPackDelegate) node, yielding 6 partitions.\n",
      "INFO: Replacing 318 node(s) with delegate (TfLiteXNNPackDelegate) node, yielding 1 partitions.\n",
      "INFO: Replacing 223 node(s) with delegate (TfLiteXNNPackDelegate) node, yielding 6 partitions.\n",
      "INFO: Replacing 318 node(s) with delegate (TfLiteXNNPackDelegate) node, yielding 1 partitions.\n",
      " 85%|████████████████████████████████████████████████████████████████████▉            | 381/448 [00:39<00:06, 10.15it/s]Replacing 223 node(s) with delegate (TfLiteXNNPackDelegate) node, yielding 6 partitions.\n",
      "INFO: Replacing 318 node(s) with delegate (TfLiteXNNPackDelegate) node, yielding 1 partitions.\n",
      "INFO: Replacing 223 node(s) with delegate (TfLiteXNNPackDelegate) node, yielding 6 partitions.\n",
      "INFO: Replacing 318 node(s) with delegate (TfLiteXNNPackDelegate) node, yielding 1 partitions.\n",
      " 85%|█████████████████████████████████████████████████████████████████████▏           | 383/448 [00:39<00:06, 10.19it/s]Replacing 223 node(s) with delegate (TfLiteXNNPackDelegate) node, yielding 6 partitions.\n",
      "INFO: Replacing 318 node(s) with delegate (TfLiteXNNPackDelegate) node, yielding 1 partitions.\n",
      "INFO: Replacing 223 node(s) with delegate (TfLiteXNNPackDelegate) node, yielding 6 partitions.\n",
      "INFO: Replacing 318 node(s) with delegate (TfLiteXNNPackDelegate) node, yielding 1 partitions.\n",
      " 86%|█████████████████████████████████████████████████████████████████████▌           | 385/448 [00:40<00:06, 10.12it/s]Replacing 223 node(s) with delegate (TfLiteXNNPackDelegate) node, yielding 6 partitions.\n",
      "INFO: Replacing 318 node(s) with delegate (TfLiteXNNPackDelegate) node, yielding 1 partitions.\n",
      "INFO: Replacing 223 node(s) with delegate (TfLiteXNNPackDelegate) node, yielding 6 partitions.\n",
      "INFO: Replacing 318 node(s) with delegate (TfLiteXNNPackDelegate) node, yielding 1 partitions.\n",
      " 86%|█████████████████████████████████████████████████████████████████████▉           | 387/448 [00:40<00:06, 10.12it/s]\n",
      "INFO: Replacing 318 node(s) with delegate (TfLiteXNNPackDelegate) node, yielding 1 partitions.\n",
      "INFO: Replacing 223 node(s) with delegate (TfLiteXNNPackDelegate) node, yielding 6 partitions.\n",
      "INFO: Replacing 318 node(s) with delegate (TfLiteXNNPackDelegate) node, yielding 1 partitions.\n",
      "INFO: Replacing 223 node(s) with delegate (TfLiteXNNPackDelegate) node, yielding 6 partitions.\n",
      " 87%|██████████████████████████████████████████████████████████████████████▎          | 389/448 [00:40<00:05, 10.09it/s]INFO: Replacing 318 node(s) with delegate (TfLiteXNNPackDelegate) node, yielding 1 partitions.\n",
      "INFO: Replacing 223 node(s) with delegate (TfLiteXNNPackDelegate) node, yielding 6 partitions.\n",
      "INFO: Replacing 318 node(s) with delegate (TfLiteXNNPackDelegate) node, yielding 1 partitions.\n",
      " 87%|██████████████████████████████████████████████████████████████████████▋          | 391/448 [00:40<00:05, 10.24it/s]Replacing 223 node(s) with delegate (TfLiteXNNPackDelegate) node, yielding 6 partitions.\n",
      "INFO: Replacing 318 node(s) with delegate (TfLiteXNNPackDelegate) node, yielding 1 partitions.\n",
      "INFO: Replacing 223 node(s) with delegate (TfLiteXNNPackDelegate) node, yielding 6 partitions.\n",
      "INFO: Replacing 318 node(s) with delegate (TfLiteXNNPackDelegate) node, yielding 1 partitions.\n",
      " 88%|███████████████████████████████████████████████████████████████████████          | 393/448 [00:40<00:05, 10.41it/s]INFO: Replacing 223 node(s) with delegate (TfLiteXNNPackDelegate) node, yielding 6 partitions.\n",
      "INFO: Replacing 318 node(s) with delegate (TfLiteXNNPackDelegate) node, yielding 1 partitions.\n",
      "INFO: Replacing 223 node(s) with delegate (TfLiteXNNPackDelegate) node, yielding 6 partitions.\n",
      "INFO: Replacing 318 node(s) with delegate (TfLiteXNNPackDelegate) node, yielding 1 partitions.\n",
      " 88%|███████████████████████████████████████████████████████████████████████▍         | 395/448 [00:41<00:05, 10.12it/s]\n",
      "INFO: Replacing 318 node(s) with delegate (TfLiteXNNPackDelegate) node, yielding 1 partitions.\n",
      "INFO: Replacing 223 node(s) with delegate (TfLiteXNNPackDelegate) node, yielding 6 partitions.\n",
      "INFO: Replacing 318 node(s) with delegate (TfLiteXNNPackDelegate) node, yielding 1 partitions.\n",
      " 89%|███████████████████████████████████████████████████████████████████████▊         | 397/448 [00:41<00:05, 10.00it/s]\n",
      "INFO: Replacing 318 node(s) with delegate (TfLiteXNNPackDelegate) node, yielding 1 partitions.\n",
      "INFO: Replacing 223 node(s) with delegate (TfLiteXNNPackDelegate) node, yielding 6 partitions.\n",
      "INFO: Replacing 318 node(s) with delegate (TfLiteXNNPackDelegate) node, yielding 1 partitions.\n",
      "INFO: Replacing 223 node(s) with delegate (TfLiteXNNPackDelegate) node, yielding 6 partitions.\n",
      " 89%|████████████████████████████████████████████████████████████████████████▏        | 399/448 [00:41<00:04, 10.03it/s]INFO: Replacing 318 node(s) with delegate (TfLiteXNNPackDelegate) node, yielding 1 partitions.\n",
      "INFO: Replacing 223 node(s) with delegate (TfLiteXNNPackDelegate) node, yielding 6 partitions.\n",
      "INFO: Replacing 318 node(s) with delegate (TfLiteXNNPackDelegate) node, yielding 1 partitions.\n",
      " 90%|████████████████████████████████████████████████████████████████████████▌        | 401/448 [00:41<00:04, 10.17it/s]\n",
      "INFO: Replacing 318 node(s) with delegate (TfLiteXNNPackDelegate) node, yielding 1 partitions.\n",
      "INFO: Replacing 223 node(s) with delegate (TfLiteXNNPackDelegate) node, yielding 6 partitions.\n",
      "INFO: Replacing 318 node(s) with delegate (TfLiteXNNPackDelegate) node, yielding 1 partitions.\n",
      " 90%|████████████████████████████████████████████████████████████████████████▊        | 403/448 [00:41<00:04, 10.10it/s]\n",
      "INFO: Replacing 318 node(s) with delegate (TfLiteXNNPackDelegate) node, yielding 1 partitions.\n",
      "INFO: Replacing 223 node(s) with delegate (TfLiteXNNPackDelegate) node, yielding 6 partitions.\n",
      "INFO: Replacing 318 node(s) with delegate (TfLiteXNNPackDelegate) node, yielding 1 partitions.\n",
      " 90%|█████████████████████████████████████████████████████████████████████████▏       | 405/448 [00:42<00:04, 10.08it/s]Replacing 223 node(s) with delegate (TfLiteXNNPackDelegate) node, yielding 6 partitions.\n",
      "INFO: Replacing 318 node(s) with delegate (TfLiteXNNPackDelegate) node, yielding 1 partitions.\n",
      "INFO: Replacing 223 node(s) with delegate (TfLiteXNNPackDelegate) node, yielding 6 partitions.\n",
      "INFO: Replacing 318 node(s) with delegate (TfLiteXNNPackDelegate) node, yielding 1 partitions.\n",
      " 91%|█████████████████████████████████████████████████████████████████████████▌       | 407/448 [00:42<00:04, 10.06it/s]Replacing 223 node(s) with delegate (TfLiteXNNPackDelegate) node, yielding 6 partitions.\n",
      "INFO: Replacing 318 node(s) with delegate (TfLiteXNNPackDelegate) node, yielding 1 partitions.\n",
      "INFO: Replacing 223 node(s) with delegate (TfLiteXNNPackDelegate) node, yielding 6 partitions.\n",
      "INFO: Replacing 318 node(s) with delegate (TfLiteXNNPackDelegate) node, yielding 1 partitions.\n",
      " 91%|█████████████████████████████████████████████████████████████████████████▉       | 409/448 [00:42<00:03,  9.95it/s]Replacing 223 node(s) with delegate (TfLiteXNNPackDelegate) node, yielding 6 partitions.\n",
      "INFO: Replacing 318 node(s) with delegate (TfLiteXNNPackDelegate) node, yielding 1 partitions.\n",
      " 92%|██████████████████████████████████████████████████████████████████████████▏      | 410/448 [00:42<00:03,  9.95it/s]Replacing 223 node(s) with delegate (TfLiteXNNPackDelegate) node, yielding 6 partitions.\n",
      "INFO: Replacing 318 node(s) with delegate (TfLiteXNNPackDelegate) node, yielding 1 partitions.\n",
      "INFO: Replacing 223 node(s) with delegate (TfLiteXNNPackDelegate) node, yielding 6 partitions.\n",
      "INFO: Replacing 318 node(s) with delegate (TfLiteXNNPackDelegate) node, yielding 1 partitions.\n",
      " 92%|██████████████████████████████████████████████████████████████████████████▍      | 412/448 [00:42<00:03,  9.96it/s]Replacing 223 node(s) with delegate (TfLiteXNNPackDelegate) node, yielding 6 partitions.\n",
      "INFO: Replacing 318 node(s) with delegate (TfLiteXNNPackDelegate) node, yielding 1 partitions.\n",
      " 92%|██████████████████████████████████████████████████████████████████████████▋      | 413/448 [00:42<00:03,  9.84it/s]Replacing 223 node(s) with delegate (TfLiteXNNPackDelegate) node, yielding 6 partitions.\n",
      "INFO: Replacing 318 node(s) with delegate (TfLiteXNNPackDelegate) node, yielding 1 partitions.\n",
      " 92%|██████████████████████████████████████████████████████████████████████████▊      | 414/448 [00:42<00:03,  9.82it/s]Replacing 223 node(s) with delegate (TfLiteXNNPackDelegate) node, yielding 6 partitions.\n",
      "INFO: Replacing 318 node(s) with delegate (TfLiteXNNPackDelegate) node, yielding 1 partitions.\n",
      "INFO: Replacing 223 node(s) with delegate (TfLiteXNNPackDelegate) node, yielding 6 partitions.\n",
      "INFO: Replacing 318 node(s) with delegate (TfLiteXNNPackDelegate) node, yielding 1 partitions.\n",
      " 93%|███████████████████████████████████████████████████████████████████████████▏     | 416/448 [00:43<00:03, 10.04it/s]Replacing 223 node(s) with delegate (TfLiteXNNPackDelegate) node, yielding 6 partitions.\n",
      "INFO: Replacing 318 node(s) with delegate (TfLiteXNNPackDelegate) node, yielding 1 partitions.\n",
      " 93%|███████████████████████████████████████████████████████████████████████████▍     | 417/448 [00:43<00:03, 10.03it/s]Replacing 223 node(s) with delegate (TfLiteXNNPackDelegate) node, yielding 6 partitions.\n",
      "INFO: Replacing 318 node(s) with delegate (TfLiteXNNPackDelegate) node, yielding 1 partitions.\n",
      " 93%|███████████████████████████████████████████████████████████████████████████▌     | 418/448 [00:43<00:03,  9.75it/s]Replacing 223 node(s) with delegate (TfLiteXNNPackDelegate) node, yielding 6 partitions.\n",
      "INFO: Replacing 318 node(s) with delegate (TfLiteXNNPackDelegate) node, yielding 1 partitions.\n",
      " 94%|███████████████████████████████████████████████████████████████████████████▊     | 419/448 [00:43<00:03,  9.63it/s]Replacing 223 node(s) with delegate (TfLiteXNNPackDelegate) node, yielding 6 partitions.\n",
      "INFO: Replacing 318 node(s) with delegate (TfLiteXNNPackDelegate) node, yielding 1 partitions.\n",
      "INFO: Replacing 223 node(s) with delegate (TfLiteXNNPackDelegate) node, yielding 6 partitions.\n",
      "INFO: Replacing 318 node(s) with delegate (TfLiteXNNPackDelegate) node, yielding 1 partitions.\n",
      " 94%|████████████████████████████████████████████████████████████████████████████     | 421/448 [00:43<00:02,  9.80it/s]Replacing 223 node(s) with delegate (TfLiteXNNPackDelegate) node, yielding 6 partitions.\n",
      "INFO: Replacing 318 node(s) with delegate (TfLiteXNNPackDelegate) node, yielding 1 partitions.\n",
      " 94%|████████████████████████████████████████████████████████████████████████████▎    | 422/448 [00:43<00:02,  9.85it/s]\n",
      "INFO: Replacing 318 node(s) with delegate (TfLiteXNNPackDelegate) node, yielding 1 partitions.\n",
      " 94%|████████████████████████████████████████████████████████████████████████████▍    | 423/448 [00:43<00:02,  9.73it/s]Replacing 223 node(s) with delegate (TfLiteXNNPackDelegate) node, yielding 6 partitions.\n",
      "INFO: Replacing 318 node(s) with delegate (TfLiteXNNPackDelegate) node, yielding 1 partitions.\n",
      " 95%|████████████████████████████████████████████████████████████████████████████▋    | 424/448 [00:43<00:02,  9.77it/s]INFO: Replacing 223 node(s) with delegate (TfLiteXNNPackDelegate) node, yielding 6 partitions.\n",
      "INFO: Replacing 318 node(s) with delegate (TfLiteXNNPackDelegate) node, yielding 1 partitions.\n",
      "INFO: Replacing 223 node(s) with delegate (TfLiteXNNPackDelegate) node, yielding 6 partitions.\n",
      "INFO: Replacing 318 node(s) with delegate (TfLiteXNNPackDelegate) node, yielding 1 partitions.\n",
      " 95%|█████████████████████████████████████████████████████████████████████████████    | 426/448 [00:44<00:02, 10.10it/s]Replacing 223 node(s) with delegate (TfLiteXNNPackDelegate) node, yielding 6 partitions.\n",
      "INFO: Replacing 318 node(s) with delegate (TfLiteXNNPackDelegate) node, yielding 1 partitions.\n",
      "INFO: Replacing 223 node(s) with delegate (TfLiteXNNPackDelegate) node, yielding 6 partitions.\n",
      "INFO: Replacing 318 node(s) with delegate (TfLiteXNNPackDelegate) node, yielding 1 partitions.\n",
      " 96%|█████████████████████████████████████████████████████████████████████████████▍   | 428/448 [00:44<00:01, 10.07it/s]\n",
      "INFO: Replacing 318 node(s) with delegate (TfLiteXNNPackDelegate) node, yielding 1 partitions.\n",
      "INFO: Replacing 223 node(s) with delegate (TfLiteXNNPackDelegate) node, yielding 6 partitions.\n",
      "INFO: Replacing 318 node(s) with delegate (TfLiteXNNPackDelegate) node, yielding 1 partitions.\n",
      " 96%|█████████████████████████████████████████████████████████████████████████████▋   | 430/448 [00:44<00:01, 10.28it/s]Replacing 223 node(s) with delegate (TfLiteXNNPackDelegate) node, yielding 6 partitions.\n",
      "INFO: Replacing 318 node(s) with delegate (TfLiteXNNPackDelegate) node, yielding 1 partitions.\n",
      "INFO: Replacing 223 node(s) with delegate (TfLiteXNNPackDelegate) node, yielding 6 partitions.\n",
      "INFO: Replacing 318 node(s) with delegate (TfLiteXNNPackDelegate) node, yielding 1 partitions.\n",
      " 96%|██████████████████████████████████████████████████████████████████████████████   | 432/448 [00:44<00:01, 10.31it/s]Replacing 223 node(s) with delegate (TfLiteXNNPackDelegate) node, yielding 6 partitions.\n",
      "INFO: Replacing 318 node(s) with delegate (TfLiteXNNPackDelegate) node, yielding 1 partitions.\n",
      "INFO: Replacing 223 node(s) with delegate (TfLiteXNNPackDelegate) node, yielding 6 partitions.\n",
      "INFO: Replacing 318 node(s) with delegate (TfLiteXNNPackDelegate) node, yielding 1 partitions.\n",
      "INFO: Replacing 223 node(s) with delegate (TfLiteXNNPackDelegate) node, yielding 6 partitions.\n",
      " 97%|██████████████████████████████████████████████████████████████████████████████▍  | 434/448 [00:44<00:01, 10.24it/s]INFO: Replacing 318 node(s) with delegate (TfLiteXNNPackDelegate) node, yielding 1 partitions.\n",
      "INFO: Replacing 223 node(s) with delegate (TfLiteXNNPackDelegate) node, yielding 6 partitions.\n",
      "INFO: Replacing 318 node(s) with delegate (TfLiteXNNPackDelegate) node, yielding 1 partitions.\n",
      " 97%|██████████████████████████████████████████████████████████████████████████████▊  | 436/448 [00:45<00:01, 10.10it/s]Replacing 223 node(s) with delegate (TfLiteXNNPackDelegate) node, yielding 6 partitions.\n",
      "INFO: Replacing 318 node(s) with delegate (TfLiteXNNPackDelegate) node, yielding 1 partitions.\n",
      "INFO: Replacing 223 node(s) with delegate (TfLiteXNNPackDelegate) node, yielding 6 partitions.\n",
      "INFO: Replacing 318 node(s) with delegate (TfLiteXNNPackDelegate) node, yielding 1 partitions.\n",
      " 98%|███████████████████████████████████████████████████████████████████████████████▏ | 438/448 [00:45<00:00, 10.40it/s]INFO: Replacing 223 node(s) with delegate (TfLiteXNNPackDelegate) node, yielding 6 partitions.\n",
      "INFO: Replacing 318 node(s) with delegate (TfLiteXNNPackDelegate) node, yielding 1 partitions.\n",
      "INFO: Replacing 223 node(s) with delegate (TfLiteXNNPackDelegate) node, yielding 6 partitions.\n",
      "INFO: Replacing 318 node(s) with delegate (TfLiteXNNPackDelegate) node, yielding 1 partitions.\n",
      "INFO: Replacing 223 node(s) with delegate (TfLiteXNNPackDelegate) node, yielding 6 partitions.\n",
      " 98%|███████████████████████████████████████████████████████████████████████████████▌ | 440/448 [00:45<00:00, 10.32it/s]INFO: Replacing 318 node(s) with delegate (TfLiteXNNPackDelegate) node, yielding 1 partitions.\n",
      "INFO: Replacing 223 node(s) with delegate (TfLiteXNNPackDelegate) node, yielding 6 partitions.\n",
      "INFO: Replacing 318 node(s) with delegate (TfLiteXNNPackDelegate) node, yielding 1 partitions.\n",
      " 99%|███████████████████████████████████████████████████████████████████████████████▉ | 442/448 [00:45<00:00, 10.22it/s]Replacing 223 node(s) with delegate (TfLiteXNNPackDelegate) node, yielding 6 partitions.\n",
      "INFO: Replacing 318 node(s) with delegate (TfLiteXNNPackDelegate) node, yielding 1 partitions.\n",
      "INFO: Replacing 223 node(s) with delegate (TfLiteXNNPackDelegate) node, yielding 6 partitions.\n",
      "INFO: Replacing 318 node(s) with delegate (TfLiteXNNPackDelegate) node, yielding 1 partitions.\n",
      " 99%|████████████████████████████████████████████████████████████████████████████████▎| 444/448 [00:45<00:00, 10.07it/s]Replacing 223 node(s) with delegate (TfLiteXNNPackDelegate) node, yielding 6 partitions.\n",
      "INFO: Replacing 318 node(s) with delegate (TfLiteXNNPackDelegate) node, yielding 1 partitions.\n",
      "INFO: Replacing 223 node(s) with delegate (TfLiteXNNPackDelegate) node, yielding 6 partitions.\n",
      "INFO: Replacing 318 node(s) with delegate (TfLiteXNNPackDelegate) node, yielding 1 partitions.\n",
      "100%|████████████████████████████████████████████████████████████████████████████████▋| 446/448 [00:46<00:00, 10.10it/s]Replacing 223 node(s) with delegate (TfLiteXNNPackDelegate) node, yielding 6 partitions.\n",
      "INFO: Replacing 318 node(s) with delegate (TfLiteXNNPackDelegate) node, yielding 1 partitions.\n",
      "INFO: Replacing 223 node(s) with delegate (TfLiteXNNPackDelegate) node, yielding 6 partitions.\n",
      "INFO: Replacing 318 node(s) with delegate (TfLiteXNNPackDelegate) node, yielding 1 partitions.\n",
      "100%|█████████████████████████████████████████████████████████████████████████████████| 448/448 [00:46<00:00,  9.92it/s]Replacing 223 node(s) with delegate (TfLiteXNNPackDelegate) node, yielding 6 partitions.\n",
      "INFO: Replacing 318 node(s) with delegate (TfLiteXNNPackDelegate) node, yielding 1 partitions.\n",
      "100%|█████████████████████████████████████████████████████████████████████████████████| 448/448 [00:46<00:00,  9.67it/s]\n"
     ]
    }
   ],
   "source": [
    "error_files = []\n",
    "for image_path in tqdm(all_file_paths):\n",
    "    image = Image.open(image_path)\n",
    "    image = np.array(image)\n",
    "    label = image_path.split(os.path.sep)[-2]\n",
    "    with mp_pose.Pose(min_detection_confidence = 0.5, min_tracking_confidence = 0.5) as pose:\n",
    "\n",
    "        results = pose.process(image)\n",
    "        \n",
    "        try:\n",
    "            pose_coor = results.pose_landmarks.landmark\n",
    "            # no need z here\n",
    "            body_kps = np.array([[landmark.x, landmark.y, landmark.visibility] for landmark in pose_coor]).flatten()\n",
    "            data.append(body_kps)\n",
    "            labels.append(label)\n",
    "            \n",
    "        except:\n",
    "            error_files.append(image_path)"
   ]
  },
  {
   "cell_type": "code",
   "execution_count": 9,
   "id": "3b4312a1",
   "metadata": {
    "ExecuteTime": {
     "end_time": "2022-03-06T15:15:51.529845Z",
     "start_time": "2022-03-06T15:15:51.516768Z"
    },
    "tags": []
   },
   "outputs": [
    {
     "data": {
      "text/plain": [
       "(12,\n",
       " ['/data1-6tb/jom/Dataset/EzFit_dataset/train/images/half-burpee/half-burpee-in/107_1_1.jpg',\n",
       "  '/data1-6tb/jom/Dataset/EzFit_dataset/train/images/half-burpee/half-burpee-in/73_2_2.jpg',\n",
       "  '/data1-6tb/jom/Dataset/EzFit_dataset/train/images/half-burpee/half-burpee-in/12_1_1.jpg',\n",
       "  '/data1-6tb/jom/Dataset/EzFit_dataset/train/images/half-burpee/half-burpee-in/107_4_2.jpg',\n",
       "  '/data1-6tb/jom/Dataset/EzFit_dataset/train/images/half-burpee/half-burpee-in/22_2_2.jpg',\n",
       "  '/data1-6tb/jom/Dataset/EzFit_dataset/train/images/half-burpee/half-burpee-in/72_1_1.jpg',\n",
       "  '/data1-6tb/jom/Dataset/EzFit_dataset/train/images/half-burpee/half-burpee-in/91_2_2.jpg',\n",
       "  '/data1-6tb/jom/Dataset/EzFit_dataset/train/images/half-burpee/half-burpee-in/107_2_2.jpg',\n",
       "  '/data1-6tb/jom/Dataset/EzFit_dataset/train/images/half-burpee/half-burpee-in/45_2_2.jpg',\n",
       "  '/data1-6tb/jom/Dataset/EzFit_dataset/train/images/half-burpee/half-burpee-in/93_2_2.jpg',\n",
       "  '/data1-6tb/jom/Dataset/EzFit_dataset/train/images/half-burpee/half-burpee-in/100_2_2.jpg',\n",
       "  '/data1-6tb/jom/Dataset/EzFit_dataset/train/images/half-burpee/half-burpee-in/91_1_1.jpg'])"
      ]
     },
     "execution_count": 9,
     "metadata": {},
     "output_type": "execute_result"
    }
   ],
   "source": [
    "len(error_files),error_files"
   ]
  },
  {
   "cell_type": "code",
   "execution_count": 10,
   "id": "2812feab",
   "metadata": {
    "ExecuteTime": {
     "end_time": "2022-03-06T15:15:51.544829Z",
     "start_time": "2022-03-06T15:15:51.531798Z"
    }
   },
   "outputs": [],
   "source": [
    "# all_file_paths = [x for x in all_file_paths if x not in error_files]\n",
    "# len(all_file_paths)"
   ]
  },
  {
   "cell_type": "code",
   "execution_count": 11,
   "id": "fddde30d",
   "metadata": {
    "ExecuteTime": {
     "end_time": "2022-03-06T15:15:51.559829Z",
     "start_time": "2022-03-06T15:15:51.546814Z"
    }
   },
   "outputs": [],
   "source": [
    "# # use for label encoder and stratify\n",
    "# labels = list(map(lambda x: x.split(os.path.sep)[-2], all_file_paths))\n",
    "# labels"
   ]
  },
  {
   "cell_type": "code",
   "execution_count": 12,
   "id": "e12c752d",
   "metadata": {
    "ExecuteTime": {
     "end_time": "2022-03-06T15:15:51.574769Z",
     "start_time": "2022-03-06T15:15:51.561822Z"
    }
   },
   "outputs": [
    {
     "data": {
      "text/plain": [
       "(Counter({'half-burpee-in': 212, 'half-burpee-out': 224}), 436)"
      ]
     },
     "execution_count": 12,
     "metadata": {},
     "output_type": "execute_result"
    }
   ],
   "source": [
    "# check balanceness\n",
    "total = len(labels)\n",
    "label_count = Counter(labels)\n",
    "label_count, total"
   ]
  },
  {
   "cell_type": "code",
   "execution_count": 13,
   "id": "a0691449",
   "metadata": {
    "ExecuteTime": {
     "end_time": "2022-03-06T15:15:51.730833Z",
     "start_time": "2022-03-06T15:15:51.717781Z"
    }
   },
   "outputs": [],
   "source": [
    "## no use now\n",
    "# since we are sure that all files can be extracted by BlazePose\n",
    "# there is no need for try-except blocks\n",
    "def extract_body_kps(image):\n",
    "    with mp_pose.Pose(min_detection_confidence = 0.5, min_tracking_confidence = 0.5) as pose: \n",
    "        results = pose.process(image.numpy())\n",
    "        pose_coor = results.pose_landmarks.landmark\n",
    "        # no need z here\n",
    "        body_kps = np.array([[landmark.x, landmark.y, landmark.visibility] for landmark in pose_coor]).flatten()\n",
    "        return body_kps"
   ]
  },
  {
   "cell_type": "code",
   "execution_count": 14,
   "id": "4513c6c5",
   "metadata": {
    "ExecuteTime": {
     "end_time": "2022-03-06T15:15:51.746808Z",
     "start_time": "2022-03-06T15:15:51.732768Z"
    }
   },
   "outputs": [],
   "source": [
    "def load_and_get_kps(image_path):\n",
    "    # load image and get kps\n",
    "    image = tf.io.read_file(image_path)\n",
    "    image = tf.io.decode_png(image, channels=3)\n",
    "    kps = tf.py_function(extract_body_kps, inp=[image], Tout=[tf.float32])[0]\n",
    "    \n",
    "    # parse label\n",
    "    label_str = tf.strings.split(image_path, os.path.sep)[-2]\n",
    "    # one-hot (le is defined below)\n",
    "    label = label_str == le.classes_\n",
    "    label = tf.cast(label, tf.int32)\n",
    "    \n",
    "    return kps, label"
   ]
  },
  {
   "cell_type": "markdown",
   "id": "94f66a62",
   "metadata": {},
   "source": [
    "# Preprocess"
   ]
  },
  {
   "cell_type": "code",
   "execution_count": 15,
   "id": "704f5542",
   "metadata": {
    "ExecuteTime": {
     "end_time": "2022-03-06T15:15:51.590770Z",
     "start_time": "2022-03-06T15:15:51.576811Z"
    }
   },
   "outputs": [],
   "source": [
    "data = np.array(data)"
   ]
  },
  {
   "cell_type": "code",
   "execution_count": 16,
   "id": "95eca835",
   "metadata": {
    "ExecuteTime": {
     "end_time": "2022-03-06T15:15:51.605817Z",
     "start_time": "2022-03-06T15:15:51.591797Z"
    }
   },
   "outputs": [],
   "source": [
    "lb = LabelBinarizer()\n",
    "lb.fit(labels)\n",
    "encoded_labels = lb.transform(labels)\n",
    "if len(lb.classes_) == 2:\n",
    "    encoded_labels = to_categorical(encoded_labels)"
   ]
  },
  {
   "cell_type": "code",
   "execution_count": 17,
   "id": "9e4d9b92",
   "metadata": {
    "ExecuteTime": {
     "end_time": "2022-03-06T15:15:51.621823Z",
     "start_time": "2022-03-06T15:15:51.607770Z"
    }
   },
   "outputs": [
    {
     "data": {
      "text/plain": [
       "array([[1., 0.],\n",
       "       [1., 0.],\n",
       "       [1., 0.],\n",
       "       [1., 0.],\n",
       "       [1., 0.],\n",
       "       [1., 0.],\n",
       "       [1., 0.],\n",
       "       [1., 0.],\n",
       "       [1., 0.],\n",
       "       [1., 0.],\n",
       "       [1., 0.],\n",
       "       [1., 0.],\n",
       "       [1., 0.],\n",
       "       [1., 0.],\n",
       "       [1., 0.],\n",
       "       [1., 0.],\n",
       "       [1., 0.],\n",
       "       [1., 0.],\n",
       "       [1., 0.],\n",
       "       [1., 0.],\n",
       "       [1., 0.],\n",
       "       [1., 0.],\n",
       "       [1., 0.],\n",
       "       [1., 0.],\n",
       "       [1., 0.],\n",
       "       [1., 0.],\n",
       "       [1., 0.],\n",
       "       [1., 0.],\n",
       "       [1., 0.],\n",
       "       [1., 0.],\n",
       "       [1., 0.],\n",
       "       [1., 0.],\n",
       "       [1., 0.],\n",
       "       [1., 0.],\n",
       "       [1., 0.],\n",
       "       [1., 0.],\n",
       "       [1., 0.],\n",
       "       [1., 0.],\n",
       "       [1., 0.],\n",
       "       [1., 0.],\n",
       "       [1., 0.],\n",
       "       [1., 0.],\n",
       "       [1., 0.],\n",
       "       [1., 0.],\n",
       "       [1., 0.],\n",
       "       [1., 0.],\n",
       "       [1., 0.],\n",
       "       [1., 0.],\n",
       "       [1., 0.],\n",
       "       [1., 0.],\n",
       "       [1., 0.],\n",
       "       [1., 0.],\n",
       "       [1., 0.],\n",
       "       [1., 0.],\n",
       "       [1., 0.],\n",
       "       [1., 0.],\n",
       "       [1., 0.],\n",
       "       [1., 0.],\n",
       "       [1., 0.],\n",
       "       [1., 0.],\n",
       "       [1., 0.],\n",
       "       [1., 0.],\n",
       "       [1., 0.],\n",
       "       [1., 0.],\n",
       "       [1., 0.],\n",
       "       [1., 0.],\n",
       "       [1., 0.],\n",
       "       [1., 0.],\n",
       "       [1., 0.],\n",
       "       [1., 0.],\n",
       "       [1., 0.],\n",
       "       [1., 0.],\n",
       "       [1., 0.],\n",
       "       [1., 0.],\n",
       "       [1., 0.],\n",
       "       [1., 0.],\n",
       "       [1., 0.],\n",
       "       [1., 0.],\n",
       "       [1., 0.],\n",
       "       [1., 0.],\n",
       "       [1., 0.],\n",
       "       [1., 0.],\n",
       "       [1., 0.],\n",
       "       [1., 0.],\n",
       "       [1., 0.],\n",
       "       [1., 0.],\n",
       "       [1., 0.],\n",
       "       [1., 0.],\n",
       "       [1., 0.],\n",
       "       [1., 0.],\n",
       "       [1., 0.],\n",
       "       [1., 0.],\n",
       "       [1., 0.],\n",
       "       [1., 0.],\n",
       "       [1., 0.],\n",
       "       [1., 0.],\n",
       "       [1., 0.],\n",
       "       [1., 0.],\n",
       "       [1., 0.],\n",
       "       [1., 0.],\n",
       "       [1., 0.],\n",
       "       [1., 0.],\n",
       "       [1., 0.],\n",
       "       [1., 0.],\n",
       "       [1., 0.],\n",
       "       [1., 0.],\n",
       "       [1., 0.],\n",
       "       [1., 0.],\n",
       "       [1., 0.],\n",
       "       [1., 0.],\n",
       "       [1., 0.],\n",
       "       [1., 0.],\n",
       "       [1., 0.],\n",
       "       [1., 0.],\n",
       "       [1., 0.],\n",
       "       [1., 0.],\n",
       "       [1., 0.],\n",
       "       [1., 0.],\n",
       "       [1., 0.],\n",
       "       [1., 0.],\n",
       "       [1., 0.],\n",
       "       [1., 0.],\n",
       "       [1., 0.],\n",
       "       [1., 0.],\n",
       "       [1., 0.],\n",
       "       [1., 0.],\n",
       "       [1., 0.],\n",
       "       [1., 0.],\n",
       "       [1., 0.],\n",
       "       [1., 0.],\n",
       "       [1., 0.],\n",
       "       [1., 0.],\n",
       "       [1., 0.],\n",
       "       [1., 0.],\n",
       "       [1., 0.],\n",
       "       [1., 0.],\n",
       "       [1., 0.],\n",
       "       [1., 0.],\n",
       "       [1., 0.],\n",
       "       [1., 0.],\n",
       "       [1., 0.],\n",
       "       [1., 0.],\n",
       "       [1., 0.],\n",
       "       [1., 0.],\n",
       "       [1., 0.],\n",
       "       [1., 0.],\n",
       "       [1., 0.],\n",
       "       [1., 0.],\n",
       "       [1., 0.],\n",
       "       [1., 0.],\n",
       "       [1., 0.],\n",
       "       [1., 0.],\n",
       "       [1., 0.],\n",
       "       [1., 0.],\n",
       "       [1., 0.],\n",
       "       [1., 0.],\n",
       "       [1., 0.],\n",
       "       [1., 0.],\n",
       "       [1., 0.],\n",
       "       [1., 0.],\n",
       "       [1., 0.],\n",
       "       [1., 0.],\n",
       "       [1., 0.],\n",
       "       [1., 0.],\n",
       "       [1., 0.],\n",
       "       [1., 0.],\n",
       "       [1., 0.],\n",
       "       [1., 0.],\n",
       "       [1., 0.],\n",
       "       [1., 0.],\n",
       "       [1., 0.],\n",
       "       [1., 0.],\n",
       "       [1., 0.],\n",
       "       [1., 0.],\n",
       "       [1., 0.],\n",
       "       [1., 0.],\n",
       "       [1., 0.],\n",
       "       [1., 0.],\n",
       "       [1., 0.],\n",
       "       [1., 0.],\n",
       "       [1., 0.],\n",
       "       [1., 0.],\n",
       "       [1., 0.],\n",
       "       [1., 0.],\n",
       "       [1., 0.],\n",
       "       [1., 0.],\n",
       "       [1., 0.],\n",
       "       [1., 0.],\n",
       "       [1., 0.],\n",
       "       [1., 0.],\n",
       "       [1., 0.],\n",
       "       [1., 0.],\n",
       "       [1., 0.],\n",
       "       [1., 0.],\n",
       "       [1., 0.],\n",
       "       [1., 0.],\n",
       "       [1., 0.],\n",
       "       [1., 0.],\n",
       "       [1., 0.],\n",
       "       [1., 0.],\n",
       "       [1., 0.],\n",
       "       [1., 0.],\n",
       "       [1., 0.],\n",
       "       [1., 0.],\n",
       "       [1., 0.],\n",
       "       [1., 0.],\n",
       "       [1., 0.],\n",
       "       [1., 0.],\n",
       "       [1., 0.],\n",
       "       [1., 0.],\n",
       "       [1., 0.],\n",
       "       [1., 0.],\n",
       "       [0., 1.],\n",
       "       [0., 1.],\n",
       "       [0., 1.],\n",
       "       [0., 1.],\n",
       "       [0., 1.],\n",
       "       [0., 1.],\n",
       "       [0., 1.],\n",
       "       [0., 1.],\n",
       "       [0., 1.],\n",
       "       [0., 1.],\n",
       "       [0., 1.],\n",
       "       [0., 1.],\n",
       "       [0., 1.],\n",
       "       [0., 1.],\n",
       "       [0., 1.],\n",
       "       [0., 1.],\n",
       "       [0., 1.],\n",
       "       [0., 1.],\n",
       "       [0., 1.],\n",
       "       [0., 1.],\n",
       "       [0., 1.],\n",
       "       [0., 1.],\n",
       "       [0., 1.],\n",
       "       [0., 1.],\n",
       "       [0., 1.],\n",
       "       [0., 1.],\n",
       "       [0., 1.],\n",
       "       [0., 1.],\n",
       "       [0., 1.],\n",
       "       [0., 1.],\n",
       "       [0., 1.],\n",
       "       [0., 1.],\n",
       "       [0., 1.],\n",
       "       [0., 1.],\n",
       "       [0., 1.],\n",
       "       [0., 1.],\n",
       "       [0., 1.],\n",
       "       [0., 1.],\n",
       "       [0., 1.],\n",
       "       [0., 1.],\n",
       "       [0., 1.],\n",
       "       [0., 1.],\n",
       "       [0., 1.],\n",
       "       [0., 1.],\n",
       "       [0., 1.],\n",
       "       [0., 1.],\n",
       "       [0., 1.],\n",
       "       [0., 1.],\n",
       "       [0., 1.],\n",
       "       [0., 1.],\n",
       "       [0., 1.],\n",
       "       [0., 1.],\n",
       "       [0., 1.],\n",
       "       [0., 1.],\n",
       "       [0., 1.],\n",
       "       [0., 1.],\n",
       "       [0., 1.],\n",
       "       [0., 1.],\n",
       "       [0., 1.],\n",
       "       [0., 1.],\n",
       "       [0., 1.],\n",
       "       [0., 1.],\n",
       "       [0., 1.],\n",
       "       [0., 1.],\n",
       "       [0., 1.],\n",
       "       [0., 1.],\n",
       "       [0., 1.],\n",
       "       [0., 1.],\n",
       "       [0., 1.],\n",
       "       [0., 1.],\n",
       "       [0., 1.],\n",
       "       [0., 1.],\n",
       "       [0., 1.],\n",
       "       [0., 1.],\n",
       "       [0., 1.],\n",
       "       [0., 1.],\n",
       "       [0., 1.],\n",
       "       [0., 1.],\n",
       "       [0., 1.],\n",
       "       [0., 1.],\n",
       "       [0., 1.],\n",
       "       [0., 1.],\n",
       "       [0., 1.],\n",
       "       [0., 1.],\n",
       "       [0., 1.],\n",
       "       [0., 1.],\n",
       "       [0., 1.],\n",
       "       [0., 1.],\n",
       "       [0., 1.],\n",
       "       [0., 1.],\n",
       "       [0., 1.],\n",
       "       [0., 1.],\n",
       "       [0., 1.],\n",
       "       [0., 1.],\n",
       "       [0., 1.],\n",
       "       [0., 1.],\n",
       "       [0., 1.],\n",
       "       [0., 1.],\n",
       "       [0., 1.],\n",
       "       [0., 1.],\n",
       "       [0., 1.],\n",
       "       [0., 1.],\n",
       "       [0., 1.],\n",
       "       [0., 1.],\n",
       "       [0., 1.],\n",
       "       [0., 1.],\n",
       "       [0., 1.],\n",
       "       [0., 1.],\n",
       "       [0., 1.],\n",
       "       [0., 1.],\n",
       "       [0., 1.],\n",
       "       [0., 1.],\n",
       "       [0., 1.],\n",
       "       [0., 1.],\n",
       "       [0., 1.],\n",
       "       [0., 1.],\n",
       "       [0., 1.],\n",
       "       [0., 1.],\n",
       "       [0., 1.],\n",
       "       [0., 1.],\n",
       "       [0., 1.],\n",
       "       [0., 1.],\n",
       "       [0., 1.],\n",
       "       [0., 1.],\n",
       "       [0., 1.],\n",
       "       [0., 1.],\n",
       "       [0., 1.],\n",
       "       [0., 1.],\n",
       "       [0., 1.],\n",
       "       [0., 1.],\n",
       "       [0., 1.],\n",
       "       [0., 1.],\n",
       "       [0., 1.],\n",
       "       [0., 1.],\n",
       "       [0., 1.],\n",
       "       [0., 1.],\n",
       "       [0., 1.],\n",
       "       [0., 1.],\n",
       "       [0., 1.],\n",
       "       [0., 1.],\n",
       "       [0., 1.],\n",
       "       [0., 1.],\n",
       "       [0., 1.],\n",
       "       [0., 1.],\n",
       "       [0., 1.],\n",
       "       [0., 1.],\n",
       "       [0., 1.],\n",
       "       [0., 1.],\n",
       "       [0., 1.],\n",
       "       [0., 1.],\n",
       "       [0., 1.],\n",
       "       [0., 1.],\n",
       "       [0., 1.],\n",
       "       [0., 1.],\n",
       "       [0., 1.],\n",
       "       [0., 1.],\n",
       "       [0., 1.],\n",
       "       [0., 1.],\n",
       "       [0., 1.],\n",
       "       [0., 1.],\n",
       "       [0., 1.],\n",
       "       [0., 1.],\n",
       "       [0., 1.],\n",
       "       [0., 1.],\n",
       "       [0., 1.],\n",
       "       [0., 1.],\n",
       "       [0., 1.],\n",
       "       [0., 1.],\n",
       "       [0., 1.],\n",
       "       [0., 1.],\n",
       "       [0., 1.],\n",
       "       [0., 1.],\n",
       "       [0., 1.],\n",
       "       [0., 1.],\n",
       "       [0., 1.],\n",
       "       [0., 1.],\n",
       "       [0., 1.],\n",
       "       [0., 1.],\n",
       "       [0., 1.],\n",
       "       [0., 1.],\n",
       "       [0., 1.],\n",
       "       [0., 1.],\n",
       "       [0., 1.],\n",
       "       [0., 1.],\n",
       "       [0., 1.],\n",
       "       [0., 1.],\n",
       "       [0., 1.],\n",
       "       [0., 1.],\n",
       "       [0., 1.],\n",
       "       [0., 1.],\n",
       "       [0., 1.],\n",
       "       [0., 1.],\n",
       "       [0., 1.],\n",
       "       [0., 1.],\n",
       "       [0., 1.],\n",
       "       [0., 1.],\n",
       "       [0., 1.],\n",
       "       [0., 1.],\n",
       "       [0., 1.],\n",
       "       [0., 1.],\n",
       "       [0., 1.],\n",
       "       [0., 1.],\n",
       "       [0., 1.],\n",
       "       [0., 1.],\n",
       "       [0., 1.],\n",
       "       [0., 1.],\n",
       "       [0., 1.],\n",
       "       [0., 1.],\n",
       "       [0., 1.],\n",
       "       [0., 1.],\n",
       "       [0., 1.],\n",
       "       [0., 1.],\n",
       "       [0., 1.],\n",
       "       [0., 1.],\n",
       "       [0., 1.],\n",
       "       [0., 1.],\n",
       "       [0., 1.],\n",
       "       [0., 1.],\n",
       "       [0., 1.],\n",
       "       [0., 1.],\n",
       "       [0., 1.],\n",
       "       [0., 1.],\n",
       "       [0., 1.],\n",
       "       [0., 1.]], dtype=float32)"
      ]
     },
     "execution_count": 17,
     "metadata": {},
     "output_type": "execute_result"
    }
   ],
   "source": [
    "encoded_labels"
   ]
  },
  {
   "cell_type": "code",
   "execution_count": 18,
   "id": "a037ef21",
   "metadata": {
    "ExecuteTime": {
     "end_time": "2022-03-06T15:15:51.637823Z",
     "start_time": "2022-03-06T15:15:51.623769Z"
    }
   },
   "outputs": [],
   "source": [
    "# # fit so that we can use le.classes_ in one-hot encoding process in pipeline\n",
    "# # and stratify\n",
    "# le = LabelEncoder()\n",
    "# le.fit(labels)\n",
    "# encoded_labels = le.transform(labels)\n",
    "# encoded_labels"
   ]
  },
  {
   "cell_type": "code",
   "execution_count": 19,
   "id": "451551b1",
   "metadata": {
    "ExecuteTime": {
     "end_time": "2022-03-06T15:15:51.653773Z",
     "start_time": "2022-03-06T15:15:51.648768Z"
    }
   },
   "outputs": [
    {
     "data": {
      "text/plain": [
       "array(['half-burpee-in', 'half-burpee-out'], dtype='<U15')"
      ]
     },
     "execution_count": 19,
     "metadata": {},
     "output_type": "execute_result"
    }
   ],
   "source": [
    "lb.classes_"
   ]
  },
  {
   "cell_type": "code",
   "execution_count": 20,
   "id": "217fc450",
   "metadata": {
    "ExecuteTime": {
     "end_time": "2022-03-06T15:15:51.668767Z",
     "start_time": "2022-03-06T15:15:51.655771Z"
    }
   },
   "outputs": [],
   "source": [
    "X_train, X_test, y_train, y_test = train_test_split(data, encoded_labels, \n",
    "                                                    test_size=0.1, \n",
    "                                                    random_state=42, \n",
    "                                                    stratify=encoded_labels)"
   ]
  },
  {
   "cell_type": "code",
   "execution_count": 21,
   "id": "48c64d55",
   "metadata": {
    "ExecuteTime": {
     "end_time": "2022-03-06T15:15:51.683809Z",
     "start_time": "2022-03-06T15:15:51.670769Z"
    },
    "scrolled": true
   },
   "outputs": [
    {
     "data": {
      "text/plain": [
       "((392, 99), (392, 2))"
      ]
     },
     "execution_count": 21,
     "metadata": {},
     "output_type": "execute_result"
    }
   ],
   "source": [
    "X_train.shape, y_train.shape"
   ]
  },
  {
   "cell_type": "code",
   "execution_count": 22,
   "id": "48ab5495",
   "metadata": {
    "ExecuteTime": {
     "end_time": "2022-03-06T15:15:51.699831Z",
     "start_time": "2022-03-06T15:15:51.684795Z"
    }
   },
   "outputs": [
    {
     "data": {
      "text/plain": [
       "((44, 99), (44, 2))"
      ]
     },
     "execution_count": 22,
     "metadata": {},
     "output_type": "execute_result"
    }
   ],
   "source": [
    "X_test.shape, y_test.shape"
   ]
  },
  {
   "cell_type": "code",
   "execution_count": 23,
   "id": "182c3a72-cbaf-4dd0-a5a2-c29aee0365e5",
   "metadata": {},
   "outputs": [
    {
     "data": {
      "text/plain": [
       "(Counter({'half-burpee-in': 191, 'half-burpee-out': 201}), 392)"
      ]
     },
     "execution_count": 23,
     "metadata": {},
     "output_type": "execute_result"
    }
   ],
   "source": [
    "# for class weighting\n",
    "total = len(y_train)\n",
    "label_count = Counter(list(lb.inverse_transform(y_train)))\n",
    "label_count, total"
   ]
  },
  {
   "cell_type": "code",
   "execution_count": 24,
   "id": "be100e05-345f-426a-abdc-4aa390dae403",
   "metadata": {},
   "outputs": [
    {
     "data": {
      "text/plain": [
       "Counter({'half-burpee-in': 191, 'half-burpee-out': 201})"
      ]
     },
     "execution_count": 24,
     "metadata": {},
     "output_type": "execute_result"
    }
   ],
   "source": [
    "label_count"
   ]
  },
  {
   "cell_type": "markdown",
   "id": "3b1061ae-29fb-4bc0-beaa-3fbf6614da68",
   "metadata": {
    "tags": []
   },
   "source": [
    "# Class weighting\n",
    "Since we have a bit imbalanced data, so we should do class weighting  \n",
    "formula derived from here: https://www.tensorflow.org/tutorials/structured_data/imbalanced_data#calculate_class_weights"
   ]
  },
  {
   "cell_type": "code",
   "execution_count": 25,
   "id": "c016e080-ab74-4eda-965a-5502b1864e4c",
   "metadata": {
    "ExecuteTime": {
     "end_time": "2022-03-29T09:54:07.028640Z",
     "start_time": "2022-03-29T09:54:07.015640Z"
    }
   },
   "outputs": [],
   "source": [
    "NUM_CLASSES = len(lb.classes_)\n",
    "class_weights = {}\n",
    "for label in label_count:\n",
    "    class_weights[lb.transform([label])[0][0]] = (1 / label_count[label]) * (total / NUM_CLASSES)"
   ]
  },
  {
   "cell_type": "code",
   "execution_count": 26,
   "id": "89151bda-1200-49c9-96ff-ffcda60f84e1",
   "metadata": {
    "ExecuteTime": {
     "end_time": "2022-03-29T09:54:07.043638Z",
     "start_time": "2022-03-29T09:54:07.031641Z"
    }
   },
   "outputs": [
    {
     "data": {
      "text/plain": [
       "{0: 1.0261780104712042, 1: 0.9751243781094527}"
      ]
     },
     "execution_count": 26,
     "metadata": {},
     "output_type": "execute_result"
    }
   ],
   "source": [
    "class_weights"
   ]
  },
  {
   "cell_type": "markdown",
   "id": "97831338-c1d8-47d3-aa8c-8a7d1f03dbc7",
   "metadata": {},
   "source": [
    "# Data pipeline\n",
    "Somehow tf.data load the data forever, so we need to do the manual way"
   ]
  },
  {
   "cell_type": "code",
   "execution_count": 27,
   "id": "daaff187",
   "metadata": {
    "ExecuteTime": {
     "end_time": "2022-03-06T15:15:51.761840Z",
     "start_time": "2022-03-06T15:15:51.750768Z"
    }
   },
   "outputs": [],
   "source": [
    "BATCH_SIZE = 32\n",
    "EPOCHS = 150\n",
    "NUM_CLASSES = len(lb.classes_)\n",
    "INIT_LR = 1e-3"
   ]
  },
  {
   "cell_type": "code",
   "execution_count": 28,
   "id": "6752505e",
   "metadata": {
    "ExecuteTime": {
     "end_time": "2022-03-06T15:15:51.777839Z",
     "start_time": "2022-03-06T15:15:51.763795Z"
    }
   },
   "outputs": [],
   "source": [
    "# train_ds = tf.data.Dataset.from_tensor_slices(train_paths)\n",
    "# train_ds = (train_ds\n",
    "#             .shuffle(len(train_paths), seed=42)\n",
    "#             .map(load_and_get_kps, num_parallel_calls=AUTOTUNE)\n",
    "#             .cache()\n",
    "#             .batch(BATCH_SIZE)\n",
    "#             .prefetch(AUTOTUNE)\n",
    "#            )"
   ]
  },
  {
   "cell_type": "code",
   "execution_count": 29,
   "id": "63ad34d2",
   "metadata": {
    "ExecuteTime": {
     "end_time": "2022-03-06T15:15:51.792832Z",
     "start_time": "2022-03-06T15:15:51.779794Z"
    }
   },
   "outputs": [],
   "source": [
    "# test_ds = tf.data.Dataset.from_tensor_slices(test_paths)\n",
    "# test_ds = (test_ds\n",
    "#             .map(load_and_get_kps, num_parallel_calls=AUTOTUNE)\n",
    "#             .cache()\n",
    "#             .batch(BATCH_SIZE)\n",
    "#             .prefetch(AUTOTUNE)\n",
    "#            )"
   ]
  },
  {
   "cell_type": "code",
   "execution_count": 30,
   "id": "f4834255",
   "metadata": {
    "ExecuteTime": {
     "end_time": "2022-03-06T15:15:51.807770Z",
     "start_time": "2022-03-06T15:15:51.794794Z"
    }
   },
   "outputs": [],
   "source": [
    "# next(iter(train_ds))"
   ]
  },
  {
   "cell_type": "code",
   "execution_count": 31,
   "id": "8e1f4d61",
   "metadata": {
    "ExecuteTime": {
     "end_time": "2022-03-06T15:15:51.822987Z",
     "start_time": "2022-03-06T15:15:51.809785Z"
    }
   },
   "outputs": [],
   "source": [
    "# data = []\n",
    "# labels = []"
   ]
  },
  {
   "cell_type": "code",
   "execution_count": 32,
   "id": "aaef2d10",
   "metadata": {
    "ExecuteTime": {
     "end_time": "2022-03-06T15:15:51.838993Z",
     "start_time": "2022-03-06T15:15:51.824768Z"
    }
   },
   "outputs": [],
   "source": [
    "# # extract pushup coordinate from images\n",
    "# # image = cv2.imread('dataset/pushup/pushup-up/pushup-up-2.jpg')\n",
    "# error_files = []\n",
    "# for image_path in tqdm(all_file_paths):\n",
    "    \n",
    "#     original_image = cv2.imread(image_path)\n",
    "#     class_name = image_path.split(os.sep)[-2]\n",
    "    \n",
    "#     with mp_pose.Pose(min_detection_confidence = 0.5, min_tracking_confidence = 0.5) as pose, \\\n",
    "#     mp_pose.Pose(min_detection_confidence = 0.5, min_tracking_confidence = 0.5) as pose2:\n",
    "\n",
    "#         image = cv2.cvtColor(original_image, cv2.COLOR_BGR2RGB)\n",
    "#         image.flags.writeable = False\n",
    "\n",
    "#         results = pose.process(image)\n",
    "\n",
    "#         image.flags.writeable = True\n",
    "#         image = cv2.cvtColor(image, cv2.COLOR_RGB2BGR)\n",
    "\n",
    "#         mp_drawing.draw_landmarks(image, results.pose_landmarks, mp_pose.POSE_CONNECTIONS,\n",
    "#                                  mp_drawing.DrawingSpec(color=(245,117,66), thickness=2, circle_radius=2),\n",
    "#                                  mp_drawing.DrawingSpec(color=(245,66,230), thickness=2, circle_radius=2)\n",
    "#                                  )\n",
    "\n",
    "#         try:\n",
    "#             pose_coor = results.pose_landmarks.landmark\n",
    "#             # no need z here\n",
    "#             row = np.array([[landmark.x, landmark.y, landmark.visibility] for landmark in pose_coor]).flatten()\n",
    "#             data.append(row)\n",
    "#             labels.append(class_name)\n",
    "\n",
    "#         except:\n",
    "#             error_files.append(image_path)\n",
    "\n",
    "# #         # augmented version (flip horizontally)\n",
    "# #         augmented_image = cv2.cvtColor(original_image, cv2.COLOR_BGR2RGB)\n",
    "# #         augmented_image = cv2.flip(augmented_image, 1)\n",
    "# #         augmented_image.flags.writeable = False\n",
    "\n",
    "# #         augmented_results = pose2.process(augmented_image)\n",
    "\n",
    "# #         augmented_image.flags.writeable = True\n",
    "# #         augmented_image = cv2.cvtColor(augmented_image, cv2.COLOR_RGB2BGR)\n",
    "\n",
    "# #         mp_drawing.draw_landmarks(augmented_image, augmented_results.pose_landmarks, mp_pose.POSE_CONNECTIONS,\n",
    "# #                                  mp_drawing.DrawingSpec(color=(245,117,66), thickness=2, circle_radius=2),\n",
    "# #                                  mp_drawing.DrawingSpec(color=(245,66,230), thickness=2, circle_radius=2)\n",
    "# #                                  )\n",
    "\n",
    "# #         try:\n",
    "# #             pose_coor = augmented_results.pose_landmarks.landmark\n",
    "# #             # no need z here\n",
    "# #             row = np.array([[landmark.x, landmark.y, landmark.visibility] for landmark in pose_coor]).flatten()\n",
    "# #             row = list(row)\n",
    "# #             row.insert(0, class_name)\n",
    "\n",
    "# #             with open('csv/pushup_coords_no_z.csv', 'a', newline = '') as file:\n",
    "# #                 csv_writer = csv.writer(file, delimiter = ',')\n",
    "# #                 csv_writer.writerow(row)\n",
    "# #         except:\n",
    "# #             error_files.append(image_path + '(augmented)')\n",
    "\n",
    "# #         cv2.imshow('Push up',image)\n",
    "# #         cv2.imshow('Augmented Push up', augmented_image)\n",
    "\n",
    "# #         cv2.waitKey(0)\n",
    "# #         cv2.destroyAllWindows()"
   ]
  },
  {
   "cell_type": "code",
   "execution_count": 33,
   "id": "95b82caa",
   "metadata": {
    "ExecuteTime": {
     "end_time": "2022-03-06T15:15:51.853813Z",
     "start_time": "2022-03-06T15:15:51.840769Z"
    },
    "scrolled": true
   },
   "outputs": [],
   "source": [
    "# error_files"
   ]
  },
  {
   "cell_type": "markdown",
   "id": "ebf300a4",
   "metadata": {},
   "source": [
    "# Model training"
   ]
  },
  {
   "cell_type": "code",
   "execution_count": 34,
   "id": "f064bd4c",
   "metadata": {
    "ExecuteTime": {
     "end_time": "2022-03-06T15:15:51.869814Z",
     "start_time": "2022-03-06T15:15:51.855769Z"
    }
   },
   "outputs": [],
   "source": [
    "# tf.keras.backend.clear_session()"
   ]
  },
  {
   "cell_type": "code",
   "execution_count": 35,
   "id": "ee183214",
   "metadata": {
    "ExecuteTime": {
     "end_time": "2022-03-06T15:15:51.885010Z",
     "start_time": "2022-03-06T15:15:51.870818Z"
    }
   },
   "outputs": [],
   "source": [
    "early_stopping = tf.keras.callbacks.EarlyStopping(monitor='val_loss', patience=15, restore_best_weights=True)"
   ]
  },
  {
   "cell_type": "code",
   "execution_count": 36,
   "id": "7cf34807",
   "metadata": {
    "ExecuteTime": {
     "end_time": "2022-03-06T15:15:54.870343Z",
     "start_time": "2022-03-06T15:15:51.886768Z"
    },
    "tags": []
   },
   "outputs": [
    {
     "name": "stderr",
     "output_type": "stream",
     "text": [
      "2022-06-19 00:57:08.023204: I tensorflow/stream_executor/platform/default/dso_loader.cc:53] Successfully opened dynamic library libcuda.so.1\n",
      "2022-06-19 00:57:08.091507: I tensorflow/stream_executor/cuda/cuda_gpu_executor.cc:937] successful NUMA node read from SysFS had negative value (-1), but there must be at least one NUMA node, so returning NUMA node zero\n",
      "2022-06-19 00:57:08.092156: I tensorflow/core/common_runtime/gpu/gpu_device.cc:1733] Found device 0 with properties: \n",
      "pciBusID: 0000:09:00.0 name: GeForce RTX 2080 SUPER computeCapability: 7.5\n",
      "coreClock: 1.845GHz coreCount: 48 deviceMemorySize: 7.79GiB deviceMemoryBandwidth: 462.00GiB/s\n",
      "2022-06-19 00:57:08.092175: I tensorflow/stream_executor/platform/default/dso_loader.cc:53] Successfully opened dynamic library libcudart.so.11.0\n",
      "2022-06-19 00:57:08.093900: I tensorflow/stream_executor/platform/default/dso_loader.cc:53] Successfully opened dynamic library libcublas.so.11\n",
      "2022-06-19 00:57:08.093937: I tensorflow/stream_executor/platform/default/dso_loader.cc:53] Successfully opened dynamic library libcublasLt.so.11\n",
      "2022-06-19 00:57:08.094587: I tensorflow/stream_executor/platform/default/dso_loader.cc:53] Successfully opened dynamic library libcufft.so.10\n",
      "2022-06-19 00:57:08.094774: I tensorflow/stream_executor/platform/default/dso_loader.cc:53] Successfully opened dynamic library libcurand.so.10\n",
      "2022-06-19 00:57:08.096354: I tensorflow/stream_executor/platform/default/dso_loader.cc:53] Successfully opened dynamic library libcusolver.so.11\n",
      "2022-06-19 00:57:08.096778: I tensorflow/stream_executor/platform/default/dso_loader.cc:53] Successfully opened dynamic library libcusparse.so.11\n",
      "2022-06-19 00:57:08.096895: I tensorflow/stream_executor/platform/default/dso_loader.cc:53] Successfully opened dynamic library libcudnn.so.8\n",
      "2022-06-19 00:57:08.097011: I tensorflow/stream_executor/cuda/cuda_gpu_executor.cc:937] successful NUMA node read from SysFS had negative value (-1), but there must be at least one NUMA node, so returning NUMA node zero\n",
      "2022-06-19 00:57:08.097734: I tensorflow/stream_executor/cuda/cuda_gpu_executor.cc:937] successful NUMA node read from SysFS had negative value (-1), but there must be at least one NUMA node, so returning NUMA node zero\n",
      "2022-06-19 00:57:08.098332: I tensorflow/core/common_runtime/gpu/gpu_device.cc:1871] Adding visible gpu devices: 0\n",
      "2022-06-19 00:57:08.098747: I tensorflow/core/platform/cpu_feature_guard.cc:142] This TensorFlow binary is optimized with oneAPI Deep Neural Network Library (oneDNN) to use the following CPU instructions in performance-critical operations:  AVX2 FMA\n",
      "To enable them in other operations, rebuild TensorFlow with the appropriate compiler flags.\n",
      "2022-06-19 00:57:08.099270: I tensorflow/stream_executor/cuda/cuda_gpu_executor.cc:937] successful NUMA node read from SysFS had negative value (-1), but there must be at least one NUMA node, so returning NUMA node zero\n",
      "2022-06-19 00:57:08.099755: I tensorflow/core/common_runtime/gpu/gpu_device.cc:1733] Found device 0 with properties: \n",
      "pciBusID: 0000:09:00.0 name: GeForce RTX 2080 SUPER computeCapability: 7.5\n",
      "coreClock: 1.845GHz coreCount: 48 deviceMemorySize: 7.79GiB deviceMemoryBandwidth: 462.00GiB/s\n",
      "2022-06-19 00:57:08.099801: I tensorflow/stream_executor/cuda/cuda_gpu_executor.cc:937] successful NUMA node read from SysFS had negative value (-1), but there must be at least one NUMA node, so returning NUMA node zero\n",
      "2022-06-19 00:57:08.100305: I tensorflow/stream_executor/cuda/cuda_gpu_executor.cc:937] successful NUMA node read from SysFS had negative value (-1), but there must be at least one NUMA node, so returning NUMA node zero\n",
      "2022-06-19 00:57:08.100770: I tensorflow/core/common_runtime/gpu/gpu_device.cc:1871] Adding visible gpu devices: 0\n",
      "2022-06-19 00:57:08.100792: I tensorflow/stream_executor/platform/default/dso_loader.cc:53] Successfully opened dynamic library libcudart.so.11.0\n",
      "2022-06-19 00:57:08.398677: I tensorflow/core/common_runtime/gpu/gpu_device.cc:1258] Device interconnect StreamExecutor with strength 1 edge matrix:\n",
      "2022-06-19 00:57:08.398701: I tensorflow/core/common_runtime/gpu/gpu_device.cc:1264]      0 \n",
      "2022-06-19 00:57:08.398706: I tensorflow/core/common_runtime/gpu/gpu_device.cc:1277] 0:   N \n",
      "2022-06-19 00:57:08.398886: I tensorflow/stream_executor/cuda/cuda_gpu_executor.cc:937] successful NUMA node read from SysFS had negative value (-1), but there must be at least one NUMA node, so returning NUMA node zero\n",
      "2022-06-19 00:57:08.399411: I tensorflow/stream_executor/cuda/cuda_gpu_executor.cc:937] successful NUMA node read from SysFS had negative value (-1), but there must be at least one NUMA node, so returning NUMA node zero\n",
      "2022-06-19 00:57:08.399907: I tensorflow/stream_executor/cuda/cuda_gpu_executor.cc:937] successful NUMA node read from SysFS had negative value (-1), but there must be at least one NUMA node, so returning NUMA node zero\n",
      "2022-06-19 00:57:08.400379: I tensorflow/core/common_runtime/gpu/gpu_device.cc:1418] Created TensorFlow device (/job:localhost/replica:0/task:0/device:GPU:0 with 6539 MB memory) -> physical GPU (device: 0, name: GeForce RTX 2080 SUPER, pci bus id: 0000:09:00.0, compute capability: 7.5)\n"
     ]
    }
   ],
   "source": [
    "model = tf.keras.Sequential([\n",
    "    tf.keras.layers.InputLayer(input_shape=(99,), dtype=tf.dtypes.float32),\n",
    "    tf.keras.layers.Dense(256, activation='relu'),\n",
    "    tf.keras.layers.Dense(128, activation='relu'),\n",
    "    tf.keras.layers.Dense(128, activation='relu'),\n",
    "    tf.keras.layers.Dense(64, activation='relu'),\n",
    "    tf.keras.layers.Dropout(0.5),\n",
    "    tf.keras.layers.Dense(32, activation='relu'),\n",
    "    tf.keras.layers.Dense(NUM_CLASSES, activation='softmax'),\n",
    "])"
   ]
  },
  {
   "cell_type": "code",
   "execution_count": 37,
   "id": "59bcb4f2",
   "metadata": {
    "ExecuteTime": {
     "end_time": "2022-03-06T15:15:54.886276Z",
     "start_time": "2022-03-06T15:15:54.873234Z"
    }
   },
   "outputs": [
    {
     "name": "stdout",
     "output_type": "stream",
     "text": [
      "Model: \"sequential\"\n",
      "_________________________________________________________________\n",
      "Layer (type)                 Output Shape              Param #   \n",
      "=================================================================\n",
      "dense (Dense)                (None, 256)               25600     \n",
      "_________________________________________________________________\n",
      "dense_1 (Dense)              (None, 128)               32896     \n",
      "_________________________________________________________________\n",
      "dense_2 (Dense)              (None, 128)               16512     \n",
      "_________________________________________________________________\n",
      "dense_3 (Dense)              (None, 64)                8256      \n",
      "_________________________________________________________________\n",
      "dropout (Dropout)            (None, 64)                0         \n",
      "_________________________________________________________________\n",
      "dense_4 (Dense)              (None, 32)                2080      \n",
      "_________________________________________________________________\n",
      "dense_5 (Dense)              (None, 2)                 66        \n",
      "=================================================================\n",
      "Total params: 85,410\n",
      "Trainable params: 85,410\n",
      "Non-trainable params: 0\n",
      "_________________________________________________________________\n"
     ]
    }
   ],
   "source": [
    "model.summary()"
   ]
  },
  {
   "cell_type": "code",
   "execution_count": 38,
   "id": "964bb278",
   "metadata": {
    "ExecuteTime": {
     "end_time": "2022-03-06T15:15:54.901286Z",
     "start_time": "2022-03-06T15:15:54.888233Z"
    }
   },
   "outputs": [],
   "source": [
    "optimizer = tf.keras.optimizers.Adam(learning_rate=INIT_LR, decay=INIT_LR / EPOCHS)"
   ]
  },
  {
   "cell_type": "code",
   "execution_count": 39,
   "id": "03fb8a2b",
   "metadata": {
    "ExecuteTime": {
     "end_time": "2022-03-06T15:15:54.917277Z",
     "start_time": "2022-03-06T15:15:54.903233Z"
    }
   },
   "outputs": [],
   "source": [
    "model.compile(optimizer=optimizer, loss='categorical_crossentropy', metrics=['accuracy'])"
   ]
  },
  {
   "cell_type": "code",
   "execution_count": 40,
   "id": "87a7317a",
   "metadata": {
    "ExecuteTime": {
     "end_time": "2022-03-06T15:16:02.927746Z",
     "start_time": "2022-03-06T15:15:54.935233Z"
    },
    "scrolled": true
   },
   "outputs": [
    {
     "name": "stdout",
     "output_type": "stream",
     "text": [
      "WARNING:tensorflow:From /home/u6188041/miniconda3/envs/ezfit_tf2/lib/python3.9/site-packages/tensorflow/python/ops/array_ops.py:5043: calling gather (from tensorflow.python.ops.array_ops) with validate_indices is deprecated and will be removed in a future version.\n",
      "Instructions for updating:\n",
      "The `validate_indices` argument has no effect. Indices are always validated on CPU and never validated on GPU.\n"
     ]
    },
    {
     "name": "stderr",
     "output_type": "stream",
     "text": [
      "2022-06-19 00:57:08.517135: I tensorflow/compiler/mlir/mlir_graph_optimization_pass.cc:176] None of the MLIR Optimization Passes are enabled (registered 2)\n",
      "2022-06-19 00:57:08.517642: I tensorflow/core/platform/profile_utils/cpu_utils.cc:114] CPU Frequency: 3500050000 Hz\n"
     ]
    },
    {
     "name": "stdout",
     "output_type": "stream",
     "text": [
      "Epoch 1/150\n"
     ]
    },
    {
     "name": "stderr",
     "output_type": "stream",
     "text": [
      "2022-06-19 00:57:08.790020: I tensorflow/stream_executor/platform/default/dso_loader.cc:53] Successfully opened dynamic library libcublas.so.11\n"
     ]
    },
    {
     "name": "stdout",
     "output_type": "stream",
     "text": [
      "13/13 [==============================] - 1s 11ms/step - loss: 0.7246 - accuracy: 0.4770 - val_loss: 0.6932 - val_accuracy: 0.5227\n",
      "Epoch 2/150\n",
      "13/13 [==============================] - 0s 3ms/step - loss: 0.7023 - accuracy: 0.4898 - val_loss: 0.6898 - val_accuracy: 0.4773\n",
      "Epoch 3/150\n",
      " 1/13 [=>............................] - ETA: 0s - loss: 0.7115 - accuracy: 0.5312"
     ]
    },
    {
     "name": "stderr",
     "output_type": "stream",
     "text": [
      "2022-06-19 00:57:09.070233: I tensorflow/stream_executor/platform/default/dso_loader.cc:53] Successfully opened dynamic library libcublasLt.so.11\n"
     ]
    },
    {
     "name": "stdout",
     "output_type": "stream",
     "text": [
      "13/13 [==============================] - 0s 3ms/step - loss: 0.6940 - accuracy: 0.5255 - val_loss: 0.6821 - val_accuracy: 0.5455\n",
      "Epoch 4/150\n",
      "13/13 [==============================] - 0s 3ms/step - loss: 0.6937 - accuracy: 0.5128 - val_loss: 0.6731 - val_accuracy: 0.6591\n",
      "Epoch 5/150\n",
      "13/13 [==============================] - 0s 3ms/step - loss: 0.6781 - accuracy: 0.5714 - val_loss: 0.6714 - val_accuracy: 0.7955\n",
      "Epoch 6/150\n",
      "13/13 [==============================] - 0s 3ms/step - loss: 0.6656 - accuracy: 0.6327 - val_loss: 0.6750 - val_accuracy: 0.5455\n",
      "Epoch 7/150\n",
      "13/13 [==============================] - 0s 3ms/step - loss: 0.6602 - accuracy: 0.5944 - val_loss: 0.6064 - val_accuracy: 0.7955\n",
      "Epoch 8/150\n",
      "13/13 [==============================] - 0s 3ms/step - loss: 0.5904 - accuracy: 0.7245 - val_loss: 0.6017 - val_accuracy: 0.6591\n",
      "Epoch 9/150\n",
      "13/13 [==============================] - 0s 3ms/step - loss: 0.5602 - accuracy: 0.6990 - val_loss: 0.4652 - val_accuracy: 0.7727\n",
      "Epoch 10/150\n",
      "13/13 [==============================] - 0s 3ms/step - loss: 0.4892 - accuracy: 0.7806 - val_loss: 0.4317 - val_accuracy: 0.8636\n",
      "Epoch 11/150\n",
      "13/13 [==============================] - 0s 3ms/step - loss: 0.4090 - accuracy: 0.8444 - val_loss: 0.3623 - val_accuracy: 0.8864\n",
      "Epoch 12/150\n",
      "13/13 [==============================] - 0s 3ms/step - loss: 0.3112 - accuracy: 0.9031 - val_loss: 0.2774 - val_accuracy: 0.8409\n",
      "Epoch 13/150\n",
      "13/13 [==============================] - 0s 3ms/step - loss: 0.3693 - accuracy: 0.8622 - val_loss: 0.3426 - val_accuracy: 0.8409\n",
      "Epoch 14/150\n",
      "13/13 [==============================] - 0s 3ms/step - loss: 0.2558 - accuracy: 0.9056 - val_loss: 0.1723 - val_accuracy: 0.9318\n",
      "Epoch 15/150\n",
      "13/13 [==============================] - 0s 3ms/step - loss: 0.2190 - accuracy: 0.9311 - val_loss: 0.2141 - val_accuracy: 0.8864\n",
      "Epoch 16/150\n",
      "13/13 [==============================] - 0s 3ms/step - loss: 0.2749 - accuracy: 0.9031 - val_loss: 0.1253 - val_accuracy: 0.9091\n",
      "Epoch 17/150\n",
      "13/13 [==============================] - 0s 3ms/step - loss: 0.2851 - accuracy: 0.8929 - val_loss: 0.1733 - val_accuracy: 0.9091\n",
      "Epoch 18/150\n",
      "13/13 [==============================] - 0s 3ms/step - loss: 0.2047 - accuracy: 0.9286 - val_loss: 0.2089 - val_accuracy: 0.9091\n",
      "Epoch 19/150\n",
      "13/13 [==============================] - 0s 3ms/step - loss: 0.1679 - accuracy: 0.9515 - val_loss: 0.1948 - val_accuracy: 0.9091\n",
      "Epoch 20/150\n",
      "13/13 [==============================] - 0s 3ms/step - loss: 0.2580 - accuracy: 0.9056 - val_loss: 0.1390 - val_accuracy: 0.9318\n",
      "Epoch 21/150\n",
      "13/13 [==============================] - 0s 3ms/step - loss: 0.1719 - accuracy: 0.9439 - val_loss: 0.0916 - val_accuracy: 1.0000\n",
      "Epoch 22/150\n",
      "13/13 [==============================] - 0s 3ms/step - loss: 0.1247 - accuracy: 0.9566 - val_loss: 0.0796 - val_accuracy: 0.9773\n",
      "Epoch 23/150\n",
      "13/13 [==============================] - 0s 3ms/step - loss: 0.1384 - accuracy: 0.9464 - val_loss: 0.0587 - val_accuracy: 0.9773\n",
      "Epoch 24/150\n",
      "13/13 [==============================] - 0s 3ms/step - loss: 0.1060 - accuracy: 0.9694 - val_loss: 0.1223 - val_accuracy: 0.9545\n",
      "Epoch 25/150\n",
      "13/13 [==============================] - 0s 3ms/step - loss: 0.1369 - accuracy: 0.9439 - val_loss: 0.0952 - val_accuracy: 0.9773\n",
      "Epoch 26/150\n",
      "13/13 [==============================] - 0s 3ms/step - loss: 0.1449 - accuracy: 0.9413 - val_loss: 0.1531 - val_accuracy: 0.9318\n",
      "Epoch 27/150\n",
      "13/13 [==============================] - 0s 3ms/step - loss: 0.0950 - accuracy: 0.9694 - val_loss: 0.1224 - val_accuracy: 0.9318\n",
      "Epoch 28/150\n",
      "13/13 [==============================] - 0s 3ms/step - loss: 0.1853 - accuracy: 0.9286 - val_loss: 0.2138 - val_accuracy: 0.9091\n",
      "Epoch 29/150\n",
      "13/13 [==============================] - 0s 3ms/step - loss: 0.4695 - accuracy: 0.8265 - val_loss: 0.1773 - val_accuracy: 0.9091\n",
      "Epoch 30/150\n",
      "13/13 [==============================] - 0s 3ms/step - loss: 0.3905 - accuracy: 0.8367 - val_loss: 0.2794 - val_accuracy: 0.8864\n",
      "Epoch 31/150\n",
      "13/13 [==============================] - 0s 3ms/step - loss: 0.2261 - accuracy: 0.9311 - val_loss: 0.1265 - val_accuracy: 0.9545\n",
      "Epoch 32/150\n",
      "13/13 [==============================] - 0s 3ms/step - loss: 0.1142 - accuracy: 0.9770 - val_loss: 0.0721 - val_accuracy: 0.9773\n",
      "Epoch 33/150\n",
      "13/13 [==============================] - 0s 3ms/step - loss: 0.0934 - accuracy: 0.9617 - val_loss: 0.0520 - val_accuracy: 1.0000\n",
      "Epoch 34/150\n",
      "13/13 [==============================] - 0s 3ms/step - loss: 0.0897 - accuracy: 0.9668 - val_loss: 0.2962 - val_accuracy: 0.9091\n",
      "Epoch 35/150\n",
      "13/13 [==============================] - 0s 3ms/step - loss: 0.1822 - accuracy: 0.9464 - val_loss: 0.2128 - val_accuracy: 0.9091\n",
      "Epoch 36/150\n",
      "13/13 [==============================] - 0s 3ms/step - loss: 0.0868 - accuracy: 0.9668 - val_loss: 0.0369 - val_accuracy: 1.0000\n",
      "Epoch 37/150\n",
      "13/13 [==============================] - 0s 3ms/step - loss: 0.0715 - accuracy: 0.9796 - val_loss: 0.0802 - val_accuracy: 0.9545\n",
      "Epoch 38/150\n",
      "13/13 [==============================] - 0s 3ms/step - loss: 0.0923 - accuracy: 0.9617 - val_loss: 0.0505 - val_accuracy: 0.9773\n",
      "Epoch 39/150\n",
      "13/13 [==============================] - 0s 3ms/step - loss: 0.0892 - accuracy: 0.9541 - val_loss: 0.1346 - val_accuracy: 0.9318\n",
      "Epoch 40/150\n",
      "13/13 [==============================] - 0s 3ms/step - loss: 0.1264 - accuracy: 0.9592 - val_loss: 0.1640 - val_accuracy: 0.9091\n",
      "Epoch 41/150\n",
      "13/13 [==============================] - 0s 3ms/step - loss: 0.1813 - accuracy: 0.9337 - val_loss: 0.3576 - val_accuracy: 0.8864\n",
      "Epoch 42/150\n",
      "13/13 [==============================] - 0s 3ms/step - loss: 0.1705 - accuracy: 0.9311 - val_loss: 0.2385 - val_accuracy: 0.9091\n",
      "Epoch 43/150\n",
      "13/13 [==============================] - 0s 3ms/step - loss: 0.1249 - accuracy: 0.9490 - val_loss: 0.1151 - val_accuracy: 0.9545\n",
      "Epoch 44/150\n",
      "13/13 [==============================] - 0s 3ms/step - loss: 0.1160 - accuracy: 0.9566 - val_loss: 0.0825 - val_accuracy: 0.9318\n",
      "Epoch 45/150\n",
      "13/13 [==============================] - 0s 3ms/step - loss: 0.0774 - accuracy: 0.9745 - val_loss: 0.0648 - val_accuracy: 0.9773\n",
      "Epoch 46/150\n",
      "13/13 [==============================] - 0s 3ms/step - loss: 0.0620 - accuracy: 0.9745 - val_loss: 0.1619 - val_accuracy: 0.9091\n",
      "Epoch 47/150\n",
      "13/13 [==============================] - 0s 3ms/step - loss: 0.1201 - accuracy: 0.9592 - val_loss: 0.1065 - val_accuracy: 0.9545\n",
      "Epoch 48/150\n",
      "13/13 [==============================] - 0s 3ms/step - loss: 0.1071 - accuracy: 0.9592 - val_loss: 0.1166 - val_accuracy: 0.9545\n",
      "Epoch 49/150\n",
      "13/13 [==============================] - 0s 3ms/step - loss: 0.0711 - accuracy: 0.9719 - val_loss: 0.0874 - val_accuracy: 0.9773\n",
      "Epoch 50/150\n",
      "13/13 [==============================] - 0s 3ms/step - loss: 0.0600 - accuracy: 0.9821 - val_loss: 0.1611 - val_accuracy: 0.9318\n",
      "Epoch 51/150\n",
      "13/13 [==============================] - 0s 3ms/step - loss: 0.0307 - accuracy: 0.9847 - val_loss: 0.1583 - val_accuracy: 0.9545\n"
     ]
    },
    {
     "data": {
      "text/plain": [
       "<tensorflow.python.keras.callbacks.History at 0x7fd704f59100>"
      ]
     },
     "execution_count": 40,
     "metadata": {},
     "output_type": "execute_result"
    }
   ],
   "source": [
    "model.fit(X_train,\n",
    "         y_train,\n",
    "         epochs=EPOCHS,\n",
    "         validation_data=(X_test, y_test),\n",
    "         callbacks=[early_stopping],\n",
    "         class_weight=class_weights)"
   ]
  },
  {
   "cell_type": "markdown",
   "id": "4064d9c8-45cd-4b6f-91b8-4e29e9304e77",
   "metadata": {
    "tags": []
   },
   "source": [
    "# Setup all dirs\n",
    "*Note:* You have to create visualization dir at the bottom most manually"
   ]
  },
  {
   "cell_type": "code",
   "execution_count": 41,
   "id": "54f8444e-4b69-4a83-818e-8c8c952e91d4",
   "metadata": {
    "ExecuteTime": {
     "end_time": "2022-03-29T10:08:09.343262Z",
     "start_time": "2022-03-29T10:08:09.330273Z"
    }
   },
   "outputs": [],
   "source": [
    "import os"
   ]
  },
  {
   "cell_type": "code",
   "execution_count": 42,
   "id": "45d6f4c1-5a8a-45ba-aa81-a6abd3ec8b7d",
   "metadata": {
    "ExecuteTime": {
     "end_time": "2022-03-29T10:08:09.359261Z",
     "start_time": "2022-03-29T10:08:09.347263Z"
    }
   },
   "outputs": [],
   "source": [
    "all_dirs = []\n",
    "model_dir = f'/data1-6tb/jom/EzFit_models/saved_models/len_{SEQ_LEN}/round_{ROUND}/{EXERCISE}/'\n",
    "all_dirs.append(model_dir)\n",
    "pickle_dir = f'/data1-6tb/jom/EzFit_models/saved_pickles/len_{SEQ_LEN}/round_{ROUND}/{EXERCISE}/'\n",
    "all_dirs.append(pickle_dir)\n",
    "output_vid_dir = f'/data1-6tb/jom/EzFit_models/output_videos/len_{SEQ_LEN}/round_{ROUND}/{EXERCISE}/'\n",
    "all_dirs.append(output_vid_dir)"
   ]
  },
  {
   "cell_type": "code",
   "execution_count": 43,
   "id": "b6784f8d-293c-41b1-91fc-d72db82ab64a",
   "metadata": {
    "ExecuteTime": {
     "end_time": "2022-03-29T10:08:09.374262Z",
     "start_time": "2022-03-29T10:08:09.361265Z"
    }
   },
   "outputs": [],
   "source": [
    "for d in all_dirs:\n",
    "    if not os.path.exists(d):\n",
    "        os.makedirs(d, exist_ok=True)"
   ]
  },
  {
   "cell_type": "markdown",
   "id": "8b5cbde5",
   "metadata": {},
   "source": [
    "# Save model"
   ]
  },
  {
   "cell_type": "code",
   "execution_count": 44,
   "id": "f45955c5",
   "metadata": {
    "ExecuteTime": {
     "end_time": "2022-03-06T15:16:02.988755Z",
     "start_time": "2022-03-06T15:16:02.929748Z"
    }
   },
   "outputs": [],
   "source": [
    "model.save(os.path.join(model_dir, f'{EXERCISE}_kps_single.h5'), save_format='h5')"
   ]
  },
  {
   "cell_type": "code",
   "execution_count": 45,
   "id": "dc320481",
   "metadata": {
    "ExecuteTime": {
     "end_time": "2022-03-06T15:16:03.003745Z",
     "start_time": "2022-03-06T15:16:02.989747Z"
    }
   },
   "outputs": [],
   "source": [
    "# serialize lb\n",
    "with open(os.path.join(pickle_dir, f'{EXERCISE}_kps_single_lb.pickle'), 'wb') as file:\n",
    "    pickle.dump(lb, file)"
   ]
  },
  {
   "cell_type": "markdown",
   "id": "2ac72487-0d55-4a3a-9a44-5ef3e11a81d9",
   "metadata": {
    "tags": []
   },
   "source": [
    "# Evaluate the model"
   ]
  },
  {
   "cell_type": "code",
   "execution_count": 46,
   "id": "d63419b4-fa49-46b5-be51-c9670bea04fa",
   "metadata": {
    "ExecuteTime": {
     "end_time": "2022-03-29T10:08:09.806271Z",
     "start_time": "2022-03-29T10:08:09.484264Z"
    },
    "tags": []
   },
   "outputs": [
    {
     "data": {
      "text/plain": [
       "array([[9.9648017e-01, 3.5198524e-03],\n",
       "       [9.9294150e-01, 7.0584957e-03],\n",
       "       [9.9158102e-01, 8.4189298e-03],\n",
       "       [9.9393314e-01, 6.0668276e-03],\n",
       "       [4.9422550e-05, 9.9995053e-01],\n",
       "       [4.5173345e-03, 9.9548268e-01],\n",
       "       [9.9614620e-01, 3.8538368e-03],\n",
       "       [9.8996848e-01, 1.0031473e-02],\n",
       "       [2.6503203e-05, 9.9997354e-01],\n",
       "       [9.4407421e-01, 5.5925809e-02],\n",
       "       [4.9901155e-05, 9.9995005e-01],\n",
       "       [1.5312553e-03, 9.9846870e-01],\n",
       "       [9.6925259e-01, 3.0747334e-02],\n",
       "       [2.8605172e-01, 7.1394825e-01],\n",
       "       [9.9110186e-01, 8.8981194e-03],\n",
       "       [1.9740607e-04, 9.9980265e-01],\n",
       "       [7.5612700e-01, 2.4387304e-01],\n",
       "       [3.6173392e-02, 9.6382660e-01],\n",
       "       [2.4066376e-04, 9.9975938e-01],\n",
       "       [1.1377176e-04, 9.9988627e-01],\n",
       "       [9.6537894e-01, 3.4621105e-02],\n",
       "       [4.2891126e-05, 9.9995708e-01],\n",
       "       [9.1585047e-05, 9.9990845e-01],\n",
       "       [4.7925449e-05, 9.9995208e-01],\n",
       "       [1.8219651e-03, 9.9817801e-01],\n",
       "       [9.9186337e-01, 8.1366217e-03],\n",
       "       [9.4354677e-01, 5.6453299e-02],\n",
       "       [9.9220806e-01, 7.7919634e-03],\n",
       "       [9.8911685e-01, 1.0883153e-02],\n",
       "       [1.1493914e-02, 9.8850608e-01],\n",
       "       [9.8593616e-01, 1.4063886e-02],\n",
       "       [7.5279093e-01, 2.4720906e-01],\n",
       "       [1.6485970e-03, 9.9835145e-01],\n",
       "       [9.6133298e-01, 3.8667019e-02],\n",
       "       [9.9787962e-01, 2.1204292e-03],\n",
       "       [8.6096033e-02, 9.1390401e-01],\n",
       "       [9.9368167e-01, 6.3183634e-03],\n",
       "       [9.7802860e-01, 2.1971421e-02],\n",
       "       [3.6892870e-06, 9.9999630e-01],\n",
       "       [1.0125736e-02, 9.8987424e-01],\n",
       "       [3.2806511e-03, 9.9671930e-01],\n",
       "       [5.4990936e-02, 9.4500905e-01],\n",
       "       [5.5563774e-02, 9.4443619e-01],\n",
       "       [1.0163456e-01, 8.9836550e-01]], dtype=float32)"
      ]
     },
     "execution_count": 46,
     "metadata": {},
     "output_type": "execute_result"
    }
   ],
   "source": [
    "raw_preds_y = model.predict(X_test)\n",
    "raw_preds_y"
   ]
  },
  {
   "cell_type": "code",
   "execution_count": 47,
   "id": "7edae11f-3dcf-4e46-9fa2-e543d6106c47",
   "metadata": {
    "tags": []
   },
   "outputs": [
    {
     "data": {
      "text/plain": [
       "array([[1, 0],\n",
       "       [1, 0],\n",
       "       [1, 0],\n",
       "       [1, 0],\n",
       "       [0, 1],\n",
       "       [0, 1],\n",
       "       [1, 0],\n",
       "       [1, 0],\n",
       "       [0, 1],\n",
       "       [1, 0],\n",
       "       [0, 1],\n",
       "       [0, 1],\n",
       "       [1, 0],\n",
       "       [0, 1],\n",
       "       [1, 0],\n",
       "       [0, 1],\n",
       "       [1, 0],\n",
       "       [0, 1],\n",
       "       [0, 1],\n",
       "       [0, 1],\n",
       "       [1, 0],\n",
       "       [0, 1],\n",
       "       [0, 1],\n",
       "       [0, 1],\n",
       "       [0, 1],\n",
       "       [1, 0],\n",
       "       [1, 0],\n",
       "       [1, 0],\n",
       "       [1, 0],\n",
       "       [0, 1],\n",
       "       [1, 0],\n",
       "       [1, 0],\n",
       "       [0, 1],\n",
       "       [1, 0],\n",
       "       [1, 0],\n",
       "       [0, 1],\n",
       "       [1, 0],\n",
       "       [1, 0],\n",
       "       [0, 1],\n",
       "       [0, 1],\n",
       "       [0, 1],\n",
       "       [0, 1],\n",
       "       [0, 1],\n",
       "       [0, 1]])"
      ]
     },
     "execution_count": 47,
     "metadata": {},
     "output_type": "execute_result"
    }
   ],
   "source": [
    "# convert prediction result to one-hot so that we can use inverse_transform of lb\n",
    "preds_y = np.equal(raw_preds_y, np.max(raw_preds_y, axis=1, keepdims=True)).astype(np.int)\n",
    "preds_y"
   ]
  },
  {
   "cell_type": "code",
   "execution_count": 48,
   "id": "4dccbcbe-f881-4b73-8b30-d075e5f127dd",
   "metadata": {
    "ExecuteTime": {
     "end_time": "2022-03-29T10:08:09.867269Z",
     "start_time": "2022-03-29T10:08:09.854262Z"
    }
   },
   "outputs": [],
   "source": [
    "test_y_text = lb.inverse_transform(y_test)\n",
    "preds_y_text = lb.inverse_transform(preds_y)"
   ]
  },
  {
   "cell_type": "markdown",
   "id": "a5aee227-10ae-4730-9966-4114fe0d10a8",
   "metadata": {},
   "source": [
    "### Accuracy"
   ]
  },
  {
   "cell_type": "code",
   "execution_count": 49,
   "id": "564464a0-c52d-4662-9426-e1c32c9bf401",
   "metadata": {
    "ExecuteTime": {
     "end_time": "2022-03-29T10:08:10.146263Z",
     "start_time": "2022-03-29T10:08:09.869263Z"
    }
   },
   "outputs": [
    {
     "name": "stdout",
     "output_type": "stream",
     "text": [
      "2/2 [==============================] - 0s 1ms/step - loss: 0.0369 - accuracy: 1.0000\n",
      "Test accuracy: 1.0\n"
     ]
    }
   ],
   "source": [
    "_, acc = model.evaluate(X_test, y_test)\n",
    "print('Test accuracy:', acc)"
   ]
  },
  {
   "cell_type": "markdown",
   "id": "afb9bfec-b8a4-4aec-a6c0-2e288a943096",
   "metadata": {},
   "source": [
    "### Confusion Matrix"
   ]
  },
  {
   "cell_type": "code",
   "execution_count": 50,
   "id": "b294aa5b-94a9-424e-b796-9100ec1dacc7",
   "metadata": {
    "ExecuteTime": {
     "end_time": "2022-03-29T10:08:10.161261Z",
     "start_time": "2022-03-29T10:08:10.149264Z"
    }
   },
   "outputs": [],
   "source": [
    "from sklearn.metrics import confusion_matrix, ConfusionMatrixDisplay"
   ]
  },
  {
   "cell_type": "code",
   "execution_count": 51,
   "id": "5040f179-a4c1-4b7e-a649-02e89b2dcadd",
   "metadata": {
    "ExecuteTime": {
     "end_time": "2022-03-29T10:08:10.177265Z",
     "start_time": "2022-03-29T10:08:10.163263Z"
    }
   },
   "outputs": [],
   "source": [
    "cm = confusion_matrix(test_y_text, preds_y_text, labels=lb.classes_)\n",
    "disp = ConfusionMatrixDisplay(confusion_matrix=cm,\n",
    "                              display_labels=lb.classes_)"
   ]
  },
  {
   "cell_type": "code",
   "execution_count": 52,
   "id": "323859f4-b1a2-49f4-bdbd-9bd6553fcc80",
   "metadata": {},
   "outputs": [],
   "source": [
    "save_cm = f'/data1-6tb/jom/EzFit_models/saved_artifacts/conf_matrix/len_{SEQ_LEN}/round_{ROUND}/{EXERCISE}'\n",
    "if not os.path.exists(save_cm):\n",
    "    os.makedirs(save_cm, exist_ok=True)"
   ]
  },
  {
   "cell_type": "code",
   "execution_count": 53,
   "id": "c6bc7a57-8f23-4ebb-b883-9feea7b2ef50",
   "metadata": {
    "ExecuteTime": {
     "end_time": "2022-03-29T10:08:10.498262Z",
     "start_time": "2022-03-29T10:08:10.179263Z"
    }
   },
   "outputs": [
    {
     "data": {
      "image/png": "[encoded data removed]",
      "text/plain": [
       "<Figure size 432x288 with 2 Axes>"
      ]
     },
     "metadata": {
      "needs_background": "light"
     },
     "output_type": "display_data"
    }
   ],
   "source": [
    "disp.plot()\n",
    "plt.savefig(os.path.join(save_cm, 'kps_single_cm.png'), dpi=300)\n",
    "plt.show()"
   ]
  },
  {
   "cell_type": "markdown",
   "id": "992fc18a-4d1f-44fc-a46d-ca6f77e38d76",
   "metadata": {},
   "source": [
    "Investigate data | Too short seq len?"
   ]
  },
  {
   "cell_type": "markdown",
   "id": "c0d4add7-05cd-4682-b0bb-309f2f0a8bbe",
   "metadata": {},
   "source": [
    "### ROC AUC"
   ]
  },
  {
   "cell_type": "code",
   "execution_count": 54,
   "id": "d1027db4-8b37-4035-bfab-a568f662e19b",
   "metadata": {
    "ExecuteTime": {
     "end_time": "2022-03-29T10:08:10.513265Z",
     "start_time": "2022-03-29T10:08:10.500264Z"
    }
   },
   "outputs": [],
   "source": [
    "from sklearn.metrics import roc_auc_score"
   ]
  },
  {
   "cell_type": "code",
   "execution_count": 55,
   "id": "8a2e20a2-923b-4d73-ade8-cc413122f541",
   "metadata": {
    "ExecuteTime": {
     "end_time": "2022-03-29T10:08:10.529260Z",
     "start_time": "2022-03-29T10:08:10.515262Z"
    }
   },
   "outputs": [
    {
     "data": {
      "text/plain": [
       "1.0"
      ]
     },
     "execution_count": 55,
     "metadata": {},
     "output_type": "execute_result"
    }
   ],
   "source": [
    "roc_auc_score(y_test, raw_preds_y)"
   ]
  },
  {
   "cell_type": "markdown",
   "id": "69981cd5",
   "metadata": {},
   "source": [
    "# Detect in realtime"
   ]
  },
  {
   "cell_type": "code",
   "execution_count": 56,
   "id": "956558f3",
   "metadata": {
    "ExecuteTime": {
     "end_time": "2022-03-06T15:16:03.142745Z",
     "start_time": "2022-03-06T15:16:03.005747Z"
    }
   },
   "outputs": [],
   "source": [
    "loaded_model = tf.keras.models.load_model(os.path.join(model_dir, f'{EXERCISE}_kps_single.h5'))"
   ]
  },
  {
   "cell_type": "code",
   "execution_count": 57,
   "id": "a87b5788",
   "metadata": {
    "ExecuteTime": {
     "end_time": "2022-03-06T15:16:03.158745Z",
     "start_time": "2022-03-06T15:16:03.144747Z"
    }
   },
   "outputs": [
    {
     "data": {
      "text/plain": [
       "[<KerasTensor: shape=(None, 99) dtype=float32 (created by layer 'input_1')>]"
      ]
     },
     "execution_count": 57,
     "metadata": {},
     "output_type": "execute_result"
    }
   ],
   "source": [
    "loaded_model.inputs"
   ]
  },
  {
   "cell_type": "code",
   "execution_count": 58,
   "id": "3154163a",
   "metadata": {
    "ExecuteTime": {
     "end_time": "2022-03-06T15:16:03.174746Z",
     "start_time": "2022-03-06T15:16:03.160747Z"
    }
   },
   "outputs": [
    {
     "data": {
      "text/plain": [
       "[<KerasTensor: shape=(None, 2) dtype=float32 (created by layer 'dense_5')>]"
      ]
     },
     "execution_count": 58,
     "metadata": {},
     "output_type": "execute_result"
    }
   ],
   "source": [
    "loaded_model.outputs"
   ]
  },
  {
   "cell_type": "code",
   "execution_count": 59,
   "id": "963dab1b",
   "metadata": {
    "ExecuteTime": {
     "end_time": "2022-03-06T15:16:03.189746Z",
     "start_time": "2022-03-06T15:16:03.177746Z"
    }
   },
   "outputs": [],
   "source": [
    "# tfjs.converters.save_keras_model(loaded_model, 'models/tfjs_models/RepCount_Pushup')"
   ]
  },
  {
   "cell_type": "markdown",
   "id": "9d9ee0b2",
   "metadata": {},
   "source": [
    "# Make detection with model"
   ]
  },
  {
   "cell_type": "code",
   "execution_count": 60,
   "id": "637eb31b",
   "metadata": {
    "ExecuteTime": {
     "end_time": "2022-03-06T15:16:03.437746Z",
     "start_time": "2022-03-06T15:16:03.422747Z"
    }
   },
   "outputs": [],
   "source": [
    "# serialize model and le\n",
    "with open(os.path.join(pickle_dir, f'{EXERCISE}_kps_single_lb.pickle'), 'rb') as file:\n",
    "    loaded_lb = pickle.load(file)"
   ]
  },
  {
   "cell_type": "code",
   "execution_count": 61,
   "id": "b6db602e-b9a7-4ba8-8ce4-3277b519f586",
   "metadata": {},
   "outputs": [],
   "source": [
    "from collections import deque, Counter"
   ]
  },
  {
   "cell_type": "code",
   "execution_count": 62,
   "id": "f8541b2e",
   "metadata": {
    "ExecuteTime": {
     "end_time": "2022-02-22T01:59:28.358387Z",
     "start_time": "2022-02-22T01:40:55.585238Z"
    },
    "scrolled": true
   },
   "outputs": [
    {
     "name": "stderr",
     "output_type": "stream",
     "text": [
      "INFO: Replacing 223 node(s) with delegate (TfLiteXNNPackDelegate) node, yielding 6 partitions.\n",
      "INFO: Replacing 318 node(s) with delegate (TfLiteXNNPackDelegate) node, yielding 1 partitions.\n"
     ]
    },
    {
     "name": "stdout",
     "output_type": "stream",
     "text": [
      "rep: 20415e-05 9.9995530e-01] half-burpee-out 0.9999553613\r"
     ]
    },
    {
     "name": "stderr",
     "output_type": "stream",
     "text": [
      "INFO: Replacing 223 node(s) with delegate (TfLiteXNNPackDelegate) node, yielding 6 partitions.\n",
      "INFO: Replacing 318 node(s) with delegate (TfLiteXNNPackDelegate) node, yielding 1 partitions.\n"
     ]
    },
    {
     "name": "stdout",
     "output_type": "stream",
     "text": [
      "[INFO] error: 'NoneType' object has no attribute 'landmark'\n",
      "[INFO] error: 'NoneType' object has no attribute 'landmark'\n",
      "[INFO] error: 'NoneType' object has no attribute 'landmark'\n",
      "[INFO] error: 'NoneType' object has no attribute 'landmark'\n",
      "[INFO] error: 'NoneType' object has no attribute 'landmark'\n",
      "[INFO] error: 'NoneType' object has no attribute 'landmark'\n",
      "[INFO] error: 'NoneType' object has no attribute 'landmark'\n",
      "[INFO] error: 'NoneType' object has no attribute 'landmark'\n",
      "[INFO] error: 'NoneType' object has no attribute 'landmark'\n",
      "[INFO] error: 'NoneType' object has no attribute 'landmark'\n",
      "[INFO] error: 'NoneType' object has no attribute 'landmark'\n",
      "[INFO] error: 'NoneType' object has no attribute 'landmark'\n",
      "[INFO] error: 'NoneType' object has no attribute 'landmark'\n",
      "[INFO] error: 'NoneType' object has no attribute 'landmark'\n",
      "[INFO] error: 'NoneType' object has no attribute 'landmark'\n",
      "[INFO] error: 'NoneType' object has no attribute 'landmark'\n",
      "[INFO] error: 'NoneType' object has no attribute 'landmark'\n",
      "[INFO] error: 'NoneType' object has no attribute 'landmark'\n",
      "[INFO] error: 'NoneType' object has no attribute 'landmark'\n",
      "[INFO] error: 'NoneType' object has no attribute 'landmark'\n",
      "[INFO] error: 'NoneType' object has no attribute 'landmark'\n",
      "[INFO] error: 'NoneType' object has no attribute 'landmark'\n",
      "[INFO] error: 'NoneType' object has no attribute 'landmark'\n",
      "[INFO] error: 'NoneType' object has no attribute 'landmark'\n",
      "[INFO] error: 'NoneType' object has no attribute 'landmark'\n",
      "[INFO] error: 'NoneType' object has no attribute 'landmark'\n",
      "[INFO] error: 'NoneType' object has no attribute 'landmark'\n",
      "[INFO] error: 'NoneType' object has no attribute 'landmark'\n",
      "[INFO] error: 'NoneType' object has no attribute 'landmark'\n",
      "[INFO] error: 'NoneType' object has no attribute 'landmark'\n",
      "[INFO] error: 'NoneType' object has no attribute 'landmark'\n",
      "[INFO] error: 'NoneType' object has no attribute 'landmark'\n",
      "[INFO] error: 'NoneType' object has no attribute 'landmark'\n",
      "[INFO] error: 'NoneType' object has no attribute 'landmark'\n",
      "[INFO] error: 'NoneType' object has no attribute 'landmark'\n",
      "[INFO] error: 'NoneType' object has no attribute 'landmark'\n",
      "[INFO] error: 'NoneType' object has no attribute 'landmark'\n",
      "[INFO] error: 'NoneType' object has no attribute 'landmark'\n",
      "[INFO] error: 'NoneType' object has no attribute 'landmark'\n",
      "[INFO] error: 'NoneType' object has no attribute 'landmark'\n",
      "[INFO] error: 'NoneType' object has no attribute 'landmark'\n",
      "[INFO] error: 'NoneType' object has no attribute 'landmark'\n",
      "[INFO] error: 'NoneType' object has no attribute 'landmark'\n",
      "[INFO] error: 'NoneType' object has no attribute 'landmark'\n",
      "[INFO] error: 'NoneType' object has no attribute 'landmark'\n",
      "[INFO] error: 'NoneType' object has no attribute 'landmark'\n",
      "[INFO] error: 'NoneType' object has no attribute 'landmark'\n",
      "[INFO] error: 'NoneType' object has no attribute 'landmark'\n",
      "[INFO] error: 'NoneType' object has no attribute 'landmark'\n",
      "[INFO] error: 'NoneType' object has no attribute 'landmark'\n",
      "[INFO] error: 'NoneType' object has no attribute 'landmark'\n",
      "[INFO] error: 'NoneType' object has no attribute 'landmark'\n",
      "[INFO] error: 'NoneType' object has no attribute 'landmark'\n",
      "[INFO] error: 'NoneType' object has no attribute 'landmark'\n",
      "[INFO] error: 'NoneType' object has no attribute 'landmark'\n",
      "[INFO] error: 'NoneType' object has no attribute 'landmark'\n",
      "[INFO] error: 'NoneType' object has no attribute 'landmark'\n",
      "[INFO] error: 'NoneType' object has no attribute 'landmark'\n",
      "[INFO] error: 'NoneType' object has no attribute 'landmark'\n",
      "[INFO] error: 'NoneType' object has no attribute 'landmark'\n",
      "[INFO] error: 'NoneType' object has no attribute 'landmark'\n",
      "[INFO] error: 'NoneType' object has no attribute 'landmark'\n",
      "[INFO] error: 'NoneType' object has no attribute 'landmark'\n",
      "[INFO] error: 'NoneType' object has no attribute 'landmark'\n",
      "[INFO] error: 'NoneType' object has no attribute 'landmark'\n",
      "[INFO] error: 'NoneType' object has no attribute 'landmark'\n",
      "[INFO] error: 'NoneType' object has no attribute 'landmark'\n",
      "[INFO] error: 'NoneType' object has no attribute 'landmark'\n",
      "[INFO] error: 'NoneType' object has no attribute 'landmark'\n",
      "[INFO] error: 'NoneType' object has no attribute 'landmark'\n",
      "[INFO] error: 'NoneType' object has no attribute 'landmark'\n",
      "[INFO] error: 'NoneType' object has no attribute 'landmark'\n",
      "[INFO] error: 'NoneType' object has no attribute 'landmark'\n",
      "[INFO] error: 'NoneType' object has no attribute 'landmark'\n",
      "[INFO] error: 'NoneType' object has no attribute 'landmark'\n",
      "[INFO] error: 'NoneType' object has no attribute 'landmark'\n",
      "[INFO] error: 'NoneType' object has no attribute 'landmark'\n",
      "[INFO] error: 'NoneType' object has no attribute 'landmark'\n",
      "[INFO] error: 'NoneType' object has no attribute 'landmark'\n",
      "[INFO] error: 'NoneType' object has no attribute 'landmark'\n",
      "[INFO] error: 'NoneType' object has no attribute 'landmark'\n",
      "[INFO] error: 'NoneType' object has no attribute 'landmark'\n",
      "[INFO] error: 'NoneType' object has no attribute 'landmark'\n",
      "[INFO] error: 'NoneType' object has no attribute 'landmark'\n",
      "[INFO] error: 'NoneType' object has no attribute 'landmark'\n",
      "[INFO] error: 'NoneType' object has no attribute 'landmark'\n",
      "[INFO] error: 'NoneType' object has no attribute 'landmark'\n",
      "[INFO] error: 'NoneType' object has no attribute 'landmark'\n",
      "[INFO] error: 'NoneType' object has no attribute 'landmark'\n",
      "[INFO] error: 'NoneType' object has no attribute 'landmark'\n",
      "[INFO] error: 'NoneType' object has no attribute 'landmark'\n",
      "[INFO] error: 'NoneType' object has no attribute 'landmark'\n",
      "[INFO] error: 'NoneType' object has no attribute 'landmark'\n",
      "[INFO] error: 'NoneType' object has no attribute 'landmark'\n",
      "[INFO] error: 'NoneType' object has no attribute 'landmark'\n",
      "[INFO] error: 'NoneType' object has no attribute 'landmark'\n",
      "[INFO] error: 'NoneType' object has no attribute 'landmark'\n",
      "[INFO] error: 'NoneType' object has no attribute 'landmark'\n",
      "[INFO] error: 'NoneType' object has no attribute 'landmark'\n",
      "rep: 394093 0.5451591 ] half-burpee-out 0.54515914\r"
     ]
    },
    {
     "name": "stderr",
     "output_type": "stream",
     "text": [
      "INFO: Replacing 223 node(s) with delegate (TfLiteXNNPackDelegate) node, yielding 6 partitions.\n",
      "INFO: Replacing 318 node(s) with delegate (TfLiteXNNPackDelegate) node, yielding 1 partitions.\n"
     ]
    },
    {
     "name": "stdout",
     "output_type": "stream",
     "text": [
      "[INFO] error: 'NoneType' object has no attribute 'landmark'\n",
      "[INFO] error: 'NoneType' object has no attribute 'landmark'\n",
      "[INFO] error: 'NoneType' object has no attribute 'landmark'\n",
      "[INFO] error: 'NoneType' object has no attribute 'landmark'\n",
      "[INFO] error: 'NoneType' object has no attribute 'landmark'\n",
      "[INFO] error: 'NoneType' object has no attribute 'landmark'\n",
      "[INFO] error: 'NoneType' object has no attribute 'landmark'\n",
      "[INFO] error: 'NoneType' object has no attribute 'landmark'\n",
      "[INFO] error: 'NoneType' object has no attribute 'landmark'\n",
      "[INFO] error: 'NoneType' object has no attribute 'landmark'\n",
      "[INFO] error: 'NoneType' object has no attribute 'landmark'\n",
      "[INFO] error: 'NoneType' object has no attribute 'landmark'\n",
      "[INFO] error: 'NoneType' object has no attribute 'landmark'\n",
      "[INFO] error: 'NoneType' object has no attribute 'landmark'\n",
      "[INFO] error: 'NoneType' object has no attribute 'landmark'\n",
      "[INFO] error: 'NoneType' object has no attribute 'landmark'\n",
      "[INFO] error: 'NoneType' object has no attribute 'landmark'\n",
      "[INFO] error: 'NoneType' object has no attribute 'landmark'\n",
      "[INFO] error: 'NoneType' object has no attribute 'landmark'\n",
      "[INFO] error: 'NoneType' object has no attribute 'landmark'\n",
      "[INFO] error: 'NoneType' object has no attribute 'landmark'\n",
      "[INFO] error: 'NoneType' object has no attribute 'landmark'\n",
      "[INFO] error: 'NoneType' object has no attribute 'landmark'\n",
      "[INFO] error: 'NoneType' object has no attribute 'landmark'\n",
      "[INFO] error: 'NoneType' object has no attribute 'landmark'\n",
      "[INFO] error: 'NoneType' object has no attribute 'landmark'\n",
      "[INFO] error: 'NoneType' object has no attribute 'landmark'\n",
      "[INFO] error: 'NoneType' object has no attribute 'landmark'\n",
      "[INFO] error: 'NoneType' object has no attribute 'landmark'\n",
      "[INFO] error: 'NoneType' object has no attribute 'landmark'\n",
      "[INFO] error: 'NoneType' object has no attribute 'landmark'\n",
      "[INFO] error: 'NoneType' object has no attribute 'landmark'\n",
      "[INFO] error: 'NoneType' object has no attribute 'landmark'\n",
      "[INFO] error: 'NoneType' object has no attribute 'landmark'\n",
      "[INFO] error: 'NoneType' object has no attribute 'landmark'\n",
      "[INFO] error: 'NoneType' object has no attribute 'landmark'\n",
      "[INFO] error: 'NoneType' object has no attribute 'landmark'\n",
      "[INFO] error: 'NoneType' object has no attribute 'landmark'\n",
      "[INFO] error: 'NoneType' object has no attribute 'landmark'\n",
      "[INFO] error: 'NoneType' object has no attribute 'landmark'\n",
      "[INFO] error: 'NoneType' object has no attribute 'landmark'\n",
      "[INFO] error: 'NoneType' object has no attribute 'landmark'\n",
      "[INFO] error: 'NoneType' object has no attribute 'landmark'\n",
      "[INFO] error: 'NoneType' object has no attribute 'landmark'\n",
      "[INFO] error: 'NoneType' object has no attribute 'landmark'\n",
      "[INFO] error: 'NoneType' object has no attribute 'landmark'\n",
      "[INFO] error: 'NoneType' object has no attribute 'landmark'\n",
      "[INFO] error: 'NoneType' object has no attribute 'landmark'\n",
      "[INFO] error: 'NoneType' object has no attribute 'landmark'\n",
      "[INFO] error: 'NoneType' object has no attribute 'landmark'\n",
      "[INFO] error: 'NoneType' object has no attribute 'landmark'\n",
      "[INFO] error: 'NoneType' object has no attribute 'landmark'\n",
      "[INFO] error: 'NoneType' object has no attribute 'landmark'\n",
      "[INFO] error: 'NoneType' object has no attribute 'landmark'\n",
      "[INFO] error: 'NoneType' object has no attribute 'landmark'\n",
      "[INFO] error: 'NoneType' object has no attribute 'landmark'\n",
      "[INFO] error: 'NoneType' object has no attribute 'landmark'\n",
      "[INFO] error: 'NoneType' object has no attribute 'landmark'\n",
      "[INFO] error: 'NoneType' object has no attribute 'landmark'\n",
      "[INFO] error: 'NoneType' object has no attribute 'landmark'\n",
      "[INFO] error: 'NoneType' object has no attribute 'landmark'\n",
      "[INFO] error: 'NoneType' object has no attribute 'landmark'\n",
      "[INFO] error: 'NoneType' object has no attribute 'landmark'\n",
      "[INFO] error: 'NoneType' object has no attribute 'landmark'\n",
      "[INFO] error: 'NoneType' object has no attribute 'landmark'\n",
      "[INFO] error: 'NoneType' object has no attribute 'landmark'\n",
      "[INFO] error: 'NoneType' object has no attribute 'landmark'\n",
      "[INFO] error: 'NoneType' object has no attribute 'landmark'\n",
      "[INFO] error: 'NoneType' object has no attribute 'landmark'\n",
      "[INFO] error: 'NoneType' object has no attribute 'landmark'\n",
      "[INFO] error: 'NoneType' object has no attribute 'landmark'\n",
      "[INFO] error: 'NoneType' object has no attribute 'landmark'\n",
      "[INFO] error: 'NoneType' object has no attribute 'landmark'\n",
      "[INFO] error: 'NoneType' object has no attribute 'landmark'\n",
      "[INFO] error: 'NoneType' object has no attribute 'landmark'\n",
      "[INFO] error: 'NoneType' object has no attribute 'landmark'\n",
      "[INFO] error: 'NoneType' object has no attribute 'landmark'\n",
      "[INFO] error: 'NoneType' object has no attribute 'landmark'\n",
      "[INFO] error: 'NoneType' object has no attribute 'landmark'\n",
      "[INFO] error: 'NoneType' object has no attribute 'landmark'\n",
      "[INFO] error: 'NoneType' object has no attribute 'landmark'\n",
      "[INFO] error: 'NoneType' object has no attribute 'landmark'\n",
      "[INFO] error: 'NoneType' object has no attribute 'landmark'\n",
      "[INFO] error: 'NoneType' object has no attribute 'landmark'\n",
      "[INFO] error: 'NoneType' object has no attribute 'landmark'\n",
      "[INFO] error: 'NoneType' object has no attribute 'landmark'\n",
      "[INFO] error: 'NoneType' object has no attribute 'landmark'\n",
      "[INFO] error: 'NoneType' object has no attribute 'landmark'\n",
      "[INFO] error: 'NoneType' object has no attribute 'landmark'\n",
      "[INFO] error: 'NoneType' object has no attribute 'landmark'\n",
      "[INFO] error: 'NoneType' object has no attribute 'landmark'\n",
      "[INFO] error: 'NoneType' object has no attribute 'landmark'\n",
      "[INFO] error: 'NoneType' object has no attribute 'landmark'\n",
      "[INFO] error: 'NoneType' object has no attribute 'landmark'\n",
      "[INFO] error: 'NoneType' object has no attribute 'landmark'\n",
      "[INFO] error: 'NoneType' object has no attribute 'landmark'\n",
      "[INFO] error: 'NoneType' object has no attribute 'landmark'\n",
      "[INFO] error: 'NoneType' object has no attribute 'landmark'\n",
      "[INFO] error: 'NoneType' object has no attribute 'landmark'\n",
      "[INFO] error: 'NoneType' object has no attribute 'landmark'\n",
      "[INFO] error: 'NoneType' object has no attribute 'landmark'\n",
      "[INFO] error: 'NoneType' object has no attribute 'landmark'\n",
      "[INFO] error: 'NoneType' object has no attribute 'landmark'\n",
      "[INFO] error: 'NoneType' object has no attribute 'landmark'\n",
      "[INFO] error: 'NoneType' object has no attribute 'landmark'\n",
      "[INFO] error: 'NoneType' object has no attribute 'landmark'\n",
      "[INFO] error: 'NoneType' object has no attribute 'landmark'\n",
      "[INFO] error: 'NoneType' object has no attribute 'landmark'\n",
      "[INFO] error: 'NoneType' object has no attribute 'landmark'\n",
      "[INFO] error: 'NoneType' object has no attribute 'landmark'\n",
      "[INFO] error: 'NoneType' object has no attribute 'landmark'\n",
      "[INFO] error: 'NoneType' object has no attribute 'landmark'\n",
      "[INFO] error: 'NoneType' object has no attribute 'landmark'\n",
      "[INFO] error: 'NoneType' object has no attribute 'landmark'\n",
      "[INFO] error: 'NoneType' object has no attribute 'landmark'\n",
      "[INFO] error: 'NoneType' object has no attribute 'landmark'\n",
      "[INFO] error: 'NoneType' object has no attribute 'landmark'\n",
      "[INFO] error: 'NoneType' object has no attribute 'landmark'\n",
      "[INFO] error: 'NoneType' object has no attribute 'landmark'\n",
      "[INFO] error: 'NoneType' object has no attribute 'landmark'\n",
      "[INFO] error: 'NoneType' object has no attribute 'landmark'\n",
      "[INFO] error: 'NoneType' object has no attribute 'landmark'\n",
      "[INFO] error: 'NoneType' object has no attribute 'landmark'\n",
      "[INFO] error: 'NoneType' object has no attribute 'landmark'\n",
      "[INFO] error: 'NoneType' object has no attribute 'landmark'\n",
      "[INFO] error: 'NoneType' object has no attribute 'landmark'\n",
      "[INFO] error: 'NoneType' object has no attribute 'landmark'\n",
      "[INFO] error: 'NoneType' object has no attribute 'landmark'\n",
      "[INFO] error: 'NoneType' object has no attribute 'landmark'\n",
      "[INFO] error: 'NoneType' object has no attribute 'landmark'\n"
     ]
    }
   ],
   "source": [
    "NUM_TEST_VIDS = 3\n",
    "for i in range(1, 1+NUM_TEST_VIDS):\n",
    "    rep_count = 0\n",
    "    preds_window = deque(maxlen=15)\n",
    "    current_stage = None\n",
    "    previous_stage = None\n",
    "    cap = cv2.VideoCapture(f'/data1-6tb/jom/EzFit_models/objective_test_videos/{EXERCISE}/{EXERCISE}_{i}.mp4')\n",
    "    # video_width = int(cap.get(3))\n",
    "    # video_height = int(cap.get(4))\n",
    "    # video_size = (video_width, video_height)\n",
    "    video_size = (640, 360)\n",
    "    video_writer = cv2.VideoWriter(os.path.join(output_vid_dir, f'{EXERCISE}_{i}_kps_single{SUFFIX_VID_NAME}.avi'), cv2.VideoWriter_fourcc(*'MJPG'),\n",
    "                                   25, video_size)\n",
    "\n",
    "    with mp_pose.Pose(min_detection_confidence = 0.5, min_tracking_confidence = 0.5) as pose:\n",
    "        while cap.isOpened():\n",
    "            success, frame = cap.read()\n",
    "            if not success:\n",
    "                break\n",
    "\n",
    "            image = cv2.cvtColor(frame, cv2.COLOR_BGR2RGB)\n",
    "\n",
    "            image = cv2.resize(image, (640, 360))\n",
    "\n",
    "            image.flags.writeable = False\n",
    "\n",
    "            results = pose.process(image)\n",
    "\n",
    "            image.flags.writeable = True\n",
    "            image = cv2.cvtColor(image, cv2.COLOR_RGB2BGR)\n",
    "\n",
    "            # Pose Detections\n",
    "            mp_drawing.draw_landmarks(image, results.pose_landmarks, mp_pose.POSE_CONNECTIONS, \n",
    "                                     mp_drawing.DrawingSpec(color=(245,117,66), thickness=2, circle_radius=4),\n",
    "                                     mp_drawing.DrawingSpec(color=(245,66,230), thickness=2, circle_radius=2)\n",
    "                                     )\n",
    "\n",
    "            # append face&body coordinates for each frame to the csv file to create dataset to train the model\n",
    "            try:\n",
    "                # extract pose\n",
    "                pose_coor = results.pose_landmarks.landmark\n",
    "                pose_row = np.array([[landmark.x, landmark.y, landmark.visibility] for landmark in pose_coor]).flatten()\n",
    "\n",
    "                y_hat = loaded_model.predict(tf.expand_dims(pose_row, axis=0))[0]\n",
    "                y_idx = np.argmax(y_hat)\n",
    "                \n",
    "                if 'hard_vote' in SUFFIX_VID_NAME:\n",
    "                    # do hard voting\n",
    "                    preds_window.append(y_idx)\n",
    "                    pred_count = Counter(preds_window)\n",
    "                    # most_common return .items() format\n",
    "                    # ex. [(0,5), (1,3)]\n",
    "                    voted_pred = pred_count.most_common(1)[0][0]\n",
    "                    class_name = loaded_lb.classes_[voted_pred]\n",
    "                else:\n",
    "                    class_name = loaded_lb.classes_[y_idx]\n",
    "                \n",
    "                prob = np.max(y_hat)\n",
    "                print(y_hat, class_name, prob, end='\\r')\n",
    "\n",
    "                # count the rep logic\n",
    "                current_stage = class_name\n",
    "\n",
    "                if current_stage == f'{EXERCISE}-{CUR_CLASS}' and previous_stage == f'{EXERCISE}-{PREV_CLASS}':\n",
    "                    rep_count += 1\n",
    "\n",
    "                previous_stage = current_stage\n",
    "\n",
    "                print('rep:',rep_count, end='\\r')\n",
    "\n",
    "    #             image = cv2.resize(image, (640, 368))\n",
    "                    \n",
    "                # status box at top left corner\n",
    "                cv2.rectangle(image, (0,0), (320,60), (245,117,16), -1)\n",
    "\n",
    "                # display class\n",
    "                cv2.putText(image, 'Class', (95, 12),\n",
    "                            cv2.FONT_HERSHEY_SIMPLEX, 0.5, (0,0,0), 1, cv2.LINE_AA)\n",
    "                cv2.putText(image, class_name, (95, 40),\n",
    "                            cv2.FONT_HERSHEY_SIMPLEX, 1, (255,255,255), 2, cv2.LINE_AA)\n",
    "\n",
    "                # display prob\n",
    "                cv2.putText(image, 'Prob', (15, 12),\n",
    "                            cv2.FONT_HERSHEY_SIMPLEX, 0.5, (0,0,0), 1, cv2.LINE_AA)\n",
    "                cv2.putText(image, str(round(np.max(prob),2)), (10, 40),\n",
    "                            cv2.FONT_HERSHEY_SIMPLEX, 1, (255,255,255), 2, cv2.LINE_AA)\n",
    "\n",
    "                # rep count box at top right corner\n",
    "                cv2.rectangle(image, (580, 60), (640, 0), (245,117,16), -1)\n",
    "\n",
    "                # display rep count\n",
    "                cv2.putText(image, 'Rep', (640-52, 0+15),\n",
    "                            cv2.FONT_HERSHEY_SIMPLEX, 0.5, (0,0,0), 1, cv2.LINE_AA)\n",
    "                cv2.putText(image, str(rep_count), (640-52, 0+50),\n",
    "                            cv2.FONT_HERSHEY_SIMPLEX, 1.25, (255,255,255), 2, cv2.LINE_AA)\n",
    "\n",
    "            except Exception as e:\n",
    "                print('[INFO] error:', e)\n",
    "            \n",
    "            video_writer.write(image)\n",
    "            if not REMOTE:\n",
    "                cv2.imshow(f'{EXERCISE} Count Detection', image)\n",
    "                if cv2.waitKey(1) & 0xFF == ord('q'):\n",
    "                    break\n",
    "\n",
    "        cap.release()\n",
    "        video_writer.release()\n",
    "        if not REMOTE:\n",
    "            cv2.destroyAllWindows()"
   ]
  },
  {
   "cell_type": "markdown",
   "id": "4ed42abe",
   "metadata": {},
   "source": [
    "# Save class for visualization"
   ]
  },
  {
   "cell_type": "code",
   "execution_count": 63,
   "id": "217afb21",
   "metadata": {
    "ExecuteTime": {
     "end_time": "2022-02-22T02:18:41.220625Z",
     "start_time": "2022-02-22T01:59:28.360384Z"
    },
    "scrolled": true
   },
   "outputs": [
    {
     "name": "stderr",
     "output_type": "stream",
     "text": [
      "INFO: Replacing 223 node(s) with delegate (TfLiteXNNPackDelegate) node, yielding 6 partitions.\n",
      "INFO: Replacing 318 node(s) with delegate (TfLiteXNNPackDelegate) node, yielding 1 partitions.\n"
     ]
    },
    {
     "name": "stdout",
     "output_type": "stream",
     "text": [
      "[INFO] error: 'NoneType' object has no attribute 'landmark'\n"
     ]
    },
    {
     "name": "stderr",
     "output_type": "stream",
     "text": [
      "INFO: Replacing 223 node(s) with delegate (TfLiteXNNPackDelegate) node, yielding 6 partitions.\n",
      "INFO: Replacing 318 node(s) with delegate (TfLiteXNNPackDelegate) node, yielding 1 partitions.\n"
     ]
    },
    {
     "name": "stdout",
     "output_type": "stream",
     "text": [
      "[INFO] error: 'NoneType' object has no attribute 'landmark'\n",
      "[INFO] error: 'NoneType' object has no attribute 'landmark'\n",
      "[INFO] error: 'NoneType' object has no attribute 'landmark'\n",
      "[INFO] error: 'NoneType' object has no attribute 'landmark'\n",
      "[INFO] error: 'NoneType' object has no attribute 'landmark'\n",
      "[INFO] error: 'NoneType' object has no attribute 'landmark'\n",
      "[INFO] error: 'NoneType' object has no attribute 'landmark'\n",
      "[INFO] error: 'NoneType' object has no attribute 'landmark'\n",
      "[INFO] error: 'NoneType' object has no attribute 'landmark'\n",
      "[INFO] error: 'NoneType' object has no attribute 'landmark'\n",
      "[INFO] error: 'NoneType' object has no attribute 'landmark'\n",
      "[INFO] error: 'NoneType' object has no attribute 'landmark'\n",
      "[INFO] error: 'NoneType' object has no attribute 'landmark'\n",
      "[INFO] error: 'NoneType' object has no attribute 'landmark'\n",
      "[INFO] error: 'NoneType' object has no attribute 'landmark'\n",
      "[INFO] error: 'NoneType' object has no attribute 'landmark'\n",
      "[INFO] error: 'NoneType' object has no attribute 'landmark'\n",
      "[INFO] error: 'NoneType' object has no attribute 'landmark'\n",
      "[INFO] error: 'NoneType' object has no attribute 'landmark'\n",
      "[INFO] error: 'NoneType' object has no attribute 'landmark'\n",
      "[INFO] error: 'NoneType' object has no attribute 'landmark'\n",
      "[INFO] error: 'NoneType' object has no attribute 'landmark'\n",
      "[INFO] error: 'NoneType' object has no attribute 'landmark'\n",
      "[INFO] error: 'NoneType' object has no attribute 'landmark'\n",
      "[INFO] error: 'NoneType' object has no attribute 'landmark'\n",
      "[INFO] error: 'NoneType' object has no attribute 'landmark'\n",
      "[INFO] error: 'NoneType' object has no attribute 'landmark'\n",
      "[INFO] error: 'NoneType' object has no attribute 'landmark'\n",
      "[INFO] error: 'NoneType' object has no attribute 'landmark'\n",
      "[INFO] error: 'NoneType' object has no attribute 'landmark'\n",
      "[INFO] error: 'NoneType' object has no attribute 'landmark'\n",
      "[INFO] error: 'NoneType' object has no attribute 'landmark'\n",
      "[INFO] error: 'NoneType' object has no attribute 'landmark'\n",
      "[INFO] error: 'NoneType' object has no attribute 'landmark'\n",
      "[INFO] error: 'NoneType' object has no attribute 'landmark'\n",
      "[INFO] error: 'NoneType' object has no attribute 'landmark'\n",
      "[INFO] error: 'NoneType' object has no attribute 'landmark'\n",
      "[INFO] error: 'NoneType' object has no attribute 'landmark'\n",
      "[INFO] error: 'NoneType' object has no attribute 'landmark'\n",
      "[INFO] error: 'NoneType' object has no attribute 'landmark'\n",
      "[INFO] error: 'NoneType' object has no attribute 'landmark'\n",
      "[INFO] error: 'NoneType' object has no attribute 'landmark'\n",
      "[INFO] error: 'NoneType' object has no attribute 'landmark'\n",
      "[INFO] error: 'NoneType' object has no attribute 'landmark'\n",
      "[INFO] error: 'NoneType' object has no attribute 'landmark'\n",
      "[INFO] error: 'NoneType' object has no attribute 'landmark'\n",
      "[INFO] error: 'NoneType' object has no attribute 'landmark'\n",
      "[INFO] error: 'NoneType' object has no attribute 'landmark'\n",
      "[INFO] error: 'NoneType' object has no attribute 'landmark'\n",
      "[INFO] error: 'NoneType' object has no attribute 'landmark'\n",
      "[INFO] error: 'NoneType' object has no attribute 'landmark'\n",
      "[INFO] error: 'NoneType' object has no attribute 'landmark'\n",
      "[INFO] error: 'NoneType' object has no attribute 'landmark'\n",
      "[INFO] error: 'NoneType' object has no attribute 'landmark'\n",
      "[INFO] error: 'NoneType' object has no attribute 'landmark'\n",
      "[INFO] error: 'NoneType' object has no attribute 'landmark'\n",
      "[INFO] error: 'NoneType' object has no attribute 'landmark'\n",
      "[INFO] error: 'NoneType' object has no attribute 'landmark'\n",
      "[INFO] error: 'NoneType' object has no attribute 'landmark'\n",
      "[INFO] error: 'NoneType' object has no attribute 'landmark'\n",
      "[INFO] error: 'NoneType' object has no attribute 'landmark'\n",
      "[INFO] error: 'NoneType' object has no attribute 'landmark'\n",
      "[INFO] error: 'NoneType' object has no attribute 'landmark'\n",
      "[INFO] error: 'NoneType' object has no attribute 'landmark'\n",
      "[INFO] error: 'NoneType' object has no attribute 'landmark'\n",
      "[INFO] error: 'NoneType' object has no attribute 'landmark'\n",
      "[INFO] error: 'NoneType' object has no attribute 'landmark'\n",
      "[INFO] error: 'NoneType' object has no attribute 'landmark'\n",
      "[INFO] error: 'NoneType' object has no attribute 'landmark'\n",
      "[INFO] error: 'NoneType' object has no attribute 'landmark'\n",
      "[INFO] error: 'NoneType' object has no attribute 'landmark'\n",
      "[INFO] error: 'NoneType' object has no attribute 'landmark'\n",
      "[INFO] error: 'NoneType' object has no attribute 'landmark'\n",
      "[INFO] error: 'NoneType' object has no attribute 'landmark'\n",
      "[INFO] error: 'NoneType' object has no attribute 'landmark'\n",
      "[INFO] error: 'NoneType' object has no attribute 'landmark'\n",
      "[INFO] error: 'NoneType' object has no attribute 'landmark'\n",
      "[INFO] error: 'NoneType' object has no attribute 'landmark'\n",
      "[INFO] error: 'NoneType' object has no attribute 'landmark'\n",
      "[INFO] error: 'NoneType' object has no attribute 'landmark'\n",
      "[INFO] error: 'NoneType' object has no attribute 'landmark'\n",
      "[INFO] error: 'NoneType' object has no attribute 'landmark'\n",
      "[INFO] error: 'NoneType' object has no attribute 'landmark'\n",
      "[INFO] error: 'NoneType' object has no attribute 'landmark'\n",
      "[INFO] error: 'NoneType' object has no attribute 'landmark'\n",
      "[INFO] error: 'NoneType' object has no attribute 'landmark'\n",
      "[INFO] error: 'NoneType' object has no attribute 'landmark'\n",
      "[INFO] error: 'NoneType' object has no attribute 'landmark'\n",
      "[INFO] error: 'NoneType' object has no attribute 'landmark'\n",
      "[INFO] error: 'NoneType' object has no attribute 'landmark'\n",
      "[INFO] error: 'NoneType' object has no attribute 'landmark'\n",
      "[INFO] error: 'NoneType' object has no attribute 'landmark'\n",
      "[INFO] error: 'NoneType' object has no attribute 'landmark'\n",
      "[INFO] error: 'NoneType' object has no attribute 'landmark'\n",
      "[INFO] error: 'NoneType' object has no attribute 'landmark'\n",
      "[INFO] error: 'NoneType' object has no attribute 'landmark'\n",
      "[INFO] error: 'NoneType' object has no attribute 'landmark'\n",
      "[INFO] error: 'NoneType' object has no attribute 'landmark'\n",
      "[0.45484093 0.5451591 ] half-burpee-out 0.54515914\r"
     ]
    },
    {
     "name": "stderr",
     "output_type": "stream",
     "text": [
      "INFO: Replacing 223 node(s) with delegate (TfLiteXNNPackDelegate) node, yielding 6 partitions.\n",
      "INFO: Replacing 318 node(s) with delegate (TfLiteXNNPackDelegate) node, yielding 1 partitions.\n"
     ]
    },
    {
     "name": "stdout",
     "output_type": "stream",
     "text": [
      "[INFO] error: 'NoneType' object has no attribute 'landmark'\n",
      "[INFO] error: 'NoneType' object has no attribute 'landmark'\n",
      "[INFO] error: 'NoneType' object has no attribute 'landmark'\n",
      "[INFO] error: 'NoneType' object has no attribute 'landmark'\n",
      "[INFO] error: 'NoneType' object has no attribute 'landmark'\n",
      "[INFO] error: 'NoneType' object has no attribute 'landmark'\n",
      "[INFO] error: 'NoneType' object has no attribute 'landmark'\n",
      "[INFO] error: 'NoneType' object has no attribute 'landmark'\n",
      "[INFO] error: 'NoneType' object has no attribute 'landmark'\n",
      "[INFO] error: 'NoneType' object has no attribute 'landmark'\n",
      "[INFO] error: 'NoneType' object has no attribute 'landmark'\n",
      "[INFO] error: 'NoneType' object has no attribute 'landmark'\n",
      "[INFO] error: 'NoneType' object has no attribute 'landmark'\n",
      "[INFO] error: 'NoneType' object has no attribute 'landmark'\n",
      "[INFO] error: 'NoneType' object has no attribute 'landmark'\n",
      "[INFO] error: 'NoneType' object has no attribute 'landmark'-in 0.8747844\n",
      "[INFO] error: 'NoneType' object has no attribute 'landmark'\n",
      "[INFO] error: 'NoneType' object has no attribute 'landmark'\n",
      "[INFO] error: 'NoneType' object has no attribute 'landmark'\n",
      "[INFO] error: 'NoneType' object has no attribute 'landmark'\n",
      "[INFO] error: 'NoneType' object has no attribute 'landmark'\n",
      "[INFO] error: 'NoneType' object has no attribute 'landmark'\n",
      "[INFO] error: 'NoneType' object has no attribute 'landmark'\n",
      "[INFO] error: 'NoneType' object has no attribute 'landmark'\n",
      "[INFO] error: 'NoneType' object has no attribute 'landmark'\n",
      "[INFO] error: 'NoneType' object has no attribute 'landmark'\n",
      "[INFO] error: 'NoneType' object has no attribute 'landmark'\n",
      "[INFO] error: 'NoneType' object has no attribute 'landmark'\n",
      "[INFO] error: 'NoneType' object has no attribute 'landmark'\n",
      "[INFO] error: 'NoneType' object has no attribute 'landmark'\n",
      "[INFO] error: 'NoneType' object has no attribute 'landmark'\n",
      "[INFO] error: 'NoneType' object has no attribute 'landmark'\n",
      "[INFO] error: 'NoneType' object has no attribute 'landmark'\n",
      "[INFO] error: 'NoneType' object has no attribute 'landmark'\n",
      "[INFO] error: 'NoneType' object has no attribute 'landmark'\n",
      "[INFO] error: 'NoneType' object has no attribute 'landmark'\n",
      "[INFO] error: 'NoneType' object has no attribute 'landmark'\n",
      "[INFO] error: 'NoneType' object has no attribute 'landmark'\n",
      "[INFO] error: 'NoneType' object has no attribute 'landmark'\n",
      "[INFO] error: 'NoneType' object has no attribute 'landmark'\n",
      "[INFO] error: 'NoneType' object has no attribute 'landmark'\n",
      "[INFO] error: 'NoneType' object has no attribute 'landmark'\n",
      "[INFO] error: 'NoneType' object has no attribute 'landmark'\n",
      "[INFO] error: 'NoneType' object has no attribute 'landmark'\n",
      "[INFO] error: 'NoneType' object has no attribute 'landmark'\n",
      "[INFO] error: 'NoneType' object has no attribute 'landmark'\n",
      "[INFO] error: 'NoneType' object has no attribute 'landmark'\n",
      "[INFO] error: 'NoneType' object has no attribute 'landmark'\n",
      "[INFO] error: 'NoneType' object has no attribute 'landmark'\n",
      "[INFO] error: 'NoneType' object has no attribute 'landmark'\n",
      "[INFO] error: 'NoneType' object has no attribute 'landmark'\n",
      "[INFO] error: 'NoneType' object has no attribute 'landmark'\n",
      "[INFO] error: 'NoneType' object has no attribute 'landmark'\n",
      "[INFO] error: 'NoneType' object has no attribute 'landmark'\n",
      "[INFO] error: 'NoneType' object has no attribute 'landmark'\n",
      "[INFO] error: 'NoneType' object has no attribute 'landmark'\n",
      "[INFO] error: 'NoneType' object has no attribute 'landmark'\n",
      "[INFO] error: 'NoneType' object has no attribute 'landmark'\n",
      "[INFO] error: 'NoneType' object has no attribute 'landmark'\n",
      "[INFO] error: 'NoneType' object has no attribute 'landmark'\n",
      "[INFO] error: 'NoneType' object has no attribute 'landmark'\n",
      "[INFO] error: 'NoneType' object has no attribute 'landmark'\n",
      "[INFO] error: 'NoneType' object has no attribute 'landmark'\n",
      "[INFO] error: 'NoneType' object has no attribute 'landmark'\n",
      "[INFO] error: 'NoneType' object has no attribute 'landmark'\n",
      "[INFO] error: 'NoneType' object has no attribute 'landmark'\n",
      "[INFO] error: 'NoneType' object has no attribute 'landmark'\n",
      "[INFO] error: 'NoneType' object has no attribute 'landmark'\n",
      "[INFO] error: 'NoneType' object has no attribute 'landmark'\n",
      "[INFO] error: 'NoneType' object has no attribute 'landmark'\n",
      "[INFO] error: 'NoneType' object has no attribute 'landmark'\n",
      "[INFO] error: 'NoneType' object has no attribute 'landmark'\n",
      "[INFO] error: 'NoneType' object has no attribute 'landmark'\n",
      "[INFO] error: 'NoneType' object has no attribute 'landmark'\n",
      "[INFO] error: 'NoneType' object has no attribute 'landmark'\n",
      "[INFO] error: 'NoneType' object has no attribute 'landmark'\n",
      "[INFO] error: 'NoneType' object has no attribute 'landmark'\n",
      "[INFO] error: 'NoneType' object has no attribute 'landmark'\n",
      "[INFO] error: 'NoneType' object has no attribute 'landmark'\n",
      "[INFO] error: 'NoneType' object has no attribute 'landmark'\n",
      "[INFO] error: 'NoneType' object has no attribute 'landmark'\n",
      "[INFO] error: 'NoneType' object has no attribute 'landmark'\n",
      "[INFO] error: 'NoneType' object has no attribute 'landmark'\n",
      "[INFO] error: 'NoneType' object has no attribute 'landmark'\n",
      "[INFO] error: 'NoneType' object has no attribute 'landmark'\n",
      "[INFO] error: 'NoneType' object has no attribute 'landmark'\n",
      "[INFO] error: 'NoneType' object has no attribute 'landmark'\n",
      "[INFO] error: 'NoneType' object has no attribute 'landmark'\n",
      "[INFO] error: 'NoneType' object has no attribute 'landmark'\n",
      "[INFO] error: 'NoneType' object has no attribute 'landmark'\n",
      "[INFO] error: 'NoneType' object has no attribute 'landmark'\n",
      "[INFO] error: 'NoneType' object has no attribute 'landmark'\n",
      "[INFO] error: 'NoneType' object has no attribute 'landmark'\n",
      "[INFO] error: 'NoneType' object has no attribute 'landmark'\n",
      "[INFO] error: 'NoneType' object has no attribute 'landmark'\n",
      "[INFO] error: 'NoneType' object has no attribute 'landmark'\n",
      "[INFO] error: 'NoneType' object has no attribute 'landmark'\n",
      "[INFO] error: 'NoneType' object has no attribute 'landmark'\n",
      "[INFO] error: 'NoneType' object has no attribute 'landmark'\n",
      "[INFO] error: 'NoneType' object has no attribute 'landmark'\n",
      "[INFO] error: 'NoneType' object has no attribute 'landmark'\n",
      "[INFO] error: 'NoneType' object has no attribute 'landmark'\n",
      "[INFO] error: 'NoneType' object has no attribute 'landmark'\n",
      "[INFO] error: 'NoneType' object has no attribute 'landmark'\n",
      "[INFO] error: 'NoneType' object has no attribute 'landmark'\n",
      "[INFO] error: 'NoneType' object has no attribute 'landmark'\n",
      "[INFO] error: 'NoneType' object has no attribute 'landmark'\n",
      "[INFO] error: 'NoneType' object has no attribute 'landmark'\n",
      "[INFO] error: 'NoneType' object has no attribute 'landmark'\n",
      "[INFO] error: 'NoneType' object has no attribute 'landmark'\n",
      "[INFO] error: 'NoneType' object has no attribute 'landmark'\n",
      "[INFO] error: 'NoneType' object has no attribute 'landmark'\n",
      "[INFO] error: 'NoneType' object has no attribute 'landmark'\n",
      "[INFO] error: 'NoneType' object has no attribute 'landmark'\n",
      "[INFO] error: 'NoneType' object has no attribute 'landmark'\n",
      "[INFO] error: 'NoneType' object has no attribute 'landmark'\n",
      "[INFO] error: 'NoneType' object has no attribute 'landmark'\n",
      "[INFO] error: 'NoneType' object has no attribute 'landmark'\n",
      "[INFO] error: 'NoneType' object has no attribute 'landmark'\n",
      "[INFO] error: 'NoneType' object has no attribute 'landmark'\n",
      "[INFO] error: 'NoneType' object has no attribute 'landmark'\n",
      "[INFO] error: 'NoneType' object has no attribute 'landmark'\n",
      "[INFO] error: 'NoneType' object has no attribute 'landmark'\n",
      "[INFO] error: 'NoneType' object has no attribute 'landmark'\n",
      "[INFO] error: 'NoneType' object has no attribute 'landmark'\n",
      "[INFO] error: 'NoneType' object has no attribute 'landmark'\n",
      "[INFO] error: 'NoneType' object has no attribute 'landmark'\n",
      "[INFO] error: 'NoneType' object has no attribute 'landmark'\n",
      "[INFO] error: 'NoneType' object has no attribute 'landmark'\n",
      "[INFO] error: 'NoneType' object has no attribute 'landmark'\n"
     ]
    }
   ],
   "source": [
    "NUM_TEST_VIDS = 3\n",
    "for i in range(1, 1+NUM_TEST_VIDS):\n",
    "    predicted_class = []\n",
    "    preds_window = deque(maxlen=15)\n",
    "    cap = cv2.VideoCapture(f'/data1-6tb/jom/EzFit_models/objective_test_videos/{EXERCISE}/{EXERCISE}_{i}.mp4')\n",
    "    total_frame = int(cap.get(cv2.CAP_PROP_FRAME_COUNT))\n",
    "    # video_width = int(cap.get(3))\n",
    "    # video_height = int(cap.get(4))\n",
    "    # video_size = (video_width, video_height)\n",
    "    video_size = (640, 360)\n",
    "    \n",
    "    with mp_pose.Pose(min_detection_confidence = 0.5, min_tracking_confidence = 0.5) as pose:\n",
    "        while cap.isOpened():\n",
    "            success, frame = cap.read()\n",
    "            if not success:\n",
    "                break\n",
    "\n",
    "            image = cv2.cvtColor(frame, cv2.COLOR_BGR2RGB)\n",
    "\n",
    "            image = cv2.resize(image, (640, 360))\n",
    "\n",
    "            image.flags.writeable = False\n",
    "\n",
    "            results = pose.process(image)\n",
    "\n",
    "            image.flags.writeable = True\n",
    "            image = cv2.cvtColor(image, cv2.COLOR_RGB2BGR)\n",
    "\n",
    "            # Pose Detections\n",
    "            mp_drawing.draw_landmarks(image, results.pose_landmarks, mp_pose.POSE_CONNECTIONS, \n",
    "                                     mp_drawing.DrawingSpec(color=(245,117,66), thickness=2, circle_radius=4),\n",
    "                                     mp_drawing.DrawingSpec(color=(245,66,230), thickness=2, circle_radius=2)\n",
    "                                     )\n",
    "\n",
    "            # append face&body coordinates for each frame to the csv file to create dataset to train the model\n",
    "            try:\n",
    "                # extract pose\n",
    "                pose_coor = results.pose_landmarks.landmark\n",
    "                pose_row = np.array([[landmark.x, landmark.y, landmark.visibility] for landmark in pose_coor]).flatten()\n",
    "\n",
    "                y_hat = loaded_model.predict(tf.expand_dims(pose_row, axis=0))[0]\n",
    "                y_idx = np.argmax(y_hat)\n",
    "                \n",
    "                if 'hard_vote' in SUFFIX_VID_NAME:\n",
    "                    # do hard voting\n",
    "                    preds_window.append(y_idx)\n",
    "                    pred_count = Counter(preds_window)\n",
    "                    # most_common return .items() format\n",
    "                    # ex. [(0,5), (1,3)]\n",
    "                    voted_pred = pred_count.most_common(1)[0][0]\n",
    "                    class_name = loaded_lb.classes_[voted_pred]\n",
    "                    predicted_class.append(voted_pred)\n",
    "                else:\n",
    "                    class_name = loaded_lb.classes_[y_idx]\n",
    "                    predicted_class.append(y_idx)\n",
    "                \n",
    "                prob = np.max(y_hat)\n",
    "                print(y_hat, class_name, prob, end='\\r')\n",
    "\n",
    "                # status box at top left corner\n",
    "                cv2.rectangle(image, (0,0), (320,60), (245,117,16), -1)\n",
    "\n",
    "                # display class\n",
    "                cv2.putText(image, 'Class', (95, 12),\n",
    "                            cv2.FONT_HERSHEY_SIMPLEX, 0.5, (0,0,0), 1, cv2.LINE_AA)\n",
    "                cv2.putText(image, class_name, (95, 40),\n",
    "                            cv2.FONT_HERSHEY_SIMPLEX, 1, (255,255,255), 2, cv2.LINE_AA)\n",
    "\n",
    "                # display prob\n",
    "                cv2.putText(image, 'Prob', (15, 12),\n",
    "                            cv2.FONT_HERSHEY_SIMPLEX, 0.5, (0,0,0), 1, cv2.LINE_AA)\n",
    "                cv2.putText(image, str(round(np.max(prob),2)), (10, 40),\n",
    "                            cv2.FONT_HERSHEY_SIMPLEX, 1, (255,255,255), 2, cv2.LINE_AA)\n",
    "\n",
    "                # rep count box at top right corner\n",
    "                cv2.rectangle(image, (580, 60), (640, 0), (245,117,16), -1)\n",
    "\n",
    "            except Exception as e:\n",
    "                predicted_class.append(0)\n",
    "                print('[INFO] error:', e)\n",
    "\n",
    "            if not REMOTE:\n",
    "                cv2.imshow(f'{EXERCISE} Count Detection', image)\n",
    "                if cv2.waitKey(1) & 0xFF == ord('q'):\n",
    "                    break\n",
    "\n",
    "        assert len(predicted_class) == total_frame, f\"# of label {len(predicted_class)} != # of frames in the video {total_frame}\"\n",
    "                    \n",
    "        temp_save_path = f'/data1-6tb/jom/EzFit_models/saved_pickles/for_visualization/{EXERCISE}/test_vid_{i}/round_{ROUND}'\n",
    "        if not os.path.exists(temp_save_path):\n",
    "            os.makedirs(temp_save_path, exist_ok=True)\n",
    "        with open(os.path.join(temp_save_path, f'test_vid_{i}_kps_single{SUFFIX_VID_NAME}.pickle'), 'wb') as f:\n",
    "            pickle.dump(predicted_class, f)\n",
    "        cap.release()\n",
    "        if not REMOTE:\n",
    "            cv2.destroyAllWindows()"
   ]
  },
  {
   "cell_type": "code",
   "execution_count": null,
   "id": "b16415fd-9cf8-4138-9010-8357fce24780",
   "metadata": {},
   "outputs": [],
   "source": []
  }
 ],
 "metadata": {
  "kernelspec": {
   "display_name": "ezfit_tf2",
   "language": "python",
   "name": "ezfit_tf2"
  },
  "language_info": {
   "codemirror_mode": {
    "name": "ipython",
    "version": 3
   },
   "file_extension": ".py",
   "mimetype": "text/x-python",
   "name": "python",
   "nbconvert_exporter": "python",
   "pygments_lexer": "ipython3",
   "version": "3.9.4"
  }
 },
 "nbformat": 4,
 "nbformat_minor": 5
}
