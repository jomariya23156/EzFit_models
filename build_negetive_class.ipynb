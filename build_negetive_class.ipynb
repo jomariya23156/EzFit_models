{
 "cells": [
  {
   "cell_type": "code",
   "execution_count": 260,
   "id": "3cb38ed8",
   "metadata": {
    "ExecuteTime": {
     "end_time": "2022-04-07T07:12:17.342381Z",
     "start_time": "2022-04-07T07:12:17.332387Z"
    }
   },
   "outputs": [],
   "source": [
    "import os\n",
    "import random\n",
    "import shutil\n",
    "import numpy as np\n",
    "from tqdm import tqdm\n",
    "from collections import Counter\n",
    "from pathlib import Path"
   ]
  },
  {
   "cell_type": "markdown",
   "id": "63833fb9-1bd7-4588-9fe1-8a14cb96ca1a",
   "metadata": {
    "tags": []
   },
   "source": [
    "### amount of split video each exercise\n",
    "*same for all length*  \n",
    "pushup: 217 per class  \n",
    "squat: 122 per class  \n",
    "jumping-jack: 138 per class  \n",
    "leg-raise: 127 per class  \n",
    "half-burpee: 112 per class  "
   ]
  },
  {
   "cell_type": "code",
   "execution_count": 261,
   "id": "6c6fe922",
   "metadata": {
    "ExecuteTime": {
     "end_time": "2022-04-07T07:12:17.357420Z",
     "start_time": "2022-04-07T07:12:17.344382Z"
    }
   },
   "outputs": [],
   "source": [
    "EXERCISE = 'half-burpee'\n",
    "TYPE = 'keypoints_seq'\n",
    "LEN = 16\n",
    "SAM_NUM = 112 # split video level"
   ]
  },
  {
   "cell_type": "code",
   "execution_count": 262,
   "id": "fdf7c789",
   "metadata": {
    "ExecuteTime": {
     "end_time": "2022-04-07T07:12:21.713402Z",
     "start_time": "2022-04-07T07:12:17.360381Z"
    }
   },
   "outputs": [],
   "source": [
    "if TYPE != 'images':\n",
    "    neg_dir = Path(f'/home/u6188041/jom/Dataset/EzFit_dataset/{TYPE}/len_{LEN}')\n",
    "    accepted_exts = ('.npy')\n",
    "else:\n",
    "    neg_dir = Path(f'/home/u6188041/jom/Dataset/EzFit_dataset/{TYPE}')\n",
    "    accepted_exts = ('.jpg', '.jpeg','.png')\n",
    "all_negs = []\n",
    "classes = []\n",
    "for path, subdir, files in os.walk(neg_dir):\n",
    "    for file in files:\n",
    "        full_path = os.path.join(path, file)\n",
    "        if file.endswith(accepted_exts) and EXERCISE not in full_path and 'other' not in full_path and 'idle' not in full_path:\n",
    "            split = full_path.split(os.path.sep)\n",
    "            if TYPE != 'images':\n",
    "                class_name = split[-4] + '_' + split[-3]\n",
    "            else:\n",
    "                class_name = split[-3] + '_' + split[-2]\n",
    "            \n",
    "            all_negs.append(full_path)\n",
    "            classes.append(class_name)"
   ]
  },
  {
   "cell_type": "code",
   "execution_count": 263,
   "id": "b84b1149-9b34-4fb6-afb6-1b8240a4e3bf",
   "metadata": {
    "tags": []
   },
   "outputs": [],
   "source": [
    "# all_negs"
   ]
  },
  {
   "cell_type": "code",
   "execution_count": 264,
   "id": "75bce1e2-c313-4ed3-9759-4dd18cd91356",
   "metadata": {},
   "outputs": [
    {
     "data": {
      "text/plain": [
       "21397"
      ]
     },
     "execution_count": 264,
     "metadata": {},
     "output_type": "execute_result"
    }
   ],
   "source": [
    "len(all_negs)"
   ]
  },
  {
   "cell_type": "code",
   "execution_count": 265,
   "id": "67c80973-422f-4f70-8506-ea26988ec837",
   "metadata": {
    "tags": []
   },
   "outputs": [],
   "source": [
    "# classes"
   ]
  },
  {
   "cell_type": "markdown",
   "id": "b6de5a45-3224-4cbb-9ed6-beafa2348017",
   "metadata": {},
   "source": [
    "# Split videos level\n",
    "image datatype cannot use this (use seq level instead)"
   ]
  },
  {
   "cell_type": "code",
   "execution_count": 266,
   "id": "43cf11d1-e07c-4a5f-8bf6-f77faa60da10",
   "metadata": {},
   "outputs": [],
   "source": [
    "def class_no(path):\n",
    "    split = path.split(os.path.sep)\n",
    "    return split[-3] + '_' + split[-2]"
   ]
  },
  {
   "cell_type": "code",
   "execution_count": 267,
   "id": "e3befcfd-8716-4500-a247-3c2e690fbbd8",
   "metadata": {
    "tags": []
   },
   "outputs": [],
   "source": [
    "split_vid = list(map(class_no, all_negs))\n",
    "# split_vid"
   ]
  },
  {
   "cell_type": "code",
   "execution_count": 268,
   "id": "c1d16049-50e1-47c2-84fc-33a319ecfded",
   "metadata": {},
   "outputs": [
    {
     "data": {
      "text/plain": [
       "21397"
      ]
     },
     "execution_count": 268,
     "metadata": {},
     "output_type": "execute_result"
    }
   ],
   "source": [
    "len(split_vid)"
   ]
  },
  {
   "cell_type": "code",
   "execution_count": 269,
   "id": "b9e088a8-becf-4499-8e15-f18a82966fc4",
   "metadata": {
    "tags": []
   },
   "outputs": [],
   "source": [
    "unique = list(np.unique(split_vid))\n",
    "# unique"
   ]
  },
  {
   "cell_type": "code",
   "execution_count": 270,
   "id": "f57d20c0-03ee-4732-bf05-255c1e4319ab",
   "metadata": {
    "tags": []
   },
   "outputs": [],
   "source": [
    "uniq_split_vid_class = list(map(lambda x: x.split('_')[0], unique))\n",
    "# uniq_split_vid_class"
   ]
  },
  {
   "cell_type": "code",
   "execution_count": 271,
   "id": "ec2d5c16-6636-4330-8dc6-4833f6ede035",
   "metadata": {
    "tags": []
   },
   "outputs": [
    {
     "data": {
      "text/plain": [
       "Counter({'jumping-jack-down': 21,\n",
       "         'jumping-jack-up': 43,\n",
       "         'leg-raise-down': 127,\n",
       "         'leg-raise-up': 127,\n",
       "         'pushup-down': 177,\n",
       "         'pushup-up': 155,\n",
       "         'squat-down': 113,\n",
       "         'squat-up': 113})"
      ]
     },
     "execution_count": 271,
     "metadata": {},
     "output_type": "execute_result"
    }
   ],
   "source": [
    "# for counting and weighting\n",
    "Counter(uniq_split_vid_class)"
   ]
  },
  {
   "cell_type": "code",
   "execution_count": 272,
   "id": "4953a2ab-1a29-4550-a42c-72da334d6dd1",
   "metadata": {},
   "outputs": [],
   "source": [
    "# sample idx for uniq_split_vid_class\n",
    "# then refer them back to all_negs"
   ]
  },
  {
   "cell_type": "code",
   "execution_count": 273,
   "id": "31cc5c0e-2d66-4e50-a4c7-c43d124d0f6c",
   "metadata": {
    "ExecuteTime": {
     "end_time": "2022-04-07T07:12:21.743402Z",
     "start_time": "2022-04-07T07:12:21.717405Z"
    }
   },
   "outputs": [],
   "source": [
    "total = len(uniq_split_vid_class)\n",
    "sam_weights_mapping = {k:total/v for k,v in dict(Counter(uniq_split_vid_class)).items()}\n",
    "sam_weights = [sam_weights_mapping[cls] for cls in uniq_split_vid_class]\n",
    "sam_weights = np.array(sam_weights)\n",
    "sam_weights = sam_weights / sam_weights.min() # scale down so that the min value become 1\n",
    "sam_weights = sam_weights / sam_weights.sum() # make it sum up to 1"
   ]
  },
  {
   "cell_type": "code",
   "execution_count": 274,
   "id": "6f65c29b-bce0-4bdb-a40f-3c76d8cc3365",
   "metadata": {
    "tags": []
   },
   "outputs": [],
   "source": [
    "# sam_weights"
   ]
  },
  {
   "cell_type": "code",
   "execution_count": 275,
   "id": "a65864e1-bfc8-4cf7-acf8-7d0d41b43b04",
   "metadata": {
    "ExecuteTime": {
     "end_time": "2022-04-07T07:12:21.759404Z",
     "start_time": "2022-04-07T07:12:21.745404Z"
    }
   },
   "outputs": [],
   "source": [
    "class_mapping = dict(zip(unique, uniq_split_vid_class))\n",
    "weight_mapping = dict(zip(unique, sam_weights))"
   ]
  },
  {
   "cell_type": "code",
   "execution_count": 276,
   "id": "53a292e3-e3fa-4f30-975c-e647023de2de",
   "metadata": {},
   "outputs": [],
   "source": [
    "np.random.seed(42)\n",
    "picked = np.random.choice(unique, size=SAM_NUM, replace=False, p=sam_weights)"
   ]
  },
  {
   "cell_type": "code",
   "execution_count": 277,
   "id": "3af6cf96-b5c1-4f3c-bad8-4fbfc031a801",
   "metadata": {
    "ExecuteTime": {
     "end_time": "2022-04-07T07:12:21.775407Z",
     "start_time": "2022-04-07T07:12:21.762404Z"
    }
   },
   "outputs": [],
   "source": [
    "# random.seed(42)\n",
    "# picked = random.choices(unique, weights=sam_weights, k=SAM_NUM)"
   ]
  },
  {
   "cell_type": "code",
   "execution_count": 278,
   "id": "938954b5-0c17-4e8b-9a61-d0f6ae031d3b",
   "metadata": {
    "ExecuteTime": {
     "end_time": "2022-04-07T07:12:21.790412Z",
     "start_time": "2022-04-07T07:12:21.777403Z"
    }
   },
   "outputs": [],
   "source": [
    "picked_classes = [class_mapping[path] for path in picked]\n",
    "picked_weights = [weight_mapping[path] for path in picked] # acutually... useless"
   ]
  },
  {
   "cell_type": "code",
   "execution_count": 279,
   "id": "43f8ee39-903b-4355-ad75-03cb0c45df1c",
   "metadata": {
    "ExecuteTime": {
     "end_time": "2022-04-07T07:12:21.806404Z",
     "start_time": "2022-04-07T07:12:21.793405Z"
    }
   },
   "outputs": [
    {
     "data": {
      "text/plain": [
       "Counter({'leg-raise-down': 17,\n",
       "         'squat-up': 15,\n",
       "         'pushup-up': 11,\n",
       "         'pushup-down': 16,\n",
       "         'jumping-jack-up': 13,\n",
       "         'jumping-jack-down': 13,\n",
       "         'squat-down': 17,\n",
       "         'leg-raise-up': 10})"
      ]
     },
     "execution_count": 279,
     "metadata": {},
     "output_type": "execute_result"
    }
   ],
   "source": [
    "# check distribution of sample\n",
    "Counter(picked_classes)"
   ]
  },
  {
   "cell_type": "code",
   "execution_count": 280,
   "id": "eb538a5a-263b-46e6-9fbf-3d28b43fd16a",
   "metadata": {},
   "outputs": [
    {
     "data": {
      "text/plain": [
       "['leg-raise-down', '9_2']"
      ]
     },
     "execution_count": 280,
     "metadata": {},
     "output_type": "execute_result"
    }
   ],
   "source": [
    "split = picked[0].split('_', 1)\n",
    "split"
   ]
  },
  {
   "cell_type": "code",
   "execution_count": 281,
   "id": "1ccb11b1-9b5f-42ed-ba16-428348d47e71",
   "metadata": {},
   "outputs": [],
   "source": [
    "seq_no = split[-1]\n",
    "ex_class = split[0]"
   ]
  },
  {
   "cell_type": "code",
   "execution_count": 282,
   "id": "356fe0a8-86a3-4735-acf3-0556db33ed89",
   "metadata": {},
   "outputs": [],
   "source": [
    "ex_split = ex_class.split('-')\n",
    "ex_name = ex_split[0] if len(ex_split) == 2 else ex_split[0] + '-' + ex_split[1]"
   ]
  },
  {
   "cell_type": "code",
   "execution_count": 283,
   "id": "3e415025-2654-4dc2-b231-3adbb6422500",
   "metadata": {},
   "outputs": [
    {
     "data": {
      "text/plain": [
       "('leg-raise', 'leg-raise-down', '9_2')"
      ]
     },
     "execution_count": 283,
     "metadata": {},
     "output_type": "execute_result"
    }
   ],
   "source": [
    "ex_name, ex_class, seq_no"
   ]
  },
  {
   "cell_type": "code",
   "execution_count": 284,
   "id": "a8ee7ccb-8864-4971-9227-fcdbc71e951b",
   "metadata": {},
   "outputs": [
    {
     "data": {
      "text/plain": [
       "112"
      ]
     },
     "execution_count": 284,
     "metadata": {},
     "output_type": "execute_result"
    }
   ],
   "source": [
    "len(np.unique(picked))"
   ]
  },
  {
   "cell_type": "markdown",
   "id": "418dd921-ed49-4a96-a7ad-30893cd1b6e4",
   "metadata": {},
   "source": [
    "## Save to dir"
   ]
  },
  {
   "cell_type": "code",
   "execution_count": 285,
   "id": "2ddc6286-026b-45f1-938b-41fd31cfd88d",
   "metadata": {},
   "outputs": [
    {
     "name": "stderr",
     "output_type": "stream",
     "text": [
      "100%|████████████████████████████████████████████████████████████████████████████████| 112/112 [00:00<00:00, 781.14it/s]\n"
     ]
    }
   ],
   "source": [
    "if TYPE != 'images':\n",
    "    save_dir = Path(f'/home/u6188041/jom/Dataset/EzFit_dataset/{TYPE}/len_{LEN}/{EXERCISE}/others')\n",
    "else:\n",
    "    save_dir = Path(f'/home/u6188041/jom/Dataset/EzFit_dataset/{TYPE}/{EXERCISE}/others')\n",
    "for name in tqdm(picked):\n",
    "    split = name.split('_', 1)\n",
    "    seq_no = split[-1]\n",
    "    ex_class = split[0]\n",
    "    ex_split = ex_class.split('-')\n",
    "    ex_name = ex_split[0] if len(ex_split) == 2 else ex_split[0] + '-' + ex_split[1]\n",
    "    # ex_name, ex_class, seq_no = ('squat', 'squat-down', '13_2')\n",
    "    src = neg_dir / ex_name / ex_class / seq_no\n",
    "    dst = save_dir / name\n",
    "    shutil.copytree(src, dst)"
   ]
  },
  {
   "cell_type": "markdown",
   "id": "170ae472-265d-4334-89a9-7488ead11b7f",
   "metadata": {},
   "source": [
    "---"
   ]
  },
  {
   "cell_type": "markdown",
   "id": "fa48c159-ad90-43ed-bc9e-11db31c62378",
   "metadata": {
    "tags": []
   },
   "source": [
    "# Seq level"
   ]
  },
  {
   "cell_type": "code",
   "execution_count": 73,
   "id": "e03f5153",
   "metadata": {
    "ExecuteTime": {
     "end_time": "2022-04-07T07:12:21.743402Z",
     "start_time": "2022-04-07T07:12:21.717405Z"
    }
   },
   "outputs": [],
   "source": [
    "total = len(classes)\n",
    "sam_weights_mapping = {k:total/v for k,v in dict(Counter(classes)).items()}\n",
    "# sam_weights_mapping\n",
    "sam_weights = [sam_weights_mapping[cls] for cls in classes]"
   ]
  },
  {
   "cell_type": "code",
   "execution_count": 74,
   "id": "64022972",
   "metadata": {
    "ExecuteTime": {
     "end_time": "2022-04-07T07:12:21.759404Z",
     "start_time": "2022-04-07T07:12:21.745404Z"
    }
   },
   "outputs": [],
   "source": [
    "class_mapping = dict(zip(all_negs, classes))\n",
    "weight_mapping = dict(zip(all_negs, sam_weights))"
   ]
  },
  {
   "cell_type": "code",
   "execution_count": 75,
   "id": "a61f4501",
   "metadata": {
    "ExecuteTime": {
     "end_time": "2022-04-07T07:12:21.775407Z",
     "start_time": "2022-04-07T07:12:21.762404Z"
    }
   },
   "outputs": [],
   "source": [
    "picked = random.choices(all_negs, weights=sam_weights, k=SAM_NUM)"
   ]
  },
  {
   "cell_type": "code",
   "execution_count": 76,
   "id": "4beaddda",
   "metadata": {
    "ExecuteTime": {
     "end_time": "2022-04-07T07:12:21.790412Z",
     "start_time": "2022-04-07T07:12:21.777403Z"
    }
   },
   "outputs": [],
   "source": [
    "picked_classes = [class_mapping[path] for path in picked]\n",
    "picked_weights = [weight_mapping[path] for path in picked] # acutually... useless"
   ]
  },
  {
   "cell_type": "code",
   "execution_count": 77,
   "id": "aa881bf1",
   "metadata": {
    "ExecuteTime": {
     "end_time": "2022-04-07T07:12:21.806404Z",
     "start_time": "2022-04-07T07:12:21.793405Z"
    }
   },
   "outputs": [
    {
     "data": {
      "text/plain": [
       "Counter({'squat_squat-up': 42,\n",
       "         'pushup_pushup-down': 29,\n",
       "         'pushup_pushup-up': 25,\n",
       "         'jumping-jack_jumping-jack-up': 22,\n",
       "         'leg-raise_leg-raise-up': 41,\n",
       "         'jumping-jack_jumping-jack-down': 28,\n",
       "         'squat_squat-down': 26,\n",
       "         'leg-raise_leg-raise-down': 39})"
      ]
     },
     "execution_count": 77,
     "metadata": {},
     "output_type": "execute_result"
    }
   ],
   "source": [
    "# check distribution of sample\n",
    "Counter(picked_classes)"
   ]
  },
  {
   "cell_type": "markdown",
   "id": "37176a3f",
   "metadata": {},
   "source": [
    "## Save to .npy files"
   ]
  },
  {
   "cell_type": "code",
   "execution_count": 78,
   "id": "981f675c",
   "metadata": {
    "ExecuteTime": {
     "end_time": "2022-04-07T07:12:58.803063Z",
     "start_time": "2022-04-07T07:12:21.808404Z"
    }
   },
   "outputs": [
    {
     "name": "stderr",
     "output_type": "stream",
     "text": [
      "100%|███████████████████████████████████████████████████████████████████████████████| 252/252 [00:00<00:00, 6262.79it/s]\n"
     ]
    }
   ],
   "source": [
    "if TYPE != 'images':\n",
    "    save_dir = Path(f'/home/u6188041/jom/Dataset/EzFit_dataset/{TYPE}/len_{LEN}/{EXERCISE}/others')\n",
    "else:\n",
    "    save_dir = Path(f'/home/u6188041/jom/Dataset/EzFit_dataset/{TYPE}/{EXERCISE}/others')\n",
    "for idx in tqdm(range(len(picked))):\n",
    "    if TYPE != 'images':\n",
    "        base_dir = save_dir / str(idx)\n",
    "    else:\n",
    "        base_dir = save_dir\n",
    "    if not base_dir.exists():\n",
    "        base_dir.mkdir(parents=True)\n",
    "    selected = Path(picked[idx])\n",
    "    selected_ext = selected.suffix # this will return extension (e.g. .jpg, .npy)\n",
    "    shutil.copy2(selected, base_dir / f'others_{idx}{selected_ext}')"
   ]
  },
  {
   "cell_type": "code",
   "execution_count": null,
   "id": "6db26b90",
   "metadata": {},
   "outputs": [],
   "source": []
  }
 ],
 "metadata": {
  "kernelspec": {
   "display_name": "ezfit_tf2",
   "language": "python",
   "name": "ezfit_tf2"
  },
  "language_info": {
   "codemirror_mode": {
    "name": "ipython",
    "version": 3
   },
   "file_extension": ".py",
   "mimetype": "text/x-python",
   "name": "python",
   "nbconvert_exporter": "python",
   "pygments_lexer": "ipython3",
   "version": "3.9.4"
  }
 },
 "nbformat": 4,
 "nbformat_minor": 5
}
