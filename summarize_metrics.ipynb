{
 "cells": [
  {
   "cell_type": "code",
   "execution_count": 2,
   "id": "dff7934d-3c80-4c9c-a602-26ccf89505fa",
   "metadata": {},
   "outputs": [],
   "source": [
    "import os\n",
    "import numpy as np\n",
    "import pandas as pd"
   ]
  },
  {
   "cell_type": "markdown",
   "id": "d3b47238-bf16-4b85-a4f8-87cbc12483a0",
   "metadata": {},
   "source": [
    "## UCF_dataset"
   ]
  },
  {
   "cell_type": "code",
   "execution_count": 11,
   "id": "29776476-73f3-4076-93c7-55027996b308",
   "metadata": {},
   "outputs": [],
   "source": [
    "csv_dir = 'evaluation_videos/UCF_dataset/outputs/'"
   ]
  },
  {
   "cell_type": "code",
   "execution_count": 12,
   "id": "4b6177f5-0c18-49f1-8ce5-1c5c7a54727f",
   "metadata": {},
   "outputs": [
    {
     "name": "stdout",
     "output_type": "stream",
     "text": [
      "===== kps_stacked =====\n",
      "Overall OBO: 0.8666666666666667\n",
      "OBO of pushup: 0.84\n",
      "OBO of squat: 0.88\n",
      "OBO of jumping-jack: 0.88\n",
      "\n",
      "===== kps_seq =====\n",
      "Overall OBO: 0.9066666666666666\n",
      "OBO of pushup: 0.88\n",
      "OBO of squat: 0.96\n",
      "OBO of jumping-jack: 0.88\n",
      "\n",
      "===== kps_single =====\n",
      "Overall OBO: 0.72\n",
      "OBO of pushup: 0.68\n",
      "OBO of squat: 0.8\n",
      "OBO of jumping-jack: 0.68\n",
      "\n",
      "===== image_single =====\n",
      "Overall OBO: 0.32\n",
      "OBO of pushup: 0.36\n",
      "OBO of squat: 0.48\n",
      "OBO of jumping-jack: 0.12\n",
      "\n",
      "===== ViViT =====\n",
      "Overall OBO: 0.3333333333333333\n",
      "OBO of pushup: 0.64\n",
      "OBO of squat: 0.36\n",
      "OBO of jumping-jack: 0.0\n",
      "\n",
      "===== video_sequence =====\n",
      "Overall OBO: 0.37333333333333335\n",
      "OBO of pushup: 0.44\n",
      "OBO of squat: 0.36\n",
      "OBO of jumping-jack: 0.32\n",
      "\n"
     ]
    }
   ],
   "source": [
    "model_types = ['kps_stacked', 'kps_seq', 'kps_single', 'image_single', 'ViViT', 'video_sequence']\n",
    "exercise_list = ['pushup', 'squat', 'jumping-jack']\n",
    "for model in model_types:\n",
    "    temp = os.path.join(csv_dir, f'{model}_hard_vote_UCF_dataset.csv')\n",
    "    print(f'===== {model} =====')\n",
    "    df = pd.read_csv(temp)\n",
    "    print('Overall OBO:', df['obo'].mean())\n",
    "    for exercise in exercise_list:\n",
    "        print(f'OBO of {exercise}:', df[df['exercise']==exercise]['obo'].mean())\n",
    "    print()"
   ]
  },
  {
   "cell_type": "markdown",
   "id": "01d453e1-b6f0-4562-989b-26fc53145061",
   "metadata": {},
   "source": [
    "## EzFit_dataset"
   ]
  },
  {
   "cell_type": "code",
   "execution_count": 13,
   "id": "eff28a2f-3fc7-48ab-898c-c540f6965ec1",
   "metadata": {},
   "outputs": [],
   "source": [
    "csv_dir = 'evaluation_videos/EzFit_dataset/outputs/'"
   ]
  },
  {
   "cell_type": "code",
   "execution_count": 23,
   "id": "ce433133-eeaa-4b4a-a7b0-64780a2342d9",
   "metadata": {},
   "outputs": [
    {
     "name": "stdout",
     "output_type": "stream",
     "text": [
      "===== kps_stacked =====\n",
      "Overall OBO: 0.8787878787878788\n",
      "OBO of pushup: 1.0\n",
      "OBO of squat: 1.0\n",
      "OBO of jumping-jack: 0.7142857142857143\n",
      "OBO of leg-raise: 0.9285714285714286\n",
      "OBO of half-burpee: 0.7692307692307693\n",
      "\n",
      "===== kps_seq =====\n",
      "Overall OBO: 0.8787878787878788\n",
      "OBO of pushup: 1.0\n",
      "OBO of squat: 0.8333333333333334\n",
      "OBO of jumping-jack: 0.7857142857142857\n",
      "OBO of leg-raise: 1.0\n",
      "OBO of half-burpee: 0.7692307692307693\n",
      "\n",
      "===== kps_single =====\n",
      "Overall OBO: 0.8333333333333334\n",
      "OBO of pushup: 0.9230769230769231\n",
      "OBO of squat: 0.5\n",
      "OBO of jumping-jack: 0.9285714285714286\n",
      "OBO of leg-raise: 1.0\n",
      "OBO of half-burpee: 0.7692307692307693\n",
      "\n",
      "===== image_single =====\n",
      "Overall OBO: 0.09090909090909091\n",
      "OBO of pushup: 0.07692307692307693\n",
      "OBO of squat: 0.4166666666666667\n",
      "OBO of jumping-jack: 0.0\n",
      "OBO of leg-raise: 0.0\n",
      "OBO of half-burpee: 0.0\n",
      "\n",
      "===== ViViT =====\n",
      "Overall OBO: 0.15151515151515152\n",
      "OBO of pushup: 0.6153846153846154\n",
      "OBO of squat: 0.16666666666666666\n",
      "OBO of jumping-jack: 0.0\n",
      "OBO of leg-raise: 0.0\n",
      "OBO of half-burpee: 0.0\n",
      "\n",
      "===== video_sequence =====\n",
      "Overall OBO: 0.015151515151515152\n",
      "OBO of pushup: 0.0\n",
      "OBO of squat: 0.0\n",
      "OBO of jumping-jack: 0.07142857142857142\n",
      "OBO of leg-raise: 0.0\n",
      "OBO of half-burpee: 0.0\n",
      "\n"
     ]
    },
    {
     "name": "stderr",
     "output_type": "stream",
     "text": [
      "/tmp/ipykernel_24849/109907049.py:10: UserWarning: Boolean Series key will be reindexed to match DataFrame index.\n",
      "  print(f'OBO of {exercise}:', df[df['exercise']==exercise][~df['file_name'].str.contains('extra')]['obo'].mean())\n"
     ]
    }
   ],
   "source": [
    "model_types = ['kps_stacked', 'kps_seq', 'kps_single', 'image_single', 'ViViT', 'video_sequence']\n",
    "exercise_list = ['pushup', 'squat', 'jumping-jack', 'leg-raise', 'half-burpee']\n",
    "for model in model_types:\n",
    "    temp = os.path.join(csv_dir, f'{model}_hard_vote_EzFit_dataset.csv')\n",
    "    print(f'===== {model} =====')\n",
    "    df = pd.read_csv(temp)\n",
    "    # not include jumping-jack_extra (full side view)\n",
    "    print('Overall OBO:', df[~df['file_name'].str.contains('jumping-jack_extra')]['obo'].mean())\n",
    "    for exercise in exercise_list:\n",
    "        if exercise == 'jumping-jack':\n",
    "            print(f'OBO of {exercise}:', df[df['exercise']==exercise][~df['file_name'].str.contains('extra')]['obo'].mean())\n",
    "        else:\n",
    "            print(f'OBO of {exercise}:', df[df['exercise']==exercise]['obo'].mean())\n",
    "    print()"
   ]
  },
  {
   "cell_type": "code",
   "execution_count": null,
   "id": "97e56542-0206-438b-8d61-a23b6d3e319d",
   "metadata": {},
   "outputs": [],
   "source": []
  }
 ],
 "metadata": {
  "kernelspec": {
   "display_name": "ezfit_tf2",
   "language": "python",
   "name": "ezfit_tf2"
  },
  "language_info": {
   "codemirror_mode": {
    "name": "ipython",
    "version": 3
   },
   "file_extension": ".py",
   "mimetype": "text/x-python",
   "name": "python",
   "nbconvert_exporter": "python",
   "pygments_lexer": "ipython3",
   "version": "3.9.4"
  }
 },
 "nbformat": 4,
 "nbformat_minor": 5
}
