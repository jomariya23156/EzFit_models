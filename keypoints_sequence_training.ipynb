{
 "cells": [
  {
   "cell_type": "markdown",
   "id": "5742db3c",
   "metadata": {},
   "source": [
    "# Import libraries"
   ]
  },
  {
   "cell_type": "code",
   "execution_count": 1,
   "id": "a646a861",
   "metadata": {
    "ExecuteTime": {
     "end_time": "2022-04-07T07:13:53.214290Z",
     "start_time": "2022-04-07T07:13:53.207287Z"
    }
   },
   "outputs": [
    {
     "name": "stderr",
     "output_type": "stream",
     "text": [
      "2022-05-24 12:07:29.086186: I tensorflow/stream_executor/platform/default/dso_loader.cc:53] Successfully opened dynamic library libcudart.so.11.0\n"
     ]
    }
   ],
   "source": [
    "import numpy as np\n",
    "import os\n",
    "os.environ[\"CUDA_VISIBLE_DEVICES\"] = \"0\"\n",
    "import time\n",
    "import cv2\n",
    "import pickle\n",
    "from tqdm import tqdm\n",
    "from matplotlib import pyplot as plt\n",
    "import mediapipe as mp\n",
    "import tensorflow as tf\n",
    "from tensorflow.data import AUTOTUNE\n",
    "from collections import Counter"
   ]
  },
  {
   "cell_type": "code",
   "execution_count": 2,
   "id": "4c4ef001",
   "metadata": {
    "ExecuteTime": {
     "end_time": "2022-04-07T07:13:53.229287Z",
     "start_time": "2022-04-07T07:13:53.216288Z"
    }
   },
   "outputs": [],
   "source": [
    "from sklearn.model_selection import train_test_split\n",
    "from sklearn.preprocessing import LabelEncoder\n",
    "from tensorflow.keras.utils import to_categorical"
   ]
  },
  {
   "cell_type": "code",
   "execution_count": 3,
   "id": "ad6db936",
   "metadata": {
    "ExecuteTime": {
     "end_time": "2022-04-07T07:13:53.245287Z",
     "start_time": "2022-04-07T07:13:53.231288Z"
    }
   },
   "outputs": [],
   "source": [
    "ROUND = 1\n",
    "SEQ_LEN = 16\n",
    "EXERCISE = 'squat'\n",
    "CUR_CLASS = 'up'\n",
    "PREV_CLASS = 'down'\n",
    "SUBFIX_VID_NAME = '_hard_vote'\n",
    "REMOTE = True"
   ]
  },
  {
   "cell_type": "markdown",
   "id": "cda0986e",
   "metadata": {},
   "source": [
    "# Initialize Mediapipe objects"
   ]
  },
  {
   "cell_type": "code",
   "execution_count": 4,
   "id": "618f3be0",
   "metadata": {
    "ExecuteTime": {
     "end_time": "2022-04-07T07:13:53.261287Z",
     "start_time": "2022-04-07T07:13:53.247286Z"
    }
   },
   "outputs": [],
   "source": [
    "mp_pose = mp.solutions.pose\n",
    "mp_holistic = mp.solutions.holistic\n",
    "mp_drawing = mp.solutions.drawing_utils"
   ]
  },
  {
   "cell_type": "markdown",
   "id": "333eaa70",
   "metadata": {},
   "source": [
    "# Load the data from disk"
   ]
  },
  {
   "cell_type": "code",
   "execution_count": 5,
   "id": "3a9e480e",
   "metadata": {
    "ExecuteTime": {
     "end_time": "2022-04-07T07:13:53.353286Z",
     "start_time": "2022-04-07T07:13:53.340287Z"
    }
   },
   "outputs": [],
   "source": [
    "all_file_paths = []\n",
    "vid_to_seqs = {}"
   ]
  },
  {
   "cell_type": "code",
   "execution_count": 6,
   "id": "1ba079f7",
   "metadata": {
    "ExecuteTime": {
     "end_time": "2022-04-07T07:13:53.849285Z",
     "start_time": "2022-04-07T07:13:53.355287Z"
    }
   },
   "outputs": [
    {
     "name": "stderr",
     "output_type": "stream",
     "text": [
      "485it [00:00, 17614.12it/s]\n"
     ]
    }
   ],
   "source": [
    "if REMOTE:\n",
    "    walk_path = f'/home/u6188041/jom/Dataset/EzFit_dataset/keypoints_seq/len_{SEQ_LEN}/{EXERCISE}'\n",
    "else:\n",
    "    walk_path = f'D:\\EzFit_dataset\\keypoints_seq\\len_{SEQ_LEN}\\{EXERCISE}'\n",
    "for path, subdirs, files in tqdm(os.walk(walk_path)):\n",
    "    # print(path, subdirs, files)\n",
    "    if files:\n",
    "        split = path.split(os.path.sep)\n",
    "        vid_name = os.path.join(split[-2], split[-1]) # pushup-up/10_1\n",
    "        sub_arr = []\n",
    "        for file_name in files:\n",
    "            if file_name.endswith('.npy'):\n",
    "                full_path = os.path.join(path, file_name)\n",
    "                all_file_paths.append(full_path)\n",
    "                sub_arr.append(full_path)\n",
    "        vid_to_seqs[vid_name] = sub_arr"
   ]
  },
  {
   "cell_type": "code",
   "execution_count": 7,
   "id": "4bb7b57a-816d-4b65-ba5d-65af4a970bad",
   "metadata": {
    "tags": []
   },
   "outputs": [],
   "source": [
    "# vid_to_seqs"
   ]
  },
  {
   "cell_type": "code",
   "execution_count": 8,
   "id": "23679596",
   "metadata": {
    "ExecuteTime": {
     "end_time": "2022-04-07T07:13:53.880288Z",
     "start_time": "2022-04-07T07:13:53.852288Z"
    },
    "tags": []
   },
   "outputs": [],
   "source": [
    "# all_file_paths"
   ]
  },
  {
   "cell_type": "code",
   "execution_count": 9,
   "id": "e3478b9a",
   "metadata": {
    "ExecuteTime": {
     "end_time": "2022-04-07T07:13:53.911286Z",
     "start_time": "2022-04-07T07:13:53.882287Z"
    },
    "tags": []
   },
   "outputs": [
    {
     "data": {
      "text/plain": [
       "['squat-down',\n",
       " 'squat-down',\n",
       " 'squat-down',\n",
       " 'squat-down',\n",
       " 'squat-down',\n",
       " 'squat-down',\n",
       " 'squat-down',\n",
       " 'squat-down',\n",
       " 'squat-down',\n",
       " 'squat-down',\n",
       " 'squat-down',\n",
       " 'squat-down',\n",
       " 'squat-down',\n",
       " 'squat-down',\n",
       " 'squat-down',\n",
       " 'squat-down',\n",
       " 'squat-down',\n",
       " 'squat-down',\n",
       " 'squat-down',\n",
       " 'squat-down',\n",
       " 'squat-down',\n",
       " 'squat-down',\n",
       " 'squat-down',\n",
       " 'squat-down',\n",
       " 'squat-down',\n",
       " 'squat-down',\n",
       " 'squat-down',\n",
       " 'squat-down',\n",
       " 'squat-down',\n",
       " 'squat-down',\n",
       " 'squat-down',\n",
       " 'squat-down',\n",
       " 'squat-down',\n",
       " 'squat-down',\n",
       " 'squat-down',\n",
       " 'squat-down',\n",
       " 'squat-down',\n",
       " 'squat-down',\n",
       " 'squat-down',\n",
       " 'squat-down',\n",
       " 'squat-down',\n",
       " 'squat-down',\n",
       " 'squat-down',\n",
       " 'squat-down',\n",
       " 'squat-down',\n",
       " 'squat-down',\n",
       " 'squat-down',\n",
       " 'squat-down',\n",
       " 'squat-down',\n",
       " 'squat-down',\n",
       " 'squat-down',\n",
       " 'squat-down',\n",
       " 'squat-down',\n",
       " 'squat-down',\n",
       " 'squat-down',\n",
       " 'squat-down',\n",
       " 'squat-down',\n",
       " 'squat-down',\n",
       " 'squat-down',\n",
       " 'squat-down',\n",
       " 'squat-down',\n",
       " 'squat-down',\n",
       " 'squat-down',\n",
       " 'squat-down',\n",
       " 'squat-down',\n",
       " 'squat-down',\n",
       " 'squat-down',\n",
       " 'squat-down',\n",
       " 'squat-down',\n",
       " 'squat-down',\n",
       " 'squat-down',\n",
       " 'squat-down',\n",
       " 'squat-down',\n",
       " 'squat-down',\n",
       " 'squat-down',\n",
       " 'squat-down',\n",
       " 'squat-down',\n",
       " 'squat-down',\n",
       " 'squat-down',\n",
       " 'squat-down',\n",
       " 'squat-down',\n",
       " 'squat-down',\n",
       " 'squat-down',\n",
       " 'squat-down',\n",
       " 'squat-down',\n",
       " 'squat-down',\n",
       " 'squat-down',\n",
       " 'squat-down',\n",
       " 'squat-down',\n",
       " 'squat-down',\n",
       " 'squat-down',\n",
       " 'squat-down',\n",
       " 'squat-down',\n",
       " 'squat-down',\n",
       " 'squat-down',\n",
       " 'squat-down',\n",
       " 'squat-down',\n",
       " 'squat-down',\n",
       " 'squat-down',\n",
       " 'squat-down',\n",
       " 'squat-down',\n",
       " 'squat-down',\n",
       " 'squat-down',\n",
       " 'squat-down',\n",
       " 'squat-down',\n",
       " 'squat-down',\n",
       " 'squat-down',\n",
       " 'squat-down',\n",
       " 'squat-down',\n",
       " 'squat-down',\n",
       " 'squat-down',\n",
       " 'squat-down',\n",
       " 'squat-down',\n",
       " 'squat-down',\n",
       " 'squat-down',\n",
       " 'squat-down',\n",
       " 'squat-down',\n",
       " 'squat-down',\n",
       " 'squat-down',\n",
       " 'squat-down',\n",
       " 'squat-down',\n",
       " 'squat-down',\n",
       " 'squat-down',\n",
       " 'squat-down',\n",
       " 'squat-down',\n",
       " 'squat-down',\n",
       " 'squat-down',\n",
       " 'squat-down',\n",
       " 'squat-down',\n",
       " 'squat-down',\n",
       " 'squat-down',\n",
       " 'squat-down',\n",
       " 'squat-down',\n",
       " 'squat-down',\n",
       " 'squat-down',\n",
       " 'squat-down',\n",
       " 'squat-down',\n",
       " 'squat-down',\n",
       " 'squat-down',\n",
       " 'squat-down',\n",
       " 'squat-down',\n",
       " 'squat-down',\n",
       " 'squat-down',\n",
       " 'squat-down',\n",
       " 'squat-down',\n",
       " 'squat-down',\n",
       " 'squat-down',\n",
       " 'squat-down',\n",
       " 'squat-down',\n",
       " 'squat-down',\n",
       " 'squat-down',\n",
       " 'squat-down',\n",
       " 'squat-down',\n",
       " 'squat-down',\n",
       " 'squat-down',\n",
       " 'squat-down',\n",
       " 'squat-down',\n",
       " 'squat-down',\n",
       " 'squat-down',\n",
       " 'squat-down',\n",
       " 'squat-down',\n",
       " 'squat-down',\n",
       " 'squat-down',\n",
       " 'squat-down',\n",
       " 'squat-down',\n",
       " 'squat-down',\n",
       " 'squat-down',\n",
       " 'squat-down',\n",
       " 'squat-down',\n",
       " 'squat-down',\n",
       " 'squat-down',\n",
       " 'squat-down',\n",
       " 'squat-down',\n",
       " 'squat-down',\n",
       " 'squat-down',\n",
       " 'squat-down',\n",
       " 'squat-down',\n",
       " 'squat-down',\n",
       " 'squat-down',\n",
       " 'squat-down',\n",
       " 'squat-down',\n",
       " 'squat-down',\n",
       " 'squat-down',\n",
       " 'squat-down',\n",
       " 'squat-down',\n",
       " 'squat-down',\n",
       " 'squat-down',\n",
       " 'squat-down',\n",
       " 'squat-down',\n",
       " 'squat-down',\n",
       " 'squat-down',\n",
       " 'squat-down',\n",
       " 'squat-down',\n",
       " 'squat-down',\n",
       " 'squat-down',\n",
       " 'squat-down',\n",
       " 'squat-down',\n",
       " 'squat-down',\n",
       " 'squat-down',\n",
       " 'squat-down',\n",
       " 'squat-down',\n",
       " 'squat-down',\n",
       " 'squat-down',\n",
       " 'squat-down',\n",
       " 'squat-down',\n",
       " 'squat-down',\n",
       " 'squat-down',\n",
       " 'squat-down',\n",
       " 'squat-down',\n",
       " 'squat-down',\n",
       " 'squat-down',\n",
       " 'squat-down',\n",
       " 'squat-down',\n",
       " 'squat-down',\n",
       " 'squat-down',\n",
       " 'squat-down',\n",
       " 'squat-down',\n",
       " 'squat-down',\n",
       " 'squat-down',\n",
       " 'squat-down',\n",
       " 'squat-down',\n",
       " 'squat-down',\n",
       " 'squat-down',\n",
       " 'squat-down',\n",
       " 'squat-down',\n",
       " 'squat-down',\n",
       " 'squat-down',\n",
       " 'squat-down',\n",
       " 'squat-down',\n",
       " 'squat-down',\n",
       " 'squat-down',\n",
       " 'squat-down',\n",
       " 'squat-down',\n",
       " 'squat-down',\n",
       " 'squat-down',\n",
       " 'squat-down',\n",
       " 'squat-down',\n",
       " 'squat-down',\n",
       " 'squat-down',\n",
       " 'squat-down',\n",
       " 'squat-down',\n",
       " 'squat-down',\n",
       " 'squat-down',\n",
       " 'squat-down',\n",
       " 'squat-down',\n",
       " 'squat-down',\n",
       " 'squat-down',\n",
       " 'squat-down',\n",
       " 'squat-down',\n",
       " 'squat-down',\n",
       " 'squat-down',\n",
       " 'squat-down',\n",
       " 'squat-down',\n",
       " 'squat-down',\n",
       " 'squat-down',\n",
       " 'squat-down',\n",
       " 'squat-down',\n",
       " 'squat-down',\n",
       " 'squat-down',\n",
       " 'squat-down',\n",
       " 'squat-down',\n",
       " 'squat-down',\n",
       " 'squat-down',\n",
       " 'squat-down',\n",
       " 'squat-down',\n",
       " 'squat-down',\n",
       " 'squat-down',\n",
       " 'squat-down',\n",
       " 'squat-down',\n",
       " 'squat-down',\n",
       " 'squat-down',\n",
       " 'squat-down',\n",
       " 'squat-down',\n",
       " 'squat-down',\n",
       " 'squat-down',\n",
       " 'squat-down',\n",
       " 'squat-down',\n",
       " 'squat-down',\n",
       " 'squat-down',\n",
       " 'squat-down',\n",
       " 'squat-down',\n",
       " 'squat-down',\n",
       " 'squat-down',\n",
       " 'squat-down',\n",
       " 'squat-down',\n",
       " 'squat-down',\n",
       " 'squat-down',\n",
       " 'squat-down',\n",
       " 'squat-down',\n",
       " 'squat-down',\n",
       " 'squat-down',\n",
       " 'squat-down',\n",
       " 'squat-down',\n",
       " 'squat-down',\n",
       " 'squat-down',\n",
       " 'squat-down',\n",
       " 'squat-down',\n",
       " 'squat-down',\n",
       " 'squat-down',\n",
       " 'squat-down',\n",
       " 'squat-down',\n",
       " 'squat-down',\n",
       " 'squat-down',\n",
       " 'squat-down',\n",
       " 'squat-down',\n",
       " 'squat-down',\n",
       " 'squat-down',\n",
       " 'squat-down',\n",
       " 'squat-down',\n",
       " 'squat-down',\n",
       " 'squat-down',\n",
       " 'squat-down',\n",
       " 'squat-down',\n",
       " 'squat-down',\n",
       " 'squat-down',\n",
       " 'squat-down',\n",
       " 'squat-down',\n",
       " 'squat-down',\n",
       " 'squat-down',\n",
       " 'squat-down',\n",
       " 'squat-down',\n",
       " 'squat-down',\n",
       " 'squat-down',\n",
       " 'squat-down',\n",
       " 'squat-down',\n",
       " 'squat-down',\n",
       " 'squat-down',\n",
       " 'squat-down',\n",
       " 'squat-down',\n",
       " 'squat-down',\n",
       " 'squat-down',\n",
       " 'squat-down',\n",
       " 'squat-down',\n",
       " 'squat-down',\n",
       " 'squat-down',\n",
       " 'squat-down',\n",
       " 'squat-down',\n",
       " 'squat-down',\n",
       " 'squat-down',\n",
       " 'squat-down',\n",
       " 'squat-down',\n",
       " 'squat-down',\n",
       " 'squat-down',\n",
       " 'squat-down',\n",
       " 'squat-down',\n",
       " 'squat-down',\n",
       " 'squat-down',\n",
       " 'squat-down',\n",
       " 'squat-down',\n",
       " 'squat-down',\n",
       " 'squat-down',\n",
       " 'squat-down',\n",
       " 'squat-down',\n",
       " 'squat-down',\n",
       " 'squat-down',\n",
       " 'squat-down',\n",
       " 'squat-down',\n",
       " 'squat-down',\n",
       " 'squat-down',\n",
       " 'squat-down',\n",
       " 'squat-down',\n",
       " 'squat-down',\n",
       " 'squat-down',\n",
       " 'squat-down',\n",
       " 'squat-down',\n",
       " 'squat-down',\n",
       " 'squat-down',\n",
       " 'squat-down',\n",
       " 'squat-down',\n",
       " 'squat-down',\n",
       " 'squat-down',\n",
       " 'squat-down',\n",
       " 'squat-down',\n",
       " 'squat-down',\n",
       " 'squat-down',\n",
       " 'squat-down',\n",
       " 'squat-down',\n",
       " 'squat-down',\n",
       " 'squat-down',\n",
       " 'squat-down',\n",
       " 'squat-down',\n",
       " 'squat-down',\n",
       " 'squat-down',\n",
       " 'squat-down',\n",
       " 'squat-down',\n",
       " 'squat-down',\n",
       " 'squat-down',\n",
       " 'squat-down',\n",
       " 'squat-down',\n",
       " 'squat-down',\n",
       " 'squat-down',\n",
       " 'squat-down',\n",
       " 'squat-down',\n",
       " 'squat-down',\n",
       " 'squat-down',\n",
       " 'squat-down',\n",
       " 'squat-down',\n",
       " 'squat-down',\n",
       " 'squat-down',\n",
       " 'squat-down',\n",
       " 'squat-down',\n",
       " 'squat-down',\n",
       " 'squat-down',\n",
       " 'squat-down',\n",
       " 'squat-down',\n",
       " 'squat-down',\n",
       " 'squat-down',\n",
       " 'squat-down',\n",
       " 'squat-down',\n",
       " 'squat-down',\n",
       " 'squat-down',\n",
       " 'squat-down',\n",
       " 'squat-down',\n",
       " 'squat-down',\n",
       " 'squat-down',\n",
       " 'squat-down',\n",
       " 'squat-down',\n",
       " 'squat-down',\n",
       " 'squat-down',\n",
       " 'squat-down',\n",
       " 'squat-down',\n",
       " 'squat-down',\n",
       " 'squat-down',\n",
       " 'squat-down',\n",
       " 'squat-down',\n",
       " 'squat-down',\n",
       " 'squat-down',\n",
       " 'squat-down',\n",
       " 'squat-down',\n",
       " 'squat-down',\n",
       " 'squat-down',\n",
       " 'squat-down',\n",
       " 'squat-down',\n",
       " 'squat-down',\n",
       " 'squat-down',\n",
       " 'squat-down',\n",
       " 'squat-down',\n",
       " 'squat-down',\n",
       " 'squat-down',\n",
       " 'squat-down',\n",
       " 'squat-down',\n",
       " 'squat-down',\n",
       " 'squat-down',\n",
       " 'squat-down',\n",
       " 'squat-down',\n",
       " 'squat-down',\n",
       " 'squat-down',\n",
       " 'squat-down',\n",
       " 'squat-down',\n",
       " 'squat-down',\n",
       " 'squat-down',\n",
       " 'squat-down',\n",
       " 'squat-down',\n",
       " 'squat-down',\n",
       " 'squat-down',\n",
       " 'squat-down',\n",
       " 'squat-down',\n",
       " 'squat-down',\n",
       " 'squat-down',\n",
       " 'squat-down',\n",
       " 'squat-down',\n",
       " 'squat-down',\n",
       " 'squat-down',\n",
       " 'squat-down',\n",
       " 'squat-down',\n",
       " 'squat-down',\n",
       " 'squat-down',\n",
       " 'squat-down',\n",
       " 'squat-down',\n",
       " 'squat-down',\n",
       " 'squat-down',\n",
       " 'squat-down',\n",
       " 'squat-down',\n",
       " 'squat-down',\n",
       " 'squat-down',\n",
       " 'squat-down',\n",
       " 'squat-down',\n",
       " 'squat-down',\n",
       " 'squat-down',\n",
       " 'squat-down',\n",
       " 'squat-down',\n",
       " 'squat-down',\n",
       " 'squat-down',\n",
       " 'squat-down',\n",
       " 'squat-down',\n",
       " 'squat-down',\n",
       " 'squat-down',\n",
       " 'squat-down',\n",
       " 'squat-down',\n",
       " 'squat-down',\n",
       " 'squat-down',\n",
       " 'squat-down',\n",
       " 'squat-down',\n",
       " 'squat-down',\n",
       " 'squat-down',\n",
       " 'squat-down',\n",
       " 'squat-down',\n",
       " 'squat-down',\n",
       " 'squat-down',\n",
       " 'squat-down',\n",
       " 'squat-down',\n",
       " 'squat-down',\n",
       " 'squat-down',\n",
       " 'squat-down',\n",
       " 'squat-down',\n",
       " 'squat-down',\n",
       " 'squat-down',\n",
       " 'squat-down',\n",
       " 'squat-down',\n",
       " 'squat-down',\n",
       " 'squat-down',\n",
       " 'squat-down',\n",
       " 'squat-down',\n",
       " 'squat-down',\n",
       " 'squat-down',\n",
       " 'squat-down',\n",
       " 'squat-down',\n",
       " 'squat-down',\n",
       " 'squat-down',\n",
       " 'squat-down',\n",
       " 'squat-down',\n",
       " 'squat-down',\n",
       " 'squat-down',\n",
       " 'squat-down',\n",
       " 'squat-down',\n",
       " 'squat-down',\n",
       " 'squat-down',\n",
       " 'squat-down',\n",
       " 'squat-down',\n",
       " 'squat-down',\n",
       " 'squat-down',\n",
       " 'squat-down',\n",
       " 'squat-down',\n",
       " 'squat-down',\n",
       " 'squat-down',\n",
       " 'squat-down',\n",
       " 'squat-down',\n",
       " 'squat-down',\n",
       " 'squat-down',\n",
       " 'squat-down',\n",
       " 'squat-down',\n",
       " 'squat-down',\n",
       " 'squat-down',\n",
       " 'squat-down',\n",
       " 'squat-down',\n",
       " 'squat-down',\n",
       " 'squat-down',\n",
       " 'squat-down',\n",
       " 'squat-down',\n",
       " 'squat-down',\n",
       " 'squat-down',\n",
       " 'squat-down',\n",
       " 'squat-down',\n",
       " 'squat-down',\n",
       " 'squat-down',\n",
       " 'squat-down',\n",
       " 'squat-down',\n",
       " 'squat-down',\n",
       " 'squat-down',\n",
       " 'squat-down',\n",
       " 'squat-down',\n",
       " 'squat-down',\n",
       " 'squat-down',\n",
       " 'squat-down',\n",
       " 'squat-down',\n",
       " 'squat-down',\n",
       " 'squat-down',\n",
       " 'squat-down',\n",
       " 'squat-down',\n",
       " 'squat-down',\n",
       " 'squat-down',\n",
       " 'squat-down',\n",
       " 'squat-down',\n",
       " 'squat-down',\n",
       " 'squat-down',\n",
       " 'squat-down',\n",
       " 'squat-down',\n",
       " 'squat-down',\n",
       " 'squat-down',\n",
       " 'squat-down',\n",
       " 'squat-down',\n",
       " 'squat-down',\n",
       " 'squat-down',\n",
       " 'squat-down',\n",
       " 'squat-down',\n",
       " 'squat-down',\n",
       " 'squat-down',\n",
       " 'squat-down',\n",
       " 'squat-down',\n",
       " 'squat-down',\n",
       " 'squat-down',\n",
       " 'squat-down',\n",
       " 'squat-down',\n",
       " 'squat-down',\n",
       " 'squat-down',\n",
       " 'squat-down',\n",
       " 'squat-down',\n",
       " 'squat-down',\n",
       " 'squat-down',\n",
       " 'squat-down',\n",
       " 'squat-down',\n",
       " 'squat-down',\n",
       " 'squat-down',\n",
       " 'squat-down',\n",
       " 'squat-down',\n",
       " 'squat-down',\n",
       " 'squat-down',\n",
       " 'squat-down',\n",
       " 'squat-down',\n",
       " 'squat-down',\n",
       " 'squat-down',\n",
       " 'squat-down',\n",
       " 'squat-down',\n",
       " 'squat-down',\n",
       " 'squat-down',\n",
       " 'squat-down',\n",
       " 'squat-down',\n",
       " 'squat-down',\n",
       " 'squat-down',\n",
       " 'squat-down',\n",
       " 'squat-down',\n",
       " 'squat-down',\n",
       " 'squat-down',\n",
       " 'squat-down',\n",
       " 'squat-down',\n",
       " 'squat-down',\n",
       " 'squat-down',\n",
       " 'squat-down',\n",
       " 'squat-down',\n",
       " 'squat-down',\n",
       " 'squat-down',\n",
       " 'squat-down',\n",
       " 'squat-down',\n",
       " 'squat-down',\n",
       " 'squat-down',\n",
       " 'squat-down',\n",
       " 'squat-down',\n",
       " 'squat-down',\n",
       " 'squat-down',\n",
       " 'squat-down',\n",
       " 'squat-down',\n",
       " 'squat-down',\n",
       " 'squat-down',\n",
       " 'squat-down',\n",
       " 'squat-down',\n",
       " 'squat-down',\n",
       " 'squat-down',\n",
       " 'squat-down',\n",
       " 'squat-down',\n",
       " 'squat-down',\n",
       " 'squat-down',\n",
       " 'squat-down',\n",
       " 'squat-down',\n",
       " 'squat-down',\n",
       " 'squat-down',\n",
       " 'squat-down',\n",
       " 'squat-down',\n",
       " 'squat-down',\n",
       " 'squat-down',\n",
       " 'squat-down',\n",
       " 'squat-down',\n",
       " 'squat-down',\n",
       " 'squat-down',\n",
       " 'squat-down',\n",
       " 'squat-down',\n",
       " 'squat-down',\n",
       " 'squat-down',\n",
       " 'squat-down',\n",
       " 'squat-down',\n",
       " 'squat-down',\n",
       " 'squat-down',\n",
       " 'squat-down',\n",
       " 'squat-down',\n",
       " 'squat-down',\n",
       " 'squat-down',\n",
       " 'squat-down',\n",
       " 'squat-down',\n",
       " 'squat-down',\n",
       " 'squat-down',\n",
       " 'squat-down',\n",
       " 'squat-down',\n",
       " 'squat-down',\n",
       " 'squat-down',\n",
       " 'squat-down',\n",
       " 'squat-down',\n",
       " 'squat-down',\n",
       " 'squat-down',\n",
       " 'squat-down',\n",
       " 'squat-down',\n",
       " 'squat-down',\n",
       " 'squat-down',\n",
       " 'squat-down',\n",
       " 'squat-down',\n",
       " 'squat-down',\n",
       " 'squat-down',\n",
       " 'squat-down',\n",
       " 'squat-down',\n",
       " 'squat-down',\n",
       " 'squat-down',\n",
       " 'squat-down',\n",
       " 'squat-down',\n",
       " 'squat-down',\n",
       " 'squat-down',\n",
       " 'squat-down',\n",
       " 'squat-down',\n",
       " 'squat-down',\n",
       " 'squat-down',\n",
       " 'squat-down',\n",
       " 'squat-down',\n",
       " 'squat-down',\n",
       " 'squat-down',\n",
       " 'squat-down',\n",
       " 'squat-down',\n",
       " 'squat-down',\n",
       " 'squat-down',\n",
       " 'squat-down',\n",
       " 'squat-down',\n",
       " 'squat-down',\n",
       " 'squat-down',\n",
       " 'squat-down',\n",
       " 'squat-down',\n",
       " 'squat-down',\n",
       " 'squat-down',\n",
       " 'squat-down',\n",
       " 'squat-down',\n",
       " 'squat-down',\n",
       " 'squat-down',\n",
       " 'squat-down',\n",
       " 'squat-down',\n",
       " 'squat-down',\n",
       " 'squat-down',\n",
       " 'squat-down',\n",
       " 'squat-down',\n",
       " 'squat-down',\n",
       " 'squat-down',\n",
       " 'squat-down',\n",
       " 'squat-down',\n",
       " 'squat-down',\n",
       " 'squat-down',\n",
       " 'squat-down',\n",
       " 'squat-down',\n",
       " 'squat-down',\n",
       " 'squat-down',\n",
       " 'squat-down',\n",
       " 'squat-down',\n",
       " 'squat-down',\n",
       " 'squat-down',\n",
       " 'squat-down',\n",
       " 'squat-down',\n",
       " 'squat-down',\n",
       " 'squat-down',\n",
       " 'squat-down',\n",
       " 'squat-down',\n",
       " 'squat-down',\n",
       " 'squat-down',\n",
       " 'squat-down',\n",
       " 'squat-down',\n",
       " 'squat-down',\n",
       " 'squat-down',\n",
       " 'squat-down',\n",
       " 'squat-down',\n",
       " 'squat-down',\n",
       " 'squat-down',\n",
       " 'squat-down',\n",
       " 'squat-down',\n",
       " 'squat-down',\n",
       " 'squat-down',\n",
       " 'squat-down',\n",
       " 'squat-down',\n",
       " 'squat-down',\n",
       " 'squat-down',\n",
       " 'squat-down',\n",
       " 'squat-down',\n",
       " 'squat-down',\n",
       " 'squat-down',\n",
       " 'squat-down',\n",
       " 'squat-down',\n",
       " 'squat-down',\n",
       " 'squat-down',\n",
       " 'squat-down',\n",
       " 'squat-down',\n",
       " 'squat-down',\n",
       " 'squat-down',\n",
       " 'squat-down',\n",
       " 'squat-down',\n",
       " 'squat-down',\n",
       " 'squat-down',\n",
       " 'squat-down',\n",
       " 'squat-down',\n",
       " 'squat-down',\n",
       " 'squat-down',\n",
       " 'squat-down',\n",
       " 'squat-down',\n",
       " 'squat-down',\n",
       " 'squat-down',\n",
       " 'squat-down',\n",
       " 'squat-down',\n",
       " 'squat-down',\n",
       " 'squat-down',\n",
       " 'squat-down',\n",
       " 'squat-down',\n",
       " 'squat-down',\n",
       " 'squat-down',\n",
       " 'squat-down',\n",
       " 'squat-down',\n",
       " 'squat-down',\n",
       " 'squat-down',\n",
       " 'squat-down',\n",
       " 'squat-down',\n",
       " 'squat-down',\n",
       " 'squat-down',\n",
       " 'squat-down',\n",
       " 'squat-down',\n",
       " 'squat-down',\n",
       " 'squat-down',\n",
       " 'squat-down',\n",
       " 'squat-down',\n",
       " 'squat-down',\n",
       " 'squat-down',\n",
       " 'squat-down',\n",
       " 'squat-down',\n",
       " 'squat-down',\n",
       " 'squat-down',\n",
       " 'squat-down',\n",
       " 'squat-down',\n",
       " 'squat-down',\n",
       " 'squat-down',\n",
       " 'squat-down',\n",
       " 'squat-down',\n",
       " 'squat-down',\n",
       " 'squat-down',\n",
       " 'squat-down',\n",
       " 'squat-down',\n",
       " 'squat-down',\n",
       " 'squat-down',\n",
       " 'squat-down',\n",
       " 'squat-down',\n",
       " 'squat-down',\n",
       " 'squat-down',\n",
       " 'squat-down',\n",
       " 'squat-down',\n",
       " 'squat-down',\n",
       " 'squat-down',\n",
       " 'squat-down',\n",
       " 'squat-down',\n",
       " 'squat-down',\n",
       " 'squat-down',\n",
       " 'squat-down',\n",
       " 'squat-down',\n",
       " 'squat-down',\n",
       " 'squat-down',\n",
       " 'squat-down',\n",
       " 'squat-down',\n",
       " 'squat-down',\n",
       " 'squat-down',\n",
       " 'squat-down',\n",
       " 'squat-down',\n",
       " 'squat-down',\n",
       " 'squat-down',\n",
       " 'squat-down',\n",
       " 'squat-down',\n",
       " 'squat-down',\n",
       " 'squat-down',\n",
       " 'squat-down',\n",
       " 'squat-down',\n",
       " 'squat-down',\n",
       " 'squat-down',\n",
       " 'squat-down',\n",
       " 'squat-down',\n",
       " 'squat-down',\n",
       " 'squat-down',\n",
       " 'squat-down',\n",
       " 'squat-down',\n",
       " 'squat-down',\n",
       " 'squat-down',\n",
       " 'squat-down',\n",
       " 'squat-down',\n",
       " 'squat-down',\n",
       " 'squat-down',\n",
       " 'squat-down',\n",
       " 'squat-down',\n",
       " 'squat-down',\n",
       " 'squat-down',\n",
       " 'squat-down',\n",
       " 'squat-down',\n",
       " 'squat-down',\n",
       " 'squat-down',\n",
       " 'squat-down',\n",
       " 'squat-down',\n",
       " 'squat-down',\n",
       " 'squat-down',\n",
       " 'squat-down',\n",
       " 'squat-down',\n",
       " 'squat-down',\n",
       " 'squat-down',\n",
       " 'squat-down',\n",
       " 'squat-down',\n",
       " 'squat-down',\n",
       " 'squat-down',\n",
       " 'squat-down',\n",
       " 'squat-down',\n",
       " 'squat-down',\n",
       " 'squat-down',\n",
       " 'squat-down',\n",
       " 'squat-down',\n",
       " 'squat-down',\n",
       " 'squat-down',\n",
       " 'squat-down',\n",
       " 'squat-down',\n",
       " 'squat-down',\n",
       " 'squat-down',\n",
       " 'squat-down',\n",
       " 'squat-down',\n",
       " 'squat-down',\n",
       " 'squat-down',\n",
       " 'squat-down',\n",
       " 'squat-down',\n",
       " 'squat-down',\n",
       " 'squat-down',\n",
       " 'squat-down',\n",
       " 'squat-down',\n",
       " 'squat-down',\n",
       " 'squat-down',\n",
       " 'squat-down',\n",
       " 'squat-down',\n",
       " 'squat-down',\n",
       " 'squat-down',\n",
       " 'squat-down',\n",
       " 'squat-down',\n",
       " 'squat-down',\n",
       " 'squat-down',\n",
       " 'squat-down',\n",
       " 'squat-down',\n",
       " 'squat-down',\n",
       " 'squat-down',\n",
       " 'squat-down',\n",
       " 'squat-down',\n",
       " 'squat-down',\n",
       " 'squat-down',\n",
       " 'squat-down',\n",
       " 'squat-down',\n",
       " 'squat-down',\n",
       " 'squat-down',\n",
       " 'squat-down',\n",
       " 'squat-down',\n",
       " 'squat-down',\n",
       " 'squat-down',\n",
       " 'squat-down',\n",
       " 'squat-down',\n",
       " 'squat-down',\n",
       " 'squat-down',\n",
       " 'squat-down',\n",
       " 'squat-down',\n",
       " 'squat-down',\n",
       " 'squat-down',\n",
       " 'squat-down',\n",
       " 'squat-down',\n",
       " 'squat-down',\n",
       " 'squat-down',\n",
       " 'squat-down',\n",
       " 'squat-down',\n",
       " 'squat-down',\n",
       " 'squat-down',\n",
       " 'squat-down',\n",
       " 'squat-down',\n",
       " 'squat-down',\n",
       " 'squat-down',\n",
       " 'squat-down',\n",
       " 'squat-down',\n",
       " 'squat-down',\n",
       " 'squat-down',\n",
       " 'squat-down',\n",
       " 'squat-down',\n",
       " 'squat-down',\n",
       " 'squat-down',\n",
       " 'squat-down',\n",
       " 'squat-down',\n",
       " 'squat-down',\n",
       " 'squat-down',\n",
       " 'squat-down',\n",
       " 'squat-down',\n",
       " 'squat-down',\n",
       " 'squat-down',\n",
       " 'squat-down',\n",
       " 'squat-down',\n",
       " 'squat-down',\n",
       " 'squat-down',\n",
       " 'squat-down',\n",
       " 'squat-down',\n",
       " 'squat-down',\n",
       " 'squat-down',\n",
       " 'squat-down',\n",
       " 'squat-down',\n",
       " 'squat-down',\n",
       " 'squat-down',\n",
       " 'squat-down',\n",
       " 'squat-down',\n",
       " 'squat-down',\n",
       " 'squat-down',\n",
       " 'squat-down',\n",
       " ...]"
      ]
     },
     "execution_count": 9,
     "metadata": {},
     "output_type": "execute_result"
    }
   ],
   "source": [
    "# use to check the balance of data and fit LabelEncoder\n",
    "labels = list(map(lambda x: x.split(os.path.sep)[-3], all_file_paths))\n",
    "labels"
   ]
  },
  {
   "cell_type": "code",
   "execution_count": 10,
   "id": "0a0eb79d-4094-4ee0-98ff-0ccbfb17a8d5",
   "metadata": {},
   "outputs": [
    {
     "data": {
      "text/plain": [
       "Counter({'squat-down': 3327, 'squat-up': 2683, 'idle': 3327, 'others': 2820})"
      ]
     },
     "execution_count": 10,
     "metadata": {},
     "output_type": "execute_result"
    }
   ],
   "source": [
    "# all data\n",
    "Counter(labels)"
   ]
  },
  {
   "cell_type": "code",
   "execution_count": 11,
   "id": "dc39197a",
   "metadata": {
    "ExecuteTime": {
     "end_time": "2022-04-07T07:13:53.927284Z",
     "start_time": "2022-04-07T07:13:53.913289Z"
    }
   },
   "outputs": [],
   "source": [
    "# will be use for class weighting later\n",
    "# total = len(labels)\n",
    "# label_count = Counter(labels)\n",
    "# label_count, total"
   ]
  },
  {
   "cell_type": "code",
   "execution_count": 12,
   "id": "732174b7",
   "metadata": {
    "ExecuteTime": {
     "end_time": "2022-03-29T09:13:17.643946Z",
     "start_time": "2022-03-29T09:13:17.629948Z"
    }
   },
   "outputs": [],
   "source": [
    "def load_numpy(path):\n",
    "    return np.load(path.numpy())"
   ]
  },
  {
   "cell_type": "code",
   "execution_count": 13,
   "id": "e649303c",
   "metadata": {
    "ExecuteTime": {
     "end_time": "2022-03-29T09:13:17.658947Z",
     "start_time": "2022-03-29T09:13:17.646947Z"
    }
   },
   "outputs": [],
   "source": [
    "def load_data(file_path):\n",
    "    # load numpy, file_path is Tensor with dtype string\n",
    "    # and np.load not working with Tensor, so we need to work around with pure tf ops\n",
    "    # this function return a list with elements following Tout, \n",
    "    # so we need to access first item\n",
    "    data = tf.py_function(load_numpy, inp=[file_path], Tout=[tf.float32])[0] # return as tensor with dtype tf.float32\n",
    "\n",
    "    # get label\n",
    "    label_str = tf.strings.split(file_path, os.path.sep)[-3]\n",
    "    one_hot = label_str == le.classes_ # get tensor with dtype bool\n",
    "    label = tf.cast(one_hot, tf.int32)\n",
    "    return data, label"
   ]
  },
  {
   "cell_type": "markdown",
   "id": "7caf5a8a",
   "metadata": {},
   "source": [
    "# Preprocess Data"
   ]
  },
  {
   "cell_type": "code",
   "execution_count": 14,
   "id": "589c2140",
   "metadata": {
    "ExecuteTime": {
     "end_time": "2022-03-29T09:13:17.689947Z",
     "start_time": "2022-03-29T09:13:17.660947Z"
    }
   },
   "outputs": [
    {
     "data": {
      "text/plain": [
       "array(['idle', 'others', 'squat-down', 'squat-up'], dtype='<U10')"
      ]
     },
     "execution_count": 14,
     "metadata": {},
     "output_type": "execute_result"
    }
   ],
   "source": [
    "le = LabelEncoder()\n",
    "le.fit(labels)\n",
    "le.classes_"
   ]
  },
  {
   "cell_type": "code",
   "execution_count": 15,
   "id": "812cded6",
   "metadata": {
    "ExecuteTime": {
     "end_time": "2022-03-29T09:13:17.720947Z",
     "start_time": "2022-03-29T09:13:17.693946Z"
    }
   },
   "outputs": [
    {
     "data": {
      "text/plain": [
       "array([2, 2, 2, ..., 1, 1, 1])"
      ]
     },
     "execution_count": 15,
     "metadata": {},
     "output_type": "execute_result"
    }
   ],
   "source": [
    "labels = le.transform(labels)\n",
    "labels"
   ]
  },
  {
   "cell_type": "markdown",
   "id": "e68119d7-a19c-4cc1-8b53-6d2aca88ecbb",
   "metadata": {},
   "source": [
    "### Split video-level splitting"
   ]
  },
  {
   "cell_type": "code",
   "execution_count": 16,
   "id": "fdfd902c-396b-40c2-a2c5-1e303c0a1cae",
   "metadata": {
    "tags": []
   },
   "outputs": [],
   "source": [
    "# split_vids = list(vid_to_seqs.keys())\n",
    "# split_vids"
   ]
  },
  {
   "cell_type": "code",
   "execution_count": 15,
   "id": "385f1466-1f66-4aa5-b771-2a6cb4fbea0b",
   "metadata": {
    "tags": []
   },
   "outputs": [],
   "source": [
    "# split_vids_class = list(map(lambda x: x.split('/')[0], split_vids))"
   ]
  },
  {
   "cell_type": "code",
   "execution_count": 19,
   "id": "c91f7c88-ef63-436f-aa8f-354a29f3ccaf",
   "metadata": {},
   "outputs": [
    {
     "data": {
      "text/plain": [
       "Counter({'squat-down': 122, 'squat-up': 123, 'idle': 122, 'others': 122})"
      ]
     },
     "execution_count": 19,
     "metadata": {},
     "output_type": "execute_result"
    }
   ],
   "source": [
    "# split vid level balanceness\n",
    "# Counter(split_vids_class)"
   ]
  },
  {
   "cell_type": "code",
   "execution_count": 20,
   "id": "c8886db5-6f36-4be8-a701-adf96b04c51e",
   "metadata": {},
   "outputs": [
    {
     "data": {
      "text/plain": [
       "(489, 489)"
      ]
     },
     "execution_count": 20,
     "metadata": {},
     "output_type": "execute_result"
    }
   ],
   "source": [
    "# check correctness\n",
    "# len(split_vids), len(np.unique(split_vids))"
   ]
  },
  {
   "cell_type": "code",
   "execution_count": 21,
   "id": "9e3b4c26-ccd9-450c-9c06-69dd1e379ba2",
   "metadata": {},
   "outputs": [],
   "source": [
    "# train_vids, test_vids = train_test_split(split_vids, test_size=0.1, random_state=42, stratify=split_vids_class)"
   ]
  },
  {
   "cell_type": "code",
   "execution_count": 22,
   "id": "cb1c6b27-e906-48f2-8f00-01e8cd1517af",
   "metadata": {},
   "outputs": [
    {
     "data": {
      "text/plain": [
       "(440, 49)"
      ]
     },
     "execution_count": 22,
     "metadata": {},
     "output_type": "execute_result"
    }
   ],
   "source": [
    "# len(train_vids), len(test_vids)"
   ]
  },
  {
   "cell_type": "code",
   "execution_count": 23,
   "id": "fa3b2c44-ad04-44ea-825a-a0ee4374dd05",
   "metadata": {},
   "outputs": [
    {
     "data": {
      "text/plain": [
       "Counter({'idle': 12, 'squat-down': 12, 'others': 12, 'squat-up': 13})"
      ]
     },
     "execution_count": 23,
     "metadata": {},
     "output_type": "execute_result"
    }
   ],
   "source": [
    "# check stratify\n",
    "# Counter(list(map(lambda x: x.split('/')[0], test_vids)))"
   ]
  },
  {
   "cell_type": "code",
   "execution_count": 16,
   "id": "897f39ce-e6e6-4ef0-9894-d0f515ff9b85",
   "metadata": {},
   "outputs": [],
   "source": [
    "# map train_vids/test_vids to their corresponding paths\n",
    "def vid_to_seq_level(vids_list, vid_seq_mapping):\n",
    "    for i in range(len(vids_list)):\n",
    "        if i == 0: # first iteration\n",
    "            result = vid_seq_mapping[vids_list[i]].copy()\n",
    "        else:\n",
    "            result.extend(vid_seq_mapping[vids_list[i]])\n",
    "    return result"
   ]
  },
  {
   "cell_type": "code",
   "execution_count": 25,
   "id": "bf154e28-f1be-41a9-b23c-25e3758e037e",
   "metadata": {},
   "outputs": [],
   "source": [
    "# train_paths = vid_to_seq_level(train_vids, vid_to_seqs)\n",
    "# test_paths = vid_to_seq_level(test_vids, vid_to_seqs)"
   ]
  },
  {
   "cell_type": "code",
   "execution_count": 26,
   "id": "5095f70d-259b-49d3-93b8-1b419edd0670",
   "metadata": {
    "collapsed": true,
    "jupyter": {
     "outputs_hidden": true
    },
    "tags": []
   },
   "outputs": [
    {
     "data": {
      "text/plain": [
       "['/home/u6188041/jom/Dataset/EzFit_dataset/keypoints_seq/len_8/squat/squat-down/23_6/23_6_20.npy',\n",
       " '/home/u6188041/jom/Dataset/EzFit_dataset/keypoints_seq/len_8/squat/squat-down/23_6/23_6_18.npy',\n",
       " '/home/u6188041/jom/Dataset/EzFit_dataset/keypoints_seq/len_8/squat/squat-down/23_6/23_6_36.npy',\n",
       " '/home/u6188041/jom/Dataset/EzFit_dataset/keypoints_seq/len_8/squat/squat-down/23_6/23_6_35.npy',\n",
       " '/home/u6188041/jom/Dataset/EzFit_dataset/keypoints_seq/len_8/squat/squat-down/23_6/23_6_52.npy',\n",
       " '/home/u6188041/jom/Dataset/EzFit_dataset/keypoints_seq/len_8/squat/squat-down/23_6/23_6_33.npy',\n",
       " '/home/u6188041/jom/Dataset/EzFit_dataset/keypoints_seq/len_8/squat/squat-down/23_6/23_6_17.npy',\n",
       " '/home/u6188041/jom/Dataset/EzFit_dataset/keypoints_seq/len_8/squat/squat-down/23_6/23_6_25.npy',\n",
       " '/home/u6188041/jom/Dataset/EzFit_dataset/keypoints_seq/len_8/squat/squat-down/23_6/23_6_12.npy',\n",
       " '/home/u6188041/jom/Dataset/EzFit_dataset/keypoints_seq/len_8/squat/squat-down/23_6/23_6_37.npy',\n",
       " '/home/u6188041/jom/Dataset/EzFit_dataset/keypoints_seq/len_8/squat/squat-down/23_6/23_6_42.npy',\n",
       " '/home/u6188041/jom/Dataset/EzFit_dataset/keypoints_seq/len_8/squat/squat-down/23_6/23_6_8.npy',\n",
       " '/home/u6188041/jom/Dataset/EzFit_dataset/keypoints_seq/len_8/squat/squat-down/23_6/23_6_51.npy',\n",
       " '/home/u6188041/jom/Dataset/EzFit_dataset/keypoints_seq/len_8/squat/squat-down/23_6/23_6_9.npy',\n",
       " '/home/u6188041/jom/Dataset/EzFit_dataset/keypoints_seq/len_8/squat/squat-down/23_6/23_6_5.npy',\n",
       " '/home/u6188041/jom/Dataset/EzFit_dataset/keypoints_seq/len_8/squat/squat-down/23_6/23_6_43.npy',\n",
       " '/home/u6188041/jom/Dataset/EzFit_dataset/keypoints_seq/len_8/squat/squat-down/23_6/23_6_32.npy',\n",
       " '/home/u6188041/jom/Dataset/EzFit_dataset/keypoints_seq/len_8/squat/squat-down/23_6/23_6_11.npy',\n",
       " '/home/u6188041/jom/Dataset/EzFit_dataset/keypoints_seq/len_8/squat/squat-down/23_6/23_6_3.npy',\n",
       " '/home/u6188041/jom/Dataset/EzFit_dataset/keypoints_seq/len_8/squat/squat-down/23_6/23_6_15.npy',\n",
       " '/home/u6188041/jom/Dataset/EzFit_dataset/keypoints_seq/len_8/squat/squat-down/23_6/23_6_48.npy',\n",
       " '/home/u6188041/jom/Dataset/EzFit_dataset/keypoints_seq/len_8/squat/squat-down/23_6/23_6_23.npy',\n",
       " '/home/u6188041/jom/Dataset/EzFit_dataset/keypoints_seq/len_8/squat/squat-down/23_6/23_6_1.npy',\n",
       " '/home/u6188041/jom/Dataset/EzFit_dataset/keypoints_seq/len_8/squat/squat-down/23_6/23_6_2.npy',\n",
       " '/home/u6188041/jom/Dataset/EzFit_dataset/keypoints_seq/len_8/squat/squat-down/23_6/23_6_6.npy',\n",
       " '/home/u6188041/jom/Dataset/EzFit_dataset/keypoints_seq/len_8/squat/squat-down/23_6/23_6_13.npy',\n",
       " '/home/u6188041/jom/Dataset/EzFit_dataset/keypoints_seq/len_8/squat/squat-down/23_6/23_6_22.npy',\n",
       " '/home/u6188041/jom/Dataset/EzFit_dataset/keypoints_seq/len_8/squat/squat-down/23_6/23_6_49.npy',\n",
       " '/home/u6188041/jom/Dataset/EzFit_dataset/keypoints_seq/len_8/squat/squat-down/23_6/23_6_40.npy',\n",
       " '/home/u6188041/jom/Dataset/EzFit_dataset/keypoints_seq/len_8/squat/squat-down/23_6/23_6_47.npy',\n",
       " '/home/u6188041/jom/Dataset/EzFit_dataset/keypoints_seq/len_8/squat/squat-down/23_6/23_6_46.npy',\n",
       " '/home/u6188041/jom/Dataset/EzFit_dataset/keypoints_seq/len_8/squat/squat-down/23_6/23_6_28.npy',\n",
       " '/home/u6188041/jom/Dataset/EzFit_dataset/keypoints_seq/len_8/squat/squat-down/23_6/23_6_4.npy',\n",
       " '/home/u6188041/jom/Dataset/EzFit_dataset/keypoints_seq/len_8/squat/squat-down/23_6/23_6_29.npy',\n",
       " '/home/u6188041/jom/Dataset/EzFit_dataset/keypoints_seq/len_8/squat/squat-down/23_6/23_6_7.npy',\n",
       " '/home/u6188041/jom/Dataset/EzFit_dataset/keypoints_seq/len_8/squat/squat-down/23_6/23_6_30.npy',\n",
       " '/home/u6188041/jom/Dataset/EzFit_dataset/keypoints_seq/len_8/squat/squat-down/23_6/23_6_27.npy',\n",
       " '/home/u6188041/jom/Dataset/EzFit_dataset/keypoints_seq/len_8/squat/squat-down/23_6/23_6_21.npy',\n",
       " '/home/u6188041/jom/Dataset/EzFit_dataset/keypoints_seq/len_8/squat/squat-down/23_6/23_6_41.npy',\n",
       " '/home/u6188041/jom/Dataset/EzFit_dataset/keypoints_seq/len_8/squat/squat-down/23_6/23_6_14.npy',\n",
       " '/home/u6188041/jom/Dataset/EzFit_dataset/keypoints_seq/len_8/squat/squat-down/23_6/23_6_26.npy',\n",
       " '/home/u6188041/jom/Dataset/EzFit_dataset/keypoints_seq/len_8/squat/squat-down/23_6/23_6_39.npy',\n",
       " '/home/u6188041/jom/Dataset/EzFit_dataset/keypoints_seq/len_8/squat/squat-down/23_6/23_6_45.npy',\n",
       " '/home/u6188041/jom/Dataset/EzFit_dataset/keypoints_seq/len_8/squat/squat-down/23_6/23_6_31.npy',\n",
       " '/home/u6188041/jom/Dataset/EzFit_dataset/keypoints_seq/len_8/squat/squat-down/23_6/23_6_24.npy',\n",
       " '/home/u6188041/jom/Dataset/EzFit_dataset/keypoints_seq/len_8/squat/squat-down/23_6/23_6_16.npy',\n",
       " '/home/u6188041/jom/Dataset/EzFit_dataset/keypoints_seq/len_8/squat/squat-down/23_6/23_6_50.npy',\n",
       " '/home/u6188041/jom/Dataset/EzFit_dataset/keypoints_seq/len_8/squat/squat-down/23_6/23_6_44.npy',\n",
       " '/home/u6188041/jom/Dataset/EzFit_dataset/keypoints_seq/len_8/squat/squat-down/23_6/23_6_38.npy',\n",
       " '/home/u6188041/jom/Dataset/EzFit_dataset/keypoints_seq/len_8/squat/squat-down/23_6/23_6_34.npy',\n",
       " '/home/u6188041/jom/Dataset/EzFit_dataset/keypoints_seq/len_8/squat/squat-down/23_6/23_6_19.npy',\n",
       " '/home/u6188041/jom/Dataset/EzFit_dataset/keypoints_seq/len_8/squat/squat-down/23_6/23_6_10.npy',\n",
       " '/home/u6188041/jom/Dataset/EzFit_dataset/keypoints_seq/len_8/squat/idle/61_4/61_4_34.npy',\n",
       " '/home/u6188041/jom/Dataset/EzFit_dataset/keypoints_seq/len_8/squat/idle/61_4/61_4_29.npy',\n",
       " '/home/u6188041/jom/Dataset/EzFit_dataset/keypoints_seq/len_8/squat/idle/61_4/61_4_37.npy',\n",
       " '/home/u6188041/jom/Dataset/EzFit_dataset/keypoints_seq/len_8/squat/idle/61_4/61_4_65.npy',\n",
       " '/home/u6188041/jom/Dataset/EzFit_dataset/keypoints_seq/len_8/squat/idle/61_4/61_4_46.npy',\n",
       " '/home/u6188041/jom/Dataset/EzFit_dataset/keypoints_seq/len_8/squat/idle/61_4/61_4_30.npy',\n",
       " '/home/u6188041/jom/Dataset/EzFit_dataset/keypoints_seq/len_8/squat/idle/61_4/61_4_12.npy',\n",
       " '/home/u6188041/jom/Dataset/EzFit_dataset/keypoints_seq/len_8/squat/idle/61_4/61_4_23.npy',\n",
       " '/home/u6188041/jom/Dataset/EzFit_dataset/keypoints_seq/len_8/squat/idle/61_4/61_4_51.npy',\n",
       " '/home/u6188041/jom/Dataset/EzFit_dataset/keypoints_seq/len_8/squat/idle/61_4/61_4_43.npy',\n",
       " '/home/u6188041/jom/Dataset/EzFit_dataset/keypoints_seq/len_8/squat/idle/61_4/61_4_15.npy',\n",
       " '/home/u6188041/jom/Dataset/EzFit_dataset/keypoints_seq/len_8/squat/idle/61_4/61_4_52.npy',\n",
       " '/home/u6188041/jom/Dataset/EzFit_dataset/keypoints_seq/len_8/squat/idle/61_4/61_4_64.npy',\n",
       " '/home/u6188041/jom/Dataset/EzFit_dataset/keypoints_seq/len_8/squat/idle/61_4/61_4_17.npy',\n",
       " '/home/u6188041/jom/Dataset/EzFit_dataset/keypoints_seq/len_8/squat/idle/61_4/61_4_60.npy',\n",
       " '/home/u6188041/jom/Dataset/EzFit_dataset/keypoints_seq/len_8/squat/idle/61_4/61_4_41.npy',\n",
       " '/home/u6188041/jom/Dataset/EzFit_dataset/keypoints_seq/len_8/squat/idle/61_4/61_4_7.npy',\n",
       " '/home/u6188041/jom/Dataset/EzFit_dataset/keypoints_seq/len_8/squat/idle/61_4/61_4_6.npy',\n",
       " '/home/u6188041/jom/Dataset/EzFit_dataset/keypoints_seq/len_8/squat/idle/61_4/61_4_13.npy',\n",
       " '/home/u6188041/jom/Dataset/EzFit_dataset/keypoints_seq/len_8/squat/idle/61_4/61_4_11.npy',\n",
       " '/home/u6188041/jom/Dataset/EzFit_dataset/keypoints_seq/len_8/squat/idle/61_4/61_4_20.npy',\n",
       " '/home/u6188041/jom/Dataset/EzFit_dataset/keypoints_seq/len_8/squat/idle/61_4/61_4_49.npy',\n",
       " '/home/u6188041/jom/Dataset/EzFit_dataset/keypoints_seq/len_8/squat/idle/61_4/61_4_40.npy',\n",
       " '/home/u6188041/jom/Dataset/EzFit_dataset/keypoints_seq/len_8/squat/idle/61_4/61_4_24.npy',\n",
       " '/home/u6188041/jom/Dataset/EzFit_dataset/keypoints_seq/len_8/squat/idle/61_4/61_4_62.npy',\n",
       " '/home/u6188041/jom/Dataset/EzFit_dataset/keypoints_seq/len_8/squat/idle/61_4/61_4_35.npy',\n",
       " '/home/u6188041/jom/Dataset/EzFit_dataset/keypoints_seq/len_8/squat/idle/61_4/61_4_19.npy',\n",
       " '/home/u6188041/jom/Dataset/EzFit_dataset/keypoints_seq/len_8/squat/idle/61_4/61_4_42.npy',\n",
       " '/home/u6188041/jom/Dataset/EzFit_dataset/keypoints_seq/len_8/squat/idle/61_4/61_4_39.npy',\n",
       " '/home/u6188041/jom/Dataset/EzFit_dataset/keypoints_seq/len_8/squat/idle/61_4/61_4_18.npy',\n",
       " '/home/u6188041/jom/Dataset/EzFit_dataset/keypoints_seq/len_8/squat/idle/61_4/61_4_8.npy',\n",
       " '/home/u6188041/jom/Dataset/EzFit_dataset/keypoints_seq/len_8/squat/idle/61_4/61_4_16.npy',\n",
       " '/home/u6188041/jom/Dataset/EzFit_dataset/keypoints_seq/len_8/squat/idle/61_4/61_4_50.npy',\n",
       " '/home/u6188041/jom/Dataset/EzFit_dataset/keypoints_seq/len_8/squat/idle/61_4/61_4_61.npy',\n",
       " '/home/u6188041/jom/Dataset/EzFit_dataset/keypoints_seq/len_8/squat/idle/61_4/61_4_38.npy',\n",
       " '/home/u6188041/jom/Dataset/EzFit_dataset/keypoints_seq/len_8/squat/idle/61_4/61_4_3.npy',\n",
       " '/home/u6188041/jom/Dataset/EzFit_dataset/keypoints_seq/len_8/squat/idle/61_4/61_4_14.npy',\n",
       " '/home/u6188041/jom/Dataset/EzFit_dataset/keypoints_seq/len_8/squat/idle/61_4/61_4_1.npy',\n",
       " '/home/u6188041/jom/Dataset/EzFit_dataset/keypoints_seq/len_8/squat/idle/61_4/61_4_21.npy',\n",
       " '/home/u6188041/jom/Dataset/EzFit_dataset/keypoints_seq/len_8/squat/idle/61_4/61_4_63.npy',\n",
       " '/home/u6188041/jom/Dataset/EzFit_dataset/keypoints_seq/len_8/squat/idle/61_4/61_4_25.npy',\n",
       " '/home/u6188041/jom/Dataset/EzFit_dataset/keypoints_seq/len_8/squat/idle/61_4/61_4_27.npy',\n",
       " '/home/u6188041/jom/Dataset/EzFit_dataset/keypoints_seq/len_8/squat/idle/61_4/61_4_36.npy',\n",
       " '/home/u6188041/jom/Dataset/EzFit_dataset/keypoints_seq/len_8/squat/idle/61_4/61_4_59.npy',\n",
       " '/home/u6188041/jom/Dataset/EzFit_dataset/keypoints_seq/len_8/squat/idle/61_4/61_4_48.npy',\n",
       " '/home/u6188041/jom/Dataset/EzFit_dataset/keypoints_seq/len_8/squat/idle/61_4/61_4_2.npy',\n",
       " '/home/u6188041/jom/Dataset/EzFit_dataset/keypoints_seq/len_8/squat/idle/61_4/61_4_56.npy',\n",
       " '/home/u6188041/jom/Dataset/EzFit_dataset/keypoints_seq/len_8/squat/idle/61_4/61_4_28.npy',\n",
       " '/home/u6188041/jom/Dataset/EzFit_dataset/keypoints_seq/len_8/squat/idle/61_4/61_4_44.npy',\n",
       " '/home/u6188041/jom/Dataset/EzFit_dataset/keypoints_seq/len_8/squat/idle/61_4/61_4_0.npy',\n",
       " '/home/u6188041/jom/Dataset/EzFit_dataset/keypoints_seq/len_8/squat/idle/61_4/61_4_54.npy',\n",
       " '/home/u6188041/jom/Dataset/EzFit_dataset/keypoints_seq/len_8/squat/idle/61_4/61_4_31.npy',\n",
       " '/home/u6188041/jom/Dataset/EzFit_dataset/keypoints_seq/len_8/squat/idle/61_4/61_4_32.npy',\n",
       " '/home/u6188041/jom/Dataset/EzFit_dataset/keypoints_seq/len_8/squat/idle/61_4/61_4_10.npy',\n",
       " '/home/u6188041/jom/Dataset/EzFit_dataset/keypoints_seq/len_8/squat/idle/61_4/61_4_55.npy',\n",
       " '/home/u6188041/jom/Dataset/EzFit_dataset/keypoints_seq/len_8/squat/idle/61_4/61_4_4.npy',\n",
       " '/home/u6188041/jom/Dataset/EzFit_dataset/keypoints_seq/len_8/squat/idle/61_4/61_4_22.npy',\n",
       " '/home/u6188041/jom/Dataset/EzFit_dataset/keypoints_seq/len_8/squat/idle/61_4/61_4_58.npy',\n",
       " '/home/u6188041/jom/Dataset/EzFit_dataset/keypoints_seq/len_8/squat/idle/61_4/61_4_47.npy',\n",
       " '/home/u6188041/jom/Dataset/EzFit_dataset/keypoints_seq/len_8/squat/idle/61_4/61_4_57.npy',\n",
       " '/home/u6188041/jom/Dataset/EzFit_dataset/keypoints_seq/len_8/squat/idle/61_4/61_4_45.npy',\n",
       " '/home/u6188041/jom/Dataset/EzFit_dataset/keypoints_seq/len_8/squat/idle/61_4/61_4_53.npy',\n",
       " '/home/u6188041/jom/Dataset/EzFit_dataset/keypoints_seq/len_8/squat/idle/61_4/61_4_26.npy',\n",
       " '/home/u6188041/jom/Dataset/EzFit_dataset/keypoints_seq/len_8/squat/idle/61_4/61_4_33.npy',\n",
       " '/home/u6188041/jom/Dataset/EzFit_dataset/keypoints_seq/len_8/squat/idle/61_4/61_4_5.npy',\n",
       " '/home/u6188041/jom/Dataset/EzFit_dataset/keypoints_seq/len_8/squat/idle/61_4/61_4_9.npy',\n",
       " '/home/u6188041/jom/Dataset/EzFit_dataset/keypoints_seq/len_8/squat/others/jumping-jack-up_37_1/37_1_3.npy',\n",
       " '/home/u6188041/jom/Dataset/EzFit_dataset/keypoints_seq/len_8/squat/others/jumping-jack-up_37_1/37_1_4.npy',\n",
       " '/home/u6188041/jom/Dataset/EzFit_dataset/keypoints_seq/len_8/squat/others/jumping-jack-up_37_1/37_1_2.npy',\n",
       " '/home/u6188041/jom/Dataset/EzFit_dataset/keypoints_seq/len_8/squat/others/jumping-jack-up_37_1/37_1_1.npy',\n",
       " '/home/u6188041/jom/Dataset/EzFit_dataset/keypoints_seq/len_8/squat/squat-down/18_2/18_2_27.npy',\n",
       " '/home/u6188041/jom/Dataset/EzFit_dataset/keypoints_seq/len_8/squat/squat-down/18_2/18_2_7.npy',\n",
       " '/home/u6188041/jom/Dataset/EzFit_dataset/keypoints_seq/len_8/squat/squat-down/18_2/18_2_39.npy',\n",
       " '/home/u6188041/jom/Dataset/EzFit_dataset/keypoints_seq/len_8/squat/squat-down/18_2/18_2_5.npy',\n",
       " '/home/u6188041/jom/Dataset/EzFit_dataset/keypoints_seq/len_8/squat/squat-down/18_2/18_2_29.npy',\n",
       " '/home/u6188041/jom/Dataset/EzFit_dataset/keypoints_seq/len_8/squat/squat-down/18_2/18_2_35.npy',\n",
       " '/home/u6188041/jom/Dataset/EzFit_dataset/keypoints_seq/len_8/squat/squat-down/18_2/18_2_38.npy',\n",
       " '/home/u6188041/jom/Dataset/EzFit_dataset/keypoints_seq/len_8/squat/squat-down/18_2/18_2_9.npy',\n",
       " '/home/u6188041/jom/Dataset/EzFit_dataset/keypoints_seq/len_8/squat/squat-down/18_2/18_2_58.npy',\n",
       " '/home/u6188041/jom/Dataset/EzFit_dataset/keypoints_seq/len_8/squat/squat-down/18_2/18_2_31.npy',\n",
       " '/home/u6188041/jom/Dataset/EzFit_dataset/keypoints_seq/len_8/squat/squat-down/18_2/18_2_48.npy',\n",
       " '/home/u6188041/jom/Dataset/EzFit_dataset/keypoints_seq/len_8/squat/squat-down/18_2/18_2_49.npy',\n",
       " '/home/u6188041/jom/Dataset/EzFit_dataset/keypoints_seq/len_8/squat/squat-down/18_2/18_2_45.npy',\n",
       " '/home/u6188041/jom/Dataset/EzFit_dataset/keypoints_seq/len_8/squat/squat-down/18_2/18_2_59.npy',\n",
       " '/home/u6188041/jom/Dataset/EzFit_dataset/keypoints_seq/len_8/squat/squat-down/18_2/18_2_36.npy',\n",
       " '/home/u6188041/jom/Dataset/EzFit_dataset/keypoints_seq/len_8/squat/squat-down/18_2/18_2_11.npy',\n",
       " '/home/u6188041/jom/Dataset/EzFit_dataset/keypoints_seq/len_8/squat/squat-down/18_2/18_2_3.npy',\n",
       " '/home/u6188041/jom/Dataset/EzFit_dataset/keypoints_seq/len_8/squat/squat-down/18_2/18_2_13.npy',\n",
       " '/home/u6188041/jom/Dataset/EzFit_dataset/keypoints_seq/len_8/squat/squat-down/18_2/18_2_20.npy',\n",
       " '/home/u6188041/jom/Dataset/EzFit_dataset/keypoints_seq/len_8/squat/squat-down/18_2/18_2_24.npy',\n",
       " '/home/u6188041/jom/Dataset/EzFit_dataset/keypoints_seq/len_8/squat/squat-down/18_2/18_2_10.npy',\n",
       " '/home/u6188041/jom/Dataset/EzFit_dataset/keypoints_seq/len_8/squat/squat-down/18_2/18_2_2.npy',\n",
       " '/home/u6188041/jom/Dataset/EzFit_dataset/keypoints_seq/len_8/squat/squat-down/18_2/18_2_53.npy',\n",
       " '/home/u6188041/jom/Dataset/EzFit_dataset/keypoints_seq/len_8/squat/squat-down/18_2/18_2_8.npy',\n",
       " '/home/u6188041/jom/Dataset/EzFit_dataset/keypoints_seq/len_8/squat/squat-down/18_2/18_2_50.npy',\n",
       " '/home/u6188041/jom/Dataset/EzFit_dataset/keypoints_seq/len_8/squat/squat-down/18_2/18_2_12.npy',\n",
       " '/home/u6188041/jom/Dataset/EzFit_dataset/keypoints_seq/len_8/squat/squat-down/18_2/18_2_19.npy',\n",
       " '/home/u6188041/jom/Dataset/EzFit_dataset/keypoints_seq/len_8/squat/squat-down/18_2/18_2_46.npy',\n",
       " '/home/u6188041/jom/Dataset/EzFit_dataset/keypoints_seq/len_8/squat/squat-down/18_2/18_2_6.npy',\n",
       " '/home/u6188041/jom/Dataset/EzFit_dataset/keypoints_seq/len_8/squat/squat-down/18_2/18_2_33.npy',\n",
       " '/home/u6188041/jom/Dataset/EzFit_dataset/keypoints_seq/len_8/squat/squat-down/18_2/18_2_34.npy',\n",
       " '/home/u6188041/jom/Dataset/EzFit_dataset/keypoints_seq/len_8/squat/squat-down/18_2/18_2_21.npy',\n",
       " '/home/u6188041/jom/Dataset/EzFit_dataset/keypoints_seq/len_8/squat/squat-down/18_2/18_2_1.npy',\n",
       " '/home/u6188041/jom/Dataset/EzFit_dataset/keypoints_seq/len_8/squat/squat-down/18_2/18_2_37.npy',\n",
       " '/home/u6188041/jom/Dataset/EzFit_dataset/keypoints_seq/len_8/squat/squat-down/18_2/18_2_23.npy',\n",
       " '/home/u6188041/jom/Dataset/EzFit_dataset/keypoints_seq/len_8/squat/squat-down/18_2/18_2_47.npy',\n",
       " '/home/u6188041/jom/Dataset/EzFit_dataset/keypoints_seq/len_8/squat/squat-down/18_2/18_2_56.npy',\n",
       " '/home/u6188041/jom/Dataset/EzFit_dataset/keypoints_seq/len_8/squat/squat-down/18_2/18_2_15.npy',\n",
       " '/home/u6188041/jom/Dataset/EzFit_dataset/keypoints_seq/len_8/squat/squat-down/18_2/18_2_52.npy',\n",
       " '/home/u6188041/jom/Dataset/EzFit_dataset/keypoints_seq/len_8/squat/squat-down/18_2/18_2_42.npy',\n",
       " '/home/u6188041/jom/Dataset/EzFit_dataset/keypoints_seq/len_8/squat/squat-down/18_2/18_2_57.npy',\n",
       " '/home/u6188041/jom/Dataset/EzFit_dataset/keypoints_seq/len_8/squat/squat-down/18_2/18_2_62.npy',\n",
       " '/home/u6188041/jom/Dataset/EzFit_dataset/keypoints_seq/len_8/squat/squat-down/18_2/18_2_16.npy',\n",
       " '/home/u6188041/jom/Dataset/EzFit_dataset/keypoints_seq/len_8/squat/squat-down/18_2/18_2_40.npy',\n",
       " '/home/u6188041/jom/Dataset/EzFit_dataset/keypoints_seq/len_8/squat/squat-down/18_2/18_2_44.npy',\n",
       " '/home/u6188041/jom/Dataset/EzFit_dataset/keypoints_seq/len_8/squat/squat-down/18_2/18_2_60.npy',\n",
       " '/home/u6188041/jom/Dataset/EzFit_dataset/keypoints_seq/len_8/squat/squat-down/18_2/18_2_18.npy',\n",
       " '/home/u6188041/jom/Dataset/EzFit_dataset/keypoints_seq/len_8/squat/squat-down/18_2/18_2_32.npy',\n",
       " '/home/u6188041/jom/Dataset/EzFit_dataset/keypoints_seq/len_8/squat/squat-down/18_2/18_2_14.npy',\n",
       " '/home/u6188041/jom/Dataset/EzFit_dataset/keypoints_seq/len_8/squat/squat-down/18_2/18_2_30.npy',\n",
       " '/home/u6188041/jom/Dataset/EzFit_dataset/keypoints_seq/len_8/squat/squat-down/18_2/18_2_4.npy',\n",
       " '/home/u6188041/jom/Dataset/EzFit_dataset/keypoints_seq/len_8/squat/squat-down/18_2/18_2_43.npy',\n",
       " '/home/u6188041/jom/Dataset/EzFit_dataset/keypoints_seq/len_8/squat/squat-down/18_2/18_2_25.npy',\n",
       " '/home/u6188041/jom/Dataset/EzFit_dataset/keypoints_seq/len_8/squat/squat-down/18_2/18_2_26.npy',\n",
       " '/home/u6188041/jom/Dataset/EzFit_dataset/keypoints_seq/len_8/squat/squat-down/18_2/18_2_22.npy',\n",
       " '/home/u6188041/jom/Dataset/EzFit_dataset/keypoints_seq/len_8/squat/squat-down/18_2/18_2_41.npy',\n",
       " '/home/u6188041/jom/Dataset/EzFit_dataset/keypoints_seq/len_8/squat/squat-down/18_2/18_2_28.npy',\n",
       " '/home/u6188041/jom/Dataset/EzFit_dataset/keypoints_seq/len_8/squat/squat-down/18_2/18_2_61.npy',\n",
       " '/home/u6188041/jom/Dataset/EzFit_dataset/keypoints_seq/len_8/squat/squat-down/18_2/18_2_51.npy',\n",
       " '/home/u6188041/jom/Dataset/EzFit_dataset/keypoints_seq/len_8/squat/squat-down/18_2/18_2_55.npy',\n",
       " '/home/u6188041/jom/Dataset/EzFit_dataset/keypoints_seq/len_8/squat/squat-down/18_2/18_2_17.npy',\n",
       " '/home/u6188041/jom/Dataset/EzFit_dataset/keypoints_seq/len_8/squat/squat-down/18_2/18_2_54.npy',\n",
       " '/home/u6188041/jom/Dataset/EzFit_dataset/keypoints_seq/len_8/squat/squat-up/7_3/7_3_5.npy',\n",
       " '/home/u6188041/jom/Dataset/EzFit_dataset/keypoints_seq/len_8/squat/squat-up/7_3/7_3_9.npy',\n",
       " '/home/u6188041/jom/Dataset/EzFit_dataset/keypoints_seq/len_8/squat/squat-up/7_3/7_3_1.npy',\n",
       " '/home/u6188041/jom/Dataset/EzFit_dataset/keypoints_seq/len_8/squat/squat-up/7_3/7_3_6.npy',\n",
       " '/home/u6188041/jom/Dataset/EzFit_dataset/keypoints_seq/len_8/squat/squat-up/7_3/7_3_7.npy',\n",
       " '/home/u6188041/jom/Dataset/EzFit_dataset/keypoints_seq/len_8/squat/squat-up/7_3/7_3_4.npy',\n",
       " '/home/u6188041/jom/Dataset/EzFit_dataset/keypoints_seq/len_8/squat/squat-up/7_3/7_3_10.npy',\n",
       " '/home/u6188041/jom/Dataset/EzFit_dataset/keypoints_seq/len_8/squat/squat-up/7_3/7_3_2.npy',\n",
       " '/home/u6188041/jom/Dataset/EzFit_dataset/keypoints_seq/len_8/squat/squat-up/7_3/7_3_3.npy',\n",
       " '/home/u6188041/jom/Dataset/EzFit_dataset/keypoints_seq/len_8/squat/squat-up/7_3/7_3_11.npy',\n",
       " '/home/u6188041/jom/Dataset/EzFit_dataset/keypoints_seq/len_8/squat/squat-up/7_3/7_3_8.npy',\n",
       " '/home/u6188041/jom/Dataset/EzFit_dataset/keypoints_seq/len_8/squat/idle/56_8/56_8_1.npy',\n",
       " '/home/u6188041/jom/Dataset/EzFit_dataset/keypoints_seq/len_8/squat/idle/56_8/56_8_10.npy',\n",
       " '/home/u6188041/jom/Dataset/EzFit_dataset/keypoints_seq/len_8/squat/idle/56_8/56_8_11.npy',\n",
       " '/home/u6188041/jom/Dataset/EzFit_dataset/keypoints_seq/len_8/squat/idle/56_8/56_8_3.npy',\n",
       " '/home/u6188041/jom/Dataset/EzFit_dataset/keypoints_seq/len_8/squat/idle/56_8/56_8_5.npy',\n",
       " '/home/u6188041/jom/Dataset/EzFit_dataset/keypoints_seq/len_8/squat/idle/56_8/56_8_0.npy',\n",
       " '/home/u6188041/jom/Dataset/EzFit_dataset/keypoints_seq/len_8/squat/idle/56_8/56_8_4.npy',\n",
       " '/home/u6188041/jom/Dataset/EzFit_dataset/keypoints_seq/len_8/squat/idle/56_8/56_8_13.npy',\n",
       " '/home/u6188041/jom/Dataset/EzFit_dataset/keypoints_seq/len_8/squat/idle/56_8/56_8_12.npy',\n",
       " '/home/u6188041/jom/Dataset/EzFit_dataset/keypoints_seq/len_8/squat/idle/56_8/56_8_2.npy',\n",
       " '/home/u6188041/jom/Dataset/EzFit_dataset/keypoints_seq/len_8/squat/idle/56_8/56_8_6.npy',\n",
       " '/home/u6188041/jom/Dataset/EzFit_dataset/keypoints_seq/len_8/squat/idle/56_8/56_8_9.npy',\n",
       " '/home/u6188041/jom/Dataset/EzFit_dataset/keypoints_seq/len_8/squat/idle/56_8/56_8_7.npy',\n",
       " '/home/u6188041/jom/Dataset/EzFit_dataset/keypoints_seq/len_8/squat/idle/56_8/56_8_8.npy',\n",
       " '/home/u6188041/jom/Dataset/EzFit_dataset/keypoints_seq/len_8/squat/idle/110_2/110_2_9.npy',\n",
       " '/home/u6188041/jom/Dataset/EzFit_dataset/keypoints_seq/len_8/squat/idle/110_2/110_2_8.npy',\n",
       " '/home/u6188041/jom/Dataset/EzFit_dataset/keypoints_seq/len_8/squat/idle/110_2/110_2_6.npy',\n",
       " '/home/u6188041/jom/Dataset/EzFit_dataset/keypoints_seq/len_8/squat/idle/110_2/110_2_4.npy',\n",
       " '/home/u6188041/jom/Dataset/EzFit_dataset/keypoints_seq/len_8/squat/idle/110_2/110_2_12.npy',\n",
       " '/home/u6188041/jom/Dataset/EzFit_dataset/keypoints_seq/len_8/squat/idle/110_2/110_2_5.npy',\n",
       " '/home/u6188041/jom/Dataset/EzFit_dataset/keypoints_seq/len_8/squat/idle/110_2/110_2_3.npy',\n",
       " '/home/u6188041/jom/Dataset/EzFit_dataset/keypoints_seq/len_8/squat/idle/110_2/110_2_7.npy',\n",
       " '/home/u6188041/jom/Dataset/EzFit_dataset/keypoints_seq/len_8/squat/idle/110_2/110_2_10.npy',\n",
       " '/home/u6188041/jom/Dataset/EzFit_dataset/keypoints_seq/len_8/squat/idle/110_2/110_2_11.npy',\n",
       " '/home/u6188041/jom/Dataset/EzFit_dataset/keypoints_seq/len_8/squat/idle/110_2/110_2_2.npy',\n",
       " '/home/u6188041/jom/Dataset/EzFit_dataset/keypoints_seq/len_8/squat/idle/110_2/110_2_1.npy',\n",
       " '/home/u6188041/jom/Dataset/EzFit_dataset/keypoints_seq/len_8/squat/idle/110_2/110_2_0.npy',\n",
       " '/home/u6188041/jom/Dataset/EzFit_dataset/keypoints_seq/len_8/squat/idle/23_4/23_4_35.npy',\n",
       " '/home/u6188041/jom/Dataset/EzFit_dataset/keypoints_seq/len_8/squat/idle/23_4/23_4_29.npy',\n",
       " '/home/u6188041/jom/Dataset/EzFit_dataset/keypoints_seq/len_8/squat/idle/23_4/23_4_31.npy',\n",
       " '/home/u6188041/jom/Dataset/EzFit_dataset/keypoints_seq/len_8/squat/idle/23_4/23_4_33.npy',\n",
       " '/home/u6188041/jom/Dataset/EzFit_dataset/keypoints_seq/len_8/squat/idle/23_4/23_4_3.npy',\n",
       " '/home/u6188041/jom/Dataset/EzFit_dataset/keypoints_seq/len_8/squat/idle/23_4/23_4_5.npy',\n",
       " '/home/u6188041/jom/Dataset/EzFit_dataset/keypoints_seq/len_8/squat/idle/23_4/23_4_6.npy',\n",
       " '/home/u6188041/jom/Dataset/EzFit_dataset/keypoints_seq/len_8/squat/idle/23_4/23_4_28.npy',\n",
       " '/home/u6188041/jom/Dataset/EzFit_dataset/keypoints_seq/len_8/squat/idle/23_4/23_4_10.npy',\n",
       " '/home/u6188041/jom/Dataset/EzFit_dataset/keypoints_seq/len_8/squat/idle/23_4/23_4_15.npy',\n",
       " '/home/u6188041/jom/Dataset/EzFit_dataset/keypoints_seq/len_8/squat/idle/23_4/23_4_24.npy',\n",
       " '/home/u6188041/jom/Dataset/EzFit_dataset/keypoints_seq/len_8/squat/idle/23_4/23_4_4.npy',\n",
       " '/home/u6188041/jom/Dataset/EzFit_dataset/keypoints_seq/len_8/squat/idle/23_4/23_4_2.npy',\n",
       " '/home/u6188041/jom/Dataset/EzFit_dataset/keypoints_seq/len_8/squat/idle/23_4/23_4_40.npy',\n",
       " '/home/u6188041/jom/Dataset/EzFit_dataset/keypoints_seq/len_8/squat/idle/23_4/23_4_17.npy',\n",
       " '/home/u6188041/jom/Dataset/EzFit_dataset/keypoints_seq/len_8/squat/idle/23_4/23_4_42.npy',\n",
       " '/home/u6188041/jom/Dataset/EzFit_dataset/keypoints_seq/len_8/squat/idle/23_4/23_4_38.npy',\n",
       " '/home/u6188041/jom/Dataset/EzFit_dataset/keypoints_seq/len_8/squat/idle/23_4/23_4_19.npy',\n",
       " '/home/u6188041/jom/Dataset/EzFit_dataset/keypoints_seq/len_8/squat/idle/23_4/23_4_1.npy',\n",
       " '/home/u6188041/jom/Dataset/EzFit_dataset/keypoints_seq/len_8/squat/idle/23_4/23_4_11.npy',\n",
       " '/home/u6188041/jom/Dataset/EzFit_dataset/keypoints_seq/len_8/squat/idle/23_4/23_4_44.npy',\n",
       " '/home/u6188041/jom/Dataset/EzFit_dataset/keypoints_seq/len_8/squat/idle/23_4/23_4_9.npy',\n",
       " '/home/u6188041/jom/Dataset/EzFit_dataset/keypoints_seq/len_8/squat/idle/23_4/23_4_16.npy',\n",
       " '/home/u6188041/jom/Dataset/EzFit_dataset/keypoints_seq/len_8/squat/idle/23_4/23_4_12.npy',\n",
       " '/home/u6188041/jom/Dataset/EzFit_dataset/keypoints_seq/len_8/squat/idle/23_4/23_4_27.npy',\n",
       " '/home/u6188041/jom/Dataset/EzFit_dataset/keypoints_seq/len_8/squat/idle/23_4/23_4_26.npy',\n",
       " '/home/u6188041/jom/Dataset/EzFit_dataset/keypoints_seq/len_8/squat/idle/23_4/23_4_46.npy',\n",
       " '/home/u6188041/jom/Dataset/EzFit_dataset/keypoints_seq/len_8/squat/idle/23_4/23_4_34.npy',\n",
       " '/home/u6188041/jom/Dataset/EzFit_dataset/keypoints_seq/len_8/squat/idle/23_4/23_4_8.npy',\n",
       " '/home/u6188041/jom/Dataset/EzFit_dataset/keypoints_seq/len_8/squat/idle/23_4/23_4_45.npy',\n",
       " '/home/u6188041/jom/Dataset/EzFit_dataset/keypoints_seq/len_8/squat/idle/23_4/23_4_20.npy',\n",
       " '/home/u6188041/jom/Dataset/EzFit_dataset/keypoints_seq/len_8/squat/idle/23_4/23_4_36.npy',\n",
       " '/home/u6188041/jom/Dataset/EzFit_dataset/keypoints_seq/len_8/squat/idle/23_4/23_4_39.npy',\n",
       " '/home/u6188041/jom/Dataset/EzFit_dataset/keypoints_seq/len_8/squat/idle/23_4/23_4_32.npy',\n",
       " '/home/u6188041/jom/Dataset/EzFit_dataset/keypoints_seq/len_8/squat/idle/23_4/23_4_21.npy',\n",
       " '/home/u6188041/jom/Dataset/EzFit_dataset/keypoints_seq/len_8/squat/idle/23_4/23_4_30.npy',\n",
       " '/home/u6188041/jom/Dataset/EzFit_dataset/keypoints_seq/len_8/squat/idle/23_4/23_4_0.npy',\n",
       " '/home/u6188041/jom/Dataset/EzFit_dataset/keypoints_seq/len_8/squat/idle/23_4/23_4_7.npy',\n",
       " '/home/u6188041/jom/Dataset/EzFit_dataset/keypoints_seq/len_8/squat/idle/23_4/23_4_22.npy',\n",
       " '/home/u6188041/jom/Dataset/EzFit_dataset/keypoints_seq/len_8/squat/idle/23_4/23_4_43.npy',\n",
       " '/home/u6188041/jom/Dataset/EzFit_dataset/keypoints_seq/len_8/squat/idle/23_4/23_4_13.npy',\n",
       " '/home/u6188041/jom/Dataset/EzFit_dataset/keypoints_seq/len_8/squat/idle/23_4/23_4_41.npy',\n",
       " '/home/u6188041/jom/Dataset/EzFit_dataset/keypoints_seq/len_8/squat/idle/23_4/23_4_18.npy',\n",
       " '/home/u6188041/jom/Dataset/EzFit_dataset/keypoints_seq/len_8/squat/idle/23_4/23_4_37.npy',\n",
       " '/home/u6188041/jom/Dataset/EzFit_dataset/keypoints_seq/len_8/squat/idle/23_4/23_4_23.npy',\n",
       " '/home/u6188041/jom/Dataset/EzFit_dataset/keypoints_seq/len_8/squat/idle/23_4/23_4_14.npy',\n",
       " '/home/u6188041/jom/Dataset/EzFit_dataset/keypoints_seq/len_8/squat/idle/23_4/23_4_25.npy',\n",
       " '/home/u6188041/jom/Dataset/EzFit_dataset/keypoints_seq/len_8/squat/others/jumping-jack-up_43_1/43_1_23.npy',\n",
       " '/home/u6188041/jom/Dataset/EzFit_dataset/keypoints_seq/len_8/squat/others/jumping-jack-up_43_1/43_1_6.npy',\n",
       " '/home/u6188041/jom/Dataset/EzFit_dataset/keypoints_seq/len_8/squat/others/jumping-jack-up_43_1/43_1_24.npy',\n",
       " '/home/u6188041/jom/Dataset/EzFit_dataset/keypoints_seq/len_8/squat/others/jumping-jack-up_43_1/43_1_2.npy',\n",
       " '/home/u6188041/jom/Dataset/EzFit_dataset/keypoints_seq/len_8/squat/others/jumping-jack-up_43_1/43_1_12.npy',\n",
       " '/home/u6188041/jom/Dataset/EzFit_dataset/keypoints_seq/len_8/squat/others/jumping-jack-up_43_1/43_1_15.npy',\n",
       " '/home/u6188041/jom/Dataset/EzFit_dataset/keypoints_seq/len_8/squat/others/jumping-jack-up_43_1/43_1_28.npy',\n",
       " '/home/u6188041/jom/Dataset/EzFit_dataset/keypoints_seq/len_8/squat/others/jumping-jack-up_43_1/43_1_9.npy',\n",
       " '/home/u6188041/jom/Dataset/EzFit_dataset/keypoints_seq/len_8/squat/others/jumping-jack-up_43_1/43_1_31.npy',\n",
       " '/home/u6188041/jom/Dataset/EzFit_dataset/keypoints_seq/len_8/squat/others/jumping-jack-up_43_1/43_1_32.npy',\n",
       " '/home/u6188041/jom/Dataset/EzFit_dataset/keypoints_seq/len_8/squat/others/jumping-jack-up_43_1/43_1_17.npy',\n",
       " '/home/u6188041/jom/Dataset/EzFit_dataset/keypoints_seq/len_8/squat/others/jumping-jack-up_43_1/43_1_25.npy',\n",
       " '/home/u6188041/jom/Dataset/EzFit_dataset/keypoints_seq/len_8/squat/others/jumping-jack-up_43_1/43_1_11.npy',\n",
       " '/home/u6188041/jom/Dataset/EzFit_dataset/keypoints_seq/len_8/squat/others/jumping-jack-up_43_1/43_1_5.npy',\n",
       " '/home/u6188041/jom/Dataset/EzFit_dataset/keypoints_seq/len_8/squat/others/jumping-jack-up_43_1/43_1_7.npy',\n",
       " '/home/u6188041/jom/Dataset/EzFit_dataset/keypoints_seq/len_8/squat/others/jumping-jack-up_43_1/43_1_1.npy',\n",
       " '/home/u6188041/jom/Dataset/EzFit_dataset/keypoints_seq/len_8/squat/others/jumping-jack-up_43_1/43_1_10.npy',\n",
       " '/home/u6188041/jom/Dataset/EzFit_dataset/keypoints_seq/len_8/squat/others/jumping-jack-up_43_1/43_1_16.npy',\n",
       " '/home/u6188041/jom/Dataset/EzFit_dataset/keypoints_seq/len_8/squat/others/jumping-jack-up_43_1/43_1_20.npy',\n",
       " '/home/u6188041/jom/Dataset/EzFit_dataset/keypoints_seq/len_8/squat/others/jumping-jack-up_43_1/43_1_27.npy',\n",
       " '/home/u6188041/jom/Dataset/EzFit_dataset/keypoints_seq/len_8/squat/others/jumping-jack-up_43_1/43_1_21.npy',\n",
       " '/home/u6188041/jom/Dataset/EzFit_dataset/keypoints_seq/len_8/squat/others/jumping-jack-up_43_1/43_1_18.npy',\n",
       " '/home/u6188041/jom/Dataset/EzFit_dataset/keypoints_seq/len_8/squat/others/jumping-jack-up_43_1/43_1_30.npy',\n",
       " '/home/u6188041/jom/Dataset/EzFit_dataset/keypoints_seq/len_8/squat/others/jumping-jack-up_43_1/43_1_4.npy',\n",
       " '/home/u6188041/jom/Dataset/EzFit_dataset/keypoints_seq/len_8/squat/others/jumping-jack-up_43_1/43_1_33.npy',\n",
       " '/home/u6188041/jom/Dataset/EzFit_dataset/keypoints_seq/len_8/squat/others/jumping-jack-up_43_1/43_1_19.npy',\n",
       " '/home/u6188041/jom/Dataset/EzFit_dataset/keypoints_seq/len_8/squat/others/jumping-jack-up_43_1/43_1_8.npy',\n",
       " '/home/u6188041/jom/Dataset/EzFit_dataset/keypoints_seq/len_8/squat/others/jumping-jack-up_43_1/43_1_22.npy',\n",
       " '/home/u6188041/jom/Dataset/EzFit_dataset/keypoints_seq/len_8/squat/others/jumping-jack-up_43_1/43_1_29.npy',\n",
       " '/home/u6188041/jom/Dataset/EzFit_dataset/keypoints_seq/len_8/squat/others/jumping-jack-up_43_1/43_1_26.npy',\n",
       " '/home/u6188041/jom/Dataset/EzFit_dataset/keypoints_seq/len_8/squat/others/jumping-jack-up_43_1/43_1_14.npy',\n",
       " '/home/u6188041/jom/Dataset/EzFit_dataset/keypoints_seq/len_8/squat/others/jumping-jack-up_43_1/43_1_3.npy',\n",
       " '/home/u6188041/jom/Dataset/EzFit_dataset/keypoints_seq/len_8/squat/others/jumping-jack-up_43_1/43_1_13.npy',\n",
       " '/home/u6188041/jom/Dataset/EzFit_dataset/keypoints_seq/len_8/squat/squat-up/24_5/24_5_11.npy',\n",
       " '/home/u6188041/jom/Dataset/EzFit_dataset/keypoints_seq/len_8/squat/squat-up/24_5/24_5_17.npy',\n",
       " '/home/u6188041/jom/Dataset/EzFit_dataset/keypoints_seq/len_8/squat/squat-up/24_5/24_5_9.npy',\n",
       " '/home/u6188041/jom/Dataset/EzFit_dataset/keypoints_seq/len_8/squat/squat-up/24_5/24_5_26.npy',\n",
       " '/home/u6188041/jom/Dataset/EzFit_dataset/keypoints_seq/len_8/squat/squat-up/24_5/24_5_3.npy',\n",
       " '/home/u6188041/jom/Dataset/EzFit_dataset/keypoints_seq/len_8/squat/squat-up/24_5/24_5_16.npy',\n",
       " '/home/u6188041/jom/Dataset/EzFit_dataset/keypoints_seq/len_8/squat/squat-up/24_5/24_5_1.npy',\n",
       " '/home/u6188041/jom/Dataset/EzFit_dataset/keypoints_seq/len_8/squat/squat-up/24_5/24_5_18.npy',\n",
       " '/home/u6188041/jom/Dataset/EzFit_dataset/keypoints_seq/len_8/squat/squat-up/24_5/24_5_2.npy',\n",
       " '/home/u6188041/jom/Dataset/EzFit_dataset/keypoints_seq/len_8/squat/squat-up/24_5/24_5_4.npy',\n",
       " '/home/u6188041/jom/Dataset/EzFit_dataset/keypoints_seq/len_8/squat/squat-up/24_5/24_5_20.npy',\n",
       " '/home/u6188041/jom/Dataset/EzFit_dataset/keypoints_seq/len_8/squat/squat-up/24_5/24_5_5.npy',\n",
       " '/home/u6188041/jom/Dataset/EzFit_dataset/keypoints_seq/len_8/squat/squat-up/24_5/24_5_6.npy',\n",
       " '/home/u6188041/jom/Dataset/EzFit_dataset/keypoints_seq/len_8/squat/squat-up/24_5/24_5_14.npy',\n",
       " '/home/u6188041/jom/Dataset/EzFit_dataset/keypoints_seq/len_8/squat/squat-up/24_5/24_5_24.npy',\n",
       " '/home/u6188041/jom/Dataset/EzFit_dataset/keypoints_seq/len_8/squat/squat-up/24_5/24_5_22.npy',\n",
       " '/home/u6188041/jom/Dataset/EzFit_dataset/keypoints_seq/len_8/squat/squat-up/24_5/24_5_10.npy',\n",
       " '/home/u6188041/jom/Dataset/EzFit_dataset/keypoints_seq/len_8/squat/squat-up/24_5/24_5_12.npy',\n",
       " '/home/u6188041/jom/Dataset/EzFit_dataset/keypoints_seq/len_8/squat/squat-up/24_5/24_5_8.npy',\n",
       " '/home/u6188041/jom/Dataset/EzFit_dataset/keypoints_seq/len_8/squat/squat-up/24_5/24_5_19.npy',\n",
       " '/home/u6188041/jom/Dataset/EzFit_dataset/keypoints_seq/len_8/squat/squat-up/24_5/24_5_21.npy',\n",
       " '/home/u6188041/jom/Dataset/EzFit_dataset/keypoints_seq/len_8/squat/squat-up/24_5/24_5_23.npy',\n",
       " '/home/u6188041/jom/Dataset/EzFit_dataset/keypoints_seq/len_8/squat/squat-up/24_5/24_5_7.npy',\n",
       " '/home/u6188041/jom/Dataset/EzFit_dataset/keypoints_seq/len_8/squat/squat-up/24_5/24_5_15.npy',\n",
       " '/home/u6188041/jom/Dataset/EzFit_dataset/keypoints_seq/len_8/squat/squat-up/24_5/24_5_27.npy',\n",
       " '/home/u6188041/jom/Dataset/EzFit_dataset/keypoints_seq/len_8/squat/squat-up/24_5/24_5_25.npy',\n",
       " '/home/u6188041/jom/Dataset/EzFit_dataset/keypoints_seq/len_8/squat/squat-up/24_5/24_5_13.npy',\n",
       " '/home/u6188041/jom/Dataset/EzFit_dataset/keypoints_seq/len_8/squat/squat-down/57_2/57_2_52.npy',\n",
       " '/home/u6188041/jom/Dataset/EzFit_dataset/keypoints_seq/len_8/squat/squat-down/57_2/57_2_18.npy',\n",
       " '/home/u6188041/jom/Dataset/EzFit_dataset/keypoints_seq/len_8/squat/squat-down/57_2/57_2_22.npy',\n",
       " '/home/u6188041/jom/Dataset/EzFit_dataset/keypoints_seq/len_8/squat/squat-down/57_2/57_2_32.npy',\n",
       " '/home/u6188041/jom/Dataset/EzFit_dataset/keypoints_seq/len_8/squat/squat-down/57_2/57_2_61.npy',\n",
       " '/home/u6188041/jom/Dataset/EzFit_dataset/keypoints_seq/len_8/squat/squat-down/57_2/57_2_13.npy',\n",
       " '/home/u6188041/jom/Dataset/EzFit_dataset/keypoints_seq/len_8/squat/squat-down/57_2/57_2_50.npy',\n",
       " '/home/u6188041/jom/Dataset/EzFit_dataset/keypoints_seq/len_8/squat/squat-down/57_2/57_2_26.npy',\n",
       " '/home/u6188041/jom/Dataset/EzFit_dataset/keypoints_seq/len_8/squat/squat-down/57_2/57_2_8.npy',\n",
       " '/home/u6188041/jom/Dataset/EzFit_dataset/keypoints_seq/len_8/squat/squat-down/57_2/57_2_47.npy',\n",
       " '/home/u6188041/jom/Dataset/EzFit_dataset/keypoints_seq/len_8/squat/squat-down/57_2/57_2_3.npy',\n",
       " '/home/u6188041/jom/Dataset/EzFit_dataset/keypoints_seq/len_8/squat/squat-down/57_2/57_2_48.npy',\n",
       " '/home/u6188041/jom/Dataset/EzFit_dataset/keypoints_seq/len_8/squat/squat-down/57_2/57_2_64.npy',\n",
       " '/home/u6188041/jom/Dataset/EzFit_dataset/keypoints_seq/len_8/squat/squat-down/57_2/57_2_41.npy',\n",
       " '/home/u6188041/jom/Dataset/EzFit_dataset/keypoints_seq/len_8/squat/squat-down/57_2/57_2_30.npy',\n",
       " '/home/u6188041/jom/Dataset/EzFit_dataset/keypoints_seq/len_8/squat/squat-down/57_2/57_2_34.npy',\n",
       " '/home/u6188041/jom/Dataset/EzFit_dataset/keypoints_seq/len_8/squat/squat-down/57_2/57_2_1.npy',\n",
       " '/home/u6188041/jom/Dataset/EzFit_dataset/keypoints_seq/len_8/squat/squat-down/57_2/57_2_43.npy',\n",
       " '/home/u6188041/jom/Dataset/EzFit_dataset/keypoints_seq/len_8/squat/squat-down/57_2/57_2_17.npy',\n",
       " '/home/u6188041/jom/Dataset/EzFit_dataset/keypoints_seq/len_8/squat/squat-down/57_2/57_2_11.npy',\n",
       " '/home/u6188041/jom/Dataset/EzFit_dataset/keypoints_seq/len_8/squat/squat-down/57_2/57_2_63.npy',\n",
       " '/home/u6188041/jom/Dataset/EzFit_dataset/keypoints_seq/len_8/squat/squat-down/57_2/57_2_45.npy',\n",
       " '/home/u6188041/jom/Dataset/EzFit_dataset/keypoints_seq/len_8/squat/squat-down/57_2/57_2_4.npy',\n",
       " '/home/u6188041/jom/Dataset/EzFit_dataset/keypoints_seq/len_8/squat/squat-down/57_2/57_2_51.npy',\n",
       " '/home/u6188041/jom/Dataset/EzFit_dataset/keypoints_seq/len_8/squat/squat-down/57_2/57_2_5.npy',\n",
       " '/home/u6188041/jom/Dataset/EzFit_dataset/keypoints_seq/len_8/squat/squat-down/57_2/57_2_15.npy',\n",
       " '/home/u6188041/jom/Dataset/EzFit_dataset/keypoints_seq/len_8/squat/squat-down/57_2/57_2_40.npy',\n",
       " '/home/u6188041/jom/Dataset/EzFit_dataset/keypoints_seq/len_8/squat/squat-down/57_2/57_2_16.npy',\n",
       " '/home/u6188041/jom/Dataset/EzFit_dataset/keypoints_seq/len_8/squat/squat-down/57_2/57_2_62.npy',\n",
       " '/home/u6188041/jom/Dataset/EzFit_dataset/keypoints_seq/len_8/squat/squat-down/57_2/57_2_6.npy',\n",
       " '/home/u6188041/jom/Dataset/EzFit_dataset/keypoints_seq/len_8/squat/squat-down/57_2/57_2_39.npy',\n",
       " '/home/u6188041/jom/Dataset/EzFit_dataset/keypoints_seq/len_8/squat/squat-down/57_2/57_2_42.npy',\n",
       " '/home/u6188041/jom/Dataset/EzFit_dataset/keypoints_seq/len_8/squat/squat-down/57_2/57_2_55.npy',\n",
       " '/home/u6188041/jom/Dataset/EzFit_dataset/keypoints_seq/len_8/squat/squat-down/57_2/57_2_31.npy',\n",
       " '/home/u6188041/jom/Dataset/EzFit_dataset/keypoints_seq/len_8/squat/squat-down/57_2/57_2_2.npy',\n",
       " '/home/u6188041/jom/Dataset/EzFit_dataset/keypoints_seq/len_8/squat/squat-down/57_2/57_2_54.npy',\n",
       " '/home/u6188041/jom/Dataset/EzFit_dataset/keypoints_seq/len_8/squat/squat-down/57_2/57_2_60.npy',\n",
       " '/home/u6188041/jom/Dataset/EzFit_dataset/keypoints_seq/len_8/squat/squat-down/57_2/57_2_36.npy',\n",
       " '/home/u6188041/jom/Dataset/EzFit_dataset/keypoints_seq/len_8/squat/squat-down/57_2/57_2_23.npy',\n",
       " '/home/u6188041/jom/Dataset/EzFit_dataset/keypoints_seq/len_8/squat/squat-down/57_2/57_2_20.npy',\n",
       " '/home/u6188041/jom/Dataset/EzFit_dataset/keypoints_seq/len_8/squat/squat-down/57_2/57_2_28.npy',\n",
       " '/home/u6188041/jom/Dataset/EzFit_dataset/keypoints_seq/len_8/squat/squat-down/57_2/57_2_44.npy',\n",
       " '/home/u6188041/jom/Dataset/EzFit_dataset/keypoints_seq/len_8/squat/squat-down/57_2/57_2_14.npy',\n",
       " '/home/u6188041/jom/Dataset/EzFit_dataset/keypoints_seq/len_8/squat/squat-down/57_2/57_2_49.npy',\n",
       " '/home/u6188041/jom/Dataset/EzFit_dataset/keypoints_seq/len_8/squat/squat-down/57_2/57_2_27.npy',\n",
       " '/home/u6188041/jom/Dataset/EzFit_dataset/keypoints_seq/len_8/squat/squat-down/57_2/57_2_29.npy',\n",
       " '/home/u6188041/jom/Dataset/EzFit_dataset/keypoints_seq/len_8/squat/squat-down/57_2/57_2_46.npy',\n",
       " '/home/u6188041/jom/Dataset/EzFit_dataset/keypoints_seq/len_8/squat/squat-down/57_2/57_2_33.npy',\n",
       " '/home/u6188041/jom/Dataset/EzFit_dataset/keypoints_seq/len_8/squat/squat-down/57_2/57_2_37.npy',\n",
       " '/home/u6188041/jom/Dataset/EzFit_dataset/keypoints_seq/len_8/squat/squat-down/57_2/57_2_9.npy',\n",
       " '/home/u6188041/jom/Dataset/EzFit_dataset/keypoints_seq/len_8/squat/squat-down/57_2/57_2_35.npy',\n",
       " '/home/u6188041/jom/Dataset/EzFit_dataset/keypoints_seq/len_8/squat/squat-down/57_2/57_2_10.npy',\n",
       " '/home/u6188041/jom/Dataset/EzFit_dataset/keypoints_seq/len_8/squat/squat-down/57_2/57_2_56.npy',\n",
       " '/home/u6188041/jom/Dataset/EzFit_dataset/keypoints_seq/len_8/squat/squat-down/57_2/57_2_21.npy',\n",
       " '/home/u6188041/jom/Dataset/EzFit_dataset/keypoints_seq/len_8/squat/squat-down/57_2/57_2_19.npy',\n",
       " '/home/u6188041/jom/Dataset/EzFit_dataset/keypoints_seq/len_8/squat/squat-down/57_2/57_2_38.npy',\n",
       " '/home/u6188041/jom/Dataset/EzFit_dataset/keypoints_seq/len_8/squat/squat-down/57_2/57_2_65.npy',\n",
       " '/home/u6188041/jom/Dataset/EzFit_dataset/keypoints_seq/len_8/squat/squat-down/57_2/57_2_24.npy',\n",
       " '/home/u6188041/jom/Dataset/EzFit_dataset/keypoints_seq/len_8/squat/squat-down/57_2/57_2_58.npy',\n",
       " '/home/u6188041/jom/Dataset/EzFit_dataset/keypoints_seq/len_8/squat/squat-down/57_2/57_2_57.npy',\n",
       " '/home/u6188041/jom/Dataset/EzFit_dataset/keypoints_seq/len_8/squat/squat-down/57_2/57_2_12.npy',\n",
       " '/home/u6188041/jom/Dataset/EzFit_dataset/keypoints_seq/len_8/squat/squat-down/57_2/57_2_53.npy',\n",
       " '/home/u6188041/jom/Dataset/EzFit_dataset/keypoints_seq/len_8/squat/squat-down/57_2/57_2_7.npy',\n",
       " '/home/u6188041/jom/Dataset/EzFit_dataset/keypoints_seq/len_8/squat/squat-down/57_2/57_2_25.npy',\n",
       " '/home/u6188041/jom/Dataset/EzFit_dataset/keypoints_seq/len_8/squat/squat-down/57_2/57_2_59.npy',\n",
       " '/home/u6188041/jom/Dataset/EzFit_dataset/keypoints_seq/len_8/squat/squat-down/92_2/92_2_13.npy',\n",
       " '/home/u6188041/jom/Dataset/EzFit_dataset/keypoints_seq/len_8/squat/squat-down/92_2/92_2_10.npy',\n",
       " '/home/u6188041/jom/Dataset/EzFit_dataset/keypoints_seq/len_8/squat/squat-down/92_2/92_2_8.npy',\n",
       " '/home/u6188041/jom/Dataset/EzFit_dataset/keypoints_seq/len_8/squat/squat-down/92_2/92_2_7.npy',\n",
       " '/home/u6188041/jom/Dataset/EzFit_dataset/keypoints_seq/len_8/squat/squat-down/92_2/92_2_3.npy',\n",
       " '/home/u6188041/jom/Dataset/EzFit_dataset/keypoints_seq/len_8/squat/squat-down/92_2/92_2_19.npy',\n",
       " '/home/u6188041/jom/Dataset/EzFit_dataset/keypoints_seq/len_8/squat/squat-down/92_2/92_2_28.npy',\n",
       " '/home/u6188041/jom/Dataset/EzFit_dataset/keypoints_seq/len_8/squat/squat-down/92_2/92_2_9.npy',\n",
       " '/home/u6188041/jom/Dataset/EzFit_dataset/keypoints_seq/len_8/squat/squat-down/92_2/92_2_25.npy',\n",
       " '/home/u6188041/jom/Dataset/EzFit_dataset/keypoints_seq/len_8/squat/squat-down/92_2/92_2_11.npy',\n",
       " '/home/u6188041/jom/Dataset/EzFit_dataset/keypoints_seq/len_8/squat/squat-down/92_2/92_2_16.npy',\n",
       " '/home/u6188041/jom/Dataset/EzFit_dataset/keypoints_seq/len_8/squat/squat-down/92_2/92_2_29.npy',\n",
       " '/home/u6188041/jom/Dataset/EzFit_dataset/keypoints_seq/len_8/squat/squat-down/92_2/92_2_14.npy',\n",
       " '/home/u6188041/jom/Dataset/EzFit_dataset/keypoints_seq/len_8/squat/squat-down/92_2/92_2_6.npy',\n",
       " '/home/u6188041/jom/Dataset/EzFit_dataset/keypoints_seq/len_8/squat/squat-down/92_2/92_2_27.npy',\n",
       " '/home/u6188041/jom/Dataset/EzFit_dataset/keypoints_seq/len_8/squat/squat-down/92_2/92_2_15.npy',\n",
       " '/home/u6188041/jom/Dataset/EzFit_dataset/keypoints_seq/len_8/squat/squat-down/92_2/92_2_18.npy',\n",
       " '/home/u6188041/jom/Dataset/EzFit_dataset/keypoints_seq/len_8/squat/squat-down/92_2/92_2_24.npy',\n",
       " '/home/u6188041/jom/Dataset/EzFit_dataset/keypoints_seq/len_8/squat/squat-down/92_2/92_2_2.npy',\n",
       " '/home/u6188041/jom/Dataset/EzFit_dataset/keypoints_seq/len_8/squat/squat-down/92_2/92_2_23.npy',\n",
       " '/home/u6188041/jom/Dataset/EzFit_dataset/keypoints_seq/len_8/squat/squat-down/92_2/92_2_12.npy',\n",
       " '/home/u6188041/jom/Dataset/EzFit_dataset/keypoints_seq/len_8/squat/squat-down/92_2/92_2_5.npy',\n",
       " '/home/u6188041/jom/Dataset/EzFit_dataset/keypoints_seq/len_8/squat/squat-down/92_2/92_2_22.npy',\n",
       " '/home/u6188041/jom/Dataset/EzFit_dataset/keypoints_seq/len_8/squat/squat-down/92_2/92_2_21.npy',\n",
       " '/home/u6188041/jom/Dataset/EzFit_dataset/keypoints_seq/len_8/squat/squat-down/92_2/92_2_20.npy',\n",
       " '/home/u6188041/jom/Dataset/EzFit_dataset/keypoints_seq/len_8/squat/squat-down/92_2/92_2_17.npy',\n",
       " '/home/u6188041/jom/Dataset/EzFit_dataset/keypoints_seq/len_8/squat/squat-down/92_2/92_2_26.npy',\n",
       " '/home/u6188041/jom/Dataset/EzFit_dataset/keypoints_seq/len_8/squat/squat-down/92_2/92_2_1.npy',\n",
       " '/home/u6188041/jom/Dataset/EzFit_dataset/keypoints_seq/len_8/squat/squat-down/92_2/92_2_4.npy',\n",
       " '/home/u6188041/jom/Dataset/EzFit_dataset/keypoints_seq/len_8/squat/squat-down/92_2/92_2_31.npy',\n",
       " '/home/u6188041/jom/Dataset/EzFit_dataset/keypoints_seq/len_8/squat/squat-down/92_2/92_2_30.npy',\n",
       " '/home/u6188041/jom/Dataset/EzFit_dataset/keypoints_seq/len_8/squat/squat-down/31_4/31_4_3.npy',\n",
       " '/home/u6188041/jom/Dataset/EzFit_dataset/keypoints_seq/len_8/squat/squat-down/31_4/31_4_96.npy',\n",
       " '/home/u6188041/jom/Dataset/EzFit_dataset/keypoints_seq/len_8/squat/squat-down/31_4/31_4_76.npy',\n",
       " '/home/u6188041/jom/Dataset/EzFit_dataset/keypoints_seq/len_8/squat/squat-down/31_4/31_4_50.npy',\n",
       " '/home/u6188041/jom/Dataset/EzFit_dataset/keypoints_seq/len_8/squat/squat-down/31_4/31_4_68.npy',\n",
       " '/home/u6188041/jom/Dataset/EzFit_dataset/keypoints_seq/len_8/squat/squat-down/31_4/31_4_84.npy',\n",
       " '/home/u6188041/jom/Dataset/EzFit_dataset/keypoints_seq/len_8/squat/squat-down/31_4/31_4_55.npy',\n",
       " '/home/u6188041/jom/Dataset/EzFit_dataset/keypoints_seq/len_8/squat/squat-down/31_4/31_4_31.npy',\n",
       " '/home/u6188041/jom/Dataset/EzFit_dataset/keypoints_seq/len_8/squat/squat-down/31_4/31_4_26.npy',\n",
       " '/home/u6188041/jom/Dataset/EzFit_dataset/keypoints_seq/len_8/squat/squat-down/31_4/31_4_52.npy',\n",
       " '/home/u6188041/jom/Dataset/EzFit_dataset/keypoints_seq/len_8/squat/squat-down/31_4/31_4_70.npy',\n",
       " '/home/u6188041/jom/Dataset/EzFit_dataset/keypoints_seq/len_8/squat/squat-down/31_4/31_4_65.npy',\n",
       " '/home/u6188041/jom/Dataset/EzFit_dataset/keypoints_seq/len_8/squat/squat-down/31_4/31_4_10.npy',\n",
       " '/home/u6188041/jom/Dataset/EzFit_dataset/keypoints_seq/len_8/squat/squat-down/31_4/31_4_78.npy',\n",
       " '/home/u6188041/jom/Dataset/EzFit_dataset/keypoints_seq/len_8/squat/squat-down/31_4/31_4_1.npy',\n",
       " '/home/u6188041/jom/Dataset/EzFit_dataset/keypoints_seq/len_8/squat/squat-down/31_4/31_4_37.npy',\n",
       " '/home/u6188041/jom/Dataset/EzFit_dataset/keypoints_seq/len_8/squat/squat-down/31_4/31_4_48.npy',\n",
       " '/home/u6188041/jom/Dataset/EzFit_dataset/keypoints_seq/len_8/squat/squat-down/31_4/31_4_41.npy',\n",
       " '/home/u6188041/jom/Dataset/EzFit_dataset/keypoints_seq/len_8/squat/squat-down/31_4/31_4_7.npy',\n",
       " '/home/u6188041/jom/Dataset/EzFit_dataset/keypoints_seq/len_8/squat/squat-down/31_4/31_4_44.npy',\n",
       " '/home/u6188041/jom/Dataset/EzFit_dataset/keypoints_seq/len_8/squat/squat-down/31_4/31_4_12.npy',\n",
       " '/home/u6188041/jom/Dataset/EzFit_dataset/keypoints_seq/len_8/squat/squat-down/31_4/31_4_71.npy',\n",
       " '/home/u6188041/jom/Dataset/EzFit_dataset/keypoints_seq/len_8/squat/squat-down/31_4/31_4_20.npy',\n",
       " '/home/u6188041/jom/Dataset/EzFit_dataset/keypoints_seq/len_8/squat/squat-down/31_4/31_4_27.npy',\n",
       " '/home/u6188041/jom/Dataset/EzFit_dataset/keypoints_seq/len_8/squat/squat-down/31_4/31_4_89.npy',\n",
       " '/home/u6188041/jom/Dataset/EzFit_dataset/keypoints_seq/len_8/squat/squat-down/31_4/31_4_87.npy',\n",
       " '/home/u6188041/jom/Dataset/EzFit_dataset/keypoints_seq/len_8/squat/squat-down/31_4/31_4_47.npy',\n",
       " '/home/u6188041/jom/Dataset/EzFit_dataset/keypoints_seq/len_8/squat/squat-down/31_4/31_4_29.npy',\n",
       " '/home/u6188041/jom/Dataset/EzFit_dataset/keypoints_seq/len_8/squat/squat-down/31_4/31_4_22.npy',\n",
       " '/home/u6188041/jom/Dataset/EzFit_dataset/keypoints_seq/len_8/squat/squat-down/31_4/31_4_67.npy',\n",
       " '/home/u6188041/jom/Dataset/EzFit_dataset/keypoints_seq/len_8/squat/squat-down/31_4/31_4_74.npy',\n",
       " '/home/u6188041/jom/Dataset/EzFit_dataset/keypoints_seq/len_8/squat/squat-down/31_4/31_4_59.npy',\n",
       " '/home/u6188041/jom/Dataset/EzFit_dataset/keypoints_seq/len_8/squat/squat-down/31_4/31_4_5.npy',\n",
       " '/home/u6188041/jom/Dataset/EzFit_dataset/keypoints_seq/len_8/squat/squat-down/31_4/31_4_15.npy',\n",
       " '/home/u6188041/jom/Dataset/EzFit_dataset/keypoints_seq/len_8/squat/squat-down/31_4/31_4_42.npy',\n",
       " '/home/u6188041/jom/Dataset/EzFit_dataset/keypoints_seq/len_8/squat/squat-down/31_4/31_4_53.npy',\n",
       " '/home/u6188041/jom/Dataset/EzFit_dataset/keypoints_seq/len_8/squat/squat-down/31_4/31_4_97.npy',\n",
       " '/home/u6188041/jom/Dataset/EzFit_dataset/keypoints_seq/len_8/squat/squat-down/31_4/31_4_45.npy',\n",
       " '/home/u6188041/jom/Dataset/EzFit_dataset/keypoints_seq/len_8/squat/squat-down/31_4/31_4_18.npy',\n",
       " '/home/u6188041/jom/Dataset/EzFit_dataset/keypoints_seq/len_8/squat/squat-down/31_4/31_4_21.npy',\n",
       " '/home/u6188041/jom/Dataset/EzFit_dataset/keypoints_seq/len_8/squat/squat-down/31_4/31_4_9.npy',\n",
       " '/home/u6188041/jom/Dataset/EzFit_dataset/keypoints_seq/len_8/squat/squat-down/31_4/31_4_34.npy',\n",
       " '/home/u6188041/jom/Dataset/EzFit_dataset/keypoints_seq/len_8/squat/squat-down/31_4/31_4_35.npy',\n",
       " '/home/u6188041/jom/Dataset/EzFit_dataset/keypoints_seq/len_8/squat/squat-down/31_4/31_4_2.npy',\n",
       " '/home/u6188041/jom/Dataset/EzFit_dataset/keypoints_seq/len_8/squat/squat-down/31_4/31_4_19.npy',\n",
       " '/home/u6188041/jom/Dataset/EzFit_dataset/keypoints_seq/len_8/squat/squat-down/31_4/31_4_80.npy',\n",
       " '/home/u6188041/jom/Dataset/EzFit_dataset/keypoints_seq/len_8/squat/squat-down/31_4/31_4_23.npy',\n",
       " '/home/u6188041/jom/Dataset/EzFit_dataset/keypoints_seq/len_8/squat/squat-down/31_4/31_4_24.npy',\n",
       " '/home/u6188041/jom/Dataset/EzFit_dataset/keypoints_seq/len_8/squat/squat-down/31_4/31_4_6.npy',\n",
       " '/home/u6188041/jom/Dataset/EzFit_dataset/keypoints_seq/len_8/squat/squat-down/31_4/31_4_72.npy',\n",
       " '/home/u6188041/jom/Dataset/EzFit_dataset/keypoints_seq/len_8/squat/squat-down/31_4/31_4_17.npy',\n",
       " '/home/u6188041/jom/Dataset/EzFit_dataset/keypoints_seq/len_8/squat/squat-down/31_4/31_4_46.npy',\n",
       " '/home/u6188041/jom/Dataset/EzFit_dataset/keypoints_seq/len_8/squat/squat-down/31_4/31_4_88.npy',\n",
       " '/home/u6188041/jom/Dataset/EzFit_dataset/keypoints_seq/len_8/squat/squat-down/31_4/31_4_81.npy',\n",
       " '/home/u6188041/jom/Dataset/EzFit_dataset/keypoints_seq/len_8/squat/squat-down/31_4/31_4_85.npy',\n",
       " '/home/u6188041/jom/Dataset/EzFit_dataset/keypoints_seq/len_8/squat/squat-down/31_4/31_4_57.npy',\n",
       " '/home/u6188041/jom/Dataset/EzFit_dataset/keypoints_seq/len_8/squat/squat-down/31_4/31_4_54.npy',\n",
       " '/home/u6188041/jom/Dataset/EzFit_dataset/keypoints_seq/len_8/squat/squat-down/31_4/31_4_66.npy',\n",
       " '/home/u6188041/jom/Dataset/EzFit_dataset/keypoints_seq/len_8/squat/squat-down/31_4/31_4_4.npy',\n",
       " '/home/u6188041/jom/Dataset/EzFit_dataset/keypoints_seq/len_8/squat/squat-down/31_4/31_4_83.npy',\n",
       " '/home/u6188041/jom/Dataset/EzFit_dataset/keypoints_seq/len_8/squat/squat-down/31_4/31_4_13.npy',\n",
       " '/home/u6188041/jom/Dataset/EzFit_dataset/keypoints_seq/len_8/squat/squat-down/31_4/31_4_36.npy',\n",
       " '/home/u6188041/jom/Dataset/EzFit_dataset/keypoints_seq/len_8/squat/squat-down/31_4/31_4_64.npy',\n",
       " '/home/u6188041/jom/Dataset/EzFit_dataset/keypoints_seq/len_8/squat/squat-down/31_4/31_4_60.npy',\n",
       " '/home/u6188041/jom/Dataset/EzFit_dataset/keypoints_seq/len_8/squat/squat-down/31_4/31_4_38.npy',\n",
       " '/home/u6188041/jom/Dataset/EzFit_dataset/keypoints_seq/len_8/squat/squat-down/31_4/31_4_63.npy',\n",
       " '/home/u6188041/jom/Dataset/EzFit_dataset/keypoints_seq/len_8/squat/squat-down/31_4/31_4_79.npy',\n",
       " '/home/u6188041/jom/Dataset/EzFit_dataset/keypoints_seq/len_8/squat/squat-down/31_4/31_4_40.npy',\n",
       " '/home/u6188041/jom/Dataset/EzFit_dataset/keypoints_seq/len_8/squat/squat-down/31_4/31_4_43.npy',\n",
       " '/home/u6188041/jom/Dataset/EzFit_dataset/keypoints_seq/len_8/squat/squat-down/31_4/31_4_16.npy',\n",
       " '/home/u6188041/jom/Dataset/EzFit_dataset/keypoints_seq/len_8/squat/squat-down/31_4/31_4_69.npy',\n",
       " '/home/u6188041/jom/Dataset/EzFit_dataset/keypoints_seq/len_8/squat/squat-down/31_4/31_4_77.npy',\n",
       " '/home/u6188041/jom/Dataset/EzFit_dataset/keypoints_seq/len_8/squat/squat-down/31_4/31_4_95.npy',\n",
       " '/home/u6188041/jom/Dataset/EzFit_dataset/keypoints_seq/len_8/squat/squat-down/31_4/31_4_39.npy',\n",
       " '/home/u6188041/jom/Dataset/EzFit_dataset/keypoints_seq/len_8/squat/squat-down/31_4/31_4_62.npy',\n",
       " '/home/u6188041/jom/Dataset/EzFit_dataset/keypoints_seq/len_8/squat/squat-down/31_4/31_4_11.npy',\n",
       " '/home/u6188041/jom/Dataset/EzFit_dataset/keypoints_seq/len_8/squat/squat-down/31_4/31_4_90.npy',\n",
       " '/home/u6188041/jom/Dataset/EzFit_dataset/keypoints_seq/len_8/squat/squat-down/31_4/31_4_92.npy',\n",
       " '/home/u6188041/jom/Dataset/EzFit_dataset/keypoints_seq/len_8/squat/squat-down/31_4/31_4_32.npy',\n",
       " '/home/u6188041/jom/Dataset/EzFit_dataset/keypoints_seq/len_8/squat/squat-down/31_4/31_4_25.npy',\n",
       " '/home/u6188041/jom/Dataset/EzFit_dataset/keypoints_seq/len_8/squat/squat-down/31_4/31_4_30.npy',\n",
       " '/home/u6188041/jom/Dataset/EzFit_dataset/keypoints_seq/len_8/squat/squat-down/31_4/31_4_56.npy',\n",
       " '/home/u6188041/jom/Dataset/EzFit_dataset/keypoints_seq/len_8/squat/squat-down/31_4/31_4_75.npy',\n",
       " '/home/u6188041/jom/Dataset/EzFit_dataset/keypoints_seq/len_8/squat/squat-down/31_4/31_4_33.npy',\n",
       " '/home/u6188041/jom/Dataset/EzFit_dataset/keypoints_seq/len_8/squat/squat-down/31_4/31_4_82.npy',\n",
       " '/home/u6188041/jom/Dataset/EzFit_dataset/keypoints_seq/len_8/squat/squat-down/31_4/31_4_49.npy',\n",
       " '/home/u6188041/jom/Dataset/EzFit_dataset/keypoints_seq/len_8/squat/squat-down/31_4/31_4_73.npy',\n",
       " '/home/u6188041/jom/Dataset/EzFit_dataset/keypoints_seq/len_8/squat/squat-down/31_4/31_4_8.npy',\n",
       " '/home/u6188041/jom/Dataset/EzFit_dataset/keypoints_seq/len_8/squat/squat-down/31_4/31_4_28.npy',\n",
       " '/home/u6188041/jom/Dataset/EzFit_dataset/keypoints_seq/len_8/squat/squat-down/31_4/31_4_51.npy',\n",
       " '/home/u6188041/jom/Dataset/EzFit_dataset/keypoints_seq/len_8/squat/squat-down/31_4/31_4_91.npy',\n",
       " '/home/u6188041/jom/Dataset/EzFit_dataset/keypoints_seq/len_8/squat/squat-down/31_4/31_4_94.npy',\n",
       " '/home/u6188041/jom/Dataset/EzFit_dataset/keypoints_seq/len_8/squat/squat-down/31_4/31_4_58.npy',\n",
       " '/home/u6188041/jom/Dataset/EzFit_dataset/keypoints_seq/len_8/squat/squat-down/31_4/31_4_86.npy',\n",
       " '/home/u6188041/jom/Dataset/EzFit_dataset/keypoints_seq/len_8/squat/squat-down/31_4/31_4_93.npy',\n",
       " '/home/u6188041/jom/Dataset/EzFit_dataset/keypoints_seq/len_8/squat/squat-down/31_4/31_4_61.npy',\n",
       " '/home/u6188041/jom/Dataset/EzFit_dataset/keypoints_seq/len_8/squat/squat-down/31_4/31_4_14.npy',\n",
       " '/home/u6188041/jom/Dataset/EzFit_dataset/keypoints_seq/len_8/squat/squat-up/75_1/75_1_6.npy',\n",
       " '/home/u6188041/jom/Dataset/EzFit_dataset/keypoints_seq/len_8/squat/squat-up/75_1/75_1_4.npy',\n",
       " '/home/u6188041/jom/Dataset/EzFit_dataset/keypoints_seq/len_8/squat/squat-up/75_1/75_1_7.npy',\n",
       " '/home/u6188041/jom/Dataset/EzFit_dataset/keypoints_seq/len_8/squat/squat-up/75_1/75_1_2.npy',\n",
       " '/home/u6188041/jom/Dataset/EzFit_dataset/keypoints_seq/len_8/squat/squat-up/75_1/75_1_1.npy',\n",
       " '/home/u6188041/jom/Dataset/EzFit_dataset/keypoints_seq/len_8/squat/squat-up/75_1/75_1_8.npy',\n",
       " '/home/u6188041/jom/Dataset/EzFit_dataset/keypoints_seq/len_8/squat/squat-up/75_1/75_1_10.npy',\n",
       " '/home/u6188041/jom/Dataset/EzFit_dataset/keypoints_seq/len_8/squat/squat-up/75_1/75_1_3.npy',\n",
       " '/home/u6188041/jom/Dataset/EzFit_dataset/keypoints_seq/len_8/squat/squat-up/75_1/75_1_5.npy',\n",
       " '/home/u6188041/jom/Dataset/EzFit_dataset/keypoints_seq/len_8/squat/squat-up/75_1/75_1_9.npy',\n",
       " '/home/u6188041/jom/Dataset/EzFit_dataset/keypoints_seq/len_8/squat/squat-down/28_4/28_4_44.npy',\n",
       " '/home/u6188041/jom/Dataset/EzFit_dataset/keypoints_seq/len_8/squat/squat-down/28_4/28_4_42.npy',\n",
       " '/home/u6188041/jom/Dataset/EzFit_dataset/keypoints_seq/len_8/squat/squat-down/28_4/28_4_47.npy',\n",
       " '/home/u6188041/jom/Dataset/EzFit_dataset/keypoints_seq/len_8/squat/squat-down/28_4/28_4_20.npy',\n",
       " '/home/u6188041/jom/Dataset/EzFit_dataset/keypoints_seq/len_8/squat/squat-down/28_4/28_4_22.npy',\n",
       " '/home/u6188041/jom/Dataset/EzFit_dataset/keypoints_seq/len_8/squat/squat-down/28_4/28_4_49.npy',\n",
       " '/home/u6188041/jom/Dataset/EzFit_dataset/keypoints_seq/len_8/squat/squat-down/28_4/28_4_30.npy',\n",
       " '/home/u6188041/jom/Dataset/EzFit_dataset/keypoints_seq/len_8/squat/squat-down/28_4/28_4_46.npy',\n",
       " '/home/u6188041/jom/Dataset/EzFit_dataset/keypoints_seq/len_8/squat/squat-down/28_4/28_4_29.npy',\n",
       " '/home/u6188041/jom/Dataset/EzFit_dataset/keypoints_seq/len_8/squat/squat-down/28_4/28_4_3.npy',\n",
       " '/home/u6188041/jom/Dataset/EzFit_dataset/keypoints_seq/len_8/squat/squat-down/28_4/28_4_33.npy',\n",
       " '/home/u6188041/jom/Dataset/EzFit_dataset/keypoints_seq/len_8/squat/squat-down/28_4/28_4_5.npy',\n",
       " '/home/u6188041/jom/Dataset/EzFit_dataset/keypoints_seq/len_8/squat/squat-down/28_4/28_4_15.npy',\n",
       " '/home/u6188041/jom/Dataset/EzFit_dataset/keypoints_seq/len_8/squat/squat-down/28_4/28_4_41.npy',\n",
       " '/home/u6188041/jom/Dataset/EzFit_dataset/keypoints_seq/len_8/squat/squat-down/28_4/28_4_24.npy',\n",
       " '/home/u6188041/jom/Dataset/EzFit_dataset/keypoints_seq/len_8/squat/squat-down/28_4/28_4_36.npy',\n",
       " '/home/u6188041/jom/Dataset/EzFit_dataset/keypoints_seq/len_8/squat/squat-down/28_4/28_4_8.npy',\n",
       " '/home/u6188041/jom/Dataset/EzFit_dataset/keypoints_seq/len_8/squat/squat-down/28_4/28_4_51.npy',\n",
       " '/home/u6188041/jom/Dataset/EzFit_dataset/keypoints_seq/len_8/squat/squat-down/28_4/28_4_17.npy',\n",
       " '/home/u6188041/jom/Dataset/EzFit_dataset/keypoints_seq/len_8/squat/squat-down/28_4/28_4_21.npy',\n",
       " '/home/u6188041/jom/Dataset/EzFit_dataset/keypoints_seq/len_8/squat/squat-down/28_4/28_4_35.npy',\n",
       " '/home/u6188041/jom/Dataset/EzFit_dataset/keypoints_seq/len_8/squat/squat-down/28_4/28_4_52.npy',\n",
       " '/home/u6188041/jom/Dataset/EzFit_dataset/keypoints_seq/len_8/squat/squat-down/28_4/28_4_31.npy',\n",
       " '/home/u6188041/jom/Dataset/EzFit_dataset/keypoints_seq/len_8/squat/squat-down/28_4/28_4_45.npy',\n",
       " '/home/u6188041/jom/Dataset/EzFit_dataset/keypoints_seq/len_8/squat/squat-down/28_4/28_4_7.npy',\n",
       " '/home/u6188041/jom/Dataset/EzFit_dataset/keypoints_seq/len_8/squat/squat-down/28_4/28_4_10.npy',\n",
       " '/home/u6188041/jom/Dataset/EzFit_dataset/keypoints_seq/len_8/squat/squat-down/28_4/28_4_28.npy',\n",
       " '/home/u6188041/jom/Dataset/EzFit_dataset/keypoints_seq/len_8/squat/squat-down/28_4/28_4_48.npy',\n",
       " '/home/u6188041/jom/Dataset/EzFit_dataset/keypoints_seq/len_8/squat/squat-down/28_4/28_4_26.npy',\n",
       " '/home/u6188041/jom/Dataset/EzFit_dataset/keypoints_seq/len_8/squat/squat-down/28_4/28_4_16.npy',\n",
       " '/home/u6188041/jom/Dataset/EzFit_dataset/keypoints_seq/len_8/squat/squat-down/28_4/28_4_12.npy',\n",
       " '/home/u6188041/jom/Dataset/EzFit_dataset/keypoints_seq/len_8/squat/squat-down/28_4/28_4_9.npy',\n",
       " '/home/u6188041/jom/Dataset/EzFit_dataset/keypoints_seq/len_8/squat/squat-down/28_4/28_4_6.npy',\n",
       " '/home/u6188041/jom/Dataset/EzFit_dataset/keypoints_seq/len_8/squat/squat-down/28_4/28_4_38.npy',\n",
       " '/home/u6188041/jom/Dataset/EzFit_dataset/keypoints_seq/len_8/squat/squat-down/28_4/28_4_18.npy',\n",
       " '/home/u6188041/jom/Dataset/EzFit_dataset/keypoints_seq/len_8/squat/squat-down/28_4/28_4_11.npy',\n",
       " '/home/u6188041/jom/Dataset/EzFit_dataset/keypoints_seq/len_8/squat/squat-down/28_4/28_4_1.npy',\n",
       " '/home/u6188041/jom/Dataset/EzFit_dataset/keypoints_seq/len_8/squat/squat-down/28_4/28_4_32.npy',\n",
       " '/home/u6188041/jom/Dataset/EzFit_dataset/keypoints_seq/len_8/squat/squat-down/28_4/28_4_34.npy',\n",
       " '/home/u6188041/jom/Dataset/EzFit_dataset/keypoints_seq/len_8/squat/squat-down/28_4/28_4_27.npy',\n",
       " '/home/u6188041/jom/Dataset/EzFit_dataset/keypoints_seq/len_8/squat/squat-down/28_4/28_4_25.npy',\n",
       " '/home/u6188041/jom/Dataset/EzFit_dataset/keypoints_seq/len_8/squat/squat-down/28_4/28_4_23.npy',\n",
       " '/home/u6188041/jom/Dataset/EzFit_dataset/keypoints_seq/len_8/squat/squat-down/28_4/28_4_4.npy',\n",
       " '/home/u6188041/jom/Dataset/EzFit_dataset/keypoints_seq/len_8/squat/squat-down/28_4/28_4_14.npy',\n",
       " '/home/u6188041/jom/Dataset/EzFit_dataset/keypoints_seq/len_8/squat/squat-down/28_4/28_4_19.npy',\n",
       " '/home/u6188041/jom/Dataset/EzFit_dataset/keypoints_seq/len_8/squat/squat-down/28_4/28_4_37.npy',\n",
       " '/home/u6188041/jom/Dataset/EzFit_dataset/keypoints_seq/len_8/squat/squat-down/28_4/28_4_40.npy',\n",
       " '/home/u6188041/jom/Dataset/EzFit_dataset/keypoints_seq/len_8/squat/squat-down/28_4/28_4_2.npy',\n",
       " '/home/u6188041/jom/Dataset/EzFit_dataset/keypoints_seq/len_8/squat/squat-down/28_4/28_4_43.npy',\n",
       " '/home/u6188041/jom/Dataset/EzFit_dataset/keypoints_seq/len_8/squat/squat-down/28_4/28_4_39.npy',\n",
       " '/home/u6188041/jom/Dataset/EzFit_dataset/keypoints_seq/len_8/squat/squat-down/28_4/28_4_13.npy',\n",
       " '/home/u6188041/jom/Dataset/EzFit_dataset/keypoints_seq/len_8/squat/squat-down/28_4/28_4_50.npy',\n",
       " '/home/u6188041/jom/Dataset/EzFit_dataset/keypoints_seq/len_8/squat/squat-down/1_2/1_2_9.npy',\n",
       " '/home/u6188041/jom/Dataset/EzFit_dataset/keypoints_seq/len_8/squat/squat-down/1_2/1_2_3.npy',\n",
       " '/home/u6188041/jom/Dataset/EzFit_dataset/keypoints_seq/len_8/squat/squat-down/1_2/1_2_19.npy',\n",
       " '/home/u6188041/jom/Dataset/EzFit_dataset/keypoints_seq/len_8/squat/squat-down/1_2/1_2_12.npy',\n",
       " '/home/u6188041/jom/Dataset/EzFit_dataset/keypoints_seq/len_8/squat/squat-down/1_2/1_2_6.npy',\n",
       " '/home/u6188041/jom/Dataset/EzFit_dataset/keypoints_seq/len_8/squat/squat-down/1_2/1_2_16.npy',\n",
       " '/home/u6188041/jom/Dataset/EzFit_dataset/keypoints_seq/len_8/squat/squat-down/1_2/1_2_10.npy',\n",
       " '/home/u6188041/jom/Dataset/EzFit_dataset/keypoints_seq/len_8/squat/squat-down/1_2/1_2_11.npy',\n",
       " '/home/u6188041/jom/Dataset/EzFit_dataset/keypoints_seq/len_8/squat/squat-down/1_2/1_2_17.npy',\n",
       " '/home/u6188041/jom/Dataset/EzFit_dataset/keypoints_seq/len_8/squat/squat-down/1_2/1_2_8.npy',\n",
       " '/home/u6188041/jom/Dataset/EzFit_dataset/keypoints_seq/len_8/squat/squat-down/1_2/1_2_20.npy',\n",
       " '/home/u6188041/jom/Dataset/EzFit_dataset/keypoints_seq/len_8/squat/squat-down/1_2/1_2_1.npy',\n",
       " '/home/u6188041/jom/Dataset/EzFit_dataset/keypoints_seq/len_8/squat/squat-down/1_2/1_2_13.npy',\n",
       " '/home/u6188041/jom/Dataset/EzFit_dataset/keypoints_seq/len_8/squat/squat-down/1_2/1_2_18.npy',\n",
       " '/home/u6188041/jom/Dataset/EzFit_dataset/keypoints_seq/len_8/squat/squat-down/1_2/1_2_14.npy',\n",
       " '/home/u6188041/jom/Dataset/EzFit_dataset/keypoints_seq/len_8/squat/squat-down/1_2/1_2_2.npy',\n",
       " '/home/u6188041/jom/Dataset/EzFit_dataset/keypoints_seq/len_8/squat/squat-down/1_2/1_2_4.npy',\n",
       " '/home/u6188041/jom/Dataset/EzFit_dataset/keypoints_seq/len_8/squat/squat-down/1_2/1_2_15.npy',\n",
       " '/home/u6188041/jom/Dataset/EzFit_dataset/keypoints_seq/len_8/squat/squat-down/1_2/1_2_7.npy',\n",
       " '/home/u6188041/jom/Dataset/EzFit_dataset/keypoints_seq/len_8/squat/squat-down/1_2/1_2_5.npy',\n",
       " '/home/u6188041/jom/Dataset/EzFit_dataset/keypoints_seq/len_8/squat/others/pushup-down_20_3/20_3_2.npy',\n",
       " '/home/u6188041/jom/Dataset/EzFit_dataset/keypoints_seq/len_8/squat/others/pushup-down_20_3/20_3_11.npy',\n",
       " '/home/u6188041/jom/Dataset/EzFit_dataset/keypoints_seq/len_8/squat/others/pushup-down_20_3/20_3_3.npy',\n",
       " '/home/u6188041/jom/Dataset/EzFit_dataset/keypoints_seq/len_8/squat/others/pushup-down_20_3/20_3_1.npy',\n",
       " '/home/u6188041/jom/Dataset/EzFit_dataset/keypoints_seq/len_8/squat/others/pushup-down_20_3/20_3_9.npy',\n",
       " '/home/u6188041/jom/Dataset/EzFit_dataset/keypoints_seq/len_8/squat/others/pushup-down_20_3/20_3_4.npy',\n",
       " '/home/u6188041/jom/Dataset/EzFit_dataset/keypoints_seq/len_8/squat/others/pushup-down_20_3/20_3_10.npy',\n",
       " '/home/u6188041/jom/Dataset/EzFit_dataset/keypoints_seq/len_8/squat/others/pushup-down_20_3/20_3_13.npy',\n",
       " '/home/u6188041/jom/Dataset/EzFit_dataset/keypoints_seq/len_8/squat/others/pushup-down_20_3/20_3_5.npy',\n",
       " '/home/u6188041/jom/Dataset/EzFit_dataset/keypoints_seq/len_8/squat/others/pushup-down_20_3/20_3_8.npy',\n",
       " '/home/u6188041/jom/Dataset/EzFit_dataset/keypoints_seq/len_8/squat/others/pushup-down_20_3/20_3_7.npy',\n",
       " '/home/u6188041/jom/Dataset/EzFit_dataset/keypoints_seq/len_8/squat/others/pushup-down_20_3/20_3_6.npy',\n",
       " '/home/u6188041/jom/Dataset/EzFit_dataset/keypoints_seq/len_8/squat/others/pushup-down_20_3/20_3_12.npy',\n",
       " '/home/u6188041/jom/Dataset/EzFit_dataset/keypoints_seq/len_8/squat/squat-down/34_2/34_2_14.npy',\n",
       " '/home/u6188041/jom/Dataset/EzFit_dataset/keypoints_seq/len_8/squat/squat-down/34_2/34_2_9.npy',\n",
       " '/home/u6188041/jom/Dataset/EzFit_dataset/keypoints_seq/len_8/squat/squat-down/34_2/34_2_7.npy',\n",
       " '/home/u6188041/jom/Dataset/EzFit_dataset/keypoints_seq/len_8/squat/squat-down/34_2/34_2_32.npy',\n",
       " '/home/u6188041/jom/Dataset/EzFit_dataset/keypoints_seq/len_8/squat/squat-down/34_2/34_2_33.npy',\n",
       " '/home/u6188041/jom/Dataset/EzFit_dataset/keypoints_seq/len_8/squat/squat-down/34_2/34_2_26.npy',\n",
       " '/home/u6188041/jom/Dataset/EzFit_dataset/keypoints_seq/len_8/squat/squat-down/34_2/34_2_3.npy',\n",
       " '/home/u6188041/jom/Dataset/EzFit_dataset/keypoints_seq/len_8/squat/squat-down/34_2/34_2_29.npy',\n",
       " '/home/u6188041/jom/Dataset/EzFit_dataset/keypoints_seq/len_8/squat/squat-down/34_2/34_2_12.npy',\n",
       " '/home/u6188041/jom/Dataset/EzFit_dataset/keypoints_seq/len_8/squat/squat-down/34_2/34_2_10.npy',\n",
       " '/home/u6188041/jom/Dataset/EzFit_dataset/keypoints_seq/len_8/squat/squat-down/34_2/34_2_19.npy',\n",
       " '/home/u6188041/jom/Dataset/EzFit_dataset/keypoints_seq/len_8/squat/squat-down/34_2/34_2_31.npy',\n",
       " '/home/u6188041/jom/Dataset/EzFit_dataset/keypoints_seq/len_8/squat/squat-down/34_2/34_2_2.npy',\n",
       " '/home/u6188041/jom/Dataset/EzFit_dataset/keypoints_seq/len_8/squat/squat-down/34_2/34_2_8.npy',\n",
       " '/home/u6188041/jom/Dataset/EzFit_dataset/keypoints_seq/len_8/squat/squat-down/34_2/34_2_23.npy',\n",
       " '/home/u6188041/jom/Dataset/EzFit_dataset/keypoints_seq/len_8/squat/squat-down/34_2/34_2_11.npy',\n",
       " '/home/u6188041/jom/Dataset/EzFit_dataset/keypoints_seq/len_8/squat/squat-down/34_2/34_2_5.npy',\n",
       " '/home/u6188041/jom/Dataset/EzFit_dataset/keypoints_seq/len_8/squat/squat-down/34_2/34_2_39.npy',\n",
       " '/home/u6188041/jom/Dataset/EzFit_dataset/keypoints_seq/len_8/squat/squat-down/34_2/34_2_13.npy',\n",
       " '/home/u6188041/jom/Dataset/EzFit_dataset/keypoints_seq/len_8/squat/squat-down/34_2/34_2_20.npy',\n",
       " '/home/u6188041/jom/Dataset/EzFit_dataset/keypoints_seq/len_8/squat/squat-down/34_2/34_2_37.npy',\n",
       " '/home/u6188041/jom/Dataset/EzFit_dataset/keypoints_seq/len_8/squat/squat-down/34_2/34_2_36.npy',\n",
       " '/home/u6188041/jom/Dataset/EzFit_dataset/keypoints_seq/len_8/squat/squat-down/34_2/34_2_40.npy',\n",
       " '/home/u6188041/jom/Dataset/EzFit_dataset/keypoints_seq/len_8/squat/squat-down/34_2/34_2_21.npy',\n",
       " '/home/u6188041/jom/Dataset/EzFit_dataset/keypoints_seq/len_8/squat/squat-down/34_2/34_2_28.npy',\n",
       " '/home/u6188041/jom/Dataset/EzFit_dataset/keypoints_seq/len_8/squat/squat-down/34_2/34_2_35.npy',\n",
       " '/home/u6188041/jom/Dataset/EzFit_dataset/keypoints_seq/len_8/squat/squat-down/34_2/34_2_15.npy',\n",
       " '/home/u6188041/jom/Dataset/EzFit_dataset/keypoints_seq/len_8/squat/squat-down/34_2/34_2_38.npy',\n",
       " '/home/u6188041/jom/Dataset/EzFit_dataset/keypoints_seq/len_8/squat/squat-down/34_2/34_2_27.npy',\n",
       " '/home/u6188041/jom/Dataset/EzFit_dataset/keypoints_seq/len_8/squat/squat-down/34_2/34_2_17.npy',\n",
       " '/home/u6188041/jom/Dataset/EzFit_dataset/keypoints_seq/len_8/squat/squat-down/34_2/34_2_1.npy',\n",
       " '/home/u6188041/jom/Dataset/EzFit_dataset/keypoints_seq/len_8/squat/squat-down/34_2/34_2_4.npy',\n",
       " '/home/u6188041/jom/Dataset/EzFit_dataset/keypoints_seq/len_8/squat/squat-down/34_2/34_2_30.npy',\n",
       " '/home/u6188041/jom/Dataset/EzFit_dataset/keypoints_seq/len_8/squat/squat-down/34_2/34_2_6.npy',\n",
       " '/home/u6188041/jom/Dataset/EzFit_dataset/keypoints_seq/len_8/squat/squat-down/34_2/34_2_25.npy',\n",
       " '/home/u6188041/jom/Dataset/EzFit_dataset/keypoints_seq/len_8/squat/squat-down/34_2/34_2_16.npy',\n",
       " '/home/u6188041/jom/Dataset/EzFit_dataset/keypoints_seq/len_8/squat/squat-down/34_2/34_2_22.npy',\n",
       " '/home/u6188041/jom/Dataset/EzFit_dataset/keypoints_seq/len_8/squat/squat-down/34_2/34_2_34.npy',\n",
       " '/home/u6188041/jom/Dataset/EzFit_dataset/keypoints_seq/len_8/squat/squat-down/34_2/34_2_18.npy',\n",
       " '/home/u6188041/jom/Dataset/EzFit_dataset/keypoints_seq/len_8/squat/squat-down/34_2/34_2_24.npy',\n",
       " '/home/u6188041/jom/Dataset/EzFit_dataset/keypoints_seq/len_8/squat/squat-up/34_1/34_1_42.npy',\n",
       " '/home/u6188041/jom/Dataset/EzFit_dataset/keypoints_seq/len_8/squat/squat-up/34_1/34_1_23.npy',\n",
       " '/home/u6188041/jom/Dataset/EzFit_dataset/keypoints_seq/len_8/squat/squat-up/34_1/34_1_5.npy',\n",
       " '/home/u6188041/jom/Dataset/EzFit_dataset/keypoints_seq/len_8/squat/squat-up/34_1/34_1_10.npy',\n",
       " '/home/u6188041/jom/Dataset/EzFit_dataset/keypoints_seq/len_8/squat/squat-up/34_1/34_1_31.npy',\n",
       " '/home/u6188041/jom/Dataset/EzFit_dataset/keypoints_seq/len_8/squat/squat-up/34_1/34_1_8.npy',\n",
       " '/home/u6188041/jom/Dataset/EzFit_dataset/keypoints_seq/len_8/squat/squat-up/34_1/34_1_36.npy',\n",
       " '/home/u6188041/jom/Dataset/EzFit_dataset/keypoints_seq/len_8/squat/squat-up/34_1/34_1_21.npy',\n",
       " '/home/u6188041/jom/Dataset/EzFit_dataset/keypoints_seq/len_8/squat/squat-up/34_1/34_1_47.npy',\n",
       " '/home/u6188041/jom/Dataset/EzFit_dataset/keypoints_seq/len_8/squat/squat-up/34_1/34_1_17.npy',\n",
       " '/home/u6188041/jom/Dataset/EzFit_dataset/keypoints_seq/len_8/squat/squat-up/34_1/34_1_33.npy',\n",
       " '/home/u6188041/jom/Dataset/EzFit_dataset/keypoints_seq/len_8/squat/squat-up/34_1/34_1_24.npy',\n",
       " '/home/u6188041/jom/Dataset/EzFit_dataset/keypoints_seq/len_8/squat/squat-up/34_1/34_1_18.npy',\n",
       " '/home/u6188041/jom/Dataset/EzFit_dataset/keypoints_seq/len_8/squat/squat-up/34_1/34_1_45.npy',\n",
       " '/home/u6188041/jom/Dataset/EzFit_dataset/keypoints_seq/len_8/squat/squat-up/34_1/34_1_19.npy',\n",
       " '/home/u6188041/jom/Dataset/EzFit_dataset/keypoints_seq/len_8/squat/squat-up/34_1/34_1_7.npy',\n",
       " '/home/u6188041/jom/Dataset/EzFit_dataset/keypoints_seq/len_8/squat/squat-up/34_1/34_1_53.npy',\n",
       " '/home/u6188041/jom/Dataset/EzFit_dataset/keypoints_seq/len_8/squat/squat-up/34_1/34_1_13.npy',\n",
       " '/home/u6188041/jom/Dataset/EzFit_dataset/keypoints_seq/len_8/squat/squat-up/34_1/34_1_27.npy',\n",
       " '/home/u6188041/jom/Dataset/EzFit_dataset/keypoints_seq/len_8/squat/squat-up/34_1/34_1_1.npy',\n",
       " '/home/u6188041/jom/Dataset/EzFit_dataset/keypoints_seq/len_8/squat/squat-up/34_1/34_1_41.npy',\n",
       " '/home/u6188041/jom/Dataset/EzFit_dataset/keypoints_seq/len_8/squat/squat-up/34_1/34_1_37.npy',\n",
       " '/home/u6188041/jom/Dataset/EzFit_dataset/keypoints_seq/len_8/squat/squat-up/34_1/34_1_40.npy',\n",
       " '/home/u6188041/jom/Dataset/EzFit_dataset/keypoints_seq/len_8/squat/squat-up/34_1/34_1_3.npy',\n",
       " '/home/u6188041/jom/Dataset/EzFit_dataset/keypoints_seq/len_8/squat/squat-up/34_1/34_1_43.npy',\n",
       " '/home/u6188041/jom/Dataset/EzFit_dataset/keypoints_seq/len_8/squat/squat-up/34_1/34_1_12.npy',\n",
       " '/home/u6188041/jom/Dataset/EzFit_dataset/keypoints_seq/len_8/squat/squat-up/34_1/34_1_14.npy',\n",
       " '/home/u6188041/jom/Dataset/EzFit_dataset/keypoints_seq/len_8/squat/squat-up/34_1/34_1_34.npy',\n",
       " '/home/u6188041/jom/Dataset/EzFit_dataset/keypoints_seq/len_8/squat/squat-up/34_1/34_1_46.npy',\n",
       " '/home/u6188041/jom/Dataset/EzFit_dataset/keypoints_seq/len_8/squat/squat-up/34_1/34_1_29.npy',\n",
       " '/home/u6188041/jom/Dataset/EzFit_dataset/keypoints_seq/len_8/squat/squat-up/34_1/34_1_50.npy',\n",
       " '/home/u6188041/jom/Dataset/EzFit_dataset/keypoints_seq/len_8/squat/squat-up/34_1/34_1_9.npy',\n",
       " '/home/u6188041/jom/Dataset/EzFit_dataset/keypoints_seq/len_8/squat/squat-up/34_1/34_1_20.npy',\n",
       " '/home/u6188041/jom/Dataset/EzFit_dataset/keypoints_seq/len_8/squat/squat-up/34_1/34_1_2.npy',\n",
       " '/home/u6188041/jom/Dataset/EzFit_dataset/keypoints_seq/len_8/squat/squat-up/34_1/34_1_22.npy',\n",
       " '/home/u6188041/jom/Dataset/EzFit_dataset/keypoints_seq/len_8/squat/squat-up/34_1/34_1_15.npy',\n",
       " '/home/u6188041/jom/Dataset/EzFit_dataset/keypoints_seq/len_8/squat/squat-up/34_1/34_1_49.npy',\n",
       " '/home/u6188041/jom/Dataset/EzFit_dataset/keypoints_seq/len_8/squat/squat-up/34_1/34_1_52.npy',\n",
       " '/home/u6188041/jom/Dataset/EzFit_dataset/keypoints_seq/len_8/squat/squat-up/34_1/34_1_44.npy',\n",
       " '/home/u6188041/jom/Dataset/EzFit_dataset/keypoints_seq/len_8/squat/squat-up/34_1/34_1_35.npy',\n",
       " '/home/u6188041/jom/Dataset/EzFit_dataset/keypoints_seq/len_8/squat/squat-up/34_1/34_1_6.npy',\n",
       " '/home/u6188041/jom/Dataset/EzFit_dataset/keypoints_seq/len_8/squat/squat-up/34_1/34_1_26.npy',\n",
       " '/home/u6188041/jom/Dataset/EzFit_dataset/keypoints_seq/len_8/squat/squat-up/34_1/34_1_38.npy',\n",
       " '/home/u6188041/jom/Dataset/EzFit_dataset/keypoints_seq/len_8/squat/squat-up/34_1/34_1_51.npy',\n",
       " '/home/u6188041/jom/Dataset/EzFit_dataset/keypoints_seq/len_8/squat/squat-up/34_1/34_1_11.npy',\n",
       " '/home/u6188041/jom/Dataset/EzFit_dataset/keypoints_seq/len_8/squat/squat-up/34_1/34_1_25.npy',\n",
       " '/home/u6188041/jom/Dataset/EzFit_dataset/keypoints_seq/len_8/squat/squat-up/34_1/34_1_48.npy',\n",
       " '/home/u6188041/jom/Dataset/EzFit_dataset/keypoints_seq/len_8/squat/squat-up/34_1/34_1_28.npy',\n",
       " '/home/u6188041/jom/Dataset/EzFit_dataset/keypoints_seq/len_8/squat/squat-up/34_1/34_1_32.npy',\n",
       " '/home/u6188041/jom/Dataset/EzFit_dataset/keypoints_seq/len_8/squat/squat-up/34_1/34_1_4.npy',\n",
       " '/home/u6188041/jom/Dataset/EzFit_dataset/keypoints_seq/len_8/squat/squat-up/34_1/34_1_16.npy',\n",
       " '/home/u6188041/jom/Dataset/EzFit_dataset/keypoints_seq/len_8/squat/squat-up/34_1/34_1_39.npy',\n",
       " '/home/u6188041/jom/Dataset/EzFit_dataset/keypoints_seq/len_8/squat/squat-up/34_1/34_1_30.npy',\n",
       " '/home/u6188041/jom/Dataset/EzFit_dataset/keypoints_seq/len_8/squat/squat-down/80_4/80_4_4.npy',\n",
       " '/home/u6188041/jom/Dataset/EzFit_dataset/keypoints_seq/len_8/squat/squat-down/80_4/80_4_5.npy',\n",
       " '/home/u6188041/jom/Dataset/EzFit_dataset/keypoints_seq/len_8/squat/squat-down/80_4/80_4_6.npy',\n",
       " '/home/u6188041/jom/Dataset/EzFit_dataset/keypoints_seq/len_8/squat/squat-down/80_4/80_4_9.npy',\n",
       " '/home/u6188041/jom/Dataset/EzFit_dataset/keypoints_seq/len_8/squat/squat-down/80_4/80_4_7.npy',\n",
       " '/home/u6188041/jom/Dataset/EzFit_dataset/keypoints_seq/len_8/squat/squat-down/80_4/80_4_11.npy',\n",
       " '/home/u6188041/jom/Dataset/EzFit_dataset/keypoints_seq/len_8/squat/squat-down/80_4/80_4_1.npy',\n",
       " '/home/u6188041/jom/Dataset/EzFit_dataset/keypoints_seq/len_8/squat/squat-down/80_4/80_4_12.npy',\n",
       " '/home/u6188041/jom/Dataset/EzFit_dataset/keypoints_seq/len_8/squat/squat-down/80_4/80_4_8.npy',\n",
       " '/home/u6188041/jom/Dataset/EzFit_dataset/keypoints_seq/len_8/squat/squat-down/80_4/80_4_10.npy',\n",
       " '/home/u6188041/jom/Dataset/EzFit_dataset/keypoints_seq/len_8/squat/squat-down/80_4/80_4_2.npy',\n",
       " '/home/u6188041/jom/Dataset/EzFit_dataset/keypoints_seq/len_8/squat/squat-down/80_4/80_4_3.npy',\n",
       " '/home/u6188041/jom/Dataset/EzFit_dataset/keypoints_seq/len_8/squat/others/half-burpee-out_2_3/2_3_10.npy',\n",
       " '/home/u6188041/jom/Dataset/EzFit_dataset/keypoints_seq/len_8/squat/others/half-burpee-out_2_3/2_3_18.npy',\n",
       " '/home/u6188041/jom/Dataset/EzFit_dataset/keypoints_seq/len_8/squat/others/half-burpee-out_2_3/2_3_49.npy',\n",
       " '/home/u6188041/jom/Dataset/EzFit_dataset/keypoints_seq/len_8/squat/others/half-burpee-out_2_3/2_3_48.npy',\n",
       " '/home/u6188041/jom/Dataset/EzFit_dataset/keypoints_seq/len_8/squat/others/half-burpee-out_2_3/2_3_20.npy',\n",
       " '/home/u6188041/jom/Dataset/EzFit_dataset/keypoints_seq/len_8/squat/others/half-burpee-out_2_3/2_3_45.npy',\n",
       " '/home/u6188041/jom/Dataset/EzFit_dataset/keypoints_seq/len_8/squat/others/half-burpee-out_2_3/2_3_54.npy',\n",
       " '/home/u6188041/jom/Dataset/EzFit_dataset/keypoints_seq/len_8/squat/others/half-burpee-out_2_3/2_3_56.npy',\n",
       " '/home/u6188041/jom/Dataset/EzFit_dataset/keypoints_seq/len_8/squat/others/half-burpee-out_2_3/2_3_9.npy',\n",
       " '/home/u6188041/jom/Dataset/EzFit_dataset/keypoints_seq/len_8/squat/others/half-burpee-out_2_3/2_3_4.npy',\n",
       " '/home/u6188041/jom/Dataset/EzFit_dataset/keypoints_seq/len_8/squat/others/half-burpee-out_2_3/2_3_46.npy',\n",
       " '/home/u6188041/jom/Dataset/EzFit_dataset/keypoints_seq/len_8/squat/others/half-burpee-out_2_3/2_3_50.npy',\n",
       " '/home/u6188041/jom/Dataset/EzFit_dataset/keypoints_seq/len_8/squat/others/half-burpee-out_2_3/2_3_17.npy',\n",
       " '/home/u6188041/jom/Dataset/EzFit_dataset/keypoints_seq/len_8/squat/others/half-burpee-out_2_3/2_3_43.npy',\n",
       " '/home/u6188041/jom/Dataset/EzFit_dataset/keypoints_seq/len_8/squat/others/half-burpee-out_2_3/2_3_7.npy',\n",
       " '/home/u6188041/jom/Dataset/EzFit_dataset/keypoints_seq/len_8/squat/others/half-burpee-out_2_3/2_3_8.npy',\n",
       " '/home/u6188041/jom/Dataset/EzFit_dataset/keypoints_seq/len_8/squat/others/half-burpee-out_2_3/2_3_1.npy',\n",
       " '/home/u6188041/jom/Dataset/EzFit_dataset/keypoints_seq/len_8/squat/others/half-burpee-out_2_3/2_3_44.npy',\n",
       " '/home/u6188041/jom/Dataset/EzFit_dataset/keypoints_seq/len_8/squat/others/half-burpee-out_2_3/2_3_41.npy',\n",
       " '/home/u6188041/jom/Dataset/EzFit_dataset/keypoints_seq/len_8/squat/others/half-burpee-out_2_3/2_3_31.npy',\n",
       " '/home/u6188041/jom/Dataset/EzFit_dataset/keypoints_seq/len_8/squat/others/half-burpee-out_2_3/2_3_19.npy',\n",
       " '/home/u6188041/jom/Dataset/EzFit_dataset/keypoints_seq/len_8/squat/others/half-burpee-out_2_3/2_3_14.npy',\n",
       " '/home/u6188041/jom/Dataset/EzFit_dataset/keypoints_seq/len_8/squat/others/half-burpee-out_2_3/2_3_6.npy',\n",
       " '/home/u6188041/jom/Dataset/EzFit_dataset/keypoints_seq/len_8/squat/others/half-burpee-out_2_3/2_3_30.npy',\n",
       " '/home/u6188041/jom/Dataset/EzFit_dataset/keypoints_seq/len_8/squat/others/half-burpee-out_2_3/2_3_21.npy',\n",
       " '/home/u6188041/jom/Dataset/EzFit_dataset/keypoints_seq/len_8/squat/others/half-burpee-out_2_3/2_3_16.npy',\n",
       " '/home/u6188041/jom/Dataset/EzFit_dataset/keypoints_seq/len_8/squat/others/half-burpee-out_2_3/2_3_2.npy',\n",
       " '/home/u6188041/jom/Dataset/EzFit_dataset/keypoints_seq/len_8/squat/others/half-burpee-out_2_3/2_3_40.npy',\n",
       " '/home/u6188041/jom/Dataset/EzFit_dataset/keypoints_seq/len_8/squat/others/half-burpee-out_2_3/2_3_15.npy',\n",
       " '/home/u6188041/jom/Dataset/EzFit_dataset/keypoints_seq/len_8/squat/others/half-burpee-out_2_3/2_3_13.npy',\n",
       " '/home/u6188041/jom/Dataset/EzFit_dataset/keypoints_seq/len_8/squat/others/half-burpee-out_2_3/2_3_27.npy',\n",
       " '/home/u6188041/jom/Dataset/EzFit_dataset/keypoints_seq/len_8/squat/others/half-burpee-out_2_3/2_3_47.npy',\n",
       " '/home/u6188041/jom/Dataset/EzFit_dataset/keypoints_seq/len_8/squat/others/half-burpee-out_2_3/2_3_11.npy',\n",
       " '/home/u6188041/jom/Dataset/EzFit_dataset/keypoints_seq/len_8/squat/others/half-burpee-out_2_3/2_3_55.npy',\n",
       " '/home/u6188041/jom/Dataset/EzFit_dataset/keypoints_seq/len_8/squat/others/half-burpee-out_2_3/2_3_5.npy',\n",
       " '/home/u6188041/jom/Dataset/EzFit_dataset/keypoints_seq/len_8/squat/others/half-burpee-out_2_3/2_3_25.npy',\n",
       " '/home/u6188041/jom/Dataset/EzFit_dataset/keypoints_seq/len_8/squat/others/half-burpee-out_2_3/2_3_34.npy',\n",
       " '/home/u6188041/jom/Dataset/EzFit_dataset/keypoints_seq/len_8/squat/others/half-burpee-out_2_3/2_3_35.npy',\n",
       " '/home/u6188041/jom/Dataset/EzFit_dataset/keypoints_seq/len_8/squat/others/half-burpee-out_2_3/2_3_37.npy',\n",
       " '/home/u6188041/jom/Dataset/EzFit_dataset/keypoints_seq/len_8/squat/others/half-burpee-out_2_3/2_3_51.npy',\n",
       " '/home/u6188041/jom/Dataset/EzFit_dataset/keypoints_seq/len_8/squat/others/half-burpee-out_2_3/2_3_3.npy',\n",
       " '/home/u6188041/jom/Dataset/EzFit_dataset/keypoints_seq/len_8/squat/others/half-burpee-out_2_3/2_3_28.npy',\n",
       " '/home/u6188041/jom/Dataset/EzFit_dataset/keypoints_seq/len_8/squat/others/half-burpee-out_2_3/2_3_42.npy',\n",
       " '/home/u6188041/jom/Dataset/EzFit_dataset/keypoints_seq/len_8/squat/others/half-burpee-out_2_3/2_3_39.npy',\n",
       " '/home/u6188041/jom/Dataset/EzFit_dataset/keypoints_seq/len_8/squat/others/half-burpee-out_2_3/2_3_23.npy',\n",
       " '/home/u6188041/jom/Dataset/EzFit_dataset/keypoints_seq/len_8/squat/others/half-burpee-out_2_3/2_3_12.npy',\n",
       " '/home/u6188041/jom/Dataset/EzFit_dataset/keypoints_seq/len_8/squat/others/half-burpee-out_2_3/2_3_32.npy',\n",
       " '/home/u6188041/jom/Dataset/EzFit_dataset/keypoints_seq/len_8/squat/others/half-burpee-out_2_3/2_3_36.npy',\n",
       " '/home/u6188041/jom/Dataset/EzFit_dataset/keypoints_seq/len_8/squat/others/half-burpee-out_2_3/2_3_22.npy',\n",
       " '/home/u6188041/jom/Dataset/EzFit_dataset/keypoints_seq/len_8/squat/others/half-burpee-out_2_3/2_3_29.npy',\n",
       " '/home/u6188041/jom/Dataset/EzFit_dataset/keypoints_seq/len_8/squat/others/half-burpee-out_2_3/2_3_53.npy',\n",
       " '/home/u6188041/jom/Dataset/EzFit_dataset/keypoints_seq/len_8/squat/others/half-burpee-out_2_3/2_3_26.npy',\n",
       " '/home/u6188041/jom/Dataset/EzFit_dataset/keypoints_seq/len_8/squat/others/half-burpee-out_2_3/2_3_38.npy',\n",
       " '/home/u6188041/jom/Dataset/EzFit_dataset/keypoints_seq/len_8/squat/others/half-burpee-out_2_3/2_3_52.npy',\n",
       " '/home/u6188041/jom/Dataset/EzFit_dataset/keypoints_seq/len_8/squat/others/half-burpee-out_2_3/2_3_33.npy',\n",
       " '/home/u6188041/jom/Dataset/EzFit_dataset/keypoints_seq/len_8/squat/others/half-burpee-out_2_3/2_3_24.npy',\n",
       " '/home/u6188041/jom/Dataset/EzFit_dataset/keypoints_seq/len_8/squat/squat-down/93_2/93_2_3.npy',\n",
       " '/home/u6188041/jom/Dataset/EzFit_dataset/keypoints_seq/len_8/squat/squat-down/93_2/93_2_2.npy',\n",
       " '/home/u6188041/jom/Dataset/EzFit_dataset/keypoints_seq/len_8/squat/squat-down/93_2/93_2_18.npy',\n",
       " '/home/u6188041/jom/Dataset/EzFit_dataset/keypoints_seq/len_8/squat/squat-down/93_2/93_2_10.npy',\n",
       " '/home/u6188041/jom/Dataset/EzFit_dataset/keypoints_seq/len_8/squat/squat-down/93_2/93_2_25.npy',\n",
       " '/home/u6188041/jom/Dataset/EzFit_dataset/keypoints_seq/len_8/squat/squat-down/93_2/93_2_27.npy',\n",
       " '/home/u6188041/jom/Dataset/EzFit_dataset/keypoints_seq/len_8/squat/squat-down/93_2/93_2_6.npy',\n",
       " '/home/u6188041/jom/Dataset/EzFit_dataset/keypoints_seq/len_8/squat/squat-down/93_2/93_2_19.npy',\n",
       " '/home/u6188041/jom/Dataset/EzFit_dataset/keypoints_seq/len_8/squat/squat-down/93_2/93_2_20.npy',\n",
       " '/home/u6188041/jom/Dataset/EzFit_dataset/keypoints_seq/len_8/squat/squat-down/93_2/93_2_11.npy',\n",
       " '/home/u6188041/jom/Dataset/EzFit_dataset/keypoints_seq/len_8/squat/squat-down/93_2/93_2_22.npy',\n",
       " '/home/u6188041/jom/Dataset/EzFit_dataset/keypoints_seq/len_8/squat/squat-down/93_2/93_2_17.npy',\n",
       " '/home/u6188041/jom/Dataset/EzFit_dataset/keypoints_seq/len_8/squat/squat-down/93_2/93_2_14.npy',\n",
       " '/home/u6188041/jom/Dataset/EzFit_dataset/keypoints_seq/len_8/squat/squat-down/93_2/93_2_24.npy',\n",
       " '/home/u6188041/jom/Dataset/EzFit_dataset/keypoints_seq/len_8/squat/squat-down/93_2/93_2_9.npy',\n",
       " '/home/u6188041/jom/Dataset/EzFit_dataset/keypoints_seq/len_8/squat/squat-down/93_2/93_2_23.npy',\n",
       " '/home/u6188041/jom/Dataset/EzFit_dataset/keypoints_seq/len_8/squat/squat-down/93_2/93_2_26.npy',\n",
       " '/home/u6188041/jom/Dataset/EzFit_dataset/keypoints_seq/len_8/squat/squat-down/93_2/93_2_8.npy',\n",
       " '/home/u6188041/jom/Dataset/EzFit_dataset/keypoints_seq/len_8/squat/squat-down/93_2/93_2_16.npy',\n",
       " '/home/u6188041/jom/Dataset/EzFit_dataset/keypoints_seq/len_8/squat/squat-down/93_2/93_2_15.npy',\n",
       " '/home/u6188041/jom/Dataset/EzFit_dataset/keypoints_seq/len_8/squat/squat-down/93_2/93_2_28.npy',\n",
       " '/home/u6188041/jom/Dataset/EzFit_dataset/keypoints_seq/len_8/squat/squat-down/93_2/93_2_21.npy',\n",
       " '/home/u6188041/jom/Dataset/EzFit_dataset/keypoints_seq/len_8/squat/squat-down/93_2/93_2_1.npy',\n",
       " '/home/u6188041/jom/Dataset/EzFit_dataset/keypoints_seq/len_8/squat/squat-down/93_2/93_2_4.npy',\n",
       " '/home/u6188041/jom/Dataset/EzFit_dataset/keypoints_seq/len_8/squat/squat-down/93_2/93_2_7.npy',\n",
       " '/home/u6188041/jom/Dataset/EzFit_dataset/keypoints_seq/len_8/squat/squat-down/93_2/93_2_13.npy',\n",
       " '/home/u6188041/jom/Dataset/EzFit_dataset/keypoints_seq/len_8/squat/squat-down/93_2/93_2_12.npy',\n",
       " '/home/u6188041/jom/Dataset/EzFit_dataset/keypoints_seq/len_8/squat/squat-down/93_2/93_2_5.npy',\n",
       " '/home/u6188041/jom/Dataset/EzFit_dataset/keypoints_seq/len_8/squat/squat-up/89_1/89_1_19.npy',\n",
       " '/home/u6188041/jom/Dataset/EzFit_dataset/keypoints_seq/len_8/squat/squat-up/89_1/89_1_2.npy',\n",
       " '/home/u6188041/jom/Dataset/EzFit_dataset/keypoints_seq/len_8/squat/squat-up/89_1/89_1_17.npy',\n",
       " '/home/u6188041/jom/Dataset/EzFit_dataset/keypoints_seq/len_8/squat/squat-up/89_1/89_1_7.npy',\n",
       " '/home/u6188041/jom/Dataset/EzFit_dataset/keypoints_seq/len_8/squat/squat-up/89_1/89_1_3.npy',\n",
       " '/home/u6188041/jom/Dataset/EzFit_dataset/keypoints_seq/len_8/squat/squat-up/89_1/89_1_14.npy',\n",
       " '/home/u6188041/jom/Dataset/EzFit_dataset/keypoints_seq/len_8/squat/squat-up/89_1/89_1_6.npy',\n",
       " '/home/u6188041/jom/Dataset/EzFit_dataset/keypoints_seq/len_8/squat/squat-up/89_1/89_1_9.npy',\n",
       " '/home/u6188041/jom/Dataset/EzFit_dataset/keypoints_seq/len_8/squat/squat-up/89_1/89_1_10.npy',\n",
       " '/home/u6188041/jom/Dataset/EzFit_dataset/keypoints_seq/len_8/squat/squat-up/89_1/89_1_18.npy',\n",
       " '/home/u6188041/jom/Dataset/EzFit_dataset/keypoints_seq/len_8/squat/squat-up/89_1/89_1_13.npy',\n",
       " '/home/u6188041/jom/Dataset/EzFit_dataset/keypoints_seq/len_8/squat/squat-up/89_1/89_1_1.npy',\n",
       " '/home/u6188041/jom/Dataset/EzFit_dataset/keypoints_seq/len_8/squat/squat-up/89_1/89_1_16.npy',\n",
       " '/home/u6188041/jom/Dataset/EzFit_dataset/keypoints_seq/len_8/squat/squat-up/89_1/89_1_12.npy',\n",
       " '/home/u6188041/jom/Dataset/EzFit_dataset/keypoints_seq/len_8/squat/squat-up/89_1/89_1_5.npy',\n",
       " '/home/u6188041/jom/Dataset/EzFit_dataset/keypoints_seq/len_8/squat/squat-up/89_1/89_1_8.npy',\n",
       " '/home/u6188041/jom/Dataset/EzFit_dataset/keypoints_seq/len_8/squat/squat-up/89_1/89_1_11.npy',\n",
       " '/home/u6188041/jom/Dataset/EzFit_dataset/keypoints_seq/len_8/squat/squat-up/89_1/89_1_4.npy',\n",
       " '/home/u6188041/jom/Dataset/EzFit_dataset/keypoints_seq/len_8/squat/squat-up/89_1/89_1_15.npy',\n",
       " '/home/u6188041/jom/Dataset/EzFit_dataset/keypoints_seq/len_8/squat/squat-up/89_1/89_1_20.npy',\n",
       " '/home/u6188041/jom/Dataset/EzFit_dataset/keypoints_seq/len_8/squat/idle/18_2/18_2_27.npy',\n",
       " '/home/u6188041/jom/Dataset/EzFit_dataset/keypoints_seq/len_8/squat/idle/18_2/18_2_7.npy',\n",
       " '/home/u6188041/jom/Dataset/EzFit_dataset/keypoints_seq/len_8/squat/idle/18_2/18_2_39.npy',\n",
       " '/home/u6188041/jom/Dataset/EzFit_dataset/keypoints_seq/len_8/squat/idle/18_2/18_2_5.npy',\n",
       " '/home/u6188041/jom/Dataset/EzFit_dataset/keypoints_seq/len_8/squat/idle/18_2/18_2_29.npy',\n",
       " '/home/u6188041/jom/Dataset/EzFit_dataset/keypoints_seq/len_8/squat/idle/18_2/18_2_35.npy',\n",
       " '/home/u6188041/jom/Dataset/EzFit_dataset/keypoints_seq/len_8/squat/idle/18_2/18_2_38.npy',\n",
       " '/home/u6188041/jom/Dataset/EzFit_dataset/keypoints_seq/len_8/squat/idle/18_2/18_2_9.npy',\n",
       " '/home/u6188041/jom/Dataset/EzFit_dataset/keypoints_seq/len_8/squat/idle/18_2/18_2_58.npy',\n",
       " '/home/u6188041/jom/Dataset/EzFit_dataset/keypoints_seq/len_8/squat/idle/18_2/18_2_31.npy',\n",
       " '/home/u6188041/jom/Dataset/EzFit_dataset/keypoints_seq/len_8/squat/idle/18_2/18_2_48.npy',\n",
       " '/home/u6188041/jom/Dataset/EzFit_dataset/keypoints_seq/len_8/squat/idle/18_2/18_2_49.npy',\n",
       " '/home/u6188041/jom/Dataset/EzFit_dataset/keypoints_seq/len_8/squat/idle/18_2/18_2_45.npy',\n",
       " '/home/u6188041/jom/Dataset/EzFit_dataset/keypoints_seq/len_8/squat/idle/18_2/18_2_59.npy',\n",
       " '/home/u6188041/jom/Dataset/EzFit_dataset/keypoints_seq/len_8/squat/idle/18_2/18_2_36.npy',\n",
       " '/home/u6188041/jom/Dataset/EzFit_dataset/keypoints_seq/len_8/squat/idle/18_2/18_2_11.npy',\n",
       " '/home/u6188041/jom/Dataset/EzFit_dataset/keypoints_seq/len_8/squat/idle/18_2/18_2_3.npy',\n",
       " '/home/u6188041/jom/Dataset/EzFit_dataset/keypoints_seq/len_8/squat/idle/18_2/18_2_13.npy',\n",
       " '/home/u6188041/jom/Dataset/EzFit_dataset/keypoints_seq/len_8/squat/idle/18_2/18_2_20.npy',\n",
       " '/home/u6188041/jom/Dataset/EzFit_dataset/keypoints_seq/len_8/squat/idle/18_2/18_2_24.npy',\n",
       " '/home/u6188041/jom/Dataset/EzFit_dataset/keypoints_seq/len_8/squat/idle/18_2/18_2_10.npy',\n",
       " '/home/u6188041/jom/Dataset/EzFit_dataset/keypoints_seq/len_8/squat/idle/18_2/18_2_2.npy',\n",
       " '/home/u6188041/jom/Dataset/EzFit_dataset/keypoints_seq/len_8/squat/idle/18_2/18_2_53.npy',\n",
       " '/home/u6188041/jom/Dataset/EzFit_dataset/keypoints_seq/len_8/squat/idle/18_2/18_2_8.npy',\n",
       " '/home/u6188041/jom/Dataset/EzFit_dataset/keypoints_seq/len_8/squat/idle/18_2/18_2_50.npy',\n",
       " '/home/u6188041/jom/Dataset/EzFit_dataset/keypoints_seq/len_8/squat/idle/18_2/18_2_12.npy',\n",
       " '/home/u6188041/jom/Dataset/EzFit_dataset/keypoints_seq/len_8/squat/idle/18_2/18_2_19.npy',\n",
       " '/home/u6188041/jom/Dataset/EzFit_dataset/keypoints_seq/len_8/squat/idle/18_2/18_2_46.npy',\n",
       " '/home/u6188041/jom/Dataset/EzFit_dataset/keypoints_seq/len_8/squat/idle/18_2/18_2_6.npy',\n",
       " '/home/u6188041/jom/Dataset/EzFit_dataset/keypoints_seq/len_8/squat/idle/18_2/18_2_33.npy',\n",
       " '/home/u6188041/jom/Dataset/EzFit_dataset/keypoints_seq/len_8/squat/idle/18_2/18_2_34.npy',\n",
       " '/home/u6188041/jom/Dataset/EzFit_dataset/keypoints_seq/len_8/squat/idle/18_2/18_2_21.npy',\n",
       " '/home/u6188041/jom/Dataset/EzFit_dataset/keypoints_seq/len_8/squat/idle/18_2/18_2_1.npy',\n",
       " '/home/u6188041/jom/Dataset/EzFit_dataset/keypoints_seq/len_8/squat/idle/18_2/18_2_37.npy',\n",
       " '/home/u6188041/jom/Dataset/EzFit_dataset/keypoints_seq/len_8/squat/idle/18_2/18_2_23.npy',\n",
       " '/home/u6188041/jom/Dataset/EzFit_dataset/keypoints_seq/len_8/squat/idle/18_2/18_2_47.npy',\n",
       " '/home/u6188041/jom/Dataset/EzFit_dataset/keypoints_seq/len_8/squat/idle/18_2/18_2_56.npy',\n",
       " '/home/u6188041/jom/Dataset/EzFit_dataset/keypoints_seq/len_8/squat/idle/18_2/18_2_15.npy',\n",
       " '/home/u6188041/jom/Dataset/EzFit_dataset/keypoints_seq/len_8/squat/idle/18_2/18_2_52.npy',\n",
       " '/home/u6188041/jom/Dataset/EzFit_dataset/keypoints_seq/len_8/squat/idle/18_2/18_2_42.npy',\n",
       " '/home/u6188041/jom/Dataset/EzFit_dataset/keypoints_seq/len_8/squat/idle/18_2/18_2_57.npy',\n",
       " '/home/u6188041/jom/Dataset/EzFit_dataset/keypoints_seq/len_8/squat/idle/18_2/18_2_16.npy',\n",
       " '/home/u6188041/jom/Dataset/EzFit_dataset/keypoints_seq/len_8/squat/idle/18_2/18_2_40.npy',\n",
       " '/home/u6188041/jom/Dataset/EzFit_dataset/keypoints_seq/len_8/squat/idle/18_2/18_2_44.npy',\n",
       " '/home/u6188041/jom/Dataset/EzFit_dataset/keypoints_seq/len_8/squat/idle/18_2/18_2_60.npy',\n",
       " '/home/u6188041/jom/Dataset/EzFit_dataset/keypoints_seq/len_8/squat/idle/18_2/18_2_18.npy',\n",
       " '/home/u6188041/jom/Dataset/EzFit_dataset/keypoints_seq/len_8/squat/idle/18_2/18_2_32.npy',\n",
       " '/home/u6188041/jom/Dataset/EzFit_dataset/keypoints_seq/len_8/squat/idle/18_2/18_2_14.npy',\n",
       " '/home/u6188041/jom/Dataset/EzFit_dataset/keypoints_seq/len_8/squat/idle/18_2/18_2_30.npy',\n",
       " '/home/u6188041/jom/Dataset/EzFit_dataset/keypoints_seq/len_8/squat/idle/18_2/18_2_4.npy',\n",
       " '/home/u6188041/jom/Dataset/EzFit_dataset/keypoints_seq/len_8/squat/idle/18_2/18_2_43.npy',\n",
       " '/home/u6188041/jom/Dataset/EzFit_dataset/keypoints_seq/len_8/squat/idle/18_2/18_2_0.npy',\n",
       " '/home/u6188041/jom/Dataset/EzFit_dataset/keypoints_seq/len_8/squat/idle/18_2/18_2_25.npy',\n",
       " '/home/u6188041/jom/Dataset/EzFit_dataset/keypoints_seq/len_8/squat/idle/18_2/18_2_26.npy',\n",
       " '/home/u6188041/jom/Dataset/EzFit_dataset/keypoints_seq/len_8/squat/idle/18_2/18_2_22.npy',\n",
       " '/home/u6188041/jom/Dataset/EzFit_dataset/keypoints_seq/len_8/squat/idle/18_2/18_2_41.npy',\n",
       " '/home/u6188041/jom/Dataset/EzFit_dataset/keypoints_seq/len_8/squat/idle/18_2/18_2_28.npy',\n",
       " '/home/u6188041/jom/Dataset/EzFit_dataset/keypoints_seq/len_8/squat/idle/18_2/18_2_61.npy',\n",
       " '/home/u6188041/jom/Dataset/EzFit_dataset/keypoints_seq/len_8/squat/idle/18_2/18_2_51.npy',\n",
       " '/home/u6188041/jom/Dataset/EzFit_dataset/keypoints_seq/len_8/squat/idle/18_2/18_2_55.npy',\n",
       " '/home/u6188041/jom/Dataset/EzFit_dataset/keypoints_seq/len_8/squat/idle/18_2/18_2_17.npy',\n",
       " '/home/u6188041/jom/Dataset/EzFit_dataset/keypoints_seq/len_8/squat/idle/18_2/18_2_54.npy',\n",
       " '/home/u6188041/jom/Dataset/EzFit_dataset/keypoints_seq/len_8/squat/squat-up/92_3/92_3_21.npy',\n",
       " '/home/u6188041/jom/Dataset/EzFit_dataset/keypoints_seq/len_8/squat/squat-up/92_3/92_3_2.npy',\n",
       " '/home/u6188041/jom/Dataset/EzFit_dataset/keypoints_seq/len_8/squat/squat-up/92_3/92_3_13.npy',\n",
       " '/home/u6188041/jom/Dataset/EzFit_dataset/keypoints_seq/len_8/squat/squat-up/92_3/92_3_6.npy',\n",
       " '/home/u6188041/jom/Dataset/EzFit_dataset/keypoints_seq/len_8/squat/squat-up/92_3/92_3_14.npy',\n",
       " '/home/u6188041/jom/Dataset/EzFit_dataset/keypoints_seq/len_8/squat/squat-up/92_3/92_3_19.npy',\n",
       " '/home/u6188041/jom/Dataset/EzFit_dataset/keypoints_seq/len_8/squat/squat-up/92_3/92_3_8.npy',\n",
       " '/home/u6188041/jom/Dataset/EzFit_dataset/keypoints_seq/len_8/squat/squat-up/92_3/92_3_9.npy',\n",
       " '/home/u6188041/jom/Dataset/EzFit_dataset/keypoints_seq/len_8/squat/squat-up/92_3/92_3_5.npy',\n",
       " '/home/u6188041/jom/Dataset/EzFit_dataset/keypoints_seq/len_8/squat/squat-up/92_3/92_3_4.npy',\n",
       " '/home/u6188041/jom/Dataset/EzFit_dataset/keypoints_seq/len_8/squat/squat-up/92_3/92_3_15.npy',\n",
       " '/home/u6188041/jom/Dataset/EzFit_dataset/keypoints_seq/len_8/squat/squat-up/92_3/92_3_1.npy',\n",
       " '/home/u6188041/jom/Dataset/EzFit_dataset/keypoints_seq/len_8/squat/squat-up/92_3/92_3_3.npy',\n",
       " '/home/u6188041/jom/Dataset/EzFit_dataset/keypoints_seq/len_8/squat/squat-up/92_3/92_3_24.npy',\n",
       " '/home/u6188041/jom/Dataset/EzFit_dataset/keypoints_seq/len_8/squat/squat-up/92_3/92_3_23.npy',\n",
       " '/home/u6188041/jom/Dataset/EzFit_dataset/keypoints_seq/len_8/squat/squat-up/92_3/92_3_18.npy',\n",
       " '/home/u6188041/jom/Dataset/EzFit_dataset/keypoints_seq/len_8/squat/squat-up/92_3/92_3_17.npy',\n",
       " '/home/u6188041/jom/Dataset/EzFit_dataset/keypoints_seq/len_8/squat/squat-up/92_3/92_3_12.npy',\n",
       " '/home/u6188041/jom/Dataset/EzFit_dataset/keypoints_seq/len_8/squat/squat-up/92_3/92_3_22.npy',\n",
       " '/home/u6188041/jom/Dataset/EzFit_dataset/keypoints_seq/len_8/squat/squat-up/92_3/92_3_16.npy',\n",
       " '/home/u6188041/jom/Dataset/EzFit_dataset/keypoints_seq/len_8/squat/squat-up/92_3/92_3_7.npy',\n",
       " '/home/u6188041/jom/Dataset/EzFit_dataset/keypoints_seq/len_8/squat/squat-up/92_3/92_3_11.npy',\n",
       " '/home/u6188041/jom/Dataset/EzFit_dataset/keypoints_seq/len_8/squat/squat-up/92_3/92_3_20.npy',\n",
       " '/home/u6188041/jom/Dataset/EzFit_dataset/keypoints_seq/len_8/squat/squat-up/92_3/92_3_10.npy',\n",
       " '/home/u6188041/jom/Dataset/EzFit_dataset/keypoints_seq/len_8/squat/squat-down/31_2/31_2_3.npy',\n",
       " '/home/u6188041/jom/Dataset/EzFit_dataset/keypoints_seq/len_8/squat/squat-down/31_2/31_2_16.npy',\n",
       " '/home/u6188041/jom/Dataset/EzFit_dataset/keypoints_seq/len_8/squat/squat-down/31_2/31_2_13.npy',\n",
       " '/home/u6188041/jom/Dataset/EzFit_dataset/keypoints_seq/len_8/squat/squat-down/31_2/31_2_12.npy',\n",
       " '/home/u6188041/jom/Dataset/EzFit_dataset/keypoints_seq/len_8/squat/squat-down/31_2/31_2_1.npy',\n",
       " '/home/u6188041/jom/Dataset/EzFit_dataset/keypoints_seq/len_8/squat/squat-down/31_2/31_2_35.npy',\n",
       " '/home/u6188041/jom/Dataset/EzFit_dataset/keypoints_seq/len_8/squat/squat-down/31_2/31_2_36.npy',\n",
       " '/home/u6188041/jom/Dataset/EzFit_dataset/keypoints_seq/len_8/squat/squat-down/31_2/31_2_42.npy',\n",
       " '/home/u6188041/jom/Dataset/EzFit_dataset/keypoints_seq/len_8/squat/squat-down/31_2/31_2_14.npy',\n",
       " '/home/u6188041/jom/Dataset/EzFit_dataset/keypoints_seq/len_8/squat/squat-down/31_2/31_2_44.npy',\n",
       " '/home/u6188041/jom/Dataset/EzFit_dataset/keypoints_seq/len_8/squat/squat-down/31_2/31_2_41.npy',\n",
       " '/home/u6188041/jom/Dataset/EzFit_dataset/keypoints_seq/len_8/squat/squat-down/31_2/31_2_5.npy',\n",
       " '/home/u6188041/jom/Dataset/EzFit_dataset/keypoints_seq/len_8/squat/squat-down/31_2/31_2_30.npy',\n",
       " '/home/u6188041/jom/Dataset/EzFit_dataset/keypoints_seq/len_8/squat/squat-down/31_2/31_2_4.npy',\n",
       " '/home/u6188041/jom/Dataset/EzFit_dataset/keypoints_seq/len_8/squat/squat-down/31_2/31_2_11.npy',\n",
       " '/home/u6188041/jom/Dataset/EzFit_dataset/keypoints_seq/len_8/squat/squat-down/31_2/31_2_39.npy',\n",
       " '/home/u6188041/jom/Dataset/EzFit_dataset/keypoints_seq/len_8/squat/squat-down/31_2/31_2_37.npy',\n",
       " '/home/u6188041/jom/Dataset/EzFit_dataset/keypoints_seq/len_8/squat/squat-down/31_2/31_2_25.npy',\n",
       " '/home/u6188041/jom/Dataset/EzFit_dataset/keypoints_seq/len_8/squat/squat-down/31_2/31_2_15.npy',\n",
       " '/home/u6188041/jom/Dataset/EzFit_dataset/keypoints_seq/len_8/squat/squat-down/31_2/31_2_33.npy',\n",
       " '/home/u6188041/jom/Dataset/EzFit_dataset/keypoints_seq/len_8/squat/squat-down/31_2/31_2_8.npy',\n",
       " '/home/u6188041/jom/Dataset/EzFit_dataset/keypoints_seq/len_8/squat/squat-down/31_2/31_2_27.npy',\n",
       " '/home/u6188041/jom/Dataset/EzFit_dataset/keypoints_seq/len_8/squat/squat-down/31_2/31_2_34.npy',\n",
       " '/home/u6188041/jom/Dataset/EzFit_dataset/keypoints_seq/len_8/squat/squat-down/31_2/31_2_31.npy',\n",
       " '/home/u6188041/jom/Dataset/EzFit_dataset/keypoints_seq/len_8/squat/squat-down/31_2/31_2_46.npy',\n",
       " '/home/u6188041/jom/Dataset/EzFit_dataset/keypoints_seq/len_8/squat/squat-down/31_2/31_2_22.npy',\n",
       " '/home/u6188041/jom/Dataset/EzFit_dataset/keypoints_seq/len_8/squat/squat-down/31_2/31_2_23.npy',\n",
       " '/home/u6188041/jom/Dataset/EzFit_dataset/keypoints_seq/len_8/squat/squat-down/31_2/31_2_6.npy',\n",
       " '/home/u6188041/jom/Dataset/EzFit_dataset/keypoints_seq/len_8/squat/squat-down/31_2/31_2_9.npy',\n",
       " '/home/u6188041/jom/Dataset/EzFit_dataset/keypoints_seq/len_8/squat/squat-down/31_2/31_2_20.npy',\n",
       " '/home/u6188041/jom/Dataset/EzFit_dataset/keypoints_seq/len_8/squat/squat-down/31_2/31_2_17.npy',\n",
       " '/home/u6188041/jom/Dataset/EzFit_dataset/keypoints_seq/len_8/squat/squat-down/31_2/31_2_10.npy',\n",
       " '/home/u6188041/jom/Dataset/EzFit_dataset/keypoints_seq/len_8/squat/squat-down/31_2/31_2_29.npy',\n",
       " '/home/u6188041/jom/Dataset/EzFit_dataset/keypoints_seq/len_8/squat/squat-down/31_2/31_2_7.npy',\n",
       " '/home/u6188041/jom/Dataset/EzFit_dataset/keypoints_seq/len_8/squat/squat-down/31_2/31_2_32.npy',\n",
       " '/home/u6188041/jom/Dataset/EzFit_dataset/keypoints_seq/len_8/squat/squat-down/31_2/31_2_45.npy',\n",
       " '/home/u6188041/jom/Dataset/EzFit_dataset/keypoints_seq/len_8/squat/squat-down/31_2/31_2_24.npy',\n",
       " '/home/u6188041/jom/Dataset/EzFit_dataset/keypoints_seq/len_8/squat/squat-down/31_2/31_2_19.npy',\n",
       " '/home/u6188041/jom/Dataset/EzFit_dataset/keypoints_seq/len_8/squat/squat-down/31_2/31_2_21.npy',\n",
       " '/home/u6188041/jom/Dataset/EzFit_dataset/keypoints_seq/len_8/squat/squat-down/31_2/31_2_18.npy',\n",
       " '/home/u6188041/jom/Dataset/EzFit_dataset/keypoints_seq/len_8/squat/squat-down/31_2/31_2_43.npy',\n",
       " '/home/u6188041/jom/Dataset/EzFit_dataset/keypoints_seq/len_8/squat/squat-down/31_2/31_2_2.npy',\n",
       " '/home/u6188041/jom/Dataset/EzFit_dataset/keypoints_seq/len_8/squat/squat-down/31_2/31_2_38.npy',\n",
       " '/home/u6188041/jom/Dataset/EzFit_dataset/keypoints_seq/len_8/squat/squat-down/31_2/31_2_40.npy',\n",
       " '/home/u6188041/jom/Dataset/EzFit_dataset/keypoints_seq/len_8/squat/squat-down/31_2/31_2_26.npy',\n",
       " '/home/u6188041/jom/Dataset/EzFit_dataset/keypoints_seq/len_8/squat/squat-down/31_2/31_2_28.npy',\n",
       " '/home/u6188041/jom/Dataset/EzFit_dataset/keypoints_seq/len_8/squat/squat-down/42_4/42_4_18.npy',\n",
       " '/home/u6188041/jom/Dataset/EzFit_dataset/keypoints_seq/len_8/squat/squat-down/42_4/42_4_14.npy',\n",
       " '/home/u6188041/jom/Dataset/EzFit_dataset/keypoints_seq/len_8/squat/squat-down/42_4/42_4_2.npy',\n",
       " '/home/u6188041/jom/Dataset/EzFit_dataset/keypoints_seq/len_8/squat/squat-down/42_4/42_4_11.npy',\n",
       " '/home/u6188041/jom/Dataset/EzFit_dataset/keypoints_seq/len_8/squat/squat-down/42_4/42_4_27.npy',\n",
       " '/home/u6188041/jom/Dataset/EzFit_dataset/keypoints_seq/len_8/squat/squat-down/42_4/42_4_26.npy',\n",
       " '/home/u6188041/jom/Dataset/EzFit_dataset/keypoints_seq/len_8/squat/squat-down/42_4/42_4_57.npy',\n",
       " '/home/u6188041/jom/Dataset/EzFit_dataset/keypoints_seq/len_8/squat/squat-down/42_4/42_4_3.npy',\n",
       " '/home/u6188041/jom/Dataset/EzFit_dataset/keypoints_seq/len_8/squat/squat-down/42_4/42_4_40.npy',\n",
       " '/home/u6188041/jom/Dataset/EzFit_dataset/keypoints_seq/len_8/squat/squat-down/42_4/42_4_44.npy',\n",
       " '/home/u6188041/jom/Dataset/EzFit_dataset/keypoints_seq/len_8/squat/squat-down/42_4/42_4_34.npy',\n",
       " '/home/u6188041/jom/Dataset/EzFit_dataset/keypoints_seq/len_8/squat/squat-down/42_4/42_4_5.npy',\n",
       " '/home/u6188041/jom/Dataset/EzFit_dataset/keypoints_seq/len_8/squat/squat-down/42_4/42_4_46.npy',\n",
       " '/home/u6188041/jom/Dataset/EzFit_dataset/keypoints_seq/len_8/squat/squat-down/42_4/42_4_39.npy',\n",
       " '/home/u6188041/jom/Dataset/EzFit_dataset/keypoints_seq/len_8/squat/squat-down/42_4/42_4_29.npy',\n",
       " '/home/u6188041/jom/Dataset/EzFit_dataset/keypoints_seq/len_8/squat/squat-down/42_4/42_4_19.npy',\n",
       " '/home/u6188041/jom/Dataset/EzFit_dataset/keypoints_seq/len_8/squat/squat-down/42_4/42_4_43.npy',\n",
       " '/home/u6188041/jom/Dataset/EzFit_dataset/keypoints_seq/len_8/squat/squat-down/42_4/42_4_35.npy',\n",
       " '/home/u6188041/jom/Dataset/EzFit_dataset/keypoints_seq/len_8/squat/squat-down/42_4/42_4_56.npy',\n",
       " '/home/u6188041/jom/Dataset/EzFit_dataset/keypoints_seq/len_8/squat/squat-down/42_4/42_4_13.npy',\n",
       " '/home/u6188041/jom/Dataset/EzFit_dataset/keypoints_seq/len_8/squat/squat-down/42_4/42_4_30.npy',\n",
       " '/home/u6188041/jom/Dataset/EzFit_dataset/keypoints_seq/len_8/squat/squat-down/42_4/42_4_4.npy',\n",
       " '/home/u6188041/jom/Dataset/EzFit_dataset/keypoints_seq/len_8/squat/squat-down/42_4/42_4_38.npy',\n",
       " '/home/u6188041/jom/Dataset/EzFit_dataset/keypoints_seq/len_8/squat/squat-down/42_4/42_4_32.npy',\n",
       " '/home/u6188041/jom/Dataset/EzFit_dataset/keypoints_seq/len_8/squat/squat-down/42_4/42_4_54.npy',\n",
       " '/home/u6188041/jom/Dataset/EzFit_dataset/keypoints_seq/len_8/squat/squat-down/42_4/42_4_51.npy',\n",
       " '/home/u6188041/jom/Dataset/EzFit_dataset/keypoints_seq/len_8/squat/squat-down/42_4/42_4_45.npy',\n",
       " '/home/u6188041/jom/Dataset/EzFit_dataset/keypoints_seq/len_8/squat/squat-down/42_4/42_4_1.npy',\n",
       " '/home/u6188041/jom/Dataset/EzFit_dataset/keypoints_seq/len_8/squat/squat-down/42_4/42_4_33.npy',\n",
       " '/home/u6188041/jom/Dataset/EzFit_dataset/keypoints_seq/len_8/squat/squat-down/42_4/42_4_20.npy',\n",
       " '/home/u6188041/jom/Dataset/EzFit_dataset/keypoints_seq/len_8/squat/squat-down/42_4/42_4_17.npy',\n",
       " '/home/u6188041/jom/Dataset/EzFit_dataset/keypoints_seq/len_8/squat/squat-down/42_4/42_4_15.npy',\n",
       " '/home/u6188041/jom/Dataset/EzFit_dataset/keypoints_seq/len_8/squat/squat-down/42_4/42_4_25.npy',\n",
       " '/home/u6188041/jom/Dataset/EzFit_dataset/keypoints_seq/len_8/squat/squat-down/42_4/42_4_49.npy',\n",
       " '/home/u6188041/jom/Dataset/EzFit_dataset/keypoints_seq/len_8/squat/squat-down/42_4/42_4_36.npy',\n",
       " '/home/u6188041/jom/Dataset/EzFit_dataset/keypoints_seq/len_8/squat/squat-down/42_4/42_4_31.npy',\n",
       " '/home/u6188041/jom/Dataset/EzFit_dataset/keypoints_seq/len_8/squat/squat-down/42_4/42_4_50.npy',\n",
       " '/home/u6188041/jom/Dataset/EzFit_dataset/keypoints_seq/len_8/squat/squat-down/42_4/42_4_42.npy',\n",
       " '/home/u6188041/jom/Dataset/EzFit_dataset/keypoints_seq/len_8/squat/squat-down/42_4/42_4_9.npy',\n",
       " '/home/u6188041/jom/Dataset/EzFit_dataset/keypoints_seq/len_8/squat/squat-down/42_4/42_4_28.npy',\n",
       " '/home/u6188041/jom/Dataset/EzFit_dataset/keypoints_seq/len_8/squat/squat-down/42_4/42_4_7.npy',\n",
       " '/home/u6188041/jom/Dataset/EzFit_dataset/keypoints_seq/len_8/squat/squat-down/42_4/42_4_41.npy',\n",
       " ...]"
      ]
     },
     "execution_count": 26,
     "metadata": {},
     "output_type": "execute_result"
    }
   ],
   "source": [
    "# train_paths"
   ]
  },
  {
   "cell_type": "code",
   "execution_count": 27,
   "id": "afae1268-9bc9-42b7-a4c3-e805a6b6a363",
   "metadata": {},
   "outputs": [
    {
     "data": {
      "text/plain": [
       "(13589, 1851)"
      ]
     },
     "execution_count": 27,
     "metadata": {},
     "output_type": "execute_result"
    }
   ],
   "source": [
    "# len(train_paths), len(test_paths)"
   ]
  },
  {
   "cell_type": "code",
   "execution_count": 28,
   "id": "4fa2a12f-6f8d-4f7c-bce4-81e0bcfd5bce",
   "metadata": {},
   "outputs": [
    {
     "data": {
      "text/plain": [
       "(Counter({'squat-down': 3808, 'idle': 3803, 'others': 2760, 'squat-up': 3218}),\n",
       " 13589)"
      ]
     },
     "execution_count": 28,
     "metadata": {},
     "output_type": "execute_result"
    }
   ],
   "source": [
    "# # will be use for class weighting later\n",
    "# labels = list(map(lambda x: x.split(os.path.sep)[-3], train_paths))\n",
    "# total = len(labels)\n",
    "# label_count = Counter(labels)\n",
    "# label_count, total"
   ]
  },
  {
   "cell_type": "markdown",
   "id": "c8a7d985-849b-41dd-9f12-0c880fd718f6",
   "metadata": {},
   "source": [
    "### Sequence-level splitting"
   ]
  },
  {
   "cell_type": "code",
   "execution_count": 16,
   "id": "1ae7bf8f",
   "metadata": {
    "ExecuteTime": {
     "end_time": "2022-03-29T09:13:17.752948Z",
     "start_time": "2022-03-29T09:13:17.722947Z"
    }
   },
   "outputs": [],
   "source": [
    "train_paths, test_paths = train_test_split(all_file_paths, test_size=0.1, random_state=42, stratify=labels)"
   ]
  },
  {
   "cell_type": "code",
   "execution_count": 17,
   "id": "2b2093d9",
   "metadata": {
    "ExecuteTime": {
     "end_time": "2022-03-29T09:13:17.768947Z",
     "start_time": "2022-03-29T09:13:17.755948Z"
    }
   },
   "outputs": [
    {
     "data": {
      "text/plain": [
       "(10941, 1216)"
      ]
     },
     "execution_count": 17,
     "metadata": {},
     "output_type": "execute_result"
    }
   ],
   "source": [
    "len(train_paths), len(test_paths)"
   ]
  },
  {
   "cell_type": "code",
   "execution_count": 18,
   "id": "73091c9e-9e95-4fd0-97c9-dd4e1c36ecf8",
   "metadata": {},
   "outputs": [
    {
     "data": {
      "text/plain": [
       "(Counter({'squat-up': 2415, 'others': 2538, 'idle': 2994, 'squat-down': 2994}),\n",
       " 10941)"
      ]
     },
     "execution_count": 18,
     "metadata": {},
     "output_type": "execute_result"
    }
   ],
   "source": [
    "# will be use for class weighting later\n",
    "labels = list(map(lambda x: x.split(os.path.sep)[-3], train_paths))\n",
    "total = len(labels)\n",
    "label_count = Counter(labels)\n",
    "label_count, total"
   ]
  },
  {
   "cell_type": "markdown",
   "id": "4f1b9cbf-0138-4676-90a7-35cabf96dc05",
   "metadata": {},
   "source": [
    "# Training prep"
   ]
  },
  {
   "cell_type": "code",
   "execution_count": 19,
   "id": "7b8b4ecf-fd39-4fd6-9d45-23bbd55daa1e",
   "metadata": {},
   "outputs": [],
   "source": [
    "def build_model():\n",
    "    model = tf.keras.models.Sequential([\n",
    "        # ลด lstm จำนวน unit 64\n",
    "        tf.keras.layers.LSTM(64, return_sequences=False, activation='relu', input_shape=(SEQ_LEN, 99)),\n",
    "    #     tf.keras.layers.LSTM(128, return_sequences=True, activation='relu'),\n",
    "    #     tf.keras.layers.LSTM(64, return_sequences=False, activation='relu'),\n",
    "        tf.keras.layers.Dense(64, activation='relu'),\n",
    "        tf.keras.layers.Dense(32, activation='relu'),\n",
    "        tf.keras.layers.Dense(16, activation='relu'),\n",
    "        tf.keras.layers.Dense(NUM_CLASSES, activation='softmax')\n",
    "    ])\n",
    "    return model"
   ]
  },
  {
   "cell_type": "code",
   "execution_count": 20,
   "id": "8f0f43b3",
   "metadata": {
    "ExecuteTime": {
     "end_time": "2022-03-29T09:13:17.814946Z",
     "start_time": "2022-03-29T09:13:17.806950Z"
    }
   },
   "outputs": [],
   "source": [
    "# define hyperparameters\n",
    "EPOCHS = 150\n",
    "BATCH_SIZE = 32\n",
    "NUM_CLASSES = len(le.classes_)\n",
    "INIT_LR = 1e-3"
   ]
  },
  {
   "cell_type": "markdown",
   "id": "67a3b9b7-64c1-417f-811e-e499a9991ecf",
   "metadata": {},
   "source": [
    "---"
   ]
  },
  {
   "cell_type": "markdown",
   "id": "4fd5322d-d1a2-43c7-8d1e-b5ea4ca645fd",
   "metadata": {},
   "source": [
    "# Cross-validation training"
   ]
  },
  {
   "cell_type": "code",
   "execution_count": 22,
   "id": "2aa26c99-8c02-4352-8087-b1094010893b",
   "metadata": {
    "collapsed": true,
    "jupyter": {
     "outputs_hidden": true
    },
    "tags": []
   },
   "outputs": [
    {
     "ename": "NameError",
     "evalue": "name 'split_vids' is not defined",
     "output_type": "error",
     "traceback": [
      "\u001b[0;31m---------------------------------------------------------------------------\u001b[0m",
      "\u001b[0;31mNameError\u001b[0m                                 Traceback (most recent call last)",
      "Input \u001b[0;32mIn [22]\u001b[0m, in \u001b[0;36m<cell line: 7>\u001b[0;34m()\u001b[0m\n\u001b[1;32m      4\u001b[0m \u001b[38;5;28;01mfrom\u001b[39;00m \u001b[38;5;21;01msklearn\u001b[39;00m\u001b[38;5;21;01m.\u001b[39;00m\u001b[38;5;21;01mmetrics\u001b[39;00m \u001b[38;5;28;01mimport\u001b[39;00m confusion_matrix\n\u001b[1;32m      5\u001b[0m \u001b[38;5;28;01mfrom\u001b[39;00m \u001b[38;5;21;01msklearn\u001b[39;00m\u001b[38;5;21;01m.\u001b[39;00m\u001b[38;5;21;01mmetrics\u001b[39;00m \u001b[38;5;28;01mimport\u001b[39;00m accuracy_score, precision_score, recall_score, f1_score\n\u001b[0;32m----> 7\u001b[0m split_vids \u001b[38;5;241m=\u001b[39m np\u001b[38;5;241m.\u001b[39marray(\u001b[43msplit_vids\u001b[49m)\n\u001b[1;32m      9\u001b[0m skf \u001b[38;5;241m=\u001b[39m StratifiedKFold(n_splits\u001b[38;5;241m=\u001b[39m\u001b[38;5;241m10\u001b[39m, shuffle\u001b[38;5;241m=\u001b[39m\u001b[38;5;28;01mTrue\u001b[39;00m, random_state\u001b[38;5;241m=\u001b[39m\u001b[38;5;241m42\u001b[39m)\n\u001b[1;32m     10\u001b[0m fold \u001b[38;5;241m=\u001b[39m {\u001b[38;5;124m'\u001b[39m\u001b[38;5;124mtrain_loss\u001b[39m\u001b[38;5;124m'\u001b[39m: [], \u001b[38;5;124m'\u001b[39m\u001b[38;5;124mval_loss\u001b[39m\u001b[38;5;124m'\u001b[39m: [], \u001b[38;5;124m'\u001b[39m\u001b[38;5;124maccuracy\u001b[39m\u001b[38;5;124m'\u001b[39m: [], \u001b[38;5;124m'\u001b[39m\u001b[38;5;124mprecision\u001b[39m\u001b[38;5;124m'\u001b[39m: [], \u001b[38;5;124m'\u001b[39m\u001b[38;5;124mrecall\u001b[39m\u001b[38;5;124m'\u001b[39m: [], \u001b[38;5;124m'\u001b[39m\u001b[38;5;124mf1\u001b[39m\u001b[38;5;124m'\u001b[39m: []}\n",
      "\u001b[0;31mNameError\u001b[0m: name 'split_vids' is not defined"
     ]
    }
   ],
   "source": [
    "## From AJ Mock\n",
    "from sklearn.model_selection import StratifiedKFold\n",
    "from sklearn.model_selection import train_test_split\n",
    "from sklearn.metrics import confusion_matrix\n",
    "from sklearn.metrics import accuracy_score, precision_score, recall_score, f1_score\n",
    "\n",
    "split_vids = np.array(split_vids)\n",
    "\n",
    "skf = StratifiedKFold(n_splits=10, shuffle=True, random_state=42)\n",
    "fold = {'train_loss': [], 'val_loss': [], 'accuracy': [], 'precision': [], 'recall': [], 'f1': []}\n",
    "\n",
    "all_y_hat_test = []\n",
    "all_y_test = []\n",
    "for f_idx, (train_index, test_index) in enumerate(skf.split(split_vids, split_vids_class)):\n",
    "    print(f'-= [Fold {f_idx}] =-')\n",
    "    train_vids, test_vids = split_vids[train_index], split_vids[test_index]\n",
    "    \n",
    "    train_paths = vid_to_seq_level(train_vids, vid_to_seqs)\n",
    "    test_paths = vid_to_seq_level(test_vids, vid_to_seqs)\n",
    "    \n",
    "    total = len(train_paths)\n",
    "    label_count = Counter(list(map(lambda x: x.split(os.path.sep)[-3], train_paths)))\n",
    "    \n",
    "    print(f'Train vid amount: {len(train_vids)} | Test vid amount: {len(test_vids)}')\n",
    "    print(f'Train seq amount: {len(train_paths)} | Test seq amount: {len(test_paths)}')\n",
    "    print(f'Train seq label count: {dict(sorted(label_count.items()))}')\n",
    "    print(f'Test seq label count: {dict(sorted(Counter(list(map(lambda x: x.split(os.path.sep)[-3], test_paths))).items()))}')\n",
    "    \n",
    "    # class weighting\n",
    "    NUM_CLASSES = len(le.classes_)\n",
    "    class_weights = {}\n",
    "    for label in label_count:\n",
    "        class_weights[le.transform([label])[0]] = (1 / label_count[label]) * (total / NUM_CLASSES)\n",
    "    print('Classes:', le.classes_)\n",
    "    print('Class weights:', dict(sorted(class_weights.items())))\n",
    "        \n",
    "    train_ds = tf.data.Dataset.from_tensor_slices(train_paths)\n",
    "    train_ds = (train_ds\n",
    "                .shuffle(len(train_paths), seed=42)\n",
    "                .map(load_data, num_parallel_calls=AUTOTUNE)\n",
    "                .cache()\n",
    "                .batch(BATCH_SIZE)\n",
    "                .prefetch(AUTOTUNE)\n",
    "               )\n",
    "    \n",
    "    test_ds = tf.data.Dataset.from_tensor_slices(test_paths)\n",
    "    test_ds = (test_ds\n",
    "                .map(load_data, num_parallel_calls=AUTOTUNE)\n",
    "                .cache()\n",
    "                .batch(BATCH_SIZE)\n",
    "                .prefetch(AUTOTUNE)\n",
    "               )\n",
    "    \n",
    "    model = build_model()\n",
    "    log_dir = os.path.join('Logs')\n",
    "    tb_callback = tf.keras.callbacks.TensorBoard(log_dir=log_dir)\n",
    "    early_stopping = tf.keras.callbacks.EarlyStopping(monitor='val_loss', patience=15, restore_best_weights=True)\n",
    "    optimizer = tf.keras.optimizers.Adam(learning_rate=INIT_LR, decay=INIT_LR / EPOCHS)\n",
    "    model.compile(optimizer=optimizer, loss='categorical_crossentropy', metrics=['accuracy'])\n",
    "    \n",
    "    hist = model.fit(train_ds, \n",
    "          validation_data=test_ds, \n",
    "          epochs=EPOCHS, \n",
    "          callbacks=[early_stopping, tb_callback],\n",
    "          class_weight=class_weights)\n",
    "    \n",
    "    y_hat_test_probs = model.predict(test_ds)\n",
    "    y_hat_test = np.argmax(y_hat_test_probs, axis=1)\n",
    "    raw_y_test = np.concatenate([y for x, y in test_ds], axis=0)\n",
    "    y_test = np.argmax(raw_y_test, axis=1)\n",
    "    \n",
    "    print(f'Test Accuracy: {accuracy_score(y_true=y_test, y_pred=y_hat_test):.2f}')\n",
    "    print(f'Test Macro F1-score: {f1_score(y_true=y_test, y_pred=y_hat_test, average=\"macro\"):.2f}')\n",
    "    \n",
    "    fold['train_loss'].append(hist.history['loss'][-15])\n",
    "    fold['val_loss'].append(hist.history['val_loss'][-15])\n",
    "    fold['accuracy'].append(accuracy_score(y_true=y_test, y_pred=y_hat_test))\n",
    "    fold['precision'].append(precision_score(y_true=y_test, y_pred=y_hat_test, average='macro'))\n",
    "    fold['recall'].append(recall_score(y_true=y_test, y_pred=y_hat_test, average='macro'))\n",
    "    fold['f1'].append(f1_score(y_true=y_test, y_pred=y_hat_test, average='macro'))\n",
    "    \n",
    "    all_y_hat_test.append(y_hat_test)\n",
    "    all_y_test.append(y_test)\n",
    "    \n",
    "all_y_hat_test = np.vstack(all_y_hat_test)\n",
    "all_y_test = np.vstack(all_y_test)"
   ]
  },
  {
   "cell_type": "code",
   "execution_count": 68,
   "id": "98d70607-84cf-4c5c-a8d8-76250a43a81a",
   "metadata": {},
   "outputs": [],
   "source": [
    "save_cv = f'saved_artifacts/cv_result/len_{SEQ_LEN}/round_{ROUND}/{EXERCISE}'\n",
    "if not os.path.exists(save_cv):\n",
    "    os.makedirs(save_cv, exist_ok=True)\n",
    "with open(os.path.join(save_cv,f'{EXERCISE}_kps_seq_cv.pickle'), 'wb') as file:\n",
    "    pickle.dump(fold, file)"
   ]
  },
  {
   "cell_type": "code",
   "execution_count": 69,
   "id": "c9074851-2e29-4a4f-87ec-20bf607714fe",
   "metadata": {
    "collapsed": true,
    "jupyter": {
     "outputs_hidden": true
    },
    "tags": []
   },
   "outputs": [
    {
     "data": {
      "text/plain": [
       "{'train_loss': [0.5755961537361145,\n",
       "  0.2991354465484619,\n",
       "  0.38023537397384644,\n",
       "  0.3500932455062866,\n",
       "  0.3323803246021271,\n",
       "  0.25822094082832336,\n",
       "  0.22903253138065338,\n",
       "  0.417510449886322,\n",
       "  0.1977362334728241,\n",
       "  0.408559113740921],\n",
       " 'val_loss': [0.9740620255470276,\n",
       "  0.4259565472602844,\n",
       "  0.468708872795105,\n",
       "  0.6667155027389526,\n",
       "  1.0760188102722168,\n",
       "  1.2720816135406494,\n",
       "  1.4981669187545776,\n",
       "  0.5732372999191284,\n",
       "  0.4483863413333893,\n",
       "  1.3011795282363892],\n",
       " 'accuracy': [0.5752753977968176,\n",
       "  0.9009009009009009,\n",
       "  0.8355795148247979,\n",
       "  0.7520325203252033,\n",
       "  0.8719851576994434,\n",
       "  0.712707182320442,\n",
       "  0.6927860696517413,\n",
       "  0.8461538461538461,\n",
       "  0.9180035650623886,\n",
       "  0.6611675126903553],\n",
       " 'precision': [0.5718178047209207,\n",
       "  0.882798680463461,\n",
       "  0.7993517953643201,\n",
       "  0.6892821295255289,\n",
       "  0.8509920634920636,\n",
       "  0.7419217522728678,\n",
       "  0.6162091982208939,\n",
       "  0.7933465795859209,\n",
       "  0.9027062145976154,\n",
       "  0.6845026115859449],\n",
       " 'recall': [0.5376605359826435,\n",
       "  0.8756083075787628,\n",
       "  0.8039731697494261,\n",
       "  0.6909855543007717,\n",
       "  0.8442418229846183,\n",
       "  0.7268577642894312,\n",
       "  0.682763000313853,\n",
       "  0.8017297083488306,\n",
       "  0.9105866313897999,\n",
       "  0.6459257511758429],\n",
       " 'f1': [0.5235256599396153,\n",
       "  0.8718971805273239,\n",
       "  0.7938964217233972,\n",
       "  0.6874693444575355,\n",
       "  0.8363315066366785,\n",
       "  0.704461267629076,\n",
       "  0.6295345918784326,\n",
       "  0.7908862824221448,\n",
       "  0.9032110025918546,\n",
       "  0.6534824867132188]}"
      ]
     },
     "execution_count": 69,
     "metadata": {},
     "output_type": "execute_result"
    }
   ],
   "source": [
    "# avg cv\n",
    "fold"
   ]
  },
  {
   "cell_type": "markdown",
   "id": "c9b60220-7003-4dd3-8f9b-e908c2ddadbb",
   "metadata": {},
   "source": [
    "---"
   ]
  },
  {
   "cell_type": "markdown",
   "id": "910110a5-ee9e-4a9f-b4d4-bbb87a714589",
   "metadata": {},
   "source": [
    "# Normal training"
   ]
  },
  {
   "cell_type": "markdown",
   "id": "a1f89971",
   "metadata": {},
   "source": [
    "## Class weighting\n",
    "Since we have a bit imbalanced data, so we should do class weighting  \n",
    "formula derived from here: https://www.tensorflow.org/tutorials/structured_data/imbalanced_data#calculate_class_weights"
   ]
  },
  {
   "cell_type": "code",
   "execution_count": 21,
   "id": "eafd8348",
   "metadata": {
    "ExecuteTime": {
     "end_time": "2022-03-29T09:13:17.783947Z",
     "start_time": "2022-03-29T09:13:17.772950Z"
    }
   },
   "outputs": [],
   "source": [
    "NUM_CLASSES = len(le.classes_)\n",
    "class_weights = {}\n",
    "for label in label_count:\n",
    "    class_weights[le.transform([label])[0]] = (1 / label_count[label]) * (total / NUM_CLASSES)"
   ]
  },
  {
   "cell_type": "code",
   "execution_count": 22,
   "id": "fc68f692-444d-4b91-a21e-5872829ebff0",
   "metadata": {},
   "outputs": [
    {
     "data": {
      "text/plain": [
       "Counter({'squat-up': 2415, 'others': 2538, 'idle': 2994, 'squat-down': 2994})"
      ]
     },
     "execution_count": 22,
     "metadata": {},
     "output_type": "execute_result"
    }
   ],
   "source": [
    "label_count"
   ]
  },
  {
   "cell_type": "code",
   "execution_count": 23,
   "id": "18920da1-7b65-4239-bfb7-80b3a68cb10f",
   "metadata": {},
   "outputs": [
    {
     "data": {
      "text/plain": [
       "array(['idle', 'others', 'squat-down', 'squat-up'], dtype='<U10')"
      ]
     },
     "execution_count": 23,
     "metadata": {},
     "output_type": "execute_result"
    }
   ],
   "source": [
    "le.classes_"
   ]
  },
  {
   "cell_type": "code",
   "execution_count": 24,
   "id": "2d5f074a",
   "metadata": {
    "ExecuteTime": {
     "end_time": "2022-03-29T09:13:17.799947Z",
     "start_time": "2022-03-29T09:13:17.788947Z"
    }
   },
   "outputs": [
    {
     "data": {
      "text/plain": [
       "{3: 1.132608695652174,\n",
       " 1: 1.0777186761229316,\n",
       " 0: 0.9135771543086173,\n",
       " 2: 0.9135771543086173}"
      ]
     },
     "execution_count": 24,
     "metadata": {},
     "output_type": "execute_result"
    }
   ],
   "source": [
    "class_weights"
   ]
  },
  {
   "cell_type": "markdown",
   "id": "42a78cd0",
   "metadata": {},
   "source": [
    "## Build data pipeline"
   ]
  },
  {
   "cell_type": "code",
   "execution_count": 25,
   "id": "bfd55f17",
   "metadata": {
    "ExecuteTime": {
     "end_time": "2022-03-29T09:13:21.355232Z",
     "start_time": "2022-03-29T09:13:17.821948Z"
    },
    "tags": []
   },
   "outputs": [
    {
     "name": "stderr",
     "output_type": "stream",
     "text": [
      "2022-05-24 11:25:22.887301: I tensorflow/stream_executor/platform/default/dso_loader.cc:53] Successfully opened dynamic library libcuda.so.1\n",
      "2022-05-24 11:25:22.963099: I tensorflow/stream_executor/cuda/cuda_gpu_executor.cc:937] successful NUMA node read from SysFS had negative value (-1), but there must be at least one NUMA node, so returning NUMA node zero\n",
      "2022-05-24 11:25:22.963636: I tensorflow/core/common_runtime/gpu/gpu_device.cc:1733] Found device 0 with properties: \n",
      "pciBusID: 0000:04:00.0 name: GeForce RTX 2080 SUPER computeCapability: 7.5\n",
      "coreClock: 1.845GHz coreCount: 48 deviceMemorySize: 7.79GiB deviceMemoryBandwidth: 462.00GiB/s\n",
      "2022-05-24 11:25:22.963650: I tensorflow/stream_executor/platform/default/dso_loader.cc:53] Successfully opened dynamic library libcudart.so.11.0\n",
      "2022-05-24 11:25:22.964994: I tensorflow/stream_executor/platform/default/dso_loader.cc:53] Successfully opened dynamic library libcublas.so.11\n",
      "2022-05-24 11:25:22.965018: I tensorflow/stream_executor/platform/default/dso_loader.cc:53] Successfully opened dynamic library libcublasLt.so.11\n",
      "2022-05-24 11:25:22.965535: I tensorflow/stream_executor/platform/default/dso_loader.cc:53] Successfully opened dynamic library libcufft.so.10\n",
      "2022-05-24 11:25:22.965663: I tensorflow/stream_executor/platform/default/dso_loader.cc:53] Successfully opened dynamic library libcurand.so.10\n",
      "2022-05-24 11:25:22.967060: I tensorflow/stream_executor/platform/default/dso_loader.cc:53] Successfully opened dynamic library libcusolver.so.11\n",
      "2022-05-24 11:25:22.967432: I tensorflow/stream_executor/platform/default/dso_loader.cc:53] Successfully opened dynamic library libcusparse.so.11\n",
      "2022-05-24 11:25:22.967508: I tensorflow/stream_executor/platform/default/dso_loader.cc:53] Successfully opened dynamic library libcudnn.so.8\n",
      "2022-05-24 11:25:22.967593: I tensorflow/stream_executor/cuda/cuda_gpu_executor.cc:937] successful NUMA node read from SysFS had negative value (-1), but there must be at least one NUMA node, so returning NUMA node zero\n",
      "2022-05-24 11:25:22.968130: I tensorflow/stream_executor/cuda/cuda_gpu_executor.cc:937] successful NUMA node read from SysFS had negative value (-1), but there must be at least one NUMA node, so returning NUMA node zero\n",
      "2022-05-24 11:25:22.968609: I tensorflow/core/common_runtime/gpu/gpu_device.cc:1871] Adding visible gpu devices: 0\n",
      "2022-05-24 11:25:22.968908: I tensorflow/core/platform/cpu_feature_guard.cc:142] This TensorFlow binary is optimized with oneAPI Deep Neural Network Library (oneDNN) to use the following CPU instructions in performance-critical operations:  AVX2 FMA\n",
      "To enable them in other operations, rebuild TensorFlow with the appropriate compiler flags.\n",
      "2022-05-24 11:25:22.969836: I tensorflow/stream_executor/cuda/cuda_gpu_executor.cc:937] successful NUMA node read from SysFS had negative value (-1), but there must be at least one NUMA node, so returning NUMA node zero\n",
      "2022-05-24 11:25:22.970332: I tensorflow/core/common_runtime/gpu/gpu_device.cc:1733] Found device 0 with properties: \n",
      "pciBusID: 0000:04:00.0 name: GeForce RTX 2080 SUPER computeCapability: 7.5\n",
      "coreClock: 1.845GHz coreCount: 48 deviceMemorySize: 7.79GiB deviceMemoryBandwidth: 462.00GiB/s\n",
      "2022-05-24 11:25:22.970376: I tensorflow/stream_executor/cuda/cuda_gpu_executor.cc:937] successful NUMA node read from SysFS had negative value (-1), but there must be at least one NUMA node, so returning NUMA node zero\n",
      "2022-05-24 11:25:22.970884: I tensorflow/stream_executor/cuda/cuda_gpu_executor.cc:937] successful NUMA node read from SysFS had negative value (-1), but there must be at least one NUMA node, so returning NUMA node zero\n",
      "2022-05-24 11:25:22.971359: I tensorflow/core/common_runtime/gpu/gpu_device.cc:1871] Adding visible gpu devices: 0\n",
      "2022-05-24 11:25:22.971380: I tensorflow/stream_executor/platform/default/dso_loader.cc:53] Successfully opened dynamic library libcudart.so.11.0\n",
      "2022-05-24 11:25:23.340178: I tensorflow/core/common_runtime/gpu/gpu_device.cc:1258] Device interconnect StreamExecutor with strength 1 edge matrix:\n",
      "2022-05-24 11:25:23.340208: I tensorflow/core/common_runtime/gpu/gpu_device.cc:1264]      0 \n",
      "2022-05-24 11:25:23.340214: I tensorflow/core/common_runtime/gpu/gpu_device.cc:1277] 0:   N \n",
      "2022-05-24 11:25:23.340394: I tensorflow/stream_executor/cuda/cuda_gpu_executor.cc:937] successful NUMA node read from SysFS had negative value (-1), but there must be at least one NUMA node, so returning NUMA node zero\n",
      "2022-05-24 11:25:23.340923: I tensorflow/stream_executor/cuda/cuda_gpu_executor.cc:937] successful NUMA node read from SysFS had negative value (-1), but there must be at least one NUMA node, so returning NUMA node zero\n",
      "2022-05-24 11:25:23.341434: I tensorflow/stream_executor/cuda/cuda_gpu_executor.cc:937] successful NUMA node read from SysFS had negative value (-1), but there must be at least one NUMA node, so returning NUMA node zero\n",
      "2022-05-24 11:25:23.341918: I tensorflow/core/common_runtime/gpu/gpu_device.cc:1418] Created TensorFlow device (/job:localhost/replica:0/task:0/device:GPU:0 with 6588 MB memory) -> physical GPU (device: 0, name: GeForce RTX 2080 SUPER, pci bus id: 0000:04:00.0, compute capability: 7.5)\n"
     ]
    }
   ],
   "source": [
    "train_ds = tf.data.Dataset.from_tensor_slices(train_paths)\n",
    "train_ds = (train_ds\n",
    "            .shuffle(len(train_paths), seed=42)\n",
    "            .map(load_data, num_parallel_calls=AUTOTUNE)\n",
    "            .cache()\n",
    "            .batch(BATCH_SIZE)\n",
    "            .prefetch(AUTOTUNE)\n",
    "           )"
   ]
  },
  {
   "cell_type": "code",
   "execution_count": 26,
   "id": "b432561a",
   "metadata": {
    "ExecuteTime": {
     "end_time": "2022-03-29T09:13:21.479223Z",
     "start_time": "2022-03-29T09:13:21.357225Z"
    }
   },
   "outputs": [],
   "source": [
    "test_ds = tf.data.Dataset.from_tensor_slices(test_paths)\n",
    "test_ds = (test_ds\n",
    "            .map(load_data, num_parallel_calls=AUTOTUNE)\n",
    "            .cache()\n",
    "            .batch(BATCH_SIZE)\n",
    "            .prefetch(AUTOTUNE)\n",
    "           )"
   ]
  },
  {
   "cell_type": "code",
   "execution_count": 27,
   "id": "4257c57e",
   "metadata": {
    "ExecuteTime": {
     "end_time": "2022-03-29T09:13:21.927223Z",
     "start_time": "2022-03-29T09:13:21.481226Z"
    },
    "tags": []
   },
   "outputs": [
    {
     "name": "stderr",
     "output_type": "stream",
     "text": [
      "2022-05-24 11:25:23.483110: I tensorflow/compiler/mlir/mlir_graph_optimization_pass.cc:176] None of the MLIR Optimization Passes are enabled (registered 2)\n",
      "2022-05-24 11:25:23.484243: I tensorflow/core/platform/profile_utils/cpu_utils.cc:114] CPU Frequency: 3500105000 Hz\n",
      "2022-05-24 11:25:23.554929: W tensorflow/core/kernels/data/cache_dataset_ops.cc:768] The calling iterator did not fully read the dataset being cached. In order to avoid unexpected truncation of the dataset, the partially cached contents of the dataset  will be discarded. This can happen if you have an input pipeline similar to `dataset.cache().take(k).repeat()`. You should use `dataset.take(k).cache().repeat()` instead.\n"
     ]
    },
    {
     "data": {
      "text/plain": [
       "(<tf.Tensor: shape=(32, 16, 99), dtype=float32, numpy=\n",
       " array([[[0.24715596, 0.6956255 , 0.9998723 , ..., 0.4324528 ,\n",
       "          0.15042332, 0.89949673],\n",
       "         [0.24747244, 0.6946744 , 0.99985236, ..., 0.44228488,\n",
       "          0.15083037, 0.9042659 ],\n",
       "         [0.24841963, 0.6946319 , 0.9998231 , ..., 0.45472112,\n",
       "          0.1478734 , 0.9100456 ],\n",
       "         ...,\n",
       "         [0.25115833, 0.6966228 , 0.99937266, ..., 0.63121724,\n",
       "          0.1857248 , 0.94765913],\n",
       "         [0.2514122 , 0.69790095, 0.99937135, ..., 0.64597523,\n",
       "          0.19503085, 0.9502286 ],\n",
       "         [0.25167188, 0.69810194, 0.99932903, ..., 0.6602778 ,\n",
       "          0.20672564, 0.9519722 ]],\n",
       " \n",
       "        [[0.41949242, 0.22664505, 0.9997751 , ..., 0.47286534,\n",
       "          0.84190947, 0.6504118 ],\n",
       "         [0.42103204, 0.2176515 , 0.99972135, ..., 0.47305712,\n",
       "          0.828008  , 0.6410432 ],\n",
       "         [0.4221519 , 0.20164213, 0.9996959 , ..., 0.47316146,\n",
       "          0.8147695 , 0.631317  ],\n",
       "         ...,\n",
       "         [0.43790928, 0.15182556, 0.9995685 , ..., 0.4756019 ,\n",
       "          0.7853247 , 0.61560965],\n",
       "         [0.43841448, 0.15374148, 0.9995727 , ..., 0.47592998,\n",
       "          0.7851665 , 0.62013596],\n",
       "         [0.43900162, 0.15516897, 0.9995938 , ..., 0.4760347 ,\n",
       "          0.78635883, 0.62792116]],\n",
       " \n",
       "        [[0.4795173 , 0.18611817, 0.9999833 , ..., 0.4344623 ,\n",
       "          0.83790684, 0.9937787 ],\n",
       "         [0.4783377 , 0.19700669, 0.9999761 , ..., 0.43477827,\n",
       "          0.8376973 , 0.9936011 ],\n",
       "         [0.4773929 , 0.20812882, 0.9999697 , ..., 0.43477902,\n",
       "          0.8377589 , 0.99279463],\n",
       "         ...,\n",
       "         [0.46986827, 0.39588666, 0.99997264, ..., 0.43657857,\n",
       "          0.83705324, 0.9865348 ],\n",
       "         [0.46976608, 0.41037318, 0.9999725 , ..., 0.4365313 ,\n",
       "          0.83598024, 0.9847928 ],\n",
       "         [0.46986803, 0.42250955, 0.9999706 , ..., 0.43621475,\n",
       "          0.8346929 , 0.9828694 ]],\n",
       " \n",
       "        ...,\n",
       " \n",
       "        [[0.49360615, 0.08668714, 0.9985416 , ..., 0.47995746,\n",
       "          0.87200946, 0.7290469 ],\n",
       "         [0.48786446, 0.09512459, 0.9974055 , ..., 0.49315676,\n",
       "          0.87419146, 0.71981645],\n",
       "         [0.48441836, 0.10055055, 0.9868823 , ..., 0.46414864,\n",
       "          0.8860986 , 0.749539  ],\n",
       "         ...,\n",
       "         [0.48749715, 0.1038027 , 1.0066674 , ..., 0.45849925,\n",
       "          0.86937225, 0.74038047],\n",
       "         [0.50680405, 0.08515365, 1.0025324 , ..., 0.45957372,\n",
       "          0.88606864, 0.74691075],\n",
       "         [0.511606  , 0.0799922 , 0.99497753, ..., 0.47468287,\n",
       "          0.8725957 , 0.74096733]],\n",
       " \n",
       "        [[0.5463736 , 0.37854132, 0.9998318 , ..., 0.5644232 ,\n",
       "          0.83282125, 0.6621464 ],\n",
       "         [0.5466702 , 0.37847078, 0.99983776, ..., 0.5647153 ,\n",
       "          0.833059  , 0.66042966],\n",
       "         [0.54688966, 0.37829772, 0.99984485, ..., 0.56361985,\n",
       "          0.8380607 , 0.6587372 ],\n",
       "         ...,\n",
       "         [0.5475254 , 0.36302334, 0.99978644, ..., 0.5638498 ,\n",
       "          0.8402793 , 0.58066124],\n",
       "         [0.5472842 , 0.36224362, 0.9997766 , ..., 0.5638556 ,\n",
       "          0.8406147 , 0.5726498 ],\n",
       "         [0.5470988 , 0.36061275, 0.9997575 , ..., 0.5639222 ,\n",
       "          0.84055805, 0.5679996 ]],\n",
       " \n",
       "        [[0.5282477 , 0.08690146, 0.9993238 , ..., 0.57791233,\n",
       "          0.9083194 , 0.5839112 ],\n",
       "         [0.5295057 , 0.07982319, 0.9992997 , ..., 0.5791958 ,\n",
       "          0.9079271 , 0.57832855],\n",
       "         [0.5305685 , 0.07523596, 0.9991611 , ..., 0.58034694,\n",
       "          0.90788144, 0.5724716 ],\n",
       "         ...,\n",
       "         [0.54470295, 0.06136629, 0.9992063 , ..., 0.5905931 ,\n",
       "          0.9594038 , 0.55549306],\n",
       "         [0.5449015 , 0.06213859, 0.99925023, ..., 0.5905031 ,\n",
       "          0.96334356, 0.5540233 ],\n",
       "         [0.54633456, 0.06246731, 0.9992907 , ..., 0.58855665,\n",
       "          0.96895134, 0.5553284 ]]], dtype=float32)>,\n",
       " <tf.Tensor: shape=(32, 4), dtype=int32, numpy=\n",
       " array([[0, 1, 0, 0],\n",
       "        [0, 0, 0, 1],\n",
       "        [0, 0, 1, 0],\n",
       "        [0, 0, 1, 0],\n",
       "        [1, 0, 0, 0],\n",
       "        [1, 0, 0, 0],\n",
       "        [0, 1, 0, 0],\n",
       "        [1, 0, 0, 0],\n",
       "        [0, 0, 1, 0],\n",
       "        [0, 0, 1, 0],\n",
       "        [0, 0, 1, 0],\n",
       "        [0, 1, 0, 0],\n",
       "        [0, 0, 0, 1],\n",
       "        [1, 0, 0, 0],\n",
       "        [0, 0, 1, 0],\n",
       "        [0, 0, 1, 0],\n",
       "        [0, 1, 0, 0],\n",
       "        [0, 0, 0, 1],\n",
       "        [0, 0, 0, 1],\n",
       "        [0, 0, 0, 1],\n",
       "        [0, 0, 0, 1],\n",
       "        [0, 0, 1, 0],\n",
       "        [1, 0, 0, 0],\n",
       "        [1, 0, 0, 0],\n",
       "        [0, 0, 1, 0],\n",
       "        [0, 0, 1, 0],\n",
       "        [1, 0, 0, 0],\n",
       "        [0, 0, 1, 0],\n",
       "        [1, 0, 0, 0],\n",
       "        [1, 0, 0, 0],\n",
       "        [0, 0, 0, 1],\n",
       "        [0, 0, 0, 1]], dtype=int32)>)"
      ]
     },
     "execution_count": 27,
     "metadata": {},
     "output_type": "execute_result"
    }
   ],
   "source": [
    "# check the shape and dtype\n",
    "next(iter(train_ds))"
   ]
  },
  {
   "cell_type": "markdown",
   "id": "25174077",
   "metadata": {},
   "source": [
    "## Build and Train LSTM Model"
   ]
  },
  {
   "cell_type": "code",
   "execution_count": 28,
   "id": "7fd369cc",
   "metadata": {
    "ExecuteTime": {
     "end_time": "2022-03-29T09:13:21.959223Z",
     "start_time": "2022-03-29T09:13:21.929225Z"
    }
   },
   "outputs": [
    {
     "name": "stderr",
     "output_type": "stream",
     "text": [
      "2022-05-24 11:25:24.513129: I tensorflow/core/profiler/lib/profiler_session.cc:126] Profiler session initializing.\n",
      "2022-05-24 11:25:24.513165: I tensorflow/core/profiler/lib/profiler_session.cc:141] Profiler session started.\n",
      "2022-05-24 11:25:24.513203: I tensorflow/core/profiler/internal/gpu/cupti_tracer.cc:1611] Profiler found 1 GPUs\n",
      "2022-05-24 11:25:24.513701: W tensorflow/stream_executor/platform/default/dso_loader.cc:64] Could not load dynamic library 'libcupti.so.11.2'; dlerror: libcupti.so.11.2: cannot open shared object file: No such file or directory; LD_LIBRARY_PATH: :/usr/local/cuda/extras/CUPTI/lib64\n",
      "2022-05-24 11:25:24.514316: I tensorflow/stream_executor/platform/default/dso_loader.cc:53] Successfully opened dynamic library libcupti.so\n",
      "2022-05-24 11:25:24.619483: I tensorflow/core/profiler/lib/profiler_session.cc:159] Profiler session tear down.\n",
      "2022-05-24 11:25:24.619607: I tensorflow/core/profiler/internal/gpu/cupti_tracer.cc:1743] CUPTI activity buffer flushed\n"
     ]
    }
   ],
   "source": [
    "# define callback (tensorboard)\n",
    "log_dir = os.path.join('Logs')\n",
    "tb_callback = tf.keras.callbacks.TensorBoard(log_dir=log_dir)\n",
    "early_stopping = tf.keras.callbacks.EarlyStopping(monitor='val_loss', patience=15, restore_best_weights=True)"
   ]
  },
  {
   "cell_type": "code",
   "execution_count": 29,
   "id": "c04bb261",
   "metadata": {
    "ExecuteTime": {
     "end_time": "2022-03-29T09:13:21.974224Z",
     "start_time": "2022-03-29T09:13:21.961224Z"
    }
   },
   "outputs": [],
   "source": [
    "# อาจจะปรับ fps ของ input วิดีโอได้ ให้ realistic กับที่ใช้จริง"
   ]
  },
  {
   "cell_type": "code",
   "execution_count": 30,
   "id": "94123786",
   "metadata": {
    "ExecuteTime": {
     "end_time": "2022-03-29T09:13:22.174293Z",
     "start_time": "2022-03-29T09:13:21.976227Z"
    }
   },
   "outputs": [
    {
     "name": "stdout",
     "output_type": "stream",
     "text": [
      "WARNING:tensorflow:Layer lstm will not use cuDNN kernels since it doesn't meet the criteria. It will use a generic GPU kernel as fallback when running on GPU.\n"
     ]
    }
   ],
   "source": [
    "# build model\n",
    "model = build_model()"
   ]
  },
  {
   "cell_type": "code",
   "execution_count": 31,
   "id": "9c58041f",
   "metadata": {
    "ExecuteTime": {
     "end_time": "2022-03-29T09:13:22.190252Z",
     "start_time": "2022-03-29T09:13:22.176226Z"
    }
   },
   "outputs": [
    {
     "name": "stdout",
     "output_type": "stream",
     "text": [
      "Model: \"sequential\"\n",
      "_________________________________________________________________\n",
      "Layer (type)                 Output Shape              Param #   \n",
      "=================================================================\n",
      "lstm (LSTM)                  (None, 64)                41984     \n",
      "_________________________________________________________________\n",
      "dense (Dense)                (None, 64)                4160      \n",
      "_________________________________________________________________\n",
      "dense_1 (Dense)              (None, 32)                2080      \n",
      "_________________________________________________________________\n",
      "dense_2 (Dense)              (None, 16)                528       \n",
      "_________________________________________________________________\n",
      "dense_3 (Dense)              (None, 4)                 68        \n",
      "=================================================================\n",
      "Total params: 48,820\n",
      "Trainable params: 48,820\n",
      "Non-trainable params: 0\n",
      "_________________________________________________________________\n"
     ]
    }
   ],
   "source": [
    "model.summary()"
   ]
  },
  {
   "cell_type": "code",
   "execution_count": 32,
   "id": "07792454",
   "metadata": {
    "ExecuteTime": {
     "end_time": "2022-03-29T09:13:22.205252Z",
     "start_time": "2022-03-29T09:13:22.193227Z"
    }
   },
   "outputs": [],
   "source": [
    "optimizer = tf.keras.optimizers.Adam(learning_rate=INIT_LR, decay=INIT_LR / EPOCHS)"
   ]
  },
  {
   "cell_type": "code",
   "execution_count": 33,
   "id": "9f6d2cb4",
   "metadata": {
    "ExecuteTime": {
     "end_time": "2022-03-29T09:13:22.221223Z",
     "start_time": "2022-03-29T09:13:22.207225Z"
    }
   },
   "outputs": [],
   "source": [
    "model.compile(optimizer=optimizer, loss='categorical_crossentropy', metrics=['accuracy'])"
   ]
  },
  {
   "cell_type": "code",
   "execution_count": 34,
   "id": "f9d9716b",
   "metadata": {
    "ExecuteTime": {
     "end_time": "2022-03-29T09:49:07.676853Z",
     "start_time": "2022-03-29T09:13:22.223224Z"
    },
    "scrolled": true
   },
   "outputs": [
    {
     "name": "stdout",
     "output_type": "stream",
     "text": [
      "WARNING:tensorflow:From /home/u6188041/miniconda3/envs/ezfit_tf2/lib/python3.9/site-packages/tensorflow/python/ops/array_ops.py:5043: calling gather (from tensorflow.python.ops.array_ops) with validate_indices is deprecated and will be removed in a future version.\n",
      "Instructions for updating:\n",
      "The `validate_indices` argument has no effect. Indices are always validated on CPU and never validated on GPU.\n",
      "Epoch 1/150\n"
     ]
    },
    {
     "name": "stderr",
     "output_type": "stream",
     "text": [
      "2022-05-24 11:25:28.346713: I tensorflow/stream_executor/platform/default/dso_loader.cc:53] Successfully opened dynamic library libcublas.so.11\n"
     ]
    },
    {
     "name": "stdout",
     "output_type": "stream",
     "text": [
      "  1/342 [..............................] - ETA: 5:22 - loss: 1.4575 - accuracy: 0.2812"
     ]
    },
    {
     "name": "stderr",
     "output_type": "stream",
     "text": [
      "2022-05-24 11:25:28.658639: I tensorflow/stream_executor/platform/default/dso_loader.cc:53] Successfully opened dynamic library libcublasLt.so.11\n",
      "2022-05-24 11:25:28.746349: I tensorflow/core/profiler/lib/profiler_session.cc:126] Profiler session initializing.\n",
      "2022-05-24 11:25:28.746366: I tensorflow/core/profiler/lib/profiler_session.cc:141] Profiler session started.\n"
     ]
    },
    {
     "name": "stdout",
     "output_type": "stream",
     "text": [
      "  3/342 [..............................] - ETA: 1:18 - loss: 1.3882 - accuracy: 0.3750"
     ]
    },
    {
     "name": "stderr",
     "output_type": "stream",
     "text": [
      "2022-05-24 11:25:28.945015: I tensorflow/core/profiler/lib/profiler_session.cc:66] Profiler session collecting data.\n",
      "2022-05-24 11:25:28.945690: I tensorflow/core/profiler/internal/gpu/cupti_tracer.cc:1743] CUPTI activity buffer flushed\n",
      "2022-05-24 11:25:28.979211: I tensorflow/core/profiler/internal/gpu/cupti_collector.cc:673]  GpuTracer has collected 1132 callback api events and 1129 activity events. \n",
      "2022-05-24 11:25:29.002862: I tensorflow/core/profiler/lib/profiler_session.cc:159] Profiler session tear down.\n",
      "2022-05-24 11:25:29.041971: I tensorflow/core/profiler/rpc/client/save_profile.cc:137] Creating directory: Logs/train/plugins/profile/2022_05_24_11_25_29\n",
      "2022-05-24 11:25:29.072748: I tensorflow/core/profiler/rpc/client/save_profile.cc:143] Dumped gzipped tool data for trace.json.gz to Logs/train/plugins/profile/2022_05_24_11_25_29/jarvis.trace.json.gz\n",
      "2022-05-24 11:25:29.111460: I tensorflow/core/profiler/rpc/client/save_profile.cc:137] Creating directory: Logs/train/plugins/profile/2022_05_24_11_25_29\n",
      "2022-05-24 11:25:29.117393: I tensorflow/core/profiler/rpc/client/save_profile.cc:143] Dumped gzipped tool data for memory_profile.json.gz to Logs/train/plugins/profile/2022_05_24_11_25_29/jarvis.memory_profile.json.gz\n",
      "2022-05-24 11:25:29.118040: I tensorflow/core/profiler/rpc/client/capture_profile.cc:251] Creating directory: Logs/train/plugins/profile/2022_05_24_11_25_29Dumped tool data for xplane.pb to Logs/train/plugins/profile/2022_05_24_11_25_29/jarvis.xplane.pb\n",
      "Dumped tool data for overview_page.pb to Logs/train/plugins/profile/2022_05_24_11_25_29/jarvis.overview_page.pb\n",
      "Dumped tool data for input_pipeline.pb to Logs/train/plugins/profile/2022_05_24_11_25_29/jarvis.input_pipeline.pb\n",
      "Dumped tool data for tensorflow_stats.pb to Logs/train/plugins/profile/2022_05_24_11_25_29/jarvis.tensorflow_stats.pb\n",
      "Dumped tool data for kernel_stats.pb to Logs/train/plugins/profile/2022_05_24_11_25_29/jarvis.kernel_stats.pb\n",
      "\n"
     ]
    },
    {
     "name": "stdout",
     "output_type": "stream",
     "text": [
      "342/342 [==============================] - 9s 24ms/step - loss: 0.8297 - accuracy: 0.6445 - val_loss: 0.5843 - val_accuracy: 0.7903\n",
      "Epoch 2/150\n",
      "342/342 [==============================] - 5s 16ms/step - loss: 0.4963 - accuracy: 0.8165 - val_loss: 0.3969 - val_accuracy: 0.8528\n",
      "Epoch 3/150\n",
      "342/342 [==============================] - 5s 16ms/step - loss: 0.3950 - accuracy: 0.8581 - val_loss: 0.3698 - val_accuracy: 0.8865\n",
      "Epoch 4/150\n",
      "342/342 [==============================] - 6s 16ms/step - loss: 0.3342 - accuracy: 0.8820 - val_loss: 0.2637 - val_accuracy: 0.9186\n",
      "Epoch 5/150\n",
      "342/342 [==============================] - 6s 16ms/step - loss: 0.3024 - accuracy: 0.8936 - val_loss: 0.2805 - val_accuracy: 0.9104\n",
      "Epoch 6/150\n",
      "342/342 [==============================] - 6s 16ms/step - loss: 0.2850 - accuracy: 0.9025 - val_loss: 0.2207 - val_accuracy: 0.9326\n",
      "Epoch 7/150\n",
      "342/342 [==============================] - 5s 16ms/step - loss: 0.2617 - accuracy: 0.9108 - val_loss: 0.2143 - val_accuracy: 0.9350\n",
      "Epoch 8/150\n",
      "342/342 [==============================] - 5s 16ms/step - loss: 0.2441 - accuracy: 0.9187 - val_loss: 0.2028 - val_accuracy: 0.9383\n",
      "Epoch 9/150\n",
      "342/342 [==============================] - 5s 16ms/step - loss: 0.2293 - accuracy: 0.9202 - val_loss: 0.2118 - val_accuracy: 0.9408\n",
      "Epoch 10/150\n",
      "342/342 [==============================] - 5s 16ms/step - loss: 0.2265 - accuracy: 0.9249 - val_loss: 0.1951 - val_accuracy: 0.9400\n",
      "Epoch 11/150\n",
      "342/342 [==============================] - 6s 16ms/step - loss: 0.2331 - accuracy: 0.9232 - val_loss: 0.1759 - val_accuracy: 0.9457\n",
      "Epoch 12/150\n",
      "342/342 [==============================] - 6s 17ms/step - loss: 0.2036 - accuracy: 0.9308 - val_loss: 0.1802 - val_accuracy: 0.9424\n",
      "Epoch 13/150\n",
      "342/342 [==============================] - 6s 17ms/step - loss: 0.2026 - accuracy: 0.9332 - val_loss: 0.1791 - val_accuracy: 0.9457\n",
      "Epoch 14/150\n",
      "342/342 [==============================] - 6s 16ms/step - loss: 0.1860 - accuracy: 0.9385 - val_loss: 0.1819 - val_accuracy: 0.9433\n",
      "Epoch 15/150\n",
      "342/342 [==============================] - 6s 16ms/step - loss: 0.1840 - accuracy: 0.9368 - val_loss: 0.1541 - val_accuracy: 0.9531\n",
      "Epoch 16/150\n",
      "342/342 [==============================] - 6s 16ms/step - loss: 0.1533 - accuracy: 0.9468 - val_loss: 0.1668 - val_accuracy: 0.9449\n",
      "Epoch 17/150\n",
      "342/342 [==============================] - 6s 16ms/step - loss: 0.1587 - accuracy: 0.9440 - val_loss: 0.1385 - val_accuracy: 0.9531\n",
      "Epoch 18/150\n",
      "342/342 [==============================] - 6s 16ms/step - loss: 0.1470 - accuracy: 0.9487 - val_loss: 0.1394 - val_accuracy: 0.9515\n",
      "Epoch 19/150\n",
      "342/342 [==============================] - 6s 16ms/step - loss: 0.1693 - accuracy: 0.9438 - val_loss: 0.1377 - val_accuracy: 0.9581\n",
      "Epoch 20/150\n",
      "342/342 [==============================] - 5s 16ms/step - loss: 0.1422 - accuracy: 0.9519 - val_loss: 0.1283 - val_accuracy: 0.9556\n",
      "Epoch 21/150\n",
      "342/342 [==============================] - 6s 16ms/step - loss: 0.1339 - accuracy: 0.9538 - val_loss: 0.1236 - val_accuracy: 0.9622\n",
      "Epoch 22/150\n",
      "342/342 [==============================] - 5s 16ms/step - loss: 0.1495 - accuracy: 0.9477 - val_loss: 0.1539 - val_accuracy: 0.9531\n",
      "Epoch 23/150\n",
      "342/342 [==============================] - 6s 16ms/step - loss: 0.1273 - accuracy: 0.9556 - val_loss: 0.1321 - val_accuracy: 0.9539\n",
      "Epoch 24/150\n",
      "342/342 [==============================] - 5s 16ms/step - loss: 0.1262 - accuracy: 0.9546 - val_loss: 0.1128 - val_accuracy: 0.9613\n",
      "Epoch 25/150\n",
      "342/342 [==============================] - 5s 16ms/step - loss: 0.1208 - accuracy: 0.9570 - val_loss: 0.1212 - val_accuracy: 0.9605\n",
      "Epoch 26/150\n",
      "342/342 [==============================] - 5s 16ms/step - loss: 0.1430 - accuracy: 0.9538 - val_loss: 0.1258 - val_accuracy: 0.9539\n",
      "Epoch 27/150\n",
      "342/342 [==============================] - 6s 16ms/step - loss: 0.1162 - accuracy: 0.9610 - val_loss: 0.1021 - val_accuracy: 0.9688\n",
      "Epoch 28/150\n",
      "342/342 [==============================] - 5s 16ms/step - loss: 0.1498 - accuracy: 0.9512 - val_loss: 0.1643 - val_accuracy: 0.9490\n",
      "Epoch 29/150\n",
      "342/342 [==============================] - 5s 16ms/step - loss: 0.1272 - accuracy: 0.9572 - val_loss: 0.1080 - val_accuracy: 0.9622\n",
      "Epoch 30/150\n",
      "342/342 [==============================] - 5s 16ms/step - loss: 0.0989 - accuracy: 0.9660 - val_loss: 0.0989 - val_accuracy: 0.9679\n",
      "Epoch 31/150\n",
      "342/342 [==============================] - 5s 16ms/step - loss: 0.1109 - accuracy: 0.9601 - val_loss: 0.0917 - val_accuracy: 0.9679\n",
      "Epoch 32/150\n",
      "342/342 [==============================] - 6s 16ms/step - loss: 0.1160 - accuracy: 0.9613 - val_loss: 0.1032 - val_accuracy: 0.9638\n",
      "Epoch 33/150\n",
      "342/342 [==============================] - 6s 16ms/step - loss: 0.1048 - accuracy: 0.9643 - val_loss: 0.1096 - val_accuracy: 0.9613\n",
      "Epoch 34/150\n",
      "342/342 [==============================] - 5s 16ms/step - loss: 0.1058 - accuracy: 0.9630 - val_loss: 0.1002 - val_accuracy: 0.9679\n",
      "Epoch 35/150\n",
      "342/342 [==============================] - 6s 16ms/step - loss: 0.0945 - accuracy: 0.9684 - val_loss: 0.0918 - val_accuracy: 0.9688\n",
      "Epoch 36/150\n",
      "342/342 [==============================] - 5s 16ms/step - loss: 0.1068 - accuracy: 0.9644 - val_loss: 0.0984 - val_accuracy: 0.9613\n",
      "Epoch 37/150\n",
      "342/342 [==============================] - 5s 16ms/step - loss: 0.0939 - accuracy: 0.9670 - val_loss: 0.0810 - val_accuracy: 0.9696\n",
      "Epoch 38/150\n",
      "342/342 [==============================] - 5s 16ms/step - loss: 0.0880 - accuracy: 0.9692 - val_loss: 0.0819 - val_accuracy: 0.9729\n",
      "Epoch 39/150\n",
      "342/342 [==============================] - 6s 16ms/step - loss: 0.0861 - accuracy: 0.9700 - val_loss: 0.0849 - val_accuracy: 0.9696\n",
      "Epoch 40/150\n",
      "342/342 [==============================] - 6s 16ms/step - loss: 0.1075 - accuracy: 0.9627 - val_loss: 0.1119 - val_accuracy: 0.9581\n",
      "Epoch 41/150\n",
      "342/342 [==============================] - 6s 16ms/step - loss: 0.0898 - accuracy: 0.9694 - val_loss: 0.0823 - val_accuracy: 0.9688\n",
      "Epoch 42/150\n",
      "342/342 [==============================] - 6s 16ms/step - loss: 0.1044 - accuracy: 0.9632 - val_loss: 0.1020 - val_accuracy: 0.9655\n",
      "Epoch 43/150\n",
      "342/342 [==============================] - 6s 16ms/step - loss: 0.0838 - accuracy: 0.9719 - val_loss: 0.0790 - val_accuracy: 0.9729\n",
      "Epoch 44/150\n",
      "342/342 [==============================] - 6s 16ms/step - loss: 0.0907 - accuracy: 0.9671 - val_loss: 0.0845 - val_accuracy: 0.9655\n",
      "Epoch 45/150\n",
      "342/342 [==============================] - 5s 16ms/step - loss: 0.0805 - accuracy: 0.9712 - val_loss: 0.0647 - val_accuracy: 0.9770\n",
      "Epoch 46/150\n",
      "342/342 [==============================] - 6s 16ms/step - loss: 0.0790 - accuracy: 0.9750 - val_loss: 0.0838 - val_accuracy: 0.9688\n",
      "Epoch 47/150\n",
      "342/342 [==============================] - 6s 16ms/step - loss: 0.0935 - accuracy: 0.9685 - val_loss: 0.0786 - val_accuracy: 0.9712\n",
      "Epoch 48/150\n",
      "342/342 [==============================] - 6s 16ms/step - loss: 0.0842 - accuracy: 0.9712 - val_loss: 0.0660 - val_accuracy: 0.9753\n",
      "Epoch 49/150\n",
      "342/342 [==============================] - 6s 16ms/step - loss: 0.0685 - accuracy: 0.9773 - val_loss: 0.0549 - val_accuracy: 0.9827\n",
      "Epoch 50/150\n",
      "342/342 [==============================] - 6s 16ms/step - loss: 0.0709 - accuracy: 0.9754 - val_loss: 0.0632 - val_accuracy: 0.9794\n",
      "Epoch 51/150\n",
      "342/342 [==============================] - 6s 16ms/step - loss: 0.0695 - accuracy: 0.9758 - val_loss: 0.0541 - val_accuracy: 0.9794\n",
      "Epoch 52/150\n",
      "342/342 [==============================] - 5s 16ms/step - loss: 0.0814 - accuracy: 0.9722 - val_loss: 0.0573 - val_accuracy: 0.9794\n",
      "Epoch 53/150\n",
      "342/342 [==============================] - 6s 16ms/step - loss: 0.0711 - accuracy: 0.9755 - val_loss: 0.0501 - val_accuracy: 0.9803\n",
      "Epoch 54/150\n",
      "342/342 [==============================] - 5s 16ms/step - loss: 0.0661 - accuracy: 0.9771 - val_loss: 0.0648 - val_accuracy: 0.9770\n",
      "Epoch 55/150\n",
      "342/342 [==============================] - 5s 16ms/step - loss: 0.0639 - accuracy: 0.9772 - val_loss: 0.0512 - val_accuracy: 0.9803\n",
      "Epoch 56/150\n",
      "342/342 [==============================] - 5s 16ms/step - loss: 0.0894 - accuracy: 0.9718 - val_loss: 0.0996 - val_accuracy: 0.9622\n",
      "Epoch 57/150\n",
      "342/342 [==============================] - 6s 16ms/step - loss: 0.0650 - accuracy: 0.9770 - val_loss: 0.0524 - val_accuracy: 0.9819\n",
      "Epoch 58/150\n",
      "342/342 [==============================] - 6s 16ms/step - loss: 0.0590 - accuracy: 0.9787 - val_loss: 0.0441 - val_accuracy: 0.9827\n",
      "Epoch 59/150\n",
      "342/342 [==============================] - 6s 16ms/step - loss: 0.0576 - accuracy: 0.9802 - val_loss: 0.0500 - val_accuracy: 0.9811\n",
      "Epoch 60/150\n",
      "342/342 [==============================] - 6s 16ms/step - loss: 0.0536 - accuracy: 0.9814 - val_loss: 0.0507 - val_accuracy: 0.9836\n",
      "Epoch 61/150\n",
      "342/342 [==============================] - 6s 16ms/step - loss: 0.0738 - accuracy: 0.9746 - val_loss: 0.0881 - val_accuracy: 0.9696\n",
      "Epoch 62/150\n",
      "342/342 [==============================] - 5s 16ms/step - loss: 0.0690 - accuracy: 0.9778 - val_loss: 0.1691 - val_accuracy: 0.9474\n",
      "Epoch 63/150\n",
      "342/342 [==============================] - 6s 16ms/step - loss: 0.0871 - accuracy: 0.9701 - val_loss: 0.0503 - val_accuracy: 0.9819\n",
      "Epoch 64/150\n",
      "342/342 [==============================] - 5s 16ms/step - loss: 0.0502 - accuracy: 0.9832 - val_loss: 0.0492 - val_accuracy: 0.9836\n",
      "Epoch 65/150\n",
      "342/342 [==============================] - 6s 16ms/step - loss: 0.0609 - accuracy: 0.9796 - val_loss: 0.0672 - val_accuracy: 0.9770\n",
      "Epoch 66/150\n",
      "342/342 [==============================] - 6s 16ms/step - loss: 0.0688 - accuracy: 0.9761 - val_loss: 0.0538 - val_accuracy: 0.9778\n",
      "Epoch 67/150\n",
      "342/342 [==============================] - 5s 16ms/step - loss: 0.0526 - accuracy: 0.9813 - val_loss: 0.0569 - val_accuracy: 0.9803\n",
      "Epoch 68/150\n",
      "342/342 [==============================] - 6s 16ms/step - loss: 0.0469 - accuracy: 0.9841 - val_loss: 0.0531 - val_accuracy: 0.9811\n",
      "Epoch 69/150\n",
      "342/342 [==============================] - 5s 16ms/step - loss: 0.0526 - accuracy: 0.9820 - val_loss: 0.0403 - val_accuracy: 0.9860\n",
      "Epoch 70/150\n",
      "342/342 [==============================] - 6s 16ms/step - loss: 0.0431 - accuracy: 0.9854 - val_loss: 0.0561 - val_accuracy: 0.9803\n",
      "Epoch 71/150\n",
      "342/342 [==============================] - 6s 16ms/step - loss: 0.0873 - accuracy: 0.9732 - val_loss: 0.1077 - val_accuracy: 0.9581\n",
      "Epoch 72/150\n",
      "342/342 [==============================] - 6s 16ms/step - loss: 0.0642 - accuracy: 0.9803 - val_loss: 0.0411 - val_accuracy: 0.9836\n",
      "Epoch 73/150\n",
      "342/342 [==============================] - 6s 16ms/step - loss: 0.0614 - accuracy: 0.9782 - val_loss: 0.0611 - val_accuracy: 0.9786\n",
      "Epoch 74/150\n",
      "342/342 [==============================] - 6s 16ms/step - loss: 0.0457 - accuracy: 0.9846 - val_loss: 0.0623 - val_accuracy: 0.9762\n",
      "Epoch 75/150\n",
      "342/342 [==============================] - 6s 16ms/step - loss: 0.0473 - accuracy: 0.9826 - val_loss: 0.0396 - val_accuracy: 0.9868\n",
      "Epoch 76/150\n",
      "342/342 [==============================] - 6s 16ms/step - loss: 0.0483 - accuracy: 0.9830 - val_loss: 0.0503 - val_accuracy: 0.9819\n",
      "Epoch 77/150\n",
      "342/342 [==============================] - 6s 16ms/step - loss: 0.0417 - accuracy: 0.9863 - val_loss: 0.0430 - val_accuracy: 0.9836\n",
      "Epoch 78/150\n",
      "342/342 [==============================] - 5s 16ms/step - loss: 0.0462 - accuracy: 0.9835 - val_loss: 0.0424 - val_accuracy: 0.9860\n",
      "Epoch 79/150\n",
      "342/342 [==============================] - 6s 16ms/step - loss: 0.0453 - accuracy: 0.9846 - val_loss: 0.0530 - val_accuracy: 0.9803\n",
      "Epoch 80/150\n",
      "342/342 [==============================] - 6s 16ms/step - loss: 0.0510 - accuracy: 0.9814 - val_loss: 0.1177 - val_accuracy: 0.9539\n",
      "Epoch 81/150\n",
      "342/342 [==============================] - 5s 16ms/step - loss: 0.0475 - accuracy: 0.9845 - val_loss: 0.0500 - val_accuracy: 0.9811\n",
      "Epoch 82/150\n",
      "342/342 [==============================] - 6s 16ms/step - loss: 0.0405 - accuracy: 0.9855 - val_loss: 0.0441 - val_accuracy: 0.9836\n",
      "Epoch 83/150\n",
      "342/342 [==============================] - 6s 16ms/step - loss: 0.0451 - accuracy: 0.9846 - val_loss: 0.0505 - val_accuracy: 0.9844\n",
      "Epoch 84/150\n",
      "342/342 [==============================] - 6s 16ms/step - loss: 0.0442 - accuracy: 0.9841 - val_loss: 0.0461 - val_accuracy: 0.9827\n",
      "Epoch 85/150\n",
      "342/342 [==============================] - 6s 16ms/step - loss: 0.0551 - accuracy: 0.9814 - val_loss: 0.0419 - val_accuracy: 0.9827\n",
      "Epoch 86/150\n",
      "342/342 [==============================] - 6s 16ms/step - loss: 0.0519 - accuracy: 0.9821 - val_loss: 0.0372 - val_accuracy: 0.9860\n",
      "Epoch 87/150\n",
      "342/342 [==============================] - 5s 16ms/step - loss: 0.0363 - accuracy: 0.9867 - val_loss: 0.0366 - val_accuracy: 0.9877\n",
      "Epoch 88/150\n",
      "342/342 [==============================] - 6s 16ms/step - loss: 0.0445 - accuracy: 0.9846 - val_loss: 0.0449 - val_accuracy: 0.9819\n",
      "Epoch 89/150\n",
      "342/342 [==============================] - 6s 16ms/step - loss: 0.0508 - accuracy: 0.9852 - val_loss: 0.0317 - val_accuracy: 0.9893\n",
      "Epoch 90/150\n",
      "342/342 [==============================] - 6s 16ms/step - loss: 0.0402 - accuracy: 0.9861 - val_loss: 0.0333 - val_accuracy: 0.9877\n",
      "Epoch 91/150\n",
      "342/342 [==============================] - 6s 16ms/step - loss: 0.0400 - accuracy: 0.9860 - val_loss: 0.0381 - val_accuracy: 0.9844\n",
      "Epoch 92/150\n",
      "342/342 [==============================] - 6s 16ms/step - loss: 0.0387 - accuracy: 0.9858 - val_loss: 0.0285 - val_accuracy: 0.9885\n",
      "Epoch 93/150\n",
      "342/342 [==============================] - 6s 16ms/step - loss: 0.0374 - accuracy: 0.9869 - val_loss: 0.0400 - val_accuracy: 0.9852\n",
      "Epoch 94/150\n",
      "342/342 [==============================] - 6s 16ms/step - loss: 0.0354 - accuracy: 0.9880 - val_loss: 0.0319 - val_accuracy: 0.9893\n",
      "Epoch 95/150\n",
      "342/342 [==============================] - 6s 17ms/step - loss: 0.0464 - accuracy: 0.9830 - val_loss: 0.0435 - val_accuracy: 0.9827\n",
      "Epoch 96/150\n",
      "342/342 [==============================] - 5s 16ms/step - loss: 0.0306 - accuracy: 0.9890 - val_loss: 0.0450 - val_accuracy: 0.9827\n",
      "Epoch 97/150\n",
      "342/342 [==============================] - 6s 16ms/step - loss: 0.0351 - accuracy: 0.9878 - val_loss: 0.0607 - val_accuracy: 0.9811\n",
      "Epoch 98/150\n",
      "342/342 [==============================] - 6s 16ms/step - loss: 0.0516 - accuracy: 0.9832 - val_loss: 0.0347 - val_accuracy: 0.9901\n",
      "Epoch 99/150\n",
      "342/342 [==============================] - 6s 16ms/step - loss: 0.0446 - accuracy: 0.9857 - val_loss: 0.0344 - val_accuracy: 0.9868\n",
      "Epoch 100/150\n",
      "342/342 [==============================] - 5s 16ms/step - loss: 0.0334 - accuracy: 0.9892 - val_loss: 0.0390 - val_accuracy: 0.9844\n",
      "Epoch 101/150\n",
      "342/342 [==============================] - 6s 16ms/step - loss: 0.0349 - accuracy: 0.9877 - val_loss: 0.0356 - val_accuracy: 0.9868\n",
      "Epoch 102/150\n",
      "342/342 [==============================] - 6s 16ms/step - loss: 0.0352 - accuracy: 0.9877 - val_loss: 0.0369 - val_accuracy: 0.9877\n",
      "Epoch 103/150\n",
      "342/342 [==============================] - 6s 16ms/step - loss: 0.0318 - accuracy: 0.9893 - val_loss: 0.0305 - val_accuracy: 0.9868\n",
      "Epoch 104/150\n",
      "342/342 [==============================] - 6s 16ms/step - loss: 0.0328 - accuracy: 0.9877 - val_loss: 0.0340 - val_accuracy: 0.9868\n",
      "Epoch 105/150\n",
      "342/342 [==============================] - 6s 16ms/step - loss: 0.0371 - accuracy: 0.9867 - val_loss: 0.0462 - val_accuracy: 0.9844\n",
      "Epoch 106/150\n",
      "342/342 [==============================] - 6s 16ms/step - loss: 0.0273 - accuracy: 0.9899 - val_loss: 0.3255 - val_accuracy: 0.9860\n",
      "Epoch 107/150\n",
      "342/342 [==============================] - 6s 16ms/step - loss: 0.3844 - accuracy: 0.9159 - val_loss: 0.2116 - val_accuracy: 0.9186\n"
     ]
    },
    {
     "data": {
      "text/plain": [
       "<tensorflow.python.keras.callbacks.History at 0x7f81901fdd60>"
      ]
     },
     "execution_count": 34,
     "metadata": {},
     "output_type": "execute_result"
    }
   ],
   "source": [
    "model.fit(train_ds, \n",
    "          validation_data=test_ds, \n",
    "          epochs=EPOCHS, \n",
    "          callbacks=[early_stopping, tb_callback],\n",
    "          class_weight=class_weights)"
   ]
  },
  {
   "cell_type": "markdown",
   "id": "62324739-1901-44bf-b7e4-ca927ec085a1",
   "metadata": {},
   "source": [
    "---"
   ]
  },
  {
   "cell_type": "markdown",
   "id": "81d1bda8",
   "metadata": {},
   "source": [
    "# Setup all dirs"
   ]
  },
  {
   "cell_type": "code",
   "execution_count": 35,
   "id": "4c948a7e",
   "metadata": {
    "ExecuteTime": {
     "end_time": "2022-03-29T09:49:07.691853Z",
     "start_time": "2022-03-29T09:49:07.679856Z"
    }
   },
   "outputs": [],
   "source": [
    "import os"
   ]
  },
  {
   "cell_type": "code",
   "execution_count": 36,
   "id": "432a01e9",
   "metadata": {
    "ExecuteTime": {
     "end_time": "2022-03-29T09:49:07.706864Z",
     "start_time": "2022-03-29T09:49:07.693855Z"
    }
   },
   "outputs": [],
   "source": [
    "all_dirs = []\n",
    "model_dir = f'saved_models/len_{SEQ_LEN}/round_{ROUND}/{EXERCISE}/'\n",
    "all_dirs.append(model_dir)\n",
    "pickle_dir = f'saved_pickles/len_{SEQ_LEN}/round_{ROUND}/{EXERCISE}/'\n",
    "all_dirs.append(pickle_dir)\n",
    "output_vid_dir = f'output_videos/len_{SEQ_LEN}/round_{ROUND}/{EXERCISE}/'\n",
    "all_dirs.append(output_vid_dir)"
   ]
  },
  {
   "cell_type": "code",
   "execution_count": 37,
   "id": "8f96629c",
   "metadata": {
    "ExecuteTime": {
     "end_time": "2022-03-29T09:49:07.722854Z",
     "start_time": "2022-03-29T09:49:07.708853Z"
    }
   },
   "outputs": [],
   "source": [
    "for d in all_dirs:\n",
    "    if not os.path.exists(d):\n",
    "        os.makedirs(d, exist_ok=True)"
   ]
  },
  {
   "cell_type": "markdown",
   "id": "77035020",
   "metadata": {},
   "source": [
    "# Save model"
   ]
  },
  {
   "cell_type": "code",
   "execution_count": 38,
   "id": "a8b67dad",
   "metadata": {
    "ExecuteTime": {
     "end_time": "2022-03-29T09:49:07.798853Z",
     "start_time": "2022-03-29T09:49:07.724854Z"
    }
   },
   "outputs": [],
   "source": [
    "model.save(f'saved_models/len_{SEQ_LEN}/round_{ROUND}/{EXERCISE}/{EXERCISE}_kps_seq.h5', save_format='h5')"
   ]
  },
  {
   "cell_type": "code",
   "execution_count": 39,
   "id": "b47863e0",
   "metadata": {
    "ExecuteTime": {
     "end_time": "2022-03-29T09:49:07.813861Z",
     "start_time": "2022-03-29T09:49:07.799855Z"
    }
   },
   "outputs": [],
   "source": [
    "# serialize lb\n",
    "with open(f'saved_pickles/len_{SEQ_LEN}/round_{ROUND}/{EXERCISE}/{EXERCISE}_kps_seq_le.pickle', 'wb') as file:\n",
    "    pickle.dump(le, file)"
   ]
  },
  {
   "cell_type": "code",
   "execution_count": 40,
   "id": "78476bd8",
   "metadata": {
    "ExecuteTime": {
     "end_time": "2022-03-29T09:49:07.829852Z",
     "start_time": "2022-03-29T09:49:07.815855Z"
    }
   },
   "outputs": [],
   "source": [
    "# command to run tensorboard\n",
    "# first, going logs directory then,\n",
    "# tensorboard --logdir=."
   ]
  },
  {
   "cell_type": "markdown",
   "id": "e0745657",
   "metadata": {},
   "source": [
    "# Evaluation"
   ]
  },
  {
   "cell_type": "code",
   "execution_count": 41,
   "id": "94735ac7",
   "metadata": {
    "ExecuteTime": {
     "end_time": "2022-03-29T09:49:08.551854Z",
     "start_time": "2022-03-29T09:49:07.831855Z"
    },
    "tags": []
   },
   "outputs": [
    {
     "data": {
      "text/plain": [
       "array([1, 2, 1, ..., 2, 3, 0])"
      ]
     },
     "execution_count": 41,
     "metadata": {},
     "output_type": "execute_result"
    }
   ],
   "source": [
    "raw_preds_y = model.predict(test_ds)\n",
    "preds_y = np.argmax(raw_preds_y, axis=1)\n",
    "preds_y"
   ]
  },
  {
   "cell_type": "code",
   "execution_count": 42,
   "id": "7eb05264",
   "metadata": {
    "ExecuteTime": {
     "end_time": "2022-03-29T09:49:08.597853Z",
     "start_time": "2022-03-29T09:49:08.553855Z"
    },
    "tags": []
   },
   "outputs": [
    {
     "data": {
      "text/plain": [
       "array([1, 2, 1, ..., 2, 3, 0])"
      ]
     },
     "execution_count": 42,
     "metadata": {},
     "output_type": "execute_result"
    }
   ],
   "source": [
    "# get y label back from tf.data\n",
    "raw_test_y = np.concatenate([y for x, y in test_ds], axis=0)\n",
    "test_y = np.argmax(raw_test_y, axis=1)\n",
    "test_y"
   ]
  },
  {
   "cell_type": "code",
   "execution_count": 43,
   "id": "dd672d6b",
   "metadata": {
    "ExecuteTime": {
     "end_time": "2022-03-29T09:49:08.612862Z",
     "start_time": "2022-03-29T09:49:08.599854Z"
    }
   },
   "outputs": [],
   "source": [
    "test_y_text = le.inverse_transform(test_y)\n",
    "preds_y_text = le.inverse_transform(preds_y)"
   ]
  },
  {
   "cell_type": "markdown",
   "id": "7d9a5774",
   "metadata": {},
   "source": [
    "### Accuracy"
   ]
  },
  {
   "cell_type": "code",
   "execution_count": 44,
   "id": "4fc361ea",
   "metadata": {
    "ExecuteTime": {
     "end_time": "2022-03-29T09:49:09.196856Z",
     "start_time": "2022-03-29T09:49:08.614854Z"
    }
   },
   "outputs": [
    {
     "name": "stdout",
     "output_type": "stream",
     "text": [
      "38/38 [==============================] - 0s 4ms/step - loss: 0.0285 - accuracy: 0.9885\n",
      "Test accuracy: 0.9884868264198303\n"
     ]
    }
   ],
   "source": [
    "# better result with weight decay and patience = 7\n",
    "_, acc = model.evaluate(test_ds)\n",
    "print('Test accuracy:', acc)"
   ]
  },
  {
   "cell_type": "markdown",
   "id": "d293db24",
   "metadata": {
    "tags": []
   },
   "source": [
    "### Confusion Matrix"
   ]
  },
  {
   "cell_type": "code",
   "execution_count": 45,
   "id": "500e6f75",
   "metadata": {
    "ExecuteTime": {
     "end_time": "2022-03-29T09:49:09.212852Z",
     "start_time": "2022-03-29T09:49:09.198856Z"
    }
   },
   "outputs": [],
   "source": [
    "from sklearn.metrics import confusion_matrix, ConfusionMatrixDisplay"
   ]
  },
  {
   "cell_type": "code",
   "execution_count": 46,
   "id": "6c7141fd",
   "metadata": {
    "ExecuteTime": {
     "end_time": "2022-03-29T09:49:09.228853Z",
     "start_time": "2022-03-29T09:49:09.214854Z"
    }
   },
   "outputs": [],
   "source": [
    "cm = confusion_matrix(test_y_text, preds_y_text, labels=le.classes_)\n",
    "disp = ConfusionMatrixDisplay(confusion_matrix=cm,\n",
    "                              display_labels=le.classes_)"
   ]
  },
  {
   "cell_type": "code",
   "execution_count": 47,
   "id": "9c46aa89-cffe-459a-a761-760d28691b04",
   "metadata": {},
   "outputs": [],
   "source": [
    "save_cm = f'saved_artifacts/conf_matrix/len_{SEQ_LEN}/round_{ROUND}/{EXERCISE}'\n",
    "if not os.path.exists(save_cm):\n",
    "    os.makedirs(save_cm, exist_ok=True)"
   ]
  },
  {
   "cell_type": "code",
   "execution_count": 48,
   "id": "6e2884f2",
   "metadata": {
    "ExecuteTime": {
     "end_time": "2022-03-29T09:49:09.585914Z",
     "start_time": "2022-03-29T09:49:09.230855Z"
    }
   },
   "outputs": [
    {
     "data": {
      "image/png": "[encoded data removed]",
      "text/plain": [
       "<Figure size 432x288 with 2 Axes>"
      ]
     },
     "metadata": {
      "needs_background": "light"
     },
     "output_type": "display_data"
    }
   ],
   "source": [
    "disp.plot()\n",
    "plt.savefig(os.path.join(save_cm, 'kps_seq_cm.png'), dpi=300)\n",
    "plt.show()"
   ]
  },
  {
   "cell_type": "markdown",
   "id": "d3cc8566",
   "metadata": {},
   "source": [
    "### ROC AUC"
   ]
  },
  {
   "cell_type": "code",
   "execution_count": 49,
   "id": "970a85d2",
   "metadata": {
    "ExecuteTime": {
     "end_time": "2022-03-29T09:49:09.600881Z",
     "start_time": "2022-03-29T09:49:09.587855Z"
    }
   },
   "outputs": [],
   "source": [
    "from sklearn.metrics import roc_auc_score"
   ]
  },
  {
   "cell_type": "code",
   "execution_count": 50,
   "id": "10397e2c",
   "metadata": {
    "ExecuteTime": {
     "end_time": "2022-03-29T09:49:09.616945Z",
     "start_time": "2022-03-29T09:49:09.602857Z"
    }
   },
   "outputs": [
    {
     "data": {
      "text/plain": [
       "0.9996907224220974"
      ]
     },
     "execution_count": 50,
     "metadata": {},
     "output_type": "execute_result"
    }
   ],
   "source": [
    "roc_auc_score(raw_test_y, raw_preds_y)"
   ]
  },
  {
   "cell_type": "markdown",
   "id": "1ec0cc3f",
   "metadata": {},
   "source": [
    "# Detect in realtime"
   ]
  },
  {
   "cell_type": "code",
   "execution_count": 5,
   "id": "0727861c",
   "metadata": {
    "ExecuteTime": {
     "end_time": "2022-03-22T01:49:03.634475Z",
     "start_time": "2022-03-22T01:49:03.406478Z"
    }
   },
   "outputs": [
    {
     "name": "stdout",
     "output_type": "stream",
     "text": [
      "WARNING:tensorflow:Layer lstm will not use cuDNN kernels since it doesn't meet the criteria. It will use a generic GPU kernel as fallback when running on GPU.\n"
     ]
    },
    {
     "name": "stderr",
     "output_type": "stream",
     "text": [
      "2022-05-24 12:07:42.658132: I tensorflow/stream_executor/platform/default/dso_loader.cc:53] Successfully opened dynamic library libcuda.so.1\n",
      "2022-05-24 12:07:42.731301: I tensorflow/stream_executor/cuda/cuda_gpu_executor.cc:937] successful NUMA node read from SysFS had negative value (-1), but there must be at least one NUMA node, so returning NUMA node zero\n",
      "2022-05-24 12:07:42.731825: I tensorflow/core/common_runtime/gpu/gpu_device.cc:1733] Found device 0 with properties: \n",
      "pciBusID: 0000:04:00.0 name: GeForce RTX 2080 SUPER computeCapability: 7.5\n",
      "coreClock: 1.845GHz coreCount: 48 deviceMemorySize: 7.79GiB deviceMemoryBandwidth: 462.00GiB/s\n",
      "2022-05-24 12:07:42.731840: I tensorflow/stream_executor/platform/default/dso_loader.cc:53] Successfully opened dynamic library libcudart.so.11.0\n",
      "2022-05-24 12:07:42.733220: I tensorflow/stream_executor/platform/default/dso_loader.cc:53] Successfully opened dynamic library libcublas.so.11\n",
      "2022-05-24 12:07:42.733243: I tensorflow/stream_executor/platform/default/dso_loader.cc:53] Successfully opened dynamic library libcublasLt.so.11\n",
      "2022-05-24 12:07:42.733763: I tensorflow/stream_executor/platform/default/dso_loader.cc:53] Successfully opened dynamic library libcufft.so.10\n",
      "2022-05-24 12:07:42.733889: I tensorflow/stream_executor/platform/default/dso_loader.cc:53] Successfully opened dynamic library libcurand.so.10\n",
      "2022-05-24 12:07:42.735270: I tensorflow/stream_executor/platform/default/dso_loader.cc:53] Successfully opened dynamic library libcusolver.so.11\n",
      "2022-05-24 12:07:42.735620: I tensorflow/stream_executor/platform/default/dso_loader.cc:53] Successfully opened dynamic library libcusparse.so.11\n",
      "2022-05-24 12:07:42.735694: I tensorflow/stream_executor/platform/default/dso_loader.cc:53] Successfully opened dynamic library libcudnn.so.8\n",
      "2022-05-24 12:07:42.735778: I tensorflow/stream_executor/cuda/cuda_gpu_executor.cc:937] successful NUMA node read from SysFS had negative value (-1), but there must be at least one NUMA node, so returning NUMA node zero\n",
      "2022-05-24 12:07:42.736316: I tensorflow/stream_executor/cuda/cuda_gpu_executor.cc:937] successful NUMA node read from SysFS had negative value (-1), but there must be at least one NUMA node, so returning NUMA node zero\n",
      "2022-05-24 12:07:42.736791: I tensorflow/core/common_runtime/gpu/gpu_device.cc:1871] Adding visible gpu devices: 0\n",
      "2022-05-24 12:07:42.737658: I tensorflow/core/platform/cpu_feature_guard.cc:142] This TensorFlow binary is optimized with oneAPI Deep Neural Network Library (oneDNN) to use the following CPU instructions in performance-critical operations:  AVX2 FMA\n",
      "To enable them in other operations, rebuild TensorFlow with the appropriate compiler flags.\n",
      "2022-05-24 12:07:42.738548: I tensorflow/stream_executor/cuda/cuda_gpu_executor.cc:937] successful NUMA node read from SysFS had negative value (-1), but there must be at least one NUMA node, so returning NUMA node zero\n",
      "2022-05-24 12:07:42.739043: I tensorflow/core/common_runtime/gpu/gpu_device.cc:1733] Found device 0 with properties: \n",
      "pciBusID: 0000:04:00.0 name: GeForce RTX 2080 SUPER computeCapability: 7.5\n",
      "coreClock: 1.845GHz coreCount: 48 deviceMemorySize: 7.79GiB deviceMemoryBandwidth: 462.00GiB/s\n",
      "2022-05-24 12:07:42.739087: I tensorflow/stream_executor/cuda/cuda_gpu_executor.cc:937] successful NUMA node read from SysFS had negative value (-1), but there must be at least one NUMA node, so returning NUMA node zero\n",
      "2022-05-24 12:07:42.739593: I tensorflow/stream_executor/cuda/cuda_gpu_executor.cc:937] successful NUMA node read from SysFS had negative value (-1), but there must be at least one NUMA node, so returning NUMA node zero\n",
      "2022-05-24 12:07:42.740065: I tensorflow/core/common_runtime/gpu/gpu_device.cc:1871] Adding visible gpu devices: 0\n",
      "2022-05-24 12:07:42.740089: I tensorflow/stream_executor/platform/default/dso_loader.cc:53] Successfully opened dynamic library libcudart.so.11.0\n",
      "2022-05-24 12:07:43.102352: I tensorflow/core/common_runtime/gpu/gpu_device.cc:1258] Device interconnect StreamExecutor with strength 1 edge matrix:\n",
      "2022-05-24 12:07:43.102379: I tensorflow/core/common_runtime/gpu/gpu_device.cc:1264]      0 \n",
      "2022-05-24 12:07:43.102384: I tensorflow/core/common_runtime/gpu/gpu_device.cc:1277] 0:   N \n",
      "2022-05-24 12:07:43.102565: I tensorflow/stream_executor/cuda/cuda_gpu_executor.cc:937] successful NUMA node read from SysFS had negative value (-1), but there must be at least one NUMA node, so returning NUMA node zero\n",
      "2022-05-24 12:07:43.103091: I tensorflow/stream_executor/cuda/cuda_gpu_executor.cc:937] successful NUMA node read from SysFS had negative value (-1), but there must be at least one NUMA node, so returning NUMA node zero\n",
      "2022-05-24 12:07:43.103588: I tensorflow/stream_executor/cuda/cuda_gpu_executor.cc:937] successful NUMA node read from SysFS had negative value (-1), but there must be at least one NUMA node, so returning NUMA node zero\n",
      "2022-05-24 12:07:43.104064: I tensorflow/core/common_runtime/gpu/gpu_device.cc:1418] Created TensorFlow device (/job:localhost/replica:0/task:0/device:GPU:0 with 6589 MB memory) -> physical GPU (device: 0, name: GeForce RTX 2080 SUPER, pci bus id: 0000:04:00.0, compute capability: 7.5)\n"
     ]
    }
   ],
   "source": [
    "loaded_model = tf.keras.models.load_model(f'saved_models/len_{SEQ_LEN}/round_{ROUND}/{EXERCISE}/{EXERCISE}_kps_seq.h5')"
   ]
  },
  {
   "cell_type": "code",
   "execution_count": 6,
   "id": "9def26ad",
   "metadata": {
    "ExecuteTime": {
     "end_time": "2022-03-22T01:49:03.649474Z",
     "start_time": "2022-03-22T01:49:03.635479Z"
    }
   },
   "outputs": [
    {
     "data": {
      "text/plain": [
       "[<KerasTensor: shape=(None, 16, 99) dtype=float32 (created by layer 'lstm_input')>]"
      ]
     },
     "execution_count": 6,
     "metadata": {},
     "output_type": "execute_result"
    }
   ],
   "source": [
    "loaded_model.inputs"
   ]
  },
  {
   "cell_type": "code",
   "execution_count": 7,
   "id": "36300476",
   "metadata": {
    "ExecuteTime": {
     "end_time": "2022-03-22T01:49:03.665475Z",
     "start_time": "2022-03-22T01:49:03.651479Z"
    }
   },
   "outputs": [
    {
     "data": {
      "text/plain": [
       "[<KerasTensor: shape=(None, 4) dtype=float32 (created by layer 'dense_3')>]"
      ]
     },
     "execution_count": 7,
     "metadata": {},
     "output_type": "execute_result"
    }
   ],
   "source": [
    "loaded_model.outputs"
   ]
  },
  {
   "cell_type": "code",
   "execution_count": 8,
   "id": "b6ce40ac",
   "metadata": {
    "ExecuteTime": {
     "end_time": "2022-03-22T01:49:03.680476Z",
     "start_time": "2022-03-22T01:49:03.667476Z"
    }
   },
   "outputs": [],
   "source": [
    "# load le\n",
    "with open(f'saved_pickles/len_{SEQ_LEN}/round_{ROUND}/{EXERCISE}/{EXERCISE}_kps_seq_le.pickle', 'rb') as file:\n",
    "    loaded_le = pickle.load(file)"
   ]
  },
  {
   "cell_type": "code",
   "execution_count": 9,
   "id": "dd702001",
   "metadata": {
    "ExecuteTime": {
     "end_time": "2022-03-22T01:49:03.695477Z",
     "start_time": "2022-03-22T01:49:03.681478Z"
    }
   },
   "outputs": [],
   "source": [
    "from collections import deque, Counter"
   ]
  },
  {
   "cell_type": "code",
   "execution_count": null,
   "id": "0ec7e230",
   "metadata": {
    "ExecuteTime": {
     "end_time": "2022-03-22T01:59:18.168504Z",
     "start_time": "2022-03-22T01:49:03.697477Z"
    },
    "scrolled": true
   },
   "outputs": [
    {
     "name": "stderr",
     "output_type": "stream",
     "text": [
      "INFO: Created TensorFlow Lite XNNPACK delegate for CPU.\n",
      "INFO: Replacing 223 node(s) with delegate (TfLiteXNNPackDelegate) node, yielding 6 partitions.\n",
      "INFO: Replacing 318 node(s) with delegate (TfLiteXNNPackDelegate) node, yielding 1 partitions.\n"
     ]
    },
    {
     "name": "stdout",
     "output_type": "stream",
     "text": [
      "rep: 0\r"
     ]
    },
    {
     "name": "stderr",
     "output_type": "stream",
     "text": [
      "2022-05-24 12:07:48.983029: I tensorflow/compiler/mlir/mlir_graph_optimization_pass.cc:176] None of the MLIR Optimization Passes are enabled (registered 2)\n",
      "2022-05-24 12:07:48.983469: I tensorflow/core/platform/profile_utils/cpu_utils.cc:114] CPU Frequency: 3500105000 Hz\n",
      "2022-05-24 12:07:49.087772: I tensorflow/stream_executor/platform/default/dso_loader.cc:53] Successfully opened dynamic library libcublas.so.11\n",
      "2022-05-24 12:07:49.387474: I tensorflow/stream_executor/platform/default/dso_loader.cc:53] Successfully opened dynamic library libcublasLt.so.11\n"
     ]
    },
    {
     "name": "stdout",
     "output_type": "stream",
     "text": [
      "[INFO] error: 'NoneType' object has no attribute 'landmark'quat-up 0.99788283773995\n",
      "[INFO] error: 'NoneType' object has no attribute 'landmark'\n"
     ]
    },
    {
     "name": "stderr",
     "output_type": "stream",
     "text": [
      "INFO: Replacing 223 node(s) with delegate (TfLiteXNNPackDelegate) node, yielding 6 partitions.\n",
      "INFO: Replacing 318 node(s) with delegate (TfLiteXNNPackDelegate) node, yielding 1 partitions.\n"
     ]
    },
    {
     "name": "stdout",
     "output_type": "stream",
     "text": [
      "[INFO] error: 'NoneType' object has no attribute 'landmark'\n",
      "[INFO] error: 'NoneType' object has no attribute 'landmark'\n",
      "[INFO] error: 'NoneType' object has no attribute 'landmark'\n",
      "[INFO] error: 'NoneType' object has no attribute 'landmark'\n",
      "[INFO] error: 'NoneType' object has no attribute 'landmark'\n",
      "[INFO] error: 'NoneType' object has no attribute 'landmark'\n",
      "[INFO] error: 'NoneType' object has no attribute 'landmark'\n",
      "[INFO] error: 'NoneType' object has no attribute 'landmark'\n",
      "[INFO] error: 'NoneType' object has no attribute 'landmark'\n",
      "[INFO] error: 'NoneType' object has no attribute 'landmark'\n",
      "[INFO] error: 'NoneType' object has no attribute 'landmark'\n",
      "[INFO] error: 'NoneType' object has no attribute 'landmark'\n",
      "[INFO] error: 'NoneType' object has no attribute 'landmark'\n",
      "[INFO] error: 'NoneType' object has no attribute 'landmark'\n",
      "[INFO] error: 'NoneType' object has no attribute 'landmark'\n",
      "[INFO] error: 'NoneType' object has no attribute 'landmark'\n",
      "[INFO] error: 'NoneType' object has no attribute 'landmark'\n",
      "rep: 13570e-11 4.1521798e-07 9.9999964e-01 4.0074550e-08] squat-down 0.999999647474\r"
     ]
    }
   ],
   "source": [
    "NUM_TEST_VIDS = 3\n",
    "for i in range(1,1+NUM_TEST_VIDS):\n",
    "    kps_seq = deque(maxlen=SEQ_LEN)\n",
    "    preds_window = deque(maxlen=15)\n",
    "    rep_count = 0\n",
    "    current_stage = None\n",
    "    previous_stage = None\n",
    "    cap = cv2.VideoCapture(f'objective_test_videos/{EXERCISE}/{EXERCISE}_{i}.mp4')\n",
    "    video_size = (640, 360) # original is (1920, 1080)\n",
    "    video_writer = cv2.VideoWriter(f'output_videos/len_{SEQ_LEN}/round_{ROUND}/{EXERCISE}/{EXERCISE}_{i}_kps_seq{SUBFIX_VID_NAME}.avi', cv2.VideoWriter_fourcc(*'MJPG'),\n",
    "                                   25, video_size)\n",
    "\n",
    "    with mp_pose.Pose(min_detection_confidence = 0.5, min_tracking_confidence = 0.5) as pose:\n",
    "        while cap.isOpened():\n",
    "            success, frame = cap.read()\n",
    "            if not success:\n",
    "                break\n",
    "\n",
    "            image = cv2.cvtColor(frame, cv2.COLOR_BGR2RGB)\n",
    "\n",
    "            image = cv2.resize(image, (640, 360))\n",
    "\n",
    "            image.flags.writeable = False\n",
    "\n",
    "            results = pose.process(image)\n",
    "\n",
    "            image.flags.writeable = True\n",
    "            image = cv2.cvtColor(image, cv2.COLOR_RGB2BGR)\n",
    "\n",
    "            # Pose Detections\n",
    "            mp_drawing.draw_landmarks(image, results.pose_landmarks, mp_pose.POSE_CONNECTIONS, \n",
    "                                     mp_drawing.DrawingSpec(color=(245,117,66), thickness=2, circle_radius=4),\n",
    "                                     mp_drawing.DrawingSpec(color=(245,66,230), thickness=2, circle_radius=2)\n",
    "                                     )\n",
    "\n",
    "            # append face&body coordinates for each frame to the csv file to create dataset to train the model\n",
    "            try:\n",
    "                # extract pose\n",
    "                pose_coor = results.pose_landmarks.landmark\n",
    "                pose_row = np.array([[landmark.x, landmark.y, landmark.visibility] for landmark in pose_coor]).flatten()\n",
    "                # append new coor to the sequence array\n",
    "                kps_seq.append(pose_row)\n",
    "\n",
    "                if len(kps_seq) == SEQ_LEN:\n",
    "                    seq_arr = np.array(kps_seq)\n",
    "                    y_hat = loaded_model.predict(tf.expand_dims(seq_arr, axis=0))[0]\n",
    "                    y_idx = np.argmax(y_hat)\n",
    "                    \n",
    "                    if 'hard_vote' in SUBFIX_VID_NAME:\n",
    "                        # do hard voting\n",
    "                        preds_window.append(y_idx)\n",
    "                        pred_count = Counter(preds_window)\n",
    "                        # most_common return .items() format\n",
    "                        # ex. [(0,5), (1,3)]\n",
    "                        voted_pred = pred_count.most_common(1)[0][0]\n",
    "                        class_name = loaded_le.classes_[voted_pred]\n",
    "                    else:\n",
    "                        class_name = loaded_le.classes_[y_idx]\n",
    "                        \n",
    "                    prob = np.max(y_hat)\n",
    "                    print(y_hat, class_name, prob, end='\\r')\n",
    "                else:\n",
    "                    class_name = \"None\"\n",
    "                    prob = 0\n",
    "\n",
    "                # count the rep logic\n",
    "                current_stage = class_name\n",
    "\n",
    "                if current_stage == f'{EXERCISE}-{CUR_CLASS}' and previous_stage == f'{EXERCISE}-{PREV_CLASS}':\n",
    "                    rep_count += 1\n",
    "\n",
    "                previous_stage = current_stage\n",
    "\n",
    "                print('rep:',rep_count, end='\\r')\n",
    "                \n",
    "                # status box at top left corner\n",
    "                cv2.rectangle(image, (0,0), (320,60), (245,117,16), -1)\n",
    "\n",
    "                # display class\n",
    "                cv2.putText(image, 'Class', (95, 12),\n",
    "                            cv2.FONT_HERSHEY_SIMPLEX, 0.5, (0,0,0), 1, cv2.LINE_AA)\n",
    "                cv2.putText(image, class_name, (95, 40),\n",
    "                            cv2.FONT_HERSHEY_SIMPLEX, 1, (255,255,255), 2, cv2.LINE_AA)\n",
    "\n",
    "                # display prob\n",
    "                cv2.putText(image, 'Prob', (15, 12),\n",
    "                            cv2.FONT_HERSHEY_SIMPLEX, 0.5, (0,0,0), 1, cv2.LINE_AA)\n",
    "                cv2.putText(image, str(round(np.max(prob),2)), (10, 40),\n",
    "                            cv2.FONT_HERSHEY_SIMPLEX, 1, (255,255,255), 2, cv2.LINE_AA)\n",
    "\n",
    "                # rep count box at top right corner\n",
    "                cv2.rectangle(image, (580, 60), (640, 0), (245,117,16), -1)\n",
    "\n",
    "                # display rep count\n",
    "                cv2.putText(image, 'Rep', (640-52, 0+15),\n",
    "                            cv2.FONT_HERSHEY_SIMPLEX, 0.5, (0,0,0), 1, cv2.LINE_AA)\n",
    "                cv2.putText(image, str(rep_count), (640-52, 0+50),\n",
    "                            cv2.FONT_HERSHEY_SIMPLEX, 1.25, (255,255,255), 2, cv2.LINE_AA)\n",
    "\n",
    "            except Exception as e:\n",
    "                print('[INFO] error:', e)\n",
    "\n",
    "            video_writer.write(image)\n",
    "            if not REMOTE:\n",
    "                cv2.imshow(f'{EXERCISE} Count Detection', image)\n",
    "                if cv2.waitKey(1) & 0xFF == ord('q'):\n",
    "                    break\n",
    "\n",
    "        cap.release()\n",
    "        video_writer.release()\n",
    "        if not REMOTE:\n",
    "            cv2.destroyAllWindows()"
   ]
  },
  {
   "cell_type": "markdown",
   "id": "733150f6",
   "metadata": {},
   "source": [
    "# Save class for visualization\n",
    "only best performing model"
   ]
  },
  {
   "cell_type": "code",
   "execution_count": 57,
   "id": "d5623b31",
   "metadata": {
    "ExecuteTime": {
     "end_time": "2022-03-22T02:09:32.777866Z",
     "start_time": "2022-03-22T01:59:18.185478Z"
    },
    "scrolled": true
   },
   "outputs": [
    {
     "name": "stdout",
     "output_type": "stream",
     "text": [
      "The history saving thread hit an unexpected error (OperationalError('database or disk is full')).History will not be written to the database.\n"
     ]
    },
    {
     "name": "stderr",
     "output_type": "stream",
     "text": [
      "INFO: Replacing 223 node(s) with delegate (TfLiteXNNPackDelegate) node, yielding 6 partitions.\n",
      "INFO: Replacing 318 node(s) with delegate (TfLiteXNNPackDelegate) node, yielding 1 partitions.\n"
     ]
    },
    {
     "name": "stdout",
     "output_type": "stream",
     "text": [
      "[1.4386244e-05 1.1289557e-05 2.0914744e-03 9.9788278e-01] squat-up 0.99788283773995\r"
     ]
    },
    {
     "ename": "OSError",
     "evalue": "[Errno 28] No space left on device",
     "output_type": "error",
     "traceback": [
      "\u001b[0;31m---------------------------------------------------------------------------\u001b[0m",
      "\u001b[0;31mOSError\u001b[0m                                   Traceback (most recent call last)",
      "Input \u001b[0;32mIn [57]\u001b[0m, in \u001b[0;36m<cell line: 2>\u001b[0;34m()\u001b[0m\n\u001b[1;32m    100\u001b[0m     os\u001b[38;5;241m.\u001b[39mmakedirs(temp_save_path, exist_ok\u001b[38;5;241m=\u001b[39m\u001b[38;5;28;01mTrue\u001b[39;00m)\n\u001b[1;32m    101\u001b[0m \u001b[38;5;28;01mwith\u001b[39;00m \u001b[38;5;28mopen\u001b[39m(os\u001b[38;5;241m.\u001b[39mpath\u001b[38;5;241m.\u001b[39mjoin(temp_save_path, \u001b[38;5;124mf\u001b[39m\u001b[38;5;124m'\u001b[39m\u001b[38;5;124mtest_vid_\u001b[39m\u001b[38;5;132;01m{\u001b[39;00mi\u001b[38;5;132;01m}\u001b[39;00m\u001b[38;5;124m_kps_seq\u001b[39m\u001b[38;5;132;01m{\u001b[39;00mSUBFIX_VID_NAME\u001b[38;5;132;01m}\u001b[39;00m\u001b[38;5;124m.pickle\u001b[39m\u001b[38;5;124m'\u001b[39m), \u001b[38;5;124m'\u001b[39m\u001b[38;5;124mwb\u001b[39m\u001b[38;5;124m'\u001b[39m) \u001b[38;5;28;01mas\u001b[39;00m f:\n\u001b[0;32m--> 102\u001b[0m     \u001b[43mpickle\u001b[49m\u001b[38;5;241;43m.\u001b[39;49m\u001b[43mdump\u001b[49m\u001b[43m(\u001b[49m\u001b[43mpredicted_class\u001b[49m\u001b[43m,\u001b[49m\u001b[43m \u001b[49m\u001b[43mf\u001b[49m\u001b[43m)\u001b[49m\n\u001b[1;32m    103\u001b[0m cap\u001b[38;5;241m.\u001b[39mrelease()\n\u001b[1;32m    104\u001b[0m \u001b[38;5;28;01mif\u001b[39;00m \u001b[38;5;129;01mnot\u001b[39;00m REMOTE:\n",
      "\u001b[0;31mOSError\u001b[0m: [Errno 28] No space left on device"
     ]
    }
   ],
   "source": [
    "NUM_TEST_VIDS = 3\n",
    "for i in range(1, 1+NUM_TEST_VIDS):\n",
    "    predicted_class = []\n",
    "    kps_seq = deque(maxlen=SEQ_LEN)\n",
    "    preds_window = deque(maxlen=15)\n",
    "    cap = cv2.VideoCapture(f'objective_test_videos/{EXERCISE}/{EXERCISE}_{i}.mp4')\n",
    "    total_frame = int(cap.get(cv2.CAP_PROP_FRAME_COUNT))\n",
    "    # video_width = int(cap.get(3))\n",
    "    # video_height = int(cap.get(4))\n",
    "    # video_size = (video_width, video_height)\n",
    "    video_size = (640, 360)\n",
    "\n",
    "    with mp_pose.Pose(min_detection_confidence = 0.5, min_tracking_confidence = 0.5) as pose:\n",
    "        while cap.isOpened():\n",
    "            success, frame = cap.read()\n",
    "            if not success:\n",
    "                break\n",
    "\n",
    "            image = cv2.cvtColor(frame, cv2.COLOR_BGR2RGB)\n",
    "\n",
    "            image = cv2.resize(image, (640, 360))\n",
    "\n",
    "            image.flags.writeable = False\n",
    "\n",
    "            results = pose.process(image)\n",
    "\n",
    "            image.flags.writeable = True\n",
    "            image = cv2.cvtColor(image, cv2.COLOR_RGB2BGR)\n",
    "\n",
    "            # Pose Detections\n",
    "            mp_drawing.draw_landmarks(image, results.pose_landmarks, mp_pose.POSE_CONNECTIONS, \n",
    "                                     mp_drawing.DrawingSpec(color=(245,117,66), thickness=2, circle_radius=4),\n",
    "                                     mp_drawing.DrawingSpec(color=(245,66,230), thickness=2, circle_radius=2)\n",
    "                                     )\n",
    "\n",
    "            # append face&body coordinates for each frame to the csv file to create dataset to train the model\n",
    "            try:\n",
    "                # extract pose\n",
    "                pose_coor = results.pose_landmarks.landmark\n",
    "                pose_row = np.array([[landmark.x, landmark.y, landmark.visibility] for landmark in pose_coor]).flatten()\n",
    "                # append new coor to the sequence array\n",
    "                kps_seq.append(pose_row)\n",
    "                \n",
    "                if len(kps_seq) == SEQ_LEN:\n",
    "                    seq_arr = np.array(kps_seq)\n",
    "                    y_hat = loaded_model.predict(tf.expand_dims(seq_arr, axis=0))[0]\n",
    "                    y_idx = np.argmax(y_hat)\n",
    "                    \n",
    "                    if 'hard_vote' in SUBFIX_VID_NAME:\n",
    "                        # do hard voting\n",
    "                        preds_window.append(y_idx)\n",
    "                        pred_count = Counter(preds_window)\n",
    "                        # most_common return .items() format\n",
    "                        # ex. [(0,5), (1,3)]\n",
    "                        voted_pred = pred_count.most_common(1)[0][0]\n",
    "                        class_name = loaded_le.classes_[voted_pred]\n",
    "                        predicted_class.append(voted_pred)\n",
    "                    else:\n",
    "                        class_name = loaded_le.classes_[y_idx]\n",
    "                        predicted_class.append(y_idx)\n",
    "                        \n",
    "                    prob = np.max(y_hat)\n",
    "                    print(y_hat, class_name, prob, end='\\r')\n",
    "                else:\n",
    "                    predicted_class.append(0)\n",
    "                    class_name = \"None\"\n",
    "                    prob = 0\n",
    "               \n",
    "                # status box at top left corner\n",
    "                cv2.rectangle(image, (0,0), (320,60), (245,117,16), -1)\n",
    "\n",
    "                # display class\n",
    "                cv2.putText(image, 'Class', (95, 12),\n",
    "                            cv2.FONT_HERSHEY_SIMPLEX, 0.5, (0,0,0), 1, cv2.LINE_AA)\n",
    "                cv2.putText(image, class_name, (95, 40),\n",
    "                            cv2.FONT_HERSHEY_SIMPLEX, 1, (255,255,255), 2, cv2.LINE_AA)\n",
    "\n",
    "                # display prob\n",
    "                cv2.putText(image, 'Prob', (15, 12),\n",
    "                            cv2.FONT_HERSHEY_SIMPLEX, 0.5, (0,0,0), 1, cv2.LINE_AA)\n",
    "                cv2.putText(image, str(round(np.max(prob),2)), (10, 40),\n",
    "                            cv2.FONT_HERSHEY_SIMPLEX, 1, (255,255,255), 2, cv2.LINE_AA)\n",
    "\n",
    "                # rep count box at top right corner\n",
    "                cv2.rectangle(image, (580, 60), (640, 0), (245,117,16), -1)\n",
    "\n",
    "            except Exception as e:\n",
    "                predicted_class.append(0)\n",
    "                print('[INFO] error:', e)\n",
    "            \n",
    "            if not REMOTE:\n",
    "                cv2.imshow(f'{EXERCISE} Count Detection', image)\n",
    "                if cv2.waitKey(1) & 0xFF == ord('q'):\n",
    "                    break\n",
    "        \n",
    "        assert len(predicted_class) == total_frame, f\"# of label {len(predicted_class)} != # of frames in the video {total_frame}\"\n",
    "        \n",
    "        temp_save_path = f'saved_pickles/for_visualization/{EXERCISE}/test_vid_{i}/len_{SEQ_LEN}/round_{ROUND}'\n",
    "        if not os.path.exists(temp_save_path):\n",
    "            os.makedirs(temp_save_path, exist_ok=True)\n",
    "        with open(os.path.join(temp_save_path, f'test_vid_{i}_kps_seq{SUBFIX_VID_NAME}.pickle'), 'wb') as f:\n",
    "            pickle.dump(predicted_class, f)\n",
    "        cap.release()\n",
    "        if not REMOTE:\n",
    "            cv2.destroyAllWindows()"
   ]
  },
  {
   "cell_type": "code",
   "execution_count": null,
   "id": "843ed8ba",
   "metadata": {},
   "outputs": [],
   "source": []
  }
 ],
 "metadata": {
  "kernelspec": {
   "display_name": "ezfit_tf2",
   "language": "python",
   "name": "ezfit_tf2"
  },
  "language_info": {
   "codemirror_mode": {
    "name": "ipython",
    "version": 3
   },
   "file_extension": ".py",
   "mimetype": "text/x-python",
   "name": "python",
   "nbconvert_exporter": "python",
   "pygments_lexer": "ipython3",
   "version": "3.9.4"
  }
 },
 "nbformat": 4,
 "nbformat_minor": 5
}
