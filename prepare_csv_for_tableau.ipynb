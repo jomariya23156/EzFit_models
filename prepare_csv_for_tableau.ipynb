{
 "cells": [
  {
   "cell_type": "code",
   "execution_count": 1,
   "id": "cbca5cb3",
   "metadata": {
    "ExecuteTime": {
     "end_time": "2022-03-08T06:59:19.304986Z",
     "start_time": "2022-03-08T06:59:18.718988Z"
    }
   },
   "outputs": [],
   "source": [
    "import os\n",
    "import pickle\n",
    "import pandas as pd"
   ]
  },
  {
   "cell_type": "code",
   "execution_count": 9,
   "id": "61763bdc",
   "metadata": {
    "ExecuteTime": {
     "end_time": "2022-03-08T07:00:31.990486Z",
     "start_time": "2022-03-08T07:00:31.917476Z"
    }
   },
   "outputs": [
    {
     "name": "stdout",
     "output_type": "stream",
     "text": [
      "saved_pickles/for_visualization/squat/test_vid_3/round_2\\test_vid_3_gt.pickle\n",
      "saved_pickles/for_visualization/squat/test_vid_3/round_2\\test_vid_3_kps_seq.pickle\n",
      "saved_pickles/for_visualization/squat/test_vid_3/round_2\\test_vid_3_kps_stacked.pickle\n"
     ]
    }
   ],
   "source": [
    "vid_num = 3\n",
    "data = {}\n",
    "for path, subdir, files in os.walk(f'saved_pickles/for_visualization/squat/test_vid_{vid_num}/round_2'):\n",
    "    for name in files:\n",
    "        if name.endswith('.pickle'):\n",
    "            full_path = os.path.join(path, name)\n",
    "            file_name = name[name.find(f'{vid_num}')+2:name.rfind('.')]\n",
    "            print(full_path)\n",
    "            with open(full_path, 'rb') as f:\n",
    "                data[file_name] = pickle.load(f)"
   ]
  },
  {
   "cell_type": "code",
   "execution_count": 10,
   "id": "425dc9fc",
   "metadata": {
    "ExecuteTime": {
     "end_time": "2022-03-08T07:00:32.252476Z",
     "start_time": "2022-03-08T07:00:32.222475Z"
    }
   },
   "outputs": [
    {
     "data": {
      "text/html": [
       "<div>\n",
       "<style scoped>\n",
       "    .dataframe tbody tr th:only-of-type {\n",
       "        vertical-align: middle;\n",
       "    }\n",
       "\n",
       "    .dataframe tbody tr th {\n",
       "        vertical-align: top;\n",
       "    }\n",
       "\n",
       "    .dataframe thead th {\n",
       "        text-align: right;\n",
       "    }\n",
       "</style>\n",
       "<table border=\"1\" class=\"dataframe\">\n",
       "  <thead>\n",
       "    <tr style=\"text-align: right;\">\n",
       "      <th></th>\n",
       "      <th>gt</th>\n",
       "      <th>kps_seq</th>\n",
       "      <th>kps_stacked</th>\n",
       "    </tr>\n",
       "    <tr>\n",
       "      <th>frame no.</th>\n",
       "      <th></th>\n",
       "      <th></th>\n",
       "      <th></th>\n",
       "    </tr>\n",
       "  </thead>\n",
       "  <tbody>\n",
       "    <tr>\n",
       "      <th>0</th>\n",
       "      <td>0</td>\n",
       "      <td>0</td>\n",
       "      <td>0</td>\n",
       "    </tr>\n",
       "    <tr>\n",
       "      <th>1</th>\n",
       "      <td>0</td>\n",
       "      <td>0</td>\n",
       "      <td>0</td>\n",
       "    </tr>\n",
       "    <tr>\n",
       "      <th>2</th>\n",
       "      <td>0</td>\n",
       "      <td>0</td>\n",
       "      <td>0</td>\n",
       "    </tr>\n",
       "    <tr>\n",
       "      <th>3</th>\n",
       "      <td>0</td>\n",
       "      <td>0</td>\n",
       "      <td>0</td>\n",
       "    </tr>\n",
       "    <tr>\n",
       "      <th>4</th>\n",
       "      <td>0</td>\n",
       "      <td>0</td>\n",
       "      <td>0</td>\n",
       "    </tr>\n",
       "    <tr>\n",
       "      <th>...</th>\n",
       "      <td>...</td>\n",
       "      <td>...</td>\n",
       "      <td>...</td>\n",
       "    </tr>\n",
       "    <tr>\n",
       "      <th>7559</th>\n",
       "      <td>0</td>\n",
       "      <td>0</td>\n",
       "      <td>0</td>\n",
       "    </tr>\n",
       "    <tr>\n",
       "      <th>7560</th>\n",
       "      <td>0</td>\n",
       "      <td>0</td>\n",
       "      <td>0</td>\n",
       "    </tr>\n",
       "    <tr>\n",
       "      <th>7561</th>\n",
       "      <td>0</td>\n",
       "      <td>0</td>\n",
       "      <td>0</td>\n",
       "    </tr>\n",
       "    <tr>\n",
       "      <th>7562</th>\n",
       "      <td>0</td>\n",
       "      <td>0</td>\n",
       "      <td>0</td>\n",
       "    </tr>\n",
       "    <tr>\n",
       "      <th>7563</th>\n",
       "      <td>0</td>\n",
       "      <td>0</td>\n",
       "      <td>0</td>\n",
       "    </tr>\n",
       "  </tbody>\n",
       "</table>\n",
       "<p>7564 rows × 3 columns</p>\n",
       "</div>"
      ],
      "text/plain": [
       "           gt  kps_seq  kps_stacked\n",
       "frame no.                          \n",
       "0           0        0            0\n",
       "1           0        0            0\n",
       "2           0        0            0\n",
       "3           0        0            0\n",
       "4           0        0            0\n",
       "...        ..      ...          ...\n",
       "7559        0        0            0\n",
       "7560        0        0            0\n",
       "7561        0        0            0\n",
       "7562        0        0            0\n",
       "7563        0        0            0\n",
       "\n",
       "[7564 rows x 3 columns]"
      ]
     },
     "execution_count": 10,
     "metadata": {},
     "output_type": "execute_result"
    }
   ],
   "source": [
    "vid_3_visual = pd.DataFrame(data)\n",
    "vid_3_visual.index.name = 'frame no.'\n",
    "vid_3_visual"
   ]
  },
  {
   "cell_type": "code",
   "execution_count": 11,
   "id": "5ac5242c",
   "metadata": {
    "ExecuteTime": {
     "end_time": "2022-03-08T07:00:32.641501Z",
     "start_time": "2022-03-08T07:00:32.611477Z"
    }
   },
   "outputs": [],
   "source": [
    "vid_3_visual.to_csv(f'saved_csv/squat/round_2/test_vid_{vid_num}_visualize.csv', index=True)"
   ]
  },
  {
   "cell_type": "markdown",
   "id": "61bec0d6",
   "metadata": {},
   "source": [
    "## Compare Selected Best models"
   ]
  },
  {
   "cell_type": "code",
   "execution_count": 37,
   "id": "7034a8c1",
   "metadata": {
    "ExecuteTime": {
     "end_time": "2022-02-26T17:45:47.423099Z",
     "start_time": "2022-02-26T17:45:47.384094Z"
    }
   },
   "outputs": [],
   "source": [
    "vid_num = 3\n",
    "selected_files = [f'saved_pickles/for_visualization/pushup/test_vid_{vid_num}/test_vid_{vid_num}_gt.pickle',\n",
    "                  f'saved_pickles/for_visualization/pushup/test_vid_{vid_num}/test_vid_{vid_num}_kps_single.pickle',\n",
    "                  f'saved_pickles/for_visualization/pushup/test_vid_{vid_num}/round_4/test_vid_{vid_num}_kps_seq.pickle',\n",
    "                  f'saved_pickles/for_visualization/pushup/test_vid_{vid_num}/round_4/test_vid_{vid_num}_kps_seq_hard_vote.pickle',\n",
    "                  f'saved_pickles/for_visualization/pushup/test_vid_{vid_num}/round_4/test_vid_{vid_num}_kps_stacked.pickle',\n",
    "                  f'saved_pickles/for_visualization/pushup/test_vid_{vid_num}/round_4/test_vid_{vid_num}_kps_stacked_hard_vote.pickle',\n",
    "                 ]\n",
    "data = {}\n",
    "for file in selected_files:\n",
    "    name = file.split(os.path.sep)[-1]\n",
    "    name = name[name.rfind(str(vid_num))+2:name.rfind('.')]\n",
    "    with open(file, 'rb') as f:\n",
    "        data[name] = pickle.load(f)\n",
    "df = pd.DataFrame(data)\n",
    "df.index.name = 'frame no.'"
   ]
  },
  {
   "cell_type": "code",
   "execution_count": 38,
   "id": "45425ba3",
   "metadata": {
    "ExecuteTime": {
     "end_time": "2022-02-26T17:45:47.658094Z",
     "start_time": "2022-02-26T17:45:47.632094Z"
    }
   },
   "outputs": [
    {
     "data": {
      "text/html": [
       "<div>\n",
       "<style scoped>\n",
       "    .dataframe tbody tr th:only-of-type {\n",
       "        vertical-align: middle;\n",
       "    }\n",
       "\n",
       "    .dataframe tbody tr th {\n",
       "        vertical-align: top;\n",
       "    }\n",
       "\n",
       "    .dataframe thead th {\n",
       "        text-align: right;\n",
       "    }\n",
       "</style>\n",
       "<table border=\"1\" class=\"dataframe\">\n",
       "  <thead>\n",
       "    <tr style=\"text-align: right;\">\n",
       "      <th></th>\n",
       "      <th>gt</th>\n",
       "      <th>kps_single</th>\n",
       "      <th>kps_seq</th>\n",
       "      <th>kps_seq_hard_vote</th>\n",
       "      <th>kps_stacked</th>\n",
       "      <th>kps_stacked_hard_vote</th>\n",
       "    </tr>\n",
       "    <tr>\n",
       "      <th>frame no.</th>\n",
       "      <th></th>\n",
       "      <th></th>\n",
       "      <th></th>\n",
       "      <th></th>\n",
       "      <th></th>\n",
       "      <th></th>\n",
       "    </tr>\n",
       "  </thead>\n",
       "  <tbody>\n",
       "    <tr>\n",
       "      <th>0</th>\n",
       "      <td>0</td>\n",
       "      <td>0</td>\n",
       "      <td>0</td>\n",
       "      <td>0</td>\n",
       "      <td>0</td>\n",
       "      <td>0</td>\n",
       "    </tr>\n",
       "    <tr>\n",
       "      <th>1</th>\n",
       "      <td>0</td>\n",
       "      <td>0</td>\n",
       "      <td>0</td>\n",
       "      <td>0</td>\n",
       "      <td>0</td>\n",
       "      <td>0</td>\n",
       "    </tr>\n",
       "    <tr>\n",
       "      <th>2</th>\n",
       "      <td>0</td>\n",
       "      <td>0</td>\n",
       "      <td>0</td>\n",
       "      <td>0</td>\n",
       "      <td>0</td>\n",
       "      <td>0</td>\n",
       "    </tr>\n",
       "    <tr>\n",
       "      <th>3</th>\n",
       "      <td>0</td>\n",
       "      <td>0</td>\n",
       "      <td>0</td>\n",
       "      <td>0</td>\n",
       "      <td>0</td>\n",
       "      <td>0</td>\n",
       "    </tr>\n",
       "    <tr>\n",
       "      <th>4</th>\n",
       "      <td>0</td>\n",
       "      <td>0</td>\n",
       "      <td>0</td>\n",
       "      <td>0</td>\n",
       "      <td>0</td>\n",
       "      <td>0</td>\n",
       "    </tr>\n",
       "    <tr>\n",
       "      <th>...</th>\n",
       "      <td>...</td>\n",
       "      <td>...</td>\n",
       "      <td>...</td>\n",
       "      <td>...</td>\n",
       "      <td>...</td>\n",
       "      <td>...</td>\n",
       "    </tr>\n",
       "    <tr>\n",
       "      <th>3990</th>\n",
       "      <td>0</td>\n",
       "      <td>0</td>\n",
       "      <td>0</td>\n",
       "      <td>0</td>\n",
       "      <td>0</td>\n",
       "      <td>0</td>\n",
       "    </tr>\n",
       "    <tr>\n",
       "      <th>3991</th>\n",
       "      <td>0</td>\n",
       "      <td>0</td>\n",
       "      <td>0</td>\n",
       "      <td>0</td>\n",
       "      <td>0</td>\n",
       "      <td>0</td>\n",
       "    </tr>\n",
       "    <tr>\n",
       "      <th>3992</th>\n",
       "      <td>0</td>\n",
       "      <td>0</td>\n",
       "      <td>0</td>\n",
       "      <td>0</td>\n",
       "      <td>0</td>\n",
       "      <td>0</td>\n",
       "    </tr>\n",
       "    <tr>\n",
       "      <th>3993</th>\n",
       "      <td>0</td>\n",
       "      <td>0</td>\n",
       "      <td>0</td>\n",
       "      <td>0</td>\n",
       "      <td>0</td>\n",
       "      <td>0</td>\n",
       "    </tr>\n",
       "    <tr>\n",
       "      <th>3994</th>\n",
       "      <td>0</td>\n",
       "      <td>0</td>\n",
       "      <td>0</td>\n",
       "      <td>0</td>\n",
       "      <td>0</td>\n",
       "      <td>0</td>\n",
       "    </tr>\n",
       "  </tbody>\n",
       "</table>\n",
       "<p>3995 rows × 6 columns</p>\n",
       "</div>"
      ],
      "text/plain": [
       "           gt  kps_single  kps_seq  kps_seq_hard_vote  kps_stacked  \\\n",
       "frame no.                                                            \n",
       "0           0           0        0                  0            0   \n",
       "1           0           0        0                  0            0   \n",
       "2           0           0        0                  0            0   \n",
       "3           0           0        0                  0            0   \n",
       "4           0           0        0                  0            0   \n",
       "...        ..         ...      ...                ...          ...   \n",
       "3990        0           0        0                  0            0   \n",
       "3991        0           0        0                  0            0   \n",
       "3992        0           0        0                  0            0   \n",
       "3993        0           0        0                  0            0   \n",
       "3994        0           0        0                  0            0   \n",
       "\n",
       "           kps_stacked_hard_vote  \n",
       "frame no.                         \n",
       "0                              0  \n",
       "1                              0  \n",
       "2                              0  \n",
       "3                              0  \n",
       "4                              0  \n",
       "...                          ...  \n",
       "3990                           0  \n",
       "3991                           0  \n",
       "3992                           0  \n",
       "3993                           0  \n",
       "3994                           0  \n",
       "\n",
       "[3995 rows x 6 columns]"
      ]
     },
     "execution_count": 38,
     "metadata": {},
     "output_type": "execute_result"
    }
   ],
   "source": [
    "df"
   ]
  },
  {
   "cell_type": "code",
   "execution_count": 39,
   "id": "75816d59",
   "metadata": {
    "ExecuteTime": {
     "end_time": "2022-02-26T17:45:47.979093Z",
     "start_time": "2022-02-26T17:45:47.955095Z"
    }
   },
   "outputs": [],
   "source": [
    "df.to_csv(f'saved_csv/pushup/current_best_r4/test_vid_{vid_num}_visualize.csv', index=True)"
   ]
  },
  {
   "cell_type": "code",
   "execution_count": null,
   "id": "e5adee1e",
   "metadata": {},
   "outputs": [],
   "source": []
  }
 ],
 "metadata": {
  "kernelspec": {
   "display_name": "opencv-dl-cpu",
   "language": "python",
   "name": "opencv-dl-cpu"
  },
  "language_info": {
   "codemirror_mode": {
    "name": "ipython",
    "version": 3
   },
   "file_extension": ".py",
   "mimetype": "text/x-python",
   "name": "python",
   "nbconvert_exporter": "python",
   "pygments_lexer": "ipython3",
   "version": "3.9.4"
  }
 },
 "nbformat": 4,
 "nbformat_minor": 5
}
