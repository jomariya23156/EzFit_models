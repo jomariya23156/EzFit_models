{
 "cells": [
  {
   "cell_type": "code",
   "execution_count": 1,
   "id": "bc28c434-12b4-408f-ae2e-be8e3e2fbb39",
   "metadata": {},
   "outputs": [],
   "source": [
    "import pandas as pd\n",
    "import os\n",
    "import pickle\n",
    "import matplotlib.pyplot as plt"
   ]
  },
  {
   "cell_type": "code",
   "execution_count": 33,
   "id": "94416474-db20-47c8-bedd-86333a20c327",
   "metadata": {},
   "outputs": [],
   "source": [
    "ROUND_MAPPING = {\n",
    "    'pushup': 8,\n",
    "    'squat': 6,\n",
    "    'jumping-jack': 4,\n",
    "    'leg-raise': 3,\n",
    "    'half-burpee': 3,\n",
    "}"
   ]
  },
  {
   "cell_type": "code",
   "execution_count": 52,
   "id": "feab2645-ab77-4da2-b56f-bbfa2d3674ea",
   "metadata": {},
   "outputs": [],
   "source": [
    "EXERCISE = 'pushup'\n",
    "DS_TYPE = 'keypoints_seq'\n",
    "SEQ_LEN = 'single'\n",
    "ROUND = ROUND_MAPPING[EXERCISE]\n",
    "MODEL_TYPE = 'kps_seq'\n",
    "BENCHMARK = True\n",
    "if BENCHMARK:\n",
    "    ROUND = 'BM_BARE'\n",
    "# just for selecting only base classes\n",
    "CUR_CLASS = 'down'\n",
    "PREV_CLASS = 'up'\n",
    "BASE_CLASSES = [f'{EXERCISE}-{CUR_CLASS}',f'{EXERCISE}-{PREV_CLASS}']"
   ]
  },
  {
   "cell_type": "code",
   "execution_count": 53,
   "id": "6d51f51c-e1b0-4125-8e85-86bbe65efd0f",
   "metadata": {},
   "outputs": [],
   "source": [
    "res_base_dir = f'/data1-6tb/jom/Dataset/EzFit_dataset/outputs/test/{DS_TYPE}/len_{SEQ_LEN}'\n",
    "if BENCHMARK:\n",
    "    res_file = os.path.join(res_base_dir, f'{MODEL_TYPE}_{EXERCISE}_{ROUND}.csv')\n",
    "else:\n",
    "    res_file = os.path.join(res_base_dir, f'{MODEL_TYPE}_{EXERCISE}.csv')"
   ]
  },
  {
   "cell_type": "code",
   "execution_count": 54,
   "id": "3b408963-c473-4610-88d0-10a0302a557d",
   "metadata": {},
   "outputs": [
    {
     "data": {
      "text/html": [
       "<div>\n",
       "<style scoped>\n",
       "    .dataframe tbody tr th:only-of-type {\n",
       "        vertical-align: middle;\n",
       "    }\n",
       "\n",
       "    .dataframe tbody tr th {\n",
       "        vertical-align: top;\n",
       "    }\n",
       "\n",
       "    .dataframe thead th {\n",
       "        text-align: right;\n",
       "    }\n",
       "</style>\n",
       "<table border=\"1\" class=\"dataframe\">\n",
       "  <thead>\n",
       "    <tr style=\"text-align: right;\">\n",
       "      <th></th>\n",
       "      <th>path</th>\n",
       "      <th>class</th>\n",
       "      <th>3-classes-view</th>\n",
       "      <th>5-classes-view</th>\n",
       "      <th>position</th>\n",
       "      <th>distance</th>\n",
       "      <th>predicted</th>\n",
       "    </tr>\n",
       "  </thead>\n",
       "  <tbody>\n",
       "    <tr>\n",
       "      <th>0</th>\n",
       "      <td>keypoints_seq/len_8/squat/idle/squat_1_1/squat...</td>\n",
       "      <td>idle</td>\n",
       "      <td>side</td>\n",
       "      <td>side</td>\n",
       "      <td>center</td>\n",
       "      <td>fit</td>\n",
       "      <td>squat-up</td>\n",
       "    </tr>\n",
       "    <tr>\n",
       "      <th>1</th>\n",
       "      <td>keypoints_seq/len_8/squat/idle/squat_1_1/squat...</td>\n",
       "      <td>idle</td>\n",
       "      <td>side</td>\n",
       "      <td>side</td>\n",
       "      <td>center</td>\n",
       "      <td>fit</td>\n",
       "      <td>squat-up</td>\n",
       "    </tr>\n",
       "    <tr>\n",
       "      <th>2</th>\n",
       "      <td>keypoints_seq/len_8/squat/idle/squat_1_1/squat...</td>\n",
       "      <td>idle</td>\n",
       "      <td>side</td>\n",
       "      <td>side</td>\n",
       "      <td>center</td>\n",
       "      <td>fit</td>\n",
       "      <td>squat-up</td>\n",
       "    </tr>\n",
       "    <tr>\n",
       "      <th>3</th>\n",
       "      <td>keypoints_seq/len_8/squat/idle/squat_1_1/squat...</td>\n",
       "      <td>idle</td>\n",
       "      <td>side</td>\n",
       "      <td>side</td>\n",
       "      <td>center</td>\n",
       "      <td>fit</td>\n",
       "      <td>squat-up</td>\n",
       "    </tr>\n",
       "    <tr>\n",
       "      <th>4</th>\n",
       "      <td>keypoints_seq/len_8/squat/idle/squat_1_1/squat...</td>\n",
       "      <td>idle</td>\n",
       "      <td>side</td>\n",
       "      <td>side</td>\n",
       "      <td>center</td>\n",
       "      <td>fit</td>\n",
       "      <td>squat-down</td>\n",
       "    </tr>\n",
       "    <tr>\n",
       "      <th>...</th>\n",
       "      <td>...</td>\n",
       "      <td>...</td>\n",
       "      <td>...</td>\n",
       "      <td>...</td>\n",
       "      <td>...</td>\n",
       "      <td>...</td>\n",
       "      <td>...</td>\n",
       "    </tr>\n",
       "    <tr>\n",
       "      <th>3787</th>\n",
       "      <td>keypoints_seq/len_8/squat/squat-up/squat_3_8/s...</td>\n",
       "      <td>squat-up</td>\n",
       "      <td>side</td>\n",
       "      <td>side</td>\n",
       "      <td>center</td>\n",
       "      <td>fit</td>\n",
       "      <td>squat-up</td>\n",
       "    </tr>\n",
       "    <tr>\n",
       "      <th>3788</th>\n",
       "      <td>keypoints_seq/len_8/squat/squat-up/squat_3_8/s...</td>\n",
       "      <td>squat-up</td>\n",
       "      <td>side</td>\n",
       "      <td>side</td>\n",
       "      <td>center</td>\n",
       "      <td>fit</td>\n",
       "      <td>squat-up</td>\n",
       "    </tr>\n",
       "    <tr>\n",
       "      <th>3789</th>\n",
       "      <td>keypoints_seq/len_8/squat/squat-up/squat_3_8/s...</td>\n",
       "      <td>squat-up</td>\n",
       "      <td>side</td>\n",
       "      <td>side</td>\n",
       "      <td>center</td>\n",
       "      <td>fit</td>\n",
       "      <td>squat-up</td>\n",
       "    </tr>\n",
       "    <tr>\n",
       "      <th>3790</th>\n",
       "      <td>keypoints_seq/len_8/squat/squat-up/squat_3_8/s...</td>\n",
       "      <td>squat-up</td>\n",
       "      <td>side</td>\n",
       "      <td>side</td>\n",
       "      <td>center</td>\n",
       "      <td>fit</td>\n",
       "      <td>squat-up</td>\n",
       "    </tr>\n",
       "    <tr>\n",
       "      <th>3791</th>\n",
       "      <td>keypoints_seq/len_8/squat/squat-up/squat_3_8/s...</td>\n",
       "      <td>squat-up</td>\n",
       "      <td>side</td>\n",
       "      <td>side</td>\n",
       "      <td>center</td>\n",
       "      <td>fit</td>\n",
       "      <td>squat-up</td>\n",
       "    </tr>\n",
       "  </tbody>\n",
       "</table>\n",
       "<p>3792 rows × 7 columns</p>\n",
       "</div>"
      ],
      "text/plain": [
       "                                                   path     class  \\\n",
       "0     keypoints_seq/len_8/squat/idle/squat_1_1/squat...      idle   \n",
       "1     keypoints_seq/len_8/squat/idle/squat_1_1/squat...      idle   \n",
       "2     keypoints_seq/len_8/squat/idle/squat_1_1/squat...      idle   \n",
       "3     keypoints_seq/len_8/squat/idle/squat_1_1/squat...      idle   \n",
       "4     keypoints_seq/len_8/squat/idle/squat_1_1/squat...      idle   \n",
       "...                                                 ...       ...   \n",
       "3787  keypoints_seq/len_8/squat/squat-up/squat_3_8/s...  squat-up   \n",
       "3788  keypoints_seq/len_8/squat/squat-up/squat_3_8/s...  squat-up   \n",
       "3789  keypoints_seq/len_8/squat/squat-up/squat_3_8/s...  squat-up   \n",
       "3790  keypoints_seq/len_8/squat/squat-up/squat_3_8/s...  squat-up   \n",
       "3791  keypoints_seq/len_8/squat/squat-up/squat_3_8/s...  squat-up   \n",
       "\n",
       "     3-classes-view 5-classes-view position distance   predicted  \n",
       "0              side           side   center      fit    squat-up  \n",
       "1              side           side   center      fit    squat-up  \n",
       "2              side           side   center      fit    squat-up  \n",
       "3              side           side   center      fit    squat-up  \n",
       "4              side           side   center      fit  squat-down  \n",
       "...             ...            ...      ...      ...         ...  \n",
       "3787           side           side   center      fit    squat-up  \n",
       "3788           side           side   center      fit    squat-up  \n",
       "3789           side           side   center      fit    squat-up  \n",
       "3790           side           side   center      fit    squat-up  \n",
       "3791           side           side   center      fit    squat-up  \n",
       "\n",
       "[3792 rows x 7 columns]"
      ]
     },
     "execution_count": 54,
     "metadata": {},
     "output_type": "execute_result"
    }
   ],
   "source": [
    "res_df = pd.read_csv(res_file)\n",
    "if EXERCISE == 'pushup':\n",
    "    res_df['class'] = res_df['class'].replace({'pushup_up':'pushup-up'})\n",
    "if EXERCISE == 'jumping-jack':\n",
    "    res_df['5-classes-view'] = res_df['5-classes-view'].str.strip()\n",
    "res_df"
   ]
  },
  {
   "cell_type": "code",
   "execution_count": 55,
   "id": "b2156bea-22ca-49c6-bfec-20050ffd96c1",
   "metadata": {},
   "outputs": [],
   "source": [
    "from sklearn.metrics import confusion_matrix, ConfusionMatrixDisplay, accuracy_score"
   ]
  },
  {
   "cell_type": "code",
   "execution_count": 56,
   "id": "1889c3ec-f742-4432-8011-f4f52aac537f",
   "metadata": {},
   "outputs": [
    {
     "data": {
      "text/plain": [
       "0.47837552742616035"
      ]
     },
     "execution_count": 56,
     "metadata": {},
     "output_type": "execute_result"
    }
   ],
   "source": [
    "# accuracy\n",
    "accuracy_score(res_df['class'], res_df['predicted'])"
   ]
  },
  {
   "cell_type": "code",
   "execution_count": 57,
   "id": "14abfe55-e7bd-419f-8c6f-83c6201058b7",
   "metadata": {},
   "outputs": [
    {
     "name": "stdout",
     "output_type": "stream",
     "text": [
      "Amount: 2007 | Acc: 0.9038365719980069\n"
     ]
    }
   ],
   "source": [
    "# OK to add both \n",
    "# add result trained with only 2 base classes\n",
    "only_base = res_df[res_df['class'].isin(BASE_CLASSES)]\n",
    "# accuracy only base\n",
    "print(f\"Amount: {len(only_base)} | Acc: {accuracy_score(only_base['class'], only_base['predicted'])}\")"
   ]
  },
  {
   "cell_type": "code",
   "execution_count": 9,
   "id": "7b7fa1d0-65e4-4794-9a8b-455015898215",
   "metadata": {},
   "outputs": [],
   "source": [
    "with open(f'/data1-6tb/jom/EzFit_models/saved_pickles/len_{SEQ_LEN}/round_{ROUND}/{EXERCISE}/{EXERCISE}_kps_seq_le.pickle', 'rb') as file:\n",
    "    loaded_le = pickle.load(file)"
   ]
  },
  {
   "cell_type": "code",
   "execution_count": 25,
   "id": "991a26db-1044-4a5c-b3ac-e8a18b2e6d3a",
   "metadata": {},
   "outputs": [],
   "source": [
    "cm = confusion_matrix(res_df['class'], res_df['predicted'])\n",
    "if BENCHMARK:\n",
    "    cm = confusion_matrix(only_base['class'], only_base['predicted'])\n",
    "disp = ConfusionMatrixDisplay(confusion_matrix=cm,\n",
    "                              display_labels=loaded_le.classes_)"
   ]
  },
  {
   "cell_type": "code",
   "execution_count": 26,
   "id": "12311bec-a735-4cd3-960e-99f66157b66a",
   "metadata": {},
   "outputs": [
    {
     "data": {
      "image/png": "[encoded data removed]",
      "text/plain": [
       "<Figure size 432x288 with 2 Axes>"
      ]
     },
     "metadata": {
      "needs_background": "light"
     },
     "output_type": "display_data"
    }
   ],
   "source": [
    "disp.plot()\n",
    "plt.show()"
   ]
  },
  {
   "cell_type": "code",
   "execution_count": 121,
   "id": "abb593ce-dc23-4c25-aff9-18d46a593cf2",
   "metadata": {},
   "outputs": [
    {
     "name": "stdout",
     "output_type": "stream",
     "text": [
      "===View: side===\n",
      "amount: 1977 | percentage: 0.7311390532544378\n",
      "acc: 0.7486090035407182\n",
      "\n",
      "===View: right-tilted===\n",
      "amount: 279 | percentage: 0.10318047337278106\n",
      "acc: 0.7598566308243727\n",
      "\n",
      "===View: back===\n",
      "amount: 144 | percentage: 0.05325443786982249\n",
      "acc: 0.4375\n",
      "\n",
      "===View: left-tilted===\n",
      "amount: 304 | percentage: 0.11242603550295859\n",
      "acc: 0.756578947368421\n",
      "\n"
     ]
    }
   ],
   "source": [
    "for view in res_df['5-classes-view'].unique():\n",
    "    temp = res_df[res_df['5-classes-view']==view]\n",
    "    print(f'===View: {view}===')\n",
    "    print(f'amount: {len(temp)} | percentage: {len(temp)/len(res_df)}')\n",
    "    print(f\"acc: {accuracy_score(temp['class'], temp['predicted'])}\")\n",
    "    print()"
   ]
  },
  {
   "cell_type": "code",
   "execution_count": 122,
   "id": "c498cb83-dd31-47d9-be90-cf8fed1da25f",
   "metadata": {},
   "outputs": [
    {
     "name": "stdout",
     "output_type": "stream",
     "text": [
      "===Position: center===\n",
      "amount: 1992 | percentage: 0.7366863905325444\n",
      "acc: 0.7404618473895582\n",
      "\n"
     ]
    }
   ],
   "source": [
    "# instead of right and left -> change to non-center\n",
    "# cuz we want to recommend center\n",
    "\n",
    "# for view in res_df['position'].unique():\n",
    "temp = res_df[res_df['position']=='center']\n",
    "print(f'===Position: center===')\n",
    "print(f'amount: {len(temp)} | percentage: {len(temp)/len(res_df)}')\n",
    "print(f\"acc: {accuracy_score(temp['class'], temp['predicted'])}\")\n",
    "print()"
   ]
  },
  {
   "cell_type": "code",
   "execution_count": 123,
   "id": "2b48e864-30de-4e70-a9c5-76c90c5adc78",
   "metadata": {},
   "outputs": [
    {
     "name": "stdout",
     "output_type": "stream",
     "text": [
      "===Position: Non-center===\n",
      "amount: 712 | percentage: 0.26331360946745563\n",
      "acc: 0.7162921348314607\n",
      "\n"
     ]
    }
   ],
   "source": [
    "# for view in res_df['position'].unique():\n",
    "temp = res_df[res_df['position']!='center']\n",
    "print(f'===Position: Non-center===')\n",
    "print(f'amount: {len(temp)} | percentage: {len(temp)/len(res_df)}')\n",
    "print(f\"acc: {accuracy_score(temp['class'], temp['predicted'])}\")\n",
    "print()"
   ]
  },
  {
   "cell_type": "code",
   "execution_count": 124,
   "id": "a43edb35-ddc0-4e0a-a6c1-7620f1dde5cc",
   "metadata": {},
   "outputs": [
    {
     "name": "stdout",
     "output_type": "stream",
     "text": [
      "===Position: fit===\n",
      "amount: 1856 | percentage: 0.6863905325443787\n",
      "acc: 0.8550646551724138\n",
      "\n",
      "===Position: far===\n",
      "amount: 848 | percentage: 0.3136094674556213\n",
      "acc: 0.4693396226415094\n",
      "\n"
     ]
    }
   ],
   "source": [
    "# write in the sense that far is not good, fit and close OK\n",
    "for dist in res_df['distance'].unique():\n",
    "    temp = res_df[res_df['distance']==dist]\n",
    "    print(f'===Position: {dist}===')\n",
    "    print(f'amount: {len(temp)} | percentage: {len(temp)/len(res_df)}')\n",
    "    print(f\"acc: {accuracy_score(temp['class'], temp['predicted'])}\")\n",
    "    print()"
   ]
  },
  {
   "cell_type": "code",
   "execution_count": null,
   "id": "b3459398-b9e9-4968-ba83-9a2fcca0dc7a",
   "metadata": {},
   "outputs": [],
   "source": []
  }
 ],
 "metadata": {
  "kernelspec": {
   "display_name": "ezfit_tf2",
   "language": "python",
   "name": "ezfit_tf2"
  },
  "language_info": {
   "codemirror_mode": {
    "name": "ipython",
    "version": 3
   },
   "file_extension": ".py",
   "mimetype": "text/x-python",
   "name": "python",
   "nbconvert_exporter": "python",
   "pygments_lexer": "ipython3",
   "version": "3.9.4"
  }
 },
 "nbformat": 4,
 "nbformat_minor": 5
}
