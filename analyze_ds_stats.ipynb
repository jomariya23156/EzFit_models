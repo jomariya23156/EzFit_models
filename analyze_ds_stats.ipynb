{
 "cells": [
  {
   "cell_type": "markdown",
   "id": "b99081b2-164c-48c8-b334-961bbbcf7568",
   "metadata": {},
   "source": [
    "## Import"
   ]
  },
  {
   "cell_type": "code",
   "execution_count": 1,
   "id": "7ca25a73-c67f-401c-82c4-16b2e8f4af84",
   "metadata": {},
   "outputs": [],
   "source": [
    "import numpy as np\n",
    "import pandas as pd"
   ]
  },
  {
   "cell_type": "markdown",
   "id": "53518359-474a-4a9d-9a2d-c14bde2be8cd",
   "metadata": {},
   "source": [
    "## Let's do it"
   ]
  },
  {
   "cell_type": "code",
   "execution_count": 5,
   "id": "a829ed55-1df7-48a7-98aa-24250f7184e8",
   "metadata": {},
   "outputs": [],
   "source": [
    "sq_df = pd.read_csv('orig_vid_labels/squat_video_labels.csv')\n",
    "pu_df = pd.read_csv('orig_vid_labels/pushup_video_labels.csv')\n",
    "jj_df = pd.read_csv('orig_vid_labels/jumping_jack_video_labels.csv')\n",
    "lr_df = pd.read_csv('orig_vid_labels/leg_raise_video_labels.csv')\n",
    "hb_df = pd.read_csv('orig_vid_labels/half_burpee_video_labels.csv')"
   ]
  },
  {
   "cell_type": "markdown",
   "id": "de3b7473-debc-4b60-a3b6-42d955b7c3fd",
   "metadata": {},
   "source": [
    "### squat"
   ]
  },
  {
   "cell_type": "code",
   "execution_count": 10,
   "id": "1c0351d4-4d4e-4c04-87e2-e84476996019",
   "metadata": {},
   "outputs": [],
   "source": [
    "sq_df = sq_df.drop('Unnamed: 3', axis=1)\n",
    "sq_df"
   ]
  },
  {
   "cell_type": "code",
   "execution_count": 29,
   "id": "e4a7cd24-53c5-4058-bc7c-83f8d7a3468b",
   "metadata": {},
   "outputs": [
    {
     "data": {
      "text/html": [
       "<div>\n",
       "<style scoped>\n",
       "    .dataframe tbody tr th:only-of-type {\n",
       "        vertical-align: middle;\n",
       "    }\n",
       "\n",
       "    .dataframe tbody tr th {\n",
       "        vertical-align: top;\n",
       "    }\n",
       "\n",
       "    .dataframe thead th {\n",
       "        text-align: right;\n",
       "    }\n",
       "</style>\n",
       "<table border=\"1\" class=\"dataframe\">\n",
       "  <thead>\n",
       "    <tr style=\"text-align: right;\">\n",
       "      <th></th>\n",
       "      <th>count</th>\n",
       "      <th>ratio_to_all</th>\n",
       "    </tr>\n",
       "    <tr>\n",
       "      <th>gender</th>\n",
       "      <th></th>\n",
       "      <th></th>\n",
       "    </tr>\n",
       "  </thead>\n",
       "  <tbody>\n",
       "    <tr>\n",
       "      <th>female</th>\n",
       "      <td>40</td>\n",
       "      <td>0.47619</td>\n",
       "    </tr>\n",
       "    <tr>\n",
       "      <th>male</th>\n",
       "      <td>44</td>\n",
       "      <td>0.52381</td>\n",
       "    </tr>\n",
       "  </tbody>\n",
       "</table>\n",
       "</div>"
      ],
      "text/plain": [
       "        count  ratio_to_all\n",
       "gender                     \n",
       "female     40       0.47619\n",
       "male       44       0.52381"
      ]
     },
     "execution_count": 29,
     "metadata": {},
     "output_type": "execute_result"
    }
   ],
   "source": [
    "temp = sq_df.groupby(['gender']).count().rename(columns={'file_name':'count'}).drop('indoor/outdoor', axis=1)\n",
    "temp['ratio_to_all'] = temp['count'].apply(lambda x: x/len(sq_df))\n",
    "temp"
   ]
  },
  {
   "cell_type": "code",
   "execution_count": 28,
   "id": "fcce2835-bc53-4661-a68e-fc2fc8b823f5",
   "metadata": {},
   "outputs": [
    {
     "data": {
      "text/html": [
       "<div>\n",
       "<style scoped>\n",
       "    .dataframe tbody tr th:only-of-type {\n",
       "        vertical-align: middle;\n",
       "    }\n",
       "\n",
       "    .dataframe tbody tr th {\n",
       "        vertical-align: top;\n",
       "    }\n",
       "\n",
       "    .dataframe thead th {\n",
       "        text-align: right;\n",
       "    }\n",
       "</style>\n",
       "<table border=\"1\" class=\"dataframe\">\n",
       "  <thead>\n",
       "    <tr style=\"text-align: right;\">\n",
       "      <th></th>\n",
       "      <th>count</th>\n",
       "      <th>ratio_to_all</th>\n",
       "    </tr>\n",
       "    <tr>\n",
       "      <th>indoor/outdoor</th>\n",
       "      <th></th>\n",
       "      <th></th>\n",
       "    </tr>\n",
       "  </thead>\n",
       "  <tbody>\n",
       "    <tr>\n",
       "      <th>indoor</th>\n",
       "      <td>77</td>\n",
       "      <td>0.916667</td>\n",
       "    </tr>\n",
       "    <tr>\n",
       "      <th>outdoor</th>\n",
       "      <td>7</td>\n",
       "      <td>0.083333</td>\n",
       "    </tr>\n",
       "  </tbody>\n",
       "</table>\n",
       "</div>"
      ],
      "text/plain": [
       "                count  ratio_to_all\n",
       "indoor/outdoor                     \n",
       "indoor             77      0.916667\n",
       "outdoor             7      0.083333"
      ]
     },
     "execution_count": 28,
     "metadata": {},
     "output_type": "execute_result"
    }
   ],
   "source": [
    "temp_2 = sq_df.groupby(['indoor/outdoor']).count().rename(columns={'file_name':'count'}).drop('gender', axis=1)\n",
    "temp_2['ratio_to_all'] = temp_2['count'].apply(lambda x: x/len(sq_df))\n",
    "temp_2"
   ]
  },
  {
   "cell_type": "markdown",
   "id": "7ec04959-5ffb-4b79-8f9a-db9cef621f9a",
   "metadata": {},
   "source": [
    "### pushup"
   ]
  },
  {
   "cell_type": "code",
   "execution_count": 6,
   "id": "786ed008-58c9-4b80-bb22-d7e2c2d21875",
   "metadata": {},
   "outputs": [
    {
     "data": {
      "text/html": [
       "<div>\n",
       "<style scoped>\n",
       "    .dataframe tbody tr th:only-of-type {\n",
       "        vertical-align: middle;\n",
       "    }\n",
       "\n",
       "    .dataframe tbody tr th {\n",
       "        vertical-align: top;\n",
       "    }\n",
       "\n",
       "    .dataframe thead th {\n",
       "        text-align: right;\n",
       "    }\n",
       "</style>\n",
       "<table border=\"1\" class=\"dataframe\">\n",
       "  <thead>\n",
       "    <tr style=\"text-align: right;\">\n",
       "      <th></th>\n",
       "      <th>count</th>\n",
       "      <th>ratio_to_all</th>\n",
       "    </tr>\n",
       "    <tr>\n",
       "      <th>gender</th>\n",
       "      <th></th>\n",
       "      <th></th>\n",
       "    </tr>\n",
       "  </thead>\n",
       "  <tbody>\n",
       "    <tr>\n",
       "      <th>female</th>\n",
       "      <td>8</td>\n",
       "      <td>0.083333</td>\n",
       "    </tr>\n",
       "    <tr>\n",
       "      <th>male</th>\n",
       "      <td>88</td>\n",
       "      <td>0.916667</td>\n",
       "    </tr>\n",
       "  </tbody>\n",
       "</table>\n",
       "</div>"
      ],
      "text/plain": [
       "        count  ratio_to_all\n",
       "gender                     \n",
       "female      8      0.083333\n",
       "male       88      0.916667"
      ]
     },
     "execution_count": 6,
     "metadata": {},
     "output_type": "execute_result"
    }
   ],
   "source": [
    "temp = pu_df.groupby(['gender']).count().rename(columns={'file_name':'count'}).drop('indoor/outdoor', axis=1)\n",
    "temp['ratio_to_all'] = temp['count'].apply(lambda x: x/len(pu_df))\n",
    "temp"
   ]
  },
  {
   "cell_type": "code",
   "execution_count": 7,
   "id": "976641a3-f66d-4012-93fa-56ff8db02db3",
   "metadata": {},
   "outputs": [
    {
     "data": {
      "text/html": [
       "<div>\n",
       "<style scoped>\n",
       "    .dataframe tbody tr th:only-of-type {\n",
       "        vertical-align: middle;\n",
       "    }\n",
       "\n",
       "    .dataframe tbody tr th {\n",
       "        vertical-align: top;\n",
       "    }\n",
       "\n",
       "    .dataframe thead th {\n",
       "        text-align: right;\n",
       "    }\n",
       "</style>\n",
       "<table border=\"1\" class=\"dataframe\">\n",
       "  <thead>\n",
       "    <tr style=\"text-align: right;\">\n",
       "      <th></th>\n",
       "      <th>count</th>\n",
       "      <th>ratio_to_all</th>\n",
       "    </tr>\n",
       "    <tr>\n",
       "      <th>indoor/outdoor</th>\n",
       "      <th></th>\n",
       "      <th></th>\n",
       "    </tr>\n",
       "  </thead>\n",
       "  <tbody>\n",
       "    <tr>\n",
       "      <th>indoor</th>\n",
       "      <td>71</td>\n",
       "      <td>0.739583</td>\n",
       "    </tr>\n",
       "    <tr>\n",
       "      <th>outdoor</th>\n",
       "      <td>25</td>\n",
       "      <td>0.260417</td>\n",
       "    </tr>\n",
       "  </tbody>\n",
       "</table>\n",
       "</div>"
      ],
      "text/plain": [
       "                count  ratio_to_all\n",
       "indoor/outdoor                     \n",
       "indoor             71      0.739583\n",
       "outdoor            25      0.260417"
      ]
     },
     "execution_count": 7,
     "metadata": {},
     "output_type": "execute_result"
    }
   ],
   "source": [
    "temp_2 = pu_df.groupby(['indoor/outdoor']).count().rename(columns={'file_name':'count'}).drop('gender', axis=1)\n",
    "temp_2['ratio_to_all'] = temp_2['count'].apply(lambda x: x/len(pu_df))\n",
    "temp_2"
   ]
  },
  {
   "cell_type": "markdown",
   "id": "6c690969-975d-4392-b5ab-136d60d6d0c0",
   "metadata": {},
   "source": [
    "### jumping-jack"
   ]
  },
  {
   "cell_type": "code",
   "execution_count": 8,
   "id": "c2d04c40-1a05-4e5e-b2e6-f5a387303aea",
   "metadata": {},
   "outputs": [
    {
     "data": {
      "text/html": [
       "<div>\n",
       "<style scoped>\n",
       "    .dataframe tbody tr th:only-of-type {\n",
       "        vertical-align: middle;\n",
       "    }\n",
       "\n",
       "    .dataframe tbody tr th {\n",
       "        vertical-align: top;\n",
       "    }\n",
       "\n",
       "    .dataframe thead th {\n",
       "        text-align: right;\n",
       "    }\n",
       "</style>\n",
       "<table border=\"1\" class=\"dataframe\">\n",
       "  <thead>\n",
       "    <tr style=\"text-align: right;\">\n",
       "      <th></th>\n",
       "      <th>count</th>\n",
       "      <th>ratio_to_all</th>\n",
       "    </tr>\n",
       "    <tr>\n",
       "      <th>gender</th>\n",
       "      <th></th>\n",
       "      <th></th>\n",
       "    </tr>\n",
       "  </thead>\n",
       "  <tbody>\n",
       "    <tr>\n",
       "      <th>female</th>\n",
       "      <td>47</td>\n",
       "      <td>0.447619</td>\n",
       "    </tr>\n",
       "    <tr>\n",
       "      <th>male</th>\n",
       "      <td>58</td>\n",
       "      <td>0.552381</td>\n",
       "    </tr>\n",
       "  </tbody>\n",
       "</table>\n",
       "</div>"
      ],
      "text/plain": [
       "        count  ratio_to_all\n",
       "gender                     \n",
       "female     47      0.447619\n",
       "male       58      0.552381"
      ]
     },
     "execution_count": 8,
     "metadata": {},
     "output_type": "execute_result"
    }
   ],
   "source": [
    "temp = jj_df.groupby(['gender']).count().rename(columns={'file_name':'count'}).drop('indoor/outdoor', axis=1)\n",
    "temp['ratio_to_all'] = temp['count'].apply(lambda x: x/len(jj_df))\n",
    "temp"
   ]
  },
  {
   "cell_type": "code",
   "execution_count": 9,
   "id": "16c3b84f-db4e-4e59-93b4-1a3e92176ea6",
   "metadata": {},
   "outputs": [
    {
     "data": {
      "text/html": [
       "<div>\n",
       "<style scoped>\n",
       "    .dataframe tbody tr th:only-of-type {\n",
       "        vertical-align: middle;\n",
       "    }\n",
       "\n",
       "    .dataframe tbody tr th {\n",
       "        vertical-align: top;\n",
       "    }\n",
       "\n",
       "    .dataframe thead th {\n",
       "        text-align: right;\n",
       "    }\n",
       "</style>\n",
       "<table border=\"1\" class=\"dataframe\">\n",
       "  <thead>\n",
       "    <tr style=\"text-align: right;\">\n",
       "      <th></th>\n",
       "      <th>count</th>\n",
       "      <th>ratio_to_all</th>\n",
       "    </tr>\n",
       "    <tr>\n",
       "      <th>indoor/outdoor</th>\n",
       "      <th></th>\n",
       "      <th></th>\n",
       "    </tr>\n",
       "  </thead>\n",
       "  <tbody>\n",
       "    <tr>\n",
       "      <th>indoor</th>\n",
       "      <td>74</td>\n",
       "      <td>0.704762</td>\n",
       "    </tr>\n",
       "    <tr>\n",
       "      <th>outdoor</th>\n",
       "      <td>31</td>\n",
       "      <td>0.295238</td>\n",
       "    </tr>\n",
       "  </tbody>\n",
       "</table>\n",
       "</div>"
      ],
      "text/plain": [
       "                count  ratio_to_all\n",
       "indoor/outdoor                     \n",
       "indoor             74      0.704762\n",
       "outdoor            31      0.295238"
      ]
     },
     "execution_count": 9,
     "metadata": {},
     "output_type": "execute_result"
    }
   ],
   "source": [
    "temp_2 = jj_df.groupby(['indoor/outdoor']).count().rename(columns={'file_name':'count'}).drop('gender', axis=1)\n",
    "temp_2['ratio_to_all'] = temp_2['count'].apply(lambda x: x/len(jj_df))\n",
    "temp_2"
   ]
  },
  {
   "cell_type": "markdown",
   "id": "ed1329a7-dd86-4e48-8f8b-4fc06d421770",
   "metadata": {},
   "source": [
    "### leg-raise"
   ]
  },
  {
   "cell_type": "code",
   "execution_count": 10,
   "id": "a78da6f9-077c-47b6-8bd3-0d0ee49f5668",
   "metadata": {},
   "outputs": [
    {
     "data": {
      "text/html": [
       "<div>\n",
       "<style scoped>\n",
       "    .dataframe tbody tr th:only-of-type {\n",
       "        vertical-align: middle;\n",
       "    }\n",
       "\n",
       "    .dataframe tbody tr th {\n",
       "        vertical-align: top;\n",
       "    }\n",
       "\n",
       "    .dataframe thead th {\n",
       "        text-align: right;\n",
       "    }\n",
       "</style>\n",
       "<table border=\"1\" class=\"dataframe\">\n",
       "  <thead>\n",
       "    <tr style=\"text-align: right;\">\n",
       "      <th></th>\n",
       "      <th>count</th>\n",
       "      <th>ratio_to_all</th>\n",
       "    </tr>\n",
       "    <tr>\n",
       "      <th>gender</th>\n",
       "      <th></th>\n",
       "      <th></th>\n",
       "    </tr>\n",
       "  </thead>\n",
       "  <tbody>\n",
       "    <tr>\n",
       "      <th>female</th>\n",
       "      <td>45</td>\n",
       "      <td>0.39823</td>\n",
       "    </tr>\n",
       "    <tr>\n",
       "      <th>male</th>\n",
       "      <td>68</td>\n",
       "      <td>0.60177</td>\n",
       "    </tr>\n",
       "  </tbody>\n",
       "</table>\n",
       "</div>"
      ],
      "text/plain": [
       "        count  ratio_to_all\n",
       "gender                     \n",
       "female     45       0.39823\n",
       "male       68       0.60177"
      ]
     },
     "execution_count": 10,
     "metadata": {},
     "output_type": "execute_result"
    }
   ],
   "source": [
    "temp = lr_df.groupby(['gender']).count().rename(columns={'file_name':'count'}).drop('indoor/outdoor', axis=1)\n",
    "temp['ratio_to_all'] = temp['count'].apply(lambda x: x/len(lr_df))\n",
    "temp"
   ]
  },
  {
   "cell_type": "code",
   "execution_count": 11,
   "id": "43f32ec7-370e-4ee8-adfc-f2ee8e150ce9",
   "metadata": {},
   "outputs": [
    {
     "data": {
      "text/html": [
       "<div>\n",
       "<style scoped>\n",
       "    .dataframe tbody tr th:only-of-type {\n",
       "        vertical-align: middle;\n",
       "    }\n",
       "\n",
       "    .dataframe tbody tr th {\n",
       "        vertical-align: top;\n",
       "    }\n",
       "\n",
       "    .dataframe thead th {\n",
       "        text-align: right;\n",
       "    }\n",
       "</style>\n",
       "<table border=\"1\" class=\"dataframe\">\n",
       "  <thead>\n",
       "    <tr style=\"text-align: right;\">\n",
       "      <th></th>\n",
       "      <th>count</th>\n",
       "      <th>ratio_to_all</th>\n",
       "    </tr>\n",
       "    <tr>\n",
       "      <th>indoor/outdoor</th>\n",
       "      <th></th>\n",
       "      <th></th>\n",
       "    </tr>\n",
       "  </thead>\n",
       "  <tbody>\n",
       "    <tr>\n",
       "      <th>indoor</th>\n",
       "      <td>97</td>\n",
       "      <td>0.858407</td>\n",
       "    </tr>\n",
       "    <tr>\n",
       "      <th>outdoor</th>\n",
       "      <td>16</td>\n",
       "      <td>0.141593</td>\n",
       "    </tr>\n",
       "  </tbody>\n",
       "</table>\n",
       "</div>"
      ],
      "text/plain": [
       "                count  ratio_to_all\n",
       "indoor/outdoor                     \n",
       "indoor             97      0.858407\n",
       "outdoor            16      0.141593"
      ]
     },
     "execution_count": 11,
     "metadata": {},
     "output_type": "execute_result"
    }
   ],
   "source": [
    "temp_2 = lr_df.groupby(['indoor/outdoor']).count().rename(columns={'file_name':'count'}).drop('gender', axis=1)\n",
    "temp_2['ratio_to_all'] = temp_2['count'].apply(lambda x: x/len(lr_df))\n",
    "temp_2"
   ]
  },
  {
   "cell_type": "markdown",
   "id": "c36805b5-dd9b-4f34-b7d4-edc6791e0d24",
   "metadata": {},
   "source": [
    "### half-burpee"
   ]
  },
  {
   "cell_type": "code",
   "execution_count": 12,
   "id": "2c91b6b8-853e-4a5e-a564-1f884aa5c814",
   "metadata": {},
   "outputs": [
    {
     "data": {
      "text/html": [
       "<div>\n",
       "<style scoped>\n",
       "    .dataframe tbody tr th:only-of-type {\n",
       "        vertical-align: middle;\n",
       "    }\n",
       "\n",
       "    .dataframe tbody tr th {\n",
       "        vertical-align: top;\n",
       "    }\n",
       "\n",
       "    .dataframe thead th {\n",
       "        text-align: right;\n",
       "    }\n",
       "</style>\n",
       "<table border=\"1\" class=\"dataframe\">\n",
       "  <thead>\n",
       "    <tr style=\"text-align: right;\">\n",
       "      <th></th>\n",
       "      <th>count</th>\n",
       "      <th>ratio_to_all</th>\n",
       "    </tr>\n",
       "    <tr>\n",
       "      <th>gender</th>\n",
       "      <th></th>\n",
       "      <th></th>\n",
       "    </tr>\n",
       "  </thead>\n",
       "  <tbody>\n",
       "    <tr>\n",
       "      <th>female</th>\n",
       "      <td>48</td>\n",
       "      <td>0.457143</td>\n",
       "    </tr>\n",
       "    <tr>\n",
       "      <th>male</th>\n",
       "      <td>57</td>\n",
       "      <td>0.542857</td>\n",
       "    </tr>\n",
       "  </tbody>\n",
       "</table>\n",
       "</div>"
      ],
      "text/plain": [
       "        count  ratio_to_all\n",
       "gender                     \n",
       "female     48      0.457143\n",
       "male       57      0.542857"
      ]
     },
     "execution_count": 12,
     "metadata": {},
     "output_type": "execute_result"
    }
   ],
   "source": [
    "temp = hb_df.groupby(['gender']).count().rename(columns={'file_name':'count'}).drop('indoor/outdoor', axis=1)\n",
    "temp['ratio_to_all'] = temp['count'].apply(lambda x: x/len(hb_df))\n",
    "temp"
   ]
  },
  {
   "cell_type": "code",
   "execution_count": 13,
   "id": "2919eb77-691b-4f1f-aba0-237b96da82a3",
   "metadata": {},
   "outputs": [
    {
     "data": {
      "text/html": [
       "<div>\n",
       "<style scoped>\n",
       "    .dataframe tbody tr th:only-of-type {\n",
       "        vertical-align: middle;\n",
       "    }\n",
       "\n",
       "    .dataframe tbody tr th {\n",
       "        vertical-align: top;\n",
       "    }\n",
       "\n",
       "    .dataframe thead th {\n",
       "        text-align: right;\n",
       "    }\n",
       "</style>\n",
       "<table border=\"1\" class=\"dataframe\">\n",
       "  <thead>\n",
       "    <tr style=\"text-align: right;\">\n",
       "      <th></th>\n",
       "      <th>count</th>\n",
       "      <th>ratio_to_all</th>\n",
       "    </tr>\n",
       "    <tr>\n",
       "      <th>indoor/outdoor</th>\n",
       "      <th></th>\n",
       "      <th></th>\n",
       "    </tr>\n",
       "  </thead>\n",
       "  <tbody>\n",
       "    <tr>\n",
       "      <th>indoor</th>\n",
       "      <td>91</td>\n",
       "      <td>0.866667</td>\n",
       "    </tr>\n",
       "    <tr>\n",
       "      <th>outdoor</th>\n",
       "      <td>14</td>\n",
       "      <td>0.133333</td>\n",
       "    </tr>\n",
       "  </tbody>\n",
       "</table>\n",
       "</div>"
      ],
      "text/plain": [
       "                count  ratio_to_all\n",
       "indoor/outdoor                     \n",
       "indoor             91      0.866667\n",
       "outdoor            14      0.133333"
      ]
     },
     "execution_count": 13,
     "metadata": {},
     "output_type": "execute_result"
    }
   ],
   "source": [
    "temp_2 = hb_df.groupby(['indoor/outdoor']).count().rename(columns={'file_name':'count'}).drop('gender', axis=1)\n",
    "temp_2['ratio_to_all'] = temp_2['count'].apply(lambda x: x/len(hb_df))\n",
    "temp_2"
   ]
  },
  {
   "cell_type": "code",
   "execution_count": null,
   "id": "0809d836-c2f8-4856-ba4a-f994c5bc141e",
   "metadata": {},
   "outputs": [],
   "source": []
  }
 ],
 "metadata": {
  "kernelspec": {
   "display_name": "ezfit_tf2",
   "language": "python",
   "name": "ezfit_tf2"
  },
  "language_info": {
   "codemirror_mode": {
    "name": "ipython",
    "version": 3
   },
   "file_extension": ".py",
   "mimetype": "text/x-python",
   "name": "python",
   "nbconvert_exporter": "python",
   "pygments_lexer": "ipython3",
   "version": "3.9.4"
  }
 },
 "nbformat": 4,
 "nbformat_minor": 5
}
