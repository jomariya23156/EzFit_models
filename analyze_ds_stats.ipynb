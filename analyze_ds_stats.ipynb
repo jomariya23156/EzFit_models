{
 "cells": [
  {
   "cell_type": "markdown",
   "id": "b99081b2-164c-48c8-b334-961bbbcf7568",
   "metadata": {},
   "source": [
    "# Import"
   ]
  },
  {
   "cell_type": "code",
   "execution_count": 1,
   "id": "7ca25a73-c67f-401c-82c4-16b2e8f4af84",
   "metadata": {},
   "outputs": [],
   "source": [
    "import numpy as np\n",
    "import pandas as pd\n",
    "from pathlib import Path"
   ]
  },
  {
   "cell_type": "markdown",
   "id": "53518359-474a-4a9d-9a2d-c14bde2be8cd",
   "metadata": {
    "tags": []
   },
   "source": [
    "# Define path and get df"
   ]
  },
  {
   "cell_type": "code",
   "execution_count": 79,
   "id": "a829ed55-1df7-48a7-98aa-24250f7184e8",
   "metadata": {},
   "outputs": [],
   "source": [
    "BASE_VID_DIR = Path('vid_labels/orig_vid_labels')\n",
    "BASE_SPLIT_VID_DIR = Path('vid_labels/split_vid_labels')\n",
    "# squat\n",
    "sq_vid_df = pd.read_csv(BASE_VID_DIR / 'squat_video_labels.csv')\n",
    "sq_split_vid_df = pd.read_csv(BASE_SPLIT_VID_DIR / 'squat_split_video_labels.csv')\n",
    "# pushup\n",
    "pu_vid_df = pd.read_csv(BASE_VID_DIR / 'pushup_video_labels.csv')\n",
    "pu_split_vid_df = pd.read_csv(BASE_SPLIT_VID_DIR / 'pushup_split_video_labels.csv')\n",
    "# jumping-jack\n",
    "jj_vid_df = pd.read_csv(BASE_VID_DIR / 'jumping-jack_video_labels.csv')\n",
    "jj_split_vid_df = pd.read_csv(BASE_SPLIT_VID_DIR / 'jumping-jack_split_video_labels.csv')\n",
    "# leg-raise\n",
    "lr_vid_df = pd.read_csv(BASE_VID_DIR / 'leg-raise_video_labels.csv')\n",
    "lr_split_vid_df = pd.read_csv(BASE_SPLIT_VID_DIR / 'leg-raise_split_video_labels.csv')\n",
    "# half-burpee\n",
    "hb_vid_df = pd.read_csv(BASE_VID_DIR / 'half-burpee_video_labels.csv')\n",
    "hb_split_vid_df = pd.read_csv(BASE_SPLIT_VID_DIR / 'half-burpee_split_video_labels.csv')"
   ]
  },
  {
   "cell_type": "markdown",
   "id": "de3b7473-debc-4b60-a3b6-42d955b7c3fd",
   "metadata": {},
   "source": [
    "# squat"
   ]
  },
  {
   "cell_type": "markdown",
   "id": "4dc60434-4fe4-4d00-89a6-23e112d7b86e",
   "metadata": {},
   "source": [
    "## video level"
   ]
  },
  {
   "cell_type": "code",
   "execution_count": 15,
   "id": "1c0351d4-4d4e-4c04-87e2-e84476996019",
   "metadata": {},
   "outputs": [],
   "source": [
    "sq_vid_df = sq_vid_df.drop('Unnamed: 3', axis=1)\n",
    "# sq_vid_df"
   ]
  },
  {
   "cell_type": "code",
   "execution_count": 16,
   "id": "e4a7cd24-53c5-4058-bc7c-83f8d7a3468b",
   "metadata": {},
   "outputs": [
    {
     "data": {
      "text/html": [
       "<div>\n",
       "<style scoped>\n",
       "    .dataframe tbody tr th:only-of-type {\n",
       "        vertical-align: middle;\n",
       "    }\n",
       "\n",
       "    .dataframe tbody tr th {\n",
       "        vertical-align: top;\n",
       "    }\n",
       "\n",
       "    .dataframe thead th {\n",
       "        text-align: right;\n",
       "    }\n",
       "</style>\n",
       "<table border=\"1\" class=\"dataframe\">\n",
       "  <thead>\n",
       "    <tr style=\"text-align: right;\">\n",
       "      <th></th>\n",
       "      <th>count</th>\n",
       "      <th>ratio_to_all</th>\n",
       "    </tr>\n",
       "    <tr>\n",
       "      <th>gender</th>\n",
       "      <th></th>\n",
       "      <th></th>\n",
       "    </tr>\n",
       "  </thead>\n",
       "  <tbody>\n",
       "    <tr>\n",
       "      <th>female</th>\n",
       "      <td>40</td>\n",
       "      <td>47.619%</td>\n",
       "    </tr>\n",
       "    <tr>\n",
       "      <th>male</th>\n",
       "      <td>44</td>\n",
       "      <td>52.381%</td>\n",
       "    </tr>\n",
       "  </tbody>\n",
       "</table>\n",
       "</div>"
      ],
      "text/plain": [
       "        count ratio_to_all\n",
       "gender                    \n",
       "female     40      47.619%\n",
       "male       44      52.381%"
      ]
     },
     "execution_count": 16,
     "metadata": {},
     "output_type": "execute_result"
    }
   ],
   "source": [
    "# gender\n",
    "temp = sq_vid_df.groupby(['gender']).count().rename(columns={'file_name':'count'}).drop('indoor/outdoor', axis=1)\n",
    "temp['ratio_to_all'] = temp['count'].apply(lambda x: f'{(x/len(sq_vid_df)*100):.3f}%')\n",
    "temp"
   ]
  },
  {
   "cell_type": "code",
   "execution_count": 17,
   "id": "fcce2835-bc53-4661-a68e-fc2fc8b823f5",
   "metadata": {},
   "outputs": [
    {
     "data": {
      "text/html": [
       "<div>\n",
       "<style scoped>\n",
       "    .dataframe tbody tr th:only-of-type {\n",
       "        vertical-align: middle;\n",
       "    }\n",
       "\n",
       "    .dataframe tbody tr th {\n",
       "        vertical-align: top;\n",
       "    }\n",
       "\n",
       "    .dataframe thead th {\n",
       "        text-align: right;\n",
       "    }\n",
       "</style>\n",
       "<table border=\"1\" class=\"dataframe\">\n",
       "  <thead>\n",
       "    <tr style=\"text-align: right;\">\n",
       "      <th></th>\n",
       "      <th>count</th>\n",
       "      <th>ratio_to_all</th>\n",
       "    </tr>\n",
       "    <tr>\n",
       "      <th>indoor/outdoor</th>\n",
       "      <th></th>\n",
       "      <th></th>\n",
       "    </tr>\n",
       "  </thead>\n",
       "  <tbody>\n",
       "    <tr>\n",
       "      <th>indoor</th>\n",
       "      <td>77</td>\n",
       "      <td>91.667%</td>\n",
       "    </tr>\n",
       "    <tr>\n",
       "      <th>outdoor</th>\n",
       "      <td>7</td>\n",
       "      <td>8.333%</td>\n",
       "    </tr>\n",
       "  </tbody>\n",
       "</table>\n",
       "</div>"
      ],
      "text/plain": [
       "                count ratio_to_all\n",
       "indoor/outdoor                    \n",
       "indoor             77      91.667%\n",
       "outdoor             7       8.333%"
      ]
     },
     "execution_count": 17,
     "metadata": {},
     "output_type": "execute_result"
    }
   ],
   "source": [
    "# indoor/outdoor\n",
    "temp_2 = sq_vid_df.groupby(['indoor/outdoor']).count().rename(columns={'file_name':'count'}).drop('gender', axis=1)\n",
    "temp_2['ratio_to_all'] = temp_2['count'].apply(lambda x: f'{(x/len(sq_vid_df)*100):.3f}%')\n",
    "temp_2"
   ]
  },
  {
   "cell_type": "markdown",
   "id": "647b4a10-49be-4f26-aca6-25ee70d1ae42",
   "metadata": {
    "tags": []
   },
   "source": [
    "## split-video level"
   ]
  },
  {
   "cell_type": "code",
   "execution_count": 28,
   "id": "725e3384-d48a-4d3f-935b-80608fa7d1ad",
   "metadata": {},
   "outputs": [
    {
     "data": {
      "text/html": [
       "<div>\n",
       "<style scoped>\n",
       "    .dataframe tbody tr th:only-of-type {\n",
       "        vertical-align: middle;\n",
       "    }\n",
       "\n",
       "    .dataframe tbody tr th {\n",
       "        vertical-align: top;\n",
       "    }\n",
       "\n",
       "    .dataframe thead th {\n",
       "        text-align: right;\n",
       "    }\n",
       "</style>\n",
       "<table border=\"1\" class=\"dataframe\">\n",
       "  <thead>\n",
       "    <tr style=\"text-align: right;\">\n",
       "      <th></th>\n",
       "      <th>count</th>\n",
       "      <th>percentage</th>\n",
       "    </tr>\n",
       "    <tr>\n",
       "      <th>5-classes-view</th>\n",
       "      <th></th>\n",
       "      <th></th>\n",
       "    </tr>\n",
       "  </thead>\n",
       "  <tbody>\n",
       "    <tr>\n",
       "      <th>back</th>\n",
       "      <td>28</td>\n",
       "      <td>11.429%</td>\n",
       "    </tr>\n",
       "    <tr>\n",
       "      <th>front</th>\n",
       "      <td>6</td>\n",
       "      <td>2.449%</td>\n",
       "    </tr>\n",
       "    <tr>\n",
       "      <th>left-tilted</th>\n",
       "      <td>50</td>\n",
       "      <td>20.408%</td>\n",
       "    </tr>\n",
       "    <tr>\n",
       "      <th>right-tilted</th>\n",
       "      <td>33</td>\n",
       "      <td>13.469%</td>\n",
       "    </tr>\n",
       "    <tr>\n",
       "      <th>side</th>\n",
       "      <td>128</td>\n",
       "      <td>52.245%</td>\n",
       "    </tr>\n",
       "  </tbody>\n",
       "</table>\n",
       "</div>"
      ],
      "text/plain": [
       "                count percentage\n",
       "5-classes-view                  \n",
       "back               28    11.429%\n",
       "front               6     2.449%\n",
       "left-tilted        50    20.408%\n",
       "right-tilted       33    13.469%\n",
       "side              128    52.245%"
      ]
     },
     "execution_count": 28,
     "metadata": {},
     "output_type": "execute_result"
    }
   ],
   "source": [
    "# 5-classes-view\n",
    "df_for = '5-classes-view'\n",
    "col_to_del = list(sq_split_vid_df.columns)\n",
    "col_to_del.remove('file_name')\n",
    "col_to_del.remove(df_for)\n",
    "temp_3 = sq_split_vid_df.groupby([df_for]).count().rename(columns={'file_name':'count'}).drop(col_to_del, axis=1)\n",
    "temp_3['percentage'] = temp_3['count'].apply(lambda x: f'{(x/len(sq_split_vid_df)*100):.3f}%')\n",
    "temp_3"
   ]
  },
  {
   "cell_type": "code",
   "execution_count": 29,
   "id": "d8174f8d-b6ee-449b-8009-4d451a7eaf01",
   "metadata": {},
   "outputs": [
    {
     "data": {
      "text/html": [
       "<div>\n",
       "<style scoped>\n",
       "    .dataframe tbody tr th:only-of-type {\n",
       "        vertical-align: middle;\n",
       "    }\n",
       "\n",
       "    .dataframe tbody tr th {\n",
       "        vertical-align: top;\n",
       "    }\n",
       "\n",
       "    .dataframe thead th {\n",
       "        text-align: right;\n",
       "    }\n",
       "</style>\n",
       "<table border=\"1\" class=\"dataframe\">\n",
       "  <thead>\n",
       "    <tr style=\"text-align: right;\">\n",
       "      <th></th>\n",
       "      <th>count</th>\n",
       "      <th>percentage</th>\n",
       "    </tr>\n",
       "    <tr>\n",
       "      <th>position</th>\n",
       "      <th></th>\n",
       "      <th></th>\n",
       "    </tr>\n",
       "  </thead>\n",
       "  <tbody>\n",
       "    <tr>\n",
       "      <th>center</th>\n",
       "      <td>245</td>\n",
       "      <td>100.000%</td>\n",
       "    </tr>\n",
       "  </tbody>\n",
       "</table>\n",
       "</div>"
      ],
      "text/plain": [
       "          count percentage\n",
       "position                  \n",
       "center      245   100.000%"
      ]
     },
     "execution_count": 29,
     "metadata": {},
     "output_type": "execute_result"
    }
   ],
   "source": [
    "# position\n",
    "df_for = 'position'\n",
    "col_to_del = list(sq_split_vid_df.columns)\n",
    "col_to_del.remove('file_name')\n",
    "col_to_del.remove(df_for)\n",
    "temp = sq_split_vid_df.groupby([df_for]).count().rename(columns={'file_name':'count'}).drop(col_to_del, axis=1)\n",
    "temp['percentage'] = temp['count'].apply(lambda x: f'{(x/len(sq_split_vid_df)*100):.3f}%')\n",
    "temp"
   ]
  },
  {
   "cell_type": "code",
   "execution_count": 30,
   "id": "16a984c8-dc79-4f9f-ab69-c6d610255a07",
   "metadata": {},
   "outputs": [
    {
     "data": {
      "text/html": [
       "<div>\n",
       "<style scoped>\n",
       "    .dataframe tbody tr th:only-of-type {\n",
       "        vertical-align: middle;\n",
       "    }\n",
       "\n",
       "    .dataframe tbody tr th {\n",
       "        vertical-align: top;\n",
       "    }\n",
       "\n",
       "    .dataframe thead th {\n",
       "        text-align: right;\n",
       "    }\n",
       "</style>\n",
       "<table border=\"1\" class=\"dataframe\">\n",
       "  <thead>\n",
       "    <tr style=\"text-align: right;\">\n",
       "      <th></th>\n",
       "      <th>count</th>\n",
       "      <th>percentage</th>\n",
       "    </tr>\n",
       "    <tr>\n",
       "      <th>distance</th>\n",
       "      <th></th>\n",
       "      <th></th>\n",
       "    </tr>\n",
       "  </thead>\n",
       "  <tbody>\n",
       "    <tr>\n",
       "      <th>close</th>\n",
       "      <td>20</td>\n",
       "      <td>8.163%</td>\n",
       "    </tr>\n",
       "    <tr>\n",
       "      <th>far</th>\n",
       "      <td>20</td>\n",
       "      <td>8.163%</td>\n",
       "    </tr>\n",
       "    <tr>\n",
       "      <th>fit</th>\n",
       "      <td>205</td>\n",
       "      <td>83.673%</td>\n",
       "    </tr>\n",
       "  </tbody>\n",
       "</table>\n",
       "</div>"
      ],
      "text/plain": [
       "          count percentage\n",
       "distance                  \n",
       "close        20     8.163%\n",
       "far          20     8.163%\n",
       "fit         205    83.673%"
      ]
     },
     "execution_count": 30,
     "metadata": {},
     "output_type": "execute_result"
    }
   ],
   "source": [
    "# distance\n",
    "df_for = 'distance'\n",
    "col_to_del = list(sq_split_vid_df.columns)\n",
    "col_to_del.remove('file_name')\n",
    "col_to_del.remove(df_for)\n",
    "temp = sq_split_vid_df.groupby([df_for]).count().rename(columns={'file_name':'count'}).drop(col_to_del, axis=1)\n",
    "temp['percentage'] = temp['count'].apply(lambda x: f'{(x/len(sq_split_vid_df)*100):.3f}%')\n",
    "temp"
   ]
  },
  {
   "cell_type": "code",
   "execution_count": 31,
   "id": "a88037dd-9bbd-42b2-9938-022271e9b486",
   "metadata": {},
   "outputs": [
    {
     "data": {
      "text/html": [
       "<div>\n",
       "<style scoped>\n",
       "    .dataframe tbody tr th:only-of-type {\n",
       "        vertical-align: middle;\n",
       "    }\n",
       "\n",
       "    .dataframe tbody tr th {\n",
       "        vertical-align: top;\n",
       "    }\n",
       "\n",
       "    .dataframe thead th {\n",
       "        text-align: right;\n",
       "    }\n",
       "</style>\n",
       "<table border=\"1\" class=\"dataframe\">\n",
       "  <thead>\n",
       "    <tr style=\"text-align: right;\">\n",
       "      <th></th>\n",
       "      <th>count</th>\n",
       "      <th>percentage</th>\n",
       "    </tr>\n",
       "    <tr>\n",
       "      <th>gender</th>\n",
       "      <th></th>\n",
       "      <th></th>\n",
       "    </tr>\n",
       "  </thead>\n",
       "  <tbody>\n",
       "    <tr>\n",
       "      <th>female</th>\n",
       "      <td>92</td>\n",
       "      <td>37.551%</td>\n",
       "    </tr>\n",
       "    <tr>\n",
       "      <th>male</th>\n",
       "      <td>153</td>\n",
       "      <td>62.449%</td>\n",
       "    </tr>\n",
       "  </tbody>\n",
       "</table>\n",
       "</div>"
      ],
      "text/plain": [
       "        count percentage\n",
       "gender                  \n",
       "female     92    37.551%\n",
       "male      153    62.449%"
      ]
     },
     "execution_count": 31,
     "metadata": {},
     "output_type": "execute_result"
    }
   ],
   "source": [
    "# gender\n",
    "df_for = 'gender'\n",
    "col_to_del = list(sq_split_vid_df.columns)\n",
    "col_to_del.remove('file_name')\n",
    "col_to_del.remove(df_for)\n",
    "temp = sq_split_vid_df.groupby([df_for]).count().rename(columns={'file_name':'count'}).drop(col_to_del, axis=1)\n",
    "temp['percentage'] = temp['count'].apply(lambda x: f'{(x/len(sq_split_vid_df)*100):.3f}%')\n",
    "temp"
   ]
  },
  {
   "cell_type": "code",
   "execution_count": 32,
   "id": "4bce0ee4-2402-4595-bcb6-f03c1ec610aa",
   "metadata": {},
   "outputs": [
    {
     "data": {
      "text/html": [
       "<div>\n",
       "<style scoped>\n",
       "    .dataframe tbody tr th:only-of-type {\n",
       "        vertical-align: middle;\n",
       "    }\n",
       "\n",
       "    .dataframe tbody tr th {\n",
       "        vertical-align: top;\n",
       "    }\n",
       "\n",
       "    .dataframe thead th {\n",
       "        text-align: right;\n",
       "    }\n",
       "</style>\n",
       "<table border=\"1\" class=\"dataframe\">\n",
       "  <thead>\n",
       "    <tr style=\"text-align: right;\">\n",
       "      <th></th>\n",
       "      <th>count</th>\n",
       "      <th>percentage</th>\n",
       "    </tr>\n",
       "    <tr>\n",
       "      <th>indoor/outdoor</th>\n",
       "      <th></th>\n",
       "      <th></th>\n",
       "    </tr>\n",
       "  </thead>\n",
       "  <tbody>\n",
       "    <tr>\n",
       "      <th>indoor</th>\n",
       "      <td>233</td>\n",
       "      <td>95.102%</td>\n",
       "    </tr>\n",
       "    <tr>\n",
       "      <th>outdoor</th>\n",
       "      <td>12</td>\n",
       "      <td>4.898%</td>\n",
       "    </tr>\n",
       "  </tbody>\n",
       "</table>\n",
       "</div>"
      ],
      "text/plain": [
       "                count percentage\n",
       "indoor/outdoor                  \n",
       "indoor            233    95.102%\n",
       "outdoor            12     4.898%"
      ]
     },
     "execution_count": 32,
     "metadata": {},
     "output_type": "execute_result"
    }
   ],
   "source": [
    "# indoor/outdoor\n",
    "df_for = 'indoor/outdoor'\n",
    "col_to_del = list(sq_split_vid_df.columns)\n",
    "col_to_del.remove('file_name')\n",
    "col_to_del.remove(df_for)\n",
    "temp = sq_split_vid_df.groupby([df_for]).count().rename(columns={'file_name':'count'}).drop(col_to_del, axis=1)\n",
    "temp['percentage'] = temp['count'].apply(lambda x: f'{(x/len(sq_split_vid_df)*100):.3f}%')\n",
    "temp"
   ]
  },
  {
   "cell_type": "markdown",
   "id": "7ec04959-5ffb-4b79-8f9a-db9cef621f9a",
   "metadata": {},
   "source": [
    "# pushup"
   ]
  },
  {
   "cell_type": "markdown",
   "id": "ee23a5c6-271a-48b0-83fe-c478ff758b3c",
   "metadata": {},
   "source": [
    "## video level"
   ]
  },
  {
   "cell_type": "code",
   "execution_count": 81,
   "id": "3a0cca60-8de7-42c7-aa62-b788f2b158e1",
   "metadata": {},
   "outputs": [
    {
     "data": {
      "text/html": [
       "<div>\n",
       "<style scoped>\n",
       "    .dataframe tbody tr th:only-of-type {\n",
       "        vertical-align: middle;\n",
       "    }\n",
       "\n",
       "    .dataframe tbody tr th {\n",
       "        vertical-align: top;\n",
       "    }\n",
       "\n",
       "    .dataframe thead th {\n",
       "        text-align: right;\n",
       "    }\n",
       "</style>\n",
       "<table border=\"1\" class=\"dataframe\">\n",
       "  <thead>\n",
       "    <tr style=\"text-align: right;\">\n",
       "      <th></th>\n",
       "      <th>count</th>\n",
       "      <th>ratio_to_all</th>\n",
       "    </tr>\n",
       "    <tr>\n",
       "      <th>gender</th>\n",
       "      <th></th>\n",
       "      <th></th>\n",
       "    </tr>\n",
       "  </thead>\n",
       "  <tbody>\n",
       "    <tr>\n",
       "      <th>female</th>\n",
       "      <td>8</td>\n",
       "      <td>8.333%</td>\n",
       "    </tr>\n",
       "    <tr>\n",
       "      <th>male</th>\n",
       "      <td>88</td>\n",
       "      <td>91.667%</td>\n",
       "    </tr>\n",
       "  </tbody>\n",
       "</table>\n",
       "</div>"
      ],
      "text/plain": [
       "        count ratio_to_all\n",
       "gender                    \n",
       "female      8       8.333%\n",
       "male       88      91.667%"
      ]
     },
     "execution_count": 81,
     "metadata": {},
     "output_type": "execute_result"
    }
   ],
   "source": [
    "# gender\n",
    "temp = pu_vid_df.groupby(['gender']).count().rename(columns={'file_name':'count'}).drop('indoor/outdoor', axis=1)\n",
    "temp['ratio_to_all'] = temp['count'].apply(lambda x: f'{(x/len(pu_vid_df)*100):.3f}%')\n",
    "temp"
   ]
  },
  {
   "cell_type": "code",
   "execution_count": 82,
   "id": "8d4aed4e-3b72-4f0b-b269-b08e6479f271",
   "metadata": {},
   "outputs": [
    {
     "data": {
      "text/html": [
       "<div>\n",
       "<style scoped>\n",
       "    .dataframe tbody tr th:only-of-type {\n",
       "        vertical-align: middle;\n",
       "    }\n",
       "\n",
       "    .dataframe tbody tr th {\n",
       "        vertical-align: top;\n",
       "    }\n",
       "\n",
       "    .dataframe thead th {\n",
       "        text-align: right;\n",
       "    }\n",
       "</style>\n",
       "<table border=\"1\" class=\"dataframe\">\n",
       "  <thead>\n",
       "    <tr style=\"text-align: right;\">\n",
       "      <th></th>\n",
       "      <th>count</th>\n",
       "      <th>ratio_to_all</th>\n",
       "    </tr>\n",
       "    <tr>\n",
       "      <th>indoor/outdoor</th>\n",
       "      <th></th>\n",
       "      <th></th>\n",
       "    </tr>\n",
       "  </thead>\n",
       "  <tbody>\n",
       "    <tr>\n",
       "      <th>indoor</th>\n",
       "      <td>71</td>\n",
       "      <td>73.958%</td>\n",
       "    </tr>\n",
       "    <tr>\n",
       "      <th>outdoor</th>\n",
       "      <td>25</td>\n",
       "      <td>26.042%</td>\n",
       "    </tr>\n",
       "  </tbody>\n",
       "</table>\n",
       "</div>"
      ],
      "text/plain": [
       "                count ratio_to_all\n",
       "indoor/outdoor                    \n",
       "indoor             71      73.958%\n",
       "outdoor            25      26.042%"
      ]
     },
     "execution_count": 82,
     "metadata": {},
     "output_type": "execute_result"
    }
   ],
   "source": [
    "# indoor/outdoor\n",
    "temp_2 = pu_vid_df.groupby(['indoor/outdoor']).count().rename(columns={'file_name':'count'}).drop('gender', axis=1)\n",
    "temp_2['ratio_to_all'] = temp_2['count'].apply(lambda x: f'{(x/len(pu_vid_df)*100):.3f}%')\n",
    "temp_2"
   ]
  },
  {
   "cell_type": "markdown",
   "id": "599fee6a-33fa-4f68-9308-f1b630c7f614",
   "metadata": {
    "tags": []
   },
   "source": [
    "## split-video level"
   ]
  },
  {
   "cell_type": "code",
   "execution_count": 83,
   "id": "d7d61bbb-8ca1-40f5-bf9c-a9dd597e41d6",
   "metadata": {},
   "outputs": [
    {
     "data": {
      "text/html": [
       "<div>\n",
       "<style scoped>\n",
       "    .dataframe tbody tr th:only-of-type {\n",
       "        vertical-align: middle;\n",
       "    }\n",
       "\n",
       "    .dataframe tbody tr th {\n",
       "        vertical-align: top;\n",
       "    }\n",
       "\n",
       "    .dataframe thead th {\n",
       "        text-align: right;\n",
       "    }\n",
       "</style>\n",
       "<table border=\"1\" class=\"dataframe\">\n",
       "  <thead>\n",
       "    <tr style=\"text-align: right;\">\n",
       "      <th></th>\n",
       "      <th>count</th>\n",
       "      <th>percentage</th>\n",
       "    </tr>\n",
       "    <tr>\n",
       "      <th>5-classes-view</th>\n",
       "      <th></th>\n",
       "      <th></th>\n",
       "    </tr>\n",
       "  </thead>\n",
       "  <tbody>\n",
       "    <tr>\n",
       "      <th>back</th>\n",
       "      <td>11</td>\n",
       "      <td>2.535%</td>\n",
       "    </tr>\n",
       "    <tr>\n",
       "      <th>front</th>\n",
       "      <td>21</td>\n",
       "      <td>4.839%</td>\n",
       "    </tr>\n",
       "    <tr>\n",
       "      <th>left-tilted</th>\n",
       "      <td>102</td>\n",
       "      <td>23.502%</td>\n",
       "    </tr>\n",
       "    <tr>\n",
       "      <th>right-tilted</th>\n",
       "      <td>123</td>\n",
       "      <td>28.341%</td>\n",
       "    </tr>\n",
       "    <tr>\n",
       "      <th>side</th>\n",
       "      <td>177</td>\n",
       "      <td>40.783%</td>\n",
       "    </tr>\n",
       "  </tbody>\n",
       "</table>\n",
       "</div>"
      ],
      "text/plain": [
       "                count percentage\n",
       "5-classes-view                  \n",
       "back               11     2.535%\n",
       "front              21     4.839%\n",
       "left-tilted       102    23.502%\n",
       "right-tilted      123    28.341%\n",
       "side              177    40.783%"
      ]
     },
     "execution_count": 83,
     "metadata": {},
     "output_type": "execute_result"
    }
   ],
   "source": [
    "# 5-classes-view\n",
    "df_for = '5-classes-view'\n",
    "col_to_del = list(pu_split_vid_df.columns)\n",
    "col_to_del.remove('file_name')\n",
    "col_to_del.remove(df_for)\n",
    "temp_3 = pu_split_vid_df.groupby([df_for]).count().rename(columns={'file_name':'count'}).drop(col_to_del, axis=1)\n",
    "temp_3['percentage'] = temp_3['count'].apply(lambda x: f'{(x/len(pu_split_vid_df)*100):.3f}%')\n",
    "temp_3"
   ]
  },
  {
   "cell_type": "code",
   "execution_count": 84,
   "id": "3ce791c9-f01b-42ac-ae10-1bf597214c9d",
   "metadata": {},
   "outputs": [
    {
     "data": {
      "text/html": [
       "<div>\n",
       "<style scoped>\n",
       "    .dataframe tbody tr th:only-of-type {\n",
       "        vertical-align: middle;\n",
       "    }\n",
       "\n",
       "    .dataframe tbody tr th {\n",
       "        vertical-align: top;\n",
       "    }\n",
       "\n",
       "    .dataframe thead th {\n",
       "        text-align: right;\n",
       "    }\n",
       "</style>\n",
       "<table border=\"1\" class=\"dataframe\">\n",
       "  <thead>\n",
       "    <tr style=\"text-align: right;\">\n",
       "      <th></th>\n",
       "      <th>count</th>\n",
       "      <th>percentage</th>\n",
       "    </tr>\n",
       "    <tr>\n",
       "      <th>position</th>\n",
       "      <th></th>\n",
       "      <th></th>\n",
       "    </tr>\n",
       "  </thead>\n",
       "  <tbody>\n",
       "    <tr>\n",
       "      <th>center</th>\n",
       "      <td>432</td>\n",
       "      <td>99.539%</td>\n",
       "    </tr>\n",
       "    <tr>\n",
       "      <th>right</th>\n",
       "      <td>2</td>\n",
       "      <td>0.461%</td>\n",
       "    </tr>\n",
       "  </tbody>\n",
       "</table>\n",
       "</div>"
      ],
      "text/plain": [
       "          count percentage\n",
       "position                  \n",
       "center      432    99.539%\n",
       "right         2     0.461%"
      ]
     },
     "execution_count": 84,
     "metadata": {},
     "output_type": "execute_result"
    }
   ],
   "source": [
    "# position\n",
    "df_for = 'position'\n",
    "col_to_del = list(pu_split_vid_df.columns)\n",
    "col_to_del.remove('file_name')\n",
    "col_to_del.remove(df_for)\n",
    "temp = pu_split_vid_df.groupby([df_for]).count().rename(columns={'file_name':'count'}).drop(col_to_del, axis=1)\n",
    "temp['percentage'] = temp['count'].apply(lambda x: f'{(x/len(pu_split_vid_df)*100):.3f}%')\n",
    "temp"
   ]
  },
  {
   "cell_type": "code",
   "execution_count": 85,
   "id": "6077dca1-cc1b-4abb-a628-d12b6b419ce4",
   "metadata": {},
   "outputs": [
    {
     "data": {
      "text/html": [
       "<div>\n",
       "<style scoped>\n",
       "    .dataframe tbody tr th:only-of-type {\n",
       "        vertical-align: middle;\n",
       "    }\n",
       "\n",
       "    .dataframe tbody tr th {\n",
       "        vertical-align: top;\n",
       "    }\n",
       "\n",
       "    .dataframe thead th {\n",
       "        text-align: right;\n",
       "    }\n",
       "</style>\n",
       "<table border=\"1\" class=\"dataframe\">\n",
       "  <thead>\n",
       "    <tr style=\"text-align: right;\">\n",
       "      <th></th>\n",
       "      <th>count</th>\n",
       "      <th>percentage</th>\n",
       "    </tr>\n",
       "    <tr>\n",
       "      <th>distance</th>\n",
       "      <th></th>\n",
       "      <th></th>\n",
       "    </tr>\n",
       "  </thead>\n",
       "  <tbody>\n",
       "    <tr>\n",
       "      <th>close</th>\n",
       "      <td>18</td>\n",
       "      <td>4.147%</td>\n",
       "    </tr>\n",
       "    <tr>\n",
       "      <th>far</th>\n",
       "      <td>6</td>\n",
       "      <td>1.382%</td>\n",
       "    </tr>\n",
       "    <tr>\n",
       "      <th>fit</th>\n",
       "      <td>410</td>\n",
       "      <td>94.470%</td>\n",
       "    </tr>\n",
       "  </tbody>\n",
       "</table>\n",
       "</div>"
      ],
      "text/plain": [
       "          count percentage\n",
       "distance                  \n",
       "close        18     4.147%\n",
       "far           6     1.382%\n",
       "fit         410    94.470%"
      ]
     },
     "execution_count": 85,
     "metadata": {},
     "output_type": "execute_result"
    }
   ],
   "source": [
    "# distance\n",
    "df_for = 'distance'\n",
    "col_to_del = list(pu_split_vid_df.columns)\n",
    "col_to_del.remove('file_name')\n",
    "col_to_del.remove(df_for)\n",
    "temp = pu_split_vid_df.groupby([df_for]).count().rename(columns={'file_name':'count'}).drop(col_to_del, axis=1)\n",
    "temp['percentage'] = temp['count'].apply(lambda x: f'{(x/len(pu_split_vid_df)*100):.3f}%')\n",
    "temp"
   ]
  },
  {
   "cell_type": "code",
   "execution_count": 86,
   "id": "75957164-9c62-4ff1-b9eb-00587ae227d5",
   "metadata": {},
   "outputs": [
    {
     "data": {
      "text/html": [
       "<div>\n",
       "<style scoped>\n",
       "    .dataframe tbody tr th:only-of-type {\n",
       "        vertical-align: middle;\n",
       "    }\n",
       "\n",
       "    .dataframe tbody tr th {\n",
       "        vertical-align: top;\n",
       "    }\n",
       "\n",
       "    .dataframe thead th {\n",
       "        text-align: right;\n",
       "    }\n",
       "</style>\n",
       "<table border=\"1\" class=\"dataframe\">\n",
       "  <thead>\n",
       "    <tr style=\"text-align: right;\">\n",
       "      <th></th>\n",
       "      <th>count</th>\n",
       "      <th>percentage</th>\n",
       "    </tr>\n",
       "    <tr>\n",
       "      <th>gender</th>\n",
       "      <th></th>\n",
       "      <th></th>\n",
       "    </tr>\n",
       "  </thead>\n",
       "  <tbody>\n",
       "    <tr>\n",
       "      <th>female</th>\n",
       "      <td>26</td>\n",
       "      <td>5.991%</td>\n",
       "    </tr>\n",
       "    <tr>\n",
       "      <th>male</th>\n",
       "      <td>408</td>\n",
       "      <td>94.009%</td>\n",
       "    </tr>\n",
       "  </tbody>\n",
       "</table>\n",
       "</div>"
      ],
      "text/plain": [
       "        count percentage\n",
       "gender                  \n",
       "female     26     5.991%\n",
       "male      408    94.009%"
      ]
     },
     "execution_count": 86,
     "metadata": {},
     "output_type": "execute_result"
    }
   ],
   "source": [
    "# gender\n",
    "df_for = 'gender'\n",
    "col_to_del = list(pu_split_vid_df.columns)\n",
    "col_to_del.remove('file_name')\n",
    "col_to_del.remove(df_for)\n",
    "temp = pu_split_vid_df.groupby([df_for]).count().rename(columns={'file_name':'count'}).drop(col_to_del, axis=1)\n",
    "temp['percentage'] = temp['count'].apply(lambda x: f'{(x/len(pu_split_vid_df)*100):.3f}%')\n",
    "temp"
   ]
  },
  {
   "cell_type": "code",
   "execution_count": 89,
   "id": "4f3a559d-aa05-49b2-bbb0-c7c1861ffdfe",
   "metadata": {},
   "outputs": [
    {
     "data": {
      "text/html": [
       "<div>\n",
       "<style scoped>\n",
       "    .dataframe tbody tr th:only-of-type {\n",
       "        vertical-align: middle;\n",
       "    }\n",
       "\n",
       "    .dataframe tbody tr th {\n",
       "        vertical-align: top;\n",
       "    }\n",
       "\n",
       "    .dataframe thead th {\n",
       "        text-align: right;\n",
       "    }\n",
       "</style>\n",
       "<table border=\"1\" class=\"dataframe\">\n",
       "  <thead>\n",
       "    <tr style=\"text-align: right;\">\n",
       "      <th></th>\n",
       "      <th>count</th>\n",
       "      <th>percentage</th>\n",
       "    </tr>\n",
       "    <tr>\n",
       "      <th>indoor/outdoor</th>\n",
       "      <th></th>\n",
       "      <th></th>\n",
       "    </tr>\n",
       "  </thead>\n",
       "  <tbody>\n",
       "    <tr>\n",
       "      <th>indoor</th>\n",
       "      <td>331</td>\n",
       "      <td>76.267%</td>\n",
       "    </tr>\n",
       "    <tr>\n",
       "      <th>outdoor</th>\n",
       "      <td>103</td>\n",
       "      <td>23.733%</td>\n",
       "    </tr>\n",
       "  </tbody>\n",
       "</table>\n",
       "</div>"
      ],
      "text/plain": [
       "                count percentage\n",
       "indoor/outdoor                  \n",
       "indoor            331    76.267%\n",
       "outdoor           103    23.733%"
      ]
     },
     "execution_count": 89,
     "metadata": {},
     "output_type": "execute_result"
    }
   ],
   "source": [
    "# indoor/outdoor\n",
    "df_for = 'indoor/outdoor'\n",
    "col_to_del = list(pu_split_vid_df.columns)\n",
    "col_to_del.remove('file_name')\n",
    "col_to_del.remove(df_for)\n",
    "temp = pu_split_vid_df.groupby([df_for]).count().rename(columns={'file_name':'count'}).drop(col_to_del, axis=1)\n",
    "temp['percentage'] = temp['count'].apply(lambda x: f'{(x/len(pu_split_vid_df)*100):.3f}%')\n",
    "temp"
   ]
  },
  {
   "cell_type": "markdown",
   "id": "6c690969-975d-4392-b5ab-136d60d6d0c0",
   "metadata": {},
   "source": [
    "# jumping-jack"
   ]
  },
  {
   "cell_type": "markdown",
   "id": "9f75202a-5308-47f3-ac5c-a9c47586e510",
   "metadata": {},
   "source": [
    "## video level"
   ]
  },
  {
   "cell_type": "code",
   "execution_count": 90,
   "id": "76ea31a5-2fdc-423c-a9c3-7b45d37cee8f",
   "metadata": {},
   "outputs": [
    {
     "data": {
      "text/html": [
       "<div>\n",
       "<style scoped>\n",
       "    .dataframe tbody tr th:only-of-type {\n",
       "        vertical-align: middle;\n",
       "    }\n",
       "\n",
       "    .dataframe tbody tr th {\n",
       "        vertical-align: top;\n",
       "    }\n",
       "\n",
       "    .dataframe thead th {\n",
       "        text-align: right;\n",
       "    }\n",
       "</style>\n",
       "<table border=\"1\" class=\"dataframe\">\n",
       "  <thead>\n",
       "    <tr style=\"text-align: right;\">\n",
       "      <th></th>\n",
       "      <th>count</th>\n",
       "      <th>ratio_to_all</th>\n",
       "    </tr>\n",
       "    <tr>\n",
       "      <th>gender</th>\n",
       "      <th></th>\n",
       "      <th></th>\n",
       "    </tr>\n",
       "  </thead>\n",
       "  <tbody>\n",
       "    <tr>\n",
       "      <th>female</th>\n",
       "      <td>47</td>\n",
       "      <td>44.762%</td>\n",
       "    </tr>\n",
       "    <tr>\n",
       "      <th>male</th>\n",
       "      <td>58</td>\n",
       "      <td>55.238%</td>\n",
       "    </tr>\n",
       "  </tbody>\n",
       "</table>\n",
       "</div>"
      ],
      "text/plain": [
       "        count ratio_to_all\n",
       "gender                    \n",
       "female     47      44.762%\n",
       "male       58      55.238%"
      ]
     },
     "execution_count": 90,
     "metadata": {},
     "output_type": "execute_result"
    }
   ],
   "source": [
    "# gender\n",
    "temp = jj_vid_df.groupby(['gender']).count().rename(columns={'file_name':'count'}).drop('indoor/outdoor', axis=1)\n",
    "temp['ratio_to_all'] = temp['count'].apply(lambda x: f'{(x/len(jj_vid_df)*100):.3f}%')\n",
    "temp"
   ]
  },
  {
   "cell_type": "code",
   "execution_count": 91,
   "id": "b7f5995a-b56f-442e-8b23-d9d796020177",
   "metadata": {},
   "outputs": [
    {
     "data": {
      "text/html": [
       "<div>\n",
       "<style scoped>\n",
       "    .dataframe tbody tr th:only-of-type {\n",
       "        vertical-align: middle;\n",
       "    }\n",
       "\n",
       "    .dataframe tbody tr th {\n",
       "        vertical-align: top;\n",
       "    }\n",
       "\n",
       "    .dataframe thead th {\n",
       "        text-align: right;\n",
       "    }\n",
       "</style>\n",
       "<table border=\"1\" class=\"dataframe\">\n",
       "  <thead>\n",
       "    <tr style=\"text-align: right;\">\n",
       "      <th></th>\n",
       "      <th>count</th>\n",
       "      <th>ratio_to_all</th>\n",
       "    </tr>\n",
       "    <tr>\n",
       "      <th>indoor/outdoor</th>\n",
       "      <th></th>\n",
       "      <th></th>\n",
       "    </tr>\n",
       "  </thead>\n",
       "  <tbody>\n",
       "    <tr>\n",
       "      <th>indoor</th>\n",
       "      <td>74</td>\n",
       "      <td>70.476%</td>\n",
       "    </tr>\n",
       "    <tr>\n",
       "      <th>outdoor</th>\n",
       "      <td>31</td>\n",
       "      <td>29.524%</td>\n",
       "    </tr>\n",
       "  </tbody>\n",
       "</table>\n",
       "</div>"
      ],
      "text/plain": [
       "                count ratio_to_all\n",
       "indoor/outdoor                    \n",
       "indoor             74      70.476%\n",
       "outdoor            31      29.524%"
      ]
     },
     "execution_count": 91,
     "metadata": {},
     "output_type": "execute_result"
    }
   ],
   "source": [
    "# indoor/outdoor\n",
    "temp_2 = jj_vid_df.groupby(['indoor/outdoor']).count().rename(columns={'file_name':'count'}).drop('gender', axis=1)\n",
    "temp_2['ratio_to_all'] = temp_2['count'].apply(lambda x: f'{(x/len(jj_vid_df)*100):.3f}%')\n",
    "temp_2"
   ]
  },
  {
   "cell_type": "markdown",
   "id": "5d60a9e8-cb5c-4945-b265-7cdcb1b722d8",
   "metadata": {
    "tags": []
   },
   "source": [
    "## split-video level"
   ]
  },
  {
   "cell_type": "code",
   "execution_count": 92,
   "id": "a7c05d6e-6742-415f-9592-778427644b15",
   "metadata": {},
   "outputs": [
    {
     "data": {
      "text/html": [
       "<div>\n",
       "<style scoped>\n",
       "    .dataframe tbody tr th:only-of-type {\n",
       "        vertical-align: middle;\n",
       "    }\n",
       "\n",
       "    .dataframe tbody tr th {\n",
       "        vertical-align: top;\n",
       "    }\n",
       "\n",
       "    .dataframe thead th {\n",
       "        text-align: right;\n",
       "    }\n",
       "</style>\n",
       "<table border=\"1\" class=\"dataframe\">\n",
       "  <thead>\n",
       "    <tr style=\"text-align: right;\">\n",
       "      <th></th>\n",
       "      <th>count</th>\n",
       "      <th>percentage</th>\n",
       "    </tr>\n",
       "    <tr>\n",
       "      <th>5-classes-view</th>\n",
       "      <th></th>\n",
       "      <th></th>\n",
       "    </tr>\n",
       "  </thead>\n",
       "  <tbody>\n",
       "    <tr>\n",
       "      <th>back</th>\n",
       "      <td>2</td>\n",
       "      <td>0.725%</td>\n",
       "    </tr>\n",
       "    <tr>\n",
       "      <th>front</th>\n",
       "      <td>233</td>\n",
       "      <td>84.420%</td>\n",
       "    </tr>\n",
       "    <tr>\n",
       "      <th>left-tilted</th>\n",
       "      <td>31</td>\n",
       "      <td>11.232%</td>\n",
       "    </tr>\n",
       "    <tr>\n",
       "      <th>right-tilted</th>\n",
       "      <td>10</td>\n",
       "      <td>3.623%</td>\n",
       "    </tr>\n",
       "  </tbody>\n",
       "</table>\n",
       "</div>"
      ],
      "text/plain": [
       "                count percentage\n",
       "5-classes-view                  \n",
       "back                2     0.725%\n",
       "front             233    84.420%\n",
       "left-tilted        31    11.232%\n",
       "right-tilted       10     3.623%"
      ]
     },
     "execution_count": 92,
     "metadata": {},
     "output_type": "execute_result"
    }
   ],
   "source": [
    "# 5-classes-view\n",
    "df_for = '5-classes-view'\n",
    "col_to_del = list(jj_split_vid_df.columns)\n",
    "col_to_del.remove('file_name')\n",
    "col_to_del.remove(df_for)\n",
    "temp_3 = jj_split_vid_df.groupby([df_for]).count().rename(columns={'file_name':'count'}).drop(col_to_del, axis=1)\n",
    "temp_3['percentage'] = temp_3['count'].apply(lambda x: f'{(x/len(jj_split_vid_df)*100):.3f}%')\n",
    "temp_3"
   ]
  },
  {
   "cell_type": "code",
   "execution_count": 93,
   "id": "e14eddc9-4d24-4b4e-9f92-cde1e34a1a79",
   "metadata": {},
   "outputs": [
    {
     "data": {
      "text/html": [
       "<div>\n",
       "<style scoped>\n",
       "    .dataframe tbody tr th:only-of-type {\n",
       "        vertical-align: middle;\n",
       "    }\n",
       "\n",
       "    .dataframe tbody tr th {\n",
       "        vertical-align: top;\n",
       "    }\n",
       "\n",
       "    .dataframe thead th {\n",
       "        text-align: right;\n",
       "    }\n",
       "</style>\n",
       "<table border=\"1\" class=\"dataframe\">\n",
       "  <thead>\n",
       "    <tr style=\"text-align: right;\">\n",
       "      <th></th>\n",
       "      <th>count</th>\n",
       "      <th>percentage</th>\n",
       "    </tr>\n",
       "    <tr>\n",
       "      <th>position</th>\n",
       "      <th></th>\n",
       "      <th></th>\n",
       "    </tr>\n",
       "  </thead>\n",
       "  <tbody>\n",
       "    <tr>\n",
       "      <th>center</th>\n",
       "      <td>270</td>\n",
       "      <td>97.826%</td>\n",
       "    </tr>\n",
       "    <tr>\n",
       "      <th>left</th>\n",
       "      <td>6</td>\n",
       "      <td>2.174%</td>\n",
       "    </tr>\n",
       "  </tbody>\n",
       "</table>\n",
       "</div>"
      ],
      "text/plain": [
       "          count percentage\n",
       "position                  \n",
       "center      270    97.826%\n",
       "left          6     2.174%"
      ]
     },
     "execution_count": 93,
     "metadata": {},
     "output_type": "execute_result"
    }
   ],
   "source": [
    "# position\n",
    "df_for = 'position'\n",
    "col_to_del = list(jj_split_vid_df.columns)\n",
    "col_to_del.remove('file_name')\n",
    "col_to_del.remove(df_for)\n",
    "temp = jj_split_vid_df.groupby([df_for]).count().rename(columns={'file_name':'count'}).drop(col_to_del, axis=1)\n",
    "temp['percentage'] = temp['count'].apply(lambda x: f'{(x/len(jj_split_vid_df)*100):.3f}%')\n",
    "temp"
   ]
  },
  {
   "cell_type": "code",
   "execution_count": 94,
   "id": "06d97e4e-9110-49a6-bbe9-e7f30632abac",
   "metadata": {},
   "outputs": [
    {
     "data": {
      "text/html": [
       "<div>\n",
       "<style scoped>\n",
       "    .dataframe tbody tr th:only-of-type {\n",
       "        vertical-align: middle;\n",
       "    }\n",
       "\n",
       "    .dataframe tbody tr th {\n",
       "        vertical-align: top;\n",
       "    }\n",
       "\n",
       "    .dataframe thead th {\n",
       "        text-align: right;\n",
       "    }\n",
       "</style>\n",
       "<table border=\"1\" class=\"dataframe\">\n",
       "  <thead>\n",
       "    <tr style=\"text-align: right;\">\n",
       "      <th></th>\n",
       "      <th>count</th>\n",
       "      <th>percentage</th>\n",
       "    </tr>\n",
       "    <tr>\n",
       "      <th>distance</th>\n",
       "      <th></th>\n",
       "      <th></th>\n",
       "    </tr>\n",
       "  </thead>\n",
       "  <tbody>\n",
       "    <tr>\n",
       "      <th>close</th>\n",
       "      <td>2</td>\n",
       "      <td>0.725%</td>\n",
       "    </tr>\n",
       "    <tr>\n",
       "      <th>far</th>\n",
       "      <td>34</td>\n",
       "      <td>12.319%</td>\n",
       "    </tr>\n",
       "    <tr>\n",
       "      <th>fit</th>\n",
       "      <td>240</td>\n",
       "      <td>86.957%</td>\n",
       "    </tr>\n",
       "  </tbody>\n",
       "</table>\n",
       "</div>"
      ],
      "text/plain": [
       "          count percentage\n",
       "distance                  \n",
       "close         2     0.725%\n",
       "far          34    12.319%\n",
       "fit         240    86.957%"
      ]
     },
     "execution_count": 94,
     "metadata": {},
     "output_type": "execute_result"
    }
   ],
   "source": [
    "# distance\n",
    "df_for = 'distance'\n",
    "col_to_del = list(jj_split_vid_df.columns)\n",
    "col_to_del.remove('file_name')\n",
    "col_to_del.remove(df_for)\n",
    "temp = jj_split_vid_df.groupby([df_for]).count().rename(columns={'file_name':'count'}).drop(col_to_del, axis=1)\n",
    "temp['percentage'] = temp['count'].apply(lambda x: f'{(x/len(jj_split_vid_df)*100):.3f}%')\n",
    "temp"
   ]
  },
  {
   "cell_type": "code",
   "execution_count": 95,
   "id": "cb61d64b-6496-479f-b310-730f2980c4bb",
   "metadata": {},
   "outputs": [
    {
     "data": {
      "text/html": [
       "<div>\n",
       "<style scoped>\n",
       "    .dataframe tbody tr th:only-of-type {\n",
       "        vertical-align: middle;\n",
       "    }\n",
       "\n",
       "    .dataframe tbody tr th {\n",
       "        vertical-align: top;\n",
       "    }\n",
       "\n",
       "    .dataframe thead th {\n",
       "        text-align: right;\n",
       "    }\n",
       "</style>\n",
       "<table border=\"1\" class=\"dataframe\">\n",
       "  <thead>\n",
       "    <tr style=\"text-align: right;\">\n",
       "      <th></th>\n",
       "      <th>count</th>\n",
       "      <th>percentage</th>\n",
       "    </tr>\n",
       "    <tr>\n",
       "      <th>gender</th>\n",
       "      <th></th>\n",
       "      <th></th>\n",
       "    </tr>\n",
       "  </thead>\n",
       "  <tbody>\n",
       "    <tr>\n",
       "      <th>female</th>\n",
       "      <td>136</td>\n",
       "      <td>49.275%</td>\n",
       "    </tr>\n",
       "    <tr>\n",
       "      <th>male</th>\n",
       "      <td>140</td>\n",
       "      <td>50.725%</td>\n",
       "    </tr>\n",
       "  </tbody>\n",
       "</table>\n",
       "</div>"
      ],
      "text/plain": [
       "        count percentage\n",
       "gender                  \n",
       "female    136    49.275%\n",
       "male      140    50.725%"
      ]
     },
     "execution_count": 95,
     "metadata": {},
     "output_type": "execute_result"
    }
   ],
   "source": [
    "# gender\n",
    "df_for = 'gender'\n",
    "col_to_del = list(jj_split_vid_df.columns)\n",
    "col_to_del.remove('file_name')\n",
    "col_to_del.remove(df_for)\n",
    "temp = jj_split_vid_df.groupby([df_for]).count().rename(columns={'file_name':'count'}).drop(col_to_del, axis=1)\n",
    "temp['percentage'] = temp['count'].apply(lambda x: f'{(x/len(jj_split_vid_df)*100):.3f}%')\n",
    "temp"
   ]
  },
  {
   "cell_type": "code",
   "execution_count": 96,
   "id": "a043903d-066d-45c8-a45d-25fddfd485a4",
   "metadata": {},
   "outputs": [
    {
     "data": {
      "text/html": [
       "<div>\n",
       "<style scoped>\n",
       "    .dataframe tbody tr th:only-of-type {\n",
       "        vertical-align: middle;\n",
       "    }\n",
       "\n",
       "    .dataframe tbody tr th {\n",
       "        vertical-align: top;\n",
       "    }\n",
       "\n",
       "    .dataframe thead th {\n",
       "        text-align: right;\n",
       "    }\n",
       "</style>\n",
       "<table border=\"1\" class=\"dataframe\">\n",
       "  <thead>\n",
       "    <tr style=\"text-align: right;\">\n",
       "      <th></th>\n",
       "      <th>count</th>\n",
       "      <th>percentage</th>\n",
       "    </tr>\n",
       "    <tr>\n",
       "      <th>indoor/outdoor</th>\n",
       "      <th></th>\n",
       "      <th></th>\n",
       "    </tr>\n",
       "  </thead>\n",
       "  <tbody>\n",
       "    <tr>\n",
       "      <th>indoor</th>\n",
       "      <td>198</td>\n",
       "      <td>71.739%</td>\n",
       "    </tr>\n",
       "    <tr>\n",
       "      <th>outdoor</th>\n",
       "      <td>78</td>\n",
       "      <td>28.261%</td>\n",
       "    </tr>\n",
       "  </tbody>\n",
       "</table>\n",
       "</div>"
      ],
      "text/plain": [
       "                count percentage\n",
       "indoor/outdoor                  \n",
       "indoor            198    71.739%\n",
       "outdoor            78    28.261%"
      ]
     },
     "execution_count": 96,
     "metadata": {},
     "output_type": "execute_result"
    }
   ],
   "source": [
    "# indoor/outdoor\n",
    "df_for = 'indoor/outdoor'\n",
    "col_to_del = list(jj_split_vid_df.columns)\n",
    "col_to_del.remove('file_name')\n",
    "col_to_del.remove(df_for)\n",
    "temp = jj_split_vid_df.groupby([df_for]).count().rename(columns={'file_name':'count'}).drop(col_to_del, axis=1)\n",
    "temp['percentage'] = temp['count'].apply(lambda x: f'{(x/len(jj_split_vid_df)*100):.3f}%')\n",
    "temp"
   ]
  },
  {
   "cell_type": "markdown",
   "id": "ed1329a7-dd86-4e48-8f8b-4fc06d421770",
   "metadata": {},
   "source": [
    "# leg-raise"
   ]
  },
  {
   "cell_type": "markdown",
   "id": "3bd75e1c-a3a1-4d7a-a727-cc62771e9f5f",
   "metadata": {},
   "source": [
    "## video level"
   ]
  },
  {
   "cell_type": "code",
   "execution_count": 97,
   "id": "2f7a3e5f-5818-4337-b9ae-2ae62c21a0da",
   "metadata": {},
   "outputs": [
    {
     "data": {
      "text/html": [
       "<div>\n",
       "<style scoped>\n",
       "    .dataframe tbody tr th:only-of-type {\n",
       "        vertical-align: middle;\n",
       "    }\n",
       "\n",
       "    .dataframe tbody tr th {\n",
       "        vertical-align: top;\n",
       "    }\n",
       "\n",
       "    .dataframe thead th {\n",
       "        text-align: right;\n",
       "    }\n",
       "</style>\n",
       "<table border=\"1\" class=\"dataframe\">\n",
       "  <thead>\n",
       "    <tr style=\"text-align: right;\">\n",
       "      <th></th>\n",
       "      <th>count</th>\n",
       "      <th>ratio_to_all</th>\n",
       "    </tr>\n",
       "    <tr>\n",
       "      <th>gender</th>\n",
       "      <th></th>\n",
       "      <th></th>\n",
       "    </tr>\n",
       "  </thead>\n",
       "  <tbody>\n",
       "    <tr>\n",
       "      <th>female</th>\n",
       "      <td>45</td>\n",
       "      <td>39.823%</td>\n",
       "    </tr>\n",
       "    <tr>\n",
       "      <th>male</th>\n",
       "      <td>68</td>\n",
       "      <td>60.177%</td>\n",
       "    </tr>\n",
       "  </tbody>\n",
       "</table>\n",
       "</div>"
      ],
      "text/plain": [
       "        count ratio_to_all\n",
       "gender                    \n",
       "female     45      39.823%\n",
       "male       68      60.177%"
      ]
     },
     "execution_count": 97,
     "metadata": {},
     "output_type": "execute_result"
    }
   ],
   "source": [
    "# gender\n",
    "temp = lr_vid_df.groupby(['gender']).count().rename(columns={'file_name':'count'}).drop('indoor/outdoor', axis=1)\n",
    "temp['ratio_to_all'] = temp['count'].apply(lambda x: f'{(x/len(lr_vid_df)*100):.3f}%')\n",
    "temp"
   ]
  },
  {
   "cell_type": "code",
   "execution_count": 98,
   "id": "4afb707f-4657-42e4-ad24-f2034085ac19",
   "metadata": {},
   "outputs": [
    {
     "data": {
      "text/html": [
       "<div>\n",
       "<style scoped>\n",
       "    .dataframe tbody tr th:only-of-type {\n",
       "        vertical-align: middle;\n",
       "    }\n",
       "\n",
       "    .dataframe tbody tr th {\n",
       "        vertical-align: top;\n",
       "    }\n",
       "\n",
       "    .dataframe thead th {\n",
       "        text-align: right;\n",
       "    }\n",
       "</style>\n",
       "<table border=\"1\" class=\"dataframe\">\n",
       "  <thead>\n",
       "    <tr style=\"text-align: right;\">\n",
       "      <th></th>\n",
       "      <th>count</th>\n",
       "      <th>ratio_to_all</th>\n",
       "    </tr>\n",
       "    <tr>\n",
       "      <th>indoor/outdoor</th>\n",
       "      <th></th>\n",
       "      <th></th>\n",
       "    </tr>\n",
       "  </thead>\n",
       "  <tbody>\n",
       "    <tr>\n",
       "      <th>indoor</th>\n",
       "      <td>97</td>\n",
       "      <td>85.841%</td>\n",
       "    </tr>\n",
       "    <tr>\n",
       "      <th>outdoor</th>\n",
       "      <td>16</td>\n",
       "      <td>14.159%</td>\n",
       "    </tr>\n",
       "  </tbody>\n",
       "</table>\n",
       "</div>"
      ],
      "text/plain": [
       "                count ratio_to_all\n",
       "indoor/outdoor                    \n",
       "indoor             97      85.841%\n",
       "outdoor            16      14.159%"
      ]
     },
     "execution_count": 98,
     "metadata": {},
     "output_type": "execute_result"
    }
   ],
   "source": [
    "# indoor/outdoor\n",
    "temp_2 = lr_vid_df.groupby(['indoor/outdoor']).count().rename(columns={'file_name':'count'}).drop('gender', axis=1)\n",
    "temp_2['ratio_to_all'] = temp_2['count'].apply(lambda x: f'{(x/len(lr_vid_df)*100):.3f}%')\n",
    "temp_2"
   ]
  },
  {
   "cell_type": "markdown",
   "id": "83f5a4f1-2b1a-4325-927d-09afd5e792ed",
   "metadata": {
    "tags": []
   },
   "source": [
    "## split-video level"
   ]
  },
  {
   "cell_type": "code",
   "execution_count": 99,
   "id": "e47cd2f7-08b8-4320-a5b2-7c6438ec413b",
   "metadata": {},
   "outputs": [
    {
     "data": {
      "text/html": [
       "<div>\n",
       "<style scoped>\n",
       "    .dataframe tbody tr th:only-of-type {\n",
       "        vertical-align: middle;\n",
       "    }\n",
       "\n",
       "    .dataframe tbody tr th {\n",
       "        vertical-align: top;\n",
       "    }\n",
       "\n",
       "    .dataframe thead th {\n",
       "        text-align: right;\n",
       "    }\n",
       "</style>\n",
       "<table border=\"1\" class=\"dataframe\">\n",
       "  <thead>\n",
       "    <tr style=\"text-align: right;\">\n",
       "      <th></th>\n",
       "      <th>count</th>\n",
       "      <th>percentage</th>\n",
       "    </tr>\n",
       "    <tr>\n",
       "      <th>5-classes-view</th>\n",
       "      <th></th>\n",
       "      <th></th>\n",
       "    </tr>\n",
       "  </thead>\n",
       "  <tbody>\n",
       "    <tr>\n",
       "      <th>back</th>\n",
       "      <td>44</td>\n",
       "      <td>17.323%</td>\n",
       "    </tr>\n",
       "    <tr>\n",
       "      <th>side</th>\n",
       "      <td>210</td>\n",
       "      <td>82.677%</td>\n",
       "    </tr>\n",
       "  </tbody>\n",
       "</table>\n",
       "</div>"
      ],
      "text/plain": [
       "                count percentage\n",
       "5-classes-view                  \n",
       "back               44    17.323%\n",
       "side              210    82.677%"
      ]
     },
     "execution_count": 99,
     "metadata": {},
     "output_type": "execute_result"
    }
   ],
   "source": [
    "# 5-classes-view\n",
    "df_for = '5-classes-view'\n",
    "col_to_del = list(lr_split_vid_df.columns)\n",
    "col_to_del.remove('file_name')\n",
    "col_to_del.remove(df_for)\n",
    "temp_3 = lr_split_vid_df.groupby([df_for]).count().rename(columns={'file_name':'count'}).drop(col_to_del, axis=1)\n",
    "temp_3['percentage'] = temp_3['count'].apply(lambda x: f'{(x/len(lr_split_vid_df)*100):.3f}%')\n",
    "temp_3"
   ]
  },
  {
   "cell_type": "code",
   "execution_count": 100,
   "id": "05d2a754-41a0-4681-9e2f-3f554863520b",
   "metadata": {},
   "outputs": [
    {
     "data": {
      "text/html": [
       "<div>\n",
       "<style scoped>\n",
       "    .dataframe tbody tr th:only-of-type {\n",
       "        vertical-align: middle;\n",
       "    }\n",
       "\n",
       "    .dataframe tbody tr th {\n",
       "        vertical-align: top;\n",
       "    }\n",
       "\n",
       "    .dataframe thead th {\n",
       "        text-align: right;\n",
       "    }\n",
       "</style>\n",
       "<table border=\"1\" class=\"dataframe\">\n",
       "  <thead>\n",
       "    <tr style=\"text-align: right;\">\n",
       "      <th></th>\n",
       "      <th>count</th>\n",
       "      <th>percentage</th>\n",
       "    </tr>\n",
       "    <tr>\n",
       "      <th>position</th>\n",
       "      <th></th>\n",
       "      <th></th>\n",
       "    </tr>\n",
       "  </thead>\n",
       "  <tbody>\n",
       "    <tr>\n",
       "      <th>center</th>\n",
       "      <td>254</td>\n",
       "      <td>100.000%</td>\n",
       "    </tr>\n",
       "  </tbody>\n",
       "</table>\n",
       "</div>"
      ],
      "text/plain": [
       "          count percentage\n",
       "position                  \n",
       "center      254   100.000%"
      ]
     },
     "execution_count": 100,
     "metadata": {},
     "output_type": "execute_result"
    }
   ],
   "source": [
    "# position\n",
    "df_for = 'position'\n",
    "col_to_del = list(lr_split_vid_df.columns)\n",
    "col_to_del.remove('file_name')\n",
    "col_to_del.remove(df_for)\n",
    "temp = lr_split_vid_df.groupby([df_for]).count().rename(columns={'file_name':'count'}).drop(col_to_del, axis=1)\n",
    "temp['percentage'] = temp['count'].apply(lambda x: f'{(x/len(lr_split_vid_df)*100):.3f}%')\n",
    "temp"
   ]
  },
  {
   "cell_type": "code",
   "execution_count": 101,
   "id": "fa7f4d8d-d4bf-4f1e-afc4-73c90fef6dcc",
   "metadata": {},
   "outputs": [
    {
     "data": {
      "text/html": [
       "<div>\n",
       "<style scoped>\n",
       "    .dataframe tbody tr th:only-of-type {\n",
       "        vertical-align: middle;\n",
       "    }\n",
       "\n",
       "    .dataframe tbody tr th {\n",
       "        vertical-align: top;\n",
       "    }\n",
       "\n",
       "    .dataframe thead th {\n",
       "        text-align: right;\n",
       "    }\n",
       "</style>\n",
       "<table border=\"1\" class=\"dataframe\">\n",
       "  <thead>\n",
       "    <tr style=\"text-align: right;\">\n",
       "      <th></th>\n",
       "      <th>count</th>\n",
       "      <th>percentage</th>\n",
       "    </tr>\n",
       "    <tr>\n",
       "      <th>distance</th>\n",
       "      <th></th>\n",
       "      <th></th>\n",
       "    </tr>\n",
       "  </thead>\n",
       "  <tbody>\n",
       "    <tr>\n",
       "      <th>close</th>\n",
       "      <td>12</td>\n",
       "      <td>4.724%</td>\n",
       "    </tr>\n",
       "    <tr>\n",
       "      <th>far</th>\n",
       "      <td>48</td>\n",
       "      <td>18.898%</td>\n",
       "    </tr>\n",
       "    <tr>\n",
       "      <th>fit</th>\n",
       "      <td>194</td>\n",
       "      <td>76.378%</td>\n",
       "    </tr>\n",
       "  </tbody>\n",
       "</table>\n",
       "</div>"
      ],
      "text/plain": [
       "          count percentage\n",
       "distance                  \n",
       "close        12     4.724%\n",
       "far          48    18.898%\n",
       "fit         194    76.378%"
      ]
     },
     "execution_count": 101,
     "metadata": {},
     "output_type": "execute_result"
    }
   ],
   "source": [
    "# distance\n",
    "df_for = 'distance'\n",
    "col_to_del = list(lr_split_vid_df.columns)\n",
    "col_to_del.remove('file_name')\n",
    "col_to_del.remove(df_for)\n",
    "temp = lr_split_vid_df.groupby([df_for]).count().rename(columns={'file_name':'count'}).drop(col_to_del, axis=1)\n",
    "temp['percentage'] = temp['count'].apply(lambda x: f'{(x/len(lr_split_vid_df)*100):.3f}%')\n",
    "temp"
   ]
  },
  {
   "cell_type": "code",
   "execution_count": 102,
   "id": "85399a0d-217c-4d75-81f3-156a1b173f1f",
   "metadata": {},
   "outputs": [
    {
     "data": {
      "text/html": [
       "<div>\n",
       "<style scoped>\n",
       "    .dataframe tbody tr th:only-of-type {\n",
       "        vertical-align: middle;\n",
       "    }\n",
       "\n",
       "    .dataframe tbody tr th {\n",
       "        vertical-align: top;\n",
       "    }\n",
       "\n",
       "    .dataframe thead th {\n",
       "        text-align: right;\n",
       "    }\n",
       "</style>\n",
       "<table border=\"1\" class=\"dataframe\">\n",
       "  <thead>\n",
       "    <tr style=\"text-align: right;\">\n",
       "      <th></th>\n",
       "      <th>count</th>\n",
       "      <th>percentage</th>\n",
       "    </tr>\n",
       "    <tr>\n",
       "      <th>gender</th>\n",
       "      <th></th>\n",
       "      <th></th>\n",
       "    </tr>\n",
       "  </thead>\n",
       "  <tbody>\n",
       "    <tr>\n",
       "      <th>female</th>\n",
       "      <td>107</td>\n",
       "      <td>42.126%</td>\n",
       "    </tr>\n",
       "    <tr>\n",
       "      <th>male</th>\n",
       "      <td>147</td>\n",
       "      <td>57.874%</td>\n",
       "    </tr>\n",
       "  </tbody>\n",
       "</table>\n",
       "</div>"
      ],
      "text/plain": [
       "        count percentage\n",
       "gender                  \n",
       "female    107    42.126%\n",
       "male      147    57.874%"
      ]
     },
     "execution_count": 102,
     "metadata": {},
     "output_type": "execute_result"
    }
   ],
   "source": [
    "# gender\n",
    "df_for = 'gender'\n",
    "col_to_del = list(lr_split_vid_df.columns)\n",
    "col_to_del.remove('file_name')\n",
    "col_to_del.remove(df_for)\n",
    "temp = lr_split_vid_df.groupby([df_for]).count().rename(columns={'file_name':'count'}).drop(col_to_del, axis=1)\n",
    "temp['percentage'] = temp['count'].apply(lambda x: f'{(x/len(lr_split_vid_df)*100):.3f}%')\n",
    "temp"
   ]
  },
  {
   "cell_type": "code",
   "execution_count": 103,
   "id": "1a8391ef-c5f5-4d1f-8e66-3a2eb7d4c397",
   "metadata": {},
   "outputs": [
    {
     "data": {
      "text/html": [
       "<div>\n",
       "<style scoped>\n",
       "    .dataframe tbody tr th:only-of-type {\n",
       "        vertical-align: middle;\n",
       "    }\n",
       "\n",
       "    .dataframe tbody tr th {\n",
       "        vertical-align: top;\n",
       "    }\n",
       "\n",
       "    .dataframe thead th {\n",
       "        text-align: right;\n",
       "    }\n",
       "</style>\n",
       "<table border=\"1\" class=\"dataframe\">\n",
       "  <thead>\n",
       "    <tr style=\"text-align: right;\">\n",
       "      <th></th>\n",
       "      <th>count</th>\n",
       "      <th>percentage</th>\n",
       "    </tr>\n",
       "    <tr>\n",
       "      <th>indoor/outdoor</th>\n",
       "      <th></th>\n",
       "      <th></th>\n",
       "    </tr>\n",
       "  </thead>\n",
       "  <tbody>\n",
       "    <tr>\n",
       "      <th>indoor</th>\n",
       "      <td>226</td>\n",
       "      <td>88.976%</td>\n",
       "    </tr>\n",
       "    <tr>\n",
       "      <th>outdoor</th>\n",
       "      <td>28</td>\n",
       "      <td>11.024%</td>\n",
       "    </tr>\n",
       "  </tbody>\n",
       "</table>\n",
       "</div>"
      ],
      "text/plain": [
       "                count percentage\n",
       "indoor/outdoor                  \n",
       "indoor            226    88.976%\n",
       "outdoor            28    11.024%"
      ]
     },
     "execution_count": 103,
     "metadata": {},
     "output_type": "execute_result"
    }
   ],
   "source": [
    "# indoor/outdoor\n",
    "df_for = 'indoor/outdoor'\n",
    "col_to_del = list(lr_split_vid_df.columns)\n",
    "col_to_del.remove('file_name')\n",
    "col_to_del.remove(df_for)\n",
    "temp = lr_split_vid_df.groupby([df_for]).count().rename(columns={'file_name':'count'}).drop(col_to_del, axis=1)\n",
    "temp['percentage'] = temp['count'].apply(lambda x: f'{(x/len(lr_split_vid_df)*100):.3f}%')\n",
    "temp"
   ]
  },
  {
   "cell_type": "markdown",
   "id": "c36805b5-dd9b-4f34-b7d4-edc6791e0d24",
   "metadata": {},
   "source": [
    "# half-burpee"
   ]
  },
  {
   "cell_type": "markdown",
   "id": "f105b9aa-9e1a-4533-9b52-eb4d41446c77",
   "metadata": {},
   "source": [
    "## video level"
   ]
  },
  {
   "cell_type": "code",
   "execution_count": 104,
   "id": "d6cb3289-118b-4a67-b0ca-a3f21cace869",
   "metadata": {},
   "outputs": [
    {
     "data": {
      "text/html": [
       "<div>\n",
       "<style scoped>\n",
       "    .dataframe tbody tr th:only-of-type {\n",
       "        vertical-align: middle;\n",
       "    }\n",
       "\n",
       "    .dataframe tbody tr th {\n",
       "        vertical-align: top;\n",
       "    }\n",
       "\n",
       "    .dataframe thead th {\n",
       "        text-align: right;\n",
       "    }\n",
       "</style>\n",
       "<table border=\"1\" class=\"dataframe\">\n",
       "  <thead>\n",
       "    <tr style=\"text-align: right;\">\n",
       "      <th></th>\n",
       "      <th>count</th>\n",
       "      <th>ratio_to_all</th>\n",
       "    </tr>\n",
       "    <tr>\n",
       "      <th>gender</th>\n",
       "      <th></th>\n",
       "      <th></th>\n",
       "    </tr>\n",
       "  </thead>\n",
       "  <tbody>\n",
       "    <tr>\n",
       "      <th>female</th>\n",
       "      <td>48</td>\n",
       "      <td>45.714%</td>\n",
       "    </tr>\n",
       "    <tr>\n",
       "      <th>male</th>\n",
       "      <td>57</td>\n",
       "      <td>54.286%</td>\n",
       "    </tr>\n",
       "  </tbody>\n",
       "</table>\n",
       "</div>"
      ],
      "text/plain": [
       "        count ratio_to_all\n",
       "gender                    \n",
       "female     48      45.714%\n",
       "male       57      54.286%"
      ]
     },
     "execution_count": 104,
     "metadata": {},
     "output_type": "execute_result"
    }
   ],
   "source": [
    "# gender\n",
    "temp = hb_vid_df.groupby(['gender']).count().rename(columns={'file_name':'count'}).drop('indoor/outdoor', axis=1)\n",
    "temp['ratio_to_all'] = temp['count'].apply(lambda x: f'{(x/len(hb_vid_df)*100):.3f}%')\n",
    "temp"
   ]
  },
  {
   "cell_type": "code",
   "execution_count": 105,
   "id": "c7b96881-09ab-466c-8f4a-0b1aa9251327",
   "metadata": {},
   "outputs": [
    {
     "data": {
      "text/html": [
       "<div>\n",
       "<style scoped>\n",
       "    .dataframe tbody tr th:only-of-type {\n",
       "        vertical-align: middle;\n",
       "    }\n",
       "\n",
       "    .dataframe tbody tr th {\n",
       "        vertical-align: top;\n",
       "    }\n",
       "\n",
       "    .dataframe thead th {\n",
       "        text-align: right;\n",
       "    }\n",
       "</style>\n",
       "<table border=\"1\" class=\"dataframe\">\n",
       "  <thead>\n",
       "    <tr style=\"text-align: right;\">\n",
       "      <th></th>\n",
       "      <th>count</th>\n",
       "      <th>ratio_to_all</th>\n",
       "    </tr>\n",
       "    <tr>\n",
       "      <th>indoor/outdoor</th>\n",
       "      <th></th>\n",
       "      <th></th>\n",
       "    </tr>\n",
       "  </thead>\n",
       "  <tbody>\n",
       "    <tr>\n",
       "      <th>indoor</th>\n",
       "      <td>91</td>\n",
       "      <td>86.667%</td>\n",
       "    </tr>\n",
       "    <tr>\n",
       "      <th>outdoor</th>\n",
       "      <td>14</td>\n",
       "      <td>13.333%</td>\n",
       "    </tr>\n",
       "  </tbody>\n",
       "</table>\n",
       "</div>"
      ],
      "text/plain": [
       "                count ratio_to_all\n",
       "indoor/outdoor                    \n",
       "indoor             91      86.667%\n",
       "outdoor            14      13.333%"
      ]
     },
     "execution_count": 105,
     "metadata": {},
     "output_type": "execute_result"
    }
   ],
   "source": [
    "# indoor/outdoor\n",
    "temp_2 = hb_vid_df.groupby(['indoor/outdoor']).count().rename(columns={'file_name':'count'}).drop('gender', axis=1)\n",
    "temp_2['ratio_to_all'] = temp_2['count'].apply(lambda x: f'{(x/len(hb_vid_df)*100):.3f}%')\n",
    "temp_2"
   ]
  },
  {
   "cell_type": "markdown",
   "id": "7d2eece8-d0e2-4cc4-8dd6-c70e2bf68011",
   "metadata": {
    "tags": []
   },
   "source": [
    "## split-video level"
   ]
  },
  {
   "cell_type": "code",
   "execution_count": 116,
   "id": "2067d7ee-24da-4785-be86-f781a2af2a7d",
   "metadata": {},
   "outputs": [
    {
     "data": {
      "text/html": [
       "<div>\n",
       "<style scoped>\n",
       "    .dataframe tbody tr th:only-of-type {\n",
       "        vertical-align: middle;\n",
       "    }\n",
       "\n",
       "    .dataframe tbody tr th {\n",
       "        vertical-align: top;\n",
       "    }\n",
       "\n",
       "    .dataframe thead th {\n",
       "        text-align: right;\n",
       "    }\n",
       "</style>\n",
       "<table border=\"1\" class=\"dataframe\">\n",
       "  <thead>\n",
       "    <tr style=\"text-align: right;\">\n",
       "      <th></th>\n",
       "      <th>count</th>\n",
       "      <th>percentage</th>\n",
       "    </tr>\n",
       "    <tr>\n",
       "      <th>5-classes-view</th>\n",
       "      <th></th>\n",
       "      <th></th>\n",
       "    </tr>\n",
       "  </thead>\n",
       "  <tbody>\n",
       "    <tr>\n",
       "      <th>back</th>\n",
       "      <td>6</td>\n",
       "      <td>2.679%</td>\n",
       "    </tr>\n",
       "    <tr>\n",
       "      <th>left-tilted</th>\n",
       "      <td>30</td>\n",
       "      <td>13.393%</td>\n",
       "    </tr>\n",
       "    <tr>\n",
       "      <th>right-tilted</th>\n",
       "      <td>26</td>\n",
       "      <td>11.607%</td>\n",
       "    </tr>\n",
       "    <tr>\n",
       "      <th>side</th>\n",
       "      <td>162</td>\n",
       "      <td>72.321%</td>\n",
       "    </tr>\n",
       "  </tbody>\n",
       "</table>\n",
       "</div>"
      ],
      "text/plain": [
       "                count percentage\n",
       "5-classes-view                  \n",
       "back                6     2.679%\n",
       "left-tilted        30    13.393%\n",
       "right-tilted       26    11.607%\n",
       "side              162    72.321%"
      ]
     },
     "execution_count": 116,
     "metadata": {},
     "output_type": "execute_result"
    }
   ],
   "source": [
    "# 5-classes-view\n",
    "df_for = '5-classes-view'\n",
    "col_to_del = list(hb_split_vid_df.columns)\n",
    "col_to_del.remove('file_name')\n",
    "col_to_del.remove(df_for)\n",
    "temp_3 = hb_split_vid_df.groupby([df_for]).count().rename(columns={'file_name':'count'}).drop(col_to_del, axis=1)\n",
    "temp_3['percentage'] = temp_3['count'].apply(lambda x: f'{(x/len(hb_split_vid_df)*100):.3f}%')\n",
    "temp_3"
   ]
  },
  {
   "cell_type": "code",
   "execution_count": 107,
   "id": "f384c39e-b8eb-4708-abfe-360b20890200",
   "metadata": {},
   "outputs": [
    {
     "data": {
      "text/html": [
       "<div>\n",
       "<style scoped>\n",
       "    .dataframe tbody tr th:only-of-type {\n",
       "        vertical-align: middle;\n",
       "    }\n",
       "\n",
       "    .dataframe tbody tr th {\n",
       "        vertical-align: top;\n",
       "    }\n",
       "\n",
       "    .dataframe thead th {\n",
       "        text-align: right;\n",
       "    }\n",
       "</style>\n",
       "<table border=\"1\" class=\"dataframe\">\n",
       "  <thead>\n",
       "    <tr style=\"text-align: right;\">\n",
       "      <th></th>\n",
       "      <th>count</th>\n",
       "      <th>percentage</th>\n",
       "    </tr>\n",
       "    <tr>\n",
       "      <th>position</th>\n",
       "      <th></th>\n",
       "      <th></th>\n",
       "    </tr>\n",
       "  </thead>\n",
       "  <tbody>\n",
       "    <tr>\n",
       "      <th>center</th>\n",
       "      <td>210</td>\n",
       "      <td>93.750%</td>\n",
       "    </tr>\n",
       "    <tr>\n",
       "      <th>left</th>\n",
       "      <td>10</td>\n",
       "      <td>4.464%</td>\n",
       "    </tr>\n",
       "    <tr>\n",
       "      <th>right</th>\n",
       "      <td>4</td>\n",
       "      <td>1.786%</td>\n",
       "    </tr>\n",
       "  </tbody>\n",
       "</table>\n",
       "</div>"
      ],
      "text/plain": [
       "          count percentage\n",
       "position                  \n",
       "center      210    93.750%\n",
       "left         10     4.464%\n",
       "right         4     1.786%"
      ]
     },
     "execution_count": 107,
     "metadata": {},
     "output_type": "execute_result"
    }
   ],
   "source": [
    "# position\n",
    "df_for = 'position'\n",
    "col_to_del = list(hb_split_vid_df.columns)\n",
    "col_to_del.remove('file_name')\n",
    "col_to_del.remove(df_for)\n",
    "temp = hb_split_vid_df.groupby([df_for]).count().rename(columns={'file_name':'count'}).drop(col_to_del, axis=1)\n",
    "temp['percentage'] = temp['count'].apply(lambda x: f'{(x/len(hb_split_vid_df)*100):.3f}%')\n",
    "temp"
   ]
  },
  {
   "cell_type": "code",
   "execution_count": 108,
   "id": "a964fe55-6839-4f94-955c-5e288c55a159",
   "metadata": {},
   "outputs": [
    {
     "data": {
      "text/html": [
       "<div>\n",
       "<style scoped>\n",
       "    .dataframe tbody tr th:only-of-type {\n",
       "        vertical-align: middle;\n",
       "    }\n",
       "\n",
       "    .dataframe tbody tr th {\n",
       "        vertical-align: top;\n",
       "    }\n",
       "\n",
       "    .dataframe thead th {\n",
       "        text-align: right;\n",
       "    }\n",
       "</style>\n",
       "<table border=\"1\" class=\"dataframe\">\n",
       "  <thead>\n",
       "    <tr style=\"text-align: right;\">\n",
       "      <th></th>\n",
       "      <th>count</th>\n",
       "      <th>percentage</th>\n",
       "    </tr>\n",
       "    <tr>\n",
       "      <th>distance</th>\n",
       "      <th></th>\n",
       "      <th></th>\n",
       "    </tr>\n",
       "  </thead>\n",
       "  <tbody>\n",
       "    <tr>\n",
       "      <th>far</th>\n",
       "      <td>34</td>\n",
       "      <td>15.179%</td>\n",
       "    </tr>\n",
       "    <tr>\n",
       "      <th>fit</th>\n",
       "      <td>190</td>\n",
       "      <td>84.821%</td>\n",
       "    </tr>\n",
       "  </tbody>\n",
       "</table>\n",
       "</div>"
      ],
      "text/plain": [
       "          count percentage\n",
       "distance                  \n",
       "far          34    15.179%\n",
       "fit         190    84.821%"
      ]
     },
     "execution_count": 108,
     "metadata": {},
     "output_type": "execute_result"
    }
   ],
   "source": [
    "# distance\n",
    "df_for = 'distance'\n",
    "col_to_del = list(hb_split_vid_df.columns)\n",
    "col_to_del.remove('file_name')\n",
    "col_to_del.remove(df_for)\n",
    "temp = hb_split_vid_df.groupby([df_for]).count().rename(columns={'file_name':'count'}).drop(col_to_del, axis=1)\n",
    "temp['percentage'] = temp['count'].apply(lambda x: f'{(x/len(hb_split_vid_df)*100):.3f}%')\n",
    "temp"
   ]
  },
  {
   "cell_type": "code",
   "execution_count": 109,
   "id": "51e348a6-9918-4130-8e5a-539cb510335c",
   "metadata": {},
   "outputs": [
    {
     "data": {
      "text/html": [
       "<div>\n",
       "<style scoped>\n",
       "    .dataframe tbody tr th:only-of-type {\n",
       "        vertical-align: middle;\n",
       "    }\n",
       "\n",
       "    .dataframe tbody tr th {\n",
       "        vertical-align: top;\n",
       "    }\n",
       "\n",
       "    .dataframe thead th {\n",
       "        text-align: right;\n",
       "    }\n",
       "</style>\n",
       "<table border=\"1\" class=\"dataframe\">\n",
       "  <thead>\n",
       "    <tr style=\"text-align: right;\">\n",
       "      <th></th>\n",
       "      <th>count</th>\n",
       "      <th>percentage</th>\n",
       "    </tr>\n",
       "    <tr>\n",
       "      <th>gender</th>\n",
       "      <th></th>\n",
       "      <th></th>\n",
       "    </tr>\n",
       "  </thead>\n",
       "  <tbody>\n",
       "    <tr>\n",
       "      <th>female</th>\n",
       "      <td>92</td>\n",
       "      <td>41.071%</td>\n",
       "    </tr>\n",
       "    <tr>\n",
       "      <th>male</th>\n",
       "      <td>132</td>\n",
       "      <td>58.929%</td>\n",
       "    </tr>\n",
       "  </tbody>\n",
       "</table>\n",
       "</div>"
      ],
      "text/plain": [
       "        count percentage\n",
       "gender                  \n",
       "female     92    41.071%\n",
       "male      132    58.929%"
      ]
     },
     "execution_count": 109,
     "metadata": {},
     "output_type": "execute_result"
    }
   ],
   "source": [
    "# gender\n",
    "df_for = 'gender'\n",
    "col_to_del = list(hb_split_vid_df.columns)\n",
    "col_to_del.remove('file_name')\n",
    "col_to_del.remove(df_for)\n",
    "temp = hb_split_vid_df.groupby([df_for]).count().rename(columns={'file_name':'count'}).drop(col_to_del, axis=1)\n",
    "temp['percentage'] = temp['count'].apply(lambda x: f'{(x/len(hb_split_vid_df)*100):.3f}%')\n",
    "temp"
   ]
  },
  {
   "cell_type": "code",
   "execution_count": 110,
   "id": "54fa071d-7610-46bc-aa4e-3c2d918e6170",
   "metadata": {},
   "outputs": [
    {
     "data": {
      "text/html": [
       "<div>\n",
       "<style scoped>\n",
       "    .dataframe tbody tr th:only-of-type {\n",
       "        vertical-align: middle;\n",
       "    }\n",
       "\n",
       "    .dataframe tbody tr th {\n",
       "        vertical-align: top;\n",
       "    }\n",
       "\n",
       "    .dataframe thead th {\n",
       "        text-align: right;\n",
       "    }\n",
       "</style>\n",
       "<table border=\"1\" class=\"dataframe\">\n",
       "  <thead>\n",
       "    <tr style=\"text-align: right;\">\n",
       "      <th></th>\n",
       "      <th>count</th>\n",
       "      <th>percentage</th>\n",
       "    </tr>\n",
       "    <tr>\n",
       "      <th>indoor/outdoor</th>\n",
       "      <th></th>\n",
       "      <th></th>\n",
       "    </tr>\n",
       "  </thead>\n",
       "  <tbody>\n",
       "    <tr>\n",
       "      <th>indoor</th>\n",
       "      <td>192</td>\n",
       "      <td>85.714%</td>\n",
       "    </tr>\n",
       "    <tr>\n",
       "      <th>outdoor</th>\n",
       "      <td>32</td>\n",
       "      <td>14.286%</td>\n",
       "    </tr>\n",
       "  </tbody>\n",
       "</table>\n",
       "</div>"
      ],
      "text/plain": [
       "                count percentage\n",
       "indoor/outdoor                  \n",
       "indoor            192    85.714%\n",
       "outdoor            32    14.286%"
      ]
     },
     "execution_count": 110,
     "metadata": {},
     "output_type": "execute_result"
    }
   ],
   "source": [
    "# indoor/outdoor\n",
    "df_for = 'indoor/outdoor'\n",
    "col_to_del = list(hb_split_vid_df.columns)\n",
    "col_to_del.remove('file_name')\n",
    "col_to_del.remove(df_for)\n",
    "temp = hb_split_vid_df.groupby([df_for]).count().rename(columns={'file_name':'count'}).drop(col_to_del, axis=1)\n",
    "temp['percentage'] = temp['count'].apply(lambda x: f'{(x/len(hb_split_vid_df)*100):.3f}%')\n",
    "temp"
   ]
  }
 ],
 "metadata": {
  "kernelspec": {
   "display_name": "ezfit_tf2",
   "language": "python",
   "name": "ezfit_tf2"
  },
  "language_info": {
   "codemirror_mode": {
    "name": "ipython",
    "version": 3
   },
   "file_extension": ".py",
   "mimetype": "text/x-python",
   "name": "python",
   "nbconvert_exporter": "python",
   "pygments_lexer": "ipython3",
   "version": "3.9.4"
  }
 },
 "nbformat": 4,
 "nbformat_minor": 5
}
